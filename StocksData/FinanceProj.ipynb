{
 "cells": [
  {
   "cell_type": "code",
   "execution_count": 1,
   "id": "ecf7b477",
   "metadata": {},
   "outputs": [],
   "source": [
    "#finance project -  finance data"
   ]
  },
  {
   "cell_type": "code",
   "execution_count": 2,
   "id": "ba19ef63",
   "metadata": {},
   "outputs": [],
   "source": [
    "from pandas_datareader import data, wb\n",
    "import pandas as pd\n",
    "import numpy as np\n",
    "import datetime\n",
    "%matplotlib inline"
   ]
  },
  {
   "cell_type": "code",
   "execution_count": 3,
   "id": "0bf40723",
   "metadata": {},
   "outputs": [],
   "source": [
    "#read data "
   ]
  },
  {
   "cell_type": "code",
   "execution_count": 4,
   "id": "a9d6727c",
   "metadata": {},
   "outputs": [],
   "source": [
    "start = datetime.datetime(2006, 1, 1)\n",
    "end = datetime.datetime(2016, 1, 1)"
   ]
  },
  {
   "cell_type": "code",
   "execution_count": 7,
   "id": "015858b6",
   "metadata": {},
   "outputs": [],
   "source": [
    "# Bank of America\n",
    "BAC = data.DataReader(\"BAC\", 'stooq', start, end)\n",
    "\n",
    "# CitiGroup\n",
    "C = data.DataReader(\"C\", 'stooq', start, end)\n",
    "\n",
    "# Goldman Sachs\n",
    "GS = data.DataReader(\"GS\", 'stooq', start, end)\n",
    "\n",
    "# JPMorgan Chase\n",
    "JPM = data.DataReader(\"JPM\", 'stooq', start, end)\n",
    "\n",
    "# Morgan Stanley\n",
    "MS = data.DataReader(\"MS\", 'stooq', start, end)\n",
    "\n",
    "# Wells Fargo\n",
    "WFC = data.DataReader(\"WFC\", 'stooq', start, end)"
   ]
  },
  {
   "cell_type": "code",
   "execution_count": 8,
   "id": "259f21fd",
   "metadata": {},
   "outputs": [
    {
     "data": {
      "text/html": [
       "<div>\n",
       "<style scoped>\n",
       "    .dataframe tbody tr th:only-of-type {\n",
       "        vertical-align: middle;\n",
       "    }\n",
       "\n",
       "    .dataframe tbody tr th {\n",
       "        vertical-align: top;\n",
       "    }\n",
       "\n",
       "    .dataframe thead th {\n",
       "        text-align: right;\n",
       "    }\n",
       "</style>\n",
       "<table border=\"1\" class=\"dataframe\">\n",
       "  <thead>\n",
       "    <tr style=\"text-align: right;\">\n",
       "      <th></th>\n",
       "      <th>Open</th>\n",
       "      <th>High</th>\n",
       "      <th>Low</th>\n",
       "      <th>Close</th>\n",
       "      <th>Volume</th>\n",
       "    </tr>\n",
       "    <tr>\n",
       "      <th>Date</th>\n",
       "      <th></th>\n",
       "      <th></th>\n",
       "      <th></th>\n",
       "      <th></th>\n",
       "      <th></th>\n",
       "    </tr>\n",
       "  </thead>\n",
       "  <tbody>\n",
       "    <tr>\n",
       "      <th>2015-12-31</th>\n",
       "      <td>14.7814</td>\n",
       "      <td>14.8325</td>\n",
       "      <td>14.6233</td>\n",
       "      <td>14.6233</td>\n",
       "      <td>5.417059e+07</td>\n",
       "    </tr>\n",
       "    <tr>\n",
       "      <th>2015-12-30</th>\n",
       "      <td>14.9473</td>\n",
       "      <td>14.9807</td>\n",
       "      <td>14.8070</td>\n",
       "      <td>14.8168</td>\n",
       "      <td>4.030734e+07</td>\n",
       "    </tr>\n",
       "    <tr>\n",
       "      <th>2015-12-29</th>\n",
       "      <td>14.9897</td>\n",
       "      <td>15.0780</td>\n",
       "      <td>14.9130</td>\n",
       "      <td>15.0131</td>\n",
       "      <td>5.251059e+07</td>\n",
       "    </tr>\n",
       "    <tr>\n",
       "      <th>2015-12-28</th>\n",
       "      <td>14.9630</td>\n",
       "      <td>14.9720</td>\n",
       "      <td>14.7539</td>\n",
       "      <td>14.8846</td>\n",
       "      <td>4.803435e+07</td>\n",
       "    </tr>\n",
       "    <tr>\n",
       "      <th>2015-12-24</th>\n",
       "      <td>15.0495</td>\n",
       "      <td>15.1035</td>\n",
       "      <td>14.9630</td>\n",
       "      <td>15.0063</td>\n",
       "      <td>3.380344e+07</td>\n",
       "    </tr>\n",
       "    <tr>\n",
       "      <th>...</th>\n",
       "      <td>...</td>\n",
       "      <td>...</td>\n",
       "      <td>...</td>\n",
       "      <td>...</td>\n",
       "      <td>...</td>\n",
       "    </tr>\n",
       "    <tr>\n",
       "      <th>2006-01-09</th>\n",
       "      <td>39.3182</td>\n",
       "      <td>39.5294</td>\n",
       "      <td>39.0158</td>\n",
       "      <td>39.2181</td>\n",
       "      <td>1.855918e+07</td>\n",
       "    </tr>\n",
       "    <tr>\n",
       "      <th>2006-01-06</th>\n",
       "      <td>39.3850</td>\n",
       "      <td>39.4774</td>\n",
       "      <td>39.0089</td>\n",
       "      <td>39.1917</td>\n",
       "      <td>1.496529e+07</td>\n",
       "    </tr>\n",
       "    <tr>\n",
       "      <th>2006-01-05</th>\n",
       "      <td>39.2004</td>\n",
       "      <td>39.4126</td>\n",
       "      <td>38.9834</td>\n",
       "      <td>39.2525</td>\n",
       "      <td>1.761312e+07</td>\n",
       "    </tr>\n",
       "    <tr>\n",
       "      <th>2006-01-04</th>\n",
       "      <td>39.5549</td>\n",
       "      <td>39.7592</td>\n",
       "      <td>39.0904</td>\n",
       "      <td>39.2004</td>\n",
       "      <td>2.110031e+07</td>\n",
       "    </tr>\n",
       "    <tr>\n",
       "      <th>2006-01-03</th>\n",
       "      <td>39.4871</td>\n",
       "      <td>39.7023</td>\n",
       "      <td>38.8390</td>\n",
       "      <td>39.6217</td>\n",
       "      <td>1.936396e+07</td>\n",
       "    </tr>\n",
       "  </tbody>\n",
       "</table>\n",
       "<p>2517 rows × 5 columns</p>\n",
       "</div>"
      ],
      "text/plain": [
       "               Open     High      Low    Close        Volume\n",
       "Date                                                        \n",
       "2015-12-31  14.7814  14.8325  14.6233  14.6233  5.417059e+07\n",
       "2015-12-30  14.9473  14.9807  14.8070  14.8168  4.030734e+07\n",
       "2015-12-29  14.9897  15.0780  14.9130  15.0131  5.251059e+07\n",
       "2015-12-28  14.9630  14.9720  14.7539  14.8846  4.803435e+07\n",
       "2015-12-24  15.0495  15.1035  14.9630  15.0063  3.380344e+07\n",
       "...             ...      ...      ...      ...           ...\n",
       "2006-01-09  39.3182  39.5294  39.0158  39.2181  1.855918e+07\n",
       "2006-01-06  39.3850  39.4774  39.0089  39.1917  1.496529e+07\n",
       "2006-01-05  39.2004  39.4126  38.9834  39.2525  1.761312e+07\n",
       "2006-01-04  39.5549  39.7592  39.0904  39.2004  2.110031e+07\n",
       "2006-01-03  39.4871  39.7023  38.8390  39.6217  1.936396e+07\n",
       "\n",
       "[2517 rows x 5 columns]"
      ]
     },
     "execution_count": 8,
     "metadata": {},
     "output_type": "execute_result"
    }
   ],
   "source": [
    "BAC"
   ]
  },
  {
   "cell_type": "code",
   "execution_count": 9,
   "id": "b2b8e50f",
   "metadata": {},
   "outputs": [],
   "source": [
    "tickers = ['BAC', 'C', 'GS', 'JPM', 'MS', 'WFC']"
   ]
  },
  {
   "cell_type": "code",
   "execution_count": 10,
   "id": "6ef7b3e1",
   "metadata": {},
   "outputs": [],
   "source": [
    "bank_stocks = pd.concat([BAC, C, GS, JPM, MS, WFC],axis=1,keys=tickers)"
   ]
  },
  {
   "cell_type": "code",
   "execution_count": null,
   "id": "1a8c94a1",
   "metadata": {},
   "outputs": [],
   "source": []
  }
 ],
 "metadata": {
  "kernelspec": {
   "display_name": "Python 3 (ipykernel)",
   "language": "python",
   "name": "python3"
  },
  "language_info": {
   "codemirror_mode": {
    "name": "ipython",
    "version": 3
   },
   "file_extension": ".py",
   "mimetype": "text/x-python",
   "name": "python",
   "nbconvert_exporter": "python",
   "pygments_lexer": "ipython3",
   "version": "3.9.13"
  }
 },
 "nbformat": 4,
 "nbformat_minor": 5
}
