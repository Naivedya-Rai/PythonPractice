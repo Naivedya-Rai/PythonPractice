{
 "cells": [
  {
   "cell_type": "markdown",
   "id": "5b621b26",
   "metadata": {},
   "source": [
    "PLOTLY AND CUFFLINKS"
   ]
  },
  {
   "cell_type": "code",
   "execution_count": 1,
   "id": "d85f21dd",
   "metadata": {},
   "outputs": [],
   "source": [
    "#cufflinks is a productivity tool that allows you to quickly call plots"
   ]
  },
  {
   "cell_type": "code",
   "execution_count": 2,
   "id": "626ca807",
   "metadata": {},
   "outputs": [],
   "source": [
    "import chart_studio.plotly as py"
   ]
  },
  {
   "cell_type": "code",
   "execution_count": 3,
   "id": "88480f5c",
   "metadata": {},
   "outputs": [],
   "source": [
    "#colorscale='ylorbr' projection={'type':'mercator'}"
   ]
  },
  {
   "cell_type": "code",
   "execution_count": 4,
   "id": "b63313b5",
   "metadata": {},
   "outputs": [
    {
     "name": "stdout",
     "output_type": "stream",
     "text": [
      "5.9.0\n"
     ]
    }
   ],
   "source": [
    "import pandas as pd\n",
    "import numpy as np\n",
    "from plotly import __version__\n",
    "print(__version__)"
   ]
  },
  {
   "cell_type": "code",
   "execution_count": 5,
   "id": "3b5d6a55",
   "metadata": {},
   "outputs": [],
   "source": [
    "import cufflinks as cf"
   ]
  },
  {
   "cell_type": "code",
   "execution_count": 8,
   "id": "126193bc",
   "metadata": {},
   "outputs": [],
   "source": [
    "from plotly.offline import download_plotlyjs"
   ]
  },
  {
   "cell_type": "code",
   "execution_count": 10,
   "id": "13f0ba63",
   "metadata": {},
   "outputs": [],
   "source": [
    "from plotly.offline import download_plotlyjs,init_notebook_mode,plot,iplot"
   ]
  },
  {
   "cell_type": "code",
   "execution_count": 12,
   "id": "fdb4e95d",
   "metadata": {},
   "outputs": [
    {
     "data": {
      "text/html": [
       "        <script type=\"text/javascript\">\n",
       "        window.PlotlyConfig = {MathJaxConfig: 'local'};\n",
       "        if (window.MathJax && window.MathJax.Hub && window.MathJax.Hub.Config) {window.MathJax.Hub.Config({SVG: {font: \"STIX-Web\"}});}\n",
       "        if (typeof require !== 'undefined') {\n",
       "        require.undef(\"plotly\");\n",
       "        requirejs.config({\n",
       "            paths: {\n",
       "                'plotly': ['https://cdn.plot.ly/plotly-2.12.1.min']\n",
       "            }\n",
       "        });\n",
       "        require(['plotly'], function(Plotly) {\n",
       "            window._Plotly = Plotly;\n",
       "        });\n",
       "        }\n",
       "        </script>\n",
       "        "
      ]
     },
     "metadata": {},
     "output_type": "display_data"
    },
    {
     "data": {
      "text/html": [
       "        <script type=\"text/javascript\">\n",
       "        window.PlotlyConfig = {MathJaxConfig: 'local'};\n",
       "        if (window.MathJax && window.MathJax.Hub && window.MathJax.Hub.Config) {window.MathJax.Hub.Config({SVG: {font: \"STIX-Web\"}});}\n",
       "        if (typeof require !== 'undefined') {\n",
       "        require.undef(\"plotly\");\n",
       "        requirejs.config({\n",
       "            paths: {\n",
       "                'plotly': ['https://cdn.plot.ly/plotly-2.12.1.min']\n",
       "            }\n",
       "        });\n",
       "        require(['plotly'], function(Plotly) {\n",
       "            window._Plotly = Plotly;\n",
       "        });\n",
       "        }\n",
       "        </script>\n",
       "        "
      ]
     },
     "metadata": {},
     "output_type": "display_data"
    }
   ],
   "source": [
    "init_notebook_mode(connected=True)\n",
    "cf.go_offline()"
   ]
  },
  {
   "cell_type": "code",
   "execution_count": 13,
   "id": "f5d01fdf",
   "metadata": {},
   "outputs": [],
   "source": [
    "#data\n",
    "df = pd.DataFrame(np.random.randn(100,4),columns='A B C D'.split())"
   ]
  },
  {
   "cell_type": "code",
   "execution_count": 14,
   "id": "a70c6581",
   "metadata": {},
   "outputs": [
    {
     "data": {
      "text/html": [
       "<div>\n",
       "<style scoped>\n",
       "    .dataframe tbody tr th:only-of-type {\n",
       "        vertical-align: middle;\n",
       "    }\n",
       "\n",
       "    .dataframe tbody tr th {\n",
       "        vertical-align: top;\n",
       "    }\n",
       "\n",
       "    .dataframe thead th {\n",
       "        text-align: right;\n",
       "    }\n",
       "</style>\n",
       "<table border=\"1\" class=\"dataframe\">\n",
       "  <thead>\n",
       "    <tr style=\"text-align: right;\">\n",
       "      <th></th>\n",
       "      <th>A</th>\n",
       "      <th>B</th>\n",
       "      <th>C</th>\n",
       "      <th>D</th>\n",
       "    </tr>\n",
       "  </thead>\n",
       "  <tbody>\n",
       "    <tr>\n",
       "      <th>0</th>\n",
       "      <td>0.299534</td>\n",
       "      <td>0.628887</td>\n",
       "      <td>1.492482</td>\n",
       "      <td>0.878410</td>\n",
       "    </tr>\n",
       "    <tr>\n",
       "      <th>1</th>\n",
       "      <td>0.220566</td>\n",
       "      <td>1.555209</td>\n",
       "      <td>0.786932</td>\n",
       "      <td>0.413738</td>\n",
       "    </tr>\n",
       "    <tr>\n",
       "      <th>2</th>\n",
       "      <td>-1.056175</td>\n",
       "      <td>-0.202064</td>\n",
       "      <td>0.322731</td>\n",
       "      <td>-0.017982</td>\n",
       "    </tr>\n",
       "    <tr>\n",
       "      <th>3</th>\n",
       "      <td>0.759176</td>\n",
       "      <td>-0.374213</td>\n",
       "      <td>0.608251</td>\n",
       "      <td>-0.984958</td>\n",
       "    </tr>\n",
       "    <tr>\n",
       "      <th>4</th>\n",
       "      <td>0.532652</td>\n",
       "      <td>-1.890135</td>\n",
       "      <td>0.251493</td>\n",
       "      <td>-0.525923</td>\n",
       "    </tr>\n",
       "  </tbody>\n",
       "</table>\n",
       "</div>"
      ],
      "text/plain": [
       "          A         B         C         D\n",
       "0  0.299534  0.628887  1.492482  0.878410\n",
       "1  0.220566  1.555209  0.786932  0.413738\n",
       "2 -1.056175 -0.202064  0.322731 -0.017982\n",
       "3  0.759176 -0.374213  0.608251 -0.984958\n",
       "4  0.532652 -1.890135  0.251493 -0.525923"
      ]
     },
     "execution_count": 14,
     "metadata": {},
     "output_type": "execute_result"
    }
   ],
   "source": [
    "df.head()"
   ]
  },
  {
   "cell_type": "code",
   "execution_count": 15,
   "id": "fa4a2f9e",
   "metadata": {},
   "outputs": [],
   "source": [
    "df2=pd.DataFrame({'Category':['A','B','C'],'Values':[32,43,50]})"
   ]
  },
  {
   "cell_type": "code",
   "execution_count": 16,
   "id": "5884eed8",
   "metadata": {},
   "outputs": [
    {
     "data": {
      "text/html": [
       "<div>\n",
       "<style scoped>\n",
       "    .dataframe tbody tr th:only-of-type {\n",
       "        vertical-align: middle;\n",
       "    }\n",
       "\n",
       "    .dataframe tbody tr th {\n",
       "        vertical-align: top;\n",
       "    }\n",
       "\n",
       "    .dataframe thead th {\n",
       "        text-align: right;\n",
       "    }\n",
       "</style>\n",
       "<table border=\"1\" class=\"dataframe\">\n",
       "  <thead>\n",
       "    <tr style=\"text-align: right;\">\n",
       "      <th></th>\n",
       "      <th>Category</th>\n",
       "      <th>Values</th>\n",
       "    </tr>\n",
       "  </thead>\n",
       "  <tbody>\n",
       "    <tr>\n",
       "      <th>0</th>\n",
       "      <td>A</td>\n",
       "      <td>32</td>\n",
       "    </tr>\n",
       "    <tr>\n",
       "      <th>1</th>\n",
       "      <td>B</td>\n",
       "      <td>43</td>\n",
       "    </tr>\n",
       "    <tr>\n",
       "      <th>2</th>\n",
       "      <td>C</td>\n",
       "      <td>50</td>\n",
       "    </tr>\n",
       "  </tbody>\n",
       "</table>\n",
       "</div>"
      ],
      "text/plain": [
       "  Category  Values\n",
       "0        A      32\n",
       "1        B      43\n",
       "2        C      50"
      ]
     },
     "execution_count": 16,
     "metadata": {},
     "output_type": "execute_result"
    }
   ],
   "source": [
    "df2"
   ]
  },
  {
   "cell_type": "code",
   "execution_count": 17,
   "id": "f7b03868",
   "metadata": {},
   "outputs": [
    {
     "data": {
      "text/html": [
       "<div>\n",
       "<style scoped>\n",
       "    .dataframe tbody tr th:only-of-type {\n",
       "        vertical-align: middle;\n",
       "    }\n",
       "\n",
       "    .dataframe tbody tr th {\n",
       "        vertical-align: top;\n",
       "    }\n",
       "\n",
       "    .dataframe thead th {\n",
       "        text-align: right;\n",
       "    }\n",
       "</style>\n",
       "<table border=\"1\" class=\"dataframe\">\n",
       "  <thead>\n",
       "    <tr style=\"text-align: right;\">\n",
       "      <th></th>\n",
       "      <th>A</th>\n",
       "      <th>B</th>\n",
       "      <th>C</th>\n",
       "      <th>D</th>\n",
       "    </tr>\n",
       "  </thead>\n",
       "  <tbody>\n",
       "    <tr>\n",
       "      <th>0</th>\n",
       "      <td>0.299534</td>\n",
       "      <td>0.628887</td>\n",
       "      <td>1.492482</td>\n",
       "      <td>0.878410</td>\n",
       "    </tr>\n",
       "    <tr>\n",
       "      <th>1</th>\n",
       "      <td>0.220566</td>\n",
       "      <td>1.555209</td>\n",
       "      <td>0.786932</td>\n",
       "      <td>0.413738</td>\n",
       "    </tr>\n",
       "    <tr>\n",
       "      <th>2</th>\n",
       "      <td>-1.056175</td>\n",
       "      <td>-0.202064</td>\n",
       "      <td>0.322731</td>\n",
       "      <td>-0.017982</td>\n",
       "    </tr>\n",
       "    <tr>\n",
       "      <th>3</th>\n",
       "      <td>0.759176</td>\n",
       "      <td>-0.374213</td>\n",
       "      <td>0.608251</td>\n",
       "      <td>-0.984958</td>\n",
       "    </tr>\n",
       "    <tr>\n",
       "      <th>4</th>\n",
       "      <td>0.532652</td>\n",
       "      <td>-1.890135</td>\n",
       "      <td>0.251493</td>\n",
       "      <td>-0.525923</td>\n",
       "    </tr>\n",
       "    <tr>\n",
       "      <th>...</th>\n",
       "      <td>...</td>\n",
       "      <td>...</td>\n",
       "      <td>...</td>\n",
       "      <td>...</td>\n",
       "    </tr>\n",
       "    <tr>\n",
       "      <th>95</th>\n",
       "      <td>-0.094207</td>\n",
       "      <td>-1.842875</td>\n",
       "      <td>-0.210226</td>\n",
       "      <td>-2.310411</td>\n",
       "    </tr>\n",
       "    <tr>\n",
       "      <th>96</th>\n",
       "      <td>0.136829</td>\n",
       "      <td>0.406469</td>\n",
       "      <td>1.130685</td>\n",
       "      <td>-0.326117</td>\n",
       "    </tr>\n",
       "    <tr>\n",
       "      <th>97</th>\n",
       "      <td>-0.624244</td>\n",
       "      <td>-0.147597</td>\n",
       "      <td>1.141107</td>\n",
       "      <td>2.338804</td>\n",
       "    </tr>\n",
       "    <tr>\n",
       "      <th>98</th>\n",
       "      <td>-0.608008</td>\n",
       "      <td>-0.880406</td>\n",
       "      <td>1.032358</td>\n",
       "      <td>-0.334132</td>\n",
       "    </tr>\n",
       "    <tr>\n",
       "      <th>99</th>\n",
       "      <td>-0.335483</td>\n",
       "      <td>-1.580823</td>\n",
       "      <td>0.227087</td>\n",
       "      <td>-0.100191</td>\n",
       "    </tr>\n",
       "  </tbody>\n",
       "</table>\n",
       "<p>100 rows × 4 columns</p>\n",
       "</div>"
      ],
      "text/plain": [
       "           A         B         C         D\n",
       "0   0.299534  0.628887  1.492482  0.878410\n",
       "1   0.220566  1.555209  0.786932  0.413738\n",
       "2  -1.056175 -0.202064  0.322731 -0.017982\n",
       "3   0.759176 -0.374213  0.608251 -0.984958\n",
       "4   0.532652 -1.890135  0.251493 -0.525923\n",
       "..       ...       ...       ...       ...\n",
       "95 -0.094207 -1.842875 -0.210226 -2.310411\n",
       "96  0.136829  0.406469  1.130685 -0.326117\n",
       "97 -0.624244 -0.147597  1.141107  2.338804\n",
       "98 -0.608008 -0.880406  1.032358 -0.334132\n",
       "99 -0.335483 -1.580823  0.227087 -0.100191\n",
       "\n",
       "[100 rows x 4 columns]"
      ]
     },
     "execution_count": 17,
     "metadata": {},
     "output_type": "execute_result"
    }
   ],
   "source": [
    "df"
   ]
  },
  {
   "cell_type": "code",
   "execution_count": 18,
   "id": "03edc477",
   "metadata": {},
   "outputs": [
    {
     "data": {
      "text/plain": [
       "<AxesSubplot:>"
      ]
     },
     "execution_count": 18,
     "metadata": {},
     "output_type": "execute_result"
    },
    {
     "data": {
      "image/png": "[encoded data removed]",
      "text/plain": [
       "<Figure size 640x480 with 1 Axes>"
      ]
     },
     "metadata": {},
     "output_type": "display_data"
    }
   ],
   "source": [
    "df.plot()"
   ]
  },
  {
   "cell_type": "code",
   "execution_count": 19,
   "id": "f06af65e",
   "metadata": {},
   "outputs": [],
   "source": [
    "%matplotlib inline"
   ]
  },
  {
   "cell_type": "code",
   "execution_count": 20,
   "id": "246e9d5a",
   "metadata": {},
   "outputs": [
    {
     "data": {
      "application/vnd.plotly.v1+json": {
       "config": {
        "linkText": "Export to plot.ly",
        "plotlyServerURL": "https://plot.ly",
        "showLink": true
       },
       "data": [
        {
         "line": {
          "color": "rgba(255, 153, 51, 1.0)",
          "dash": "solid",
          "shape": "linear",
          "width": 1.3
         },
         "mode": "lines",
         "name": "A",
         "text": "",
         "type": "scatter",
         "x": [
          0,
          1,
          2,
          3,
          4,
          5,
          6,
          7,
          8,
          9,
          10,
          11,
          12,
          13,
          14,
          15,
          16,
          17,
          18,
          19,
          20,
          21,
          22,
          23,
          24,
          25,
          26,
          27,
          28,
          29,
          30,
          31,
          32,
          33,
          34,
          35,
          36,
          37,
          38,
          39,
          40,
          41,
          42,
          43,
          44,
          45,
          46,
          47,
          48,
          49,
          50,
          51,
          52,
          53,
          54,
          55,
          56,
          57,
          58,
          59,
          60,
          61,
          62,
          63,
          64,
          65,
          66,
          67,
          68,
          69,
          70,
          71,
          72,
          73,
          74,
          75,
          76,
          77,
          78,
          79,
          80,
          81,
          82,
          83,
          84,
          85,
          86,
          87,
          88,
          89,
          90,
          91,
          92,
          93,
          94,
          95,
          96,
          97,
          98,
          99
         ],
         "y": [
          0.2995340644905276,
          0.2205656269030712,
          -1.056174561092009,
          0.7591755781504027,
          0.5326518825067723,
          1.3044295669802999,
          1.3281748768339667,
          -0.09922890207163876,
          0.6072907830909519,
          1.1826119307800274,
          0.3200674123294725,
          -1.3012890682412424,
          0.39931988429912135,
          -0.34879285248827946,
          -0.7832437352797109,
          0.24797886378743955,
          -2.8773605354838225,
          -0.41107805336817005,
          0.5428332832960278,
          -0.34202223323909137,
          0.6703636476801402,
          0.47056109501637966,
          0.5846164712351315,
          -0.8661517063929928,
          0.44216954122070445,
          0.5363106882328338,
          -0.27977714813382293,
          0.4380768982907296,
          -1.4402841454482886,
          0.256393582261463,
          1.6549149482388437,
          -1.3228705669839567,
          -0.7548185531120883,
          0.44297261355922846,
          1.3580577186497258,
          -0.5112296882385694,
          1.5741392211439416,
          0.13109722398933546,
          -1.4680827312451141,
          -0.6059423946677869,
          0.144459267134369,
          0.3021717007693336,
          -0.22744784266075352,
          0.03450363264569284,
          0.05177307263761155,
          0.1399332902663523,
          1.0229527181140547,
          -2.6321782638398714,
          0.7745092754158753,
          -1.5926248522708426,
          -0.7031009714908845,
          0.6710809023395671,
          -0.1438163725324016,
          0.5082776496708439,
          0.0767121365819478,
          0.6457023848381208,
          -0.3580314419038346,
          -0.774839310285214,
          -0.43466021347224676,
          -1.6000577779988623,
          0.5086471535040138,
          0.37958854995049945,
          -1.0104442910961025,
          -0.1514509188462034,
          -0.12732690203447797,
          0.8209231907729551,
          -0.22640327123432807,
          1.4349981836183903,
          0.6890109446047313,
          1.0775411458507147,
          0.29266013334010743,
          0.3923131280672186,
          -0.7821903721721409,
          -1.2087665128305551,
          -0.04005064789093992,
          0.586175941448245,
          -0.39450460865418874,
          0.7192182080202476,
          1.8882833172200184,
          0.8341960000980053,
          0.049935991907428666,
          0.47937322066761195,
          0.07588343334653969,
          -0.2526301622266612,
          -0.5289099932191659,
          -0.10700710269370067,
          -0.4631513345001443,
          -0.3924250958303068,
          1.3819170930309186,
          -1.0229272234878124,
          -0.8612817624400896,
          -1.3485764993188754,
          1.9759061035618044,
          -0.9223448984827978,
          -1.0472531006509647,
          -0.09420726481422516,
          0.13682879551914487,
          -0.6242439989143544,
          -0.6080082561687519,
          -0.335483037163409
         ]
        },
        {
         "line": {
          "color": "rgba(55, 128, 191, 1.0)",
          "dash": "solid",
          "shape": "linear",
          "width": 1.3
         },
         "mode": "lines",
         "name": "B",
         "text": "",
         "type": "scatter",
         "x": [
          0,
          1,
          2,
          3,
          4,
          5,
          6,
          7,
          8,
          9,
          10,
          11,
          12,
          13,
          14,
          15,
          16,
          17,
          18,
          19,
          20,
          21,
          22,
          23,
          24,
          25,
          26,
          27,
          28,
          29,
          30,
          31,
          32,
          33,
          34,
          35,
          36,
          37,
          38,
          39,
          40,
          41,
          42,
          43,
          44,
          45,
          46,
          47,
          48,
          49,
          50,
          51,
          52,
          53,
          54,
          55,
          56,
          57,
          58,
          59,
          60,
          61,
          62,
          63,
          64,
          65,
          66,
          67,
          68,
          69,
          70,
          71,
          72,
          73,
          74,
          75,
          76,
          77,
          78,
          79,
          80,
          81,
          82,
          83,
          84,
          85,
          86,
          87,
          88,
          89,
          90,
          91,
          92,
          93,
          94,
          95,
          96,
          97,
          98,
          99
         ],
         "y": [
          0.6288873106968625,
          1.5552086644040435,
          -0.2020635486518468,
          -0.37421286494601835,
          -1.8901354714158451,
          1.1642455262282074,
          -1.0335669426310594,
          -0.6453012578613595,
          -2.500063217723074,
          0.6208790462589199,
          -0.33919024377178775,
          -0.6323417396484956,
          -1.1042370872644787,
          0.687990530703836,
          -0.29482934295310004,
          -1.760993482777496,
          0.4013839131768914,
          -0.19128337287568414,
          0.38831658519353085,
          1.1022164676082287,
          -0.7658403159220927,
          0.39746202290875726,
          0.05253399825030649,
          -1.2986978680790244,
          0.5516764900142631,
          0.9594352288580066,
          -1.6176146758116843,
          0.566234817380164,
          0.03291261568889055,
          -0.10412367010856544,
          0.18813480982253722,
          0.33139764237225916,
          -0.4352051883947046,
          -0.1850665849362166,
          1.977129824661224,
          -0.716727900543721,
          -0.9962485346727465,
          2.1457330602622915,
          1.4786805379182806,
          -0.3073961040236371,
          0.5190635210197534,
          -0.2977117536092024,
          1.07655420499391,
          1.6402869584964106,
          -0.6736312859201243,
          -0.5421796901027264,
          0.2609352631947877,
          -0.2243329499018594,
          0.1421432931661823,
          1.093261930610181,
          0.30912184023215555,
          0.5274847296838001,
          -0.8482473955350368,
          -1.1740459296667167,
          0.12050195080175524,
          0.6917000321710234,
          -0.24954254013796354,
          -0.0555574867666861,
          -0.11674030611528681,
          -1.334786476612104,
          -0.7223974650682061,
          1.4343193468848872,
          -1.3171815064176886,
          -0.6898579117892474,
          -0.30456626778121365,
          -0.38585924100511965,
          -0.8134747561637852,
          2.010879165813113,
          1.8244088747007474,
          -0.3670493932221158,
          0.03065143496118238,
          -0.6766752794932412,
          -0.21596160514515156,
          -0.3343960409842762,
          -0.5872454814216169,
          -0.2983674285813973,
          0.2681694412271725,
          -0.5871780526557453,
          0.6345911247702245,
          -0.48125080520848557,
          -1.537351065621091,
          0.6715502994413234,
          -0.7553536888819133,
          0.7274770340599817,
          0.38331131279465536,
          0.20240429935781595,
          -0.03698531065937211,
          0.7746536546150867,
          -0.12743883677501958,
          -0.6009991380090095,
          0.7150308408538082,
          0.8401271366581022,
          -1.8596498898007021,
          -1.3339806032828878,
          -0.22198748420879716,
          -1.8428750875481898,
          0.4064685378532878,
          -0.1475973932807723,
          -0.8804055552297537,
          -1.580823041015511
         ]
        },
        {
         "line": {
          "color": "rgba(50, 171, 96, 1.0)",
          "dash": "solid",
          "shape": "linear",
          "width": 1.3
         },
         "mode": "lines",
         "name": "C",
         "text": "",
         "type": "scatter",
         "x": [
          0,
          1,
          2,
          3,
          4,
          5,
          6,
          7,
          8,
          9,
          10,
          11,
          12,
          13,
          14,
          15,
          16,
          17,
          18,
          19,
          20,
          21,
          22,
          23,
          24,
          25,
          26,
          27,
          28,
          29,
          30,
          31,
          32,
          33,
          34,
          35,
          36,
          37,
          38,
          39,
          40,
          41,
          42,
          43,
          44,
          45,
          46,
          47,
          48,
          49,
          50,
          51,
          52,
          53,
          54,
          55,
          56,
          57,
          58,
          59,
          60,
          61,
          62,
          63,
          64,
          65,
          66,
          67,
          68,
          69,
          70,
          71,
          72,
          73,
          74,
          75,
          76,
          77,
          78,
          79,
          80,
          81,
          82,
          83,
          84,
          85,
          86,
          87,
          88,
          89,
          90,
          91,
          92,
          93,
          94,
          95,
          96,
          97,
          98,
          99
         ],
         "y": [
          1.4924820594701595,
          0.7869320413273678,
          0.32273074575160593,
          0.6082508425877736,
          0.2514930413665632,
          -0.4034861638206237,
          -0.5768681716474443,
          0.6856012702187398,
          -1.7068889895044812,
          2.0385721334530302,
          -0.8191936955348694,
          -0.13602903900798372,
          0.9667930631260175,
          0.0006992865771992262,
          0.39111968811096387,
          -0.43540783703434993,
          -0.3221271598960024,
          1.514266460244137,
          -0.020695230765908058,
          1.035430942071528,
          0.6506811637253885,
          -1.145913181938134,
          -0.34697751515819814,
          0.5722502898175891,
          -0.7519895563251693,
          1.9776712105857348,
          0.3372495147021022,
          -0.4395212659175542,
          -1.2050237800542114,
          -0.06537901172259553,
          -0.5797928888875487,
          -1.431944247132665,
          3.0903555244262755,
          -0.6651819863410234,
          -1.8564840845463624,
          -0.2717618053538439,
          -0.10389500197897769,
          1.0364867265617488,
          -0.6559090419483852,
          0.29752590565428155,
          1.0219876099372784,
          -2.442035360843184,
          0.850123129127888,
          0.24684047283695598,
          -0.3678949207276394,
          -0.7883469321527289,
          1.6771022341276227,
          0.9389046366431055,
          -1.8881830834792284,
          0.5713559181159971,
          -1.3460438578180391,
          -0.3668246713811393,
          -0.3500860505947476,
          -0.3964023791091147,
          0.24512962516339712,
          -1.1552665030490763,
          0.09138475183594481,
          -0.22696740865481954,
          0.8208391263967445,
          -0.19519785712563537,
          -1.3695877423647327,
          -0.5385789870693948,
          0.6416446055778066,
          0.1382865607176138,
          1.000976342056877,
          -0.6824060028252374,
          0.48166835711151784,
          -1.7697737629288337,
          -0.6571145004145996,
          0.1894110624135475,
          0.9810977645999668,
          -1.0499061540091557,
          0.6730116130030037,
          2.112389062467758,
          0.04722673653972112,
          0.5370038684396691,
          -0.8236499029151352,
          -0.9230905362969907,
          0.2880332090928785,
          0.20315760791893966,
          0.2603532879125389,
          -1.2692769502035877,
          -0.8287321214176975,
          -0.07163646942393866,
          -0.4651101256940488,
          -0.8578945848200039,
          0.0891853556732661,
          -0.17394563516085862,
          -0.0507649119885555,
          -0.6267804040324925,
          -0.770225541117248,
          0.846148721475124,
          -0.2500008631262009,
          -1.6556309939729155,
          -0.8753658192097954,
          -0.2102264072150913,
          1.1306846851390011,
          1.1411074885543189,
          1.0323578639940127,
          0.22708670869310604
         ]
        },
        {
         "line": {
          "color": "rgba(128, 0, 128, 1.0)",
          "dash": "solid",
          "shape": "linear",
          "width": 1.3
         },
         "mode": "lines",
         "name": "D",
         "text": "",
         "type": "scatter",
         "x": [
          0,
          1,
          2,
          3,
          4,
          5,
          6,
          7,
          8,
          9,
          10,
          11,
          12,
          13,
          14,
          15,
          16,
          17,
          18,
          19,
          20,
          21,
          22,
          23,
          24,
          25,
          26,
          27,
          28,
          29,
          30,
          31,
          32,
          33,
          34,
          35,
          36,
          37,
          38,
          39,
          40,
          41,
          42,
          43,
          44,
          45,
          46,
          47,
          48,
          49,
          50,
          51,
          52,
          53,
          54,
          55,
          56,
          57,
          58,
          59,
          60,
          61,
          62,
          63,
          64,
          65,
          66,
          67,
          68,
          69,
          70,
          71,
          72,
          73,
          74,
          75,
          76,
          77,
          78,
          79,
          80,
          81,
          82,
          83,
          84,
          85,
          86,
          87,
          88,
          89,
          90,
          91,
          92,
          93,
          94,
          95,
          96,
          97,
          98,
          99
         ],
         "y": [
          0.8784097635079271,
          0.41373833465411486,
          -0.017982234333353768,
          -0.9849581469253769,
          -0.525922792414035,
          -1.5758495572561193,
          -2.6008494818189343,
          0.08321481462802557,
          -0.5621103549964049,
          -0.666115045990679,
          -0.22509352690535678,
          -1.0643184410464175,
          0.22251579823925932,
          0.5986063082126469,
          0.11459219679383639,
          0.7593125165744864,
          0.2103290172024642,
          -2.017164157575092,
          -0.06478200186368004,
          0.8445371088727064,
          0.45596778382233266,
          -0.820671089748138,
          -0.10983235640478299,
          -0.4939671612088846,
          -1.4432782231781656,
          1.2936663433198556,
          -0.7127750389182068,
          -1.2837432002030262,
          -0.4005004052185187,
          -0.3282063282740504,
          -0.6850873197215348,
          -0.028277280860713516,
          1.2303787242796584,
          0.8794190943231905,
          -0.2728446264895277,
          0.09732640946867503,
          -0.11355883865903231,
          0.2128139309813744,
          -0.38963892316985477,
          0.12767461473080274,
          -0.09920015714668835,
          0.26371995379552415,
          -0.4434420199859188,
          -0.5607970551495925,
          2.063900563398957,
          -1.4857712119266875,
          0.007075658199432495,
          1.2878039096650393,
          -0.20469356440844869,
          -1.0443218157028409,
          0.30572575901613863,
          0.9186397492736501,
          0.463455305324779,
          0.5485539996955462,
          -0.2680810662274818,
          -0.9398484005231073,
          -0.15197786833529853,
          -0.021104928437870044,
          -0.7163874781331797,
          -0.07781558751246322,
          -0.5088178501681737,
          -0.3759080073603766,
          0.57215110217102,
          -0.3459356400266322,
          0.5123513245767716,
          1.8156822307430185,
          -1.5987878127320017,
          0.9828016670135185,
          -0.3987342334756005,
          1.553709645102389,
          -0.7930389415923372,
          -0.7878647849157575,
          -2.47437913953804,
          -1.0697479981823497,
          0.04802162487314175,
          -0.8340213258052468,
          0.8393512676752578,
          -0.6399858404914921,
          0.401629816409806,
          -0.08581239209276978,
          1.0681103969845536,
          -0.08160047220364465,
          0.09482987517133963,
          0.3768970125500851,
          1.3322319124126047,
          -0.23802377313554726,
          0.5443599989176237,
          0.2640731149237633,
          0.2516458614493047,
          -0.30819230362295347,
          -0.4297721916496139,
          0.493865700710478,
          2.073198652660911,
          -0.6036327703946305,
          -0.84105157047565,
          -2.3104107765592623,
          -0.32611725470856845,
          2.3388040250701154,
          -0.33413233446227103,
          -0.10019130753522917
         ]
        }
       ],
       "layout": {
        "legend": {
         "bgcolor": "#F5F6F9",
         "font": {
          "color": "#4D5663"
         }
        },
        "paper_bgcolor": "#F5F6F9",
        "plot_bgcolor": "#F5F6F9",
        "template": {
         "data": {
          "bar": [
           {
            "error_x": {
             "color": "#2a3f5f"
            },
            "error_y": {
             "color": "#2a3f5f"
            },
            "marker": {
             "line": {
              "color": "#E5ECF6",
              "width": 0.5
             },
             "pattern": {
              "fillmode": "overlay",
              "size": 10,
              "solidity": 0.2
             }
            },
            "type": "bar"
           }
          ],
          "barpolar": [
           {
            "marker": {
             "line": {
              "color": "#E5ECF6",
              "width": 0.5
             },
             "pattern": {
              "fillmode": "overlay",
              "size": 10,
              "solidity": 0.2
             }
            },
            "type": "barpolar"
           }
          ],
          "carpet": [
           {
            "aaxis": {
             "endlinecolor": "#2a3f5f",
             "gridcolor": "white",
             "linecolor": "white",
             "minorgridcolor": "white",
             "startlinecolor": "#2a3f5f"
            },
            "baxis": {
             "endlinecolor": "#2a3f5f",
             "gridcolor": "white",
             "linecolor": "white",
             "minorgridcolor": "white",
             "startlinecolor": "#2a3f5f"
            },
            "type": "carpet"
           }
          ],
          "choropleth": [
           {
            "colorbar": {
             "outlinewidth": 0,
             "ticks": ""
            },
            "type": "choropleth"
           }
          ],
          "contour": [
           {
            "colorbar": {
             "outlinewidth": 0,
             "ticks": ""
            },
            "colorscale": [
             [
              0,
              "#0d0887"
             ],
             [
              0.1111111111111111,
              "#46039f"
             ],
             [
              0.2222222222222222,
              "#7201a8"
             ],
             [
              0.3333333333333333,
              "#9c179e"
             ],
             [
              0.4444444444444444,
              "#bd3786"
             ],
             [
              0.5555555555555556,
              "#d8576b"
             ],
             [
              0.6666666666666666,
              "#ed7953"
             ],
             [
              0.7777777777777778,
              "#fb9f3a"
             ],
             [
              0.8888888888888888,
              "#fdca26"
             ],
             [
              1,
              "#f0f921"
             ]
            ],
            "type": "contour"
           }
          ],
          "contourcarpet": [
           {
            "colorbar": {
             "outlinewidth": 0,
             "ticks": ""
            },
            "type": "contourcarpet"
           }
          ],
          "heatmap": [
           {
            "colorbar": {
             "outlinewidth": 0,
             "ticks": ""
            },
            "colorscale": [
             [
              0,
              "#0d0887"
             ],
             [
              0.1111111111111111,
              "#46039f"
             ],
             [
              0.2222222222222222,
              "#7201a8"
             ],
             [
              0.3333333333333333,
              "#9c179e"
             ],
             [
              0.4444444444444444,
              "#bd3786"
             ],
             [
              0.5555555555555556,
              "#d8576b"
             ],
             [
              0.6666666666666666,
              "#ed7953"
             ],
             [
              0.7777777777777778,
              "#fb9f3a"
             ],
             [
              0.8888888888888888,
              "#fdca26"
             ],
             [
              1,
              "#f0f921"
             ]
            ],
            "type": "heatmap"
           }
          ],
          "heatmapgl": [
           {
            "colorbar": {
             "outlinewidth": 0,
             "ticks": ""
            },
            "colorscale": [
             [
              0,
              "#0d0887"
             ],
             [
              0.1111111111111111,
              "#46039f"
             ],
             [
              0.2222222222222222,
              "#7201a8"
             ],
             [
              0.3333333333333333,
              "#9c179e"
             ],
             [
              0.4444444444444444,
              "#bd3786"
             ],
             [
              0.5555555555555556,
              "#d8576b"
             ],
             [
              0.6666666666666666,
              "#ed7953"
             ],
             [
              0.7777777777777778,
              "#fb9f3a"
             ],
             [
              0.8888888888888888,
              "#fdca26"
             ],
             [
              1,
              "#f0f921"
             ]
            ],
            "type": "heatmapgl"
           }
          ],
          "histogram": [
           {
            "marker": {
             "pattern": {
              "fillmode": "overlay",
              "size": 10,
              "solidity": 0.2
             }
            },
            "type": "histogram"
           }
          ],
          "histogram2d": [
           {
            "colorbar": {
             "outlinewidth": 0,
             "ticks": ""
            },
            "colorscale": [
             [
              0,
              "#0d0887"
             ],
             [
              0.1111111111111111,
              "#46039f"
             ],
             [
              0.2222222222222222,
              "#7201a8"
             ],
             [
              0.3333333333333333,
              "#9c179e"
             ],
             [
              0.4444444444444444,
              "#bd3786"
             ],
             [
              0.5555555555555556,
              "#d8576b"
             ],
             [
              0.6666666666666666,
              "#ed7953"
             ],
             [
              0.7777777777777778,
              "#fb9f3a"
             ],
             [
              0.8888888888888888,
              "#fdca26"
             ],
             [
              1,
              "#f0f921"
             ]
            ],
            "type": "histogram2d"
           }
          ],
          "histogram2dcontour": [
           {
            "colorbar": {
             "outlinewidth": 0,
             "ticks": ""
            },
            "colorscale": [
             [
              0,
              "#0d0887"
             ],
             [
              0.1111111111111111,
              "#46039f"
             ],
             [
              0.2222222222222222,
              "#7201a8"
             ],
             [
              0.3333333333333333,
              "#9c179e"
             ],
             [
              0.4444444444444444,
              "#bd3786"
             ],
             [
              0.5555555555555556,
              "#d8576b"
             ],
             [
              0.6666666666666666,
              "#ed7953"
             ],
             [
              0.7777777777777778,
              "#fb9f3a"
             ],
             [
              0.8888888888888888,
              "#fdca26"
             ],
             [
              1,
              "#f0f921"
             ]
            ],
            "type": "histogram2dcontour"
           }
          ],
          "mesh3d": [
           {
            "colorbar": {
             "outlinewidth": 0,
             "ticks": ""
            },
            "type": "mesh3d"
           }
          ],
          "parcoords": [
           {
            "line": {
             "colorbar": {
              "outlinewidth": 0,
              "ticks": ""
             }
            },
            "type": "parcoords"
           }
          ],
          "pie": [
           {
            "automargin": true,
            "type": "pie"
           }
          ],
          "scatter": [
           {
            "fillpattern": {
             "fillmode": "overlay",
             "size": 10,
             "solidity": 0.2
            },
            "type": "scatter"
           }
          ],
          "scatter3d": [
           {
            "line": {
             "colorbar": {
              "outlinewidth": 0,
              "ticks": ""
             }
            },
            "marker": {
             "colorbar": {
              "outlinewidth": 0,
              "ticks": ""
             }
            },
            "type": "scatter3d"
           }
          ],
          "scattercarpet": [
           {
            "marker": {
             "colorbar": {
              "outlinewidth": 0,
              "ticks": ""
             }
            },
            "type": "scattercarpet"
           }
          ],
          "scattergeo": [
           {
            "marker": {
             "colorbar": {
              "outlinewidth": 0,
              "ticks": ""
             }
            },
            "type": "scattergeo"
           }
          ],
          "scattergl": [
           {
            "marker": {
             "colorbar": {
              "outlinewidth": 0,
              "ticks": ""
             }
            },
            "type": "scattergl"
           }
          ],
          "scattermapbox": [
           {
            "marker": {
             "colorbar": {
              "outlinewidth": 0,
              "ticks": ""
             }
            },
            "type": "scattermapbox"
           }
          ],
          "scatterpolar": [
           {
            "marker": {
             "colorbar": {
              "outlinewidth": 0,
              "ticks": ""
             }
            },
            "type": "scatterpolar"
           }
          ],
          "scatterpolargl": [
           {
            "marker": {
             "colorbar": {
              "outlinewidth": 0,
              "ticks": ""
             }
            },
            "type": "scatterpolargl"
           }
          ],
          "scatterternary": [
           {
            "marker": {
             "colorbar": {
              "outlinewidth": 0,
              "ticks": ""
             }
            },
            "type": "scatterternary"
           }
          ],
          "surface": [
           {
            "colorbar": {
             "outlinewidth": 0,
             "ticks": ""
            },
            "colorscale": [
             [
              0,
              "#0d0887"
             ],
             [
              0.1111111111111111,
              "#46039f"
             ],
             [
              0.2222222222222222,
              "#7201a8"
             ],
             [
              0.3333333333333333,
              "#9c179e"
             ],
             [
              0.4444444444444444,
              "#bd3786"
             ],
             [
              0.5555555555555556,
              "#d8576b"
             ],
             [
              0.6666666666666666,
              "#ed7953"
             ],
             [
              0.7777777777777778,
              "#fb9f3a"
             ],
             [
              0.8888888888888888,
              "#fdca26"
             ],
             [
              1,
              "#f0f921"
             ]
            ],
            "type": "surface"
           }
          ],
          "table": [
           {
            "cells": {
             "fill": {
              "color": "#EBF0F8"
             },
             "line": {
              "color": "white"
             }
            },
            "header": {
             "fill": {
              "color": "#C8D4E3"
             },
             "line": {
              "color": "white"
             }
            },
            "type": "table"
           }
          ]
         },
         "layout": {
          "annotationdefaults": {
           "arrowcolor": "#2a3f5f",
           "arrowhead": 0,
           "arrowwidth": 1
          },
          "autotypenumbers": "strict",
          "coloraxis": {
           "colorbar": {
            "outlinewidth": 0,
            "ticks": ""
           }
          },
          "colorscale": {
           "diverging": [
            [
             0,
             "#8e0152"
            ],
            [
             0.1,
             "#c51b7d"
            ],
            [
             0.2,
             "#de77ae"
            ],
            [
             0.3,
             "#f1b6da"
            ],
            [
             0.4,
             "#fde0ef"
            ],
            [
             0.5,
             "#f7f7f7"
            ],
            [
             0.6,
             "#e6f5d0"
            ],
            [
             0.7,
             "#b8e186"
            ],
            [
             0.8,
             "#7fbc41"
            ],
            [
             0.9,
             "#4d9221"
            ],
            [
             1,
             "#276419"
            ]
           ],
           "sequential": [
            [
             0,
             "#0d0887"
            ],
            [
             0.1111111111111111,
             "#46039f"
            ],
            [
             0.2222222222222222,
             "#7201a8"
            ],
            [
             0.3333333333333333,
             "#9c179e"
            ],
            [
             0.4444444444444444,
             "#bd3786"
            ],
            [
             0.5555555555555556,
             "#d8576b"
            ],
            [
             0.6666666666666666,
             "#ed7953"
            ],
            [
             0.7777777777777778,
             "#fb9f3a"
            ],
            [
             0.8888888888888888,
             "#fdca26"
            ],
            [
             1,
             "#f0f921"
            ]
           ],
           "sequentialminus": [
            [
             0,
             "#0d0887"
            ],
            [
             0.1111111111111111,
             "#46039f"
            ],
            [
             0.2222222222222222,
             "#7201a8"
            ],
            [
             0.3333333333333333,
             "#9c179e"
            ],
            [
             0.4444444444444444,
             "#bd3786"
            ],
            [
             0.5555555555555556,
             "#d8576b"
            ],
            [
             0.6666666666666666,
             "#ed7953"
            ],
            [
             0.7777777777777778,
             "#fb9f3a"
            ],
            [
             0.8888888888888888,
             "#fdca26"
            ],
            [
             1,
             "#f0f921"
            ]
           ]
          },
          "colorway": [
           "#636efa",
           "#EF553B",
           "#00cc96",
           "#ab63fa",
           "#FFA15A",
           "#19d3f3",
           "#FF6692",
           "#B6E880",
           "#FF97FF",
           "#FECB52"
          ],
          "font": {
           "color": "#2a3f5f"
          },
          "geo": {
           "bgcolor": "white",
           "lakecolor": "white",
           "landcolor": "#E5ECF6",
           "showlakes": true,
           "showland": true,
           "subunitcolor": "white"
          },
          "hoverlabel": {
           "align": "left"
          },
          "hovermode": "closest",
          "mapbox": {
           "style": "light"
          },
          "paper_bgcolor": "white",
          "plot_bgcolor": "#E5ECF6",
          "polar": {
           "angularaxis": {
            "gridcolor": "white",
            "linecolor": "white",
            "ticks": ""
           },
           "bgcolor": "#E5ECF6",
           "radialaxis": {
            "gridcolor": "white",
            "linecolor": "white",
            "ticks": ""
           }
          },
          "scene": {
           "xaxis": {
            "backgroundcolor": "#E5ECF6",
            "gridcolor": "white",
            "gridwidth": 2,
            "linecolor": "white",
            "showbackground": true,
            "ticks": "",
            "zerolinecolor": "white"
           },
           "yaxis": {
            "backgroundcolor": "#E5ECF6",
            "gridcolor": "white",
            "gridwidth": 2,
            "linecolor": "white",
            "showbackground": true,
            "ticks": "",
            "zerolinecolor": "white"
           },
           "zaxis": {
            "backgroundcolor": "#E5ECF6",
            "gridcolor": "white",
            "gridwidth": 2,
            "linecolor": "white",
            "showbackground": true,
            "ticks": "",
            "zerolinecolor": "white"
           }
          },
          "shapedefaults": {
           "line": {
            "color": "#2a3f5f"
           }
          },
          "ternary": {
           "aaxis": {
            "gridcolor": "white",
            "linecolor": "white",
            "ticks": ""
           },
           "baxis": {
            "gridcolor": "white",
            "linecolor": "white",
            "ticks": ""
           },
           "bgcolor": "#E5ECF6",
           "caxis": {
            "gridcolor": "white",
            "linecolor": "white",
            "ticks": ""
           }
          },
          "title": {
           "x": 0.05
          },
          "xaxis": {
           "automargin": true,
           "gridcolor": "white",
           "linecolor": "white",
           "ticks": "",
           "title": {
            "standoff": 15
           },
           "zerolinecolor": "white",
           "zerolinewidth": 2
          },
          "yaxis": {
           "automargin": true,
           "gridcolor": "white",
           "linecolor": "white",
           "ticks": "",
           "title": {
            "standoff": 15
           },
           "zerolinecolor": "white",
           "zerolinewidth": 2
          }
         }
        },
        "title": {
         "font": {
          "color": "#4D5663"
         }
        },
        "xaxis": {
         "gridcolor": "#E1E5ED",
         "showgrid": true,
         "tickfont": {
          "color": "#4D5663"
         },
         "title": {
          "font": {
           "color": "#4D5663"
          },
          "text": ""
         },
         "zerolinecolor": "#E1E5ED"
        },
        "yaxis": {
         "gridcolor": "#E1E5ED",
         "showgrid": true,
         "tickfont": {
          "color": "#4D5663"
         },
         "title": {
          "font": {
           "color": "#4D5663"
          },
          "text": ""
         },
         "zerolinecolor": "#E1E5ED"
        }
       }
      },
      "text/html": [
       "<div>                            <div id=\"88fdde94-a8f5-4a39-b009-0c3db317b086\" class=\"plotly-graph-div\" style=\"height:525px; width:100%;\"></div>            <script type=\"text/javascript\">                require([\"plotly\"], function(Plotly) {                    window.PLOTLYENV=window.PLOTLYENV || {};\n",
       "                    window.PLOTLYENV.BASE_URL='https://plot.ly';                                    if (document.getElementById(\"88fdde94-a8f5-4a39-b009-0c3db317b086\")) {                    Plotly.newPlot(                        \"88fdde94-a8f5-4a39-b009-0c3db317b086\",                        [{\"line\":{\"color\":\"rgba(255, 153, 51, 1.0)\",\"dash\":\"solid\",\"shape\":\"linear\",\"width\":1.3},\"mode\":\"lines\",\"name\":\"A\",\"text\":\"\",\"x\":[0,1,2,3,4,5,6,7,8,9,10,11,12,13,14,15,16,17,18,19,20,21,22,23,24,25,26,27,28,29,30,31,32,33,34,35,36,37,38,39,40,41,42,43,44,45,46,47,48,49,50,51,52,53,54,55,56,57,58,59,60,61,62,63,64,65,66,67,68,69,70,71,72,73,74,75,76,77,78,79,80,81,82,83,84,85,86,87,88,89,90,91,92,93,94,95,96,97,98,99],\"y\":[0.2995340644905276,0.2205656269030712,-1.056174561092009,0.7591755781504027,0.5326518825067723,1.3044295669802999,1.3281748768339667,-0.09922890207163876,0.6072907830909519,1.1826119307800274,0.3200674123294725,-1.3012890682412424,0.39931988429912135,-0.34879285248827946,-0.7832437352797109,0.24797886378743955,-2.8773605354838225,-0.41107805336817005,0.5428332832960278,-0.34202223323909137,0.6703636476801402,0.47056109501637966,0.5846164712351315,-0.8661517063929928,0.44216954122070445,0.5363106882328338,-0.27977714813382293,0.4380768982907296,-1.4402841454482886,0.256393582261463,1.6549149482388437,-1.3228705669839567,-0.7548185531120883,0.44297261355922846,1.3580577186497258,-0.5112296882385694,1.5741392211439416,0.13109722398933546,-1.4680827312451141,-0.6059423946677869,0.144459267134369,0.3021717007693336,-0.22744784266075352,0.03450363264569284,0.05177307263761155,0.1399332902663523,1.0229527181140547,-2.6321782638398714,0.7745092754158753,-1.5926248522708426,-0.7031009714908845,0.6710809023395671,-0.1438163725324016,0.5082776496708439,0.0767121365819478,0.6457023848381208,-0.3580314419038346,-0.774839310285214,-0.43466021347224676,-1.6000577779988623,0.5086471535040138,0.37958854995049945,-1.0104442910961025,-0.1514509188462034,-0.12732690203447797,0.8209231907729551,-0.22640327123432807,1.4349981836183903,0.6890109446047313,1.0775411458507147,0.29266013334010743,0.3923131280672186,-0.7821903721721409,-1.2087665128305551,-0.04005064789093992,0.586175941448245,-0.39450460865418874,0.7192182080202476,1.8882833172200184,0.8341960000980053,0.049935991907428666,0.47937322066761195,0.07588343334653969,-0.2526301622266612,-0.5289099932191659,-0.10700710269370067,-0.4631513345001443,-0.3924250958303068,1.3819170930309186,-1.0229272234878124,-0.8612817624400896,-1.3485764993188754,1.9759061035618044,-0.9223448984827978,-1.0472531006509647,-0.09420726481422516,0.13682879551914487,-0.6242439989143544,-0.6080082561687519,-0.335483037163409],\"type\":\"scatter\"},{\"line\":{\"color\":\"rgba(55, 128, 191, 1.0)\",\"dash\":\"solid\",\"shape\":\"linear\",\"width\":1.3},\"mode\":\"lines\",\"name\":\"B\",\"text\":\"\",\"x\":[0,1,2,3,4,5,6,7,8,9,10,11,12,13,14,15,16,17,18,19,20,21,22,23,24,25,26,27,28,29,30,31,32,33,34,35,36,37,38,39,40,41,42,43,44,45,46,47,48,49,50,51,52,53,54,55,56,57,58,59,60,61,62,63,64,65,66,67,68,69,70,71,72,73,74,75,76,77,78,79,80,81,82,83,84,85,86,87,88,89,90,91,92,93,94,95,96,97,98,99],\"y\":[0.6288873106968625,1.5552086644040435,-0.2020635486518468,-0.37421286494601835,-1.8901354714158451,1.1642455262282074,-1.0335669426310594,-0.6453012578613595,-2.500063217723074,0.6208790462589199,-0.33919024377178775,-0.6323417396484956,-1.1042370872644787,0.687990530703836,-0.29482934295310004,-1.760993482777496,0.4013839131768914,-0.19128337287568414,0.38831658519353085,1.1022164676082287,-0.7658403159220927,0.39746202290875726,0.05253399825030649,-1.2986978680790244,0.5516764900142631,0.9594352288580066,-1.6176146758116843,0.566234817380164,0.03291261568889055,-0.10412367010856544,0.18813480982253722,0.33139764237225916,-0.4352051883947046,-0.1850665849362166,1.977129824661224,-0.716727900543721,-0.9962485346727465,2.1457330602622915,1.4786805379182806,-0.3073961040236371,0.5190635210197534,-0.2977117536092024,1.07655420499391,1.6402869584964106,-0.6736312859201243,-0.5421796901027264,0.2609352631947877,-0.2243329499018594,0.1421432931661823,1.093261930610181,0.30912184023215555,0.5274847296838001,-0.8482473955350368,-1.1740459296667167,0.12050195080175524,0.6917000321710234,-0.24954254013796354,-0.0555574867666861,-0.11674030611528681,-1.334786476612104,-0.7223974650682061,1.4343193468848872,-1.3171815064176886,-0.6898579117892474,-0.30456626778121365,-0.38585924100511965,-0.8134747561637852,2.010879165813113,1.8244088747007474,-0.3670493932221158,0.03065143496118238,-0.6766752794932412,-0.21596160514515156,-0.3343960409842762,-0.5872454814216169,-0.2983674285813973,0.2681694412271725,-0.5871780526557453,0.6345911247702245,-0.48125080520848557,-1.537351065621091,0.6715502994413234,-0.7553536888819133,0.7274770340599817,0.38331131279465536,0.20240429935781595,-0.03698531065937211,0.7746536546150867,-0.12743883677501958,-0.6009991380090095,0.7150308408538082,0.8401271366581022,-1.8596498898007021,-1.3339806032828878,-0.22198748420879716,-1.8428750875481898,0.4064685378532878,-0.1475973932807723,-0.8804055552297537,-1.580823041015511],\"type\":\"scatter\"},{\"line\":{\"color\":\"rgba(50, 171, 96, 1.0)\",\"dash\":\"solid\",\"shape\":\"linear\",\"width\":1.3},\"mode\":\"lines\",\"name\":\"C\",\"text\":\"\",\"x\":[0,1,2,3,4,5,6,7,8,9,10,11,12,13,14,15,16,17,18,19,20,21,22,23,24,25,26,27,28,29,30,31,32,33,34,35,36,37,38,39,40,41,42,43,44,45,46,47,48,49,50,51,52,53,54,55,56,57,58,59,60,61,62,63,64,65,66,67,68,69,70,71,72,73,74,75,76,77,78,79,80,81,82,83,84,85,86,87,88,89,90,91,92,93,94,95,96,97,98,99],\"y\":[1.4924820594701595,0.7869320413273678,0.32273074575160593,0.6082508425877736,0.2514930413665632,-0.4034861638206237,-0.5768681716474443,0.6856012702187398,-1.7068889895044812,2.0385721334530302,-0.8191936955348694,-0.13602903900798372,0.9667930631260175,0.0006992865771992262,0.39111968811096387,-0.43540783703434993,-0.3221271598960024,1.514266460244137,-0.020695230765908058,1.035430942071528,0.6506811637253885,-1.145913181938134,-0.34697751515819814,0.5722502898175891,-0.7519895563251693,1.9776712105857348,0.3372495147021022,-0.4395212659175542,-1.2050237800542114,-0.06537901172259553,-0.5797928888875487,-1.431944247132665,3.0903555244262755,-0.6651819863410234,-1.8564840845463624,-0.2717618053538439,-0.10389500197897769,1.0364867265617488,-0.6559090419483852,0.29752590565428155,1.0219876099372784,-2.442035360843184,0.850123129127888,0.24684047283695598,-0.3678949207276394,-0.7883469321527289,1.6771022341276227,0.9389046366431055,-1.8881830834792284,0.5713559181159971,-1.3460438578180391,-0.3668246713811393,-0.3500860505947476,-0.3964023791091147,0.24512962516339712,-1.1552665030490763,0.09138475183594481,-0.22696740865481954,0.8208391263967445,-0.19519785712563537,-1.3695877423647327,-0.5385789870693948,0.6416446055778066,0.1382865607176138,1.000976342056877,-0.6824060028252374,0.48166835711151784,-1.7697737629288337,-0.6571145004145996,0.1894110624135475,0.9810977645999668,-1.0499061540091557,0.6730116130030037,2.112389062467758,0.04722673653972112,0.5370038684396691,-0.8236499029151352,-0.9230905362969907,0.2880332090928785,0.20315760791893966,0.2603532879125389,-1.2692769502035877,-0.8287321214176975,-0.07163646942393866,-0.4651101256940488,-0.8578945848200039,0.0891853556732661,-0.17394563516085862,-0.0507649119885555,-0.6267804040324925,-0.770225541117248,0.846148721475124,-0.2500008631262009,-1.6556309939729155,-0.8753658192097954,-0.2102264072150913,1.1306846851390011,1.1411074885543189,1.0323578639940127,0.22708670869310604],\"type\":\"scatter\"},{\"line\":{\"color\":\"rgba(128, 0, 128, 1.0)\",\"dash\":\"solid\",\"shape\":\"linear\",\"width\":1.3},\"mode\":\"lines\",\"name\":\"D\",\"text\":\"\",\"x\":[0,1,2,3,4,5,6,7,8,9,10,11,12,13,14,15,16,17,18,19,20,21,22,23,24,25,26,27,28,29,30,31,32,33,34,35,36,37,38,39,40,41,42,43,44,45,46,47,48,49,50,51,52,53,54,55,56,57,58,59,60,61,62,63,64,65,66,67,68,69,70,71,72,73,74,75,76,77,78,79,80,81,82,83,84,85,86,87,88,89,90,91,92,93,94,95,96,97,98,99],\"y\":[0.8784097635079271,0.41373833465411486,-0.017982234333353768,-0.9849581469253769,-0.525922792414035,-1.5758495572561193,-2.6008494818189343,0.08321481462802557,-0.5621103549964049,-0.666115045990679,-0.22509352690535678,-1.0643184410464175,0.22251579823925932,0.5986063082126469,0.11459219679383639,0.7593125165744864,0.2103290172024642,-2.017164157575092,-0.06478200186368004,0.8445371088727064,0.45596778382233266,-0.820671089748138,-0.10983235640478299,-0.4939671612088846,-1.4432782231781656,1.2936663433198556,-0.7127750389182068,-1.2837432002030262,-0.4005004052185187,-0.3282063282740504,-0.6850873197215348,-0.028277280860713516,1.2303787242796584,0.8794190943231905,-0.2728446264895277,0.09732640946867503,-0.11355883865903231,0.2128139309813744,-0.38963892316985477,0.12767461473080274,-0.09920015714668835,0.26371995379552415,-0.4434420199859188,-0.5607970551495925,2.063900563398957,-1.4857712119266875,0.007075658199432495,1.2878039096650393,-0.20469356440844869,-1.0443218157028409,0.30572575901613863,0.9186397492736501,0.463455305324779,0.5485539996955462,-0.2680810662274818,-0.9398484005231073,-0.15197786833529853,-0.021104928437870044,-0.7163874781331797,-0.07781558751246322,-0.5088178501681737,-0.3759080073603766,0.57215110217102,-0.3459356400266322,0.5123513245767716,1.8156822307430185,-1.5987878127320017,0.9828016670135185,-0.3987342334756005,1.553709645102389,-0.7930389415923372,-0.7878647849157575,-2.47437913953804,-1.0697479981823497,0.04802162487314175,-0.8340213258052468,0.8393512676752578,-0.6399858404914921,0.401629816409806,-0.08581239209276978,1.0681103969845536,-0.08160047220364465,0.09482987517133963,0.3768970125500851,1.3322319124126047,-0.23802377313554726,0.5443599989176237,0.2640731149237633,0.2516458614493047,-0.30819230362295347,-0.4297721916496139,0.493865700710478,2.073198652660911,-0.6036327703946305,-0.84105157047565,-2.3104107765592623,-0.32611725470856845,2.3388040250701154,-0.33413233446227103,-0.10019130753522917],\"type\":\"scatter\"}],                        {\"legend\":{\"bgcolor\":\"#F5F6F9\",\"font\":{\"color\":\"#4D5663\"}},\"paper_bgcolor\":\"#F5F6F9\",\"plot_bgcolor\":\"#F5F6F9\",\"template\":{\"data\":{\"barpolar\":[{\"marker\":{\"line\":{\"color\":\"#E5ECF6\",\"width\":0.5},\"pattern\":{\"fillmode\":\"overlay\",\"size\":10,\"solidity\":0.2}},\"type\":\"barpolar\"}],\"bar\":[{\"error_x\":{\"color\":\"#2a3f5f\"},\"error_y\":{\"color\":\"#2a3f5f\"},\"marker\":{\"line\":{\"color\":\"#E5ECF6\",\"width\":0.5},\"pattern\":{\"fillmode\":\"overlay\",\"size\":10,\"solidity\":0.2}},\"type\":\"bar\"}],\"carpet\":[{\"aaxis\":{\"endlinecolor\":\"#2a3f5f\",\"gridcolor\":\"white\",\"linecolor\":\"white\",\"minorgridcolor\":\"white\",\"startlinecolor\":\"#2a3f5f\"},\"baxis\":{\"endlinecolor\":\"#2a3f5f\",\"gridcolor\":\"white\",\"linecolor\":\"white\",\"minorgridcolor\":\"white\",\"startlinecolor\":\"#2a3f5f\"},\"type\":\"carpet\"}],\"choropleth\":[{\"colorbar\":{\"outlinewidth\":0,\"ticks\":\"\"},\"type\":\"choropleth\"}],\"contourcarpet\":[{\"colorbar\":{\"outlinewidth\":0,\"ticks\":\"\"},\"type\":\"contourcarpet\"}],\"contour\":[{\"colorbar\":{\"outlinewidth\":0,\"ticks\":\"\"},\"colorscale\":[[0.0,\"#0d0887\"],[0.1111111111111111,\"#46039f\"],[0.2222222222222222,\"#7201a8\"],[0.3333333333333333,\"#9c179e\"],[0.4444444444444444,\"#bd3786\"],[0.5555555555555556,\"#d8576b\"],[0.6666666666666666,\"#ed7953\"],[0.7777777777777778,\"#fb9f3a\"],[0.8888888888888888,\"#fdca26\"],[1.0,\"#f0f921\"]],\"type\":\"contour\"}],\"heatmapgl\":[{\"colorbar\":{\"outlinewidth\":0,\"ticks\":\"\"},\"colorscale\":[[0.0,\"#0d0887\"],[0.1111111111111111,\"#46039f\"],[0.2222222222222222,\"#7201a8\"],[0.3333333333333333,\"#9c179e\"],[0.4444444444444444,\"#bd3786\"],[0.5555555555555556,\"#d8576b\"],[0.6666666666666666,\"#ed7953\"],[0.7777777777777778,\"#fb9f3a\"],[0.8888888888888888,\"#fdca26\"],[1.0,\"#f0f921\"]],\"type\":\"heatmapgl\"}],\"heatmap\":[{\"colorbar\":{\"outlinewidth\":0,\"ticks\":\"\"},\"colorscale\":[[0.0,\"#0d0887\"],[0.1111111111111111,\"#46039f\"],[0.2222222222222222,\"#7201a8\"],[0.3333333333333333,\"#9c179e\"],[0.4444444444444444,\"#bd3786\"],[0.5555555555555556,\"#d8576b\"],[0.6666666666666666,\"#ed7953\"],[0.7777777777777778,\"#fb9f3a\"],[0.8888888888888888,\"#fdca26\"],[1.0,\"#f0f921\"]],\"type\":\"heatmap\"}],\"histogram2dcontour\":[{\"colorbar\":{\"outlinewidth\":0,\"ticks\":\"\"},\"colorscale\":[[0.0,\"#0d0887\"],[0.1111111111111111,\"#46039f\"],[0.2222222222222222,\"#7201a8\"],[0.3333333333333333,\"#9c179e\"],[0.4444444444444444,\"#bd3786\"],[0.5555555555555556,\"#d8576b\"],[0.6666666666666666,\"#ed7953\"],[0.7777777777777778,\"#fb9f3a\"],[0.8888888888888888,\"#fdca26\"],[1.0,\"#f0f921\"]],\"type\":\"histogram2dcontour\"}],\"histogram2d\":[{\"colorbar\":{\"outlinewidth\":0,\"ticks\":\"\"},\"colorscale\":[[0.0,\"#0d0887\"],[0.1111111111111111,\"#46039f\"],[0.2222222222222222,\"#7201a8\"],[0.3333333333333333,\"#9c179e\"],[0.4444444444444444,\"#bd3786\"],[0.5555555555555556,\"#d8576b\"],[0.6666666666666666,\"#ed7953\"],[0.7777777777777778,\"#fb9f3a\"],[0.8888888888888888,\"#fdca26\"],[1.0,\"#f0f921\"]],\"type\":\"histogram2d\"}],\"histogram\":[{\"marker\":{\"pattern\":{\"fillmode\":\"overlay\",\"size\":10,\"solidity\":0.2}},\"type\":\"histogram\"}],\"mesh3d\":[{\"colorbar\":{\"outlinewidth\":0,\"ticks\":\"\"},\"type\":\"mesh3d\"}],\"parcoords\":[{\"line\":{\"colorbar\":{\"outlinewidth\":0,\"ticks\":\"\"}},\"type\":\"parcoords\"}],\"pie\":[{\"automargin\":true,\"type\":\"pie\"}],\"scatter3d\":[{\"line\":{\"colorbar\":{\"outlinewidth\":0,\"ticks\":\"\"}},\"marker\":{\"colorbar\":{\"outlinewidth\":0,\"ticks\":\"\"}},\"type\":\"scatter3d\"}],\"scattercarpet\":[{\"marker\":{\"colorbar\":{\"outlinewidth\":0,\"ticks\":\"\"}},\"type\":\"scattercarpet\"}],\"scattergeo\":[{\"marker\":{\"colorbar\":{\"outlinewidth\":0,\"ticks\":\"\"}},\"type\":\"scattergeo\"}],\"scattergl\":[{\"marker\":{\"colorbar\":{\"outlinewidth\":0,\"ticks\":\"\"}},\"type\":\"scattergl\"}],\"scattermapbox\":[{\"marker\":{\"colorbar\":{\"outlinewidth\":0,\"ticks\":\"\"}},\"type\":\"scattermapbox\"}],\"scatterpolargl\":[{\"marker\":{\"colorbar\":{\"outlinewidth\":0,\"ticks\":\"\"}},\"type\":\"scatterpolargl\"}],\"scatterpolar\":[{\"marker\":{\"colorbar\":{\"outlinewidth\":0,\"ticks\":\"\"}},\"type\":\"scatterpolar\"}],\"scatter\":[{\"fillpattern\":{\"fillmode\":\"overlay\",\"size\":10,\"solidity\":0.2},\"type\":\"scatter\"}],\"scatterternary\":[{\"marker\":{\"colorbar\":{\"outlinewidth\":0,\"ticks\":\"\"}},\"type\":\"scatterternary\"}],\"surface\":[{\"colorbar\":{\"outlinewidth\":0,\"ticks\":\"\"},\"colorscale\":[[0.0,\"#0d0887\"],[0.1111111111111111,\"#46039f\"],[0.2222222222222222,\"#7201a8\"],[0.3333333333333333,\"#9c179e\"],[0.4444444444444444,\"#bd3786\"],[0.5555555555555556,\"#d8576b\"],[0.6666666666666666,\"#ed7953\"],[0.7777777777777778,\"#fb9f3a\"],[0.8888888888888888,\"#fdca26\"],[1.0,\"#f0f921\"]],\"type\":\"surface\"}],\"table\":[{\"cells\":{\"fill\":{\"color\":\"#EBF0F8\"},\"line\":{\"color\":\"white\"}},\"header\":{\"fill\":{\"color\":\"#C8D4E3\"},\"line\":{\"color\":\"white\"}},\"type\":\"table\"}]},\"layout\":{\"annotationdefaults\":{\"arrowcolor\":\"#2a3f5f\",\"arrowhead\":0,\"arrowwidth\":1},\"autotypenumbers\":\"strict\",\"coloraxis\":{\"colorbar\":{\"outlinewidth\":0,\"ticks\":\"\"}},\"colorscale\":{\"diverging\":[[0,\"#8e0152\"],[0.1,\"#c51b7d\"],[0.2,\"#de77ae\"],[0.3,\"#f1b6da\"],[0.4,\"#fde0ef\"],[0.5,\"#f7f7f7\"],[0.6,\"#e6f5d0\"],[0.7,\"#b8e186\"],[0.8,\"#7fbc41\"],[0.9,\"#4d9221\"],[1,\"#276419\"]],\"sequential\":[[0.0,\"#0d0887\"],[0.1111111111111111,\"#46039f\"],[0.2222222222222222,\"#7201a8\"],[0.3333333333333333,\"#9c179e\"],[0.4444444444444444,\"#bd3786\"],[0.5555555555555556,\"#d8576b\"],[0.6666666666666666,\"#ed7953\"],[0.7777777777777778,\"#fb9f3a\"],[0.8888888888888888,\"#fdca26\"],[1.0,\"#f0f921\"]],\"sequentialminus\":[[0.0,\"#0d0887\"],[0.1111111111111111,\"#46039f\"],[0.2222222222222222,\"#7201a8\"],[0.3333333333333333,\"#9c179e\"],[0.4444444444444444,\"#bd3786\"],[0.5555555555555556,\"#d8576b\"],[0.6666666666666666,\"#ed7953\"],[0.7777777777777778,\"#fb9f3a\"],[0.8888888888888888,\"#fdca26\"],[1.0,\"#f0f921\"]]},\"colorway\":[\"#636efa\",\"#EF553B\",\"#00cc96\",\"#ab63fa\",\"#FFA15A\",\"#19d3f3\",\"#FF6692\",\"#B6E880\",\"#FF97FF\",\"#FECB52\"],\"font\":{\"color\":\"#2a3f5f\"},\"geo\":{\"bgcolor\":\"white\",\"lakecolor\":\"white\",\"landcolor\":\"#E5ECF6\",\"showlakes\":true,\"showland\":true,\"subunitcolor\":\"white\"},\"hoverlabel\":{\"align\":\"left\"},\"hovermode\":\"closest\",\"mapbox\":{\"style\":\"light\"},\"paper_bgcolor\":\"white\",\"plot_bgcolor\":\"#E5ECF6\",\"polar\":{\"angularaxis\":{\"gridcolor\":\"white\",\"linecolor\":\"white\",\"ticks\":\"\"},\"bgcolor\":\"#E5ECF6\",\"radialaxis\":{\"gridcolor\":\"white\",\"linecolor\":\"white\",\"ticks\":\"\"}},\"scene\":{\"xaxis\":{\"backgroundcolor\":\"#E5ECF6\",\"gridcolor\":\"white\",\"gridwidth\":2,\"linecolor\":\"white\",\"showbackground\":true,\"ticks\":\"\",\"zerolinecolor\":\"white\"},\"yaxis\":{\"backgroundcolor\":\"#E5ECF6\",\"gridcolor\":\"white\",\"gridwidth\":2,\"linecolor\":\"white\",\"showbackground\":true,\"ticks\":\"\",\"zerolinecolor\":\"white\"},\"zaxis\":{\"backgroundcolor\":\"#E5ECF6\",\"gridcolor\":\"white\",\"gridwidth\":2,\"linecolor\":\"white\",\"showbackground\":true,\"ticks\":\"\",\"zerolinecolor\":\"white\"}},\"shapedefaults\":{\"line\":{\"color\":\"#2a3f5f\"}},\"ternary\":{\"aaxis\":{\"gridcolor\":\"white\",\"linecolor\":\"white\",\"ticks\":\"\"},\"baxis\":{\"gridcolor\":\"white\",\"linecolor\":\"white\",\"ticks\":\"\"},\"bgcolor\":\"#E5ECF6\",\"caxis\":{\"gridcolor\":\"white\",\"linecolor\":\"white\",\"ticks\":\"\"}},\"title\":{\"x\":0.05},\"xaxis\":{\"automargin\":true,\"gridcolor\":\"white\",\"linecolor\":\"white\",\"ticks\":\"\",\"title\":{\"standoff\":15},\"zerolinecolor\":\"white\",\"zerolinewidth\":2},\"yaxis\":{\"automargin\":true,\"gridcolor\":\"white\",\"linecolor\":\"white\",\"ticks\":\"\",\"title\":{\"standoff\":15},\"zerolinecolor\":\"white\",\"zerolinewidth\":2}}},\"title\":{\"font\":{\"color\":\"#4D5663\"}},\"xaxis\":{\"gridcolor\":\"#E1E5ED\",\"showgrid\":true,\"tickfont\":{\"color\":\"#4D5663\"},\"title\":{\"font\":{\"color\":\"#4D5663\"},\"text\":\"\"},\"zerolinecolor\":\"#E1E5ED\"},\"yaxis\":{\"gridcolor\":\"#E1E5ED\",\"showgrid\":true,\"tickfont\":{\"color\":\"#4D5663\"},\"title\":{\"font\":{\"color\":\"#4D5663\"},\"text\":\"\"},\"zerolinecolor\":\"#E1E5ED\"}},                        {\"showLink\": true, \"linkText\": \"Export to plot.ly\", \"plotlyServerURL\": \"https://plot.ly\", \"responsive\": true}                    ).then(function(){\n",
       "                            \n",
       "var gd = document.getElementById('88fdde94-a8f5-4a39-b009-0c3db317b086');\n",
       "var x = new MutationObserver(function (mutations, observer) {{\n",
       "        var display = window.getComputedStyle(gd).display;\n",
       "        if (!display || display === 'none') {{\n",
       "            console.log([gd, 'removed!']);\n",
       "            Plotly.purge(gd);\n",
       "            observer.disconnect();\n",
       "        }}\n",
       "}});\n",
       "\n",
       "// Listen for the removal of the full notebook cells\n",
       "var notebookContainer = gd.closest('#notebook-container');\n",
       "if (notebookContainer) {{\n",
       "    x.observe(notebookContainer, {childList: true});\n",
       "}}\n",
       "\n",
       "// Listen for the clearing of the current output cell\n",
       "var outputEl = gd.closest('.output');\n",
       "if (outputEl) {{\n",
       "    x.observe(outputEl, {childList: true});\n",
       "}}\n",
       "\n",
       "                        })                };                });            </script>        </div>"
      ]
     },
     "metadata": {},
     "output_type": "display_data"
    }
   ],
   "source": [
    "df.iplot()"
   ]
  },
  {
   "cell_type": "code",
   "execution_count": 21,
   "id": "6d5a45cb",
   "metadata": {},
   "outputs": [
    {
     "data": {
      "application/vnd.plotly.v1+json": {
       "config": {
        "linkText": "Export to plot.ly",
        "plotlyServerURL": "https://plot.ly",
        "showLink": true
       },
       "data": [
        {
         "line": {
          "color": "rgba(255, 153, 51, 1.0)",
          "dash": "solid",
          "shape": "linear",
          "width": 1.3
         },
         "mode": "lines",
         "name": "B",
         "text": "",
         "type": "scatter",
         "x": [
          0.2995340644905276,
          0.2205656269030712,
          -1.056174561092009,
          0.7591755781504027,
          0.5326518825067723,
          1.3044295669802999,
          1.3281748768339667,
          -0.09922890207163876,
          0.6072907830909519,
          1.1826119307800274,
          0.3200674123294725,
          -1.3012890682412424,
          0.39931988429912135,
          -0.34879285248827946,
          -0.7832437352797109,
          0.24797886378743955,
          -2.8773605354838225,
          -0.41107805336817005,
          0.5428332832960278,
          -0.34202223323909137,
          0.6703636476801402,
          0.47056109501637966,
          0.5846164712351315,
          -0.8661517063929928,
          0.44216954122070445,
          0.5363106882328338,
          -0.27977714813382293,
          0.4380768982907296,
          -1.4402841454482886,
          0.256393582261463,
          1.6549149482388437,
          -1.3228705669839567,
          -0.7548185531120883,
          0.44297261355922846,
          1.3580577186497258,
          -0.5112296882385694,
          1.5741392211439416,
          0.13109722398933546,
          -1.4680827312451141,
          -0.6059423946677869,
          0.144459267134369,
          0.3021717007693336,
          -0.22744784266075352,
          0.03450363264569284,
          0.05177307263761155,
          0.1399332902663523,
          1.0229527181140547,
          -2.6321782638398714,
          0.7745092754158753,
          -1.5926248522708426,
          -0.7031009714908845,
          0.6710809023395671,
          -0.1438163725324016,
          0.5082776496708439,
          0.0767121365819478,
          0.6457023848381208,
          -0.3580314419038346,
          -0.774839310285214,
          -0.43466021347224676,
          -1.6000577779988623,
          0.5086471535040138,
          0.37958854995049945,
          -1.0104442910961025,
          -0.1514509188462034,
          -0.12732690203447797,
          0.8209231907729551,
          -0.22640327123432807,
          1.4349981836183903,
          0.6890109446047313,
          1.0775411458507147,
          0.29266013334010743,
          0.3923131280672186,
          -0.7821903721721409,
          -1.2087665128305551,
          -0.04005064789093992,
          0.586175941448245,
          -0.39450460865418874,
          0.7192182080202476,
          1.8882833172200184,
          0.8341960000980053,
          0.049935991907428666,
          0.47937322066761195,
          0.07588343334653969,
          -0.2526301622266612,
          -0.5289099932191659,
          -0.10700710269370067,
          -0.4631513345001443,
          -0.3924250958303068,
          1.3819170930309186,
          -1.0229272234878124,
          -0.8612817624400896,
          -1.3485764993188754,
          1.9759061035618044,
          -0.9223448984827978,
          -1.0472531006509647,
          -0.09420726481422516,
          0.13682879551914487,
          -0.6242439989143544,
          -0.6080082561687519,
          -0.335483037163409
         ],
         "y": [
          0.6288873106968625,
          1.5552086644040435,
          -0.2020635486518468,
          -0.37421286494601835,
          -1.8901354714158451,
          1.1642455262282074,
          -1.0335669426310594,
          -0.6453012578613595,
          -2.500063217723074,
          0.6208790462589199,
          -0.33919024377178775,
          -0.6323417396484956,
          -1.1042370872644787,
          0.687990530703836,
          -0.29482934295310004,
          -1.760993482777496,
          0.4013839131768914,
          -0.19128337287568414,
          0.38831658519353085,
          1.1022164676082287,
          -0.7658403159220927,
          0.39746202290875726,
          0.05253399825030649,
          -1.2986978680790244,
          0.5516764900142631,
          0.9594352288580066,
          -1.6176146758116843,
          0.566234817380164,
          0.03291261568889055,
          -0.10412367010856544,
          0.18813480982253722,
          0.33139764237225916,
          -0.4352051883947046,
          -0.1850665849362166,
          1.977129824661224,
          -0.716727900543721,
          -0.9962485346727465,
          2.1457330602622915,
          1.4786805379182806,
          -0.3073961040236371,
          0.5190635210197534,
          -0.2977117536092024,
          1.07655420499391,
          1.6402869584964106,
          -0.6736312859201243,
          -0.5421796901027264,
          0.2609352631947877,
          -0.2243329499018594,
          0.1421432931661823,
          1.093261930610181,
          0.30912184023215555,
          0.5274847296838001,
          -0.8482473955350368,
          -1.1740459296667167,
          0.12050195080175524,
          0.6917000321710234,
          -0.24954254013796354,
          -0.0555574867666861,
          -0.11674030611528681,
          -1.334786476612104,
          -0.7223974650682061,
          1.4343193468848872,
          -1.3171815064176886,
          -0.6898579117892474,
          -0.30456626778121365,
          -0.38585924100511965,
          -0.8134747561637852,
          2.010879165813113,
          1.8244088747007474,
          -0.3670493932221158,
          0.03065143496118238,
          -0.6766752794932412,
          -0.21596160514515156,
          -0.3343960409842762,
          -0.5872454814216169,
          -0.2983674285813973,
          0.2681694412271725,
          -0.5871780526557453,
          0.6345911247702245,
          -0.48125080520848557,
          -1.537351065621091,
          0.6715502994413234,
          -0.7553536888819133,
          0.7274770340599817,
          0.38331131279465536,
          0.20240429935781595,
          -0.03698531065937211,
          0.7746536546150867,
          -0.12743883677501958,
          -0.6009991380090095,
          0.7150308408538082,
          0.8401271366581022,
          -1.8596498898007021,
          -1.3339806032828878,
          -0.22198748420879716,
          -1.8428750875481898,
          0.4064685378532878,
          -0.1475973932807723,
          -0.8804055552297537,
          -1.580823041015511
         ]
        }
       ],
       "layout": {
        "legend": {
         "bgcolor": "#F5F6F9",
         "font": {
          "color": "#4D5663"
         }
        },
        "paper_bgcolor": "#F5F6F9",
        "plot_bgcolor": "#F5F6F9",
        "template": {
         "data": {
          "bar": [
           {
            "error_x": {
             "color": "#2a3f5f"
            },
            "error_y": {
             "color": "#2a3f5f"
            },
            "marker": {
             "line": {
              "color": "#E5ECF6",
              "width": 0.5
             },
             "pattern": {
              "fillmode": "overlay",
              "size": 10,
              "solidity": 0.2
             }
            },
            "type": "bar"
           }
          ],
          "barpolar": [
           {
            "marker": {
             "line": {
              "color": "#E5ECF6",
              "width": 0.5
             },
             "pattern": {
              "fillmode": "overlay",
              "size": 10,
              "solidity": 0.2
             }
            },
            "type": "barpolar"
           }
          ],
          "carpet": [
           {
            "aaxis": {
             "endlinecolor": "#2a3f5f",
             "gridcolor": "white",
             "linecolor": "white",
             "minorgridcolor": "white",
             "startlinecolor": "#2a3f5f"
            },
            "baxis": {
             "endlinecolor": "#2a3f5f",
             "gridcolor": "white",
             "linecolor": "white",
             "minorgridcolor": "white",
             "startlinecolor": "#2a3f5f"
            },
            "type": "carpet"
           }
          ],
          "choropleth": [
           {
            "colorbar": {
             "outlinewidth": 0,
             "ticks": ""
            },
            "type": "choropleth"
           }
          ],
          "contour": [
           {
            "colorbar": {
             "outlinewidth": 0,
             "ticks": ""
            },
            "colorscale": [
             [
              0,
              "#0d0887"
             ],
             [
              0.1111111111111111,
              "#46039f"
             ],
             [
              0.2222222222222222,
              "#7201a8"
             ],
             [
              0.3333333333333333,
              "#9c179e"
             ],
             [
              0.4444444444444444,
              "#bd3786"
             ],
             [
              0.5555555555555556,
              "#d8576b"
             ],
             [
              0.6666666666666666,
              "#ed7953"
             ],
             [
              0.7777777777777778,
              "#fb9f3a"
             ],
             [
              0.8888888888888888,
              "#fdca26"
             ],
             [
              1,
              "#f0f921"
             ]
            ],
            "type": "contour"
           }
          ],
          "contourcarpet": [
           {
            "colorbar": {
             "outlinewidth": 0,
             "ticks": ""
            },
            "type": "contourcarpet"
           }
          ],
          "heatmap": [
           {
            "colorbar": {
             "outlinewidth": 0,
             "ticks": ""
            },
            "colorscale": [
             [
              0,
              "#0d0887"
             ],
             [
              0.1111111111111111,
              "#46039f"
             ],
             [
              0.2222222222222222,
              "#7201a8"
             ],
             [
              0.3333333333333333,
              "#9c179e"
             ],
             [
              0.4444444444444444,
              "#bd3786"
             ],
             [
              0.5555555555555556,
              "#d8576b"
             ],
             [
              0.6666666666666666,
              "#ed7953"
             ],
             [
              0.7777777777777778,
              "#fb9f3a"
             ],
             [
              0.8888888888888888,
              "#fdca26"
             ],
             [
              1,
              "#f0f921"
             ]
            ],
            "type": "heatmap"
           }
          ],
          "heatmapgl": [
           {
            "colorbar": {
             "outlinewidth": 0,
             "ticks": ""
            },
            "colorscale": [
             [
              0,
              "#0d0887"
             ],
             [
              0.1111111111111111,
              "#46039f"
             ],
             [
              0.2222222222222222,
              "#7201a8"
             ],
             [
              0.3333333333333333,
              "#9c179e"
             ],
             [
              0.4444444444444444,
              "#bd3786"
             ],
             [
              0.5555555555555556,
              "#d8576b"
             ],
             [
              0.6666666666666666,
              "#ed7953"
             ],
             [
              0.7777777777777778,
              "#fb9f3a"
             ],
             [
              0.8888888888888888,
              "#fdca26"
             ],
             [
              1,
              "#f0f921"
             ]
            ],
            "type": "heatmapgl"
           }
          ],
          "histogram": [
           {
            "marker": {
             "pattern": {
              "fillmode": "overlay",
              "size": 10,
              "solidity": 0.2
             }
            },
            "type": "histogram"
           }
          ],
          "histogram2d": [
           {
            "colorbar": {
             "outlinewidth": 0,
             "ticks": ""
            },
            "colorscale": [
             [
              0,
              "#0d0887"
             ],
             [
              0.1111111111111111,
              "#46039f"
             ],
             [
              0.2222222222222222,
              "#7201a8"
             ],
             [
              0.3333333333333333,
              "#9c179e"
             ],
             [
              0.4444444444444444,
              "#bd3786"
             ],
             [
              0.5555555555555556,
              "#d8576b"
             ],
             [
              0.6666666666666666,
              "#ed7953"
             ],
             [
              0.7777777777777778,
              "#fb9f3a"
             ],
             [
              0.8888888888888888,
              "#fdca26"
             ],
             [
              1,
              "#f0f921"
             ]
            ],
            "type": "histogram2d"
           }
          ],
          "histogram2dcontour": [
           {
            "colorbar": {
             "outlinewidth": 0,
             "ticks": ""
            },
            "colorscale": [
             [
              0,
              "#0d0887"
             ],
             [
              0.1111111111111111,
              "#46039f"
             ],
             [
              0.2222222222222222,
              "#7201a8"
             ],
             [
              0.3333333333333333,
              "#9c179e"
             ],
             [
              0.4444444444444444,
              "#bd3786"
             ],
             [
              0.5555555555555556,
              "#d8576b"
             ],
             [
              0.6666666666666666,
              "#ed7953"
             ],
             [
              0.7777777777777778,
              "#fb9f3a"
             ],
             [
              0.8888888888888888,
              "#fdca26"
             ],
             [
              1,
              "#f0f921"
             ]
            ],
            "type": "histogram2dcontour"
           }
          ],
          "mesh3d": [
           {
            "colorbar": {
             "outlinewidth": 0,
             "ticks": ""
            },
            "type": "mesh3d"
           }
          ],
          "parcoords": [
           {
            "line": {
             "colorbar": {
              "outlinewidth": 0,
              "ticks": ""
             }
            },
            "type": "parcoords"
           }
          ],
          "pie": [
           {
            "automargin": true,
            "type": "pie"
           }
          ],
          "scatter": [
           {
            "fillpattern": {
             "fillmode": "overlay",
             "size": 10,
             "solidity": 0.2
            },
            "type": "scatter"
           }
          ],
          "scatter3d": [
           {
            "line": {
             "colorbar": {
              "outlinewidth": 0,
              "ticks": ""
             }
            },
            "marker": {
             "colorbar": {
              "outlinewidth": 0,
              "ticks": ""
             }
            },
            "type": "scatter3d"
           }
          ],
          "scattercarpet": [
           {
            "marker": {
             "colorbar": {
              "outlinewidth": 0,
              "ticks": ""
             }
            },
            "type": "scattercarpet"
           }
          ],
          "scattergeo": [
           {
            "marker": {
             "colorbar": {
              "outlinewidth": 0,
              "ticks": ""
             }
            },
            "type": "scattergeo"
           }
          ],
          "scattergl": [
           {
            "marker": {
             "colorbar": {
              "outlinewidth": 0,
              "ticks": ""
             }
            },
            "type": "scattergl"
           }
          ],
          "scattermapbox": [
           {
            "marker": {
             "colorbar": {
              "outlinewidth": 0,
              "ticks": ""
             }
            },
            "type": "scattermapbox"
           }
          ],
          "scatterpolar": [
           {
            "marker": {
             "colorbar": {
              "outlinewidth": 0,
              "ticks": ""
             }
            },
            "type": "scatterpolar"
           }
          ],
          "scatterpolargl": [
           {
            "marker": {
             "colorbar": {
              "outlinewidth": 0,
              "ticks": ""
             }
            },
            "type": "scatterpolargl"
           }
          ],
          "scatterternary": [
           {
            "marker": {
             "colorbar": {
              "outlinewidth": 0,
              "ticks": ""
             }
            },
            "type": "scatterternary"
           }
          ],
          "surface": [
           {
            "colorbar": {
             "outlinewidth": 0,
             "ticks": ""
            },
            "colorscale": [
             [
              0,
              "#0d0887"
             ],
             [
              0.1111111111111111,
              "#46039f"
             ],
             [
              0.2222222222222222,
              "#7201a8"
             ],
             [
              0.3333333333333333,
              "#9c179e"
             ],
             [
              0.4444444444444444,
              "#bd3786"
             ],
             [
              0.5555555555555556,
              "#d8576b"
             ],
             [
              0.6666666666666666,
              "#ed7953"
             ],
             [
              0.7777777777777778,
              "#fb9f3a"
             ],
             [
              0.8888888888888888,
              "#fdca26"
             ],
             [
              1,
              "#f0f921"
             ]
            ],
            "type": "surface"
           }
          ],
          "table": [
           {
            "cells": {
             "fill": {
              "color": "#EBF0F8"
             },
             "line": {
              "color": "white"
             }
            },
            "header": {
             "fill": {
              "color": "#C8D4E3"
             },
             "line": {
              "color": "white"
             }
            },
            "type": "table"
           }
          ]
         },
         "layout": {
          "annotationdefaults": {
           "arrowcolor": "#2a3f5f",
           "arrowhead": 0,
           "arrowwidth": 1
          },
          "autotypenumbers": "strict",
          "coloraxis": {
           "colorbar": {
            "outlinewidth": 0,
            "ticks": ""
           }
          },
          "colorscale": {
           "diverging": [
            [
             0,
             "#8e0152"
            ],
            [
             0.1,
             "#c51b7d"
            ],
            [
             0.2,
             "#de77ae"
            ],
            [
             0.3,
             "#f1b6da"
            ],
            [
             0.4,
             "#fde0ef"
            ],
            [
             0.5,
             "#f7f7f7"
            ],
            [
             0.6,
             "#e6f5d0"
            ],
            [
             0.7,
             "#b8e186"
            ],
            [
             0.8,
             "#7fbc41"
            ],
            [
             0.9,
             "#4d9221"
            ],
            [
             1,
             "#276419"
            ]
           ],
           "sequential": [
            [
             0,
             "#0d0887"
            ],
            [
             0.1111111111111111,
             "#46039f"
            ],
            [
             0.2222222222222222,
             "#7201a8"
            ],
            [
             0.3333333333333333,
             "#9c179e"
            ],
            [
             0.4444444444444444,
             "#bd3786"
            ],
            [
             0.5555555555555556,
             "#d8576b"
            ],
            [
             0.6666666666666666,
             "#ed7953"
            ],
            [
             0.7777777777777778,
             "#fb9f3a"
            ],
            [
             0.8888888888888888,
             "#fdca26"
            ],
            [
             1,
             "#f0f921"
            ]
           ],
           "sequentialminus": [
            [
             0,
             "#0d0887"
            ],
            [
             0.1111111111111111,
             "#46039f"
            ],
            [
             0.2222222222222222,
             "#7201a8"
            ],
            [
             0.3333333333333333,
             "#9c179e"
            ],
            [
             0.4444444444444444,
             "#bd3786"
            ],
            [
             0.5555555555555556,
             "#d8576b"
            ],
            [
             0.6666666666666666,
             "#ed7953"
            ],
            [
             0.7777777777777778,
             "#fb9f3a"
            ],
            [
             0.8888888888888888,
             "#fdca26"
            ],
            [
             1,
             "#f0f921"
            ]
           ]
          },
          "colorway": [
           "#636efa",
           "#EF553B",
           "#00cc96",
           "#ab63fa",
           "#FFA15A",
           "#19d3f3",
           "#FF6692",
           "#B6E880",
           "#FF97FF",
           "#FECB52"
          ],
          "font": {
           "color": "#2a3f5f"
          },
          "geo": {
           "bgcolor": "white",
           "lakecolor": "white",
           "landcolor": "#E5ECF6",
           "showlakes": true,
           "showland": true,
           "subunitcolor": "white"
          },
          "hoverlabel": {
           "align": "left"
          },
          "hovermode": "closest",
          "mapbox": {
           "style": "light"
          },
          "paper_bgcolor": "white",
          "plot_bgcolor": "#E5ECF6",
          "polar": {
           "angularaxis": {
            "gridcolor": "white",
            "linecolor": "white",
            "ticks": ""
           },
           "bgcolor": "#E5ECF6",
           "radialaxis": {
            "gridcolor": "white",
            "linecolor": "white",
            "ticks": ""
           }
          },
          "scene": {
           "xaxis": {
            "backgroundcolor": "#E5ECF6",
            "gridcolor": "white",
            "gridwidth": 2,
            "linecolor": "white",
            "showbackground": true,
            "ticks": "",
            "zerolinecolor": "white"
           },
           "yaxis": {
            "backgroundcolor": "#E5ECF6",
            "gridcolor": "white",
            "gridwidth": 2,
            "linecolor": "white",
            "showbackground": true,
            "ticks": "",
            "zerolinecolor": "white"
           },
           "zaxis": {
            "backgroundcolor": "#E5ECF6",
            "gridcolor": "white",
            "gridwidth": 2,
            "linecolor": "white",
            "showbackground": true,
            "ticks": "",
            "zerolinecolor": "white"
           }
          },
          "shapedefaults": {
           "line": {
            "color": "#2a3f5f"
           }
          },
          "ternary": {
           "aaxis": {
            "gridcolor": "white",
            "linecolor": "white",
            "ticks": ""
           },
           "baxis": {
            "gridcolor": "white",
            "linecolor": "white",
            "ticks": ""
           },
           "bgcolor": "#E5ECF6",
           "caxis": {
            "gridcolor": "white",
            "linecolor": "white",
            "ticks": ""
           }
          },
          "title": {
           "x": 0.05
          },
          "xaxis": {
           "automargin": true,
           "gridcolor": "white",
           "linecolor": "white",
           "ticks": "",
           "title": {
            "standoff": 15
           },
           "zerolinecolor": "white",
           "zerolinewidth": 2
          },
          "yaxis": {
           "automargin": true,
           "gridcolor": "white",
           "linecolor": "white",
           "ticks": "",
           "title": {
            "standoff": 15
           },
           "zerolinecolor": "white",
           "zerolinewidth": 2
          }
         }
        },
        "title": {
         "font": {
          "color": "#4D5663"
         }
        },
        "xaxis": {
         "gridcolor": "#E1E5ED",
         "showgrid": true,
         "tickfont": {
          "color": "#4D5663"
         },
         "title": {
          "font": {
           "color": "#4D5663"
          },
          "text": ""
         },
         "zerolinecolor": "#E1E5ED"
        },
        "yaxis": {
         "gridcolor": "#E1E5ED",
         "showgrid": true,
         "tickfont": {
          "color": "#4D5663"
         },
         "title": {
          "font": {
           "color": "#4D5663"
          },
          "text": ""
         },
         "zerolinecolor": "#E1E5ED"
        }
       }
      },
      "text/html": [
       "<div>                            <div id=\"f055d3c7-8396-4cd7-8ed0-a74c061ab695\" class=\"plotly-graph-div\" style=\"height:525px; width:100%;\"></div>            <script type=\"text/javascript\">                require([\"plotly\"], function(Plotly) {                    window.PLOTLYENV=window.PLOTLYENV || {};\n",
       "                    window.PLOTLYENV.BASE_URL='https://plot.ly';                                    if (document.getElementById(\"f055d3c7-8396-4cd7-8ed0-a74c061ab695\")) {                    Plotly.newPlot(                        \"f055d3c7-8396-4cd7-8ed0-a74c061ab695\",                        [{\"line\":{\"color\":\"rgba(255, 153, 51, 1.0)\",\"dash\":\"solid\",\"shape\":\"linear\",\"width\":1.3},\"mode\":\"lines\",\"name\":\"B\",\"text\":\"\",\"x\":[0.2995340644905276,0.2205656269030712,-1.056174561092009,0.7591755781504027,0.5326518825067723,1.3044295669802999,1.3281748768339667,-0.09922890207163876,0.6072907830909519,1.1826119307800274,0.3200674123294725,-1.3012890682412424,0.39931988429912135,-0.34879285248827946,-0.7832437352797109,0.24797886378743955,-2.8773605354838225,-0.41107805336817005,0.5428332832960278,-0.34202223323909137,0.6703636476801402,0.47056109501637966,0.5846164712351315,-0.8661517063929928,0.44216954122070445,0.5363106882328338,-0.27977714813382293,0.4380768982907296,-1.4402841454482886,0.256393582261463,1.6549149482388437,-1.3228705669839567,-0.7548185531120883,0.44297261355922846,1.3580577186497258,-0.5112296882385694,1.5741392211439416,0.13109722398933546,-1.4680827312451141,-0.6059423946677869,0.144459267134369,0.3021717007693336,-0.22744784266075352,0.03450363264569284,0.05177307263761155,0.1399332902663523,1.0229527181140547,-2.6321782638398714,0.7745092754158753,-1.5926248522708426,-0.7031009714908845,0.6710809023395671,-0.1438163725324016,0.5082776496708439,0.0767121365819478,0.6457023848381208,-0.3580314419038346,-0.774839310285214,-0.43466021347224676,-1.6000577779988623,0.5086471535040138,0.37958854995049945,-1.0104442910961025,-0.1514509188462034,-0.12732690203447797,0.8209231907729551,-0.22640327123432807,1.4349981836183903,0.6890109446047313,1.0775411458507147,0.29266013334010743,0.3923131280672186,-0.7821903721721409,-1.2087665128305551,-0.04005064789093992,0.586175941448245,-0.39450460865418874,0.7192182080202476,1.8882833172200184,0.8341960000980053,0.049935991907428666,0.47937322066761195,0.07588343334653969,-0.2526301622266612,-0.5289099932191659,-0.10700710269370067,-0.4631513345001443,-0.3924250958303068,1.3819170930309186,-1.0229272234878124,-0.8612817624400896,-1.3485764993188754,1.9759061035618044,-0.9223448984827978,-1.0472531006509647,-0.09420726481422516,0.13682879551914487,-0.6242439989143544,-0.6080082561687519,-0.335483037163409],\"y\":[0.6288873106968625,1.5552086644040435,-0.2020635486518468,-0.37421286494601835,-1.8901354714158451,1.1642455262282074,-1.0335669426310594,-0.6453012578613595,-2.500063217723074,0.6208790462589199,-0.33919024377178775,-0.6323417396484956,-1.1042370872644787,0.687990530703836,-0.29482934295310004,-1.760993482777496,0.4013839131768914,-0.19128337287568414,0.38831658519353085,1.1022164676082287,-0.7658403159220927,0.39746202290875726,0.05253399825030649,-1.2986978680790244,0.5516764900142631,0.9594352288580066,-1.6176146758116843,0.566234817380164,0.03291261568889055,-0.10412367010856544,0.18813480982253722,0.33139764237225916,-0.4352051883947046,-0.1850665849362166,1.977129824661224,-0.716727900543721,-0.9962485346727465,2.1457330602622915,1.4786805379182806,-0.3073961040236371,0.5190635210197534,-0.2977117536092024,1.07655420499391,1.6402869584964106,-0.6736312859201243,-0.5421796901027264,0.2609352631947877,-0.2243329499018594,0.1421432931661823,1.093261930610181,0.30912184023215555,0.5274847296838001,-0.8482473955350368,-1.1740459296667167,0.12050195080175524,0.6917000321710234,-0.24954254013796354,-0.0555574867666861,-0.11674030611528681,-1.334786476612104,-0.7223974650682061,1.4343193468848872,-1.3171815064176886,-0.6898579117892474,-0.30456626778121365,-0.38585924100511965,-0.8134747561637852,2.010879165813113,1.8244088747007474,-0.3670493932221158,0.03065143496118238,-0.6766752794932412,-0.21596160514515156,-0.3343960409842762,-0.5872454814216169,-0.2983674285813973,0.2681694412271725,-0.5871780526557453,0.6345911247702245,-0.48125080520848557,-1.537351065621091,0.6715502994413234,-0.7553536888819133,0.7274770340599817,0.38331131279465536,0.20240429935781595,-0.03698531065937211,0.7746536546150867,-0.12743883677501958,-0.6009991380090095,0.7150308408538082,0.8401271366581022,-1.8596498898007021,-1.3339806032828878,-0.22198748420879716,-1.8428750875481898,0.4064685378532878,-0.1475973932807723,-0.8804055552297537,-1.580823041015511],\"type\":\"scatter\"}],                        {\"legend\":{\"bgcolor\":\"#F5F6F9\",\"font\":{\"color\":\"#4D5663\"}},\"paper_bgcolor\":\"#F5F6F9\",\"plot_bgcolor\":\"#F5F6F9\",\"template\":{\"data\":{\"barpolar\":[{\"marker\":{\"line\":{\"color\":\"#E5ECF6\",\"width\":0.5},\"pattern\":{\"fillmode\":\"overlay\",\"size\":10,\"solidity\":0.2}},\"type\":\"barpolar\"}],\"bar\":[{\"error_x\":{\"color\":\"#2a3f5f\"},\"error_y\":{\"color\":\"#2a3f5f\"},\"marker\":{\"line\":{\"color\":\"#E5ECF6\",\"width\":0.5},\"pattern\":{\"fillmode\":\"overlay\",\"size\":10,\"solidity\":0.2}},\"type\":\"bar\"}],\"carpet\":[{\"aaxis\":{\"endlinecolor\":\"#2a3f5f\",\"gridcolor\":\"white\",\"linecolor\":\"white\",\"minorgridcolor\":\"white\",\"startlinecolor\":\"#2a3f5f\"},\"baxis\":{\"endlinecolor\":\"#2a3f5f\",\"gridcolor\":\"white\",\"linecolor\":\"white\",\"minorgridcolor\":\"white\",\"startlinecolor\":\"#2a3f5f\"},\"type\":\"carpet\"}],\"choropleth\":[{\"colorbar\":{\"outlinewidth\":0,\"ticks\":\"\"},\"type\":\"choropleth\"}],\"contourcarpet\":[{\"colorbar\":{\"outlinewidth\":0,\"ticks\":\"\"},\"type\":\"contourcarpet\"}],\"contour\":[{\"colorbar\":{\"outlinewidth\":0,\"ticks\":\"\"},\"colorscale\":[[0.0,\"#0d0887\"],[0.1111111111111111,\"#46039f\"],[0.2222222222222222,\"#7201a8\"],[0.3333333333333333,\"#9c179e\"],[0.4444444444444444,\"#bd3786\"],[0.5555555555555556,\"#d8576b\"],[0.6666666666666666,\"#ed7953\"],[0.7777777777777778,\"#fb9f3a\"],[0.8888888888888888,\"#fdca26\"],[1.0,\"#f0f921\"]],\"type\":\"contour\"}],\"heatmapgl\":[{\"colorbar\":{\"outlinewidth\":0,\"ticks\":\"\"},\"colorscale\":[[0.0,\"#0d0887\"],[0.1111111111111111,\"#46039f\"],[0.2222222222222222,\"#7201a8\"],[0.3333333333333333,\"#9c179e\"],[0.4444444444444444,\"#bd3786\"],[0.5555555555555556,\"#d8576b\"],[0.6666666666666666,\"#ed7953\"],[0.7777777777777778,\"#fb9f3a\"],[0.8888888888888888,\"#fdca26\"],[1.0,\"#f0f921\"]],\"type\":\"heatmapgl\"}],\"heatmap\":[{\"colorbar\":{\"outlinewidth\":0,\"ticks\":\"\"},\"colorscale\":[[0.0,\"#0d0887\"],[0.1111111111111111,\"#46039f\"],[0.2222222222222222,\"#7201a8\"],[0.3333333333333333,\"#9c179e\"],[0.4444444444444444,\"#bd3786\"],[0.5555555555555556,\"#d8576b\"],[0.6666666666666666,\"#ed7953\"],[0.7777777777777778,\"#fb9f3a\"],[0.8888888888888888,\"#fdca26\"],[1.0,\"#f0f921\"]],\"type\":\"heatmap\"}],\"histogram2dcontour\":[{\"colorbar\":{\"outlinewidth\":0,\"ticks\":\"\"},\"colorscale\":[[0.0,\"#0d0887\"],[0.1111111111111111,\"#46039f\"],[0.2222222222222222,\"#7201a8\"],[0.3333333333333333,\"#9c179e\"],[0.4444444444444444,\"#bd3786\"],[0.5555555555555556,\"#d8576b\"],[0.6666666666666666,\"#ed7953\"],[0.7777777777777778,\"#fb9f3a\"],[0.8888888888888888,\"#fdca26\"],[1.0,\"#f0f921\"]],\"type\":\"histogram2dcontour\"}],\"histogram2d\":[{\"colorbar\":{\"outlinewidth\":0,\"ticks\":\"\"},\"colorscale\":[[0.0,\"#0d0887\"],[0.1111111111111111,\"#46039f\"],[0.2222222222222222,\"#7201a8\"],[0.3333333333333333,\"#9c179e\"],[0.4444444444444444,\"#bd3786\"],[0.5555555555555556,\"#d8576b\"],[0.6666666666666666,\"#ed7953\"],[0.7777777777777778,\"#fb9f3a\"],[0.8888888888888888,\"#fdca26\"],[1.0,\"#f0f921\"]],\"type\":\"histogram2d\"}],\"histogram\":[{\"marker\":{\"pattern\":{\"fillmode\":\"overlay\",\"size\":10,\"solidity\":0.2}},\"type\":\"histogram\"}],\"mesh3d\":[{\"colorbar\":{\"outlinewidth\":0,\"ticks\":\"\"},\"type\":\"mesh3d\"}],\"parcoords\":[{\"line\":{\"colorbar\":{\"outlinewidth\":0,\"ticks\":\"\"}},\"type\":\"parcoords\"}],\"pie\":[{\"automargin\":true,\"type\":\"pie\"}],\"scatter3d\":[{\"line\":{\"colorbar\":{\"outlinewidth\":0,\"ticks\":\"\"}},\"marker\":{\"colorbar\":{\"outlinewidth\":0,\"ticks\":\"\"}},\"type\":\"scatter3d\"}],\"scattercarpet\":[{\"marker\":{\"colorbar\":{\"outlinewidth\":0,\"ticks\":\"\"}},\"type\":\"scattercarpet\"}],\"scattergeo\":[{\"marker\":{\"colorbar\":{\"outlinewidth\":0,\"ticks\":\"\"}},\"type\":\"scattergeo\"}],\"scattergl\":[{\"marker\":{\"colorbar\":{\"outlinewidth\":0,\"ticks\":\"\"}},\"type\":\"scattergl\"}],\"scattermapbox\":[{\"marker\":{\"colorbar\":{\"outlinewidth\":0,\"ticks\":\"\"}},\"type\":\"scattermapbox\"}],\"scatterpolargl\":[{\"marker\":{\"colorbar\":{\"outlinewidth\":0,\"ticks\":\"\"}},\"type\":\"scatterpolargl\"}],\"scatterpolar\":[{\"marker\":{\"colorbar\":{\"outlinewidth\":0,\"ticks\":\"\"}},\"type\":\"scatterpolar\"}],\"scatter\":[{\"fillpattern\":{\"fillmode\":\"overlay\",\"size\":10,\"solidity\":0.2},\"type\":\"scatter\"}],\"scatterternary\":[{\"marker\":{\"colorbar\":{\"outlinewidth\":0,\"ticks\":\"\"}},\"type\":\"scatterternary\"}],\"surface\":[{\"colorbar\":{\"outlinewidth\":0,\"ticks\":\"\"},\"colorscale\":[[0.0,\"#0d0887\"],[0.1111111111111111,\"#46039f\"],[0.2222222222222222,\"#7201a8\"],[0.3333333333333333,\"#9c179e\"],[0.4444444444444444,\"#bd3786\"],[0.5555555555555556,\"#d8576b\"],[0.6666666666666666,\"#ed7953\"],[0.7777777777777778,\"#fb9f3a\"],[0.8888888888888888,\"#fdca26\"],[1.0,\"#f0f921\"]],\"type\":\"surface\"}],\"table\":[{\"cells\":{\"fill\":{\"color\":\"#EBF0F8\"},\"line\":{\"color\":\"white\"}},\"header\":{\"fill\":{\"color\":\"#C8D4E3\"},\"line\":{\"color\":\"white\"}},\"type\":\"table\"}]},\"layout\":{\"annotationdefaults\":{\"arrowcolor\":\"#2a3f5f\",\"arrowhead\":0,\"arrowwidth\":1},\"autotypenumbers\":\"strict\",\"coloraxis\":{\"colorbar\":{\"outlinewidth\":0,\"ticks\":\"\"}},\"colorscale\":{\"diverging\":[[0,\"#8e0152\"],[0.1,\"#c51b7d\"],[0.2,\"#de77ae\"],[0.3,\"#f1b6da\"],[0.4,\"#fde0ef\"],[0.5,\"#f7f7f7\"],[0.6,\"#e6f5d0\"],[0.7,\"#b8e186\"],[0.8,\"#7fbc41\"],[0.9,\"#4d9221\"],[1,\"#276419\"]],\"sequential\":[[0.0,\"#0d0887\"],[0.1111111111111111,\"#46039f\"],[0.2222222222222222,\"#7201a8\"],[0.3333333333333333,\"#9c179e\"],[0.4444444444444444,\"#bd3786\"],[0.5555555555555556,\"#d8576b\"],[0.6666666666666666,\"#ed7953\"],[0.7777777777777778,\"#fb9f3a\"],[0.8888888888888888,\"#fdca26\"],[1.0,\"#f0f921\"]],\"sequentialminus\":[[0.0,\"#0d0887\"],[0.1111111111111111,\"#46039f\"],[0.2222222222222222,\"#7201a8\"],[0.3333333333333333,\"#9c179e\"],[0.4444444444444444,\"#bd3786\"],[0.5555555555555556,\"#d8576b\"],[0.6666666666666666,\"#ed7953\"],[0.7777777777777778,\"#fb9f3a\"],[0.8888888888888888,\"#fdca26\"],[1.0,\"#f0f921\"]]},\"colorway\":[\"#636efa\",\"#EF553B\",\"#00cc96\",\"#ab63fa\",\"#FFA15A\",\"#19d3f3\",\"#FF6692\",\"#B6E880\",\"#FF97FF\",\"#FECB52\"],\"font\":{\"color\":\"#2a3f5f\"},\"geo\":{\"bgcolor\":\"white\",\"lakecolor\":\"white\",\"landcolor\":\"#E5ECF6\",\"showlakes\":true,\"showland\":true,\"subunitcolor\":\"white\"},\"hoverlabel\":{\"align\":\"left\"},\"hovermode\":\"closest\",\"mapbox\":{\"style\":\"light\"},\"paper_bgcolor\":\"white\",\"plot_bgcolor\":\"#E5ECF6\",\"polar\":{\"angularaxis\":{\"gridcolor\":\"white\",\"linecolor\":\"white\",\"ticks\":\"\"},\"bgcolor\":\"#E5ECF6\",\"radialaxis\":{\"gridcolor\":\"white\",\"linecolor\":\"white\",\"ticks\":\"\"}},\"scene\":{\"xaxis\":{\"backgroundcolor\":\"#E5ECF6\",\"gridcolor\":\"white\",\"gridwidth\":2,\"linecolor\":\"white\",\"showbackground\":true,\"ticks\":\"\",\"zerolinecolor\":\"white\"},\"yaxis\":{\"backgroundcolor\":\"#E5ECF6\",\"gridcolor\":\"white\",\"gridwidth\":2,\"linecolor\":\"white\",\"showbackground\":true,\"ticks\":\"\",\"zerolinecolor\":\"white\"},\"zaxis\":{\"backgroundcolor\":\"#E5ECF6\",\"gridcolor\":\"white\",\"gridwidth\":2,\"linecolor\":\"white\",\"showbackground\":true,\"ticks\":\"\",\"zerolinecolor\":\"white\"}},\"shapedefaults\":{\"line\":{\"color\":\"#2a3f5f\"}},\"ternary\":{\"aaxis\":{\"gridcolor\":\"white\",\"linecolor\":\"white\",\"ticks\":\"\"},\"baxis\":{\"gridcolor\":\"white\",\"linecolor\":\"white\",\"ticks\":\"\"},\"bgcolor\":\"#E5ECF6\",\"caxis\":{\"gridcolor\":\"white\",\"linecolor\":\"white\",\"ticks\":\"\"}},\"title\":{\"x\":0.05},\"xaxis\":{\"automargin\":true,\"gridcolor\":\"white\",\"linecolor\":\"white\",\"ticks\":\"\",\"title\":{\"standoff\":15},\"zerolinecolor\":\"white\",\"zerolinewidth\":2},\"yaxis\":{\"automargin\":true,\"gridcolor\":\"white\",\"linecolor\":\"white\",\"ticks\":\"\",\"title\":{\"standoff\":15},\"zerolinecolor\":\"white\",\"zerolinewidth\":2}}},\"title\":{\"font\":{\"color\":\"#4D5663\"}},\"xaxis\":{\"gridcolor\":\"#E1E5ED\",\"showgrid\":true,\"tickfont\":{\"color\":\"#4D5663\"},\"title\":{\"font\":{\"color\":\"#4D5663\"},\"text\":\"\"},\"zerolinecolor\":\"#E1E5ED\"},\"yaxis\":{\"gridcolor\":\"#E1E5ED\",\"showgrid\":true,\"tickfont\":{\"color\":\"#4D5663\"},\"title\":{\"font\":{\"color\":\"#4D5663\"},\"text\":\"\"},\"zerolinecolor\":\"#E1E5ED\"}},                        {\"showLink\": true, \"linkText\": \"Export to plot.ly\", \"plotlyServerURL\": \"https://plot.ly\", \"responsive\": true}                    ).then(function(){\n",
       "                            \n",
       "var gd = document.getElementById('f055d3c7-8396-4cd7-8ed0-a74c061ab695');\n",
       "var x = new MutationObserver(function (mutations, observer) {{\n",
       "        var display = window.getComputedStyle(gd).display;\n",
       "        if (!display || display === 'none') {{\n",
       "            console.log([gd, 'removed!']);\n",
       "            Plotly.purge(gd);\n",
       "            observer.disconnect();\n",
       "        }}\n",
       "}});\n",
       "\n",
       "// Listen for the removal of the full notebook cells\n",
       "var notebookContainer = gd.closest('#notebook-container');\n",
       "if (notebookContainer) {{\n",
       "    x.observe(notebookContainer, {childList: true});\n",
       "}}\n",
       "\n",
       "// Listen for the clearing of the current output cell\n",
       "var outputEl = gd.closest('.output');\n",
       "if (outputEl) {{\n",
       "    x.observe(outputEl, {childList: true});\n",
       "}}\n",
       "\n",
       "                        })                };                });            </script>        </div>"
      ]
     },
     "metadata": {},
     "output_type": "display_data"
    }
   ],
   "source": [
    "df.iplot(kind='scatter',x='A',y='B')"
   ]
  },
  {
   "cell_type": "code",
   "execution_count": 23,
   "id": "b4c9453a",
   "metadata": {},
   "outputs": [
    {
     "data": {
      "application/vnd.plotly.v1+json": {
       "config": {
        "linkText": "Export to plot.ly",
        "plotlyServerURL": "https://plot.ly",
        "showLink": true
       },
       "data": [
        {
         "line": {
          "color": "rgba(255, 153, 51, 1.0)",
          "dash": "solid",
          "shape": "linear",
          "width": 1.3
         },
         "marker": {
          "size": 12,
          "symbol": "circle"
         },
         "mode": "markers",
         "name": "B",
         "text": "",
         "type": "scatter",
         "x": [
          0.2995340644905276,
          0.2205656269030712,
          -1.056174561092009,
          0.7591755781504027,
          0.5326518825067723,
          1.3044295669802999,
          1.3281748768339667,
          -0.09922890207163876,
          0.6072907830909519,
          1.1826119307800274,
          0.3200674123294725,
          -1.3012890682412424,
          0.39931988429912135,
          -0.34879285248827946,
          -0.7832437352797109,
          0.24797886378743955,
          -2.8773605354838225,
          -0.41107805336817005,
          0.5428332832960278,
          -0.34202223323909137,
          0.6703636476801402,
          0.47056109501637966,
          0.5846164712351315,
          -0.8661517063929928,
          0.44216954122070445,
          0.5363106882328338,
          -0.27977714813382293,
          0.4380768982907296,
          -1.4402841454482886,
          0.256393582261463,
          1.6549149482388437,
          -1.3228705669839567,
          -0.7548185531120883,
          0.44297261355922846,
          1.3580577186497258,
          -0.5112296882385694,
          1.5741392211439416,
          0.13109722398933546,
          -1.4680827312451141,
          -0.6059423946677869,
          0.144459267134369,
          0.3021717007693336,
          -0.22744784266075352,
          0.03450363264569284,
          0.05177307263761155,
          0.1399332902663523,
          1.0229527181140547,
          -2.6321782638398714,
          0.7745092754158753,
          -1.5926248522708426,
          -0.7031009714908845,
          0.6710809023395671,
          -0.1438163725324016,
          0.5082776496708439,
          0.0767121365819478,
          0.6457023848381208,
          -0.3580314419038346,
          -0.774839310285214,
          -0.43466021347224676,
          -1.6000577779988623,
          0.5086471535040138,
          0.37958854995049945,
          -1.0104442910961025,
          -0.1514509188462034,
          -0.12732690203447797,
          0.8209231907729551,
          -0.22640327123432807,
          1.4349981836183903,
          0.6890109446047313,
          1.0775411458507147,
          0.29266013334010743,
          0.3923131280672186,
          -0.7821903721721409,
          -1.2087665128305551,
          -0.04005064789093992,
          0.586175941448245,
          -0.39450460865418874,
          0.7192182080202476,
          1.8882833172200184,
          0.8341960000980053,
          0.049935991907428666,
          0.47937322066761195,
          0.07588343334653969,
          -0.2526301622266612,
          -0.5289099932191659,
          -0.10700710269370067,
          -0.4631513345001443,
          -0.3924250958303068,
          1.3819170930309186,
          -1.0229272234878124,
          -0.8612817624400896,
          -1.3485764993188754,
          1.9759061035618044,
          -0.9223448984827978,
          -1.0472531006509647,
          -0.09420726481422516,
          0.13682879551914487,
          -0.6242439989143544,
          -0.6080082561687519,
          -0.335483037163409
         ],
         "y": [
          0.6288873106968625,
          1.5552086644040435,
          -0.2020635486518468,
          -0.37421286494601835,
          -1.8901354714158451,
          1.1642455262282074,
          -1.0335669426310594,
          -0.6453012578613595,
          -2.500063217723074,
          0.6208790462589199,
          -0.33919024377178775,
          -0.6323417396484956,
          -1.1042370872644787,
          0.687990530703836,
          -0.29482934295310004,
          -1.760993482777496,
          0.4013839131768914,
          -0.19128337287568414,
          0.38831658519353085,
          1.1022164676082287,
          -0.7658403159220927,
          0.39746202290875726,
          0.05253399825030649,
          -1.2986978680790244,
          0.5516764900142631,
          0.9594352288580066,
          -1.6176146758116843,
          0.566234817380164,
          0.03291261568889055,
          -0.10412367010856544,
          0.18813480982253722,
          0.33139764237225916,
          -0.4352051883947046,
          -0.1850665849362166,
          1.977129824661224,
          -0.716727900543721,
          -0.9962485346727465,
          2.1457330602622915,
          1.4786805379182806,
          -0.3073961040236371,
          0.5190635210197534,
          -0.2977117536092024,
          1.07655420499391,
          1.6402869584964106,
          -0.6736312859201243,
          -0.5421796901027264,
          0.2609352631947877,
          -0.2243329499018594,
          0.1421432931661823,
          1.093261930610181,
          0.30912184023215555,
          0.5274847296838001,
          -0.8482473955350368,
          -1.1740459296667167,
          0.12050195080175524,
          0.6917000321710234,
          -0.24954254013796354,
          -0.0555574867666861,
          -0.11674030611528681,
          -1.334786476612104,
          -0.7223974650682061,
          1.4343193468848872,
          -1.3171815064176886,
          -0.6898579117892474,
          -0.30456626778121365,
          -0.38585924100511965,
          -0.8134747561637852,
          2.010879165813113,
          1.8244088747007474,
          -0.3670493932221158,
          0.03065143496118238,
          -0.6766752794932412,
          -0.21596160514515156,
          -0.3343960409842762,
          -0.5872454814216169,
          -0.2983674285813973,
          0.2681694412271725,
          -0.5871780526557453,
          0.6345911247702245,
          -0.48125080520848557,
          -1.537351065621091,
          0.6715502994413234,
          -0.7553536888819133,
          0.7274770340599817,
          0.38331131279465536,
          0.20240429935781595,
          -0.03698531065937211,
          0.7746536546150867,
          -0.12743883677501958,
          -0.6009991380090095,
          0.7150308408538082,
          0.8401271366581022,
          -1.8596498898007021,
          -1.3339806032828878,
          -0.22198748420879716,
          -1.8428750875481898,
          0.4064685378532878,
          -0.1475973932807723,
          -0.8804055552297537,
          -1.580823041015511
         ]
        }
       ],
       "layout": {
        "legend": {
         "bgcolor": "#F5F6F9",
         "font": {
          "color": "#4D5663"
         }
        },
        "paper_bgcolor": "#F5F6F9",
        "plot_bgcolor": "#F5F6F9",
        "template": {
         "data": {
          "bar": [
           {
            "error_x": {
             "color": "#2a3f5f"
            },
            "error_y": {
             "color": "#2a3f5f"
            },
            "marker": {
             "line": {
              "color": "#E5ECF6",
              "width": 0.5
             },
             "pattern": {
              "fillmode": "overlay",
              "size": 10,
              "solidity": 0.2
             }
            },
            "type": "bar"
           }
          ],
          "barpolar": [
           {
            "marker": {
             "line": {
              "color": "#E5ECF6",
              "width": 0.5
             },
             "pattern": {
              "fillmode": "overlay",
              "size": 10,
              "solidity": 0.2
             }
            },
            "type": "barpolar"
           }
          ],
          "carpet": [
           {
            "aaxis": {
             "endlinecolor": "#2a3f5f",
             "gridcolor": "white",
             "linecolor": "white",
             "minorgridcolor": "white",
             "startlinecolor": "#2a3f5f"
            },
            "baxis": {
             "endlinecolor": "#2a3f5f",
             "gridcolor": "white",
             "linecolor": "white",
             "minorgridcolor": "white",
             "startlinecolor": "#2a3f5f"
            },
            "type": "carpet"
           }
          ],
          "choropleth": [
           {
            "colorbar": {
             "outlinewidth": 0,
             "ticks": ""
            },
            "type": "choropleth"
           }
          ],
          "contour": [
           {
            "colorbar": {
             "outlinewidth": 0,
             "ticks": ""
            },
            "colorscale": [
             [
              0,
              "#0d0887"
             ],
             [
              0.1111111111111111,
              "#46039f"
             ],
             [
              0.2222222222222222,
              "#7201a8"
             ],
             [
              0.3333333333333333,
              "#9c179e"
             ],
             [
              0.4444444444444444,
              "#bd3786"
             ],
             [
              0.5555555555555556,
              "#d8576b"
             ],
             [
              0.6666666666666666,
              "#ed7953"
             ],
             [
              0.7777777777777778,
              "#fb9f3a"
             ],
             [
              0.8888888888888888,
              "#fdca26"
             ],
             [
              1,
              "#f0f921"
             ]
            ],
            "type": "contour"
           }
          ],
          "contourcarpet": [
           {
            "colorbar": {
             "outlinewidth": 0,
             "ticks": ""
            },
            "type": "contourcarpet"
           }
          ],
          "heatmap": [
           {
            "colorbar": {
             "outlinewidth": 0,
             "ticks": ""
            },
            "colorscale": [
             [
              0,
              "#0d0887"
             ],
             [
              0.1111111111111111,
              "#46039f"
             ],
             [
              0.2222222222222222,
              "#7201a8"
             ],
             [
              0.3333333333333333,
              "#9c179e"
             ],
             [
              0.4444444444444444,
              "#bd3786"
             ],
             [
              0.5555555555555556,
              "#d8576b"
             ],
             [
              0.6666666666666666,
              "#ed7953"
             ],
             [
              0.7777777777777778,
              "#fb9f3a"
             ],
             [
              0.8888888888888888,
              "#fdca26"
             ],
             [
              1,
              "#f0f921"
             ]
            ],
            "type": "heatmap"
           }
          ],
          "heatmapgl": [
           {
            "colorbar": {
             "outlinewidth": 0,
             "ticks": ""
            },
            "colorscale": [
             [
              0,
              "#0d0887"
             ],
             [
              0.1111111111111111,
              "#46039f"
             ],
             [
              0.2222222222222222,
              "#7201a8"
             ],
             [
              0.3333333333333333,
              "#9c179e"
             ],
             [
              0.4444444444444444,
              "#bd3786"
             ],
             [
              0.5555555555555556,
              "#d8576b"
             ],
             [
              0.6666666666666666,
              "#ed7953"
             ],
             [
              0.7777777777777778,
              "#fb9f3a"
             ],
             [
              0.8888888888888888,
              "#fdca26"
             ],
             [
              1,
              "#f0f921"
             ]
            ],
            "type": "heatmapgl"
           }
          ],
          "histogram": [
           {
            "marker": {
             "pattern": {
              "fillmode": "overlay",
              "size": 10,
              "solidity": 0.2
             }
            },
            "type": "histogram"
           }
          ],
          "histogram2d": [
           {
            "colorbar": {
             "outlinewidth": 0,
             "ticks": ""
            },
            "colorscale": [
             [
              0,
              "#0d0887"
             ],
             [
              0.1111111111111111,
              "#46039f"
             ],
             [
              0.2222222222222222,
              "#7201a8"
             ],
             [
              0.3333333333333333,
              "#9c179e"
             ],
             [
              0.4444444444444444,
              "#bd3786"
             ],
             [
              0.5555555555555556,
              "#d8576b"
             ],
             [
              0.6666666666666666,
              "#ed7953"
             ],
             [
              0.7777777777777778,
              "#fb9f3a"
             ],
             [
              0.8888888888888888,
              "#fdca26"
             ],
             [
              1,
              "#f0f921"
             ]
            ],
            "type": "histogram2d"
           }
          ],
          "histogram2dcontour": [
           {
            "colorbar": {
             "outlinewidth": 0,
             "ticks": ""
            },
            "colorscale": [
             [
              0,
              "#0d0887"
             ],
             [
              0.1111111111111111,
              "#46039f"
             ],
             [
              0.2222222222222222,
              "#7201a8"
             ],
             [
              0.3333333333333333,
              "#9c179e"
             ],
             [
              0.4444444444444444,
              "#bd3786"
             ],
             [
              0.5555555555555556,
              "#d8576b"
             ],
             [
              0.6666666666666666,
              "#ed7953"
             ],
             [
              0.7777777777777778,
              "#fb9f3a"
             ],
             [
              0.8888888888888888,
              "#fdca26"
             ],
             [
              1,
              "#f0f921"
             ]
            ],
            "type": "histogram2dcontour"
           }
          ],
          "mesh3d": [
           {
            "colorbar": {
             "outlinewidth": 0,
             "ticks": ""
            },
            "type": "mesh3d"
           }
          ],
          "parcoords": [
           {
            "line": {
             "colorbar": {
              "outlinewidth": 0,
              "ticks": ""
             }
            },
            "type": "parcoords"
           }
          ],
          "pie": [
           {
            "automargin": true,
            "type": "pie"
           }
          ],
          "scatter": [
           {
            "fillpattern": {
             "fillmode": "overlay",
             "size": 10,
             "solidity": 0.2
            },
            "type": "scatter"
           }
          ],
          "scatter3d": [
           {
            "line": {
             "colorbar": {
              "outlinewidth": 0,
              "ticks": ""
             }
            },
            "marker": {
             "colorbar": {
              "outlinewidth": 0,
              "ticks": ""
             }
            },
            "type": "scatter3d"
           }
          ],
          "scattercarpet": [
           {
            "marker": {
             "colorbar": {
              "outlinewidth": 0,
              "ticks": ""
             }
            },
            "type": "scattercarpet"
           }
          ],
          "scattergeo": [
           {
            "marker": {
             "colorbar": {
              "outlinewidth": 0,
              "ticks": ""
             }
            },
            "type": "scattergeo"
           }
          ],
          "scattergl": [
           {
            "marker": {
             "colorbar": {
              "outlinewidth": 0,
              "ticks": ""
             }
            },
            "type": "scattergl"
           }
          ],
          "scattermapbox": [
           {
            "marker": {
             "colorbar": {
              "outlinewidth": 0,
              "ticks": ""
             }
            },
            "type": "scattermapbox"
           }
          ],
          "scatterpolar": [
           {
            "marker": {
             "colorbar": {
              "outlinewidth": 0,
              "ticks": ""
             }
            },
            "type": "scatterpolar"
           }
          ],
          "scatterpolargl": [
           {
            "marker": {
             "colorbar": {
              "outlinewidth": 0,
              "ticks": ""
             }
            },
            "type": "scatterpolargl"
           }
          ],
          "scatterternary": [
           {
            "marker": {
             "colorbar": {
              "outlinewidth": 0,
              "ticks": ""
             }
            },
            "type": "scatterternary"
           }
          ],
          "surface": [
           {
            "colorbar": {
             "outlinewidth": 0,
             "ticks": ""
            },
            "colorscale": [
             [
              0,
              "#0d0887"
             ],
             [
              0.1111111111111111,
              "#46039f"
             ],
             [
              0.2222222222222222,
              "#7201a8"
             ],
             [
              0.3333333333333333,
              "#9c179e"
             ],
             [
              0.4444444444444444,
              "#bd3786"
             ],
             [
              0.5555555555555556,
              "#d8576b"
             ],
             [
              0.6666666666666666,
              "#ed7953"
             ],
             [
              0.7777777777777778,
              "#fb9f3a"
             ],
             [
              0.8888888888888888,
              "#fdca26"
             ],
             [
              1,
              "#f0f921"
             ]
            ],
            "type": "surface"
           }
          ],
          "table": [
           {
            "cells": {
             "fill": {
              "color": "#EBF0F8"
             },
             "line": {
              "color": "white"
             }
            },
            "header": {
             "fill": {
              "color": "#C8D4E3"
             },
             "line": {
              "color": "white"
             }
            },
            "type": "table"
           }
          ]
         },
         "layout": {
          "annotationdefaults": {
           "arrowcolor": "#2a3f5f",
           "arrowhead": 0,
           "arrowwidth": 1
          },
          "autotypenumbers": "strict",
          "coloraxis": {
           "colorbar": {
            "outlinewidth": 0,
            "ticks": ""
           }
          },
          "colorscale": {
           "diverging": [
            [
             0,
             "#8e0152"
            ],
            [
             0.1,
             "#c51b7d"
            ],
            [
             0.2,
             "#de77ae"
            ],
            [
             0.3,
             "#f1b6da"
            ],
            [
             0.4,
             "#fde0ef"
            ],
            [
             0.5,
             "#f7f7f7"
            ],
            [
             0.6,
             "#e6f5d0"
            ],
            [
             0.7,
             "#b8e186"
            ],
            [
             0.8,
             "#7fbc41"
            ],
            [
             0.9,
             "#4d9221"
            ],
            [
             1,
             "#276419"
            ]
           ],
           "sequential": [
            [
             0,
             "#0d0887"
            ],
            [
             0.1111111111111111,
             "#46039f"
            ],
            [
             0.2222222222222222,
             "#7201a8"
            ],
            [
             0.3333333333333333,
             "#9c179e"
            ],
            [
             0.4444444444444444,
             "#bd3786"
            ],
            [
             0.5555555555555556,
             "#d8576b"
            ],
            [
             0.6666666666666666,
             "#ed7953"
            ],
            [
             0.7777777777777778,
             "#fb9f3a"
            ],
            [
             0.8888888888888888,
             "#fdca26"
            ],
            [
             1,
             "#f0f921"
            ]
           ],
           "sequentialminus": [
            [
             0,
             "#0d0887"
            ],
            [
             0.1111111111111111,
             "#46039f"
            ],
            [
             0.2222222222222222,
             "#7201a8"
            ],
            [
             0.3333333333333333,
             "#9c179e"
            ],
            [
             0.4444444444444444,
             "#bd3786"
            ],
            [
             0.5555555555555556,
             "#d8576b"
            ],
            [
             0.6666666666666666,
             "#ed7953"
            ],
            [
             0.7777777777777778,
             "#fb9f3a"
            ],
            [
             0.8888888888888888,
             "#fdca26"
            ],
            [
             1,
             "#f0f921"
            ]
           ]
          },
          "colorway": [
           "#636efa",
           "#EF553B",
           "#00cc96",
           "#ab63fa",
           "#FFA15A",
           "#19d3f3",
           "#FF6692",
           "#B6E880",
           "#FF97FF",
           "#FECB52"
          ],
          "font": {
           "color": "#2a3f5f"
          },
          "geo": {
           "bgcolor": "white",
           "lakecolor": "white",
           "landcolor": "#E5ECF6",
           "showlakes": true,
           "showland": true,
           "subunitcolor": "white"
          },
          "hoverlabel": {
           "align": "left"
          },
          "hovermode": "closest",
          "mapbox": {
           "style": "light"
          },
          "paper_bgcolor": "white",
          "plot_bgcolor": "#E5ECF6",
          "polar": {
           "angularaxis": {
            "gridcolor": "white",
            "linecolor": "white",
            "ticks": ""
           },
           "bgcolor": "#E5ECF6",
           "radialaxis": {
            "gridcolor": "white",
            "linecolor": "white",
            "ticks": ""
           }
          },
          "scene": {
           "xaxis": {
            "backgroundcolor": "#E5ECF6",
            "gridcolor": "white",
            "gridwidth": 2,
            "linecolor": "white",
            "showbackground": true,
            "ticks": "",
            "zerolinecolor": "white"
           },
           "yaxis": {
            "backgroundcolor": "#E5ECF6",
            "gridcolor": "white",
            "gridwidth": 2,
            "linecolor": "white",
            "showbackground": true,
            "ticks": "",
            "zerolinecolor": "white"
           },
           "zaxis": {
            "backgroundcolor": "#E5ECF6",
            "gridcolor": "white",
            "gridwidth": 2,
            "linecolor": "white",
            "showbackground": true,
            "ticks": "",
            "zerolinecolor": "white"
           }
          },
          "shapedefaults": {
           "line": {
            "color": "#2a3f5f"
           }
          },
          "ternary": {
           "aaxis": {
            "gridcolor": "white",
            "linecolor": "white",
            "ticks": ""
           },
           "baxis": {
            "gridcolor": "white",
            "linecolor": "white",
            "ticks": ""
           },
           "bgcolor": "#E5ECF6",
           "caxis": {
            "gridcolor": "white",
            "linecolor": "white",
            "ticks": ""
           }
          },
          "title": {
           "x": 0.05
          },
          "xaxis": {
           "automargin": true,
           "gridcolor": "white",
           "linecolor": "white",
           "ticks": "",
           "title": {
            "standoff": 15
           },
           "zerolinecolor": "white",
           "zerolinewidth": 2
          },
          "yaxis": {
           "automargin": true,
           "gridcolor": "white",
           "linecolor": "white",
           "ticks": "",
           "title": {
            "standoff": 15
           },
           "zerolinecolor": "white",
           "zerolinewidth": 2
          }
         }
        },
        "title": {
         "font": {
          "color": "#4D5663"
         }
        },
        "xaxis": {
         "gridcolor": "#E1E5ED",
         "showgrid": true,
         "tickfont": {
          "color": "#4D5663"
         },
         "title": {
          "font": {
           "color": "#4D5663"
          },
          "text": ""
         },
         "zerolinecolor": "#E1E5ED"
        },
        "yaxis": {
         "gridcolor": "#E1E5ED",
         "showgrid": true,
         "tickfont": {
          "color": "#4D5663"
         },
         "title": {
          "font": {
           "color": "#4D5663"
          },
          "text": ""
         },
         "zerolinecolor": "#E1E5ED"
        }
       }
      },
      "text/html": [
       "<div>                            <div id=\"217217a2-269d-43a5-8264-0794b797152c\" class=\"plotly-graph-div\" style=\"height:525px; width:100%;\"></div>            <script type=\"text/javascript\">                require([\"plotly\"], function(Plotly) {                    window.PLOTLYENV=window.PLOTLYENV || {};\n",
       "                    window.PLOTLYENV.BASE_URL='https://plot.ly';                                    if (document.getElementById(\"217217a2-269d-43a5-8264-0794b797152c\")) {                    Plotly.newPlot(                        \"217217a2-269d-43a5-8264-0794b797152c\",                        [{\"line\":{\"color\":\"rgba(255, 153, 51, 1.0)\",\"dash\":\"solid\",\"shape\":\"linear\",\"width\":1.3},\"marker\":{\"size\":12,\"symbol\":\"circle\"},\"mode\":\"markers\",\"name\":\"B\",\"text\":\"\",\"x\":[0.2995340644905276,0.2205656269030712,-1.056174561092009,0.7591755781504027,0.5326518825067723,1.3044295669802999,1.3281748768339667,-0.09922890207163876,0.6072907830909519,1.1826119307800274,0.3200674123294725,-1.3012890682412424,0.39931988429912135,-0.34879285248827946,-0.7832437352797109,0.24797886378743955,-2.8773605354838225,-0.41107805336817005,0.5428332832960278,-0.34202223323909137,0.6703636476801402,0.47056109501637966,0.5846164712351315,-0.8661517063929928,0.44216954122070445,0.5363106882328338,-0.27977714813382293,0.4380768982907296,-1.4402841454482886,0.256393582261463,1.6549149482388437,-1.3228705669839567,-0.7548185531120883,0.44297261355922846,1.3580577186497258,-0.5112296882385694,1.5741392211439416,0.13109722398933546,-1.4680827312451141,-0.6059423946677869,0.144459267134369,0.3021717007693336,-0.22744784266075352,0.03450363264569284,0.05177307263761155,0.1399332902663523,1.0229527181140547,-2.6321782638398714,0.7745092754158753,-1.5926248522708426,-0.7031009714908845,0.6710809023395671,-0.1438163725324016,0.5082776496708439,0.0767121365819478,0.6457023848381208,-0.3580314419038346,-0.774839310285214,-0.43466021347224676,-1.6000577779988623,0.5086471535040138,0.37958854995049945,-1.0104442910961025,-0.1514509188462034,-0.12732690203447797,0.8209231907729551,-0.22640327123432807,1.4349981836183903,0.6890109446047313,1.0775411458507147,0.29266013334010743,0.3923131280672186,-0.7821903721721409,-1.2087665128305551,-0.04005064789093992,0.586175941448245,-0.39450460865418874,0.7192182080202476,1.8882833172200184,0.8341960000980053,0.049935991907428666,0.47937322066761195,0.07588343334653969,-0.2526301622266612,-0.5289099932191659,-0.10700710269370067,-0.4631513345001443,-0.3924250958303068,1.3819170930309186,-1.0229272234878124,-0.8612817624400896,-1.3485764993188754,1.9759061035618044,-0.9223448984827978,-1.0472531006509647,-0.09420726481422516,0.13682879551914487,-0.6242439989143544,-0.6080082561687519,-0.335483037163409],\"y\":[0.6288873106968625,1.5552086644040435,-0.2020635486518468,-0.37421286494601835,-1.8901354714158451,1.1642455262282074,-1.0335669426310594,-0.6453012578613595,-2.500063217723074,0.6208790462589199,-0.33919024377178775,-0.6323417396484956,-1.1042370872644787,0.687990530703836,-0.29482934295310004,-1.760993482777496,0.4013839131768914,-0.19128337287568414,0.38831658519353085,1.1022164676082287,-0.7658403159220927,0.39746202290875726,0.05253399825030649,-1.2986978680790244,0.5516764900142631,0.9594352288580066,-1.6176146758116843,0.566234817380164,0.03291261568889055,-0.10412367010856544,0.18813480982253722,0.33139764237225916,-0.4352051883947046,-0.1850665849362166,1.977129824661224,-0.716727900543721,-0.9962485346727465,2.1457330602622915,1.4786805379182806,-0.3073961040236371,0.5190635210197534,-0.2977117536092024,1.07655420499391,1.6402869584964106,-0.6736312859201243,-0.5421796901027264,0.2609352631947877,-0.2243329499018594,0.1421432931661823,1.093261930610181,0.30912184023215555,0.5274847296838001,-0.8482473955350368,-1.1740459296667167,0.12050195080175524,0.6917000321710234,-0.24954254013796354,-0.0555574867666861,-0.11674030611528681,-1.334786476612104,-0.7223974650682061,1.4343193468848872,-1.3171815064176886,-0.6898579117892474,-0.30456626778121365,-0.38585924100511965,-0.8134747561637852,2.010879165813113,1.8244088747007474,-0.3670493932221158,0.03065143496118238,-0.6766752794932412,-0.21596160514515156,-0.3343960409842762,-0.5872454814216169,-0.2983674285813973,0.2681694412271725,-0.5871780526557453,0.6345911247702245,-0.48125080520848557,-1.537351065621091,0.6715502994413234,-0.7553536888819133,0.7274770340599817,0.38331131279465536,0.20240429935781595,-0.03698531065937211,0.7746536546150867,-0.12743883677501958,-0.6009991380090095,0.7150308408538082,0.8401271366581022,-1.8596498898007021,-1.3339806032828878,-0.22198748420879716,-1.8428750875481898,0.4064685378532878,-0.1475973932807723,-0.8804055552297537,-1.580823041015511],\"type\":\"scatter\"}],                        {\"legend\":{\"bgcolor\":\"#F5F6F9\",\"font\":{\"color\":\"#4D5663\"}},\"paper_bgcolor\":\"#F5F6F9\",\"plot_bgcolor\":\"#F5F6F9\",\"template\":{\"data\":{\"barpolar\":[{\"marker\":{\"line\":{\"color\":\"#E5ECF6\",\"width\":0.5},\"pattern\":{\"fillmode\":\"overlay\",\"size\":10,\"solidity\":0.2}},\"type\":\"barpolar\"}],\"bar\":[{\"error_x\":{\"color\":\"#2a3f5f\"},\"error_y\":{\"color\":\"#2a3f5f\"},\"marker\":{\"line\":{\"color\":\"#E5ECF6\",\"width\":0.5},\"pattern\":{\"fillmode\":\"overlay\",\"size\":10,\"solidity\":0.2}},\"type\":\"bar\"}],\"carpet\":[{\"aaxis\":{\"endlinecolor\":\"#2a3f5f\",\"gridcolor\":\"white\",\"linecolor\":\"white\",\"minorgridcolor\":\"white\",\"startlinecolor\":\"#2a3f5f\"},\"baxis\":{\"endlinecolor\":\"#2a3f5f\",\"gridcolor\":\"white\",\"linecolor\":\"white\",\"minorgridcolor\":\"white\",\"startlinecolor\":\"#2a3f5f\"},\"type\":\"carpet\"}],\"choropleth\":[{\"colorbar\":{\"outlinewidth\":0,\"ticks\":\"\"},\"type\":\"choropleth\"}],\"contourcarpet\":[{\"colorbar\":{\"outlinewidth\":0,\"ticks\":\"\"},\"type\":\"contourcarpet\"}],\"contour\":[{\"colorbar\":{\"outlinewidth\":0,\"ticks\":\"\"},\"colorscale\":[[0.0,\"#0d0887\"],[0.1111111111111111,\"#46039f\"],[0.2222222222222222,\"#7201a8\"],[0.3333333333333333,\"#9c179e\"],[0.4444444444444444,\"#bd3786\"],[0.5555555555555556,\"#d8576b\"],[0.6666666666666666,\"#ed7953\"],[0.7777777777777778,\"#fb9f3a\"],[0.8888888888888888,\"#fdca26\"],[1.0,\"#f0f921\"]],\"type\":\"contour\"}],\"heatmapgl\":[{\"colorbar\":{\"outlinewidth\":0,\"ticks\":\"\"},\"colorscale\":[[0.0,\"#0d0887\"],[0.1111111111111111,\"#46039f\"],[0.2222222222222222,\"#7201a8\"],[0.3333333333333333,\"#9c179e\"],[0.4444444444444444,\"#bd3786\"],[0.5555555555555556,\"#d8576b\"],[0.6666666666666666,\"#ed7953\"],[0.7777777777777778,\"#fb9f3a\"],[0.8888888888888888,\"#fdca26\"],[1.0,\"#f0f921\"]],\"type\":\"heatmapgl\"}],\"heatmap\":[{\"colorbar\":{\"outlinewidth\":0,\"ticks\":\"\"},\"colorscale\":[[0.0,\"#0d0887\"],[0.1111111111111111,\"#46039f\"],[0.2222222222222222,\"#7201a8\"],[0.3333333333333333,\"#9c179e\"],[0.4444444444444444,\"#bd3786\"],[0.5555555555555556,\"#d8576b\"],[0.6666666666666666,\"#ed7953\"],[0.7777777777777778,\"#fb9f3a\"],[0.8888888888888888,\"#fdca26\"],[1.0,\"#f0f921\"]],\"type\":\"heatmap\"}],\"histogram2dcontour\":[{\"colorbar\":{\"outlinewidth\":0,\"ticks\":\"\"},\"colorscale\":[[0.0,\"#0d0887\"],[0.1111111111111111,\"#46039f\"],[0.2222222222222222,\"#7201a8\"],[0.3333333333333333,\"#9c179e\"],[0.4444444444444444,\"#bd3786\"],[0.5555555555555556,\"#d8576b\"],[0.6666666666666666,\"#ed7953\"],[0.7777777777777778,\"#fb9f3a\"],[0.8888888888888888,\"#fdca26\"],[1.0,\"#f0f921\"]],\"type\":\"histogram2dcontour\"}],\"histogram2d\":[{\"colorbar\":{\"outlinewidth\":0,\"ticks\":\"\"},\"colorscale\":[[0.0,\"#0d0887\"],[0.1111111111111111,\"#46039f\"],[0.2222222222222222,\"#7201a8\"],[0.3333333333333333,\"#9c179e\"],[0.4444444444444444,\"#bd3786\"],[0.5555555555555556,\"#d8576b\"],[0.6666666666666666,\"#ed7953\"],[0.7777777777777778,\"#fb9f3a\"],[0.8888888888888888,\"#fdca26\"],[1.0,\"#f0f921\"]],\"type\":\"histogram2d\"}],\"histogram\":[{\"marker\":{\"pattern\":{\"fillmode\":\"overlay\",\"size\":10,\"solidity\":0.2}},\"type\":\"histogram\"}],\"mesh3d\":[{\"colorbar\":{\"outlinewidth\":0,\"ticks\":\"\"},\"type\":\"mesh3d\"}],\"parcoords\":[{\"line\":{\"colorbar\":{\"outlinewidth\":0,\"ticks\":\"\"}},\"type\":\"parcoords\"}],\"pie\":[{\"automargin\":true,\"type\":\"pie\"}],\"scatter3d\":[{\"line\":{\"colorbar\":{\"outlinewidth\":0,\"ticks\":\"\"}},\"marker\":{\"colorbar\":{\"outlinewidth\":0,\"ticks\":\"\"}},\"type\":\"scatter3d\"}],\"scattercarpet\":[{\"marker\":{\"colorbar\":{\"outlinewidth\":0,\"ticks\":\"\"}},\"type\":\"scattercarpet\"}],\"scattergeo\":[{\"marker\":{\"colorbar\":{\"outlinewidth\":0,\"ticks\":\"\"}},\"type\":\"scattergeo\"}],\"scattergl\":[{\"marker\":{\"colorbar\":{\"outlinewidth\":0,\"ticks\":\"\"}},\"type\":\"scattergl\"}],\"scattermapbox\":[{\"marker\":{\"colorbar\":{\"outlinewidth\":0,\"ticks\":\"\"}},\"type\":\"scattermapbox\"}],\"scatterpolargl\":[{\"marker\":{\"colorbar\":{\"outlinewidth\":0,\"ticks\":\"\"}},\"type\":\"scatterpolargl\"}],\"scatterpolar\":[{\"marker\":{\"colorbar\":{\"outlinewidth\":0,\"ticks\":\"\"}},\"type\":\"scatterpolar\"}],\"scatter\":[{\"fillpattern\":{\"fillmode\":\"overlay\",\"size\":10,\"solidity\":0.2},\"type\":\"scatter\"}],\"scatterternary\":[{\"marker\":{\"colorbar\":{\"outlinewidth\":0,\"ticks\":\"\"}},\"type\":\"scatterternary\"}],\"surface\":[{\"colorbar\":{\"outlinewidth\":0,\"ticks\":\"\"},\"colorscale\":[[0.0,\"#0d0887\"],[0.1111111111111111,\"#46039f\"],[0.2222222222222222,\"#7201a8\"],[0.3333333333333333,\"#9c179e\"],[0.4444444444444444,\"#bd3786\"],[0.5555555555555556,\"#d8576b\"],[0.6666666666666666,\"#ed7953\"],[0.7777777777777778,\"#fb9f3a\"],[0.8888888888888888,\"#fdca26\"],[1.0,\"#f0f921\"]],\"type\":\"surface\"}],\"table\":[{\"cells\":{\"fill\":{\"color\":\"#EBF0F8\"},\"line\":{\"color\":\"white\"}},\"header\":{\"fill\":{\"color\":\"#C8D4E3\"},\"line\":{\"color\":\"white\"}},\"type\":\"table\"}]},\"layout\":{\"annotationdefaults\":{\"arrowcolor\":\"#2a3f5f\",\"arrowhead\":0,\"arrowwidth\":1},\"autotypenumbers\":\"strict\",\"coloraxis\":{\"colorbar\":{\"outlinewidth\":0,\"ticks\":\"\"}},\"colorscale\":{\"diverging\":[[0,\"#8e0152\"],[0.1,\"#c51b7d\"],[0.2,\"#de77ae\"],[0.3,\"#f1b6da\"],[0.4,\"#fde0ef\"],[0.5,\"#f7f7f7\"],[0.6,\"#e6f5d0\"],[0.7,\"#b8e186\"],[0.8,\"#7fbc41\"],[0.9,\"#4d9221\"],[1,\"#276419\"]],\"sequential\":[[0.0,\"#0d0887\"],[0.1111111111111111,\"#46039f\"],[0.2222222222222222,\"#7201a8\"],[0.3333333333333333,\"#9c179e\"],[0.4444444444444444,\"#bd3786\"],[0.5555555555555556,\"#d8576b\"],[0.6666666666666666,\"#ed7953\"],[0.7777777777777778,\"#fb9f3a\"],[0.8888888888888888,\"#fdca26\"],[1.0,\"#f0f921\"]],\"sequentialminus\":[[0.0,\"#0d0887\"],[0.1111111111111111,\"#46039f\"],[0.2222222222222222,\"#7201a8\"],[0.3333333333333333,\"#9c179e\"],[0.4444444444444444,\"#bd3786\"],[0.5555555555555556,\"#d8576b\"],[0.6666666666666666,\"#ed7953\"],[0.7777777777777778,\"#fb9f3a\"],[0.8888888888888888,\"#fdca26\"],[1.0,\"#f0f921\"]]},\"colorway\":[\"#636efa\",\"#EF553B\",\"#00cc96\",\"#ab63fa\",\"#FFA15A\",\"#19d3f3\",\"#FF6692\",\"#B6E880\",\"#FF97FF\",\"#FECB52\"],\"font\":{\"color\":\"#2a3f5f\"},\"geo\":{\"bgcolor\":\"white\",\"lakecolor\":\"white\",\"landcolor\":\"#E5ECF6\",\"showlakes\":true,\"showland\":true,\"subunitcolor\":\"white\"},\"hoverlabel\":{\"align\":\"left\"},\"hovermode\":\"closest\",\"mapbox\":{\"style\":\"light\"},\"paper_bgcolor\":\"white\",\"plot_bgcolor\":\"#E5ECF6\",\"polar\":{\"angularaxis\":{\"gridcolor\":\"white\",\"linecolor\":\"white\",\"ticks\":\"\"},\"bgcolor\":\"#E5ECF6\",\"radialaxis\":{\"gridcolor\":\"white\",\"linecolor\":\"white\",\"ticks\":\"\"}},\"scene\":{\"xaxis\":{\"backgroundcolor\":\"#E5ECF6\",\"gridcolor\":\"white\",\"gridwidth\":2,\"linecolor\":\"white\",\"showbackground\":true,\"ticks\":\"\",\"zerolinecolor\":\"white\"},\"yaxis\":{\"backgroundcolor\":\"#E5ECF6\",\"gridcolor\":\"white\",\"gridwidth\":2,\"linecolor\":\"white\",\"showbackground\":true,\"ticks\":\"\",\"zerolinecolor\":\"white\"},\"zaxis\":{\"backgroundcolor\":\"#E5ECF6\",\"gridcolor\":\"white\",\"gridwidth\":2,\"linecolor\":\"white\",\"showbackground\":true,\"ticks\":\"\",\"zerolinecolor\":\"white\"}},\"shapedefaults\":{\"line\":{\"color\":\"#2a3f5f\"}},\"ternary\":{\"aaxis\":{\"gridcolor\":\"white\",\"linecolor\":\"white\",\"ticks\":\"\"},\"baxis\":{\"gridcolor\":\"white\",\"linecolor\":\"white\",\"ticks\":\"\"},\"bgcolor\":\"#E5ECF6\",\"caxis\":{\"gridcolor\":\"white\",\"linecolor\":\"white\",\"ticks\":\"\"}},\"title\":{\"x\":0.05},\"xaxis\":{\"automargin\":true,\"gridcolor\":\"white\",\"linecolor\":\"white\",\"ticks\":\"\",\"title\":{\"standoff\":15},\"zerolinecolor\":\"white\",\"zerolinewidth\":2},\"yaxis\":{\"automargin\":true,\"gridcolor\":\"white\",\"linecolor\":\"white\",\"ticks\":\"\",\"title\":{\"standoff\":15},\"zerolinecolor\":\"white\",\"zerolinewidth\":2}}},\"title\":{\"font\":{\"color\":\"#4D5663\"}},\"xaxis\":{\"gridcolor\":\"#E1E5ED\",\"showgrid\":true,\"tickfont\":{\"color\":\"#4D5663\"},\"title\":{\"font\":{\"color\":\"#4D5663\"},\"text\":\"\"},\"zerolinecolor\":\"#E1E5ED\"},\"yaxis\":{\"gridcolor\":\"#E1E5ED\",\"showgrid\":true,\"tickfont\":{\"color\":\"#4D5663\"},\"title\":{\"font\":{\"color\":\"#4D5663\"},\"text\":\"\"},\"zerolinecolor\":\"#E1E5ED\"}},                        {\"showLink\": true, \"linkText\": \"Export to plot.ly\", \"plotlyServerURL\": \"https://plot.ly\", \"responsive\": true}                    ).then(function(){\n",
       "                            \n",
       "var gd = document.getElementById('217217a2-269d-43a5-8264-0794b797152c');\n",
       "var x = new MutationObserver(function (mutations, observer) {{\n",
       "        var display = window.getComputedStyle(gd).display;\n",
       "        if (!display || display === 'none') {{\n",
       "            console.log([gd, 'removed!']);\n",
       "            Plotly.purge(gd);\n",
       "            observer.disconnect();\n",
       "        }}\n",
       "}});\n",
       "\n",
       "// Listen for the removal of the full notebook cells\n",
       "var notebookContainer = gd.closest('#notebook-container');\n",
       "if (notebookContainer) {{\n",
       "    x.observe(notebookContainer, {childList: true});\n",
       "}}\n",
       "\n",
       "// Listen for the clearing of the current output cell\n",
       "var outputEl = gd.closest('.output');\n",
       "if (outputEl) {{\n",
       "    x.observe(outputEl, {childList: true});\n",
       "}}\n",
       "\n",
       "                        })                };                });            </script>        </div>"
      ]
     },
     "metadata": {},
     "output_type": "display_data"
    }
   ],
   "source": [
    "df.iplot(kind='scatter',x='A',y='B',mode='markers') #can specify size too"
   ]
  },
  {
   "cell_type": "code",
   "execution_count": 24,
   "id": "90ebc9ac",
   "metadata": {},
   "outputs": [
    {
     "data": {
      "application/vnd.plotly.v1+json": {
       "config": {
        "linkText": "Export to plot.ly",
        "plotlyServerURL": "https://plot.ly",
        "showLink": true
       },
       "data": [
        {
         "marker": {
          "color": "rgba(255, 153, 51, 0.6)",
          "line": {
           "color": "rgba(255, 153, 51, 1.0)",
           "width": 1
          }
         },
         "name": "Values",
         "orientation": "v",
         "text": "",
         "type": "bar",
         "x": [
          "A",
          "B",
          "C"
         ],
         "y": [
          32,
          43,
          50
         ]
        }
       ],
       "layout": {
        "legend": {
         "bgcolor": "#F5F6F9",
         "font": {
          "color": "#4D5663"
         }
        },
        "paper_bgcolor": "#F5F6F9",
        "plot_bgcolor": "#F5F6F9",
        "template": {
         "data": {
          "bar": [
           {
            "error_x": {
             "color": "#2a3f5f"
            },
            "error_y": {
             "color": "#2a3f5f"
            },
            "marker": {
             "line": {
              "color": "#E5ECF6",
              "width": 0.5
             },
             "pattern": {
              "fillmode": "overlay",
              "size": 10,
              "solidity": 0.2
             }
            },
            "type": "bar"
           }
          ],
          "barpolar": [
           {
            "marker": {
             "line": {
              "color": "#E5ECF6",
              "width": 0.5
             },
             "pattern": {
              "fillmode": "overlay",
              "size": 10,
              "solidity": 0.2
             }
            },
            "type": "barpolar"
           }
          ],
          "carpet": [
           {
            "aaxis": {
             "endlinecolor": "#2a3f5f",
             "gridcolor": "white",
             "linecolor": "white",
             "minorgridcolor": "white",
             "startlinecolor": "#2a3f5f"
            },
            "baxis": {
             "endlinecolor": "#2a3f5f",
             "gridcolor": "white",
             "linecolor": "white",
             "minorgridcolor": "white",
             "startlinecolor": "#2a3f5f"
            },
            "type": "carpet"
           }
          ],
          "choropleth": [
           {
            "colorbar": {
             "outlinewidth": 0,
             "ticks": ""
            },
            "type": "choropleth"
           }
          ],
          "contour": [
           {
            "colorbar": {
             "outlinewidth": 0,
             "ticks": ""
            },
            "colorscale": [
             [
              0,
              "#0d0887"
             ],
             [
              0.1111111111111111,
              "#46039f"
             ],
             [
              0.2222222222222222,
              "#7201a8"
             ],
             [
              0.3333333333333333,
              "#9c179e"
             ],
             [
              0.4444444444444444,
              "#bd3786"
             ],
             [
              0.5555555555555556,
              "#d8576b"
             ],
             [
              0.6666666666666666,
              "#ed7953"
             ],
             [
              0.7777777777777778,
              "#fb9f3a"
             ],
             [
              0.8888888888888888,
              "#fdca26"
             ],
             [
              1,
              "#f0f921"
             ]
            ],
            "type": "contour"
           }
          ],
          "contourcarpet": [
           {
            "colorbar": {
             "outlinewidth": 0,
             "ticks": ""
            },
            "type": "contourcarpet"
           }
          ],
          "heatmap": [
           {
            "colorbar": {
             "outlinewidth": 0,
             "ticks": ""
            },
            "colorscale": [
             [
              0,
              "#0d0887"
             ],
             [
              0.1111111111111111,
              "#46039f"
             ],
             [
              0.2222222222222222,
              "#7201a8"
             ],
             [
              0.3333333333333333,
              "#9c179e"
             ],
             [
              0.4444444444444444,
              "#bd3786"
             ],
             [
              0.5555555555555556,
              "#d8576b"
             ],
             [
              0.6666666666666666,
              "#ed7953"
             ],
             [
              0.7777777777777778,
              "#fb9f3a"
             ],
             [
              0.8888888888888888,
              "#fdca26"
             ],
             [
              1,
              "#f0f921"
             ]
            ],
            "type": "heatmap"
           }
          ],
          "heatmapgl": [
           {
            "colorbar": {
             "outlinewidth": 0,
             "ticks": ""
            },
            "colorscale": [
             [
              0,
              "#0d0887"
             ],
             [
              0.1111111111111111,
              "#46039f"
             ],
             [
              0.2222222222222222,
              "#7201a8"
             ],
             [
              0.3333333333333333,
              "#9c179e"
             ],
             [
              0.4444444444444444,
              "#bd3786"
             ],
             [
              0.5555555555555556,
              "#d8576b"
             ],
             [
              0.6666666666666666,
              "#ed7953"
             ],
             [
              0.7777777777777778,
              "#fb9f3a"
             ],
             [
              0.8888888888888888,
              "#fdca26"
             ],
             [
              1,
              "#f0f921"
             ]
            ],
            "type": "heatmapgl"
           }
          ],
          "histogram": [
           {
            "marker": {
             "pattern": {
              "fillmode": "overlay",
              "size": 10,
              "solidity": 0.2
             }
            },
            "type": "histogram"
           }
          ],
          "histogram2d": [
           {
            "colorbar": {
             "outlinewidth": 0,
             "ticks": ""
            },
            "colorscale": [
             [
              0,
              "#0d0887"
             ],
             [
              0.1111111111111111,
              "#46039f"
             ],
             [
              0.2222222222222222,
              "#7201a8"
             ],
             [
              0.3333333333333333,
              "#9c179e"
             ],
             [
              0.4444444444444444,
              "#bd3786"
             ],
             [
              0.5555555555555556,
              "#d8576b"
             ],
             [
              0.6666666666666666,
              "#ed7953"
             ],
             [
              0.7777777777777778,
              "#fb9f3a"
             ],
             [
              0.8888888888888888,
              "#fdca26"
             ],
             [
              1,
              "#f0f921"
             ]
            ],
            "type": "histogram2d"
           }
          ],
          "histogram2dcontour": [
           {
            "colorbar": {
             "outlinewidth": 0,
             "ticks": ""
            },
            "colorscale": [
             [
              0,
              "#0d0887"
             ],
             [
              0.1111111111111111,
              "#46039f"
             ],
             [
              0.2222222222222222,
              "#7201a8"
             ],
             [
              0.3333333333333333,
              "#9c179e"
             ],
             [
              0.4444444444444444,
              "#bd3786"
             ],
             [
              0.5555555555555556,
              "#d8576b"
             ],
             [
              0.6666666666666666,
              "#ed7953"
             ],
             [
              0.7777777777777778,
              "#fb9f3a"
             ],
             [
              0.8888888888888888,
              "#fdca26"
             ],
             [
              1,
              "#f0f921"
             ]
            ],
            "type": "histogram2dcontour"
           }
          ],
          "mesh3d": [
           {
            "colorbar": {
             "outlinewidth": 0,
             "ticks": ""
            },
            "type": "mesh3d"
           }
          ],
          "parcoords": [
           {
            "line": {
             "colorbar": {
              "outlinewidth": 0,
              "ticks": ""
             }
            },
            "type": "parcoords"
           }
          ],
          "pie": [
           {
            "automargin": true,
            "type": "pie"
           }
          ],
          "scatter": [
           {
            "fillpattern": {
             "fillmode": "overlay",
             "size": 10,
             "solidity": 0.2
            },
            "type": "scatter"
           }
          ],
          "scatter3d": [
           {
            "line": {
             "colorbar": {
              "outlinewidth": 0,
              "ticks": ""
             }
            },
            "marker": {
             "colorbar": {
              "outlinewidth": 0,
              "ticks": ""
             }
            },
            "type": "scatter3d"
           }
          ],
          "scattercarpet": [
           {
            "marker": {
             "colorbar": {
              "outlinewidth": 0,
              "ticks": ""
             }
            },
            "type": "scattercarpet"
           }
          ],
          "scattergeo": [
           {
            "marker": {
             "colorbar": {
              "outlinewidth": 0,
              "ticks": ""
             }
            },
            "type": "scattergeo"
           }
          ],
          "scattergl": [
           {
            "marker": {
             "colorbar": {
              "outlinewidth": 0,
              "ticks": ""
             }
            },
            "type": "scattergl"
           }
          ],
          "scattermapbox": [
           {
            "marker": {
             "colorbar": {
              "outlinewidth": 0,
              "ticks": ""
             }
            },
            "type": "scattermapbox"
           }
          ],
          "scatterpolar": [
           {
            "marker": {
             "colorbar": {
              "outlinewidth": 0,
              "ticks": ""
             }
            },
            "type": "scatterpolar"
           }
          ],
          "scatterpolargl": [
           {
            "marker": {
             "colorbar": {
              "outlinewidth": 0,
              "ticks": ""
             }
            },
            "type": "scatterpolargl"
           }
          ],
          "scatterternary": [
           {
            "marker": {
             "colorbar": {
              "outlinewidth": 0,
              "ticks": ""
             }
            },
            "type": "scatterternary"
           }
          ],
          "surface": [
           {
            "colorbar": {
             "outlinewidth": 0,
             "ticks": ""
            },
            "colorscale": [
             [
              0,
              "#0d0887"
             ],
             [
              0.1111111111111111,
              "#46039f"
             ],
             [
              0.2222222222222222,
              "#7201a8"
             ],
             [
              0.3333333333333333,
              "#9c179e"
             ],
             [
              0.4444444444444444,
              "#bd3786"
             ],
             [
              0.5555555555555556,
              "#d8576b"
             ],
             [
              0.6666666666666666,
              "#ed7953"
             ],
             [
              0.7777777777777778,
              "#fb9f3a"
             ],
             [
              0.8888888888888888,
              "#fdca26"
             ],
             [
              1,
              "#f0f921"
             ]
            ],
            "type": "surface"
           }
          ],
          "table": [
           {
            "cells": {
             "fill": {
              "color": "#EBF0F8"
             },
             "line": {
              "color": "white"
             }
            },
            "header": {
             "fill": {
              "color": "#C8D4E3"
             },
             "line": {
              "color": "white"
             }
            },
            "type": "table"
           }
          ]
         },
         "layout": {
          "annotationdefaults": {
           "arrowcolor": "#2a3f5f",
           "arrowhead": 0,
           "arrowwidth": 1
          },
          "autotypenumbers": "strict",
          "coloraxis": {
           "colorbar": {
            "outlinewidth": 0,
            "ticks": ""
           }
          },
          "colorscale": {
           "diverging": [
            [
             0,
             "#8e0152"
            ],
            [
             0.1,
             "#c51b7d"
            ],
            [
             0.2,
             "#de77ae"
            ],
            [
             0.3,
             "#f1b6da"
            ],
            [
             0.4,
             "#fde0ef"
            ],
            [
             0.5,
             "#f7f7f7"
            ],
            [
             0.6,
             "#e6f5d0"
            ],
            [
             0.7,
             "#b8e186"
            ],
            [
             0.8,
             "#7fbc41"
            ],
            [
             0.9,
             "#4d9221"
            ],
            [
             1,
             "#276419"
            ]
           ],
           "sequential": [
            [
             0,
             "#0d0887"
            ],
            [
             0.1111111111111111,
             "#46039f"
            ],
            [
             0.2222222222222222,
             "#7201a8"
            ],
            [
             0.3333333333333333,
             "#9c179e"
            ],
            [
             0.4444444444444444,
             "#bd3786"
            ],
            [
             0.5555555555555556,
             "#d8576b"
            ],
            [
             0.6666666666666666,
             "#ed7953"
            ],
            [
             0.7777777777777778,
             "#fb9f3a"
            ],
            [
             0.8888888888888888,
             "#fdca26"
            ],
            [
             1,
             "#f0f921"
            ]
           ],
           "sequentialminus": [
            [
             0,
             "#0d0887"
            ],
            [
             0.1111111111111111,
             "#46039f"
            ],
            [
             0.2222222222222222,
             "#7201a8"
            ],
            [
             0.3333333333333333,
             "#9c179e"
            ],
            [
             0.4444444444444444,
             "#bd3786"
            ],
            [
             0.5555555555555556,
             "#d8576b"
            ],
            [
             0.6666666666666666,
             "#ed7953"
            ],
            [
             0.7777777777777778,
             "#fb9f3a"
            ],
            [
             0.8888888888888888,
             "#fdca26"
            ],
            [
             1,
             "#f0f921"
            ]
           ]
          },
          "colorway": [
           "#636efa",
           "#EF553B",
           "#00cc96",
           "#ab63fa",
           "#FFA15A",
           "#19d3f3",
           "#FF6692",
           "#B6E880",
           "#FF97FF",
           "#FECB52"
          ],
          "font": {
           "color": "#2a3f5f"
          },
          "geo": {
           "bgcolor": "white",
           "lakecolor": "white",
           "landcolor": "#E5ECF6",
           "showlakes": true,
           "showland": true,
           "subunitcolor": "white"
          },
          "hoverlabel": {
           "align": "left"
          },
          "hovermode": "closest",
          "mapbox": {
           "style": "light"
          },
          "paper_bgcolor": "white",
          "plot_bgcolor": "#E5ECF6",
          "polar": {
           "angularaxis": {
            "gridcolor": "white",
            "linecolor": "white",
            "ticks": ""
           },
           "bgcolor": "#E5ECF6",
           "radialaxis": {
            "gridcolor": "white",
            "linecolor": "white",
            "ticks": ""
           }
          },
          "scene": {
           "xaxis": {
            "backgroundcolor": "#E5ECF6",
            "gridcolor": "white",
            "gridwidth": 2,
            "linecolor": "white",
            "showbackground": true,
            "ticks": "",
            "zerolinecolor": "white"
           },
           "yaxis": {
            "backgroundcolor": "#E5ECF6",
            "gridcolor": "white",
            "gridwidth": 2,
            "linecolor": "white",
            "showbackground": true,
            "ticks": "",
            "zerolinecolor": "white"
           },
           "zaxis": {
            "backgroundcolor": "#E5ECF6",
            "gridcolor": "white",
            "gridwidth": 2,
            "linecolor": "white",
            "showbackground": true,
            "ticks": "",
            "zerolinecolor": "white"
           }
          },
          "shapedefaults": {
           "line": {
            "color": "#2a3f5f"
           }
          },
          "ternary": {
           "aaxis": {
            "gridcolor": "white",
            "linecolor": "white",
            "ticks": ""
           },
           "baxis": {
            "gridcolor": "white",
            "linecolor": "white",
            "ticks": ""
           },
           "bgcolor": "#E5ECF6",
           "caxis": {
            "gridcolor": "white",
            "linecolor": "white",
            "ticks": ""
           }
          },
          "title": {
           "x": 0.05
          },
          "xaxis": {
           "automargin": true,
           "gridcolor": "white",
           "linecolor": "white",
           "ticks": "",
           "title": {
            "standoff": 15
           },
           "zerolinecolor": "white",
           "zerolinewidth": 2
          },
          "yaxis": {
           "automargin": true,
           "gridcolor": "white",
           "linecolor": "white",
           "ticks": "",
           "title": {
            "standoff": 15
           },
           "zerolinecolor": "white",
           "zerolinewidth": 2
          }
         }
        },
        "title": {
         "font": {
          "color": "#4D5663"
         }
        },
        "xaxis": {
         "gridcolor": "#E1E5ED",
         "showgrid": true,
         "tickfont": {
          "color": "#4D5663"
         },
         "title": {
          "font": {
           "color": "#4D5663"
          },
          "text": ""
         },
         "zerolinecolor": "#E1E5ED"
        },
        "yaxis": {
         "gridcolor": "#E1E5ED",
         "showgrid": true,
         "tickfont": {
          "color": "#4D5663"
         },
         "title": {
          "font": {
           "color": "#4D5663"
          },
          "text": ""
         },
         "zerolinecolor": "#E1E5ED"
        }
       }
      },
      "text/html": [
       "<div>                            <div id=\"aff2ef3c-b7f5-4a3b-85b9-faf3816e72fa\" class=\"plotly-graph-div\" style=\"height:525px; width:100%;\"></div>            <script type=\"text/javascript\">                require([\"plotly\"], function(Plotly) {                    window.PLOTLYENV=window.PLOTLYENV || {};\n",
       "                    window.PLOTLYENV.BASE_URL='https://plot.ly';                                    if (document.getElementById(\"aff2ef3c-b7f5-4a3b-85b9-faf3816e72fa\")) {                    Plotly.newPlot(                        \"aff2ef3c-b7f5-4a3b-85b9-faf3816e72fa\",                        [{\"marker\":{\"color\":\"rgba(255, 153, 51, 0.6)\",\"line\":{\"color\":\"rgba(255, 153, 51, 1.0)\",\"width\":1}},\"name\":\"Values\",\"orientation\":\"v\",\"text\":\"\",\"x\":[\"A\",\"B\",\"C\"],\"y\":[32,43,50],\"type\":\"bar\"}],                        {\"legend\":{\"bgcolor\":\"#F5F6F9\",\"font\":{\"color\":\"#4D5663\"}},\"paper_bgcolor\":\"#F5F6F9\",\"plot_bgcolor\":\"#F5F6F9\",\"template\":{\"data\":{\"barpolar\":[{\"marker\":{\"line\":{\"color\":\"#E5ECF6\",\"width\":0.5},\"pattern\":{\"fillmode\":\"overlay\",\"size\":10,\"solidity\":0.2}},\"type\":\"barpolar\"}],\"bar\":[{\"error_x\":{\"color\":\"#2a3f5f\"},\"error_y\":{\"color\":\"#2a3f5f\"},\"marker\":{\"line\":{\"color\":\"#E5ECF6\",\"width\":0.5},\"pattern\":{\"fillmode\":\"overlay\",\"size\":10,\"solidity\":0.2}},\"type\":\"bar\"}],\"carpet\":[{\"aaxis\":{\"endlinecolor\":\"#2a3f5f\",\"gridcolor\":\"white\",\"linecolor\":\"white\",\"minorgridcolor\":\"white\",\"startlinecolor\":\"#2a3f5f\"},\"baxis\":{\"endlinecolor\":\"#2a3f5f\",\"gridcolor\":\"white\",\"linecolor\":\"white\",\"minorgridcolor\":\"white\",\"startlinecolor\":\"#2a3f5f\"},\"type\":\"carpet\"}],\"choropleth\":[{\"colorbar\":{\"outlinewidth\":0,\"ticks\":\"\"},\"type\":\"choropleth\"}],\"contourcarpet\":[{\"colorbar\":{\"outlinewidth\":0,\"ticks\":\"\"},\"type\":\"contourcarpet\"}],\"contour\":[{\"colorbar\":{\"outlinewidth\":0,\"ticks\":\"\"},\"colorscale\":[[0.0,\"#0d0887\"],[0.1111111111111111,\"#46039f\"],[0.2222222222222222,\"#7201a8\"],[0.3333333333333333,\"#9c179e\"],[0.4444444444444444,\"#bd3786\"],[0.5555555555555556,\"#d8576b\"],[0.6666666666666666,\"#ed7953\"],[0.7777777777777778,\"#fb9f3a\"],[0.8888888888888888,\"#fdca26\"],[1.0,\"#f0f921\"]],\"type\":\"contour\"}],\"heatmapgl\":[{\"colorbar\":{\"outlinewidth\":0,\"ticks\":\"\"},\"colorscale\":[[0.0,\"#0d0887\"],[0.1111111111111111,\"#46039f\"],[0.2222222222222222,\"#7201a8\"],[0.3333333333333333,\"#9c179e\"],[0.4444444444444444,\"#bd3786\"],[0.5555555555555556,\"#d8576b\"],[0.6666666666666666,\"#ed7953\"],[0.7777777777777778,\"#fb9f3a\"],[0.8888888888888888,\"#fdca26\"],[1.0,\"#f0f921\"]],\"type\":\"heatmapgl\"}],\"heatmap\":[{\"colorbar\":{\"outlinewidth\":0,\"ticks\":\"\"},\"colorscale\":[[0.0,\"#0d0887\"],[0.1111111111111111,\"#46039f\"],[0.2222222222222222,\"#7201a8\"],[0.3333333333333333,\"#9c179e\"],[0.4444444444444444,\"#bd3786\"],[0.5555555555555556,\"#d8576b\"],[0.6666666666666666,\"#ed7953\"],[0.7777777777777778,\"#fb9f3a\"],[0.8888888888888888,\"#fdca26\"],[1.0,\"#f0f921\"]],\"type\":\"heatmap\"}],\"histogram2dcontour\":[{\"colorbar\":{\"outlinewidth\":0,\"ticks\":\"\"},\"colorscale\":[[0.0,\"#0d0887\"],[0.1111111111111111,\"#46039f\"],[0.2222222222222222,\"#7201a8\"],[0.3333333333333333,\"#9c179e\"],[0.4444444444444444,\"#bd3786\"],[0.5555555555555556,\"#d8576b\"],[0.6666666666666666,\"#ed7953\"],[0.7777777777777778,\"#fb9f3a\"],[0.8888888888888888,\"#fdca26\"],[1.0,\"#f0f921\"]],\"type\":\"histogram2dcontour\"}],\"histogram2d\":[{\"colorbar\":{\"outlinewidth\":0,\"ticks\":\"\"},\"colorscale\":[[0.0,\"#0d0887\"],[0.1111111111111111,\"#46039f\"],[0.2222222222222222,\"#7201a8\"],[0.3333333333333333,\"#9c179e\"],[0.4444444444444444,\"#bd3786\"],[0.5555555555555556,\"#d8576b\"],[0.6666666666666666,\"#ed7953\"],[0.7777777777777778,\"#fb9f3a\"],[0.8888888888888888,\"#fdca26\"],[1.0,\"#f0f921\"]],\"type\":\"histogram2d\"}],\"histogram\":[{\"marker\":{\"pattern\":{\"fillmode\":\"overlay\",\"size\":10,\"solidity\":0.2}},\"type\":\"histogram\"}],\"mesh3d\":[{\"colorbar\":{\"outlinewidth\":0,\"ticks\":\"\"},\"type\":\"mesh3d\"}],\"parcoords\":[{\"line\":{\"colorbar\":{\"outlinewidth\":0,\"ticks\":\"\"}},\"type\":\"parcoords\"}],\"pie\":[{\"automargin\":true,\"type\":\"pie\"}],\"scatter3d\":[{\"line\":{\"colorbar\":{\"outlinewidth\":0,\"ticks\":\"\"}},\"marker\":{\"colorbar\":{\"outlinewidth\":0,\"ticks\":\"\"}},\"type\":\"scatter3d\"}],\"scattercarpet\":[{\"marker\":{\"colorbar\":{\"outlinewidth\":0,\"ticks\":\"\"}},\"type\":\"scattercarpet\"}],\"scattergeo\":[{\"marker\":{\"colorbar\":{\"outlinewidth\":0,\"ticks\":\"\"}},\"type\":\"scattergeo\"}],\"scattergl\":[{\"marker\":{\"colorbar\":{\"outlinewidth\":0,\"ticks\":\"\"}},\"type\":\"scattergl\"}],\"scattermapbox\":[{\"marker\":{\"colorbar\":{\"outlinewidth\":0,\"ticks\":\"\"}},\"type\":\"scattermapbox\"}],\"scatterpolargl\":[{\"marker\":{\"colorbar\":{\"outlinewidth\":0,\"ticks\":\"\"}},\"type\":\"scatterpolargl\"}],\"scatterpolar\":[{\"marker\":{\"colorbar\":{\"outlinewidth\":0,\"ticks\":\"\"}},\"type\":\"scatterpolar\"}],\"scatter\":[{\"fillpattern\":{\"fillmode\":\"overlay\",\"size\":10,\"solidity\":0.2},\"type\":\"scatter\"}],\"scatterternary\":[{\"marker\":{\"colorbar\":{\"outlinewidth\":0,\"ticks\":\"\"}},\"type\":\"scatterternary\"}],\"surface\":[{\"colorbar\":{\"outlinewidth\":0,\"ticks\":\"\"},\"colorscale\":[[0.0,\"#0d0887\"],[0.1111111111111111,\"#46039f\"],[0.2222222222222222,\"#7201a8\"],[0.3333333333333333,\"#9c179e\"],[0.4444444444444444,\"#bd3786\"],[0.5555555555555556,\"#d8576b\"],[0.6666666666666666,\"#ed7953\"],[0.7777777777777778,\"#fb9f3a\"],[0.8888888888888888,\"#fdca26\"],[1.0,\"#f0f921\"]],\"type\":\"surface\"}],\"table\":[{\"cells\":{\"fill\":{\"color\":\"#EBF0F8\"},\"line\":{\"color\":\"white\"}},\"header\":{\"fill\":{\"color\":\"#C8D4E3\"},\"line\":{\"color\":\"white\"}},\"type\":\"table\"}]},\"layout\":{\"annotationdefaults\":{\"arrowcolor\":\"#2a3f5f\",\"arrowhead\":0,\"arrowwidth\":1},\"autotypenumbers\":\"strict\",\"coloraxis\":{\"colorbar\":{\"outlinewidth\":0,\"ticks\":\"\"}},\"colorscale\":{\"diverging\":[[0,\"#8e0152\"],[0.1,\"#c51b7d\"],[0.2,\"#de77ae\"],[0.3,\"#f1b6da\"],[0.4,\"#fde0ef\"],[0.5,\"#f7f7f7\"],[0.6,\"#e6f5d0\"],[0.7,\"#b8e186\"],[0.8,\"#7fbc41\"],[0.9,\"#4d9221\"],[1,\"#276419\"]],\"sequential\":[[0.0,\"#0d0887\"],[0.1111111111111111,\"#46039f\"],[0.2222222222222222,\"#7201a8\"],[0.3333333333333333,\"#9c179e\"],[0.4444444444444444,\"#bd3786\"],[0.5555555555555556,\"#d8576b\"],[0.6666666666666666,\"#ed7953\"],[0.7777777777777778,\"#fb9f3a\"],[0.8888888888888888,\"#fdca26\"],[1.0,\"#f0f921\"]],\"sequentialminus\":[[0.0,\"#0d0887\"],[0.1111111111111111,\"#46039f\"],[0.2222222222222222,\"#7201a8\"],[0.3333333333333333,\"#9c179e\"],[0.4444444444444444,\"#bd3786\"],[0.5555555555555556,\"#d8576b\"],[0.6666666666666666,\"#ed7953\"],[0.7777777777777778,\"#fb9f3a\"],[0.8888888888888888,\"#fdca26\"],[1.0,\"#f0f921\"]]},\"colorway\":[\"#636efa\",\"#EF553B\",\"#00cc96\",\"#ab63fa\",\"#FFA15A\",\"#19d3f3\",\"#FF6692\",\"#B6E880\",\"#FF97FF\",\"#FECB52\"],\"font\":{\"color\":\"#2a3f5f\"},\"geo\":{\"bgcolor\":\"white\",\"lakecolor\":\"white\",\"landcolor\":\"#E5ECF6\",\"showlakes\":true,\"showland\":true,\"subunitcolor\":\"white\"},\"hoverlabel\":{\"align\":\"left\"},\"hovermode\":\"closest\",\"mapbox\":{\"style\":\"light\"},\"paper_bgcolor\":\"white\",\"plot_bgcolor\":\"#E5ECF6\",\"polar\":{\"angularaxis\":{\"gridcolor\":\"white\",\"linecolor\":\"white\",\"ticks\":\"\"},\"bgcolor\":\"#E5ECF6\",\"radialaxis\":{\"gridcolor\":\"white\",\"linecolor\":\"white\",\"ticks\":\"\"}},\"scene\":{\"xaxis\":{\"backgroundcolor\":\"#E5ECF6\",\"gridcolor\":\"white\",\"gridwidth\":2,\"linecolor\":\"white\",\"showbackground\":true,\"ticks\":\"\",\"zerolinecolor\":\"white\"},\"yaxis\":{\"backgroundcolor\":\"#E5ECF6\",\"gridcolor\":\"white\",\"gridwidth\":2,\"linecolor\":\"white\",\"showbackground\":true,\"ticks\":\"\",\"zerolinecolor\":\"white\"},\"zaxis\":{\"backgroundcolor\":\"#E5ECF6\",\"gridcolor\":\"white\",\"gridwidth\":2,\"linecolor\":\"white\",\"showbackground\":true,\"ticks\":\"\",\"zerolinecolor\":\"white\"}},\"shapedefaults\":{\"line\":{\"color\":\"#2a3f5f\"}},\"ternary\":{\"aaxis\":{\"gridcolor\":\"white\",\"linecolor\":\"white\",\"ticks\":\"\"},\"baxis\":{\"gridcolor\":\"white\",\"linecolor\":\"white\",\"ticks\":\"\"},\"bgcolor\":\"#E5ECF6\",\"caxis\":{\"gridcolor\":\"white\",\"linecolor\":\"white\",\"ticks\":\"\"}},\"title\":{\"x\":0.05},\"xaxis\":{\"automargin\":true,\"gridcolor\":\"white\",\"linecolor\":\"white\",\"ticks\":\"\",\"title\":{\"standoff\":15},\"zerolinecolor\":\"white\",\"zerolinewidth\":2},\"yaxis\":{\"automargin\":true,\"gridcolor\":\"white\",\"linecolor\":\"white\",\"ticks\":\"\",\"title\":{\"standoff\":15},\"zerolinecolor\":\"white\",\"zerolinewidth\":2}}},\"title\":{\"font\":{\"color\":\"#4D5663\"}},\"xaxis\":{\"gridcolor\":\"#E1E5ED\",\"showgrid\":true,\"tickfont\":{\"color\":\"#4D5663\"},\"title\":{\"font\":{\"color\":\"#4D5663\"},\"text\":\"\"},\"zerolinecolor\":\"#E1E5ED\"},\"yaxis\":{\"gridcolor\":\"#E1E5ED\",\"showgrid\":true,\"tickfont\":{\"color\":\"#4D5663\"},\"title\":{\"font\":{\"color\":\"#4D5663\"},\"text\":\"\"},\"zerolinecolor\":\"#E1E5ED\"}},                        {\"showLink\": true, \"linkText\": \"Export to plot.ly\", \"plotlyServerURL\": \"https://plot.ly\", \"responsive\": true}                    ).then(function(){\n",
       "                            \n",
       "var gd = document.getElementById('aff2ef3c-b7f5-4a3b-85b9-faf3816e72fa');\n",
       "var x = new MutationObserver(function (mutations, observer) {{\n",
       "        var display = window.getComputedStyle(gd).display;\n",
       "        if (!display || display === 'none') {{\n",
       "            console.log([gd, 'removed!']);\n",
       "            Plotly.purge(gd);\n",
       "            observer.disconnect();\n",
       "        }}\n",
       "}});\n",
       "\n",
       "// Listen for the removal of the full notebook cells\n",
       "var notebookContainer = gd.closest('#notebook-container');\n",
       "if (notebookContainer) {{\n",
       "    x.observe(notebookContainer, {childList: true});\n",
       "}}\n",
       "\n",
       "// Listen for the clearing of the current output cell\n",
       "var outputEl = gd.closest('.output');\n",
       "if (outputEl) {{\n",
       "    x.observe(outputEl, {childList: true});\n",
       "}}\n",
       "\n",
       "                        })                };                });            </script>        </div>"
      ]
     },
     "metadata": {},
     "output_type": "display_data"
    }
   ],
   "source": [
    "df2.iplot(kind='bar',x='Category',y='Values')"
   ]
  },
  {
   "cell_type": "code",
   "execution_count": 25,
   "id": "6de5b770",
   "metadata": {},
   "outputs": [
    {
     "data": {
      "text/html": [
       "<div>\n",
       "<style scoped>\n",
       "    .dataframe tbody tr th:only-of-type {\n",
       "        vertical-align: middle;\n",
       "    }\n",
       "\n",
       "    .dataframe tbody tr th {\n",
       "        vertical-align: top;\n",
       "    }\n",
       "\n",
       "    .dataframe thead th {\n",
       "        text-align: right;\n",
       "    }\n",
       "</style>\n",
       "<table border=\"1\" class=\"dataframe\">\n",
       "  <thead>\n",
       "    <tr style=\"text-align: right;\">\n",
       "      <th></th>\n",
       "      <th>A</th>\n",
       "      <th>B</th>\n",
       "      <th>C</th>\n",
       "      <th>D</th>\n",
       "    </tr>\n",
       "  </thead>\n",
       "  <tbody>\n",
       "    <tr>\n",
       "      <th>0</th>\n",
       "      <td>0.299534</td>\n",
       "      <td>0.628887</td>\n",
       "      <td>1.492482</td>\n",
       "      <td>0.878410</td>\n",
       "    </tr>\n",
       "    <tr>\n",
       "      <th>1</th>\n",
       "      <td>0.220566</td>\n",
       "      <td>1.555209</td>\n",
       "      <td>0.786932</td>\n",
       "      <td>0.413738</td>\n",
       "    </tr>\n",
       "    <tr>\n",
       "      <th>2</th>\n",
       "      <td>-1.056175</td>\n",
       "      <td>-0.202064</td>\n",
       "      <td>0.322731</td>\n",
       "      <td>-0.017982</td>\n",
       "    </tr>\n",
       "    <tr>\n",
       "      <th>3</th>\n",
       "      <td>0.759176</td>\n",
       "      <td>-0.374213</td>\n",
       "      <td>0.608251</td>\n",
       "      <td>-0.984958</td>\n",
       "    </tr>\n",
       "    <tr>\n",
       "      <th>4</th>\n",
       "      <td>0.532652</td>\n",
       "      <td>-1.890135</td>\n",
       "      <td>0.251493</td>\n",
       "      <td>-0.525923</td>\n",
       "    </tr>\n",
       "    <tr>\n",
       "      <th>...</th>\n",
       "      <td>...</td>\n",
       "      <td>...</td>\n",
       "      <td>...</td>\n",
       "      <td>...</td>\n",
       "    </tr>\n",
       "    <tr>\n",
       "      <th>95</th>\n",
       "      <td>-0.094207</td>\n",
       "      <td>-1.842875</td>\n",
       "      <td>-0.210226</td>\n",
       "      <td>-2.310411</td>\n",
       "    </tr>\n",
       "    <tr>\n",
       "      <th>96</th>\n",
       "      <td>0.136829</td>\n",
       "      <td>0.406469</td>\n",
       "      <td>1.130685</td>\n",
       "      <td>-0.326117</td>\n",
       "    </tr>\n",
       "    <tr>\n",
       "      <th>97</th>\n",
       "      <td>-0.624244</td>\n",
       "      <td>-0.147597</td>\n",
       "      <td>1.141107</td>\n",
       "      <td>2.338804</td>\n",
       "    </tr>\n",
       "    <tr>\n",
       "      <th>98</th>\n",
       "      <td>-0.608008</td>\n",
       "      <td>-0.880406</td>\n",
       "      <td>1.032358</td>\n",
       "      <td>-0.334132</td>\n",
       "    </tr>\n",
       "    <tr>\n",
       "      <th>99</th>\n",
       "      <td>-0.335483</td>\n",
       "      <td>-1.580823</td>\n",
       "      <td>0.227087</td>\n",
       "      <td>-0.100191</td>\n",
       "    </tr>\n",
       "  </tbody>\n",
       "</table>\n",
       "<p>100 rows × 4 columns</p>\n",
       "</div>"
      ],
      "text/plain": [
       "           A         B         C         D\n",
       "0   0.299534  0.628887  1.492482  0.878410\n",
       "1   0.220566  1.555209  0.786932  0.413738\n",
       "2  -1.056175 -0.202064  0.322731 -0.017982\n",
       "3   0.759176 -0.374213  0.608251 -0.984958\n",
       "4   0.532652 -1.890135  0.251493 -0.525923\n",
       "..       ...       ...       ...       ...\n",
       "95 -0.094207 -1.842875 -0.210226 -2.310411\n",
       "96  0.136829  0.406469  1.130685 -0.326117\n",
       "97 -0.624244 -0.147597  1.141107  2.338804\n",
       "98 -0.608008 -0.880406  1.032358 -0.334132\n",
       "99 -0.335483 -1.580823  0.227087 -0.100191\n",
       "\n",
       "[100 rows x 4 columns]"
      ]
     },
     "execution_count": 25,
     "metadata": {},
     "output_type": "execute_result"
    }
   ],
   "source": [
    "df"
   ]
  },
  {
   "cell_type": "code",
   "execution_count": 26,
   "id": "ed8d2143",
   "metadata": {},
   "outputs": [
    {
     "data": {
      "application/vnd.plotly.v1+json": {
       "config": {
        "linkText": "Export to plot.ly",
        "plotlyServerURL": "https://plot.ly",
        "showLink": true
       },
       "data": [
        {
         "marker": {
          "color": "rgba(255, 153, 51, 0.6)",
          "line": {
           "color": "rgba(255, 153, 51, 1.0)",
           "width": 1
          }
         },
         "name": "A",
         "orientation": "v",
         "text": "",
         "type": "bar",
         "x": [
          0,
          1,
          2,
          3,
          4,
          5,
          6,
          7,
          8,
          9,
          10,
          11,
          12,
          13,
          14,
          15,
          16,
          17,
          18,
          19,
          20,
          21,
          22,
          23,
          24,
          25,
          26,
          27,
          28,
          29,
          30,
          31,
          32,
          33,
          34,
          35,
          36,
          37,
          38,
          39,
          40,
          41,
          42,
          43,
          44,
          45,
          46,
          47,
          48,
          49,
          50,
          51,
          52,
          53,
          54,
          55,
          56,
          57,
          58,
          59,
          60,
          61,
          62,
          63,
          64,
          65,
          66,
          67,
          68,
          69,
          70,
          71,
          72,
          73,
          74,
          75,
          76,
          77,
          78,
          79,
          80,
          81,
          82,
          83,
          84,
          85,
          86,
          87,
          88,
          89,
          90,
          91,
          92,
          93,
          94,
          95,
          96,
          97,
          98,
          99
         ],
         "y": [
          0.2995340644905276,
          0.2205656269030712,
          -1.056174561092009,
          0.7591755781504027,
          0.5326518825067723,
          1.3044295669802999,
          1.3281748768339667,
          -0.09922890207163876,
          0.6072907830909519,
          1.1826119307800274,
          0.3200674123294725,
          -1.3012890682412424,
          0.39931988429912135,
          -0.34879285248827946,
          -0.7832437352797109,
          0.24797886378743955,
          -2.8773605354838225,
          -0.41107805336817005,
          0.5428332832960278,
          -0.34202223323909137,
          0.6703636476801402,
          0.47056109501637966,
          0.5846164712351315,
          -0.8661517063929928,
          0.44216954122070445,
          0.5363106882328338,
          -0.27977714813382293,
          0.4380768982907296,
          -1.4402841454482886,
          0.256393582261463,
          1.6549149482388437,
          -1.3228705669839567,
          -0.7548185531120883,
          0.44297261355922846,
          1.3580577186497258,
          -0.5112296882385694,
          1.5741392211439416,
          0.13109722398933546,
          -1.4680827312451141,
          -0.6059423946677869,
          0.144459267134369,
          0.3021717007693336,
          -0.22744784266075352,
          0.03450363264569284,
          0.05177307263761155,
          0.1399332902663523,
          1.0229527181140547,
          -2.6321782638398714,
          0.7745092754158753,
          -1.5926248522708426,
          -0.7031009714908845,
          0.6710809023395671,
          -0.1438163725324016,
          0.5082776496708439,
          0.0767121365819478,
          0.6457023848381208,
          -0.3580314419038346,
          -0.774839310285214,
          -0.43466021347224676,
          -1.6000577779988623,
          0.5086471535040138,
          0.37958854995049945,
          -1.0104442910961025,
          -0.1514509188462034,
          -0.12732690203447797,
          0.8209231907729551,
          -0.22640327123432807,
          1.4349981836183903,
          0.6890109446047313,
          1.0775411458507147,
          0.29266013334010743,
          0.3923131280672186,
          -0.7821903721721409,
          -1.2087665128305551,
          -0.04005064789093992,
          0.586175941448245,
          -0.39450460865418874,
          0.7192182080202476,
          1.8882833172200184,
          0.8341960000980053,
          0.049935991907428666,
          0.47937322066761195,
          0.07588343334653969,
          -0.2526301622266612,
          -0.5289099932191659,
          -0.10700710269370067,
          -0.4631513345001443,
          -0.3924250958303068,
          1.3819170930309186,
          -1.0229272234878124,
          -0.8612817624400896,
          -1.3485764993188754,
          1.9759061035618044,
          -0.9223448984827978,
          -1.0472531006509647,
          -0.09420726481422516,
          0.13682879551914487,
          -0.6242439989143544,
          -0.6080082561687519,
          -0.335483037163409
         ]
        },
        {
         "marker": {
          "color": "rgba(55, 128, 191, 0.6)",
          "line": {
           "color": "rgba(55, 128, 191, 1.0)",
           "width": 1
          }
         },
         "name": "B",
         "orientation": "v",
         "text": "",
         "type": "bar",
         "x": [
          0,
          1,
          2,
          3,
          4,
          5,
          6,
          7,
          8,
          9,
          10,
          11,
          12,
          13,
          14,
          15,
          16,
          17,
          18,
          19,
          20,
          21,
          22,
          23,
          24,
          25,
          26,
          27,
          28,
          29,
          30,
          31,
          32,
          33,
          34,
          35,
          36,
          37,
          38,
          39,
          40,
          41,
          42,
          43,
          44,
          45,
          46,
          47,
          48,
          49,
          50,
          51,
          52,
          53,
          54,
          55,
          56,
          57,
          58,
          59,
          60,
          61,
          62,
          63,
          64,
          65,
          66,
          67,
          68,
          69,
          70,
          71,
          72,
          73,
          74,
          75,
          76,
          77,
          78,
          79,
          80,
          81,
          82,
          83,
          84,
          85,
          86,
          87,
          88,
          89,
          90,
          91,
          92,
          93,
          94,
          95,
          96,
          97,
          98,
          99
         ],
         "y": [
          0.6288873106968625,
          1.5552086644040435,
          -0.2020635486518468,
          -0.37421286494601835,
          -1.8901354714158451,
          1.1642455262282074,
          -1.0335669426310594,
          -0.6453012578613595,
          -2.500063217723074,
          0.6208790462589199,
          -0.33919024377178775,
          -0.6323417396484956,
          -1.1042370872644787,
          0.687990530703836,
          -0.29482934295310004,
          -1.760993482777496,
          0.4013839131768914,
          -0.19128337287568414,
          0.38831658519353085,
          1.1022164676082287,
          -0.7658403159220927,
          0.39746202290875726,
          0.05253399825030649,
          -1.2986978680790244,
          0.5516764900142631,
          0.9594352288580066,
          -1.6176146758116843,
          0.566234817380164,
          0.03291261568889055,
          -0.10412367010856544,
          0.18813480982253722,
          0.33139764237225916,
          -0.4352051883947046,
          -0.1850665849362166,
          1.977129824661224,
          -0.716727900543721,
          -0.9962485346727465,
          2.1457330602622915,
          1.4786805379182806,
          -0.3073961040236371,
          0.5190635210197534,
          -0.2977117536092024,
          1.07655420499391,
          1.6402869584964106,
          -0.6736312859201243,
          -0.5421796901027264,
          0.2609352631947877,
          -0.2243329499018594,
          0.1421432931661823,
          1.093261930610181,
          0.30912184023215555,
          0.5274847296838001,
          -0.8482473955350368,
          -1.1740459296667167,
          0.12050195080175524,
          0.6917000321710234,
          -0.24954254013796354,
          -0.0555574867666861,
          -0.11674030611528681,
          -1.334786476612104,
          -0.7223974650682061,
          1.4343193468848872,
          -1.3171815064176886,
          -0.6898579117892474,
          -0.30456626778121365,
          -0.38585924100511965,
          -0.8134747561637852,
          2.010879165813113,
          1.8244088747007474,
          -0.3670493932221158,
          0.03065143496118238,
          -0.6766752794932412,
          -0.21596160514515156,
          -0.3343960409842762,
          -0.5872454814216169,
          -0.2983674285813973,
          0.2681694412271725,
          -0.5871780526557453,
          0.6345911247702245,
          -0.48125080520848557,
          -1.537351065621091,
          0.6715502994413234,
          -0.7553536888819133,
          0.7274770340599817,
          0.38331131279465536,
          0.20240429935781595,
          -0.03698531065937211,
          0.7746536546150867,
          -0.12743883677501958,
          -0.6009991380090095,
          0.7150308408538082,
          0.8401271366581022,
          -1.8596498898007021,
          -1.3339806032828878,
          -0.22198748420879716,
          -1.8428750875481898,
          0.4064685378532878,
          -0.1475973932807723,
          -0.8804055552297537,
          -1.580823041015511
         ]
        },
        {
         "marker": {
          "color": "rgba(50, 171, 96, 0.6)",
          "line": {
           "color": "rgba(50, 171, 96, 1.0)",
           "width": 1
          }
         },
         "name": "C",
         "orientation": "v",
         "text": "",
         "type": "bar",
         "x": [
          0,
          1,
          2,
          3,
          4,
          5,
          6,
          7,
          8,
          9,
          10,
          11,
          12,
          13,
          14,
          15,
          16,
          17,
          18,
          19,
          20,
          21,
          22,
          23,
          24,
          25,
          26,
          27,
          28,
          29,
          30,
          31,
          32,
          33,
          34,
          35,
          36,
          37,
          38,
          39,
          40,
          41,
          42,
          43,
          44,
          45,
          46,
          47,
          48,
          49,
          50,
          51,
          52,
          53,
          54,
          55,
          56,
          57,
          58,
          59,
          60,
          61,
          62,
          63,
          64,
          65,
          66,
          67,
          68,
          69,
          70,
          71,
          72,
          73,
          74,
          75,
          76,
          77,
          78,
          79,
          80,
          81,
          82,
          83,
          84,
          85,
          86,
          87,
          88,
          89,
          90,
          91,
          92,
          93,
          94,
          95,
          96,
          97,
          98,
          99
         ],
         "y": [
          1.4924820594701595,
          0.7869320413273678,
          0.32273074575160593,
          0.6082508425877736,
          0.2514930413665632,
          -0.4034861638206237,
          -0.5768681716474443,
          0.6856012702187398,
          -1.7068889895044812,
          2.0385721334530302,
          -0.8191936955348694,
          -0.13602903900798372,
          0.9667930631260175,
          0.0006992865771992262,
          0.39111968811096387,
          -0.43540783703434993,
          -0.3221271598960024,
          1.514266460244137,
          -0.020695230765908058,
          1.035430942071528,
          0.6506811637253885,
          -1.145913181938134,
          -0.34697751515819814,
          0.5722502898175891,
          -0.7519895563251693,
          1.9776712105857348,
          0.3372495147021022,
          -0.4395212659175542,
          -1.2050237800542114,
          -0.06537901172259553,
          -0.5797928888875487,
          -1.431944247132665,
          3.0903555244262755,
          -0.6651819863410234,
          -1.8564840845463624,
          -0.2717618053538439,
          -0.10389500197897769,
          1.0364867265617488,
          -0.6559090419483852,
          0.29752590565428155,
          1.0219876099372784,
          -2.442035360843184,
          0.850123129127888,
          0.24684047283695598,
          -0.3678949207276394,
          -0.7883469321527289,
          1.6771022341276227,
          0.9389046366431055,
          -1.8881830834792284,
          0.5713559181159971,
          -1.3460438578180391,
          -0.3668246713811393,
          -0.3500860505947476,
          -0.3964023791091147,
          0.24512962516339712,
          -1.1552665030490763,
          0.09138475183594481,
          -0.22696740865481954,
          0.8208391263967445,
          -0.19519785712563537,
          -1.3695877423647327,
          -0.5385789870693948,
          0.6416446055778066,
          0.1382865607176138,
          1.000976342056877,
          -0.6824060028252374,
          0.48166835711151784,
          -1.7697737629288337,
          -0.6571145004145996,
          0.1894110624135475,
          0.9810977645999668,
          -1.0499061540091557,
          0.6730116130030037,
          2.112389062467758,
          0.04722673653972112,
          0.5370038684396691,
          -0.8236499029151352,
          -0.9230905362969907,
          0.2880332090928785,
          0.20315760791893966,
          0.2603532879125389,
          -1.2692769502035877,
          -0.8287321214176975,
          -0.07163646942393866,
          -0.4651101256940488,
          -0.8578945848200039,
          0.0891853556732661,
          -0.17394563516085862,
          -0.0507649119885555,
          -0.6267804040324925,
          -0.770225541117248,
          0.846148721475124,
          -0.2500008631262009,
          -1.6556309939729155,
          -0.8753658192097954,
          -0.2102264072150913,
          1.1306846851390011,
          1.1411074885543189,
          1.0323578639940127,
          0.22708670869310604
         ]
        },
        {
         "marker": {
          "color": "rgba(128, 0, 128, 0.6)",
          "line": {
           "color": "rgba(128, 0, 128, 1.0)",
           "width": 1
          }
         },
         "name": "D",
         "orientation": "v",
         "text": "",
         "type": "bar",
         "x": [
          0,
          1,
          2,
          3,
          4,
          5,
          6,
          7,
          8,
          9,
          10,
          11,
          12,
          13,
          14,
          15,
          16,
          17,
          18,
          19,
          20,
          21,
          22,
          23,
          24,
          25,
          26,
          27,
          28,
          29,
          30,
          31,
          32,
          33,
          34,
          35,
          36,
          37,
          38,
          39,
          40,
          41,
          42,
          43,
          44,
          45,
          46,
          47,
          48,
          49,
          50,
          51,
          52,
          53,
          54,
          55,
          56,
          57,
          58,
          59,
          60,
          61,
          62,
          63,
          64,
          65,
          66,
          67,
          68,
          69,
          70,
          71,
          72,
          73,
          74,
          75,
          76,
          77,
          78,
          79,
          80,
          81,
          82,
          83,
          84,
          85,
          86,
          87,
          88,
          89,
          90,
          91,
          92,
          93,
          94,
          95,
          96,
          97,
          98,
          99
         ],
         "y": [
          0.8784097635079271,
          0.41373833465411486,
          -0.017982234333353768,
          -0.9849581469253769,
          -0.525922792414035,
          -1.5758495572561193,
          -2.6008494818189343,
          0.08321481462802557,
          -0.5621103549964049,
          -0.666115045990679,
          -0.22509352690535678,
          -1.0643184410464175,
          0.22251579823925932,
          0.5986063082126469,
          0.11459219679383639,
          0.7593125165744864,
          0.2103290172024642,
          -2.017164157575092,
          -0.06478200186368004,
          0.8445371088727064,
          0.45596778382233266,
          -0.820671089748138,
          -0.10983235640478299,
          -0.4939671612088846,
          -1.4432782231781656,
          1.2936663433198556,
          -0.7127750389182068,
          -1.2837432002030262,
          -0.4005004052185187,
          -0.3282063282740504,
          -0.6850873197215348,
          -0.028277280860713516,
          1.2303787242796584,
          0.8794190943231905,
          -0.2728446264895277,
          0.09732640946867503,
          -0.11355883865903231,
          0.2128139309813744,
          -0.38963892316985477,
          0.12767461473080274,
          -0.09920015714668835,
          0.26371995379552415,
          -0.4434420199859188,
          -0.5607970551495925,
          2.063900563398957,
          -1.4857712119266875,
          0.007075658199432495,
          1.2878039096650393,
          -0.20469356440844869,
          -1.0443218157028409,
          0.30572575901613863,
          0.9186397492736501,
          0.463455305324779,
          0.5485539996955462,
          -0.2680810662274818,
          -0.9398484005231073,
          -0.15197786833529853,
          -0.021104928437870044,
          -0.7163874781331797,
          -0.07781558751246322,
          -0.5088178501681737,
          -0.3759080073603766,
          0.57215110217102,
          -0.3459356400266322,
          0.5123513245767716,
          1.8156822307430185,
          -1.5987878127320017,
          0.9828016670135185,
          -0.3987342334756005,
          1.553709645102389,
          -0.7930389415923372,
          -0.7878647849157575,
          -2.47437913953804,
          -1.0697479981823497,
          0.04802162487314175,
          -0.8340213258052468,
          0.8393512676752578,
          -0.6399858404914921,
          0.401629816409806,
          -0.08581239209276978,
          1.0681103969845536,
          -0.08160047220364465,
          0.09482987517133963,
          0.3768970125500851,
          1.3322319124126047,
          -0.23802377313554726,
          0.5443599989176237,
          0.2640731149237633,
          0.2516458614493047,
          -0.30819230362295347,
          -0.4297721916496139,
          0.493865700710478,
          2.073198652660911,
          -0.6036327703946305,
          -0.84105157047565,
          -2.3104107765592623,
          -0.32611725470856845,
          2.3388040250701154,
          -0.33413233446227103,
          -0.10019130753522917
         ]
        }
       ],
       "layout": {
        "legend": {
         "bgcolor": "#F5F6F9",
         "font": {
          "color": "#4D5663"
         }
        },
        "paper_bgcolor": "#F5F6F9",
        "plot_bgcolor": "#F5F6F9",
        "template": {
         "data": {
          "bar": [
           {
            "error_x": {
             "color": "#2a3f5f"
            },
            "error_y": {
             "color": "#2a3f5f"
            },
            "marker": {
             "line": {
              "color": "#E5ECF6",
              "width": 0.5
             },
             "pattern": {
              "fillmode": "overlay",
              "size": 10,
              "solidity": 0.2
             }
            },
            "type": "bar"
           }
          ],
          "barpolar": [
           {
            "marker": {
             "line": {
              "color": "#E5ECF6",
              "width": 0.5
             },
             "pattern": {
              "fillmode": "overlay",
              "size": 10,
              "solidity": 0.2
             }
            },
            "type": "barpolar"
           }
          ],
          "carpet": [
           {
            "aaxis": {
             "endlinecolor": "#2a3f5f",
             "gridcolor": "white",
             "linecolor": "white",
             "minorgridcolor": "white",
             "startlinecolor": "#2a3f5f"
            },
            "baxis": {
             "endlinecolor": "#2a3f5f",
             "gridcolor": "white",
             "linecolor": "white",
             "minorgridcolor": "white",
             "startlinecolor": "#2a3f5f"
            },
            "type": "carpet"
           }
          ],
          "choropleth": [
           {
            "colorbar": {
             "outlinewidth": 0,
             "ticks": ""
            },
            "type": "choropleth"
           }
          ],
          "contour": [
           {
            "colorbar": {
             "outlinewidth": 0,
             "ticks": ""
            },
            "colorscale": [
             [
              0,
              "#0d0887"
             ],
             [
              0.1111111111111111,
              "#46039f"
             ],
             [
              0.2222222222222222,
              "#7201a8"
             ],
             [
              0.3333333333333333,
              "#9c179e"
             ],
             [
              0.4444444444444444,
              "#bd3786"
             ],
             [
              0.5555555555555556,
              "#d8576b"
             ],
             [
              0.6666666666666666,
              "#ed7953"
             ],
             [
              0.7777777777777778,
              "#fb9f3a"
             ],
             [
              0.8888888888888888,
              "#fdca26"
             ],
             [
              1,
              "#f0f921"
             ]
            ],
            "type": "contour"
           }
          ],
          "contourcarpet": [
           {
            "colorbar": {
             "outlinewidth": 0,
             "ticks": ""
            },
            "type": "contourcarpet"
           }
          ],
          "heatmap": [
           {
            "colorbar": {
             "outlinewidth": 0,
             "ticks": ""
            },
            "colorscale": [
             [
              0,
              "#0d0887"
             ],
             [
              0.1111111111111111,
              "#46039f"
             ],
             [
              0.2222222222222222,
              "#7201a8"
             ],
             [
              0.3333333333333333,
              "#9c179e"
             ],
             [
              0.4444444444444444,
              "#bd3786"
             ],
             [
              0.5555555555555556,
              "#d8576b"
             ],
             [
              0.6666666666666666,
              "#ed7953"
             ],
             [
              0.7777777777777778,
              "#fb9f3a"
             ],
             [
              0.8888888888888888,
              "#fdca26"
             ],
             [
              1,
              "#f0f921"
             ]
            ],
            "type": "heatmap"
           }
          ],
          "heatmapgl": [
           {
            "colorbar": {
             "outlinewidth": 0,
             "ticks": ""
            },
            "colorscale": [
             [
              0,
              "#0d0887"
             ],
             [
              0.1111111111111111,
              "#46039f"
             ],
             [
              0.2222222222222222,
              "#7201a8"
             ],
             [
              0.3333333333333333,
              "#9c179e"
             ],
             [
              0.4444444444444444,
              "#bd3786"
             ],
             [
              0.5555555555555556,
              "#d8576b"
             ],
             [
              0.6666666666666666,
              "#ed7953"
             ],
             [
              0.7777777777777778,
              "#fb9f3a"
             ],
             [
              0.8888888888888888,
              "#fdca26"
             ],
             [
              1,
              "#f0f921"
             ]
            ],
            "type": "heatmapgl"
           }
          ],
          "histogram": [
           {
            "marker": {
             "pattern": {
              "fillmode": "overlay",
              "size": 10,
              "solidity": 0.2
             }
            },
            "type": "histogram"
           }
          ],
          "histogram2d": [
           {
            "colorbar": {
             "outlinewidth": 0,
             "ticks": ""
            },
            "colorscale": [
             [
              0,
              "#0d0887"
             ],
             [
              0.1111111111111111,
              "#46039f"
             ],
             [
              0.2222222222222222,
              "#7201a8"
             ],
             [
              0.3333333333333333,
              "#9c179e"
             ],
             [
              0.4444444444444444,
              "#bd3786"
             ],
             [
              0.5555555555555556,
              "#d8576b"
             ],
             [
              0.6666666666666666,
              "#ed7953"
             ],
             [
              0.7777777777777778,
              "#fb9f3a"
             ],
             [
              0.8888888888888888,
              "#fdca26"
             ],
             [
              1,
              "#f0f921"
             ]
            ],
            "type": "histogram2d"
           }
          ],
          "histogram2dcontour": [
           {
            "colorbar": {
             "outlinewidth": 0,
             "ticks": ""
            },
            "colorscale": [
             [
              0,
              "#0d0887"
             ],
             [
              0.1111111111111111,
              "#46039f"
             ],
             [
              0.2222222222222222,
              "#7201a8"
             ],
             [
              0.3333333333333333,
              "#9c179e"
             ],
             [
              0.4444444444444444,
              "#bd3786"
             ],
             [
              0.5555555555555556,
              "#d8576b"
             ],
             [
              0.6666666666666666,
              "#ed7953"
             ],
             [
              0.7777777777777778,
              "#fb9f3a"
             ],
             [
              0.8888888888888888,
              "#fdca26"
             ],
             [
              1,
              "#f0f921"
             ]
            ],
            "type": "histogram2dcontour"
           }
          ],
          "mesh3d": [
           {
            "colorbar": {
             "outlinewidth": 0,
             "ticks": ""
            },
            "type": "mesh3d"
           }
          ],
          "parcoords": [
           {
            "line": {
             "colorbar": {
              "outlinewidth": 0,
              "ticks": ""
             }
            },
            "type": "parcoords"
           }
          ],
          "pie": [
           {
            "automargin": true,
            "type": "pie"
           }
          ],
          "scatter": [
           {
            "fillpattern": {
             "fillmode": "overlay",
             "size": 10,
             "solidity": 0.2
            },
            "type": "scatter"
           }
          ],
          "scatter3d": [
           {
            "line": {
             "colorbar": {
              "outlinewidth": 0,
              "ticks": ""
             }
            },
            "marker": {
             "colorbar": {
              "outlinewidth": 0,
              "ticks": ""
             }
            },
            "type": "scatter3d"
           }
          ],
          "scattercarpet": [
           {
            "marker": {
             "colorbar": {
              "outlinewidth": 0,
              "ticks": ""
             }
            },
            "type": "scattercarpet"
           }
          ],
          "scattergeo": [
           {
            "marker": {
             "colorbar": {
              "outlinewidth": 0,
              "ticks": ""
             }
            },
            "type": "scattergeo"
           }
          ],
          "scattergl": [
           {
            "marker": {
             "colorbar": {
              "outlinewidth": 0,
              "ticks": ""
             }
            },
            "type": "scattergl"
           }
          ],
          "scattermapbox": [
           {
            "marker": {
             "colorbar": {
              "outlinewidth": 0,
              "ticks": ""
             }
            },
            "type": "scattermapbox"
           }
          ],
          "scatterpolar": [
           {
            "marker": {
             "colorbar": {
              "outlinewidth": 0,
              "ticks": ""
             }
            },
            "type": "scatterpolar"
           }
          ],
          "scatterpolargl": [
           {
            "marker": {
             "colorbar": {
              "outlinewidth": 0,
              "ticks": ""
             }
            },
            "type": "scatterpolargl"
           }
          ],
          "scatterternary": [
           {
            "marker": {
             "colorbar": {
              "outlinewidth": 0,
              "ticks": ""
             }
            },
            "type": "scatterternary"
           }
          ],
          "surface": [
           {
            "colorbar": {
             "outlinewidth": 0,
             "ticks": ""
            },
            "colorscale": [
             [
              0,
              "#0d0887"
             ],
             [
              0.1111111111111111,
              "#46039f"
             ],
             [
              0.2222222222222222,
              "#7201a8"
             ],
             [
              0.3333333333333333,
              "#9c179e"
             ],
             [
              0.4444444444444444,
              "#bd3786"
             ],
             [
              0.5555555555555556,
              "#d8576b"
             ],
             [
              0.6666666666666666,
              "#ed7953"
             ],
             [
              0.7777777777777778,
              "#fb9f3a"
             ],
             [
              0.8888888888888888,
              "#fdca26"
             ],
             [
              1,
              "#f0f921"
             ]
            ],
            "type": "surface"
           }
          ],
          "table": [
           {
            "cells": {
             "fill": {
              "color": "#EBF0F8"
             },
             "line": {
              "color": "white"
             }
            },
            "header": {
             "fill": {
              "color": "#C8D4E3"
             },
             "line": {
              "color": "white"
             }
            },
            "type": "table"
           }
          ]
         },
         "layout": {
          "annotationdefaults": {
           "arrowcolor": "#2a3f5f",
           "arrowhead": 0,
           "arrowwidth": 1
          },
          "autotypenumbers": "strict",
          "coloraxis": {
           "colorbar": {
            "outlinewidth": 0,
            "ticks": ""
           }
          },
          "colorscale": {
           "diverging": [
            [
             0,
             "#8e0152"
            ],
            [
             0.1,
             "#c51b7d"
            ],
            [
             0.2,
             "#de77ae"
            ],
            [
             0.3,
             "#f1b6da"
            ],
            [
             0.4,
             "#fde0ef"
            ],
            [
             0.5,
             "#f7f7f7"
            ],
            [
             0.6,
             "#e6f5d0"
            ],
            [
             0.7,
             "#b8e186"
            ],
            [
             0.8,
             "#7fbc41"
            ],
            [
             0.9,
             "#4d9221"
            ],
            [
             1,
             "#276419"
            ]
           ],
           "sequential": [
            [
             0,
             "#0d0887"
            ],
            [
             0.1111111111111111,
             "#46039f"
            ],
            [
             0.2222222222222222,
             "#7201a8"
            ],
            [
             0.3333333333333333,
             "#9c179e"
            ],
            [
             0.4444444444444444,
             "#bd3786"
            ],
            [
             0.5555555555555556,
             "#d8576b"
            ],
            [
             0.6666666666666666,
             "#ed7953"
            ],
            [
             0.7777777777777778,
             "#fb9f3a"
            ],
            [
             0.8888888888888888,
             "#fdca26"
            ],
            [
             1,
             "#f0f921"
            ]
           ],
           "sequentialminus": [
            [
             0,
             "#0d0887"
            ],
            [
             0.1111111111111111,
             "#46039f"
            ],
            [
             0.2222222222222222,
             "#7201a8"
            ],
            [
             0.3333333333333333,
             "#9c179e"
            ],
            [
             0.4444444444444444,
             "#bd3786"
            ],
            [
             0.5555555555555556,
             "#d8576b"
            ],
            [
             0.6666666666666666,
             "#ed7953"
            ],
            [
             0.7777777777777778,
             "#fb9f3a"
            ],
            [
             0.8888888888888888,
             "#fdca26"
            ],
            [
             1,
             "#f0f921"
            ]
           ]
          },
          "colorway": [
           "#636efa",
           "#EF553B",
           "#00cc96",
           "#ab63fa",
           "#FFA15A",
           "#19d3f3",
           "#FF6692",
           "#B6E880",
           "#FF97FF",
           "#FECB52"
          ],
          "font": {
           "color": "#2a3f5f"
          },
          "geo": {
           "bgcolor": "white",
           "lakecolor": "white",
           "landcolor": "#E5ECF6",
           "showlakes": true,
           "showland": true,
           "subunitcolor": "white"
          },
          "hoverlabel": {
           "align": "left"
          },
          "hovermode": "closest",
          "mapbox": {
           "style": "light"
          },
          "paper_bgcolor": "white",
          "plot_bgcolor": "#E5ECF6",
          "polar": {
           "angularaxis": {
            "gridcolor": "white",
            "linecolor": "white",
            "ticks": ""
           },
           "bgcolor": "#E5ECF6",
           "radialaxis": {
            "gridcolor": "white",
            "linecolor": "white",
            "ticks": ""
           }
          },
          "scene": {
           "xaxis": {
            "backgroundcolor": "#E5ECF6",
            "gridcolor": "white",
            "gridwidth": 2,
            "linecolor": "white",
            "showbackground": true,
            "ticks": "",
            "zerolinecolor": "white"
           },
           "yaxis": {
            "backgroundcolor": "#E5ECF6",
            "gridcolor": "white",
            "gridwidth": 2,
            "linecolor": "white",
            "showbackground": true,
            "ticks": "",
            "zerolinecolor": "white"
           },
           "zaxis": {
            "backgroundcolor": "#E5ECF6",
            "gridcolor": "white",
            "gridwidth": 2,
            "linecolor": "white",
            "showbackground": true,
            "ticks": "",
            "zerolinecolor": "white"
           }
          },
          "shapedefaults": {
           "line": {
            "color": "#2a3f5f"
           }
          },
          "ternary": {
           "aaxis": {
            "gridcolor": "white",
            "linecolor": "white",
            "ticks": ""
           },
           "baxis": {
            "gridcolor": "white",
            "linecolor": "white",
            "ticks": ""
           },
           "bgcolor": "#E5ECF6",
           "caxis": {
            "gridcolor": "white",
            "linecolor": "white",
            "ticks": ""
           }
          },
          "title": {
           "x": 0.05
          },
          "xaxis": {
           "automargin": true,
           "gridcolor": "white",
           "linecolor": "white",
           "ticks": "",
           "title": {
            "standoff": 15
           },
           "zerolinecolor": "white",
           "zerolinewidth": 2
          },
          "yaxis": {
           "automargin": true,
           "gridcolor": "white",
           "linecolor": "white",
           "ticks": "",
           "title": {
            "standoff": 15
           },
           "zerolinecolor": "white",
           "zerolinewidth": 2
          }
         }
        },
        "title": {
         "font": {
          "color": "#4D5663"
         }
        },
        "xaxis": {
         "gridcolor": "#E1E5ED",
         "showgrid": true,
         "tickfont": {
          "color": "#4D5663"
         },
         "title": {
          "font": {
           "color": "#4D5663"
          },
          "text": ""
         },
         "zerolinecolor": "#E1E5ED"
        },
        "yaxis": {
         "gridcolor": "#E1E5ED",
         "showgrid": true,
         "tickfont": {
          "color": "#4D5663"
         },
         "title": {
          "font": {
           "color": "#4D5663"
          },
          "text": ""
         },
         "zerolinecolor": "#E1E5ED"
        }
       }
      },
      "text/html": [
       "<div>                            <div id=\"f43d134e-e4ce-43ff-8ca1-a4fc7ec66d4c\" class=\"plotly-graph-div\" style=\"height:525px; width:100%;\"></div>            <script type=\"text/javascript\">                require([\"plotly\"], function(Plotly) {                    window.PLOTLYENV=window.PLOTLYENV || {};\n",
       "                    window.PLOTLYENV.BASE_URL='https://plot.ly';                                    if (document.getElementById(\"f43d134e-e4ce-43ff-8ca1-a4fc7ec66d4c\")) {                    Plotly.newPlot(                        \"f43d134e-e4ce-43ff-8ca1-a4fc7ec66d4c\",                        [{\"marker\":{\"color\":\"rgba(255, 153, 51, 0.6)\",\"line\":{\"color\":\"rgba(255, 153, 51, 1.0)\",\"width\":1}},\"name\":\"A\",\"orientation\":\"v\",\"text\":\"\",\"x\":[0,1,2,3,4,5,6,7,8,9,10,11,12,13,14,15,16,17,18,19,20,21,22,23,24,25,26,27,28,29,30,31,32,33,34,35,36,37,38,39,40,41,42,43,44,45,46,47,48,49,50,51,52,53,54,55,56,57,58,59,60,61,62,63,64,65,66,67,68,69,70,71,72,73,74,75,76,77,78,79,80,81,82,83,84,85,86,87,88,89,90,91,92,93,94,95,96,97,98,99],\"y\":[0.2995340644905276,0.2205656269030712,-1.056174561092009,0.7591755781504027,0.5326518825067723,1.3044295669802999,1.3281748768339667,-0.09922890207163876,0.6072907830909519,1.1826119307800274,0.3200674123294725,-1.3012890682412424,0.39931988429912135,-0.34879285248827946,-0.7832437352797109,0.24797886378743955,-2.8773605354838225,-0.41107805336817005,0.5428332832960278,-0.34202223323909137,0.6703636476801402,0.47056109501637966,0.5846164712351315,-0.8661517063929928,0.44216954122070445,0.5363106882328338,-0.27977714813382293,0.4380768982907296,-1.4402841454482886,0.256393582261463,1.6549149482388437,-1.3228705669839567,-0.7548185531120883,0.44297261355922846,1.3580577186497258,-0.5112296882385694,1.5741392211439416,0.13109722398933546,-1.4680827312451141,-0.6059423946677869,0.144459267134369,0.3021717007693336,-0.22744784266075352,0.03450363264569284,0.05177307263761155,0.1399332902663523,1.0229527181140547,-2.6321782638398714,0.7745092754158753,-1.5926248522708426,-0.7031009714908845,0.6710809023395671,-0.1438163725324016,0.5082776496708439,0.0767121365819478,0.6457023848381208,-0.3580314419038346,-0.774839310285214,-0.43466021347224676,-1.6000577779988623,0.5086471535040138,0.37958854995049945,-1.0104442910961025,-0.1514509188462034,-0.12732690203447797,0.8209231907729551,-0.22640327123432807,1.4349981836183903,0.6890109446047313,1.0775411458507147,0.29266013334010743,0.3923131280672186,-0.7821903721721409,-1.2087665128305551,-0.04005064789093992,0.586175941448245,-0.39450460865418874,0.7192182080202476,1.8882833172200184,0.8341960000980053,0.049935991907428666,0.47937322066761195,0.07588343334653969,-0.2526301622266612,-0.5289099932191659,-0.10700710269370067,-0.4631513345001443,-0.3924250958303068,1.3819170930309186,-1.0229272234878124,-0.8612817624400896,-1.3485764993188754,1.9759061035618044,-0.9223448984827978,-1.0472531006509647,-0.09420726481422516,0.13682879551914487,-0.6242439989143544,-0.6080082561687519,-0.335483037163409],\"type\":\"bar\"},{\"marker\":{\"color\":\"rgba(55, 128, 191, 0.6)\",\"line\":{\"color\":\"rgba(55, 128, 191, 1.0)\",\"width\":1}},\"name\":\"B\",\"orientation\":\"v\",\"text\":\"\",\"x\":[0,1,2,3,4,5,6,7,8,9,10,11,12,13,14,15,16,17,18,19,20,21,22,23,24,25,26,27,28,29,30,31,32,33,34,35,36,37,38,39,40,41,42,43,44,45,46,47,48,49,50,51,52,53,54,55,56,57,58,59,60,61,62,63,64,65,66,67,68,69,70,71,72,73,74,75,76,77,78,79,80,81,82,83,84,85,86,87,88,89,90,91,92,93,94,95,96,97,98,99],\"y\":[0.6288873106968625,1.5552086644040435,-0.2020635486518468,-0.37421286494601835,-1.8901354714158451,1.1642455262282074,-1.0335669426310594,-0.6453012578613595,-2.500063217723074,0.6208790462589199,-0.33919024377178775,-0.6323417396484956,-1.1042370872644787,0.687990530703836,-0.29482934295310004,-1.760993482777496,0.4013839131768914,-0.19128337287568414,0.38831658519353085,1.1022164676082287,-0.7658403159220927,0.39746202290875726,0.05253399825030649,-1.2986978680790244,0.5516764900142631,0.9594352288580066,-1.6176146758116843,0.566234817380164,0.03291261568889055,-0.10412367010856544,0.18813480982253722,0.33139764237225916,-0.4352051883947046,-0.1850665849362166,1.977129824661224,-0.716727900543721,-0.9962485346727465,2.1457330602622915,1.4786805379182806,-0.3073961040236371,0.5190635210197534,-0.2977117536092024,1.07655420499391,1.6402869584964106,-0.6736312859201243,-0.5421796901027264,0.2609352631947877,-0.2243329499018594,0.1421432931661823,1.093261930610181,0.30912184023215555,0.5274847296838001,-0.8482473955350368,-1.1740459296667167,0.12050195080175524,0.6917000321710234,-0.24954254013796354,-0.0555574867666861,-0.11674030611528681,-1.334786476612104,-0.7223974650682061,1.4343193468848872,-1.3171815064176886,-0.6898579117892474,-0.30456626778121365,-0.38585924100511965,-0.8134747561637852,2.010879165813113,1.8244088747007474,-0.3670493932221158,0.03065143496118238,-0.6766752794932412,-0.21596160514515156,-0.3343960409842762,-0.5872454814216169,-0.2983674285813973,0.2681694412271725,-0.5871780526557453,0.6345911247702245,-0.48125080520848557,-1.537351065621091,0.6715502994413234,-0.7553536888819133,0.7274770340599817,0.38331131279465536,0.20240429935781595,-0.03698531065937211,0.7746536546150867,-0.12743883677501958,-0.6009991380090095,0.7150308408538082,0.8401271366581022,-1.8596498898007021,-1.3339806032828878,-0.22198748420879716,-1.8428750875481898,0.4064685378532878,-0.1475973932807723,-0.8804055552297537,-1.580823041015511],\"type\":\"bar\"},{\"marker\":{\"color\":\"rgba(50, 171, 96, 0.6)\",\"line\":{\"color\":\"rgba(50, 171, 96, 1.0)\",\"width\":1}},\"name\":\"C\",\"orientation\":\"v\",\"text\":\"\",\"x\":[0,1,2,3,4,5,6,7,8,9,10,11,12,13,14,15,16,17,18,19,20,21,22,23,24,25,26,27,28,29,30,31,32,33,34,35,36,37,38,39,40,41,42,43,44,45,46,47,48,49,50,51,52,53,54,55,56,57,58,59,60,61,62,63,64,65,66,67,68,69,70,71,72,73,74,75,76,77,78,79,80,81,82,83,84,85,86,87,88,89,90,91,92,93,94,95,96,97,98,99],\"y\":[1.4924820594701595,0.7869320413273678,0.32273074575160593,0.6082508425877736,0.2514930413665632,-0.4034861638206237,-0.5768681716474443,0.6856012702187398,-1.7068889895044812,2.0385721334530302,-0.8191936955348694,-0.13602903900798372,0.9667930631260175,0.0006992865771992262,0.39111968811096387,-0.43540783703434993,-0.3221271598960024,1.514266460244137,-0.020695230765908058,1.035430942071528,0.6506811637253885,-1.145913181938134,-0.34697751515819814,0.5722502898175891,-0.7519895563251693,1.9776712105857348,0.3372495147021022,-0.4395212659175542,-1.2050237800542114,-0.06537901172259553,-0.5797928888875487,-1.431944247132665,3.0903555244262755,-0.6651819863410234,-1.8564840845463624,-0.2717618053538439,-0.10389500197897769,1.0364867265617488,-0.6559090419483852,0.29752590565428155,1.0219876099372784,-2.442035360843184,0.850123129127888,0.24684047283695598,-0.3678949207276394,-0.7883469321527289,1.6771022341276227,0.9389046366431055,-1.8881830834792284,0.5713559181159971,-1.3460438578180391,-0.3668246713811393,-0.3500860505947476,-0.3964023791091147,0.24512962516339712,-1.1552665030490763,0.09138475183594481,-0.22696740865481954,0.8208391263967445,-0.19519785712563537,-1.3695877423647327,-0.5385789870693948,0.6416446055778066,0.1382865607176138,1.000976342056877,-0.6824060028252374,0.48166835711151784,-1.7697737629288337,-0.6571145004145996,0.1894110624135475,0.9810977645999668,-1.0499061540091557,0.6730116130030037,2.112389062467758,0.04722673653972112,0.5370038684396691,-0.8236499029151352,-0.9230905362969907,0.2880332090928785,0.20315760791893966,0.2603532879125389,-1.2692769502035877,-0.8287321214176975,-0.07163646942393866,-0.4651101256940488,-0.8578945848200039,0.0891853556732661,-0.17394563516085862,-0.0507649119885555,-0.6267804040324925,-0.770225541117248,0.846148721475124,-0.2500008631262009,-1.6556309939729155,-0.8753658192097954,-0.2102264072150913,1.1306846851390011,1.1411074885543189,1.0323578639940127,0.22708670869310604],\"type\":\"bar\"},{\"marker\":{\"color\":\"rgba(128, 0, 128, 0.6)\",\"line\":{\"color\":\"rgba(128, 0, 128, 1.0)\",\"width\":1}},\"name\":\"D\",\"orientation\":\"v\",\"text\":\"\",\"x\":[0,1,2,3,4,5,6,7,8,9,10,11,12,13,14,15,16,17,18,19,20,21,22,23,24,25,26,27,28,29,30,31,32,33,34,35,36,37,38,39,40,41,42,43,44,45,46,47,48,49,50,51,52,53,54,55,56,57,58,59,60,61,62,63,64,65,66,67,68,69,70,71,72,73,74,75,76,77,78,79,80,81,82,83,84,85,86,87,88,89,90,91,92,93,94,95,96,97,98,99],\"y\":[0.8784097635079271,0.41373833465411486,-0.017982234333353768,-0.9849581469253769,-0.525922792414035,-1.5758495572561193,-2.6008494818189343,0.08321481462802557,-0.5621103549964049,-0.666115045990679,-0.22509352690535678,-1.0643184410464175,0.22251579823925932,0.5986063082126469,0.11459219679383639,0.7593125165744864,0.2103290172024642,-2.017164157575092,-0.06478200186368004,0.8445371088727064,0.45596778382233266,-0.820671089748138,-0.10983235640478299,-0.4939671612088846,-1.4432782231781656,1.2936663433198556,-0.7127750389182068,-1.2837432002030262,-0.4005004052185187,-0.3282063282740504,-0.6850873197215348,-0.028277280860713516,1.2303787242796584,0.8794190943231905,-0.2728446264895277,0.09732640946867503,-0.11355883865903231,0.2128139309813744,-0.38963892316985477,0.12767461473080274,-0.09920015714668835,0.26371995379552415,-0.4434420199859188,-0.5607970551495925,2.063900563398957,-1.4857712119266875,0.007075658199432495,1.2878039096650393,-0.20469356440844869,-1.0443218157028409,0.30572575901613863,0.9186397492736501,0.463455305324779,0.5485539996955462,-0.2680810662274818,-0.9398484005231073,-0.15197786833529853,-0.021104928437870044,-0.7163874781331797,-0.07781558751246322,-0.5088178501681737,-0.3759080073603766,0.57215110217102,-0.3459356400266322,0.5123513245767716,1.8156822307430185,-1.5987878127320017,0.9828016670135185,-0.3987342334756005,1.553709645102389,-0.7930389415923372,-0.7878647849157575,-2.47437913953804,-1.0697479981823497,0.04802162487314175,-0.8340213258052468,0.8393512676752578,-0.6399858404914921,0.401629816409806,-0.08581239209276978,1.0681103969845536,-0.08160047220364465,0.09482987517133963,0.3768970125500851,1.3322319124126047,-0.23802377313554726,0.5443599989176237,0.2640731149237633,0.2516458614493047,-0.30819230362295347,-0.4297721916496139,0.493865700710478,2.073198652660911,-0.6036327703946305,-0.84105157047565,-2.3104107765592623,-0.32611725470856845,2.3388040250701154,-0.33413233446227103,-0.10019130753522917],\"type\":\"bar\"}],                        {\"legend\":{\"bgcolor\":\"#F5F6F9\",\"font\":{\"color\":\"#4D5663\"}},\"paper_bgcolor\":\"#F5F6F9\",\"plot_bgcolor\":\"#F5F6F9\",\"template\":{\"data\":{\"barpolar\":[{\"marker\":{\"line\":{\"color\":\"#E5ECF6\",\"width\":0.5},\"pattern\":{\"fillmode\":\"overlay\",\"size\":10,\"solidity\":0.2}},\"type\":\"barpolar\"}],\"bar\":[{\"error_x\":{\"color\":\"#2a3f5f\"},\"error_y\":{\"color\":\"#2a3f5f\"},\"marker\":{\"line\":{\"color\":\"#E5ECF6\",\"width\":0.5},\"pattern\":{\"fillmode\":\"overlay\",\"size\":10,\"solidity\":0.2}},\"type\":\"bar\"}],\"carpet\":[{\"aaxis\":{\"endlinecolor\":\"#2a3f5f\",\"gridcolor\":\"white\",\"linecolor\":\"white\",\"minorgridcolor\":\"white\",\"startlinecolor\":\"#2a3f5f\"},\"baxis\":{\"endlinecolor\":\"#2a3f5f\",\"gridcolor\":\"white\",\"linecolor\":\"white\",\"minorgridcolor\":\"white\",\"startlinecolor\":\"#2a3f5f\"},\"type\":\"carpet\"}],\"choropleth\":[{\"colorbar\":{\"outlinewidth\":0,\"ticks\":\"\"},\"type\":\"choropleth\"}],\"contourcarpet\":[{\"colorbar\":{\"outlinewidth\":0,\"ticks\":\"\"},\"type\":\"contourcarpet\"}],\"contour\":[{\"colorbar\":{\"outlinewidth\":0,\"ticks\":\"\"},\"colorscale\":[[0.0,\"#0d0887\"],[0.1111111111111111,\"#46039f\"],[0.2222222222222222,\"#7201a8\"],[0.3333333333333333,\"#9c179e\"],[0.4444444444444444,\"#bd3786\"],[0.5555555555555556,\"#d8576b\"],[0.6666666666666666,\"#ed7953\"],[0.7777777777777778,\"#fb9f3a\"],[0.8888888888888888,\"#fdca26\"],[1.0,\"#f0f921\"]],\"type\":\"contour\"}],\"heatmapgl\":[{\"colorbar\":{\"outlinewidth\":0,\"ticks\":\"\"},\"colorscale\":[[0.0,\"#0d0887\"],[0.1111111111111111,\"#46039f\"],[0.2222222222222222,\"#7201a8\"],[0.3333333333333333,\"#9c179e\"],[0.4444444444444444,\"#bd3786\"],[0.5555555555555556,\"#d8576b\"],[0.6666666666666666,\"#ed7953\"],[0.7777777777777778,\"#fb9f3a\"],[0.8888888888888888,\"#fdca26\"],[1.0,\"#f0f921\"]],\"type\":\"heatmapgl\"}],\"heatmap\":[{\"colorbar\":{\"outlinewidth\":0,\"ticks\":\"\"},\"colorscale\":[[0.0,\"#0d0887\"],[0.1111111111111111,\"#46039f\"],[0.2222222222222222,\"#7201a8\"],[0.3333333333333333,\"#9c179e\"],[0.4444444444444444,\"#bd3786\"],[0.5555555555555556,\"#d8576b\"],[0.6666666666666666,\"#ed7953\"],[0.7777777777777778,\"#fb9f3a\"],[0.8888888888888888,\"#fdca26\"],[1.0,\"#f0f921\"]],\"type\":\"heatmap\"}],\"histogram2dcontour\":[{\"colorbar\":{\"outlinewidth\":0,\"ticks\":\"\"},\"colorscale\":[[0.0,\"#0d0887\"],[0.1111111111111111,\"#46039f\"],[0.2222222222222222,\"#7201a8\"],[0.3333333333333333,\"#9c179e\"],[0.4444444444444444,\"#bd3786\"],[0.5555555555555556,\"#d8576b\"],[0.6666666666666666,\"#ed7953\"],[0.7777777777777778,\"#fb9f3a\"],[0.8888888888888888,\"#fdca26\"],[1.0,\"#f0f921\"]],\"type\":\"histogram2dcontour\"}],\"histogram2d\":[{\"colorbar\":{\"outlinewidth\":0,\"ticks\":\"\"},\"colorscale\":[[0.0,\"#0d0887\"],[0.1111111111111111,\"#46039f\"],[0.2222222222222222,\"#7201a8\"],[0.3333333333333333,\"#9c179e\"],[0.4444444444444444,\"#bd3786\"],[0.5555555555555556,\"#d8576b\"],[0.6666666666666666,\"#ed7953\"],[0.7777777777777778,\"#fb9f3a\"],[0.8888888888888888,\"#fdca26\"],[1.0,\"#f0f921\"]],\"type\":\"histogram2d\"}],\"histogram\":[{\"marker\":{\"pattern\":{\"fillmode\":\"overlay\",\"size\":10,\"solidity\":0.2}},\"type\":\"histogram\"}],\"mesh3d\":[{\"colorbar\":{\"outlinewidth\":0,\"ticks\":\"\"},\"type\":\"mesh3d\"}],\"parcoords\":[{\"line\":{\"colorbar\":{\"outlinewidth\":0,\"ticks\":\"\"}},\"type\":\"parcoords\"}],\"pie\":[{\"automargin\":true,\"type\":\"pie\"}],\"scatter3d\":[{\"line\":{\"colorbar\":{\"outlinewidth\":0,\"ticks\":\"\"}},\"marker\":{\"colorbar\":{\"outlinewidth\":0,\"ticks\":\"\"}},\"type\":\"scatter3d\"}],\"scattercarpet\":[{\"marker\":{\"colorbar\":{\"outlinewidth\":0,\"ticks\":\"\"}},\"type\":\"scattercarpet\"}],\"scattergeo\":[{\"marker\":{\"colorbar\":{\"outlinewidth\":0,\"ticks\":\"\"}},\"type\":\"scattergeo\"}],\"scattergl\":[{\"marker\":{\"colorbar\":{\"outlinewidth\":0,\"ticks\":\"\"}},\"type\":\"scattergl\"}],\"scattermapbox\":[{\"marker\":{\"colorbar\":{\"outlinewidth\":0,\"ticks\":\"\"}},\"type\":\"scattermapbox\"}],\"scatterpolargl\":[{\"marker\":{\"colorbar\":{\"outlinewidth\":0,\"ticks\":\"\"}},\"type\":\"scatterpolargl\"}],\"scatterpolar\":[{\"marker\":{\"colorbar\":{\"outlinewidth\":0,\"ticks\":\"\"}},\"type\":\"scatterpolar\"}],\"scatter\":[{\"fillpattern\":{\"fillmode\":\"overlay\",\"size\":10,\"solidity\":0.2},\"type\":\"scatter\"}],\"scatterternary\":[{\"marker\":{\"colorbar\":{\"outlinewidth\":0,\"ticks\":\"\"}},\"type\":\"scatterternary\"}],\"surface\":[{\"colorbar\":{\"outlinewidth\":0,\"ticks\":\"\"},\"colorscale\":[[0.0,\"#0d0887\"],[0.1111111111111111,\"#46039f\"],[0.2222222222222222,\"#7201a8\"],[0.3333333333333333,\"#9c179e\"],[0.4444444444444444,\"#bd3786\"],[0.5555555555555556,\"#d8576b\"],[0.6666666666666666,\"#ed7953\"],[0.7777777777777778,\"#fb9f3a\"],[0.8888888888888888,\"#fdca26\"],[1.0,\"#f0f921\"]],\"type\":\"surface\"}],\"table\":[{\"cells\":{\"fill\":{\"color\":\"#EBF0F8\"},\"line\":{\"color\":\"white\"}},\"header\":{\"fill\":{\"color\":\"#C8D4E3\"},\"line\":{\"color\":\"white\"}},\"type\":\"table\"}]},\"layout\":{\"annotationdefaults\":{\"arrowcolor\":\"#2a3f5f\",\"arrowhead\":0,\"arrowwidth\":1},\"autotypenumbers\":\"strict\",\"coloraxis\":{\"colorbar\":{\"outlinewidth\":0,\"ticks\":\"\"}},\"colorscale\":{\"diverging\":[[0,\"#8e0152\"],[0.1,\"#c51b7d\"],[0.2,\"#de77ae\"],[0.3,\"#f1b6da\"],[0.4,\"#fde0ef\"],[0.5,\"#f7f7f7\"],[0.6,\"#e6f5d0\"],[0.7,\"#b8e186\"],[0.8,\"#7fbc41\"],[0.9,\"#4d9221\"],[1,\"#276419\"]],\"sequential\":[[0.0,\"#0d0887\"],[0.1111111111111111,\"#46039f\"],[0.2222222222222222,\"#7201a8\"],[0.3333333333333333,\"#9c179e\"],[0.4444444444444444,\"#bd3786\"],[0.5555555555555556,\"#d8576b\"],[0.6666666666666666,\"#ed7953\"],[0.7777777777777778,\"#fb9f3a\"],[0.8888888888888888,\"#fdca26\"],[1.0,\"#f0f921\"]],\"sequentialminus\":[[0.0,\"#0d0887\"],[0.1111111111111111,\"#46039f\"],[0.2222222222222222,\"#7201a8\"],[0.3333333333333333,\"#9c179e\"],[0.4444444444444444,\"#bd3786\"],[0.5555555555555556,\"#d8576b\"],[0.6666666666666666,\"#ed7953\"],[0.7777777777777778,\"#fb9f3a\"],[0.8888888888888888,\"#fdca26\"],[1.0,\"#f0f921\"]]},\"colorway\":[\"#636efa\",\"#EF553B\",\"#00cc96\",\"#ab63fa\",\"#FFA15A\",\"#19d3f3\",\"#FF6692\",\"#B6E880\",\"#FF97FF\",\"#FECB52\"],\"font\":{\"color\":\"#2a3f5f\"},\"geo\":{\"bgcolor\":\"white\",\"lakecolor\":\"white\",\"landcolor\":\"#E5ECF6\",\"showlakes\":true,\"showland\":true,\"subunitcolor\":\"white\"},\"hoverlabel\":{\"align\":\"left\"},\"hovermode\":\"closest\",\"mapbox\":{\"style\":\"light\"},\"paper_bgcolor\":\"white\",\"plot_bgcolor\":\"#E5ECF6\",\"polar\":{\"angularaxis\":{\"gridcolor\":\"white\",\"linecolor\":\"white\",\"ticks\":\"\"},\"bgcolor\":\"#E5ECF6\",\"radialaxis\":{\"gridcolor\":\"white\",\"linecolor\":\"white\",\"ticks\":\"\"}},\"scene\":{\"xaxis\":{\"backgroundcolor\":\"#E5ECF6\",\"gridcolor\":\"white\",\"gridwidth\":2,\"linecolor\":\"white\",\"showbackground\":true,\"ticks\":\"\",\"zerolinecolor\":\"white\"},\"yaxis\":{\"backgroundcolor\":\"#E5ECF6\",\"gridcolor\":\"white\",\"gridwidth\":2,\"linecolor\":\"white\",\"showbackground\":true,\"ticks\":\"\",\"zerolinecolor\":\"white\"},\"zaxis\":{\"backgroundcolor\":\"#E5ECF6\",\"gridcolor\":\"white\",\"gridwidth\":2,\"linecolor\":\"white\",\"showbackground\":true,\"ticks\":\"\",\"zerolinecolor\":\"white\"}},\"shapedefaults\":{\"line\":{\"color\":\"#2a3f5f\"}},\"ternary\":{\"aaxis\":{\"gridcolor\":\"white\",\"linecolor\":\"white\",\"ticks\":\"\"},\"baxis\":{\"gridcolor\":\"white\",\"linecolor\":\"white\",\"ticks\":\"\"},\"bgcolor\":\"#E5ECF6\",\"caxis\":{\"gridcolor\":\"white\",\"linecolor\":\"white\",\"ticks\":\"\"}},\"title\":{\"x\":0.05},\"xaxis\":{\"automargin\":true,\"gridcolor\":\"white\",\"linecolor\":\"white\",\"ticks\":\"\",\"title\":{\"standoff\":15},\"zerolinecolor\":\"white\",\"zerolinewidth\":2},\"yaxis\":{\"automargin\":true,\"gridcolor\":\"white\",\"linecolor\":\"white\",\"ticks\":\"\",\"title\":{\"standoff\":15},\"zerolinecolor\":\"white\",\"zerolinewidth\":2}}},\"title\":{\"font\":{\"color\":\"#4D5663\"}},\"xaxis\":{\"gridcolor\":\"#E1E5ED\",\"showgrid\":true,\"tickfont\":{\"color\":\"#4D5663\"},\"title\":{\"font\":{\"color\":\"#4D5663\"},\"text\":\"\"},\"zerolinecolor\":\"#E1E5ED\"},\"yaxis\":{\"gridcolor\":\"#E1E5ED\",\"showgrid\":true,\"tickfont\":{\"color\":\"#4D5663\"},\"title\":{\"font\":{\"color\":\"#4D5663\"},\"text\":\"\"},\"zerolinecolor\":\"#E1E5ED\"}},                        {\"showLink\": true, \"linkText\": \"Export to plot.ly\", \"plotlyServerURL\": \"https://plot.ly\", \"responsive\": true}                    ).then(function(){\n",
       "                            \n",
       "var gd = document.getElementById('f43d134e-e4ce-43ff-8ca1-a4fc7ec66d4c');\n",
       "var x = new MutationObserver(function (mutations, observer) {{\n",
       "        var display = window.getComputedStyle(gd).display;\n",
       "        if (!display || display === 'none') {{\n",
       "            console.log([gd, 'removed!']);\n",
       "            Plotly.purge(gd);\n",
       "            observer.disconnect();\n",
       "        }}\n",
       "}});\n",
       "\n",
       "// Listen for the removal of the full notebook cells\n",
       "var notebookContainer = gd.closest('#notebook-container');\n",
       "if (notebookContainer) {{\n",
       "    x.observe(notebookContainer, {childList: true});\n",
       "}}\n",
       "\n",
       "// Listen for the clearing of the current output cell\n",
       "var outputEl = gd.closest('.output');\n",
       "if (outputEl) {{\n",
       "    x.observe(outputEl, {childList: true});\n",
       "}}\n",
       "\n",
       "                        })                };                });            </script>        </div>"
      ]
     },
     "metadata": {},
     "output_type": "display_data"
    }
   ],
   "source": [
    "df.iplot(kind='bar')"
   ]
  },
  {
   "cell_type": "code",
   "execution_count": 27,
   "id": "5f373a90",
   "metadata": {},
   "outputs": [
    {
     "data": {
      "application/vnd.plotly.v1+json": {
       "config": {
        "linkText": "Export to plot.ly",
        "plotlyServerURL": "https://plot.ly",
        "showLink": true
       },
       "data": [
        {
         "marker": {
          "color": "rgba(255, 153, 51, 0.6)",
          "line": {
           "color": "rgba(255, 153, 51, 1.0)",
           "width": 1
          }
         },
         "name": "None",
         "orientation": "v",
         "text": "",
         "type": "bar",
         "x": [
          "A",
          "B",
          "C",
          "D"
         ],
         "y": [
          100,
          100,
          100,
          100
         ]
        }
       ],
       "layout": {
        "legend": {
         "bgcolor": "#F5F6F9",
         "font": {
          "color": "#4D5663"
         }
        },
        "paper_bgcolor": "#F5F6F9",
        "plot_bgcolor": "#F5F6F9",
        "template": {
         "data": {
          "bar": [
           {
            "error_x": {
             "color": "#2a3f5f"
            },
            "error_y": {
             "color": "#2a3f5f"
            },
            "marker": {
             "line": {
              "color": "#E5ECF6",
              "width": 0.5
             },
             "pattern": {
              "fillmode": "overlay",
              "size": 10,
              "solidity": 0.2
             }
            },
            "type": "bar"
           }
          ],
          "barpolar": [
           {
            "marker": {
             "line": {
              "color": "#E5ECF6",
              "width": 0.5
             },
             "pattern": {
              "fillmode": "overlay",
              "size": 10,
              "solidity": 0.2
             }
            },
            "type": "barpolar"
           }
          ],
          "carpet": [
           {
            "aaxis": {
             "endlinecolor": "#2a3f5f",
             "gridcolor": "white",
             "linecolor": "white",
             "minorgridcolor": "white",
             "startlinecolor": "#2a3f5f"
            },
            "baxis": {
             "endlinecolor": "#2a3f5f",
             "gridcolor": "white",
             "linecolor": "white",
             "minorgridcolor": "white",
             "startlinecolor": "#2a3f5f"
            },
            "type": "carpet"
           }
          ],
          "choropleth": [
           {
            "colorbar": {
             "outlinewidth": 0,
             "ticks": ""
            },
            "type": "choropleth"
           }
          ],
          "contour": [
           {
            "colorbar": {
             "outlinewidth": 0,
             "ticks": ""
            },
            "colorscale": [
             [
              0,
              "#0d0887"
             ],
             [
              0.1111111111111111,
              "#46039f"
             ],
             [
              0.2222222222222222,
              "#7201a8"
             ],
             [
              0.3333333333333333,
              "#9c179e"
             ],
             [
              0.4444444444444444,
              "#bd3786"
             ],
             [
              0.5555555555555556,
              "#d8576b"
             ],
             [
              0.6666666666666666,
              "#ed7953"
             ],
             [
              0.7777777777777778,
              "#fb9f3a"
             ],
             [
              0.8888888888888888,
              "#fdca26"
             ],
             [
              1,
              "#f0f921"
             ]
            ],
            "type": "contour"
           }
          ],
          "contourcarpet": [
           {
            "colorbar": {
             "outlinewidth": 0,
             "ticks": ""
            },
            "type": "contourcarpet"
           }
          ],
          "heatmap": [
           {
            "colorbar": {
             "outlinewidth": 0,
             "ticks": ""
            },
            "colorscale": [
             [
              0,
              "#0d0887"
             ],
             [
              0.1111111111111111,
              "#46039f"
             ],
             [
              0.2222222222222222,
              "#7201a8"
             ],
             [
              0.3333333333333333,
              "#9c179e"
             ],
             [
              0.4444444444444444,
              "#bd3786"
             ],
             [
              0.5555555555555556,
              "#d8576b"
             ],
             [
              0.6666666666666666,
              "#ed7953"
             ],
             [
              0.7777777777777778,
              "#fb9f3a"
             ],
             [
              0.8888888888888888,
              "#fdca26"
             ],
             [
              1,
              "#f0f921"
             ]
            ],
            "type": "heatmap"
           }
          ],
          "heatmapgl": [
           {
            "colorbar": {
             "outlinewidth": 0,
             "ticks": ""
            },
            "colorscale": [
             [
              0,
              "#0d0887"
             ],
             [
              0.1111111111111111,
              "#46039f"
             ],
             [
              0.2222222222222222,
              "#7201a8"
             ],
             [
              0.3333333333333333,
              "#9c179e"
             ],
             [
              0.4444444444444444,
              "#bd3786"
             ],
             [
              0.5555555555555556,
              "#d8576b"
             ],
             [
              0.6666666666666666,
              "#ed7953"
             ],
             [
              0.7777777777777778,
              "#fb9f3a"
             ],
             [
              0.8888888888888888,
              "#fdca26"
             ],
             [
              1,
              "#f0f921"
             ]
            ],
            "type": "heatmapgl"
           }
          ],
          "histogram": [
           {
            "marker": {
             "pattern": {
              "fillmode": "overlay",
              "size": 10,
              "solidity": 0.2
             }
            },
            "type": "histogram"
           }
          ],
          "histogram2d": [
           {
            "colorbar": {
             "outlinewidth": 0,
             "ticks": ""
            },
            "colorscale": [
             [
              0,
              "#0d0887"
             ],
             [
              0.1111111111111111,
              "#46039f"
             ],
             [
              0.2222222222222222,
              "#7201a8"
             ],
             [
              0.3333333333333333,
              "#9c179e"
             ],
             [
              0.4444444444444444,
              "#bd3786"
             ],
             [
              0.5555555555555556,
              "#d8576b"
             ],
             [
              0.6666666666666666,
              "#ed7953"
             ],
             [
              0.7777777777777778,
              "#fb9f3a"
             ],
             [
              0.8888888888888888,
              "#fdca26"
             ],
             [
              1,
              "#f0f921"
             ]
            ],
            "type": "histogram2d"
           }
          ],
          "histogram2dcontour": [
           {
            "colorbar": {
             "outlinewidth": 0,
             "ticks": ""
            },
            "colorscale": [
             [
              0,
              "#0d0887"
             ],
             [
              0.1111111111111111,
              "#46039f"
             ],
             [
              0.2222222222222222,
              "#7201a8"
             ],
             [
              0.3333333333333333,
              "#9c179e"
             ],
             [
              0.4444444444444444,
              "#bd3786"
             ],
             [
              0.5555555555555556,
              "#d8576b"
             ],
             [
              0.6666666666666666,
              "#ed7953"
             ],
             [
              0.7777777777777778,
              "#fb9f3a"
             ],
             [
              0.8888888888888888,
              "#fdca26"
             ],
             [
              1,
              "#f0f921"
             ]
            ],
            "type": "histogram2dcontour"
           }
          ],
          "mesh3d": [
           {
            "colorbar": {
             "outlinewidth": 0,
             "ticks": ""
            },
            "type": "mesh3d"
           }
          ],
          "parcoords": [
           {
            "line": {
             "colorbar": {
              "outlinewidth": 0,
              "ticks": ""
             }
            },
            "type": "parcoords"
           }
          ],
          "pie": [
           {
            "automargin": true,
            "type": "pie"
           }
          ],
          "scatter": [
           {
            "fillpattern": {
             "fillmode": "overlay",
             "size": 10,
             "solidity": 0.2
            },
            "type": "scatter"
           }
          ],
          "scatter3d": [
           {
            "line": {
             "colorbar": {
              "outlinewidth": 0,
              "ticks": ""
             }
            },
            "marker": {
             "colorbar": {
              "outlinewidth": 0,
              "ticks": ""
             }
            },
            "type": "scatter3d"
           }
          ],
          "scattercarpet": [
           {
            "marker": {
             "colorbar": {
              "outlinewidth": 0,
              "ticks": ""
             }
            },
            "type": "scattercarpet"
           }
          ],
          "scattergeo": [
           {
            "marker": {
             "colorbar": {
              "outlinewidth": 0,
              "ticks": ""
             }
            },
            "type": "scattergeo"
           }
          ],
          "scattergl": [
           {
            "marker": {
             "colorbar": {
              "outlinewidth": 0,
              "ticks": ""
             }
            },
            "type": "scattergl"
           }
          ],
          "scattermapbox": [
           {
            "marker": {
             "colorbar": {
              "outlinewidth": 0,
              "ticks": ""
             }
            },
            "type": "scattermapbox"
           }
          ],
          "scatterpolar": [
           {
            "marker": {
             "colorbar": {
              "outlinewidth": 0,
              "ticks": ""
             }
            },
            "type": "scatterpolar"
           }
          ],
          "scatterpolargl": [
           {
            "marker": {
             "colorbar": {
              "outlinewidth": 0,
              "ticks": ""
             }
            },
            "type": "scatterpolargl"
           }
          ],
          "scatterternary": [
           {
            "marker": {
             "colorbar": {
              "outlinewidth": 0,
              "ticks": ""
             }
            },
            "type": "scatterternary"
           }
          ],
          "surface": [
           {
            "colorbar": {
             "outlinewidth": 0,
             "ticks": ""
            },
            "colorscale": [
             [
              0,
              "#0d0887"
             ],
             [
              0.1111111111111111,
              "#46039f"
             ],
             [
              0.2222222222222222,
              "#7201a8"
             ],
             [
              0.3333333333333333,
              "#9c179e"
             ],
             [
              0.4444444444444444,
              "#bd3786"
             ],
             [
              0.5555555555555556,
              "#d8576b"
             ],
             [
              0.6666666666666666,
              "#ed7953"
             ],
             [
              0.7777777777777778,
              "#fb9f3a"
             ],
             [
              0.8888888888888888,
              "#fdca26"
             ],
             [
              1,
              "#f0f921"
             ]
            ],
            "type": "surface"
           }
          ],
          "table": [
           {
            "cells": {
             "fill": {
              "color": "#EBF0F8"
             },
             "line": {
              "color": "white"
             }
            },
            "header": {
             "fill": {
              "color": "#C8D4E3"
             },
             "line": {
              "color": "white"
             }
            },
            "type": "table"
           }
          ]
         },
         "layout": {
          "annotationdefaults": {
           "arrowcolor": "#2a3f5f",
           "arrowhead": 0,
           "arrowwidth": 1
          },
          "autotypenumbers": "strict",
          "coloraxis": {
           "colorbar": {
            "outlinewidth": 0,
            "ticks": ""
           }
          },
          "colorscale": {
           "diverging": [
            [
             0,
             "#8e0152"
            ],
            [
             0.1,
             "#c51b7d"
            ],
            [
             0.2,
             "#de77ae"
            ],
            [
             0.3,
             "#f1b6da"
            ],
            [
             0.4,
             "#fde0ef"
            ],
            [
             0.5,
             "#f7f7f7"
            ],
            [
             0.6,
             "#e6f5d0"
            ],
            [
             0.7,
             "#b8e186"
            ],
            [
             0.8,
             "#7fbc41"
            ],
            [
             0.9,
             "#4d9221"
            ],
            [
             1,
             "#276419"
            ]
           ],
           "sequential": [
            [
             0,
             "#0d0887"
            ],
            [
             0.1111111111111111,
             "#46039f"
            ],
            [
             0.2222222222222222,
             "#7201a8"
            ],
            [
             0.3333333333333333,
             "#9c179e"
            ],
            [
             0.4444444444444444,
             "#bd3786"
            ],
            [
             0.5555555555555556,
             "#d8576b"
            ],
            [
             0.6666666666666666,
             "#ed7953"
            ],
            [
             0.7777777777777778,
             "#fb9f3a"
            ],
            [
             0.8888888888888888,
             "#fdca26"
            ],
            [
             1,
             "#f0f921"
            ]
           ],
           "sequentialminus": [
            [
             0,
             "#0d0887"
            ],
            [
             0.1111111111111111,
             "#46039f"
            ],
            [
             0.2222222222222222,
             "#7201a8"
            ],
            [
             0.3333333333333333,
             "#9c179e"
            ],
            [
             0.4444444444444444,
             "#bd3786"
            ],
            [
             0.5555555555555556,
             "#d8576b"
            ],
            [
             0.6666666666666666,
             "#ed7953"
            ],
            [
             0.7777777777777778,
             "#fb9f3a"
            ],
            [
             0.8888888888888888,
             "#fdca26"
            ],
            [
             1,
             "#f0f921"
            ]
           ]
          },
          "colorway": [
           "#636efa",
           "#EF553B",
           "#00cc96",
           "#ab63fa",
           "#FFA15A",
           "#19d3f3",
           "#FF6692",
           "#B6E880",
           "#FF97FF",
           "#FECB52"
          ],
          "font": {
           "color": "#2a3f5f"
          },
          "geo": {
           "bgcolor": "white",
           "lakecolor": "white",
           "landcolor": "#E5ECF6",
           "showlakes": true,
           "showland": true,
           "subunitcolor": "white"
          },
          "hoverlabel": {
           "align": "left"
          },
          "hovermode": "closest",
          "mapbox": {
           "style": "light"
          },
          "paper_bgcolor": "white",
          "plot_bgcolor": "#E5ECF6",
          "polar": {
           "angularaxis": {
            "gridcolor": "white",
            "linecolor": "white",
            "ticks": ""
           },
           "bgcolor": "#E5ECF6",
           "radialaxis": {
            "gridcolor": "white",
            "linecolor": "white",
            "ticks": ""
           }
          },
          "scene": {
           "xaxis": {
            "backgroundcolor": "#E5ECF6",
            "gridcolor": "white",
            "gridwidth": 2,
            "linecolor": "white",
            "showbackground": true,
            "ticks": "",
            "zerolinecolor": "white"
           },
           "yaxis": {
            "backgroundcolor": "#E5ECF6",
            "gridcolor": "white",
            "gridwidth": 2,
            "linecolor": "white",
            "showbackground": true,
            "ticks": "",
            "zerolinecolor": "white"
           },
           "zaxis": {
            "backgroundcolor": "#E5ECF6",
            "gridcolor": "white",
            "gridwidth": 2,
            "linecolor": "white",
            "showbackground": true,
            "ticks": "",
            "zerolinecolor": "white"
           }
          },
          "shapedefaults": {
           "line": {
            "color": "#2a3f5f"
           }
          },
          "ternary": {
           "aaxis": {
            "gridcolor": "white",
            "linecolor": "white",
            "ticks": ""
           },
           "baxis": {
            "gridcolor": "white",
            "linecolor": "white",
            "ticks": ""
           },
           "bgcolor": "#E5ECF6",
           "caxis": {
            "gridcolor": "white",
            "linecolor": "white",
            "ticks": ""
           }
          },
          "title": {
           "x": 0.05
          },
          "xaxis": {
           "automargin": true,
           "gridcolor": "white",
           "linecolor": "white",
           "ticks": "",
           "title": {
            "standoff": 15
           },
           "zerolinecolor": "white",
           "zerolinewidth": 2
          },
          "yaxis": {
           "automargin": true,
           "gridcolor": "white",
           "linecolor": "white",
           "ticks": "",
           "title": {
            "standoff": 15
           },
           "zerolinecolor": "white",
           "zerolinewidth": 2
          }
         }
        },
        "title": {
         "font": {
          "color": "#4D5663"
         }
        },
        "xaxis": {
         "gridcolor": "#E1E5ED",
         "showgrid": true,
         "tickfont": {
          "color": "#4D5663"
         },
         "title": {
          "font": {
           "color": "#4D5663"
          },
          "text": ""
         },
         "zerolinecolor": "#E1E5ED"
        },
        "yaxis": {
         "gridcolor": "#E1E5ED",
         "showgrid": true,
         "tickfont": {
          "color": "#4D5663"
         },
         "title": {
          "font": {
           "color": "#4D5663"
          },
          "text": ""
         },
         "zerolinecolor": "#E1E5ED"
        }
       }
      },
      "text/html": [
       "<div>                            <div id=\"1c30090a-a074-4b5a-bd36-5e83ae4ce193\" class=\"plotly-graph-div\" style=\"height:525px; width:100%;\"></div>            <script type=\"text/javascript\">                require([\"plotly\"], function(Plotly) {                    window.PLOTLYENV=window.PLOTLYENV || {};\n",
       "                    window.PLOTLYENV.BASE_URL='https://plot.ly';                                    if (document.getElementById(\"1c30090a-a074-4b5a-bd36-5e83ae4ce193\")) {                    Plotly.newPlot(                        \"1c30090a-a074-4b5a-bd36-5e83ae4ce193\",                        [{\"marker\":{\"color\":\"rgba(255, 153, 51, 0.6)\",\"line\":{\"color\":\"rgba(255, 153, 51, 1.0)\",\"width\":1}},\"name\":\"None\",\"orientation\":\"v\",\"text\":\"\",\"x\":[\"A\",\"B\",\"C\",\"D\"],\"y\":[100,100,100,100],\"type\":\"bar\"}],                        {\"legend\":{\"bgcolor\":\"#F5F6F9\",\"font\":{\"color\":\"#4D5663\"}},\"paper_bgcolor\":\"#F5F6F9\",\"plot_bgcolor\":\"#F5F6F9\",\"template\":{\"data\":{\"barpolar\":[{\"marker\":{\"line\":{\"color\":\"#E5ECF6\",\"width\":0.5},\"pattern\":{\"fillmode\":\"overlay\",\"size\":10,\"solidity\":0.2}},\"type\":\"barpolar\"}],\"bar\":[{\"error_x\":{\"color\":\"#2a3f5f\"},\"error_y\":{\"color\":\"#2a3f5f\"},\"marker\":{\"line\":{\"color\":\"#E5ECF6\",\"width\":0.5},\"pattern\":{\"fillmode\":\"overlay\",\"size\":10,\"solidity\":0.2}},\"type\":\"bar\"}],\"carpet\":[{\"aaxis\":{\"endlinecolor\":\"#2a3f5f\",\"gridcolor\":\"white\",\"linecolor\":\"white\",\"minorgridcolor\":\"white\",\"startlinecolor\":\"#2a3f5f\"},\"baxis\":{\"endlinecolor\":\"#2a3f5f\",\"gridcolor\":\"white\",\"linecolor\":\"white\",\"minorgridcolor\":\"white\",\"startlinecolor\":\"#2a3f5f\"},\"type\":\"carpet\"}],\"choropleth\":[{\"colorbar\":{\"outlinewidth\":0,\"ticks\":\"\"},\"type\":\"choropleth\"}],\"contourcarpet\":[{\"colorbar\":{\"outlinewidth\":0,\"ticks\":\"\"},\"type\":\"contourcarpet\"}],\"contour\":[{\"colorbar\":{\"outlinewidth\":0,\"ticks\":\"\"},\"colorscale\":[[0.0,\"#0d0887\"],[0.1111111111111111,\"#46039f\"],[0.2222222222222222,\"#7201a8\"],[0.3333333333333333,\"#9c179e\"],[0.4444444444444444,\"#bd3786\"],[0.5555555555555556,\"#d8576b\"],[0.6666666666666666,\"#ed7953\"],[0.7777777777777778,\"#fb9f3a\"],[0.8888888888888888,\"#fdca26\"],[1.0,\"#f0f921\"]],\"type\":\"contour\"}],\"heatmapgl\":[{\"colorbar\":{\"outlinewidth\":0,\"ticks\":\"\"},\"colorscale\":[[0.0,\"#0d0887\"],[0.1111111111111111,\"#46039f\"],[0.2222222222222222,\"#7201a8\"],[0.3333333333333333,\"#9c179e\"],[0.4444444444444444,\"#bd3786\"],[0.5555555555555556,\"#d8576b\"],[0.6666666666666666,\"#ed7953\"],[0.7777777777777778,\"#fb9f3a\"],[0.8888888888888888,\"#fdca26\"],[1.0,\"#f0f921\"]],\"type\":\"heatmapgl\"}],\"heatmap\":[{\"colorbar\":{\"outlinewidth\":0,\"ticks\":\"\"},\"colorscale\":[[0.0,\"#0d0887\"],[0.1111111111111111,\"#46039f\"],[0.2222222222222222,\"#7201a8\"],[0.3333333333333333,\"#9c179e\"],[0.4444444444444444,\"#bd3786\"],[0.5555555555555556,\"#d8576b\"],[0.6666666666666666,\"#ed7953\"],[0.7777777777777778,\"#fb9f3a\"],[0.8888888888888888,\"#fdca26\"],[1.0,\"#f0f921\"]],\"type\":\"heatmap\"}],\"histogram2dcontour\":[{\"colorbar\":{\"outlinewidth\":0,\"ticks\":\"\"},\"colorscale\":[[0.0,\"#0d0887\"],[0.1111111111111111,\"#46039f\"],[0.2222222222222222,\"#7201a8\"],[0.3333333333333333,\"#9c179e\"],[0.4444444444444444,\"#bd3786\"],[0.5555555555555556,\"#d8576b\"],[0.6666666666666666,\"#ed7953\"],[0.7777777777777778,\"#fb9f3a\"],[0.8888888888888888,\"#fdca26\"],[1.0,\"#f0f921\"]],\"type\":\"histogram2dcontour\"}],\"histogram2d\":[{\"colorbar\":{\"outlinewidth\":0,\"ticks\":\"\"},\"colorscale\":[[0.0,\"#0d0887\"],[0.1111111111111111,\"#46039f\"],[0.2222222222222222,\"#7201a8\"],[0.3333333333333333,\"#9c179e\"],[0.4444444444444444,\"#bd3786\"],[0.5555555555555556,\"#d8576b\"],[0.6666666666666666,\"#ed7953\"],[0.7777777777777778,\"#fb9f3a\"],[0.8888888888888888,\"#fdca26\"],[1.0,\"#f0f921\"]],\"type\":\"histogram2d\"}],\"histogram\":[{\"marker\":{\"pattern\":{\"fillmode\":\"overlay\",\"size\":10,\"solidity\":0.2}},\"type\":\"histogram\"}],\"mesh3d\":[{\"colorbar\":{\"outlinewidth\":0,\"ticks\":\"\"},\"type\":\"mesh3d\"}],\"parcoords\":[{\"line\":{\"colorbar\":{\"outlinewidth\":0,\"ticks\":\"\"}},\"type\":\"parcoords\"}],\"pie\":[{\"automargin\":true,\"type\":\"pie\"}],\"scatter3d\":[{\"line\":{\"colorbar\":{\"outlinewidth\":0,\"ticks\":\"\"}},\"marker\":{\"colorbar\":{\"outlinewidth\":0,\"ticks\":\"\"}},\"type\":\"scatter3d\"}],\"scattercarpet\":[{\"marker\":{\"colorbar\":{\"outlinewidth\":0,\"ticks\":\"\"}},\"type\":\"scattercarpet\"}],\"scattergeo\":[{\"marker\":{\"colorbar\":{\"outlinewidth\":0,\"ticks\":\"\"}},\"type\":\"scattergeo\"}],\"scattergl\":[{\"marker\":{\"colorbar\":{\"outlinewidth\":0,\"ticks\":\"\"}},\"type\":\"scattergl\"}],\"scattermapbox\":[{\"marker\":{\"colorbar\":{\"outlinewidth\":0,\"ticks\":\"\"}},\"type\":\"scattermapbox\"}],\"scatterpolargl\":[{\"marker\":{\"colorbar\":{\"outlinewidth\":0,\"ticks\":\"\"}},\"type\":\"scatterpolargl\"}],\"scatterpolar\":[{\"marker\":{\"colorbar\":{\"outlinewidth\":0,\"ticks\":\"\"}},\"type\":\"scatterpolar\"}],\"scatter\":[{\"fillpattern\":{\"fillmode\":\"overlay\",\"size\":10,\"solidity\":0.2},\"type\":\"scatter\"}],\"scatterternary\":[{\"marker\":{\"colorbar\":{\"outlinewidth\":0,\"ticks\":\"\"}},\"type\":\"scatterternary\"}],\"surface\":[{\"colorbar\":{\"outlinewidth\":0,\"ticks\":\"\"},\"colorscale\":[[0.0,\"#0d0887\"],[0.1111111111111111,\"#46039f\"],[0.2222222222222222,\"#7201a8\"],[0.3333333333333333,\"#9c179e\"],[0.4444444444444444,\"#bd3786\"],[0.5555555555555556,\"#d8576b\"],[0.6666666666666666,\"#ed7953\"],[0.7777777777777778,\"#fb9f3a\"],[0.8888888888888888,\"#fdca26\"],[1.0,\"#f0f921\"]],\"type\":\"surface\"}],\"table\":[{\"cells\":{\"fill\":{\"color\":\"#EBF0F8\"},\"line\":{\"color\":\"white\"}},\"header\":{\"fill\":{\"color\":\"#C8D4E3\"},\"line\":{\"color\":\"white\"}},\"type\":\"table\"}]},\"layout\":{\"annotationdefaults\":{\"arrowcolor\":\"#2a3f5f\",\"arrowhead\":0,\"arrowwidth\":1},\"autotypenumbers\":\"strict\",\"coloraxis\":{\"colorbar\":{\"outlinewidth\":0,\"ticks\":\"\"}},\"colorscale\":{\"diverging\":[[0,\"#8e0152\"],[0.1,\"#c51b7d\"],[0.2,\"#de77ae\"],[0.3,\"#f1b6da\"],[0.4,\"#fde0ef\"],[0.5,\"#f7f7f7\"],[0.6,\"#e6f5d0\"],[0.7,\"#b8e186\"],[0.8,\"#7fbc41\"],[0.9,\"#4d9221\"],[1,\"#276419\"]],\"sequential\":[[0.0,\"#0d0887\"],[0.1111111111111111,\"#46039f\"],[0.2222222222222222,\"#7201a8\"],[0.3333333333333333,\"#9c179e\"],[0.4444444444444444,\"#bd3786\"],[0.5555555555555556,\"#d8576b\"],[0.6666666666666666,\"#ed7953\"],[0.7777777777777778,\"#fb9f3a\"],[0.8888888888888888,\"#fdca26\"],[1.0,\"#f0f921\"]],\"sequentialminus\":[[0.0,\"#0d0887\"],[0.1111111111111111,\"#46039f\"],[0.2222222222222222,\"#7201a8\"],[0.3333333333333333,\"#9c179e\"],[0.4444444444444444,\"#bd3786\"],[0.5555555555555556,\"#d8576b\"],[0.6666666666666666,\"#ed7953\"],[0.7777777777777778,\"#fb9f3a\"],[0.8888888888888888,\"#fdca26\"],[1.0,\"#f0f921\"]]},\"colorway\":[\"#636efa\",\"#EF553B\",\"#00cc96\",\"#ab63fa\",\"#FFA15A\",\"#19d3f3\",\"#FF6692\",\"#B6E880\",\"#FF97FF\",\"#FECB52\"],\"font\":{\"color\":\"#2a3f5f\"},\"geo\":{\"bgcolor\":\"white\",\"lakecolor\":\"white\",\"landcolor\":\"#E5ECF6\",\"showlakes\":true,\"showland\":true,\"subunitcolor\":\"white\"},\"hoverlabel\":{\"align\":\"left\"},\"hovermode\":\"closest\",\"mapbox\":{\"style\":\"light\"},\"paper_bgcolor\":\"white\",\"plot_bgcolor\":\"#E5ECF6\",\"polar\":{\"angularaxis\":{\"gridcolor\":\"white\",\"linecolor\":\"white\",\"ticks\":\"\"},\"bgcolor\":\"#E5ECF6\",\"radialaxis\":{\"gridcolor\":\"white\",\"linecolor\":\"white\",\"ticks\":\"\"}},\"scene\":{\"xaxis\":{\"backgroundcolor\":\"#E5ECF6\",\"gridcolor\":\"white\",\"gridwidth\":2,\"linecolor\":\"white\",\"showbackground\":true,\"ticks\":\"\",\"zerolinecolor\":\"white\"},\"yaxis\":{\"backgroundcolor\":\"#E5ECF6\",\"gridcolor\":\"white\",\"gridwidth\":2,\"linecolor\":\"white\",\"showbackground\":true,\"ticks\":\"\",\"zerolinecolor\":\"white\"},\"zaxis\":{\"backgroundcolor\":\"#E5ECF6\",\"gridcolor\":\"white\",\"gridwidth\":2,\"linecolor\":\"white\",\"showbackground\":true,\"ticks\":\"\",\"zerolinecolor\":\"white\"}},\"shapedefaults\":{\"line\":{\"color\":\"#2a3f5f\"}},\"ternary\":{\"aaxis\":{\"gridcolor\":\"white\",\"linecolor\":\"white\",\"ticks\":\"\"},\"baxis\":{\"gridcolor\":\"white\",\"linecolor\":\"white\",\"ticks\":\"\"},\"bgcolor\":\"#E5ECF6\",\"caxis\":{\"gridcolor\":\"white\",\"linecolor\":\"white\",\"ticks\":\"\"}},\"title\":{\"x\":0.05},\"xaxis\":{\"automargin\":true,\"gridcolor\":\"white\",\"linecolor\":\"white\",\"ticks\":\"\",\"title\":{\"standoff\":15},\"zerolinecolor\":\"white\",\"zerolinewidth\":2},\"yaxis\":{\"automargin\":true,\"gridcolor\":\"white\",\"linecolor\":\"white\",\"ticks\":\"\",\"title\":{\"standoff\":15},\"zerolinecolor\":\"white\",\"zerolinewidth\":2}}},\"title\":{\"font\":{\"color\":\"#4D5663\"}},\"xaxis\":{\"gridcolor\":\"#E1E5ED\",\"showgrid\":true,\"tickfont\":{\"color\":\"#4D5663\"},\"title\":{\"font\":{\"color\":\"#4D5663\"},\"text\":\"\"},\"zerolinecolor\":\"#E1E5ED\"},\"yaxis\":{\"gridcolor\":\"#E1E5ED\",\"showgrid\":true,\"tickfont\":{\"color\":\"#4D5663\"},\"title\":{\"font\":{\"color\":\"#4D5663\"},\"text\":\"\"},\"zerolinecolor\":\"#E1E5ED\"}},                        {\"showLink\": true, \"linkText\": \"Export to plot.ly\", \"plotlyServerURL\": \"https://plot.ly\", \"responsive\": true}                    ).then(function(){\n",
       "                            \n",
       "var gd = document.getElementById('1c30090a-a074-4b5a-bd36-5e83ae4ce193');\n",
       "var x = new MutationObserver(function (mutations, observer) {{\n",
       "        var display = window.getComputedStyle(gd).display;\n",
       "        if (!display || display === 'none') {{\n",
       "            console.log([gd, 'removed!']);\n",
       "            Plotly.purge(gd);\n",
       "            observer.disconnect();\n",
       "        }}\n",
       "}});\n",
       "\n",
       "// Listen for the removal of the full notebook cells\n",
       "var notebookContainer = gd.closest('#notebook-container');\n",
       "if (notebookContainer) {{\n",
       "    x.observe(notebookContainer, {childList: true});\n",
       "}}\n",
       "\n",
       "// Listen for the clearing of the current output cell\n",
       "var outputEl = gd.closest('.output');\n",
       "if (outputEl) {{\n",
       "    x.observe(outputEl, {childList: true});\n",
       "}}\n",
       "\n",
       "                        })                };                });            </script>        </div>"
      ]
     },
     "metadata": {},
     "output_type": "display_data"
    }
   ],
   "source": [
    "df.count().iplot(kind='bar')"
   ]
  },
  {
   "cell_type": "code",
   "execution_count": 28,
   "id": "a1e7ea86",
   "metadata": {},
   "outputs": [
    {
     "data": {
      "application/vnd.plotly.v1+json": {
       "config": {
        "linkText": "Export to plot.ly",
        "plotlyServerURL": "https://plot.ly",
        "showLink": true
       },
       "data": [
        {
         "marker": {
          "color": "rgba(255, 153, 51, 0.6)",
          "line": {
           "color": "rgba(255, 153, 51, 1.0)",
           "width": 1
          }
         },
         "name": "None",
         "orientation": "v",
         "text": "",
         "type": "bar",
         "x": [
          "A",
          "B",
          "C",
          "D"
         ],
         "y": [
          -1.0849072087027878,
          -9.083268237861809,
          -2.842326780314391,
          -9.042033520401489
         ]
        }
       ],
       "layout": {
        "legend": {
         "bgcolor": "#F5F6F9",
         "font": {
          "color": "#4D5663"
         }
        },
        "paper_bgcolor": "#F5F6F9",
        "plot_bgcolor": "#F5F6F9",
        "template": {
         "data": {
          "bar": [
           {
            "error_x": {
             "color": "#2a3f5f"
            },
            "error_y": {
             "color": "#2a3f5f"
            },
            "marker": {
             "line": {
              "color": "#E5ECF6",
              "width": 0.5
             },
             "pattern": {
              "fillmode": "overlay",
              "size": 10,
              "solidity": 0.2
             }
            },
            "type": "bar"
           }
          ],
          "barpolar": [
           {
            "marker": {
             "line": {
              "color": "#E5ECF6",
              "width": 0.5
             },
             "pattern": {
              "fillmode": "overlay",
              "size": 10,
              "solidity": 0.2
             }
            },
            "type": "barpolar"
           }
          ],
          "carpet": [
           {
            "aaxis": {
             "endlinecolor": "#2a3f5f",
             "gridcolor": "white",
             "linecolor": "white",
             "minorgridcolor": "white",
             "startlinecolor": "#2a3f5f"
            },
            "baxis": {
             "endlinecolor": "#2a3f5f",
             "gridcolor": "white",
             "linecolor": "white",
             "minorgridcolor": "white",
             "startlinecolor": "#2a3f5f"
            },
            "type": "carpet"
           }
          ],
          "choropleth": [
           {
            "colorbar": {
             "outlinewidth": 0,
             "ticks": ""
            },
            "type": "choropleth"
           }
          ],
          "contour": [
           {
            "colorbar": {
             "outlinewidth": 0,
             "ticks": ""
            },
            "colorscale": [
             [
              0,
              "#0d0887"
             ],
             [
              0.1111111111111111,
              "#46039f"
             ],
             [
              0.2222222222222222,
              "#7201a8"
             ],
             [
              0.3333333333333333,
              "#9c179e"
             ],
             [
              0.4444444444444444,
              "#bd3786"
             ],
             [
              0.5555555555555556,
              "#d8576b"
             ],
             [
              0.6666666666666666,
              "#ed7953"
             ],
             [
              0.7777777777777778,
              "#fb9f3a"
             ],
             [
              0.8888888888888888,
              "#fdca26"
             ],
             [
              1,
              "#f0f921"
             ]
            ],
            "type": "contour"
           }
          ],
          "contourcarpet": [
           {
            "colorbar": {
             "outlinewidth": 0,
             "ticks": ""
            },
            "type": "contourcarpet"
           }
          ],
          "heatmap": [
           {
            "colorbar": {
             "outlinewidth": 0,
             "ticks": ""
            },
            "colorscale": [
             [
              0,
              "#0d0887"
             ],
             [
              0.1111111111111111,
              "#46039f"
             ],
             [
              0.2222222222222222,
              "#7201a8"
             ],
             [
              0.3333333333333333,
              "#9c179e"
             ],
             [
              0.4444444444444444,
              "#bd3786"
             ],
             [
              0.5555555555555556,
              "#d8576b"
             ],
             [
              0.6666666666666666,
              "#ed7953"
             ],
             [
              0.7777777777777778,
              "#fb9f3a"
             ],
             [
              0.8888888888888888,
              "#fdca26"
             ],
             [
              1,
              "#f0f921"
             ]
            ],
            "type": "heatmap"
           }
          ],
          "heatmapgl": [
           {
            "colorbar": {
             "outlinewidth": 0,
             "ticks": ""
            },
            "colorscale": [
             [
              0,
              "#0d0887"
             ],
             [
              0.1111111111111111,
              "#46039f"
             ],
             [
              0.2222222222222222,
              "#7201a8"
             ],
             [
              0.3333333333333333,
              "#9c179e"
             ],
             [
              0.4444444444444444,
              "#bd3786"
             ],
             [
              0.5555555555555556,
              "#d8576b"
             ],
             [
              0.6666666666666666,
              "#ed7953"
             ],
             [
              0.7777777777777778,
              "#fb9f3a"
             ],
             [
              0.8888888888888888,
              "#fdca26"
             ],
             [
              1,
              "#f0f921"
             ]
            ],
            "type": "heatmapgl"
           }
          ],
          "histogram": [
           {
            "marker": {
             "pattern": {
              "fillmode": "overlay",
              "size": 10,
              "solidity": 0.2
             }
            },
            "type": "histogram"
           }
          ],
          "histogram2d": [
           {
            "colorbar": {
             "outlinewidth": 0,
             "ticks": ""
            },
            "colorscale": [
             [
              0,
              "#0d0887"
             ],
             [
              0.1111111111111111,
              "#46039f"
             ],
             [
              0.2222222222222222,
              "#7201a8"
             ],
             [
              0.3333333333333333,
              "#9c179e"
             ],
             [
              0.4444444444444444,
              "#bd3786"
             ],
             [
              0.5555555555555556,
              "#d8576b"
             ],
             [
              0.6666666666666666,
              "#ed7953"
             ],
             [
              0.7777777777777778,
              "#fb9f3a"
             ],
             [
              0.8888888888888888,
              "#fdca26"
             ],
             [
              1,
              "#f0f921"
             ]
            ],
            "type": "histogram2d"
           }
          ],
          "histogram2dcontour": [
           {
            "colorbar": {
             "outlinewidth": 0,
             "ticks": ""
            },
            "colorscale": [
             [
              0,
              "#0d0887"
             ],
             [
              0.1111111111111111,
              "#46039f"
             ],
             [
              0.2222222222222222,
              "#7201a8"
             ],
             [
              0.3333333333333333,
              "#9c179e"
             ],
             [
              0.4444444444444444,
              "#bd3786"
             ],
             [
              0.5555555555555556,
              "#d8576b"
             ],
             [
              0.6666666666666666,
              "#ed7953"
             ],
             [
              0.7777777777777778,
              "#fb9f3a"
             ],
             [
              0.8888888888888888,
              "#fdca26"
             ],
             [
              1,
              "#f0f921"
             ]
            ],
            "type": "histogram2dcontour"
           }
          ],
          "mesh3d": [
           {
            "colorbar": {
             "outlinewidth": 0,
             "ticks": ""
            },
            "type": "mesh3d"
           }
          ],
          "parcoords": [
           {
            "line": {
             "colorbar": {
              "outlinewidth": 0,
              "ticks": ""
             }
            },
            "type": "parcoords"
           }
          ],
          "pie": [
           {
            "automargin": true,
            "type": "pie"
           }
          ],
          "scatter": [
           {
            "fillpattern": {
             "fillmode": "overlay",
             "size": 10,
             "solidity": 0.2
            },
            "type": "scatter"
           }
          ],
          "scatter3d": [
           {
            "line": {
             "colorbar": {
              "outlinewidth": 0,
              "ticks": ""
             }
            },
            "marker": {
             "colorbar": {
              "outlinewidth": 0,
              "ticks": ""
             }
            },
            "type": "scatter3d"
           }
          ],
          "scattercarpet": [
           {
            "marker": {
             "colorbar": {
              "outlinewidth": 0,
              "ticks": ""
             }
            },
            "type": "scattercarpet"
           }
          ],
          "scattergeo": [
           {
            "marker": {
             "colorbar": {
              "outlinewidth": 0,
              "ticks": ""
             }
            },
            "type": "scattergeo"
           }
          ],
          "scattergl": [
           {
            "marker": {
             "colorbar": {
              "outlinewidth": 0,
              "ticks": ""
             }
            },
            "type": "scattergl"
           }
          ],
          "scattermapbox": [
           {
            "marker": {
             "colorbar": {
              "outlinewidth": 0,
              "ticks": ""
             }
            },
            "type": "scattermapbox"
           }
          ],
          "scatterpolar": [
           {
            "marker": {
             "colorbar": {
              "outlinewidth": 0,
              "ticks": ""
             }
            },
            "type": "scatterpolar"
           }
          ],
          "scatterpolargl": [
           {
            "marker": {
             "colorbar": {
              "outlinewidth": 0,
              "ticks": ""
             }
            },
            "type": "scatterpolargl"
           }
          ],
          "scatterternary": [
           {
            "marker": {
             "colorbar": {
              "outlinewidth": 0,
              "ticks": ""
             }
            },
            "type": "scatterternary"
           }
          ],
          "surface": [
           {
            "colorbar": {
             "outlinewidth": 0,
             "ticks": ""
            },
            "colorscale": [
             [
              0,
              "#0d0887"
             ],
             [
              0.1111111111111111,
              "#46039f"
             ],
             [
              0.2222222222222222,
              "#7201a8"
             ],
             [
              0.3333333333333333,
              "#9c179e"
             ],
             [
              0.4444444444444444,
              "#bd3786"
             ],
             [
              0.5555555555555556,
              "#d8576b"
             ],
             [
              0.6666666666666666,
              "#ed7953"
             ],
             [
              0.7777777777777778,
              "#fb9f3a"
             ],
             [
              0.8888888888888888,
              "#fdca26"
             ],
             [
              1,
              "#f0f921"
             ]
            ],
            "type": "surface"
           }
          ],
          "table": [
           {
            "cells": {
             "fill": {
              "color": "#EBF0F8"
             },
             "line": {
              "color": "white"
             }
            },
            "header": {
             "fill": {
              "color": "#C8D4E3"
             },
             "line": {
              "color": "white"
             }
            },
            "type": "table"
           }
          ]
         },
         "layout": {
          "annotationdefaults": {
           "arrowcolor": "#2a3f5f",
           "arrowhead": 0,
           "arrowwidth": 1
          },
          "autotypenumbers": "strict",
          "coloraxis": {
           "colorbar": {
            "outlinewidth": 0,
            "ticks": ""
           }
          },
          "colorscale": {
           "diverging": [
            [
             0,
             "#8e0152"
            ],
            [
             0.1,
             "#c51b7d"
            ],
            [
             0.2,
             "#de77ae"
            ],
            [
             0.3,
             "#f1b6da"
            ],
            [
             0.4,
             "#fde0ef"
            ],
            [
             0.5,
             "#f7f7f7"
            ],
            [
             0.6,
             "#e6f5d0"
            ],
            [
             0.7,
             "#b8e186"
            ],
            [
             0.8,
             "#7fbc41"
            ],
            [
             0.9,
             "#4d9221"
            ],
            [
             1,
             "#276419"
            ]
           ],
           "sequential": [
            [
             0,
             "#0d0887"
            ],
            [
             0.1111111111111111,
             "#46039f"
            ],
            [
             0.2222222222222222,
             "#7201a8"
            ],
            [
             0.3333333333333333,
             "#9c179e"
            ],
            [
             0.4444444444444444,
             "#bd3786"
            ],
            [
             0.5555555555555556,
             "#d8576b"
            ],
            [
             0.6666666666666666,
             "#ed7953"
            ],
            [
             0.7777777777777778,
             "#fb9f3a"
            ],
            [
             0.8888888888888888,
             "#fdca26"
            ],
            [
             1,
             "#f0f921"
            ]
           ],
           "sequentialminus": [
            [
             0,
             "#0d0887"
            ],
            [
             0.1111111111111111,
             "#46039f"
            ],
            [
             0.2222222222222222,
             "#7201a8"
            ],
            [
             0.3333333333333333,
             "#9c179e"
            ],
            [
             0.4444444444444444,
             "#bd3786"
            ],
            [
             0.5555555555555556,
             "#d8576b"
            ],
            [
             0.6666666666666666,
             "#ed7953"
            ],
            [
             0.7777777777777778,
             "#fb9f3a"
            ],
            [
             0.8888888888888888,
             "#fdca26"
            ],
            [
             1,
             "#f0f921"
            ]
           ]
          },
          "colorway": [
           "#636efa",
           "#EF553B",
           "#00cc96",
           "#ab63fa",
           "#FFA15A",
           "#19d3f3",
           "#FF6692",
           "#B6E880",
           "#FF97FF",
           "#FECB52"
          ],
          "font": {
           "color": "#2a3f5f"
          },
          "geo": {
           "bgcolor": "white",
           "lakecolor": "white",
           "landcolor": "#E5ECF6",
           "showlakes": true,
           "showland": true,
           "subunitcolor": "white"
          },
          "hoverlabel": {
           "align": "left"
          },
          "hovermode": "closest",
          "mapbox": {
           "style": "light"
          },
          "paper_bgcolor": "white",
          "plot_bgcolor": "#E5ECF6",
          "polar": {
           "angularaxis": {
            "gridcolor": "white",
            "linecolor": "white",
            "ticks": ""
           },
           "bgcolor": "#E5ECF6",
           "radialaxis": {
            "gridcolor": "white",
            "linecolor": "white",
            "ticks": ""
           }
          },
          "scene": {
           "xaxis": {
            "backgroundcolor": "#E5ECF6",
            "gridcolor": "white",
            "gridwidth": 2,
            "linecolor": "white",
            "showbackground": true,
            "ticks": "",
            "zerolinecolor": "white"
           },
           "yaxis": {
            "backgroundcolor": "#E5ECF6",
            "gridcolor": "white",
            "gridwidth": 2,
            "linecolor": "white",
            "showbackground": true,
            "ticks": "",
            "zerolinecolor": "white"
           },
           "zaxis": {
            "backgroundcolor": "#E5ECF6",
            "gridcolor": "white",
            "gridwidth": 2,
            "linecolor": "white",
            "showbackground": true,
            "ticks": "",
            "zerolinecolor": "white"
           }
          },
          "shapedefaults": {
           "line": {
            "color": "#2a3f5f"
           }
          },
          "ternary": {
           "aaxis": {
            "gridcolor": "white",
            "linecolor": "white",
            "ticks": ""
           },
           "baxis": {
            "gridcolor": "white",
            "linecolor": "white",
            "ticks": ""
           },
           "bgcolor": "#E5ECF6",
           "caxis": {
            "gridcolor": "white",
            "linecolor": "white",
            "ticks": ""
           }
          },
          "title": {
           "x": 0.05
          },
          "xaxis": {
           "automargin": true,
           "gridcolor": "white",
           "linecolor": "white",
           "ticks": "",
           "title": {
            "standoff": 15
           },
           "zerolinecolor": "white",
           "zerolinewidth": 2
          },
          "yaxis": {
           "automargin": true,
           "gridcolor": "white",
           "linecolor": "white",
           "ticks": "",
           "title": {
            "standoff": 15
           },
           "zerolinecolor": "white",
           "zerolinewidth": 2
          }
         }
        },
        "title": {
         "font": {
          "color": "#4D5663"
         }
        },
        "xaxis": {
         "gridcolor": "#E1E5ED",
         "showgrid": true,
         "tickfont": {
          "color": "#4D5663"
         },
         "title": {
          "font": {
           "color": "#4D5663"
          },
          "text": ""
         },
         "zerolinecolor": "#E1E5ED"
        },
        "yaxis": {
         "gridcolor": "#E1E5ED",
         "showgrid": true,
         "tickfont": {
          "color": "#4D5663"
         },
         "title": {
          "font": {
           "color": "#4D5663"
          },
          "text": ""
         },
         "zerolinecolor": "#E1E5ED"
        }
       }
      },
      "text/html": [
       "<div>                            <div id=\"0dc1a1c9-255b-4c34-a0b5-dd127101ca10\" class=\"plotly-graph-div\" style=\"height:525px; width:100%;\"></div>            <script type=\"text/javascript\">                require([\"plotly\"], function(Plotly) {                    window.PLOTLYENV=window.PLOTLYENV || {};\n",
       "                    window.PLOTLYENV.BASE_URL='https://plot.ly';                                    if (document.getElementById(\"0dc1a1c9-255b-4c34-a0b5-dd127101ca10\")) {                    Plotly.newPlot(                        \"0dc1a1c9-255b-4c34-a0b5-dd127101ca10\",                        [{\"marker\":{\"color\":\"rgba(255, 153, 51, 0.6)\",\"line\":{\"color\":\"rgba(255, 153, 51, 1.0)\",\"width\":1}},\"name\":\"None\",\"orientation\":\"v\",\"text\":\"\",\"x\":[\"A\",\"B\",\"C\",\"D\"],\"y\":[-1.0849072087027878,-9.083268237861809,-2.842326780314391,-9.042033520401489],\"type\":\"bar\"}],                        {\"legend\":{\"bgcolor\":\"#F5F6F9\",\"font\":{\"color\":\"#4D5663\"}},\"paper_bgcolor\":\"#F5F6F9\",\"plot_bgcolor\":\"#F5F6F9\",\"template\":{\"data\":{\"barpolar\":[{\"marker\":{\"line\":{\"color\":\"#E5ECF6\",\"width\":0.5},\"pattern\":{\"fillmode\":\"overlay\",\"size\":10,\"solidity\":0.2}},\"type\":\"barpolar\"}],\"bar\":[{\"error_x\":{\"color\":\"#2a3f5f\"},\"error_y\":{\"color\":\"#2a3f5f\"},\"marker\":{\"line\":{\"color\":\"#E5ECF6\",\"width\":0.5},\"pattern\":{\"fillmode\":\"overlay\",\"size\":10,\"solidity\":0.2}},\"type\":\"bar\"}],\"carpet\":[{\"aaxis\":{\"endlinecolor\":\"#2a3f5f\",\"gridcolor\":\"white\",\"linecolor\":\"white\",\"minorgridcolor\":\"white\",\"startlinecolor\":\"#2a3f5f\"},\"baxis\":{\"endlinecolor\":\"#2a3f5f\",\"gridcolor\":\"white\",\"linecolor\":\"white\",\"minorgridcolor\":\"white\",\"startlinecolor\":\"#2a3f5f\"},\"type\":\"carpet\"}],\"choropleth\":[{\"colorbar\":{\"outlinewidth\":0,\"ticks\":\"\"},\"type\":\"choropleth\"}],\"contourcarpet\":[{\"colorbar\":{\"outlinewidth\":0,\"ticks\":\"\"},\"type\":\"contourcarpet\"}],\"contour\":[{\"colorbar\":{\"outlinewidth\":0,\"ticks\":\"\"},\"colorscale\":[[0.0,\"#0d0887\"],[0.1111111111111111,\"#46039f\"],[0.2222222222222222,\"#7201a8\"],[0.3333333333333333,\"#9c179e\"],[0.4444444444444444,\"#bd3786\"],[0.5555555555555556,\"#d8576b\"],[0.6666666666666666,\"#ed7953\"],[0.7777777777777778,\"#fb9f3a\"],[0.8888888888888888,\"#fdca26\"],[1.0,\"#f0f921\"]],\"type\":\"contour\"}],\"heatmapgl\":[{\"colorbar\":{\"outlinewidth\":0,\"ticks\":\"\"},\"colorscale\":[[0.0,\"#0d0887\"],[0.1111111111111111,\"#46039f\"],[0.2222222222222222,\"#7201a8\"],[0.3333333333333333,\"#9c179e\"],[0.4444444444444444,\"#bd3786\"],[0.5555555555555556,\"#d8576b\"],[0.6666666666666666,\"#ed7953\"],[0.7777777777777778,\"#fb9f3a\"],[0.8888888888888888,\"#fdca26\"],[1.0,\"#f0f921\"]],\"type\":\"heatmapgl\"}],\"heatmap\":[{\"colorbar\":{\"outlinewidth\":0,\"ticks\":\"\"},\"colorscale\":[[0.0,\"#0d0887\"],[0.1111111111111111,\"#46039f\"],[0.2222222222222222,\"#7201a8\"],[0.3333333333333333,\"#9c179e\"],[0.4444444444444444,\"#bd3786\"],[0.5555555555555556,\"#d8576b\"],[0.6666666666666666,\"#ed7953\"],[0.7777777777777778,\"#fb9f3a\"],[0.8888888888888888,\"#fdca26\"],[1.0,\"#f0f921\"]],\"type\":\"heatmap\"}],\"histogram2dcontour\":[{\"colorbar\":{\"outlinewidth\":0,\"ticks\":\"\"},\"colorscale\":[[0.0,\"#0d0887\"],[0.1111111111111111,\"#46039f\"],[0.2222222222222222,\"#7201a8\"],[0.3333333333333333,\"#9c179e\"],[0.4444444444444444,\"#bd3786\"],[0.5555555555555556,\"#d8576b\"],[0.6666666666666666,\"#ed7953\"],[0.7777777777777778,\"#fb9f3a\"],[0.8888888888888888,\"#fdca26\"],[1.0,\"#f0f921\"]],\"type\":\"histogram2dcontour\"}],\"histogram2d\":[{\"colorbar\":{\"outlinewidth\":0,\"ticks\":\"\"},\"colorscale\":[[0.0,\"#0d0887\"],[0.1111111111111111,\"#46039f\"],[0.2222222222222222,\"#7201a8\"],[0.3333333333333333,\"#9c179e\"],[0.4444444444444444,\"#bd3786\"],[0.5555555555555556,\"#d8576b\"],[0.6666666666666666,\"#ed7953\"],[0.7777777777777778,\"#fb9f3a\"],[0.8888888888888888,\"#fdca26\"],[1.0,\"#f0f921\"]],\"type\":\"histogram2d\"}],\"histogram\":[{\"marker\":{\"pattern\":{\"fillmode\":\"overlay\",\"size\":10,\"solidity\":0.2}},\"type\":\"histogram\"}],\"mesh3d\":[{\"colorbar\":{\"outlinewidth\":0,\"ticks\":\"\"},\"type\":\"mesh3d\"}],\"parcoords\":[{\"line\":{\"colorbar\":{\"outlinewidth\":0,\"ticks\":\"\"}},\"type\":\"parcoords\"}],\"pie\":[{\"automargin\":true,\"type\":\"pie\"}],\"scatter3d\":[{\"line\":{\"colorbar\":{\"outlinewidth\":0,\"ticks\":\"\"}},\"marker\":{\"colorbar\":{\"outlinewidth\":0,\"ticks\":\"\"}},\"type\":\"scatter3d\"}],\"scattercarpet\":[{\"marker\":{\"colorbar\":{\"outlinewidth\":0,\"ticks\":\"\"}},\"type\":\"scattercarpet\"}],\"scattergeo\":[{\"marker\":{\"colorbar\":{\"outlinewidth\":0,\"ticks\":\"\"}},\"type\":\"scattergeo\"}],\"scattergl\":[{\"marker\":{\"colorbar\":{\"outlinewidth\":0,\"ticks\":\"\"}},\"type\":\"scattergl\"}],\"scattermapbox\":[{\"marker\":{\"colorbar\":{\"outlinewidth\":0,\"ticks\":\"\"}},\"type\":\"scattermapbox\"}],\"scatterpolargl\":[{\"marker\":{\"colorbar\":{\"outlinewidth\":0,\"ticks\":\"\"}},\"type\":\"scatterpolargl\"}],\"scatterpolar\":[{\"marker\":{\"colorbar\":{\"outlinewidth\":0,\"ticks\":\"\"}},\"type\":\"scatterpolar\"}],\"scatter\":[{\"fillpattern\":{\"fillmode\":\"overlay\",\"size\":10,\"solidity\":0.2},\"type\":\"scatter\"}],\"scatterternary\":[{\"marker\":{\"colorbar\":{\"outlinewidth\":0,\"ticks\":\"\"}},\"type\":\"scatterternary\"}],\"surface\":[{\"colorbar\":{\"outlinewidth\":0,\"ticks\":\"\"},\"colorscale\":[[0.0,\"#0d0887\"],[0.1111111111111111,\"#46039f\"],[0.2222222222222222,\"#7201a8\"],[0.3333333333333333,\"#9c179e\"],[0.4444444444444444,\"#bd3786\"],[0.5555555555555556,\"#d8576b\"],[0.6666666666666666,\"#ed7953\"],[0.7777777777777778,\"#fb9f3a\"],[0.8888888888888888,\"#fdca26\"],[1.0,\"#f0f921\"]],\"type\":\"surface\"}],\"table\":[{\"cells\":{\"fill\":{\"color\":\"#EBF0F8\"},\"line\":{\"color\":\"white\"}},\"header\":{\"fill\":{\"color\":\"#C8D4E3\"},\"line\":{\"color\":\"white\"}},\"type\":\"table\"}]},\"layout\":{\"annotationdefaults\":{\"arrowcolor\":\"#2a3f5f\",\"arrowhead\":0,\"arrowwidth\":1},\"autotypenumbers\":\"strict\",\"coloraxis\":{\"colorbar\":{\"outlinewidth\":0,\"ticks\":\"\"}},\"colorscale\":{\"diverging\":[[0,\"#8e0152\"],[0.1,\"#c51b7d\"],[0.2,\"#de77ae\"],[0.3,\"#f1b6da\"],[0.4,\"#fde0ef\"],[0.5,\"#f7f7f7\"],[0.6,\"#e6f5d0\"],[0.7,\"#b8e186\"],[0.8,\"#7fbc41\"],[0.9,\"#4d9221\"],[1,\"#276419\"]],\"sequential\":[[0.0,\"#0d0887\"],[0.1111111111111111,\"#46039f\"],[0.2222222222222222,\"#7201a8\"],[0.3333333333333333,\"#9c179e\"],[0.4444444444444444,\"#bd3786\"],[0.5555555555555556,\"#d8576b\"],[0.6666666666666666,\"#ed7953\"],[0.7777777777777778,\"#fb9f3a\"],[0.8888888888888888,\"#fdca26\"],[1.0,\"#f0f921\"]],\"sequentialminus\":[[0.0,\"#0d0887\"],[0.1111111111111111,\"#46039f\"],[0.2222222222222222,\"#7201a8\"],[0.3333333333333333,\"#9c179e\"],[0.4444444444444444,\"#bd3786\"],[0.5555555555555556,\"#d8576b\"],[0.6666666666666666,\"#ed7953\"],[0.7777777777777778,\"#fb9f3a\"],[0.8888888888888888,\"#fdca26\"],[1.0,\"#f0f921\"]]},\"colorway\":[\"#636efa\",\"#EF553B\",\"#00cc96\",\"#ab63fa\",\"#FFA15A\",\"#19d3f3\",\"#FF6692\",\"#B6E880\",\"#FF97FF\",\"#FECB52\"],\"font\":{\"color\":\"#2a3f5f\"},\"geo\":{\"bgcolor\":\"white\",\"lakecolor\":\"white\",\"landcolor\":\"#E5ECF6\",\"showlakes\":true,\"showland\":true,\"subunitcolor\":\"white\"},\"hoverlabel\":{\"align\":\"left\"},\"hovermode\":\"closest\",\"mapbox\":{\"style\":\"light\"},\"paper_bgcolor\":\"white\",\"plot_bgcolor\":\"#E5ECF6\",\"polar\":{\"angularaxis\":{\"gridcolor\":\"white\",\"linecolor\":\"white\",\"ticks\":\"\"},\"bgcolor\":\"#E5ECF6\",\"radialaxis\":{\"gridcolor\":\"white\",\"linecolor\":\"white\",\"ticks\":\"\"}},\"scene\":{\"xaxis\":{\"backgroundcolor\":\"#E5ECF6\",\"gridcolor\":\"white\",\"gridwidth\":2,\"linecolor\":\"white\",\"showbackground\":true,\"ticks\":\"\",\"zerolinecolor\":\"white\"},\"yaxis\":{\"backgroundcolor\":\"#E5ECF6\",\"gridcolor\":\"white\",\"gridwidth\":2,\"linecolor\":\"white\",\"showbackground\":true,\"ticks\":\"\",\"zerolinecolor\":\"white\"},\"zaxis\":{\"backgroundcolor\":\"#E5ECF6\",\"gridcolor\":\"white\",\"gridwidth\":2,\"linecolor\":\"white\",\"showbackground\":true,\"ticks\":\"\",\"zerolinecolor\":\"white\"}},\"shapedefaults\":{\"line\":{\"color\":\"#2a3f5f\"}},\"ternary\":{\"aaxis\":{\"gridcolor\":\"white\",\"linecolor\":\"white\",\"ticks\":\"\"},\"baxis\":{\"gridcolor\":\"white\",\"linecolor\":\"white\",\"ticks\":\"\"},\"bgcolor\":\"#E5ECF6\",\"caxis\":{\"gridcolor\":\"white\",\"linecolor\":\"white\",\"ticks\":\"\"}},\"title\":{\"x\":0.05},\"xaxis\":{\"automargin\":true,\"gridcolor\":\"white\",\"linecolor\":\"white\",\"ticks\":\"\",\"title\":{\"standoff\":15},\"zerolinecolor\":\"white\",\"zerolinewidth\":2},\"yaxis\":{\"automargin\":true,\"gridcolor\":\"white\",\"linecolor\":\"white\",\"ticks\":\"\",\"title\":{\"standoff\":15},\"zerolinecolor\":\"white\",\"zerolinewidth\":2}}},\"title\":{\"font\":{\"color\":\"#4D5663\"}},\"xaxis\":{\"gridcolor\":\"#E1E5ED\",\"showgrid\":true,\"tickfont\":{\"color\":\"#4D5663\"},\"title\":{\"font\":{\"color\":\"#4D5663\"},\"text\":\"\"},\"zerolinecolor\":\"#E1E5ED\"},\"yaxis\":{\"gridcolor\":\"#E1E5ED\",\"showgrid\":true,\"tickfont\":{\"color\":\"#4D5663\"},\"title\":{\"font\":{\"color\":\"#4D5663\"},\"text\":\"\"},\"zerolinecolor\":\"#E1E5ED\"}},                        {\"showLink\": true, \"linkText\": \"Export to plot.ly\", \"plotlyServerURL\": \"https://plot.ly\", \"responsive\": true}                    ).then(function(){\n",
       "                            \n",
       "var gd = document.getElementById('0dc1a1c9-255b-4c34-a0b5-dd127101ca10');\n",
       "var x = new MutationObserver(function (mutations, observer) {{\n",
       "        var display = window.getComputedStyle(gd).display;\n",
       "        if (!display || display === 'none') {{\n",
       "            console.log([gd, 'removed!']);\n",
       "            Plotly.purge(gd);\n",
       "            observer.disconnect();\n",
       "        }}\n",
       "}});\n",
       "\n",
       "// Listen for the removal of the full notebook cells\n",
       "var notebookContainer = gd.closest('#notebook-container');\n",
       "if (notebookContainer) {{\n",
       "    x.observe(notebookContainer, {childList: true});\n",
       "}}\n",
       "\n",
       "// Listen for the clearing of the current output cell\n",
       "var outputEl = gd.closest('.output');\n",
       "if (outputEl) {{\n",
       "    x.observe(outputEl, {childList: true});\n",
       "}}\n",
       "\n",
       "                        })                };                });            </script>        </div>"
      ]
     },
     "metadata": {},
     "output_type": "display_data"
    }
   ],
   "source": [
    "df.sum().iplot(kind='bar')"
   ]
  },
  {
   "cell_type": "code",
   "execution_count": 29,
   "id": "9f7aa4ae",
   "metadata": {},
   "outputs": [
    {
     "data": {
      "application/vnd.plotly.v1+json": {
       "config": {
        "linkText": "Export to plot.ly",
        "plotlyServerURL": "https://plot.ly",
        "showLink": true
       },
       "data": [
        {
         "boxpoints": false,
         "line": {
          "width": 1.3
         },
         "marker": {
          "color": "rgba(255, 153, 51, 1.0)"
         },
         "name": "A",
         "orientation": "v",
         "type": "box",
         "y": [
          0.2995340644905276,
          0.2205656269030712,
          -1.056174561092009,
          0.7591755781504027,
          0.5326518825067723,
          1.3044295669802999,
          1.3281748768339667,
          -0.09922890207163876,
          0.6072907830909519,
          1.1826119307800274,
          0.3200674123294725,
          -1.3012890682412424,
          0.39931988429912135,
          -0.34879285248827946,
          -0.7832437352797109,
          0.24797886378743955,
          -2.8773605354838225,
          -0.41107805336817005,
          0.5428332832960278,
          -0.34202223323909137,
          0.6703636476801402,
          0.47056109501637966,
          0.5846164712351315,
          -0.8661517063929928,
          0.44216954122070445,
          0.5363106882328338,
          -0.27977714813382293,
          0.4380768982907296,
          -1.4402841454482886,
          0.256393582261463,
          1.6549149482388437,
          -1.3228705669839567,
          -0.7548185531120883,
          0.44297261355922846,
          1.3580577186497258,
          -0.5112296882385694,
          1.5741392211439416,
          0.13109722398933546,
          -1.4680827312451141,
          -0.6059423946677869,
          0.144459267134369,
          0.3021717007693336,
          -0.22744784266075352,
          0.03450363264569284,
          0.05177307263761155,
          0.1399332902663523,
          1.0229527181140547,
          -2.6321782638398714,
          0.7745092754158753,
          -1.5926248522708426,
          -0.7031009714908845,
          0.6710809023395671,
          -0.1438163725324016,
          0.5082776496708439,
          0.0767121365819478,
          0.6457023848381208,
          -0.3580314419038346,
          -0.774839310285214,
          -0.43466021347224676,
          -1.6000577779988623,
          0.5086471535040138,
          0.37958854995049945,
          -1.0104442910961025,
          -0.1514509188462034,
          -0.12732690203447797,
          0.8209231907729551,
          -0.22640327123432807,
          1.4349981836183903,
          0.6890109446047313,
          1.0775411458507147,
          0.29266013334010743,
          0.3923131280672186,
          -0.7821903721721409,
          -1.2087665128305551,
          -0.04005064789093992,
          0.586175941448245,
          -0.39450460865418874,
          0.7192182080202476,
          1.8882833172200184,
          0.8341960000980053,
          0.049935991907428666,
          0.47937322066761195,
          0.07588343334653969,
          -0.2526301622266612,
          -0.5289099932191659,
          -0.10700710269370067,
          -0.4631513345001443,
          -0.3924250958303068,
          1.3819170930309186,
          -1.0229272234878124,
          -0.8612817624400896,
          -1.3485764993188754,
          1.9759061035618044,
          -0.9223448984827978,
          -1.0472531006509647,
          -0.09420726481422516,
          0.13682879551914487,
          -0.6242439989143544,
          -0.6080082561687519,
          -0.335483037163409
         ]
        },
        {
         "boxpoints": false,
         "line": {
          "width": 1.3
         },
         "marker": {
          "color": "rgba(55, 128, 191, 1.0)"
         },
         "name": "B",
         "orientation": "v",
         "type": "box",
         "y": [
          0.6288873106968625,
          1.5552086644040435,
          -0.2020635486518468,
          -0.37421286494601835,
          -1.8901354714158451,
          1.1642455262282074,
          -1.0335669426310594,
          -0.6453012578613595,
          -2.500063217723074,
          0.6208790462589199,
          -0.33919024377178775,
          -0.6323417396484956,
          -1.1042370872644787,
          0.687990530703836,
          -0.29482934295310004,
          -1.760993482777496,
          0.4013839131768914,
          -0.19128337287568414,
          0.38831658519353085,
          1.1022164676082287,
          -0.7658403159220927,
          0.39746202290875726,
          0.05253399825030649,
          -1.2986978680790244,
          0.5516764900142631,
          0.9594352288580066,
          -1.6176146758116843,
          0.566234817380164,
          0.03291261568889055,
          -0.10412367010856544,
          0.18813480982253722,
          0.33139764237225916,
          -0.4352051883947046,
          -0.1850665849362166,
          1.977129824661224,
          -0.716727900543721,
          -0.9962485346727465,
          2.1457330602622915,
          1.4786805379182806,
          -0.3073961040236371,
          0.5190635210197534,
          -0.2977117536092024,
          1.07655420499391,
          1.6402869584964106,
          -0.6736312859201243,
          -0.5421796901027264,
          0.2609352631947877,
          -0.2243329499018594,
          0.1421432931661823,
          1.093261930610181,
          0.30912184023215555,
          0.5274847296838001,
          -0.8482473955350368,
          -1.1740459296667167,
          0.12050195080175524,
          0.6917000321710234,
          -0.24954254013796354,
          -0.0555574867666861,
          -0.11674030611528681,
          -1.334786476612104,
          -0.7223974650682061,
          1.4343193468848872,
          -1.3171815064176886,
          -0.6898579117892474,
          -0.30456626778121365,
          -0.38585924100511965,
          -0.8134747561637852,
          2.010879165813113,
          1.8244088747007474,
          -0.3670493932221158,
          0.03065143496118238,
          -0.6766752794932412,
          -0.21596160514515156,
          -0.3343960409842762,
          -0.5872454814216169,
          -0.2983674285813973,
          0.2681694412271725,
          -0.5871780526557453,
          0.6345911247702245,
          -0.48125080520848557,
          -1.537351065621091,
          0.6715502994413234,
          -0.7553536888819133,
          0.7274770340599817,
          0.38331131279465536,
          0.20240429935781595,
          -0.03698531065937211,
          0.7746536546150867,
          -0.12743883677501958,
          -0.6009991380090095,
          0.7150308408538082,
          0.8401271366581022,
          -1.8596498898007021,
          -1.3339806032828878,
          -0.22198748420879716,
          -1.8428750875481898,
          0.4064685378532878,
          -0.1475973932807723,
          -0.8804055552297537,
          -1.580823041015511
         ]
        },
        {
         "boxpoints": false,
         "line": {
          "width": 1.3
         },
         "marker": {
          "color": "rgba(50, 171, 96, 1.0)"
         },
         "name": "C",
         "orientation": "v",
         "type": "box",
         "y": [
          1.4924820594701595,
          0.7869320413273678,
          0.32273074575160593,
          0.6082508425877736,
          0.2514930413665632,
          -0.4034861638206237,
          -0.5768681716474443,
          0.6856012702187398,
          -1.7068889895044812,
          2.0385721334530302,
          -0.8191936955348694,
          -0.13602903900798372,
          0.9667930631260175,
          0.0006992865771992262,
          0.39111968811096387,
          -0.43540783703434993,
          -0.3221271598960024,
          1.514266460244137,
          -0.020695230765908058,
          1.035430942071528,
          0.6506811637253885,
          -1.145913181938134,
          -0.34697751515819814,
          0.5722502898175891,
          -0.7519895563251693,
          1.9776712105857348,
          0.3372495147021022,
          -0.4395212659175542,
          -1.2050237800542114,
          -0.06537901172259553,
          -0.5797928888875487,
          -1.431944247132665,
          3.0903555244262755,
          -0.6651819863410234,
          -1.8564840845463624,
          -0.2717618053538439,
          -0.10389500197897769,
          1.0364867265617488,
          -0.6559090419483852,
          0.29752590565428155,
          1.0219876099372784,
          -2.442035360843184,
          0.850123129127888,
          0.24684047283695598,
          -0.3678949207276394,
          -0.7883469321527289,
          1.6771022341276227,
          0.9389046366431055,
          -1.8881830834792284,
          0.5713559181159971,
          -1.3460438578180391,
          -0.3668246713811393,
          -0.3500860505947476,
          -0.3964023791091147,
          0.24512962516339712,
          -1.1552665030490763,
          0.09138475183594481,
          -0.22696740865481954,
          0.8208391263967445,
          -0.19519785712563537,
          -1.3695877423647327,
          -0.5385789870693948,
          0.6416446055778066,
          0.1382865607176138,
          1.000976342056877,
          -0.6824060028252374,
          0.48166835711151784,
          -1.7697737629288337,
          -0.6571145004145996,
          0.1894110624135475,
          0.9810977645999668,
          -1.0499061540091557,
          0.6730116130030037,
          2.112389062467758,
          0.04722673653972112,
          0.5370038684396691,
          -0.8236499029151352,
          -0.9230905362969907,
          0.2880332090928785,
          0.20315760791893966,
          0.2603532879125389,
          -1.2692769502035877,
          -0.8287321214176975,
          -0.07163646942393866,
          -0.4651101256940488,
          -0.8578945848200039,
          0.0891853556732661,
          -0.17394563516085862,
          -0.0507649119885555,
          -0.6267804040324925,
          -0.770225541117248,
          0.846148721475124,
          -0.2500008631262009,
          -1.6556309939729155,
          -0.8753658192097954,
          -0.2102264072150913,
          1.1306846851390011,
          1.1411074885543189,
          1.0323578639940127,
          0.22708670869310604
         ]
        },
        {
         "boxpoints": false,
         "line": {
          "width": 1.3
         },
         "marker": {
          "color": "rgba(128, 0, 128, 1.0)"
         },
         "name": "D",
         "orientation": "v",
         "type": "box",
         "y": [
          0.8784097635079271,
          0.41373833465411486,
          -0.017982234333353768,
          -0.9849581469253769,
          -0.525922792414035,
          -1.5758495572561193,
          -2.6008494818189343,
          0.08321481462802557,
          -0.5621103549964049,
          -0.666115045990679,
          -0.22509352690535678,
          -1.0643184410464175,
          0.22251579823925932,
          0.5986063082126469,
          0.11459219679383639,
          0.7593125165744864,
          0.2103290172024642,
          -2.017164157575092,
          -0.06478200186368004,
          0.8445371088727064,
          0.45596778382233266,
          -0.820671089748138,
          -0.10983235640478299,
          -0.4939671612088846,
          -1.4432782231781656,
          1.2936663433198556,
          -0.7127750389182068,
          -1.2837432002030262,
          -0.4005004052185187,
          -0.3282063282740504,
          -0.6850873197215348,
          -0.028277280860713516,
          1.2303787242796584,
          0.8794190943231905,
          -0.2728446264895277,
          0.09732640946867503,
          -0.11355883865903231,
          0.2128139309813744,
          -0.38963892316985477,
          0.12767461473080274,
          -0.09920015714668835,
          0.26371995379552415,
          -0.4434420199859188,
          -0.5607970551495925,
          2.063900563398957,
          -1.4857712119266875,
          0.007075658199432495,
          1.2878039096650393,
          -0.20469356440844869,
          -1.0443218157028409,
          0.30572575901613863,
          0.9186397492736501,
          0.463455305324779,
          0.5485539996955462,
          -0.2680810662274818,
          -0.9398484005231073,
          -0.15197786833529853,
          -0.021104928437870044,
          -0.7163874781331797,
          -0.07781558751246322,
          -0.5088178501681737,
          -0.3759080073603766,
          0.57215110217102,
          -0.3459356400266322,
          0.5123513245767716,
          1.8156822307430185,
          -1.5987878127320017,
          0.9828016670135185,
          -0.3987342334756005,
          1.553709645102389,
          -0.7930389415923372,
          -0.7878647849157575,
          -2.47437913953804,
          -1.0697479981823497,
          0.04802162487314175,
          -0.8340213258052468,
          0.8393512676752578,
          -0.6399858404914921,
          0.401629816409806,
          -0.08581239209276978,
          1.0681103969845536,
          -0.08160047220364465,
          0.09482987517133963,
          0.3768970125500851,
          1.3322319124126047,
          -0.23802377313554726,
          0.5443599989176237,
          0.2640731149237633,
          0.2516458614493047,
          -0.30819230362295347,
          -0.4297721916496139,
          0.493865700710478,
          2.073198652660911,
          -0.6036327703946305,
          -0.84105157047565,
          -2.3104107765592623,
          -0.32611725470856845,
          2.3388040250701154,
          -0.33413233446227103,
          -0.10019130753522917
         ]
        }
       ],
       "layout": {
        "legend": {
         "bgcolor": "#F5F6F9",
         "font": {
          "color": "#4D5663"
         }
        },
        "paper_bgcolor": "#F5F6F9",
        "plot_bgcolor": "#F5F6F9",
        "template": {
         "data": {
          "bar": [
           {
            "error_x": {
             "color": "#2a3f5f"
            },
            "error_y": {
             "color": "#2a3f5f"
            },
            "marker": {
             "line": {
              "color": "#E5ECF6",
              "width": 0.5
             },
             "pattern": {
              "fillmode": "overlay",
              "size": 10,
              "solidity": 0.2
             }
            },
            "type": "bar"
           }
          ],
          "barpolar": [
           {
            "marker": {
             "line": {
              "color": "#E5ECF6",
              "width": 0.5
             },
             "pattern": {
              "fillmode": "overlay",
              "size": 10,
              "solidity": 0.2
             }
            },
            "type": "barpolar"
           }
          ],
          "carpet": [
           {
            "aaxis": {
             "endlinecolor": "#2a3f5f",
             "gridcolor": "white",
             "linecolor": "white",
             "minorgridcolor": "white",
             "startlinecolor": "#2a3f5f"
            },
            "baxis": {
             "endlinecolor": "#2a3f5f",
             "gridcolor": "white",
             "linecolor": "white",
             "minorgridcolor": "white",
             "startlinecolor": "#2a3f5f"
            },
            "type": "carpet"
           }
          ],
          "choropleth": [
           {
            "colorbar": {
             "outlinewidth": 0,
             "ticks": ""
            },
            "type": "choropleth"
           }
          ],
          "contour": [
           {
            "colorbar": {
             "outlinewidth": 0,
             "ticks": ""
            },
            "colorscale": [
             [
              0,
              "#0d0887"
             ],
             [
              0.1111111111111111,
              "#46039f"
             ],
             [
              0.2222222222222222,
              "#7201a8"
             ],
             [
              0.3333333333333333,
              "#9c179e"
             ],
             [
              0.4444444444444444,
              "#bd3786"
             ],
             [
              0.5555555555555556,
              "#d8576b"
             ],
             [
              0.6666666666666666,
              "#ed7953"
             ],
             [
              0.7777777777777778,
              "#fb9f3a"
             ],
             [
              0.8888888888888888,
              "#fdca26"
             ],
             [
              1,
              "#f0f921"
             ]
            ],
            "type": "contour"
           }
          ],
          "contourcarpet": [
           {
            "colorbar": {
             "outlinewidth": 0,
             "ticks": ""
            },
            "type": "contourcarpet"
           }
          ],
          "heatmap": [
           {
            "colorbar": {
             "outlinewidth": 0,
             "ticks": ""
            },
            "colorscale": [
             [
              0,
              "#0d0887"
             ],
             [
              0.1111111111111111,
              "#46039f"
             ],
             [
              0.2222222222222222,
              "#7201a8"
             ],
             [
              0.3333333333333333,
              "#9c179e"
             ],
             [
              0.4444444444444444,
              "#bd3786"
             ],
             [
              0.5555555555555556,
              "#d8576b"
             ],
             [
              0.6666666666666666,
              "#ed7953"
             ],
             [
              0.7777777777777778,
              "#fb9f3a"
             ],
             [
              0.8888888888888888,
              "#fdca26"
             ],
             [
              1,
              "#f0f921"
             ]
            ],
            "type": "heatmap"
           }
          ],
          "heatmapgl": [
           {
            "colorbar": {
             "outlinewidth": 0,
             "ticks": ""
            },
            "colorscale": [
             [
              0,
              "#0d0887"
             ],
             [
              0.1111111111111111,
              "#46039f"
             ],
             [
              0.2222222222222222,
              "#7201a8"
             ],
             [
              0.3333333333333333,
              "#9c179e"
             ],
             [
              0.4444444444444444,
              "#bd3786"
             ],
             [
              0.5555555555555556,
              "#d8576b"
             ],
             [
              0.6666666666666666,
              "#ed7953"
             ],
             [
              0.7777777777777778,
              "#fb9f3a"
             ],
             [
              0.8888888888888888,
              "#fdca26"
             ],
             [
              1,
              "#f0f921"
             ]
            ],
            "type": "heatmapgl"
           }
          ],
          "histogram": [
           {
            "marker": {
             "pattern": {
              "fillmode": "overlay",
              "size": 10,
              "solidity": 0.2
             }
            },
            "type": "histogram"
           }
          ],
          "histogram2d": [
           {
            "colorbar": {
             "outlinewidth": 0,
             "ticks": ""
            },
            "colorscale": [
             [
              0,
              "#0d0887"
             ],
             [
              0.1111111111111111,
              "#46039f"
             ],
             [
              0.2222222222222222,
              "#7201a8"
             ],
             [
              0.3333333333333333,
              "#9c179e"
             ],
             [
              0.4444444444444444,
              "#bd3786"
             ],
             [
              0.5555555555555556,
              "#d8576b"
             ],
             [
              0.6666666666666666,
              "#ed7953"
             ],
             [
              0.7777777777777778,
              "#fb9f3a"
             ],
             [
              0.8888888888888888,
              "#fdca26"
             ],
             [
              1,
              "#f0f921"
             ]
            ],
            "type": "histogram2d"
           }
          ],
          "histogram2dcontour": [
           {
            "colorbar": {
             "outlinewidth": 0,
             "ticks": ""
            },
            "colorscale": [
             [
              0,
              "#0d0887"
             ],
             [
              0.1111111111111111,
              "#46039f"
             ],
             [
              0.2222222222222222,
              "#7201a8"
             ],
             [
              0.3333333333333333,
              "#9c179e"
             ],
             [
              0.4444444444444444,
              "#bd3786"
             ],
             [
              0.5555555555555556,
              "#d8576b"
             ],
             [
              0.6666666666666666,
              "#ed7953"
             ],
             [
              0.7777777777777778,
              "#fb9f3a"
             ],
             [
              0.8888888888888888,
              "#fdca26"
             ],
             [
              1,
              "#f0f921"
             ]
            ],
            "type": "histogram2dcontour"
           }
          ],
          "mesh3d": [
           {
            "colorbar": {
             "outlinewidth": 0,
             "ticks": ""
            },
            "type": "mesh3d"
           }
          ],
          "parcoords": [
           {
            "line": {
             "colorbar": {
              "outlinewidth": 0,
              "ticks": ""
             }
            },
            "type": "parcoords"
           }
          ],
          "pie": [
           {
            "automargin": true,
            "type": "pie"
           }
          ],
          "scatter": [
           {
            "fillpattern": {
             "fillmode": "overlay",
             "size": 10,
             "solidity": 0.2
            },
            "type": "scatter"
           }
          ],
          "scatter3d": [
           {
            "line": {
             "colorbar": {
              "outlinewidth": 0,
              "ticks": ""
             }
            },
            "marker": {
             "colorbar": {
              "outlinewidth": 0,
              "ticks": ""
             }
            },
            "type": "scatter3d"
           }
          ],
          "scattercarpet": [
           {
            "marker": {
             "colorbar": {
              "outlinewidth": 0,
              "ticks": ""
             }
            },
            "type": "scattercarpet"
           }
          ],
          "scattergeo": [
           {
            "marker": {
             "colorbar": {
              "outlinewidth": 0,
              "ticks": ""
             }
            },
            "type": "scattergeo"
           }
          ],
          "scattergl": [
           {
            "marker": {
             "colorbar": {
              "outlinewidth": 0,
              "ticks": ""
             }
            },
            "type": "scattergl"
           }
          ],
          "scattermapbox": [
           {
            "marker": {
             "colorbar": {
              "outlinewidth": 0,
              "ticks": ""
             }
            },
            "type": "scattermapbox"
           }
          ],
          "scatterpolar": [
           {
            "marker": {
             "colorbar": {
              "outlinewidth": 0,
              "ticks": ""
             }
            },
            "type": "scatterpolar"
           }
          ],
          "scatterpolargl": [
           {
            "marker": {
             "colorbar": {
              "outlinewidth": 0,
              "ticks": ""
             }
            },
            "type": "scatterpolargl"
           }
          ],
          "scatterternary": [
           {
            "marker": {
             "colorbar": {
              "outlinewidth": 0,
              "ticks": ""
             }
            },
            "type": "scatterternary"
           }
          ],
          "surface": [
           {
            "colorbar": {
             "outlinewidth": 0,
             "ticks": ""
            },
            "colorscale": [
             [
              0,
              "#0d0887"
             ],
             [
              0.1111111111111111,
              "#46039f"
             ],
             [
              0.2222222222222222,
              "#7201a8"
             ],
             [
              0.3333333333333333,
              "#9c179e"
             ],
             [
              0.4444444444444444,
              "#bd3786"
             ],
             [
              0.5555555555555556,
              "#d8576b"
             ],
             [
              0.6666666666666666,
              "#ed7953"
             ],
             [
              0.7777777777777778,
              "#fb9f3a"
             ],
             [
              0.8888888888888888,
              "#fdca26"
             ],
             [
              1,
              "#f0f921"
             ]
            ],
            "type": "surface"
           }
          ],
          "table": [
           {
            "cells": {
             "fill": {
              "color": "#EBF0F8"
             },
             "line": {
              "color": "white"
             }
            },
            "header": {
             "fill": {
              "color": "#C8D4E3"
             },
             "line": {
              "color": "white"
             }
            },
            "type": "table"
           }
          ]
         },
         "layout": {
          "annotationdefaults": {
           "arrowcolor": "#2a3f5f",
           "arrowhead": 0,
           "arrowwidth": 1
          },
          "autotypenumbers": "strict",
          "coloraxis": {
           "colorbar": {
            "outlinewidth": 0,
            "ticks": ""
           }
          },
          "colorscale": {
           "diverging": [
            [
             0,
             "#8e0152"
            ],
            [
             0.1,
             "#c51b7d"
            ],
            [
             0.2,
             "#de77ae"
            ],
            [
             0.3,
             "#f1b6da"
            ],
            [
             0.4,
             "#fde0ef"
            ],
            [
             0.5,
             "#f7f7f7"
            ],
            [
             0.6,
             "#e6f5d0"
            ],
            [
             0.7,
             "#b8e186"
            ],
            [
             0.8,
             "#7fbc41"
            ],
            [
             0.9,
             "#4d9221"
            ],
            [
             1,
             "#276419"
            ]
           ],
           "sequential": [
            [
             0,
             "#0d0887"
            ],
            [
             0.1111111111111111,
             "#46039f"
            ],
            [
             0.2222222222222222,
             "#7201a8"
            ],
            [
             0.3333333333333333,
             "#9c179e"
            ],
            [
             0.4444444444444444,
             "#bd3786"
            ],
            [
             0.5555555555555556,
             "#d8576b"
            ],
            [
             0.6666666666666666,
             "#ed7953"
            ],
            [
             0.7777777777777778,
             "#fb9f3a"
            ],
            [
             0.8888888888888888,
             "#fdca26"
            ],
            [
             1,
             "#f0f921"
            ]
           ],
           "sequentialminus": [
            [
             0,
             "#0d0887"
            ],
            [
             0.1111111111111111,
             "#46039f"
            ],
            [
             0.2222222222222222,
             "#7201a8"
            ],
            [
             0.3333333333333333,
             "#9c179e"
            ],
            [
             0.4444444444444444,
             "#bd3786"
            ],
            [
             0.5555555555555556,
             "#d8576b"
            ],
            [
             0.6666666666666666,
             "#ed7953"
            ],
            [
             0.7777777777777778,
             "#fb9f3a"
            ],
            [
             0.8888888888888888,
             "#fdca26"
            ],
            [
             1,
             "#f0f921"
            ]
           ]
          },
          "colorway": [
           "#636efa",
           "#EF553B",
           "#00cc96",
           "#ab63fa",
           "#FFA15A",
           "#19d3f3",
           "#FF6692",
           "#B6E880",
           "#FF97FF",
           "#FECB52"
          ],
          "font": {
           "color": "#2a3f5f"
          },
          "geo": {
           "bgcolor": "white",
           "lakecolor": "white",
           "landcolor": "#E5ECF6",
           "showlakes": true,
           "showland": true,
           "subunitcolor": "white"
          },
          "hoverlabel": {
           "align": "left"
          },
          "hovermode": "closest",
          "mapbox": {
           "style": "light"
          },
          "paper_bgcolor": "white",
          "plot_bgcolor": "#E5ECF6",
          "polar": {
           "angularaxis": {
            "gridcolor": "white",
            "linecolor": "white",
            "ticks": ""
           },
           "bgcolor": "#E5ECF6",
           "radialaxis": {
            "gridcolor": "white",
            "linecolor": "white",
            "ticks": ""
           }
          },
          "scene": {
           "xaxis": {
            "backgroundcolor": "#E5ECF6",
            "gridcolor": "white",
            "gridwidth": 2,
            "linecolor": "white",
            "showbackground": true,
            "ticks": "",
            "zerolinecolor": "white"
           },
           "yaxis": {
            "backgroundcolor": "#E5ECF6",
            "gridcolor": "white",
            "gridwidth": 2,
            "linecolor": "white",
            "showbackground": true,
            "ticks": "",
            "zerolinecolor": "white"
           },
           "zaxis": {
            "backgroundcolor": "#E5ECF6",
            "gridcolor": "white",
            "gridwidth": 2,
            "linecolor": "white",
            "showbackground": true,
            "ticks": "",
            "zerolinecolor": "white"
           }
          },
          "shapedefaults": {
           "line": {
            "color": "#2a3f5f"
           }
          },
          "ternary": {
           "aaxis": {
            "gridcolor": "white",
            "linecolor": "white",
            "ticks": ""
           },
           "baxis": {
            "gridcolor": "white",
            "linecolor": "white",
            "ticks": ""
           },
           "bgcolor": "#E5ECF6",
           "caxis": {
            "gridcolor": "white",
            "linecolor": "white",
            "ticks": ""
           }
          },
          "title": {
           "x": 0.05
          },
          "xaxis": {
           "automargin": true,
           "gridcolor": "white",
           "linecolor": "white",
           "ticks": "",
           "title": {
            "standoff": 15
           },
           "zerolinecolor": "white",
           "zerolinewidth": 2
          },
          "yaxis": {
           "automargin": true,
           "gridcolor": "white",
           "linecolor": "white",
           "ticks": "",
           "title": {
            "standoff": 15
           },
           "zerolinecolor": "white",
           "zerolinewidth": 2
          }
         }
        },
        "title": {
         "font": {
          "color": "#4D5663"
         }
        },
        "xaxis": {
         "gridcolor": "#E1E5ED",
         "showgrid": true,
         "tickfont": {
          "color": "#4D5663"
         },
         "title": {
          "font": {
           "color": "#4D5663"
          },
          "text": ""
         },
         "zerolinecolor": "#E1E5ED"
        },
        "yaxis": {
         "gridcolor": "#E1E5ED",
         "showgrid": true,
         "tickfont": {
          "color": "#4D5663"
         },
         "title": {
          "font": {
           "color": "#4D5663"
          },
          "text": ""
         },
         "zerolinecolor": "#E1E5ED"
        }
       }
      },
      "text/html": [
       "<div>                            <div id=\"f4844633-f96f-46d5-b1b7-7be9307032fd\" class=\"plotly-graph-div\" style=\"height:525px; width:100%;\"></div>            <script type=\"text/javascript\">                require([\"plotly\"], function(Plotly) {                    window.PLOTLYENV=window.PLOTLYENV || {};\n",
       "                    window.PLOTLYENV.BASE_URL='https://plot.ly';                                    if (document.getElementById(\"f4844633-f96f-46d5-b1b7-7be9307032fd\")) {                    Plotly.newPlot(                        \"f4844633-f96f-46d5-b1b7-7be9307032fd\",                        [{\"boxpoints\":false,\"line\":{\"width\":1.3},\"marker\":{\"color\":\"rgba(255, 153, 51, 1.0)\"},\"name\":\"A\",\"orientation\":\"v\",\"y\":[0.2995340644905276,0.2205656269030712,-1.056174561092009,0.7591755781504027,0.5326518825067723,1.3044295669802999,1.3281748768339667,-0.09922890207163876,0.6072907830909519,1.1826119307800274,0.3200674123294725,-1.3012890682412424,0.39931988429912135,-0.34879285248827946,-0.7832437352797109,0.24797886378743955,-2.8773605354838225,-0.41107805336817005,0.5428332832960278,-0.34202223323909137,0.6703636476801402,0.47056109501637966,0.5846164712351315,-0.8661517063929928,0.44216954122070445,0.5363106882328338,-0.27977714813382293,0.4380768982907296,-1.4402841454482886,0.256393582261463,1.6549149482388437,-1.3228705669839567,-0.7548185531120883,0.44297261355922846,1.3580577186497258,-0.5112296882385694,1.5741392211439416,0.13109722398933546,-1.4680827312451141,-0.6059423946677869,0.144459267134369,0.3021717007693336,-0.22744784266075352,0.03450363264569284,0.05177307263761155,0.1399332902663523,1.0229527181140547,-2.6321782638398714,0.7745092754158753,-1.5926248522708426,-0.7031009714908845,0.6710809023395671,-0.1438163725324016,0.5082776496708439,0.0767121365819478,0.6457023848381208,-0.3580314419038346,-0.774839310285214,-0.43466021347224676,-1.6000577779988623,0.5086471535040138,0.37958854995049945,-1.0104442910961025,-0.1514509188462034,-0.12732690203447797,0.8209231907729551,-0.22640327123432807,1.4349981836183903,0.6890109446047313,1.0775411458507147,0.29266013334010743,0.3923131280672186,-0.7821903721721409,-1.2087665128305551,-0.04005064789093992,0.586175941448245,-0.39450460865418874,0.7192182080202476,1.8882833172200184,0.8341960000980053,0.049935991907428666,0.47937322066761195,0.07588343334653969,-0.2526301622266612,-0.5289099932191659,-0.10700710269370067,-0.4631513345001443,-0.3924250958303068,1.3819170930309186,-1.0229272234878124,-0.8612817624400896,-1.3485764993188754,1.9759061035618044,-0.9223448984827978,-1.0472531006509647,-0.09420726481422516,0.13682879551914487,-0.6242439989143544,-0.6080082561687519,-0.335483037163409],\"type\":\"box\"},{\"boxpoints\":false,\"line\":{\"width\":1.3},\"marker\":{\"color\":\"rgba(55, 128, 191, 1.0)\"},\"name\":\"B\",\"orientation\":\"v\",\"y\":[0.6288873106968625,1.5552086644040435,-0.2020635486518468,-0.37421286494601835,-1.8901354714158451,1.1642455262282074,-1.0335669426310594,-0.6453012578613595,-2.500063217723074,0.6208790462589199,-0.33919024377178775,-0.6323417396484956,-1.1042370872644787,0.687990530703836,-0.29482934295310004,-1.760993482777496,0.4013839131768914,-0.19128337287568414,0.38831658519353085,1.1022164676082287,-0.7658403159220927,0.39746202290875726,0.05253399825030649,-1.2986978680790244,0.5516764900142631,0.9594352288580066,-1.6176146758116843,0.566234817380164,0.03291261568889055,-0.10412367010856544,0.18813480982253722,0.33139764237225916,-0.4352051883947046,-0.1850665849362166,1.977129824661224,-0.716727900543721,-0.9962485346727465,2.1457330602622915,1.4786805379182806,-0.3073961040236371,0.5190635210197534,-0.2977117536092024,1.07655420499391,1.6402869584964106,-0.6736312859201243,-0.5421796901027264,0.2609352631947877,-0.2243329499018594,0.1421432931661823,1.093261930610181,0.30912184023215555,0.5274847296838001,-0.8482473955350368,-1.1740459296667167,0.12050195080175524,0.6917000321710234,-0.24954254013796354,-0.0555574867666861,-0.11674030611528681,-1.334786476612104,-0.7223974650682061,1.4343193468848872,-1.3171815064176886,-0.6898579117892474,-0.30456626778121365,-0.38585924100511965,-0.8134747561637852,2.010879165813113,1.8244088747007474,-0.3670493932221158,0.03065143496118238,-0.6766752794932412,-0.21596160514515156,-0.3343960409842762,-0.5872454814216169,-0.2983674285813973,0.2681694412271725,-0.5871780526557453,0.6345911247702245,-0.48125080520848557,-1.537351065621091,0.6715502994413234,-0.7553536888819133,0.7274770340599817,0.38331131279465536,0.20240429935781595,-0.03698531065937211,0.7746536546150867,-0.12743883677501958,-0.6009991380090095,0.7150308408538082,0.8401271366581022,-1.8596498898007021,-1.3339806032828878,-0.22198748420879716,-1.8428750875481898,0.4064685378532878,-0.1475973932807723,-0.8804055552297537,-1.580823041015511],\"type\":\"box\"},{\"boxpoints\":false,\"line\":{\"width\":1.3},\"marker\":{\"color\":\"rgba(50, 171, 96, 1.0)\"},\"name\":\"C\",\"orientation\":\"v\",\"y\":[1.4924820594701595,0.7869320413273678,0.32273074575160593,0.6082508425877736,0.2514930413665632,-0.4034861638206237,-0.5768681716474443,0.6856012702187398,-1.7068889895044812,2.0385721334530302,-0.8191936955348694,-0.13602903900798372,0.9667930631260175,0.0006992865771992262,0.39111968811096387,-0.43540783703434993,-0.3221271598960024,1.514266460244137,-0.020695230765908058,1.035430942071528,0.6506811637253885,-1.145913181938134,-0.34697751515819814,0.5722502898175891,-0.7519895563251693,1.9776712105857348,0.3372495147021022,-0.4395212659175542,-1.2050237800542114,-0.06537901172259553,-0.5797928888875487,-1.431944247132665,3.0903555244262755,-0.6651819863410234,-1.8564840845463624,-0.2717618053538439,-0.10389500197897769,1.0364867265617488,-0.6559090419483852,0.29752590565428155,1.0219876099372784,-2.442035360843184,0.850123129127888,0.24684047283695598,-0.3678949207276394,-0.7883469321527289,1.6771022341276227,0.9389046366431055,-1.8881830834792284,0.5713559181159971,-1.3460438578180391,-0.3668246713811393,-0.3500860505947476,-0.3964023791091147,0.24512962516339712,-1.1552665030490763,0.09138475183594481,-0.22696740865481954,0.8208391263967445,-0.19519785712563537,-1.3695877423647327,-0.5385789870693948,0.6416446055778066,0.1382865607176138,1.000976342056877,-0.6824060028252374,0.48166835711151784,-1.7697737629288337,-0.6571145004145996,0.1894110624135475,0.9810977645999668,-1.0499061540091557,0.6730116130030037,2.112389062467758,0.04722673653972112,0.5370038684396691,-0.8236499029151352,-0.9230905362969907,0.2880332090928785,0.20315760791893966,0.2603532879125389,-1.2692769502035877,-0.8287321214176975,-0.07163646942393866,-0.4651101256940488,-0.8578945848200039,0.0891853556732661,-0.17394563516085862,-0.0507649119885555,-0.6267804040324925,-0.770225541117248,0.846148721475124,-0.2500008631262009,-1.6556309939729155,-0.8753658192097954,-0.2102264072150913,1.1306846851390011,1.1411074885543189,1.0323578639940127,0.22708670869310604],\"type\":\"box\"},{\"boxpoints\":false,\"line\":{\"width\":1.3},\"marker\":{\"color\":\"rgba(128, 0, 128, 1.0)\"},\"name\":\"D\",\"orientation\":\"v\",\"y\":[0.8784097635079271,0.41373833465411486,-0.017982234333353768,-0.9849581469253769,-0.525922792414035,-1.5758495572561193,-2.6008494818189343,0.08321481462802557,-0.5621103549964049,-0.666115045990679,-0.22509352690535678,-1.0643184410464175,0.22251579823925932,0.5986063082126469,0.11459219679383639,0.7593125165744864,0.2103290172024642,-2.017164157575092,-0.06478200186368004,0.8445371088727064,0.45596778382233266,-0.820671089748138,-0.10983235640478299,-0.4939671612088846,-1.4432782231781656,1.2936663433198556,-0.7127750389182068,-1.2837432002030262,-0.4005004052185187,-0.3282063282740504,-0.6850873197215348,-0.028277280860713516,1.2303787242796584,0.8794190943231905,-0.2728446264895277,0.09732640946867503,-0.11355883865903231,0.2128139309813744,-0.38963892316985477,0.12767461473080274,-0.09920015714668835,0.26371995379552415,-0.4434420199859188,-0.5607970551495925,2.063900563398957,-1.4857712119266875,0.007075658199432495,1.2878039096650393,-0.20469356440844869,-1.0443218157028409,0.30572575901613863,0.9186397492736501,0.463455305324779,0.5485539996955462,-0.2680810662274818,-0.9398484005231073,-0.15197786833529853,-0.021104928437870044,-0.7163874781331797,-0.07781558751246322,-0.5088178501681737,-0.3759080073603766,0.57215110217102,-0.3459356400266322,0.5123513245767716,1.8156822307430185,-1.5987878127320017,0.9828016670135185,-0.3987342334756005,1.553709645102389,-0.7930389415923372,-0.7878647849157575,-2.47437913953804,-1.0697479981823497,0.04802162487314175,-0.8340213258052468,0.8393512676752578,-0.6399858404914921,0.401629816409806,-0.08581239209276978,1.0681103969845536,-0.08160047220364465,0.09482987517133963,0.3768970125500851,1.3322319124126047,-0.23802377313554726,0.5443599989176237,0.2640731149237633,0.2516458614493047,-0.30819230362295347,-0.4297721916496139,0.493865700710478,2.073198652660911,-0.6036327703946305,-0.84105157047565,-2.3104107765592623,-0.32611725470856845,2.3388040250701154,-0.33413233446227103,-0.10019130753522917],\"type\":\"box\"}],                        {\"legend\":{\"bgcolor\":\"#F5F6F9\",\"font\":{\"color\":\"#4D5663\"}},\"paper_bgcolor\":\"#F5F6F9\",\"plot_bgcolor\":\"#F5F6F9\",\"template\":{\"data\":{\"barpolar\":[{\"marker\":{\"line\":{\"color\":\"#E5ECF6\",\"width\":0.5},\"pattern\":{\"fillmode\":\"overlay\",\"size\":10,\"solidity\":0.2}},\"type\":\"barpolar\"}],\"bar\":[{\"error_x\":{\"color\":\"#2a3f5f\"},\"error_y\":{\"color\":\"#2a3f5f\"},\"marker\":{\"line\":{\"color\":\"#E5ECF6\",\"width\":0.5},\"pattern\":{\"fillmode\":\"overlay\",\"size\":10,\"solidity\":0.2}},\"type\":\"bar\"}],\"carpet\":[{\"aaxis\":{\"endlinecolor\":\"#2a3f5f\",\"gridcolor\":\"white\",\"linecolor\":\"white\",\"minorgridcolor\":\"white\",\"startlinecolor\":\"#2a3f5f\"},\"baxis\":{\"endlinecolor\":\"#2a3f5f\",\"gridcolor\":\"white\",\"linecolor\":\"white\",\"minorgridcolor\":\"white\",\"startlinecolor\":\"#2a3f5f\"},\"type\":\"carpet\"}],\"choropleth\":[{\"colorbar\":{\"outlinewidth\":0,\"ticks\":\"\"},\"type\":\"choropleth\"}],\"contourcarpet\":[{\"colorbar\":{\"outlinewidth\":0,\"ticks\":\"\"},\"type\":\"contourcarpet\"}],\"contour\":[{\"colorbar\":{\"outlinewidth\":0,\"ticks\":\"\"},\"colorscale\":[[0.0,\"#0d0887\"],[0.1111111111111111,\"#46039f\"],[0.2222222222222222,\"#7201a8\"],[0.3333333333333333,\"#9c179e\"],[0.4444444444444444,\"#bd3786\"],[0.5555555555555556,\"#d8576b\"],[0.6666666666666666,\"#ed7953\"],[0.7777777777777778,\"#fb9f3a\"],[0.8888888888888888,\"#fdca26\"],[1.0,\"#f0f921\"]],\"type\":\"contour\"}],\"heatmapgl\":[{\"colorbar\":{\"outlinewidth\":0,\"ticks\":\"\"},\"colorscale\":[[0.0,\"#0d0887\"],[0.1111111111111111,\"#46039f\"],[0.2222222222222222,\"#7201a8\"],[0.3333333333333333,\"#9c179e\"],[0.4444444444444444,\"#bd3786\"],[0.5555555555555556,\"#d8576b\"],[0.6666666666666666,\"#ed7953\"],[0.7777777777777778,\"#fb9f3a\"],[0.8888888888888888,\"#fdca26\"],[1.0,\"#f0f921\"]],\"type\":\"heatmapgl\"}],\"heatmap\":[{\"colorbar\":{\"outlinewidth\":0,\"ticks\":\"\"},\"colorscale\":[[0.0,\"#0d0887\"],[0.1111111111111111,\"#46039f\"],[0.2222222222222222,\"#7201a8\"],[0.3333333333333333,\"#9c179e\"],[0.4444444444444444,\"#bd3786\"],[0.5555555555555556,\"#d8576b\"],[0.6666666666666666,\"#ed7953\"],[0.7777777777777778,\"#fb9f3a\"],[0.8888888888888888,\"#fdca26\"],[1.0,\"#f0f921\"]],\"type\":\"heatmap\"}],\"histogram2dcontour\":[{\"colorbar\":{\"outlinewidth\":0,\"ticks\":\"\"},\"colorscale\":[[0.0,\"#0d0887\"],[0.1111111111111111,\"#46039f\"],[0.2222222222222222,\"#7201a8\"],[0.3333333333333333,\"#9c179e\"],[0.4444444444444444,\"#bd3786\"],[0.5555555555555556,\"#d8576b\"],[0.6666666666666666,\"#ed7953\"],[0.7777777777777778,\"#fb9f3a\"],[0.8888888888888888,\"#fdca26\"],[1.0,\"#f0f921\"]],\"type\":\"histogram2dcontour\"}],\"histogram2d\":[{\"colorbar\":{\"outlinewidth\":0,\"ticks\":\"\"},\"colorscale\":[[0.0,\"#0d0887\"],[0.1111111111111111,\"#46039f\"],[0.2222222222222222,\"#7201a8\"],[0.3333333333333333,\"#9c179e\"],[0.4444444444444444,\"#bd3786\"],[0.5555555555555556,\"#d8576b\"],[0.6666666666666666,\"#ed7953\"],[0.7777777777777778,\"#fb9f3a\"],[0.8888888888888888,\"#fdca26\"],[1.0,\"#f0f921\"]],\"type\":\"histogram2d\"}],\"histogram\":[{\"marker\":{\"pattern\":{\"fillmode\":\"overlay\",\"size\":10,\"solidity\":0.2}},\"type\":\"histogram\"}],\"mesh3d\":[{\"colorbar\":{\"outlinewidth\":0,\"ticks\":\"\"},\"type\":\"mesh3d\"}],\"parcoords\":[{\"line\":{\"colorbar\":{\"outlinewidth\":0,\"ticks\":\"\"}},\"type\":\"parcoords\"}],\"pie\":[{\"automargin\":true,\"type\":\"pie\"}],\"scatter3d\":[{\"line\":{\"colorbar\":{\"outlinewidth\":0,\"ticks\":\"\"}},\"marker\":{\"colorbar\":{\"outlinewidth\":0,\"ticks\":\"\"}},\"type\":\"scatter3d\"}],\"scattercarpet\":[{\"marker\":{\"colorbar\":{\"outlinewidth\":0,\"ticks\":\"\"}},\"type\":\"scattercarpet\"}],\"scattergeo\":[{\"marker\":{\"colorbar\":{\"outlinewidth\":0,\"ticks\":\"\"}},\"type\":\"scattergeo\"}],\"scattergl\":[{\"marker\":{\"colorbar\":{\"outlinewidth\":0,\"ticks\":\"\"}},\"type\":\"scattergl\"}],\"scattermapbox\":[{\"marker\":{\"colorbar\":{\"outlinewidth\":0,\"ticks\":\"\"}},\"type\":\"scattermapbox\"}],\"scatterpolargl\":[{\"marker\":{\"colorbar\":{\"outlinewidth\":0,\"ticks\":\"\"}},\"type\":\"scatterpolargl\"}],\"scatterpolar\":[{\"marker\":{\"colorbar\":{\"outlinewidth\":0,\"ticks\":\"\"}},\"type\":\"scatterpolar\"}],\"scatter\":[{\"fillpattern\":{\"fillmode\":\"overlay\",\"size\":10,\"solidity\":0.2},\"type\":\"scatter\"}],\"scatterternary\":[{\"marker\":{\"colorbar\":{\"outlinewidth\":0,\"ticks\":\"\"}},\"type\":\"scatterternary\"}],\"surface\":[{\"colorbar\":{\"outlinewidth\":0,\"ticks\":\"\"},\"colorscale\":[[0.0,\"#0d0887\"],[0.1111111111111111,\"#46039f\"],[0.2222222222222222,\"#7201a8\"],[0.3333333333333333,\"#9c179e\"],[0.4444444444444444,\"#bd3786\"],[0.5555555555555556,\"#d8576b\"],[0.6666666666666666,\"#ed7953\"],[0.7777777777777778,\"#fb9f3a\"],[0.8888888888888888,\"#fdca26\"],[1.0,\"#f0f921\"]],\"type\":\"surface\"}],\"table\":[{\"cells\":{\"fill\":{\"color\":\"#EBF0F8\"},\"line\":{\"color\":\"white\"}},\"header\":{\"fill\":{\"color\":\"#C8D4E3\"},\"line\":{\"color\":\"white\"}},\"type\":\"table\"}]},\"layout\":{\"annotationdefaults\":{\"arrowcolor\":\"#2a3f5f\",\"arrowhead\":0,\"arrowwidth\":1},\"autotypenumbers\":\"strict\",\"coloraxis\":{\"colorbar\":{\"outlinewidth\":0,\"ticks\":\"\"}},\"colorscale\":{\"diverging\":[[0,\"#8e0152\"],[0.1,\"#c51b7d\"],[0.2,\"#de77ae\"],[0.3,\"#f1b6da\"],[0.4,\"#fde0ef\"],[0.5,\"#f7f7f7\"],[0.6,\"#e6f5d0\"],[0.7,\"#b8e186\"],[0.8,\"#7fbc41\"],[0.9,\"#4d9221\"],[1,\"#276419\"]],\"sequential\":[[0.0,\"#0d0887\"],[0.1111111111111111,\"#46039f\"],[0.2222222222222222,\"#7201a8\"],[0.3333333333333333,\"#9c179e\"],[0.4444444444444444,\"#bd3786\"],[0.5555555555555556,\"#d8576b\"],[0.6666666666666666,\"#ed7953\"],[0.7777777777777778,\"#fb9f3a\"],[0.8888888888888888,\"#fdca26\"],[1.0,\"#f0f921\"]],\"sequentialminus\":[[0.0,\"#0d0887\"],[0.1111111111111111,\"#46039f\"],[0.2222222222222222,\"#7201a8\"],[0.3333333333333333,\"#9c179e\"],[0.4444444444444444,\"#bd3786\"],[0.5555555555555556,\"#d8576b\"],[0.6666666666666666,\"#ed7953\"],[0.7777777777777778,\"#fb9f3a\"],[0.8888888888888888,\"#fdca26\"],[1.0,\"#f0f921\"]]},\"colorway\":[\"#636efa\",\"#EF553B\",\"#00cc96\",\"#ab63fa\",\"#FFA15A\",\"#19d3f3\",\"#FF6692\",\"#B6E880\",\"#FF97FF\",\"#FECB52\"],\"font\":{\"color\":\"#2a3f5f\"},\"geo\":{\"bgcolor\":\"white\",\"lakecolor\":\"white\",\"landcolor\":\"#E5ECF6\",\"showlakes\":true,\"showland\":true,\"subunitcolor\":\"white\"},\"hoverlabel\":{\"align\":\"left\"},\"hovermode\":\"closest\",\"mapbox\":{\"style\":\"light\"},\"paper_bgcolor\":\"white\",\"plot_bgcolor\":\"#E5ECF6\",\"polar\":{\"angularaxis\":{\"gridcolor\":\"white\",\"linecolor\":\"white\",\"ticks\":\"\"},\"bgcolor\":\"#E5ECF6\",\"radialaxis\":{\"gridcolor\":\"white\",\"linecolor\":\"white\",\"ticks\":\"\"}},\"scene\":{\"xaxis\":{\"backgroundcolor\":\"#E5ECF6\",\"gridcolor\":\"white\",\"gridwidth\":2,\"linecolor\":\"white\",\"showbackground\":true,\"ticks\":\"\",\"zerolinecolor\":\"white\"},\"yaxis\":{\"backgroundcolor\":\"#E5ECF6\",\"gridcolor\":\"white\",\"gridwidth\":2,\"linecolor\":\"white\",\"showbackground\":true,\"ticks\":\"\",\"zerolinecolor\":\"white\"},\"zaxis\":{\"backgroundcolor\":\"#E5ECF6\",\"gridcolor\":\"white\",\"gridwidth\":2,\"linecolor\":\"white\",\"showbackground\":true,\"ticks\":\"\",\"zerolinecolor\":\"white\"}},\"shapedefaults\":{\"line\":{\"color\":\"#2a3f5f\"}},\"ternary\":{\"aaxis\":{\"gridcolor\":\"white\",\"linecolor\":\"white\",\"ticks\":\"\"},\"baxis\":{\"gridcolor\":\"white\",\"linecolor\":\"white\",\"ticks\":\"\"},\"bgcolor\":\"#E5ECF6\",\"caxis\":{\"gridcolor\":\"white\",\"linecolor\":\"white\",\"ticks\":\"\"}},\"title\":{\"x\":0.05},\"xaxis\":{\"automargin\":true,\"gridcolor\":\"white\",\"linecolor\":\"white\",\"ticks\":\"\",\"title\":{\"standoff\":15},\"zerolinecolor\":\"white\",\"zerolinewidth\":2},\"yaxis\":{\"automargin\":true,\"gridcolor\":\"white\",\"linecolor\":\"white\",\"ticks\":\"\",\"title\":{\"standoff\":15},\"zerolinecolor\":\"white\",\"zerolinewidth\":2}}},\"title\":{\"font\":{\"color\":\"#4D5663\"}},\"xaxis\":{\"gridcolor\":\"#E1E5ED\",\"showgrid\":true,\"tickfont\":{\"color\":\"#4D5663\"},\"title\":{\"font\":{\"color\":\"#4D5663\"},\"text\":\"\"},\"zerolinecolor\":\"#E1E5ED\"},\"yaxis\":{\"gridcolor\":\"#E1E5ED\",\"showgrid\":true,\"tickfont\":{\"color\":\"#4D5663\"},\"title\":{\"font\":{\"color\":\"#4D5663\"},\"text\":\"\"},\"zerolinecolor\":\"#E1E5ED\"}},                        {\"showLink\": true, \"linkText\": \"Export to plot.ly\", \"plotlyServerURL\": \"https://plot.ly\", \"responsive\": true}                    ).then(function(){\n",
       "                            \n",
       "var gd = document.getElementById('f4844633-f96f-46d5-b1b7-7be9307032fd');\n",
       "var x = new MutationObserver(function (mutations, observer) {{\n",
       "        var display = window.getComputedStyle(gd).display;\n",
       "        if (!display || display === 'none') {{\n",
       "            console.log([gd, 'removed!']);\n",
       "            Plotly.purge(gd);\n",
       "            observer.disconnect();\n",
       "        }}\n",
       "}});\n",
       "\n",
       "// Listen for the removal of the full notebook cells\n",
       "var notebookContainer = gd.closest('#notebook-container');\n",
       "if (notebookContainer) {{\n",
       "    x.observe(notebookContainer, {childList: true});\n",
       "}}\n",
       "\n",
       "// Listen for the clearing of the current output cell\n",
       "var outputEl = gd.closest('.output');\n",
       "if (outputEl) {{\n",
       "    x.observe(outputEl, {childList: true});\n",
       "}}\n",
       "\n",
       "                        })                };                });            </script>        </div>"
      ]
     },
     "metadata": {},
     "output_type": "display_data"
    }
   ],
   "source": [
    "df.iplot(kind='box')"
   ]
  },
  {
   "cell_type": "code",
   "execution_count": 30,
   "id": "eae286a6",
   "metadata": {},
   "outputs": [],
   "source": [
    "df3 = pd.DataFrame({'x':[1,2,3,4,5],'y':[10,20,30,20,10],'z':[500,400,300,200,100]})"
   ]
  },
  {
   "cell_type": "code",
   "execution_count": 31,
   "id": "9a615a3a",
   "metadata": {},
   "outputs": [
    {
     "data": {
      "text/html": [
       "<div>\n",
       "<style scoped>\n",
       "    .dataframe tbody tr th:only-of-type {\n",
       "        vertical-align: middle;\n",
       "    }\n",
       "\n",
       "    .dataframe tbody tr th {\n",
       "        vertical-align: top;\n",
       "    }\n",
       "\n",
       "    .dataframe thead th {\n",
       "        text-align: right;\n",
       "    }\n",
       "</style>\n",
       "<table border=\"1\" class=\"dataframe\">\n",
       "  <thead>\n",
       "    <tr style=\"text-align: right;\">\n",
       "      <th></th>\n",
       "      <th>x</th>\n",
       "      <th>y</th>\n",
       "      <th>z</th>\n",
       "    </tr>\n",
       "  </thead>\n",
       "  <tbody>\n",
       "    <tr>\n",
       "      <th>0</th>\n",
       "      <td>1</td>\n",
       "      <td>10</td>\n",
       "      <td>500</td>\n",
       "    </tr>\n",
       "    <tr>\n",
       "      <th>1</th>\n",
       "      <td>2</td>\n",
       "      <td>20</td>\n",
       "      <td>400</td>\n",
       "    </tr>\n",
       "    <tr>\n",
       "      <th>2</th>\n",
       "      <td>3</td>\n",
       "      <td>30</td>\n",
       "      <td>300</td>\n",
       "    </tr>\n",
       "    <tr>\n",
       "      <th>3</th>\n",
       "      <td>4</td>\n",
       "      <td>20</td>\n",
       "      <td>200</td>\n",
       "    </tr>\n",
       "    <tr>\n",
       "      <th>4</th>\n",
       "      <td>5</td>\n",
       "      <td>10</td>\n",
       "      <td>100</td>\n",
       "    </tr>\n",
       "  </tbody>\n",
       "</table>\n",
       "</div>"
      ],
      "text/plain": [
       "   x   y    z\n",
       "0  1  10  500\n",
       "1  2  20  400\n",
       "2  3  30  300\n",
       "3  4  20  200\n",
       "4  5  10  100"
      ]
     },
     "execution_count": 31,
     "metadata": {},
     "output_type": "execute_result"
    }
   ],
   "source": [
    "df3"
   ]
  },
  {
   "cell_type": "code",
   "execution_count": 32,
   "id": "320a4627",
   "metadata": {},
   "outputs": [
    {
     "data": {
      "application/vnd.plotly.v1+json": {
       "config": {
        "linkText": "Export to plot.ly",
        "plotlyServerURL": "https://plot.ly",
        "showLink": true
       },
       "data": [
        {
         "colorscale": [
          [
           0,
           "rgb(255, 153, 51)"
          ],
          [
           0.1111111111111111,
           "rgb(55, 128, 191)"
          ],
          [
           0.2222222222222222,
           "rgb(50, 171, 96)"
          ],
          [
           0.3333333333333333,
           "rgb(128, 0, 128)"
          ],
          [
           0.4444444444444444,
           "rgb(219, 64, 82)"
          ],
          [
           0.5555555555555556,
           "rgb(0, 128, 128)"
          ],
          [
           0.6666666666666666,
           "rgb(255, 255, 51)"
          ],
          [
           0.7777777777777778,
           "rgb(128, 128, 0)"
          ],
          [
           0.8888888888888888,
           "rgb(251, 128, 114)"
          ],
          [
           1,
           "rgb(128, 177, 211)"
          ]
         ],
         "type": "surface",
         "x": [
          0,
          1,
          2,
          3,
          4
         ],
         "y": [
          "x",
          "y",
          "z"
         ],
         "z": [
          [
           1,
           2,
           3,
           4,
           5
          ],
          [
           10,
           20,
           30,
           20,
           10
          ],
          [
           500,
           400,
           300,
           200,
           100
          ]
         ]
        }
       ],
       "layout": {
        "legend": {
         "bgcolor": "#F5F6F9",
         "font": {
          "color": "#4D5663"
         }
        },
        "paper_bgcolor": "#F5F6F9",
        "plot_bgcolor": "#F5F6F9",
        "template": {
         "data": {
          "bar": [
           {
            "error_x": {
             "color": "#2a3f5f"
            },
            "error_y": {
             "color": "#2a3f5f"
            },
            "marker": {
             "line": {
              "color": "#E5ECF6",
              "width": 0.5
             },
             "pattern": {
              "fillmode": "overlay",
              "size": 10,
              "solidity": 0.2
             }
            },
            "type": "bar"
           }
          ],
          "barpolar": [
           {
            "marker": {
             "line": {
              "color": "#E5ECF6",
              "width": 0.5
             },
             "pattern": {
              "fillmode": "overlay",
              "size": 10,
              "solidity": 0.2
             }
            },
            "type": "barpolar"
           }
          ],
          "carpet": [
           {
            "aaxis": {
             "endlinecolor": "#2a3f5f",
             "gridcolor": "white",
             "linecolor": "white",
             "minorgridcolor": "white",
             "startlinecolor": "#2a3f5f"
            },
            "baxis": {
             "endlinecolor": "#2a3f5f",
             "gridcolor": "white",
             "linecolor": "white",
             "minorgridcolor": "white",
             "startlinecolor": "#2a3f5f"
            },
            "type": "carpet"
           }
          ],
          "choropleth": [
           {
            "colorbar": {
             "outlinewidth": 0,
             "ticks": ""
            },
            "type": "choropleth"
           }
          ],
          "contour": [
           {
            "colorbar": {
             "outlinewidth": 0,
             "ticks": ""
            },
            "colorscale": [
             [
              0,
              "#0d0887"
             ],
             [
              0.1111111111111111,
              "#46039f"
             ],
             [
              0.2222222222222222,
              "#7201a8"
             ],
             [
              0.3333333333333333,
              "#9c179e"
             ],
             [
              0.4444444444444444,
              "#bd3786"
             ],
             [
              0.5555555555555556,
              "#d8576b"
             ],
             [
              0.6666666666666666,
              "#ed7953"
             ],
             [
              0.7777777777777778,
              "#fb9f3a"
             ],
             [
              0.8888888888888888,
              "#fdca26"
             ],
             [
              1,
              "#f0f921"
             ]
            ],
            "type": "contour"
           }
          ],
          "contourcarpet": [
           {
            "colorbar": {
             "outlinewidth": 0,
             "ticks": ""
            },
            "type": "contourcarpet"
           }
          ],
          "heatmap": [
           {
            "colorbar": {
             "outlinewidth": 0,
             "ticks": ""
            },
            "colorscale": [
             [
              0,
              "#0d0887"
             ],
             [
              0.1111111111111111,
              "#46039f"
             ],
             [
              0.2222222222222222,
              "#7201a8"
             ],
             [
              0.3333333333333333,
              "#9c179e"
             ],
             [
              0.4444444444444444,
              "#bd3786"
             ],
             [
              0.5555555555555556,
              "#d8576b"
             ],
             [
              0.6666666666666666,
              "#ed7953"
             ],
             [
              0.7777777777777778,
              "#fb9f3a"
             ],
             [
              0.8888888888888888,
              "#fdca26"
             ],
             [
              1,
              "#f0f921"
             ]
            ],
            "type": "heatmap"
           }
          ],
          "heatmapgl": [
           {
            "colorbar": {
             "outlinewidth": 0,
             "ticks": ""
            },
            "colorscale": [
             [
              0,
              "#0d0887"
             ],
             [
              0.1111111111111111,
              "#46039f"
             ],
             [
              0.2222222222222222,
              "#7201a8"
             ],
             [
              0.3333333333333333,
              "#9c179e"
             ],
             [
              0.4444444444444444,
              "#bd3786"
             ],
             [
              0.5555555555555556,
              "#d8576b"
             ],
             [
              0.6666666666666666,
              "#ed7953"
             ],
             [
              0.7777777777777778,
              "#fb9f3a"
             ],
             [
              0.8888888888888888,
              "#fdca26"
             ],
             [
              1,
              "#f0f921"
             ]
            ],
            "type": "heatmapgl"
           }
          ],
          "histogram": [
           {
            "marker": {
             "pattern": {
              "fillmode": "overlay",
              "size": 10,
              "solidity": 0.2
             }
            },
            "type": "histogram"
           }
          ],
          "histogram2d": [
           {
            "colorbar": {
             "outlinewidth": 0,
             "ticks": ""
            },
            "colorscale": [
             [
              0,
              "#0d0887"
             ],
             [
              0.1111111111111111,
              "#46039f"
             ],
             [
              0.2222222222222222,
              "#7201a8"
             ],
             [
              0.3333333333333333,
              "#9c179e"
             ],
             [
              0.4444444444444444,
              "#bd3786"
             ],
             [
              0.5555555555555556,
              "#d8576b"
             ],
             [
              0.6666666666666666,
              "#ed7953"
             ],
             [
              0.7777777777777778,
              "#fb9f3a"
             ],
             [
              0.8888888888888888,
              "#fdca26"
             ],
             [
              1,
              "#f0f921"
             ]
            ],
            "type": "histogram2d"
           }
          ],
          "histogram2dcontour": [
           {
            "colorbar": {
             "outlinewidth": 0,
             "ticks": ""
            },
            "colorscale": [
             [
              0,
              "#0d0887"
             ],
             [
              0.1111111111111111,
              "#46039f"
             ],
             [
              0.2222222222222222,
              "#7201a8"
             ],
             [
              0.3333333333333333,
              "#9c179e"
             ],
             [
              0.4444444444444444,
              "#bd3786"
             ],
             [
              0.5555555555555556,
              "#d8576b"
             ],
             [
              0.6666666666666666,
              "#ed7953"
             ],
             [
              0.7777777777777778,
              "#fb9f3a"
             ],
             [
              0.8888888888888888,
              "#fdca26"
             ],
             [
              1,
              "#f0f921"
             ]
            ],
            "type": "histogram2dcontour"
           }
          ],
          "mesh3d": [
           {
            "colorbar": {
             "outlinewidth": 0,
             "ticks": ""
            },
            "type": "mesh3d"
           }
          ],
          "parcoords": [
           {
            "line": {
             "colorbar": {
              "outlinewidth": 0,
              "ticks": ""
             }
            },
            "type": "parcoords"
           }
          ],
          "pie": [
           {
            "automargin": true,
            "type": "pie"
           }
          ],
          "scatter": [
           {
            "fillpattern": {
             "fillmode": "overlay",
             "size": 10,
             "solidity": 0.2
            },
            "type": "scatter"
           }
          ],
          "scatter3d": [
           {
            "line": {
             "colorbar": {
              "outlinewidth": 0,
              "ticks": ""
             }
            },
            "marker": {
             "colorbar": {
              "outlinewidth": 0,
              "ticks": ""
             }
            },
            "type": "scatter3d"
           }
          ],
          "scattercarpet": [
           {
            "marker": {
             "colorbar": {
              "outlinewidth": 0,
              "ticks": ""
             }
            },
            "type": "scattercarpet"
           }
          ],
          "scattergeo": [
           {
            "marker": {
             "colorbar": {
              "outlinewidth": 0,
              "ticks": ""
             }
            },
            "type": "scattergeo"
           }
          ],
          "scattergl": [
           {
            "marker": {
             "colorbar": {
              "outlinewidth": 0,
              "ticks": ""
             }
            },
            "type": "scattergl"
           }
          ],
          "scattermapbox": [
           {
            "marker": {
             "colorbar": {
              "outlinewidth": 0,
              "ticks": ""
             }
            },
            "type": "scattermapbox"
           }
          ],
          "scatterpolar": [
           {
            "marker": {
             "colorbar": {
              "outlinewidth": 0,
              "ticks": ""
             }
            },
            "type": "scatterpolar"
           }
          ],
          "scatterpolargl": [
           {
            "marker": {
             "colorbar": {
              "outlinewidth": 0,
              "ticks": ""
             }
            },
            "type": "scatterpolargl"
           }
          ],
          "scatterternary": [
           {
            "marker": {
             "colorbar": {
              "outlinewidth": 0,
              "ticks": ""
             }
            },
            "type": "scatterternary"
           }
          ],
          "surface": [
           {
            "colorbar": {
             "outlinewidth": 0,
             "ticks": ""
            },
            "colorscale": [
             [
              0,
              "#0d0887"
             ],
             [
              0.1111111111111111,
              "#46039f"
             ],
             [
              0.2222222222222222,
              "#7201a8"
             ],
             [
              0.3333333333333333,
              "#9c179e"
             ],
             [
              0.4444444444444444,
              "#bd3786"
             ],
             [
              0.5555555555555556,
              "#d8576b"
             ],
             [
              0.6666666666666666,
              "#ed7953"
             ],
             [
              0.7777777777777778,
              "#fb9f3a"
             ],
             [
              0.8888888888888888,
              "#fdca26"
             ],
             [
              1,
              "#f0f921"
             ]
            ],
            "type": "surface"
           }
          ],
          "table": [
           {
            "cells": {
             "fill": {
              "color": "#EBF0F8"
             },
             "line": {
              "color": "white"
             }
            },
            "header": {
             "fill": {
              "color": "#C8D4E3"
             },
             "line": {
              "color": "white"
             }
            },
            "type": "table"
           }
          ]
         },
         "layout": {
          "annotationdefaults": {
           "arrowcolor": "#2a3f5f",
           "arrowhead": 0,
           "arrowwidth": 1
          },
          "autotypenumbers": "strict",
          "coloraxis": {
           "colorbar": {
            "outlinewidth": 0,
            "ticks": ""
           }
          },
          "colorscale": {
           "diverging": [
            [
             0,
             "#8e0152"
            ],
            [
             0.1,
             "#c51b7d"
            ],
            [
             0.2,
             "#de77ae"
            ],
            [
             0.3,
             "#f1b6da"
            ],
            [
             0.4,
             "#fde0ef"
            ],
            [
             0.5,
             "#f7f7f7"
            ],
            [
             0.6,
             "#e6f5d0"
            ],
            [
             0.7,
             "#b8e186"
            ],
            [
             0.8,
             "#7fbc41"
            ],
            [
             0.9,
             "#4d9221"
            ],
            [
             1,
             "#276419"
            ]
           ],
           "sequential": [
            [
             0,
             "#0d0887"
            ],
            [
             0.1111111111111111,
             "#46039f"
            ],
            [
             0.2222222222222222,
             "#7201a8"
            ],
            [
             0.3333333333333333,
             "#9c179e"
            ],
            [
             0.4444444444444444,
             "#bd3786"
            ],
            [
             0.5555555555555556,
             "#d8576b"
            ],
            [
             0.6666666666666666,
             "#ed7953"
            ],
            [
             0.7777777777777778,
             "#fb9f3a"
            ],
            [
             0.8888888888888888,
             "#fdca26"
            ],
            [
             1,
             "#f0f921"
            ]
           ],
           "sequentialminus": [
            [
             0,
             "#0d0887"
            ],
            [
             0.1111111111111111,
             "#46039f"
            ],
            [
             0.2222222222222222,
             "#7201a8"
            ],
            [
             0.3333333333333333,
             "#9c179e"
            ],
            [
             0.4444444444444444,
             "#bd3786"
            ],
            [
             0.5555555555555556,
             "#d8576b"
            ],
            [
             0.6666666666666666,
             "#ed7953"
            ],
            [
             0.7777777777777778,
             "#fb9f3a"
            ],
            [
             0.8888888888888888,
             "#fdca26"
            ],
            [
             1,
             "#f0f921"
            ]
           ]
          },
          "colorway": [
           "#636efa",
           "#EF553B",
           "#00cc96",
           "#ab63fa",
           "#FFA15A",
           "#19d3f3",
           "#FF6692",
           "#B6E880",
           "#FF97FF",
           "#FECB52"
          ],
          "font": {
           "color": "#2a3f5f"
          },
          "geo": {
           "bgcolor": "white",
           "lakecolor": "white",
           "landcolor": "#E5ECF6",
           "showlakes": true,
           "showland": true,
           "subunitcolor": "white"
          },
          "hoverlabel": {
           "align": "left"
          },
          "hovermode": "closest",
          "mapbox": {
           "style": "light"
          },
          "paper_bgcolor": "white",
          "plot_bgcolor": "#E5ECF6",
          "polar": {
           "angularaxis": {
            "gridcolor": "white",
            "linecolor": "white",
            "ticks": ""
           },
           "bgcolor": "#E5ECF6",
           "radialaxis": {
            "gridcolor": "white",
            "linecolor": "white",
            "ticks": ""
           }
          },
          "scene": {
           "xaxis": {
            "backgroundcolor": "#E5ECF6",
            "gridcolor": "white",
            "gridwidth": 2,
            "linecolor": "white",
            "showbackground": true,
            "ticks": "",
            "zerolinecolor": "white"
           },
           "yaxis": {
            "backgroundcolor": "#E5ECF6",
            "gridcolor": "white",
            "gridwidth": 2,
            "linecolor": "white",
            "showbackground": true,
            "ticks": "",
            "zerolinecolor": "white"
           },
           "zaxis": {
            "backgroundcolor": "#E5ECF6",
            "gridcolor": "white",
            "gridwidth": 2,
            "linecolor": "white",
            "showbackground": true,
            "ticks": "",
            "zerolinecolor": "white"
           }
          },
          "shapedefaults": {
           "line": {
            "color": "#2a3f5f"
           }
          },
          "ternary": {
           "aaxis": {
            "gridcolor": "white",
            "linecolor": "white",
            "ticks": ""
           },
           "baxis": {
            "gridcolor": "white",
            "linecolor": "white",
            "ticks": ""
           },
           "bgcolor": "#E5ECF6",
           "caxis": {
            "gridcolor": "white",
            "linecolor": "white",
            "ticks": ""
           }
          },
          "title": {
           "x": 0.05
          },
          "xaxis": {
           "automargin": true,
           "gridcolor": "white",
           "linecolor": "white",
           "ticks": "",
           "title": {
            "standoff": 15
           },
           "zerolinecolor": "white",
           "zerolinewidth": 2
          },
          "yaxis": {
           "automargin": true,
           "gridcolor": "white",
           "linecolor": "white",
           "ticks": "",
           "title": {
            "standoff": 15
           },
           "zerolinecolor": "white",
           "zerolinewidth": 2
          }
         }
        },
        "title": {
         "font": {
          "color": "#4D5663"
         }
        },
        "xaxis": {
         "gridcolor": "#E1E5ED",
         "showgrid": true,
         "tickfont": {
          "color": "#4D5663"
         },
         "title": {
          "font": {
           "color": "#4D5663"
          },
          "text": ""
         },
         "zerolinecolor": "#E1E5ED"
        },
        "yaxis": {
         "gridcolor": "#E1E5ED",
         "showgrid": true,
         "tickfont": {
          "color": "#4D5663"
         },
         "title": {
          "font": {
           "color": "#4D5663"
          },
          "text": ""
         },
         "zerolinecolor": "#E1E5ED"
        }
       }
      },
      "text/html": [
       "<div>                            <div id=\"30a04914-edb6-43bf-bf2d-7bd9c730e391\" class=\"plotly-graph-div\" style=\"height:525px; width:100%;\"></div>            <script type=\"text/javascript\">                require([\"plotly\"], function(Plotly) {                    window.PLOTLYENV=window.PLOTLYENV || {};\n",
       "                    window.PLOTLYENV.BASE_URL='https://plot.ly';                                    if (document.getElementById(\"30a04914-edb6-43bf-bf2d-7bd9c730e391\")) {                    Plotly.newPlot(                        \"30a04914-edb6-43bf-bf2d-7bd9c730e391\",                        [{\"colorscale\":[[0.0,\"rgb(255, 153, 51)\"],[0.1111111111111111,\"rgb(55, 128, 191)\"],[0.2222222222222222,\"rgb(50, 171, 96)\"],[0.3333333333333333,\"rgb(128, 0, 128)\"],[0.4444444444444444,\"rgb(219, 64, 82)\"],[0.5555555555555556,\"rgb(0, 128, 128)\"],[0.6666666666666666,\"rgb(255, 255, 51)\"],[0.7777777777777778,\"rgb(128, 128, 0)\"],[0.8888888888888888,\"rgb(251, 128, 114)\"],[1.0,\"rgb(128, 177, 211)\"]],\"x\":[0,1,2,3,4],\"y\":[\"x\",\"y\",\"z\"],\"z\":[[1,2,3,4,5],[10,20,30,20,10],[500,400,300,200,100]],\"type\":\"surface\"}],                        {\"legend\":{\"bgcolor\":\"#F5F6F9\",\"font\":{\"color\":\"#4D5663\"}},\"paper_bgcolor\":\"#F5F6F9\",\"plot_bgcolor\":\"#F5F6F9\",\"template\":{\"data\":{\"barpolar\":[{\"marker\":{\"line\":{\"color\":\"#E5ECF6\",\"width\":0.5},\"pattern\":{\"fillmode\":\"overlay\",\"size\":10,\"solidity\":0.2}},\"type\":\"barpolar\"}],\"bar\":[{\"error_x\":{\"color\":\"#2a3f5f\"},\"error_y\":{\"color\":\"#2a3f5f\"},\"marker\":{\"line\":{\"color\":\"#E5ECF6\",\"width\":0.5},\"pattern\":{\"fillmode\":\"overlay\",\"size\":10,\"solidity\":0.2}},\"type\":\"bar\"}],\"carpet\":[{\"aaxis\":{\"endlinecolor\":\"#2a3f5f\",\"gridcolor\":\"white\",\"linecolor\":\"white\",\"minorgridcolor\":\"white\",\"startlinecolor\":\"#2a3f5f\"},\"baxis\":{\"endlinecolor\":\"#2a3f5f\",\"gridcolor\":\"white\",\"linecolor\":\"white\",\"minorgridcolor\":\"white\",\"startlinecolor\":\"#2a3f5f\"},\"type\":\"carpet\"}],\"choropleth\":[{\"colorbar\":{\"outlinewidth\":0,\"ticks\":\"\"},\"type\":\"choropleth\"}],\"contourcarpet\":[{\"colorbar\":{\"outlinewidth\":0,\"ticks\":\"\"},\"type\":\"contourcarpet\"}],\"contour\":[{\"colorbar\":{\"outlinewidth\":0,\"ticks\":\"\"},\"colorscale\":[[0.0,\"#0d0887\"],[0.1111111111111111,\"#46039f\"],[0.2222222222222222,\"#7201a8\"],[0.3333333333333333,\"#9c179e\"],[0.4444444444444444,\"#bd3786\"],[0.5555555555555556,\"#d8576b\"],[0.6666666666666666,\"#ed7953\"],[0.7777777777777778,\"#fb9f3a\"],[0.8888888888888888,\"#fdca26\"],[1.0,\"#f0f921\"]],\"type\":\"contour\"}],\"heatmapgl\":[{\"colorbar\":{\"outlinewidth\":0,\"ticks\":\"\"},\"colorscale\":[[0.0,\"#0d0887\"],[0.1111111111111111,\"#46039f\"],[0.2222222222222222,\"#7201a8\"],[0.3333333333333333,\"#9c179e\"],[0.4444444444444444,\"#bd3786\"],[0.5555555555555556,\"#d8576b\"],[0.6666666666666666,\"#ed7953\"],[0.7777777777777778,\"#fb9f3a\"],[0.8888888888888888,\"#fdca26\"],[1.0,\"#f0f921\"]],\"type\":\"heatmapgl\"}],\"heatmap\":[{\"colorbar\":{\"outlinewidth\":0,\"ticks\":\"\"},\"colorscale\":[[0.0,\"#0d0887\"],[0.1111111111111111,\"#46039f\"],[0.2222222222222222,\"#7201a8\"],[0.3333333333333333,\"#9c179e\"],[0.4444444444444444,\"#bd3786\"],[0.5555555555555556,\"#d8576b\"],[0.6666666666666666,\"#ed7953\"],[0.7777777777777778,\"#fb9f3a\"],[0.8888888888888888,\"#fdca26\"],[1.0,\"#f0f921\"]],\"type\":\"heatmap\"}],\"histogram2dcontour\":[{\"colorbar\":{\"outlinewidth\":0,\"ticks\":\"\"},\"colorscale\":[[0.0,\"#0d0887\"],[0.1111111111111111,\"#46039f\"],[0.2222222222222222,\"#7201a8\"],[0.3333333333333333,\"#9c179e\"],[0.4444444444444444,\"#bd3786\"],[0.5555555555555556,\"#d8576b\"],[0.6666666666666666,\"#ed7953\"],[0.7777777777777778,\"#fb9f3a\"],[0.8888888888888888,\"#fdca26\"],[1.0,\"#f0f921\"]],\"type\":\"histogram2dcontour\"}],\"histogram2d\":[{\"colorbar\":{\"outlinewidth\":0,\"ticks\":\"\"},\"colorscale\":[[0.0,\"#0d0887\"],[0.1111111111111111,\"#46039f\"],[0.2222222222222222,\"#7201a8\"],[0.3333333333333333,\"#9c179e\"],[0.4444444444444444,\"#bd3786\"],[0.5555555555555556,\"#d8576b\"],[0.6666666666666666,\"#ed7953\"],[0.7777777777777778,\"#fb9f3a\"],[0.8888888888888888,\"#fdca26\"],[1.0,\"#f0f921\"]],\"type\":\"histogram2d\"}],\"histogram\":[{\"marker\":{\"pattern\":{\"fillmode\":\"overlay\",\"size\":10,\"solidity\":0.2}},\"type\":\"histogram\"}],\"mesh3d\":[{\"colorbar\":{\"outlinewidth\":0,\"ticks\":\"\"},\"type\":\"mesh3d\"}],\"parcoords\":[{\"line\":{\"colorbar\":{\"outlinewidth\":0,\"ticks\":\"\"}},\"type\":\"parcoords\"}],\"pie\":[{\"automargin\":true,\"type\":\"pie\"}],\"scatter3d\":[{\"line\":{\"colorbar\":{\"outlinewidth\":0,\"ticks\":\"\"}},\"marker\":{\"colorbar\":{\"outlinewidth\":0,\"ticks\":\"\"}},\"type\":\"scatter3d\"}],\"scattercarpet\":[{\"marker\":{\"colorbar\":{\"outlinewidth\":0,\"ticks\":\"\"}},\"type\":\"scattercarpet\"}],\"scattergeo\":[{\"marker\":{\"colorbar\":{\"outlinewidth\":0,\"ticks\":\"\"}},\"type\":\"scattergeo\"}],\"scattergl\":[{\"marker\":{\"colorbar\":{\"outlinewidth\":0,\"ticks\":\"\"}},\"type\":\"scattergl\"}],\"scattermapbox\":[{\"marker\":{\"colorbar\":{\"outlinewidth\":0,\"ticks\":\"\"}},\"type\":\"scattermapbox\"}],\"scatterpolargl\":[{\"marker\":{\"colorbar\":{\"outlinewidth\":0,\"ticks\":\"\"}},\"type\":\"scatterpolargl\"}],\"scatterpolar\":[{\"marker\":{\"colorbar\":{\"outlinewidth\":0,\"ticks\":\"\"}},\"type\":\"scatterpolar\"}],\"scatter\":[{\"fillpattern\":{\"fillmode\":\"overlay\",\"size\":10,\"solidity\":0.2},\"type\":\"scatter\"}],\"scatterternary\":[{\"marker\":{\"colorbar\":{\"outlinewidth\":0,\"ticks\":\"\"}},\"type\":\"scatterternary\"}],\"surface\":[{\"colorbar\":{\"outlinewidth\":0,\"ticks\":\"\"},\"colorscale\":[[0.0,\"#0d0887\"],[0.1111111111111111,\"#46039f\"],[0.2222222222222222,\"#7201a8\"],[0.3333333333333333,\"#9c179e\"],[0.4444444444444444,\"#bd3786\"],[0.5555555555555556,\"#d8576b\"],[0.6666666666666666,\"#ed7953\"],[0.7777777777777778,\"#fb9f3a\"],[0.8888888888888888,\"#fdca26\"],[1.0,\"#f0f921\"]],\"type\":\"surface\"}],\"table\":[{\"cells\":{\"fill\":{\"color\":\"#EBF0F8\"},\"line\":{\"color\":\"white\"}},\"header\":{\"fill\":{\"color\":\"#C8D4E3\"},\"line\":{\"color\":\"white\"}},\"type\":\"table\"}]},\"layout\":{\"annotationdefaults\":{\"arrowcolor\":\"#2a3f5f\",\"arrowhead\":0,\"arrowwidth\":1},\"autotypenumbers\":\"strict\",\"coloraxis\":{\"colorbar\":{\"outlinewidth\":0,\"ticks\":\"\"}},\"colorscale\":{\"diverging\":[[0,\"#8e0152\"],[0.1,\"#c51b7d\"],[0.2,\"#de77ae\"],[0.3,\"#f1b6da\"],[0.4,\"#fde0ef\"],[0.5,\"#f7f7f7\"],[0.6,\"#e6f5d0\"],[0.7,\"#b8e186\"],[0.8,\"#7fbc41\"],[0.9,\"#4d9221\"],[1,\"#276419\"]],\"sequential\":[[0.0,\"#0d0887\"],[0.1111111111111111,\"#46039f\"],[0.2222222222222222,\"#7201a8\"],[0.3333333333333333,\"#9c179e\"],[0.4444444444444444,\"#bd3786\"],[0.5555555555555556,\"#d8576b\"],[0.6666666666666666,\"#ed7953\"],[0.7777777777777778,\"#fb9f3a\"],[0.8888888888888888,\"#fdca26\"],[1.0,\"#f0f921\"]],\"sequentialminus\":[[0.0,\"#0d0887\"],[0.1111111111111111,\"#46039f\"],[0.2222222222222222,\"#7201a8\"],[0.3333333333333333,\"#9c179e\"],[0.4444444444444444,\"#bd3786\"],[0.5555555555555556,\"#d8576b\"],[0.6666666666666666,\"#ed7953\"],[0.7777777777777778,\"#fb9f3a\"],[0.8888888888888888,\"#fdca26\"],[1.0,\"#f0f921\"]]},\"colorway\":[\"#636efa\",\"#EF553B\",\"#00cc96\",\"#ab63fa\",\"#FFA15A\",\"#19d3f3\",\"#FF6692\",\"#B6E880\",\"#FF97FF\",\"#FECB52\"],\"font\":{\"color\":\"#2a3f5f\"},\"geo\":{\"bgcolor\":\"white\",\"lakecolor\":\"white\",\"landcolor\":\"#E5ECF6\",\"showlakes\":true,\"showland\":true,\"subunitcolor\":\"white\"},\"hoverlabel\":{\"align\":\"left\"},\"hovermode\":\"closest\",\"mapbox\":{\"style\":\"light\"},\"paper_bgcolor\":\"white\",\"plot_bgcolor\":\"#E5ECF6\",\"polar\":{\"angularaxis\":{\"gridcolor\":\"white\",\"linecolor\":\"white\",\"ticks\":\"\"},\"bgcolor\":\"#E5ECF6\",\"radialaxis\":{\"gridcolor\":\"white\",\"linecolor\":\"white\",\"ticks\":\"\"}},\"scene\":{\"xaxis\":{\"backgroundcolor\":\"#E5ECF6\",\"gridcolor\":\"white\",\"gridwidth\":2,\"linecolor\":\"white\",\"showbackground\":true,\"ticks\":\"\",\"zerolinecolor\":\"white\"},\"yaxis\":{\"backgroundcolor\":\"#E5ECF6\",\"gridcolor\":\"white\",\"gridwidth\":2,\"linecolor\":\"white\",\"showbackground\":true,\"ticks\":\"\",\"zerolinecolor\":\"white\"},\"zaxis\":{\"backgroundcolor\":\"#E5ECF6\",\"gridcolor\":\"white\",\"gridwidth\":2,\"linecolor\":\"white\",\"showbackground\":true,\"ticks\":\"\",\"zerolinecolor\":\"white\"}},\"shapedefaults\":{\"line\":{\"color\":\"#2a3f5f\"}},\"ternary\":{\"aaxis\":{\"gridcolor\":\"white\",\"linecolor\":\"white\",\"ticks\":\"\"},\"baxis\":{\"gridcolor\":\"white\",\"linecolor\":\"white\",\"ticks\":\"\"},\"bgcolor\":\"#E5ECF6\",\"caxis\":{\"gridcolor\":\"white\",\"linecolor\":\"white\",\"ticks\":\"\"}},\"title\":{\"x\":0.05},\"xaxis\":{\"automargin\":true,\"gridcolor\":\"white\",\"linecolor\":\"white\",\"ticks\":\"\",\"title\":{\"standoff\":15},\"zerolinecolor\":\"white\",\"zerolinewidth\":2},\"yaxis\":{\"automargin\":true,\"gridcolor\":\"white\",\"linecolor\":\"white\",\"ticks\":\"\",\"title\":{\"standoff\":15},\"zerolinecolor\":\"white\",\"zerolinewidth\":2}}},\"title\":{\"font\":{\"color\":\"#4D5663\"}},\"xaxis\":{\"gridcolor\":\"#E1E5ED\",\"showgrid\":true,\"tickfont\":{\"color\":\"#4D5663\"},\"title\":{\"font\":{\"color\":\"#4D5663\"},\"text\":\"\"},\"zerolinecolor\":\"#E1E5ED\"},\"yaxis\":{\"gridcolor\":\"#E1E5ED\",\"showgrid\":true,\"tickfont\":{\"color\":\"#4D5663\"},\"title\":{\"font\":{\"color\":\"#4D5663\"},\"text\":\"\"},\"zerolinecolor\":\"#E1E5ED\"}},                        {\"showLink\": true, \"linkText\": \"Export to plot.ly\", \"plotlyServerURL\": \"https://plot.ly\", \"responsive\": true}                    ).then(function(){\n",
       "                            \n",
       "var gd = document.getElementById('30a04914-edb6-43bf-bf2d-7bd9c730e391');\n",
       "var x = new MutationObserver(function (mutations, observer) {{\n",
       "        var display = window.getComputedStyle(gd).display;\n",
       "        if (!display || display === 'none') {{\n",
       "            console.log([gd, 'removed!']);\n",
       "            Plotly.purge(gd);\n",
       "            observer.disconnect();\n",
       "        }}\n",
       "}});\n",
       "\n",
       "// Listen for the removal of the full notebook cells\n",
       "var notebookContainer = gd.closest('#notebook-container');\n",
       "if (notebookContainer) {{\n",
       "    x.observe(notebookContainer, {childList: true});\n",
       "}}\n",
       "\n",
       "// Listen for the clearing of the current output cell\n",
       "var outputEl = gd.closest('.output');\n",
       "if (outputEl) {{\n",
       "    x.observe(outputEl, {childList: true});\n",
       "}}\n",
       "\n",
       "                        })                };                });            </script>        </div>"
      ]
     },
     "metadata": {},
     "output_type": "display_data"
    }
   ],
   "source": [
    "df3.iplot(kind='surface')"
   ]
  },
  {
   "cell_type": "code",
   "execution_count": 33,
   "id": "98de933a",
   "metadata": {},
   "outputs": [],
   "source": [
    "df3 = pd.DataFrame({'x':[1,2,3,4,5],'y':[10,20,30,20,10],'z':[5,4,3,2,1]})"
   ]
  },
  {
   "cell_type": "code",
   "execution_count": 34,
   "id": "cc426d3e",
   "metadata": {},
   "outputs": [
    {
     "data": {
      "application/vnd.plotly.v1+json": {
       "config": {
        "linkText": "Export to plot.ly",
        "plotlyServerURL": "https://plot.ly",
        "showLink": true
       },
       "data": [
        {
         "colorscale": [
          [
           0,
           "rgb(255, 153, 51)"
          ],
          [
           0.1111111111111111,
           "rgb(55, 128, 191)"
          ],
          [
           0.2222222222222222,
           "rgb(50, 171, 96)"
          ],
          [
           0.3333333333333333,
           "rgb(128, 0, 128)"
          ],
          [
           0.4444444444444444,
           "rgb(219, 64, 82)"
          ],
          [
           0.5555555555555556,
           "rgb(0, 128, 128)"
          ],
          [
           0.6666666666666666,
           "rgb(255, 255, 51)"
          ],
          [
           0.7777777777777778,
           "rgb(128, 128, 0)"
          ],
          [
           0.8888888888888888,
           "rgb(251, 128, 114)"
          ],
          [
           1,
           "rgb(128, 177, 211)"
          ]
         ],
         "type": "surface",
         "x": [
          0,
          1,
          2,
          3,
          4
         ],
         "y": [
          "x",
          "y",
          "z"
         ],
         "z": [
          [
           1,
           2,
           3,
           4,
           5
          ],
          [
           10,
           20,
           30,
           20,
           10
          ],
          [
           5,
           4,
           3,
           2,
           1
          ]
         ]
        }
       ],
       "layout": {
        "legend": {
         "bgcolor": "#F5F6F9",
         "font": {
          "color": "#4D5663"
         }
        },
        "paper_bgcolor": "#F5F6F9",
        "plot_bgcolor": "#F5F6F9",
        "template": {
         "data": {
          "bar": [
           {
            "error_x": {
             "color": "#2a3f5f"
            },
            "error_y": {
             "color": "#2a3f5f"
            },
            "marker": {
             "line": {
              "color": "#E5ECF6",
              "width": 0.5
             },
             "pattern": {
              "fillmode": "overlay",
              "size": 10,
              "solidity": 0.2
             }
            },
            "type": "bar"
           }
          ],
          "barpolar": [
           {
            "marker": {
             "line": {
              "color": "#E5ECF6",
              "width": 0.5
             },
             "pattern": {
              "fillmode": "overlay",
              "size": 10,
              "solidity": 0.2
             }
            },
            "type": "barpolar"
           }
          ],
          "carpet": [
           {
            "aaxis": {
             "endlinecolor": "#2a3f5f",
             "gridcolor": "white",
             "linecolor": "white",
             "minorgridcolor": "white",
             "startlinecolor": "#2a3f5f"
            },
            "baxis": {
             "endlinecolor": "#2a3f5f",
             "gridcolor": "white",
             "linecolor": "white",
             "minorgridcolor": "white",
             "startlinecolor": "#2a3f5f"
            },
            "type": "carpet"
           }
          ],
          "choropleth": [
           {
            "colorbar": {
             "outlinewidth": 0,
             "ticks": ""
            },
            "type": "choropleth"
           }
          ],
          "contour": [
           {
            "colorbar": {
             "outlinewidth": 0,
             "ticks": ""
            },
            "colorscale": [
             [
              0,
              "#0d0887"
             ],
             [
              0.1111111111111111,
              "#46039f"
             ],
             [
              0.2222222222222222,
              "#7201a8"
             ],
             [
              0.3333333333333333,
              "#9c179e"
             ],
             [
              0.4444444444444444,
              "#bd3786"
             ],
             [
              0.5555555555555556,
              "#d8576b"
             ],
             [
              0.6666666666666666,
              "#ed7953"
             ],
             [
              0.7777777777777778,
              "#fb9f3a"
             ],
             [
              0.8888888888888888,
              "#fdca26"
             ],
             [
              1,
              "#f0f921"
             ]
            ],
            "type": "contour"
           }
          ],
          "contourcarpet": [
           {
            "colorbar": {
             "outlinewidth": 0,
             "ticks": ""
            },
            "type": "contourcarpet"
           }
          ],
          "heatmap": [
           {
            "colorbar": {
             "outlinewidth": 0,
             "ticks": ""
            },
            "colorscale": [
             [
              0,
              "#0d0887"
             ],
             [
              0.1111111111111111,
              "#46039f"
             ],
             [
              0.2222222222222222,
              "#7201a8"
             ],
             [
              0.3333333333333333,
              "#9c179e"
             ],
             [
              0.4444444444444444,
              "#bd3786"
             ],
             [
              0.5555555555555556,
              "#d8576b"
             ],
             [
              0.6666666666666666,
              "#ed7953"
             ],
             [
              0.7777777777777778,
              "#fb9f3a"
             ],
             [
              0.8888888888888888,
              "#fdca26"
             ],
             [
              1,
              "#f0f921"
             ]
            ],
            "type": "heatmap"
           }
          ],
          "heatmapgl": [
           {
            "colorbar": {
             "outlinewidth": 0,
             "ticks": ""
            },
            "colorscale": [
             [
              0,
              "#0d0887"
             ],
             [
              0.1111111111111111,
              "#46039f"
             ],
             [
              0.2222222222222222,
              "#7201a8"
             ],
             [
              0.3333333333333333,
              "#9c179e"
             ],
             [
              0.4444444444444444,
              "#bd3786"
             ],
             [
              0.5555555555555556,
              "#d8576b"
             ],
             [
              0.6666666666666666,
              "#ed7953"
             ],
             [
              0.7777777777777778,
              "#fb9f3a"
             ],
             [
              0.8888888888888888,
              "#fdca26"
             ],
             [
              1,
              "#f0f921"
             ]
            ],
            "type": "heatmapgl"
           }
          ],
          "histogram": [
           {
            "marker": {
             "pattern": {
              "fillmode": "overlay",
              "size": 10,
              "solidity": 0.2
             }
            },
            "type": "histogram"
           }
          ],
          "histogram2d": [
           {
            "colorbar": {
             "outlinewidth": 0,
             "ticks": ""
            },
            "colorscale": [
             [
              0,
              "#0d0887"
             ],
             [
              0.1111111111111111,
              "#46039f"
             ],
             [
              0.2222222222222222,
              "#7201a8"
             ],
             [
              0.3333333333333333,
              "#9c179e"
             ],
             [
              0.4444444444444444,
              "#bd3786"
             ],
             [
              0.5555555555555556,
              "#d8576b"
             ],
             [
              0.6666666666666666,
              "#ed7953"
             ],
             [
              0.7777777777777778,
              "#fb9f3a"
             ],
             [
              0.8888888888888888,
              "#fdca26"
             ],
             [
              1,
              "#f0f921"
             ]
            ],
            "type": "histogram2d"
           }
          ],
          "histogram2dcontour": [
           {
            "colorbar": {
             "outlinewidth": 0,
             "ticks": ""
            },
            "colorscale": [
             [
              0,
              "#0d0887"
             ],
             [
              0.1111111111111111,
              "#46039f"
             ],
             [
              0.2222222222222222,
              "#7201a8"
             ],
             [
              0.3333333333333333,
              "#9c179e"
             ],
             [
              0.4444444444444444,
              "#bd3786"
             ],
             [
              0.5555555555555556,
              "#d8576b"
             ],
             [
              0.6666666666666666,
              "#ed7953"
             ],
             [
              0.7777777777777778,
              "#fb9f3a"
             ],
             [
              0.8888888888888888,
              "#fdca26"
             ],
             [
              1,
              "#f0f921"
             ]
            ],
            "type": "histogram2dcontour"
           }
          ],
          "mesh3d": [
           {
            "colorbar": {
             "outlinewidth": 0,
             "ticks": ""
            },
            "type": "mesh3d"
           }
          ],
          "parcoords": [
           {
            "line": {
             "colorbar": {
              "outlinewidth": 0,
              "ticks": ""
             }
            },
            "type": "parcoords"
           }
          ],
          "pie": [
           {
            "automargin": true,
            "type": "pie"
           }
          ],
          "scatter": [
           {
            "fillpattern": {
             "fillmode": "overlay",
             "size": 10,
             "solidity": 0.2
            },
            "type": "scatter"
           }
          ],
          "scatter3d": [
           {
            "line": {
             "colorbar": {
              "outlinewidth": 0,
              "ticks": ""
             }
            },
            "marker": {
             "colorbar": {
              "outlinewidth": 0,
              "ticks": ""
             }
            },
            "type": "scatter3d"
           }
          ],
          "scattercarpet": [
           {
            "marker": {
             "colorbar": {
              "outlinewidth": 0,
              "ticks": ""
             }
            },
            "type": "scattercarpet"
           }
          ],
          "scattergeo": [
           {
            "marker": {
             "colorbar": {
              "outlinewidth": 0,
              "ticks": ""
             }
            },
            "type": "scattergeo"
           }
          ],
          "scattergl": [
           {
            "marker": {
             "colorbar": {
              "outlinewidth": 0,
              "ticks": ""
             }
            },
            "type": "scattergl"
           }
          ],
          "scattermapbox": [
           {
            "marker": {
             "colorbar": {
              "outlinewidth": 0,
              "ticks": ""
             }
            },
            "type": "scattermapbox"
           }
          ],
          "scatterpolar": [
           {
            "marker": {
             "colorbar": {
              "outlinewidth": 0,
              "ticks": ""
             }
            },
            "type": "scatterpolar"
           }
          ],
          "scatterpolargl": [
           {
            "marker": {
             "colorbar": {
              "outlinewidth": 0,
              "ticks": ""
             }
            },
            "type": "scatterpolargl"
           }
          ],
          "scatterternary": [
           {
            "marker": {
             "colorbar": {
              "outlinewidth": 0,
              "ticks": ""
             }
            },
            "type": "scatterternary"
           }
          ],
          "surface": [
           {
            "colorbar": {
             "outlinewidth": 0,
             "ticks": ""
            },
            "colorscale": [
             [
              0,
              "#0d0887"
             ],
             [
              0.1111111111111111,
              "#46039f"
             ],
             [
              0.2222222222222222,
              "#7201a8"
             ],
             [
              0.3333333333333333,
              "#9c179e"
             ],
             [
              0.4444444444444444,
              "#bd3786"
             ],
             [
              0.5555555555555556,
              "#d8576b"
             ],
             [
              0.6666666666666666,
              "#ed7953"
             ],
             [
              0.7777777777777778,
              "#fb9f3a"
             ],
             [
              0.8888888888888888,
              "#fdca26"
             ],
             [
              1,
              "#f0f921"
             ]
            ],
            "type": "surface"
           }
          ],
          "table": [
           {
            "cells": {
             "fill": {
              "color": "#EBF0F8"
             },
             "line": {
              "color": "white"
             }
            },
            "header": {
             "fill": {
              "color": "#C8D4E3"
             },
             "line": {
              "color": "white"
             }
            },
            "type": "table"
           }
          ]
         },
         "layout": {
          "annotationdefaults": {
           "arrowcolor": "#2a3f5f",
           "arrowhead": 0,
           "arrowwidth": 1
          },
          "autotypenumbers": "strict",
          "coloraxis": {
           "colorbar": {
            "outlinewidth": 0,
            "ticks": ""
           }
          },
          "colorscale": {
           "diverging": [
            [
             0,
             "#8e0152"
            ],
            [
             0.1,
             "#c51b7d"
            ],
            [
             0.2,
             "#de77ae"
            ],
            [
             0.3,
             "#f1b6da"
            ],
            [
             0.4,
             "#fde0ef"
            ],
            [
             0.5,
             "#f7f7f7"
            ],
            [
             0.6,
             "#e6f5d0"
            ],
            [
             0.7,
             "#b8e186"
            ],
            [
             0.8,
             "#7fbc41"
            ],
            [
             0.9,
             "#4d9221"
            ],
            [
             1,
             "#276419"
            ]
           ],
           "sequential": [
            [
             0,
             "#0d0887"
            ],
            [
             0.1111111111111111,
             "#46039f"
            ],
            [
             0.2222222222222222,
             "#7201a8"
            ],
            [
             0.3333333333333333,
             "#9c179e"
            ],
            [
             0.4444444444444444,
             "#bd3786"
            ],
            [
             0.5555555555555556,
             "#d8576b"
            ],
            [
             0.6666666666666666,
             "#ed7953"
            ],
            [
             0.7777777777777778,
             "#fb9f3a"
            ],
            [
             0.8888888888888888,
             "#fdca26"
            ],
            [
             1,
             "#f0f921"
            ]
           ],
           "sequentialminus": [
            [
             0,
             "#0d0887"
            ],
            [
             0.1111111111111111,
             "#46039f"
            ],
            [
             0.2222222222222222,
             "#7201a8"
            ],
            [
             0.3333333333333333,
             "#9c179e"
            ],
            [
             0.4444444444444444,
             "#bd3786"
            ],
            [
             0.5555555555555556,
             "#d8576b"
            ],
            [
             0.6666666666666666,
             "#ed7953"
            ],
            [
             0.7777777777777778,
             "#fb9f3a"
            ],
            [
             0.8888888888888888,
             "#fdca26"
            ],
            [
             1,
             "#f0f921"
            ]
           ]
          },
          "colorway": [
           "#636efa",
           "#EF553B",
           "#00cc96",
           "#ab63fa",
           "#FFA15A",
           "#19d3f3",
           "#FF6692",
           "#B6E880",
           "#FF97FF",
           "#FECB52"
          ],
          "font": {
           "color": "#2a3f5f"
          },
          "geo": {
           "bgcolor": "white",
           "lakecolor": "white",
           "landcolor": "#E5ECF6",
           "showlakes": true,
           "showland": true,
           "subunitcolor": "white"
          },
          "hoverlabel": {
           "align": "left"
          },
          "hovermode": "closest",
          "mapbox": {
           "style": "light"
          },
          "paper_bgcolor": "white",
          "plot_bgcolor": "#E5ECF6",
          "polar": {
           "angularaxis": {
            "gridcolor": "white",
            "linecolor": "white",
            "ticks": ""
           },
           "bgcolor": "#E5ECF6",
           "radialaxis": {
            "gridcolor": "white",
            "linecolor": "white",
            "ticks": ""
           }
          },
          "scene": {
           "xaxis": {
            "backgroundcolor": "#E5ECF6",
            "gridcolor": "white",
            "gridwidth": 2,
            "linecolor": "white",
            "showbackground": true,
            "ticks": "",
            "zerolinecolor": "white"
           },
           "yaxis": {
            "backgroundcolor": "#E5ECF6",
            "gridcolor": "white",
            "gridwidth": 2,
            "linecolor": "white",
            "showbackground": true,
            "ticks": "",
            "zerolinecolor": "white"
           },
           "zaxis": {
            "backgroundcolor": "#E5ECF6",
            "gridcolor": "white",
            "gridwidth": 2,
            "linecolor": "white",
            "showbackground": true,
            "ticks": "",
            "zerolinecolor": "white"
           }
          },
          "shapedefaults": {
           "line": {
            "color": "#2a3f5f"
           }
          },
          "ternary": {
           "aaxis": {
            "gridcolor": "white",
            "linecolor": "white",
            "ticks": ""
           },
           "baxis": {
            "gridcolor": "white",
            "linecolor": "white",
            "ticks": ""
           },
           "bgcolor": "#E5ECF6",
           "caxis": {
            "gridcolor": "white",
            "linecolor": "white",
            "ticks": ""
           }
          },
          "title": {
           "x": 0.05
          },
          "xaxis": {
           "automargin": true,
           "gridcolor": "white",
           "linecolor": "white",
           "ticks": "",
           "title": {
            "standoff": 15
           },
           "zerolinecolor": "white",
           "zerolinewidth": 2
          },
          "yaxis": {
           "automargin": true,
           "gridcolor": "white",
           "linecolor": "white",
           "ticks": "",
           "title": {
            "standoff": 15
           },
           "zerolinecolor": "white",
           "zerolinewidth": 2
          }
         }
        },
        "title": {
         "font": {
          "color": "#4D5663"
         }
        },
        "xaxis": {
         "gridcolor": "#E1E5ED",
         "showgrid": true,
         "tickfont": {
          "color": "#4D5663"
         },
         "title": {
          "font": {
           "color": "#4D5663"
          },
          "text": ""
         },
         "zerolinecolor": "#E1E5ED"
        },
        "yaxis": {
         "gridcolor": "#E1E5ED",
         "showgrid": true,
         "tickfont": {
          "color": "#4D5663"
         },
         "title": {
          "font": {
           "color": "#4D5663"
          },
          "text": ""
         },
         "zerolinecolor": "#E1E5ED"
        }
       }
      },
      "text/html": [
       "<div>                            <div id=\"96e89e4a-29c7-4f89-bcb6-35401754a622\" class=\"plotly-graph-div\" style=\"height:525px; width:100%;\"></div>            <script type=\"text/javascript\">                require([\"plotly\"], function(Plotly) {                    window.PLOTLYENV=window.PLOTLYENV || {};\n",
       "                    window.PLOTLYENV.BASE_URL='https://plot.ly';                                    if (document.getElementById(\"96e89e4a-29c7-4f89-bcb6-35401754a622\")) {                    Plotly.newPlot(                        \"96e89e4a-29c7-4f89-bcb6-35401754a622\",                        [{\"colorscale\":[[0.0,\"rgb(255, 153, 51)\"],[0.1111111111111111,\"rgb(55, 128, 191)\"],[0.2222222222222222,\"rgb(50, 171, 96)\"],[0.3333333333333333,\"rgb(128, 0, 128)\"],[0.4444444444444444,\"rgb(219, 64, 82)\"],[0.5555555555555556,\"rgb(0, 128, 128)\"],[0.6666666666666666,\"rgb(255, 255, 51)\"],[0.7777777777777778,\"rgb(128, 128, 0)\"],[0.8888888888888888,\"rgb(251, 128, 114)\"],[1.0,\"rgb(128, 177, 211)\"]],\"x\":[0,1,2,3,4],\"y\":[\"x\",\"y\",\"z\"],\"z\":[[1,2,3,4,5],[10,20,30,20,10],[5,4,3,2,1]],\"type\":\"surface\"}],                        {\"legend\":{\"bgcolor\":\"#F5F6F9\",\"font\":{\"color\":\"#4D5663\"}},\"paper_bgcolor\":\"#F5F6F9\",\"plot_bgcolor\":\"#F5F6F9\",\"template\":{\"data\":{\"barpolar\":[{\"marker\":{\"line\":{\"color\":\"#E5ECF6\",\"width\":0.5},\"pattern\":{\"fillmode\":\"overlay\",\"size\":10,\"solidity\":0.2}},\"type\":\"barpolar\"}],\"bar\":[{\"error_x\":{\"color\":\"#2a3f5f\"},\"error_y\":{\"color\":\"#2a3f5f\"},\"marker\":{\"line\":{\"color\":\"#E5ECF6\",\"width\":0.5},\"pattern\":{\"fillmode\":\"overlay\",\"size\":10,\"solidity\":0.2}},\"type\":\"bar\"}],\"carpet\":[{\"aaxis\":{\"endlinecolor\":\"#2a3f5f\",\"gridcolor\":\"white\",\"linecolor\":\"white\",\"minorgridcolor\":\"white\",\"startlinecolor\":\"#2a3f5f\"},\"baxis\":{\"endlinecolor\":\"#2a3f5f\",\"gridcolor\":\"white\",\"linecolor\":\"white\",\"minorgridcolor\":\"white\",\"startlinecolor\":\"#2a3f5f\"},\"type\":\"carpet\"}],\"choropleth\":[{\"colorbar\":{\"outlinewidth\":0,\"ticks\":\"\"},\"type\":\"choropleth\"}],\"contourcarpet\":[{\"colorbar\":{\"outlinewidth\":0,\"ticks\":\"\"},\"type\":\"contourcarpet\"}],\"contour\":[{\"colorbar\":{\"outlinewidth\":0,\"ticks\":\"\"},\"colorscale\":[[0.0,\"#0d0887\"],[0.1111111111111111,\"#46039f\"],[0.2222222222222222,\"#7201a8\"],[0.3333333333333333,\"#9c179e\"],[0.4444444444444444,\"#bd3786\"],[0.5555555555555556,\"#d8576b\"],[0.6666666666666666,\"#ed7953\"],[0.7777777777777778,\"#fb9f3a\"],[0.8888888888888888,\"#fdca26\"],[1.0,\"#f0f921\"]],\"type\":\"contour\"}],\"heatmapgl\":[{\"colorbar\":{\"outlinewidth\":0,\"ticks\":\"\"},\"colorscale\":[[0.0,\"#0d0887\"],[0.1111111111111111,\"#46039f\"],[0.2222222222222222,\"#7201a8\"],[0.3333333333333333,\"#9c179e\"],[0.4444444444444444,\"#bd3786\"],[0.5555555555555556,\"#d8576b\"],[0.6666666666666666,\"#ed7953\"],[0.7777777777777778,\"#fb9f3a\"],[0.8888888888888888,\"#fdca26\"],[1.0,\"#f0f921\"]],\"type\":\"heatmapgl\"}],\"heatmap\":[{\"colorbar\":{\"outlinewidth\":0,\"ticks\":\"\"},\"colorscale\":[[0.0,\"#0d0887\"],[0.1111111111111111,\"#46039f\"],[0.2222222222222222,\"#7201a8\"],[0.3333333333333333,\"#9c179e\"],[0.4444444444444444,\"#bd3786\"],[0.5555555555555556,\"#d8576b\"],[0.6666666666666666,\"#ed7953\"],[0.7777777777777778,\"#fb9f3a\"],[0.8888888888888888,\"#fdca26\"],[1.0,\"#f0f921\"]],\"type\":\"heatmap\"}],\"histogram2dcontour\":[{\"colorbar\":{\"outlinewidth\":0,\"ticks\":\"\"},\"colorscale\":[[0.0,\"#0d0887\"],[0.1111111111111111,\"#46039f\"],[0.2222222222222222,\"#7201a8\"],[0.3333333333333333,\"#9c179e\"],[0.4444444444444444,\"#bd3786\"],[0.5555555555555556,\"#d8576b\"],[0.6666666666666666,\"#ed7953\"],[0.7777777777777778,\"#fb9f3a\"],[0.8888888888888888,\"#fdca26\"],[1.0,\"#f0f921\"]],\"type\":\"histogram2dcontour\"}],\"histogram2d\":[{\"colorbar\":{\"outlinewidth\":0,\"ticks\":\"\"},\"colorscale\":[[0.0,\"#0d0887\"],[0.1111111111111111,\"#46039f\"],[0.2222222222222222,\"#7201a8\"],[0.3333333333333333,\"#9c179e\"],[0.4444444444444444,\"#bd3786\"],[0.5555555555555556,\"#d8576b\"],[0.6666666666666666,\"#ed7953\"],[0.7777777777777778,\"#fb9f3a\"],[0.8888888888888888,\"#fdca26\"],[1.0,\"#f0f921\"]],\"type\":\"histogram2d\"}],\"histogram\":[{\"marker\":{\"pattern\":{\"fillmode\":\"overlay\",\"size\":10,\"solidity\":0.2}},\"type\":\"histogram\"}],\"mesh3d\":[{\"colorbar\":{\"outlinewidth\":0,\"ticks\":\"\"},\"type\":\"mesh3d\"}],\"parcoords\":[{\"line\":{\"colorbar\":{\"outlinewidth\":0,\"ticks\":\"\"}},\"type\":\"parcoords\"}],\"pie\":[{\"automargin\":true,\"type\":\"pie\"}],\"scatter3d\":[{\"line\":{\"colorbar\":{\"outlinewidth\":0,\"ticks\":\"\"}},\"marker\":{\"colorbar\":{\"outlinewidth\":0,\"ticks\":\"\"}},\"type\":\"scatter3d\"}],\"scattercarpet\":[{\"marker\":{\"colorbar\":{\"outlinewidth\":0,\"ticks\":\"\"}},\"type\":\"scattercarpet\"}],\"scattergeo\":[{\"marker\":{\"colorbar\":{\"outlinewidth\":0,\"ticks\":\"\"}},\"type\":\"scattergeo\"}],\"scattergl\":[{\"marker\":{\"colorbar\":{\"outlinewidth\":0,\"ticks\":\"\"}},\"type\":\"scattergl\"}],\"scattermapbox\":[{\"marker\":{\"colorbar\":{\"outlinewidth\":0,\"ticks\":\"\"}},\"type\":\"scattermapbox\"}],\"scatterpolargl\":[{\"marker\":{\"colorbar\":{\"outlinewidth\":0,\"ticks\":\"\"}},\"type\":\"scatterpolargl\"}],\"scatterpolar\":[{\"marker\":{\"colorbar\":{\"outlinewidth\":0,\"ticks\":\"\"}},\"type\":\"scatterpolar\"}],\"scatter\":[{\"fillpattern\":{\"fillmode\":\"overlay\",\"size\":10,\"solidity\":0.2},\"type\":\"scatter\"}],\"scatterternary\":[{\"marker\":{\"colorbar\":{\"outlinewidth\":0,\"ticks\":\"\"}},\"type\":\"scatterternary\"}],\"surface\":[{\"colorbar\":{\"outlinewidth\":0,\"ticks\":\"\"},\"colorscale\":[[0.0,\"#0d0887\"],[0.1111111111111111,\"#46039f\"],[0.2222222222222222,\"#7201a8\"],[0.3333333333333333,\"#9c179e\"],[0.4444444444444444,\"#bd3786\"],[0.5555555555555556,\"#d8576b\"],[0.6666666666666666,\"#ed7953\"],[0.7777777777777778,\"#fb9f3a\"],[0.8888888888888888,\"#fdca26\"],[1.0,\"#f0f921\"]],\"type\":\"surface\"}],\"table\":[{\"cells\":{\"fill\":{\"color\":\"#EBF0F8\"},\"line\":{\"color\":\"white\"}},\"header\":{\"fill\":{\"color\":\"#C8D4E3\"},\"line\":{\"color\":\"white\"}},\"type\":\"table\"}]},\"layout\":{\"annotationdefaults\":{\"arrowcolor\":\"#2a3f5f\",\"arrowhead\":0,\"arrowwidth\":1},\"autotypenumbers\":\"strict\",\"coloraxis\":{\"colorbar\":{\"outlinewidth\":0,\"ticks\":\"\"}},\"colorscale\":{\"diverging\":[[0,\"#8e0152\"],[0.1,\"#c51b7d\"],[0.2,\"#de77ae\"],[0.3,\"#f1b6da\"],[0.4,\"#fde0ef\"],[0.5,\"#f7f7f7\"],[0.6,\"#e6f5d0\"],[0.7,\"#b8e186\"],[0.8,\"#7fbc41\"],[0.9,\"#4d9221\"],[1,\"#276419\"]],\"sequential\":[[0.0,\"#0d0887\"],[0.1111111111111111,\"#46039f\"],[0.2222222222222222,\"#7201a8\"],[0.3333333333333333,\"#9c179e\"],[0.4444444444444444,\"#bd3786\"],[0.5555555555555556,\"#d8576b\"],[0.6666666666666666,\"#ed7953\"],[0.7777777777777778,\"#fb9f3a\"],[0.8888888888888888,\"#fdca26\"],[1.0,\"#f0f921\"]],\"sequentialminus\":[[0.0,\"#0d0887\"],[0.1111111111111111,\"#46039f\"],[0.2222222222222222,\"#7201a8\"],[0.3333333333333333,\"#9c179e\"],[0.4444444444444444,\"#bd3786\"],[0.5555555555555556,\"#d8576b\"],[0.6666666666666666,\"#ed7953\"],[0.7777777777777778,\"#fb9f3a\"],[0.8888888888888888,\"#fdca26\"],[1.0,\"#f0f921\"]]},\"colorway\":[\"#636efa\",\"#EF553B\",\"#00cc96\",\"#ab63fa\",\"#FFA15A\",\"#19d3f3\",\"#FF6692\",\"#B6E880\",\"#FF97FF\",\"#FECB52\"],\"font\":{\"color\":\"#2a3f5f\"},\"geo\":{\"bgcolor\":\"white\",\"lakecolor\":\"white\",\"landcolor\":\"#E5ECF6\",\"showlakes\":true,\"showland\":true,\"subunitcolor\":\"white\"},\"hoverlabel\":{\"align\":\"left\"},\"hovermode\":\"closest\",\"mapbox\":{\"style\":\"light\"},\"paper_bgcolor\":\"white\",\"plot_bgcolor\":\"#E5ECF6\",\"polar\":{\"angularaxis\":{\"gridcolor\":\"white\",\"linecolor\":\"white\",\"ticks\":\"\"},\"bgcolor\":\"#E5ECF6\",\"radialaxis\":{\"gridcolor\":\"white\",\"linecolor\":\"white\",\"ticks\":\"\"}},\"scene\":{\"xaxis\":{\"backgroundcolor\":\"#E5ECF6\",\"gridcolor\":\"white\",\"gridwidth\":2,\"linecolor\":\"white\",\"showbackground\":true,\"ticks\":\"\",\"zerolinecolor\":\"white\"},\"yaxis\":{\"backgroundcolor\":\"#E5ECF6\",\"gridcolor\":\"white\",\"gridwidth\":2,\"linecolor\":\"white\",\"showbackground\":true,\"ticks\":\"\",\"zerolinecolor\":\"white\"},\"zaxis\":{\"backgroundcolor\":\"#E5ECF6\",\"gridcolor\":\"white\",\"gridwidth\":2,\"linecolor\":\"white\",\"showbackground\":true,\"ticks\":\"\",\"zerolinecolor\":\"white\"}},\"shapedefaults\":{\"line\":{\"color\":\"#2a3f5f\"}},\"ternary\":{\"aaxis\":{\"gridcolor\":\"white\",\"linecolor\":\"white\",\"ticks\":\"\"},\"baxis\":{\"gridcolor\":\"white\",\"linecolor\":\"white\",\"ticks\":\"\"},\"bgcolor\":\"#E5ECF6\",\"caxis\":{\"gridcolor\":\"white\",\"linecolor\":\"white\",\"ticks\":\"\"}},\"title\":{\"x\":0.05},\"xaxis\":{\"automargin\":true,\"gridcolor\":\"white\",\"linecolor\":\"white\",\"ticks\":\"\",\"title\":{\"standoff\":15},\"zerolinecolor\":\"white\",\"zerolinewidth\":2},\"yaxis\":{\"automargin\":true,\"gridcolor\":\"white\",\"linecolor\":\"white\",\"ticks\":\"\",\"title\":{\"standoff\":15},\"zerolinecolor\":\"white\",\"zerolinewidth\":2}}},\"title\":{\"font\":{\"color\":\"#4D5663\"}},\"xaxis\":{\"gridcolor\":\"#E1E5ED\",\"showgrid\":true,\"tickfont\":{\"color\":\"#4D5663\"},\"title\":{\"font\":{\"color\":\"#4D5663\"},\"text\":\"\"},\"zerolinecolor\":\"#E1E5ED\"},\"yaxis\":{\"gridcolor\":\"#E1E5ED\",\"showgrid\":true,\"tickfont\":{\"color\":\"#4D5663\"},\"title\":{\"font\":{\"color\":\"#4D5663\"},\"text\":\"\"},\"zerolinecolor\":\"#E1E5ED\"}},                        {\"showLink\": true, \"linkText\": \"Export to plot.ly\", \"plotlyServerURL\": \"https://plot.ly\", \"responsive\": true}                    ).then(function(){\n",
       "                            \n",
       "var gd = document.getElementById('96e89e4a-29c7-4f89-bcb6-35401754a622');\n",
       "var x = new MutationObserver(function (mutations, observer) {{\n",
       "        var display = window.getComputedStyle(gd).display;\n",
       "        if (!display || display === 'none') {{\n",
       "            console.log([gd, 'removed!']);\n",
       "            Plotly.purge(gd);\n",
       "            observer.disconnect();\n",
       "        }}\n",
       "}});\n",
       "\n",
       "// Listen for the removal of the full notebook cells\n",
       "var notebookContainer = gd.closest('#notebook-container');\n",
       "if (notebookContainer) {{\n",
       "    x.observe(notebookContainer, {childList: true});\n",
       "}}\n",
       "\n",
       "// Listen for the clearing of the current output cell\n",
       "var outputEl = gd.closest('.output');\n",
       "if (outputEl) {{\n",
       "    x.observe(outputEl, {childList: true});\n",
       "}}\n",
       "\n",
       "                        })                };                });            </script>        </div>"
      ]
     },
     "metadata": {},
     "output_type": "display_data"
    }
   ],
   "source": [
    "df3.iplot(kind='surface')"
   ]
  },
  {
   "cell_type": "code",
   "execution_count": 35,
   "id": "4ba55d2a",
   "metadata": {},
   "outputs": [
    {
     "data": {
      "application/vnd.plotly.v1+json": {
       "config": {
        "linkText": "Export to plot.ly",
        "plotlyServerURL": "https://plot.ly",
        "showLink": true
       },
       "data": [
        {
         "colorscale": [
          [
           0,
           "rgb(165,0,38)"
          ],
          [
           0.1,
           "rgb(215,48,39)"
          ],
          [
           0.2,
           "rgb(244,109,67)"
          ],
          [
           0.3,
           "rgb(253,174,97)"
          ],
          [
           0.4,
           "rgb(254,224,144)"
          ],
          [
           0.5,
           "rgb(255,255,191)"
          ],
          [
           0.6,
           "rgb(224,243,248)"
          ],
          [
           0.7,
           "rgb(171,217,233)"
          ],
          [
           0.8,
           "rgb(116,173,209)"
          ],
          [
           0.9,
           "rgb(69,117,180)"
          ],
          [
           1,
           "rgb(49,54,149)"
          ]
         ],
         "type": "surface",
         "x": [
          0,
          1,
          2,
          3,
          4
         ],
         "y": [
          "x",
          "y",
          "z"
         ],
         "z": [
          [
           1,
           2,
           3,
           4,
           5
          ],
          [
           10,
           20,
           30,
           20,
           10
          ],
          [
           5,
           4,
           3,
           2,
           1
          ]
         ]
        }
       ],
       "layout": {
        "legend": {
         "bgcolor": "#F5F6F9",
         "font": {
          "color": "#4D5663"
         }
        },
        "paper_bgcolor": "#F5F6F9",
        "plot_bgcolor": "#F5F6F9",
        "template": {
         "data": {
          "bar": [
           {
            "error_x": {
             "color": "#2a3f5f"
            },
            "error_y": {
             "color": "#2a3f5f"
            },
            "marker": {
             "line": {
              "color": "#E5ECF6",
              "width": 0.5
             },
             "pattern": {
              "fillmode": "overlay",
              "size": 10,
              "solidity": 0.2
             }
            },
            "type": "bar"
           }
          ],
          "barpolar": [
           {
            "marker": {
             "line": {
              "color": "#E5ECF6",
              "width": 0.5
             },
             "pattern": {
              "fillmode": "overlay",
              "size": 10,
              "solidity": 0.2
             }
            },
            "type": "barpolar"
           }
          ],
          "carpet": [
           {
            "aaxis": {
             "endlinecolor": "#2a3f5f",
             "gridcolor": "white",
             "linecolor": "white",
             "minorgridcolor": "white",
             "startlinecolor": "#2a3f5f"
            },
            "baxis": {
             "endlinecolor": "#2a3f5f",
             "gridcolor": "white",
             "linecolor": "white",
             "minorgridcolor": "white",
             "startlinecolor": "#2a3f5f"
            },
            "type": "carpet"
           }
          ],
          "choropleth": [
           {
            "colorbar": {
             "outlinewidth": 0,
             "ticks": ""
            },
            "type": "choropleth"
           }
          ],
          "contour": [
           {
            "colorbar": {
             "outlinewidth": 0,
             "ticks": ""
            },
            "colorscale": [
             [
              0,
              "#0d0887"
             ],
             [
              0.1111111111111111,
              "#46039f"
             ],
             [
              0.2222222222222222,
              "#7201a8"
             ],
             [
              0.3333333333333333,
              "#9c179e"
             ],
             [
              0.4444444444444444,
              "#bd3786"
             ],
             [
              0.5555555555555556,
              "#d8576b"
             ],
             [
              0.6666666666666666,
              "#ed7953"
             ],
             [
              0.7777777777777778,
              "#fb9f3a"
             ],
             [
              0.8888888888888888,
              "#fdca26"
             ],
             [
              1,
              "#f0f921"
             ]
            ],
            "type": "contour"
           }
          ],
          "contourcarpet": [
           {
            "colorbar": {
             "outlinewidth": 0,
             "ticks": ""
            },
            "type": "contourcarpet"
           }
          ],
          "heatmap": [
           {
            "colorbar": {
             "outlinewidth": 0,
             "ticks": ""
            },
            "colorscale": [
             [
              0,
              "#0d0887"
             ],
             [
              0.1111111111111111,
              "#46039f"
             ],
             [
              0.2222222222222222,
              "#7201a8"
             ],
             [
              0.3333333333333333,
              "#9c179e"
             ],
             [
              0.4444444444444444,
              "#bd3786"
             ],
             [
              0.5555555555555556,
              "#d8576b"
             ],
             [
              0.6666666666666666,
              "#ed7953"
             ],
             [
              0.7777777777777778,
              "#fb9f3a"
             ],
             [
              0.8888888888888888,
              "#fdca26"
             ],
             [
              1,
              "#f0f921"
             ]
            ],
            "type": "heatmap"
           }
          ],
          "heatmapgl": [
           {
            "colorbar": {
             "outlinewidth": 0,
             "ticks": ""
            },
            "colorscale": [
             [
              0,
              "#0d0887"
             ],
             [
              0.1111111111111111,
              "#46039f"
             ],
             [
              0.2222222222222222,
              "#7201a8"
             ],
             [
              0.3333333333333333,
              "#9c179e"
             ],
             [
              0.4444444444444444,
              "#bd3786"
             ],
             [
              0.5555555555555556,
              "#d8576b"
             ],
             [
              0.6666666666666666,
              "#ed7953"
             ],
             [
              0.7777777777777778,
              "#fb9f3a"
             ],
             [
              0.8888888888888888,
              "#fdca26"
             ],
             [
              1,
              "#f0f921"
             ]
            ],
            "type": "heatmapgl"
           }
          ],
          "histogram": [
           {
            "marker": {
             "pattern": {
              "fillmode": "overlay",
              "size": 10,
              "solidity": 0.2
             }
            },
            "type": "histogram"
           }
          ],
          "histogram2d": [
           {
            "colorbar": {
             "outlinewidth": 0,
             "ticks": ""
            },
            "colorscale": [
             [
              0,
              "#0d0887"
             ],
             [
              0.1111111111111111,
              "#46039f"
             ],
             [
              0.2222222222222222,
              "#7201a8"
             ],
             [
              0.3333333333333333,
              "#9c179e"
             ],
             [
              0.4444444444444444,
              "#bd3786"
             ],
             [
              0.5555555555555556,
              "#d8576b"
             ],
             [
              0.6666666666666666,
              "#ed7953"
             ],
             [
              0.7777777777777778,
              "#fb9f3a"
             ],
             [
              0.8888888888888888,
              "#fdca26"
             ],
             [
              1,
              "#f0f921"
             ]
            ],
            "type": "histogram2d"
           }
          ],
          "histogram2dcontour": [
           {
            "colorbar": {
             "outlinewidth": 0,
             "ticks": ""
            },
            "colorscale": [
             [
              0,
              "#0d0887"
             ],
             [
              0.1111111111111111,
              "#46039f"
             ],
             [
              0.2222222222222222,
              "#7201a8"
             ],
             [
              0.3333333333333333,
              "#9c179e"
             ],
             [
              0.4444444444444444,
              "#bd3786"
             ],
             [
              0.5555555555555556,
              "#d8576b"
             ],
             [
              0.6666666666666666,
              "#ed7953"
             ],
             [
              0.7777777777777778,
              "#fb9f3a"
             ],
             [
              0.8888888888888888,
              "#fdca26"
             ],
             [
              1,
              "#f0f921"
             ]
            ],
            "type": "histogram2dcontour"
           }
          ],
          "mesh3d": [
           {
            "colorbar": {
             "outlinewidth": 0,
             "ticks": ""
            },
            "type": "mesh3d"
           }
          ],
          "parcoords": [
           {
            "line": {
             "colorbar": {
              "outlinewidth": 0,
              "ticks": ""
             }
            },
            "type": "parcoords"
           }
          ],
          "pie": [
           {
            "automargin": true,
            "type": "pie"
           }
          ],
          "scatter": [
           {
            "fillpattern": {
             "fillmode": "overlay",
             "size": 10,
             "solidity": 0.2
            },
            "type": "scatter"
           }
          ],
          "scatter3d": [
           {
            "line": {
             "colorbar": {
              "outlinewidth": 0,
              "ticks": ""
             }
            },
            "marker": {
             "colorbar": {
              "outlinewidth": 0,
              "ticks": ""
             }
            },
            "type": "scatter3d"
           }
          ],
          "scattercarpet": [
           {
            "marker": {
             "colorbar": {
              "outlinewidth": 0,
              "ticks": ""
             }
            },
            "type": "scattercarpet"
           }
          ],
          "scattergeo": [
           {
            "marker": {
             "colorbar": {
              "outlinewidth": 0,
              "ticks": ""
             }
            },
            "type": "scattergeo"
           }
          ],
          "scattergl": [
           {
            "marker": {
             "colorbar": {
              "outlinewidth": 0,
              "ticks": ""
             }
            },
            "type": "scattergl"
           }
          ],
          "scattermapbox": [
           {
            "marker": {
             "colorbar": {
              "outlinewidth": 0,
              "ticks": ""
             }
            },
            "type": "scattermapbox"
           }
          ],
          "scatterpolar": [
           {
            "marker": {
             "colorbar": {
              "outlinewidth": 0,
              "ticks": ""
             }
            },
            "type": "scatterpolar"
           }
          ],
          "scatterpolargl": [
           {
            "marker": {
             "colorbar": {
              "outlinewidth": 0,
              "ticks": ""
             }
            },
            "type": "scatterpolargl"
           }
          ],
          "scatterternary": [
           {
            "marker": {
             "colorbar": {
              "outlinewidth": 0,
              "ticks": ""
             }
            },
            "type": "scatterternary"
           }
          ],
          "surface": [
           {
            "colorbar": {
             "outlinewidth": 0,
             "ticks": ""
            },
            "colorscale": [
             [
              0,
              "#0d0887"
             ],
             [
              0.1111111111111111,
              "#46039f"
             ],
             [
              0.2222222222222222,
              "#7201a8"
             ],
             [
              0.3333333333333333,
              "#9c179e"
             ],
             [
              0.4444444444444444,
              "#bd3786"
             ],
             [
              0.5555555555555556,
              "#d8576b"
             ],
             [
              0.6666666666666666,
              "#ed7953"
             ],
             [
              0.7777777777777778,
              "#fb9f3a"
             ],
             [
              0.8888888888888888,
              "#fdca26"
             ],
             [
              1,
              "#f0f921"
             ]
            ],
            "type": "surface"
           }
          ],
          "table": [
           {
            "cells": {
             "fill": {
              "color": "#EBF0F8"
             },
             "line": {
              "color": "white"
             }
            },
            "header": {
             "fill": {
              "color": "#C8D4E3"
             },
             "line": {
              "color": "white"
             }
            },
            "type": "table"
           }
          ]
         },
         "layout": {
          "annotationdefaults": {
           "arrowcolor": "#2a3f5f",
           "arrowhead": 0,
           "arrowwidth": 1
          },
          "autotypenumbers": "strict",
          "coloraxis": {
           "colorbar": {
            "outlinewidth": 0,
            "ticks": ""
           }
          },
          "colorscale": {
           "diverging": [
            [
             0,
             "#8e0152"
            ],
            [
             0.1,
             "#c51b7d"
            ],
            [
             0.2,
             "#de77ae"
            ],
            [
             0.3,
             "#f1b6da"
            ],
            [
             0.4,
             "#fde0ef"
            ],
            [
             0.5,
             "#f7f7f7"
            ],
            [
             0.6,
             "#e6f5d0"
            ],
            [
             0.7,
             "#b8e186"
            ],
            [
             0.8,
             "#7fbc41"
            ],
            [
             0.9,
             "#4d9221"
            ],
            [
             1,
             "#276419"
            ]
           ],
           "sequential": [
            [
             0,
             "#0d0887"
            ],
            [
             0.1111111111111111,
             "#46039f"
            ],
            [
             0.2222222222222222,
             "#7201a8"
            ],
            [
             0.3333333333333333,
             "#9c179e"
            ],
            [
             0.4444444444444444,
             "#bd3786"
            ],
            [
             0.5555555555555556,
             "#d8576b"
            ],
            [
             0.6666666666666666,
             "#ed7953"
            ],
            [
             0.7777777777777778,
             "#fb9f3a"
            ],
            [
             0.8888888888888888,
             "#fdca26"
            ],
            [
             1,
             "#f0f921"
            ]
           ],
           "sequentialminus": [
            [
             0,
             "#0d0887"
            ],
            [
             0.1111111111111111,
             "#46039f"
            ],
            [
             0.2222222222222222,
             "#7201a8"
            ],
            [
             0.3333333333333333,
             "#9c179e"
            ],
            [
             0.4444444444444444,
             "#bd3786"
            ],
            [
             0.5555555555555556,
             "#d8576b"
            ],
            [
             0.6666666666666666,
             "#ed7953"
            ],
            [
             0.7777777777777778,
             "#fb9f3a"
            ],
            [
             0.8888888888888888,
             "#fdca26"
            ],
            [
             1,
             "#f0f921"
            ]
           ]
          },
          "colorway": [
           "#636efa",
           "#EF553B",
           "#00cc96",
           "#ab63fa",
           "#FFA15A",
           "#19d3f3",
           "#FF6692",
           "#B6E880",
           "#FF97FF",
           "#FECB52"
          ],
          "font": {
           "color": "#2a3f5f"
          },
          "geo": {
           "bgcolor": "white",
           "lakecolor": "white",
           "landcolor": "#E5ECF6",
           "showlakes": true,
           "showland": true,
           "subunitcolor": "white"
          },
          "hoverlabel": {
           "align": "left"
          },
          "hovermode": "closest",
          "mapbox": {
           "style": "light"
          },
          "paper_bgcolor": "white",
          "plot_bgcolor": "#E5ECF6",
          "polar": {
           "angularaxis": {
            "gridcolor": "white",
            "linecolor": "white",
            "ticks": ""
           },
           "bgcolor": "#E5ECF6",
           "radialaxis": {
            "gridcolor": "white",
            "linecolor": "white",
            "ticks": ""
           }
          },
          "scene": {
           "xaxis": {
            "backgroundcolor": "#E5ECF6",
            "gridcolor": "white",
            "gridwidth": 2,
            "linecolor": "white",
            "showbackground": true,
            "ticks": "",
            "zerolinecolor": "white"
           },
           "yaxis": {
            "backgroundcolor": "#E5ECF6",
            "gridcolor": "white",
            "gridwidth": 2,
            "linecolor": "white",
            "showbackground": true,
            "ticks": "",
            "zerolinecolor": "white"
           },
           "zaxis": {
            "backgroundcolor": "#E5ECF6",
            "gridcolor": "white",
            "gridwidth": 2,
            "linecolor": "white",
            "showbackground": true,
            "ticks": "",
            "zerolinecolor": "white"
           }
          },
          "shapedefaults": {
           "line": {
            "color": "#2a3f5f"
           }
          },
          "ternary": {
           "aaxis": {
            "gridcolor": "white",
            "linecolor": "white",
            "ticks": ""
           },
           "baxis": {
            "gridcolor": "white",
            "linecolor": "white",
            "ticks": ""
           },
           "bgcolor": "#E5ECF6",
           "caxis": {
            "gridcolor": "white",
            "linecolor": "white",
            "ticks": ""
           }
          },
          "title": {
           "x": 0.05
          },
          "xaxis": {
           "automargin": true,
           "gridcolor": "white",
           "linecolor": "white",
           "ticks": "",
           "title": {
            "standoff": 15
           },
           "zerolinecolor": "white",
           "zerolinewidth": 2
          },
          "yaxis": {
           "automargin": true,
           "gridcolor": "white",
           "linecolor": "white",
           "ticks": "",
           "title": {
            "standoff": 15
           },
           "zerolinecolor": "white",
           "zerolinewidth": 2
          }
         }
        },
        "title": {
         "font": {
          "color": "#4D5663"
         }
        },
        "xaxis": {
         "gridcolor": "#E1E5ED",
         "showgrid": true,
         "tickfont": {
          "color": "#4D5663"
         },
         "title": {
          "font": {
           "color": "#4D5663"
          },
          "text": ""
         },
         "zerolinecolor": "#E1E5ED"
        },
        "yaxis": {
         "gridcolor": "#E1E5ED",
         "showgrid": true,
         "tickfont": {
          "color": "#4D5663"
         },
         "title": {
          "font": {
           "color": "#4D5663"
          },
          "text": ""
         },
         "zerolinecolor": "#E1E5ED"
        }
       }
      },
      "text/html": [
       "<div>                            <div id=\"0b23dc09-457c-4ce5-a933-93d83bd2e775\" class=\"plotly-graph-div\" style=\"height:525px; width:100%;\"></div>            <script type=\"text/javascript\">                require([\"plotly\"], function(Plotly) {                    window.PLOTLYENV=window.PLOTLYENV || {};\n",
       "                    window.PLOTLYENV.BASE_URL='https://plot.ly';                                    if (document.getElementById(\"0b23dc09-457c-4ce5-a933-93d83bd2e775\")) {                    Plotly.newPlot(                        \"0b23dc09-457c-4ce5-a933-93d83bd2e775\",                        [{\"colorscale\":[[0.0,\"rgb(165,0,38)\"],[0.1,\"rgb(215,48,39)\"],[0.2,\"rgb(244,109,67)\"],[0.3,\"rgb(253,174,97)\"],[0.4,\"rgb(254,224,144)\"],[0.5,\"rgb(255,255,191)\"],[0.6,\"rgb(224,243,248)\"],[0.7,\"rgb(171,217,233)\"],[0.8,\"rgb(116,173,209)\"],[0.9,\"rgb(69,117,180)\"],[1.0,\"rgb(49,54,149)\"]],\"x\":[0,1,2,3,4],\"y\":[\"x\",\"y\",\"z\"],\"z\":[[1,2,3,4,5],[10,20,30,20,10],[5,4,3,2,1]],\"type\":\"surface\"}],                        {\"legend\":{\"bgcolor\":\"#F5F6F9\",\"font\":{\"color\":\"#4D5663\"}},\"paper_bgcolor\":\"#F5F6F9\",\"plot_bgcolor\":\"#F5F6F9\",\"template\":{\"data\":{\"barpolar\":[{\"marker\":{\"line\":{\"color\":\"#E5ECF6\",\"width\":0.5},\"pattern\":{\"fillmode\":\"overlay\",\"size\":10,\"solidity\":0.2}},\"type\":\"barpolar\"}],\"bar\":[{\"error_x\":{\"color\":\"#2a3f5f\"},\"error_y\":{\"color\":\"#2a3f5f\"},\"marker\":{\"line\":{\"color\":\"#E5ECF6\",\"width\":0.5},\"pattern\":{\"fillmode\":\"overlay\",\"size\":10,\"solidity\":0.2}},\"type\":\"bar\"}],\"carpet\":[{\"aaxis\":{\"endlinecolor\":\"#2a3f5f\",\"gridcolor\":\"white\",\"linecolor\":\"white\",\"minorgridcolor\":\"white\",\"startlinecolor\":\"#2a3f5f\"},\"baxis\":{\"endlinecolor\":\"#2a3f5f\",\"gridcolor\":\"white\",\"linecolor\":\"white\",\"minorgridcolor\":\"white\",\"startlinecolor\":\"#2a3f5f\"},\"type\":\"carpet\"}],\"choropleth\":[{\"colorbar\":{\"outlinewidth\":0,\"ticks\":\"\"},\"type\":\"choropleth\"}],\"contourcarpet\":[{\"colorbar\":{\"outlinewidth\":0,\"ticks\":\"\"},\"type\":\"contourcarpet\"}],\"contour\":[{\"colorbar\":{\"outlinewidth\":0,\"ticks\":\"\"},\"colorscale\":[[0.0,\"#0d0887\"],[0.1111111111111111,\"#46039f\"],[0.2222222222222222,\"#7201a8\"],[0.3333333333333333,\"#9c179e\"],[0.4444444444444444,\"#bd3786\"],[0.5555555555555556,\"#d8576b\"],[0.6666666666666666,\"#ed7953\"],[0.7777777777777778,\"#fb9f3a\"],[0.8888888888888888,\"#fdca26\"],[1.0,\"#f0f921\"]],\"type\":\"contour\"}],\"heatmapgl\":[{\"colorbar\":{\"outlinewidth\":0,\"ticks\":\"\"},\"colorscale\":[[0.0,\"#0d0887\"],[0.1111111111111111,\"#46039f\"],[0.2222222222222222,\"#7201a8\"],[0.3333333333333333,\"#9c179e\"],[0.4444444444444444,\"#bd3786\"],[0.5555555555555556,\"#d8576b\"],[0.6666666666666666,\"#ed7953\"],[0.7777777777777778,\"#fb9f3a\"],[0.8888888888888888,\"#fdca26\"],[1.0,\"#f0f921\"]],\"type\":\"heatmapgl\"}],\"heatmap\":[{\"colorbar\":{\"outlinewidth\":0,\"ticks\":\"\"},\"colorscale\":[[0.0,\"#0d0887\"],[0.1111111111111111,\"#46039f\"],[0.2222222222222222,\"#7201a8\"],[0.3333333333333333,\"#9c179e\"],[0.4444444444444444,\"#bd3786\"],[0.5555555555555556,\"#d8576b\"],[0.6666666666666666,\"#ed7953\"],[0.7777777777777778,\"#fb9f3a\"],[0.8888888888888888,\"#fdca26\"],[1.0,\"#f0f921\"]],\"type\":\"heatmap\"}],\"histogram2dcontour\":[{\"colorbar\":{\"outlinewidth\":0,\"ticks\":\"\"},\"colorscale\":[[0.0,\"#0d0887\"],[0.1111111111111111,\"#46039f\"],[0.2222222222222222,\"#7201a8\"],[0.3333333333333333,\"#9c179e\"],[0.4444444444444444,\"#bd3786\"],[0.5555555555555556,\"#d8576b\"],[0.6666666666666666,\"#ed7953\"],[0.7777777777777778,\"#fb9f3a\"],[0.8888888888888888,\"#fdca26\"],[1.0,\"#f0f921\"]],\"type\":\"histogram2dcontour\"}],\"histogram2d\":[{\"colorbar\":{\"outlinewidth\":0,\"ticks\":\"\"},\"colorscale\":[[0.0,\"#0d0887\"],[0.1111111111111111,\"#46039f\"],[0.2222222222222222,\"#7201a8\"],[0.3333333333333333,\"#9c179e\"],[0.4444444444444444,\"#bd3786\"],[0.5555555555555556,\"#d8576b\"],[0.6666666666666666,\"#ed7953\"],[0.7777777777777778,\"#fb9f3a\"],[0.8888888888888888,\"#fdca26\"],[1.0,\"#f0f921\"]],\"type\":\"histogram2d\"}],\"histogram\":[{\"marker\":{\"pattern\":{\"fillmode\":\"overlay\",\"size\":10,\"solidity\":0.2}},\"type\":\"histogram\"}],\"mesh3d\":[{\"colorbar\":{\"outlinewidth\":0,\"ticks\":\"\"},\"type\":\"mesh3d\"}],\"parcoords\":[{\"line\":{\"colorbar\":{\"outlinewidth\":0,\"ticks\":\"\"}},\"type\":\"parcoords\"}],\"pie\":[{\"automargin\":true,\"type\":\"pie\"}],\"scatter3d\":[{\"line\":{\"colorbar\":{\"outlinewidth\":0,\"ticks\":\"\"}},\"marker\":{\"colorbar\":{\"outlinewidth\":0,\"ticks\":\"\"}},\"type\":\"scatter3d\"}],\"scattercarpet\":[{\"marker\":{\"colorbar\":{\"outlinewidth\":0,\"ticks\":\"\"}},\"type\":\"scattercarpet\"}],\"scattergeo\":[{\"marker\":{\"colorbar\":{\"outlinewidth\":0,\"ticks\":\"\"}},\"type\":\"scattergeo\"}],\"scattergl\":[{\"marker\":{\"colorbar\":{\"outlinewidth\":0,\"ticks\":\"\"}},\"type\":\"scattergl\"}],\"scattermapbox\":[{\"marker\":{\"colorbar\":{\"outlinewidth\":0,\"ticks\":\"\"}},\"type\":\"scattermapbox\"}],\"scatterpolargl\":[{\"marker\":{\"colorbar\":{\"outlinewidth\":0,\"ticks\":\"\"}},\"type\":\"scatterpolargl\"}],\"scatterpolar\":[{\"marker\":{\"colorbar\":{\"outlinewidth\":0,\"ticks\":\"\"}},\"type\":\"scatterpolar\"}],\"scatter\":[{\"fillpattern\":{\"fillmode\":\"overlay\",\"size\":10,\"solidity\":0.2},\"type\":\"scatter\"}],\"scatterternary\":[{\"marker\":{\"colorbar\":{\"outlinewidth\":0,\"ticks\":\"\"}},\"type\":\"scatterternary\"}],\"surface\":[{\"colorbar\":{\"outlinewidth\":0,\"ticks\":\"\"},\"colorscale\":[[0.0,\"#0d0887\"],[0.1111111111111111,\"#46039f\"],[0.2222222222222222,\"#7201a8\"],[0.3333333333333333,\"#9c179e\"],[0.4444444444444444,\"#bd3786\"],[0.5555555555555556,\"#d8576b\"],[0.6666666666666666,\"#ed7953\"],[0.7777777777777778,\"#fb9f3a\"],[0.8888888888888888,\"#fdca26\"],[1.0,\"#f0f921\"]],\"type\":\"surface\"}],\"table\":[{\"cells\":{\"fill\":{\"color\":\"#EBF0F8\"},\"line\":{\"color\":\"white\"}},\"header\":{\"fill\":{\"color\":\"#C8D4E3\"},\"line\":{\"color\":\"white\"}},\"type\":\"table\"}]},\"layout\":{\"annotationdefaults\":{\"arrowcolor\":\"#2a3f5f\",\"arrowhead\":0,\"arrowwidth\":1},\"autotypenumbers\":\"strict\",\"coloraxis\":{\"colorbar\":{\"outlinewidth\":0,\"ticks\":\"\"}},\"colorscale\":{\"diverging\":[[0,\"#8e0152\"],[0.1,\"#c51b7d\"],[0.2,\"#de77ae\"],[0.3,\"#f1b6da\"],[0.4,\"#fde0ef\"],[0.5,\"#f7f7f7\"],[0.6,\"#e6f5d0\"],[0.7,\"#b8e186\"],[0.8,\"#7fbc41\"],[0.9,\"#4d9221\"],[1,\"#276419\"]],\"sequential\":[[0.0,\"#0d0887\"],[0.1111111111111111,\"#46039f\"],[0.2222222222222222,\"#7201a8\"],[0.3333333333333333,\"#9c179e\"],[0.4444444444444444,\"#bd3786\"],[0.5555555555555556,\"#d8576b\"],[0.6666666666666666,\"#ed7953\"],[0.7777777777777778,\"#fb9f3a\"],[0.8888888888888888,\"#fdca26\"],[1.0,\"#f0f921\"]],\"sequentialminus\":[[0.0,\"#0d0887\"],[0.1111111111111111,\"#46039f\"],[0.2222222222222222,\"#7201a8\"],[0.3333333333333333,\"#9c179e\"],[0.4444444444444444,\"#bd3786\"],[0.5555555555555556,\"#d8576b\"],[0.6666666666666666,\"#ed7953\"],[0.7777777777777778,\"#fb9f3a\"],[0.8888888888888888,\"#fdca26\"],[1.0,\"#f0f921\"]]},\"colorway\":[\"#636efa\",\"#EF553B\",\"#00cc96\",\"#ab63fa\",\"#FFA15A\",\"#19d3f3\",\"#FF6692\",\"#B6E880\",\"#FF97FF\",\"#FECB52\"],\"font\":{\"color\":\"#2a3f5f\"},\"geo\":{\"bgcolor\":\"white\",\"lakecolor\":\"white\",\"landcolor\":\"#E5ECF6\",\"showlakes\":true,\"showland\":true,\"subunitcolor\":\"white\"},\"hoverlabel\":{\"align\":\"left\"},\"hovermode\":\"closest\",\"mapbox\":{\"style\":\"light\"},\"paper_bgcolor\":\"white\",\"plot_bgcolor\":\"#E5ECF6\",\"polar\":{\"angularaxis\":{\"gridcolor\":\"white\",\"linecolor\":\"white\",\"ticks\":\"\"},\"bgcolor\":\"#E5ECF6\",\"radialaxis\":{\"gridcolor\":\"white\",\"linecolor\":\"white\",\"ticks\":\"\"}},\"scene\":{\"xaxis\":{\"backgroundcolor\":\"#E5ECF6\",\"gridcolor\":\"white\",\"gridwidth\":2,\"linecolor\":\"white\",\"showbackground\":true,\"ticks\":\"\",\"zerolinecolor\":\"white\"},\"yaxis\":{\"backgroundcolor\":\"#E5ECF6\",\"gridcolor\":\"white\",\"gridwidth\":2,\"linecolor\":\"white\",\"showbackground\":true,\"ticks\":\"\",\"zerolinecolor\":\"white\"},\"zaxis\":{\"backgroundcolor\":\"#E5ECF6\",\"gridcolor\":\"white\",\"gridwidth\":2,\"linecolor\":\"white\",\"showbackground\":true,\"ticks\":\"\",\"zerolinecolor\":\"white\"}},\"shapedefaults\":{\"line\":{\"color\":\"#2a3f5f\"}},\"ternary\":{\"aaxis\":{\"gridcolor\":\"white\",\"linecolor\":\"white\",\"ticks\":\"\"},\"baxis\":{\"gridcolor\":\"white\",\"linecolor\":\"white\",\"ticks\":\"\"},\"bgcolor\":\"#E5ECF6\",\"caxis\":{\"gridcolor\":\"white\",\"linecolor\":\"white\",\"ticks\":\"\"}},\"title\":{\"x\":0.05},\"xaxis\":{\"automargin\":true,\"gridcolor\":\"white\",\"linecolor\":\"white\",\"ticks\":\"\",\"title\":{\"standoff\":15},\"zerolinecolor\":\"white\",\"zerolinewidth\":2},\"yaxis\":{\"automargin\":true,\"gridcolor\":\"white\",\"linecolor\":\"white\",\"ticks\":\"\",\"title\":{\"standoff\":15},\"zerolinecolor\":\"white\",\"zerolinewidth\":2}}},\"title\":{\"font\":{\"color\":\"#4D5663\"}},\"xaxis\":{\"gridcolor\":\"#E1E5ED\",\"showgrid\":true,\"tickfont\":{\"color\":\"#4D5663\"},\"title\":{\"font\":{\"color\":\"#4D5663\"},\"text\":\"\"},\"zerolinecolor\":\"#E1E5ED\"},\"yaxis\":{\"gridcolor\":\"#E1E5ED\",\"showgrid\":true,\"tickfont\":{\"color\":\"#4D5663\"},\"title\":{\"font\":{\"color\":\"#4D5663\"},\"text\":\"\"},\"zerolinecolor\":\"#E1E5ED\"}},                        {\"showLink\": true, \"linkText\": \"Export to plot.ly\", \"plotlyServerURL\": \"https://plot.ly\", \"responsive\": true}                    ).then(function(){\n",
       "                            \n",
       "var gd = document.getElementById('0b23dc09-457c-4ce5-a933-93d83bd2e775');\n",
       "var x = new MutationObserver(function (mutations, observer) {{\n",
       "        var display = window.getComputedStyle(gd).display;\n",
       "        if (!display || display === 'none') {{\n",
       "            console.log([gd, 'removed!']);\n",
       "            Plotly.purge(gd);\n",
       "            observer.disconnect();\n",
       "        }}\n",
       "}});\n",
       "\n",
       "// Listen for the removal of the full notebook cells\n",
       "var notebookContainer = gd.closest('#notebook-container');\n",
       "if (notebookContainer) {{\n",
       "    x.observe(notebookContainer, {childList: true});\n",
       "}}\n",
       "\n",
       "// Listen for the clearing of the current output cell\n",
       "var outputEl = gd.closest('.output');\n",
       "if (outputEl) {{\n",
       "    x.observe(outputEl, {childList: true});\n",
       "}}\n",
       "\n",
       "                        })                };                });            </script>        </div>"
      ]
     },
     "metadata": {},
     "output_type": "display_data"
    }
   ],
   "source": [
    "df3.iplot(kind='surface',colorscale='rdylbu')"
   ]
  },
  {
   "cell_type": "code",
   "execution_count": 37,
   "id": "03104875",
   "metadata": {},
   "outputs": [
    {
     "data": {
      "application/vnd.plotly.v1+json": {
       "config": {
        "linkText": "Export to plot.ly",
        "plotlyServerURL": "https://plot.ly",
        "showLink": true
       },
       "data": [
        {
         "histfunc": "count",
         "histnorm": "",
         "marker": {
          "color": "rgba(255, 153, 51, 1.0)",
          "line": {
           "color": "#4D5663",
           "width": 1.3
          }
         },
         "name": "A",
         "nbinsx": 25,
         "opacity": 0.8,
         "orientation": "v",
         "type": "histogram",
         "x": [
          0.2995340644905276,
          0.2205656269030712,
          -1.056174561092009,
          0.7591755781504027,
          0.5326518825067723,
          1.3044295669802999,
          1.3281748768339667,
          -0.09922890207163876,
          0.6072907830909519,
          1.1826119307800274,
          0.3200674123294725,
          -1.3012890682412424,
          0.39931988429912135,
          -0.34879285248827946,
          -0.7832437352797109,
          0.24797886378743955,
          -2.8773605354838225,
          -0.41107805336817005,
          0.5428332832960278,
          -0.34202223323909137,
          0.6703636476801402,
          0.47056109501637966,
          0.5846164712351315,
          -0.8661517063929928,
          0.44216954122070445,
          0.5363106882328338,
          -0.27977714813382293,
          0.4380768982907296,
          -1.4402841454482886,
          0.256393582261463,
          1.6549149482388437,
          -1.3228705669839567,
          -0.7548185531120883,
          0.44297261355922846,
          1.3580577186497258,
          -0.5112296882385694,
          1.5741392211439416,
          0.13109722398933546,
          -1.4680827312451141,
          -0.6059423946677869,
          0.144459267134369,
          0.3021717007693336,
          -0.22744784266075352,
          0.03450363264569284,
          0.05177307263761155,
          0.1399332902663523,
          1.0229527181140547,
          -2.6321782638398714,
          0.7745092754158753,
          -1.5926248522708426,
          -0.7031009714908845,
          0.6710809023395671,
          -0.1438163725324016,
          0.5082776496708439,
          0.0767121365819478,
          0.6457023848381208,
          -0.3580314419038346,
          -0.774839310285214,
          -0.43466021347224676,
          -1.6000577779988623,
          0.5086471535040138,
          0.37958854995049945,
          -1.0104442910961025,
          -0.1514509188462034,
          -0.12732690203447797,
          0.8209231907729551,
          -0.22640327123432807,
          1.4349981836183903,
          0.6890109446047313,
          1.0775411458507147,
          0.29266013334010743,
          0.3923131280672186,
          -0.7821903721721409,
          -1.2087665128305551,
          -0.04005064789093992,
          0.586175941448245,
          -0.39450460865418874,
          0.7192182080202476,
          1.8882833172200184,
          0.8341960000980053,
          0.049935991907428666,
          0.47937322066761195,
          0.07588343334653969,
          -0.2526301622266612,
          -0.5289099932191659,
          -0.10700710269370067,
          -0.4631513345001443,
          -0.3924250958303068,
          1.3819170930309186,
          -1.0229272234878124,
          -0.8612817624400896,
          -1.3485764993188754,
          1.9759061035618044,
          -0.9223448984827978,
          -1.0472531006509647,
          -0.09420726481422516,
          0.13682879551914487,
          -0.6242439989143544,
          -0.6080082561687519,
          -0.335483037163409
         ]
        }
       ],
       "layout": {
        "barmode": "overlay",
        "legend": {
         "bgcolor": "#F5F6F9",
         "font": {
          "color": "#4D5663"
         }
        },
        "paper_bgcolor": "#F5F6F9",
        "plot_bgcolor": "#F5F6F9",
        "template": {
         "data": {
          "bar": [
           {
            "error_x": {
             "color": "#2a3f5f"
            },
            "error_y": {
             "color": "#2a3f5f"
            },
            "marker": {
             "line": {
              "color": "#E5ECF6",
              "width": 0.5
             },
             "pattern": {
              "fillmode": "overlay",
              "size": 10,
              "solidity": 0.2
             }
            },
            "type": "bar"
           }
          ],
          "barpolar": [
           {
            "marker": {
             "line": {
              "color": "#E5ECF6",
              "width": 0.5
             },
             "pattern": {
              "fillmode": "overlay",
              "size": 10,
              "solidity": 0.2
             }
            },
            "type": "barpolar"
           }
          ],
          "carpet": [
           {
            "aaxis": {
             "endlinecolor": "#2a3f5f",
             "gridcolor": "white",
             "linecolor": "white",
             "minorgridcolor": "white",
             "startlinecolor": "#2a3f5f"
            },
            "baxis": {
             "endlinecolor": "#2a3f5f",
             "gridcolor": "white",
             "linecolor": "white",
             "minorgridcolor": "white",
             "startlinecolor": "#2a3f5f"
            },
            "type": "carpet"
           }
          ],
          "choropleth": [
           {
            "colorbar": {
             "outlinewidth": 0,
             "ticks": ""
            },
            "type": "choropleth"
           }
          ],
          "contour": [
           {
            "colorbar": {
             "outlinewidth": 0,
             "ticks": ""
            },
            "colorscale": [
             [
              0,
              "#0d0887"
             ],
             [
              0.1111111111111111,
              "#46039f"
             ],
             [
              0.2222222222222222,
              "#7201a8"
             ],
             [
              0.3333333333333333,
              "#9c179e"
             ],
             [
              0.4444444444444444,
              "#bd3786"
             ],
             [
              0.5555555555555556,
              "#d8576b"
             ],
             [
              0.6666666666666666,
              "#ed7953"
             ],
             [
              0.7777777777777778,
              "#fb9f3a"
             ],
             [
              0.8888888888888888,
              "#fdca26"
             ],
             [
              1,
              "#f0f921"
             ]
            ],
            "type": "contour"
           }
          ],
          "contourcarpet": [
           {
            "colorbar": {
             "outlinewidth": 0,
             "ticks": ""
            },
            "type": "contourcarpet"
           }
          ],
          "heatmap": [
           {
            "colorbar": {
             "outlinewidth": 0,
             "ticks": ""
            },
            "colorscale": [
             [
              0,
              "#0d0887"
             ],
             [
              0.1111111111111111,
              "#46039f"
             ],
             [
              0.2222222222222222,
              "#7201a8"
             ],
             [
              0.3333333333333333,
              "#9c179e"
             ],
             [
              0.4444444444444444,
              "#bd3786"
             ],
             [
              0.5555555555555556,
              "#d8576b"
             ],
             [
              0.6666666666666666,
              "#ed7953"
             ],
             [
              0.7777777777777778,
              "#fb9f3a"
             ],
             [
              0.8888888888888888,
              "#fdca26"
             ],
             [
              1,
              "#f0f921"
             ]
            ],
            "type": "heatmap"
           }
          ],
          "heatmapgl": [
           {
            "colorbar": {
             "outlinewidth": 0,
             "ticks": ""
            },
            "colorscale": [
             [
              0,
              "#0d0887"
             ],
             [
              0.1111111111111111,
              "#46039f"
             ],
             [
              0.2222222222222222,
              "#7201a8"
             ],
             [
              0.3333333333333333,
              "#9c179e"
             ],
             [
              0.4444444444444444,
              "#bd3786"
             ],
             [
              0.5555555555555556,
              "#d8576b"
             ],
             [
              0.6666666666666666,
              "#ed7953"
             ],
             [
              0.7777777777777778,
              "#fb9f3a"
             ],
             [
              0.8888888888888888,
              "#fdca26"
             ],
             [
              1,
              "#f0f921"
             ]
            ],
            "type": "heatmapgl"
           }
          ],
          "histogram": [
           {
            "marker": {
             "pattern": {
              "fillmode": "overlay",
              "size": 10,
              "solidity": 0.2
             }
            },
            "type": "histogram"
           }
          ],
          "histogram2d": [
           {
            "colorbar": {
             "outlinewidth": 0,
             "ticks": ""
            },
            "colorscale": [
             [
              0,
              "#0d0887"
             ],
             [
              0.1111111111111111,
              "#46039f"
             ],
             [
              0.2222222222222222,
              "#7201a8"
             ],
             [
              0.3333333333333333,
              "#9c179e"
             ],
             [
              0.4444444444444444,
              "#bd3786"
             ],
             [
              0.5555555555555556,
              "#d8576b"
             ],
             [
              0.6666666666666666,
              "#ed7953"
             ],
             [
              0.7777777777777778,
              "#fb9f3a"
             ],
             [
              0.8888888888888888,
              "#fdca26"
             ],
             [
              1,
              "#f0f921"
             ]
            ],
            "type": "histogram2d"
           }
          ],
          "histogram2dcontour": [
           {
            "colorbar": {
             "outlinewidth": 0,
             "ticks": ""
            },
            "colorscale": [
             [
              0,
              "#0d0887"
             ],
             [
              0.1111111111111111,
              "#46039f"
             ],
             [
              0.2222222222222222,
              "#7201a8"
             ],
             [
              0.3333333333333333,
              "#9c179e"
             ],
             [
              0.4444444444444444,
              "#bd3786"
             ],
             [
              0.5555555555555556,
              "#d8576b"
             ],
             [
              0.6666666666666666,
              "#ed7953"
             ],
             [
              0.7777777777777778,
              "#fb9f3a"
             ],
             [
              0.8888888888888888,
              "#fdca26"
             ],
             [
              1,
              "#f0f921"
             ]
            ],
            "type": "histogram2dcontour"
           }
          ],
          "mesh3d": [
           {
            "colorbar": {
             "outlinewidth": 0,
             "ticks": ""
            },
            "type": "mesh3d"
           }
          ],
          "parcoords": [
           {
            "line": {
             "colorbar": {
              "outlinewidth": 0,
              "ticks": ""
             }
            },
            "type": "parcoords"
           }
          ],
          "pie": [
           {
            "automargin": true,
            "type": "pie"
           }
          ],
          "scatter": [
           {
            "fillpattern": {
             "fillmode": "overlay",
             "size": 10,
             "solidity": 0.2
            },
            "type": "scatter"
           }
          ],
          "scatter3d": [
           {
            "line": {
             "colorbar": {
              "outlinewidth": 0,
              "ticks": ""
             }
            },
            "marker": {
             "colorbar": {
              "outlinewidth": 0,
              "ticks": ""
             }
            },
            "type": "scatter3d"
           }
          ],
          "scattercarpet": [
           {
            "marker": {
             "colorbar": {
              "outlinewidth": 0,
              "ticks": ""
             }
            },
            "type": "scattercarpet"
           }
          ],
          "scattergeo": [
           {
            "marker": {
             "colorbar": {
              "outlinewidth": 0,
              "ticks": ""
             }
            },
            "type": "scattergeo"
           }
          ],
          "scattergl": [
           {
            "marker": {
             "colorbar": {
              "outlinewidth": 0,
              "ticks": ""
             }
            },
            "type": "scattergl"
           }
          ],
          "scattermapbox": [
           {
            "marker": {
             "colorbar": {
              "outlinewidth": 0,
              "ticks": ""
             }
            },
            "type": "scattermapbox"
           }
          ],
          "scatterpolar": [
           {
            "marker": {
             "colorbar": {
              "outlinewidth": 0,
              "ticks": ""
             }
            },
            "type": "scatterpolar"
           }
          ],
          "scatterpolargl": [
           {
            "marker": {
             "colorbar": {
              "outlinewidth": 0,
              "ticks": ""
             }
            },
            "type": "scatterpolargl"
           }
          ],
          "scatterternary": [
           {
            "marker": {
             "colorbar": {
              "outlinewidth": 0,
              "ticks": ""
             }
            },
            "type": "scatterternary"
           }
          ],
          "surface": [
           {
            "colorbar": {
             "outlinewidth": 0,
             "ticks": ""
            },
            "colorscale": [
             [
              0,
              "#0d0887"
             ],
             [
              0.1111111111111111,
              "#46039f"
             ],
             [
              0.2222222222222222,
              "#7201a8"
             ],
             [
              0.3333333333333333,
              "#9c179e"
             ],
             [
              0.4444444444444444,
              "#bd3786"
             ],
             [
              0.5555555555555556,
              "#d8576b"
             ],
             [
              0.6666666666666666,
              "#ed7953"
             ],
             [
              0.7777777777777778,
              "#fb9f3a"
             ],
             [
              0.8888888888888888,
              "#fdca26"
             ],
             [
              1,
              "#f0f921"
             ]
            ],
            "type": "surface"
           }
          ],
          "table": [
           {
            "cells": {
             "fill": {
              "color": "#EBF0F8"
             },
             "line": {
              "color": "white"
             }
            },
            "header": {
             "fill": {
              "color": "#C8D4E3"
             },
             "line": {
              "color": "white"
             }
            },
            "type": "table"
           }
          ]
         },
         "layout": {
          "annotationdefaults": {
           "arrowcolor": "#2a3f5f",
           "arrowhead": 0,
           "arrowwidth": 1
          },
          "autotypenumbers": "strict",
          "coloraxis": {
           "colorbar": {
            "outlinewidth": 0,
            "ticks": ""
           }
          },
          "colorscale": {
           "diverging": [
            [
             0,
             "#8e0152"
            ],
            [
             0.1,
             "#c51b7d"
            ],
            [
             0.2,
             "#de77ae"
            ],
            [
             0.3,
             "#f1b6da"
            ],
            [
             0.4,
             "#fde0ef"
            ],
            [
             0.5,
             "#f7f7f7"
            ],
            [
             0.6,
             "#e6f5d0"
            ],
            [
             0.7,
             "#b8e186"
            ],
            [
             0.8,
             "#7fbc41"
            ],
            [
             0.9,
             "#4d9221"
            ],
            [
             1,
             "#276419"
            ]
           ],
           "sequential": [
            [
             0,
             "#0d0887"
            ],
            [
             0.1111111111111111,
             "#46039f"
            ],
            [
             0.2222222222222222,
             "#7201a8"
            ],
            [
             0.3333333333333333,
             "#9c179e"
            ],
            [
             0.4444444444444444,
             "#bd3786"
            ],
            [
             0.5555555555555556,
             "#d8576b"
            ],
            [
             0.6666666666666666,
             "#ed7953"
            ],
            [
             0.7777777777777778,
             "#fb9f3a"
            ],
            [
             0.8888888888888888,
             "#fdca26"
            ],
            [
             1,
             "#f0f921"
            ]
           ],
           "sequentialminus": [
            [
             0,
             "#0d0887"
            ],
            [
             0.1111111111111111,
             "#46039f"
            ],
            [
             0.2222222222222222,
             "#7201a8"
            ],
            [
             0.3333333333333333,
             "#9c179e"
            ],
            [
             0.4444444444444444,
             "#bd3786"
            ],
            [
             0.5555555555555556,
             "#d8576b"
            ],
            [
             0.6666666666666666,
             "#ed7953"
            ],
            [
             0.7777777777777778,
             "#fb9f3a"
            ],
            [
             0.8888888888888888,
             "#fdca26"
            ],
            [
             1,
             "#f0f921"
            ]
           ]
          },
          "colorway": [
           "#636efa",
           "#EF553B",
           "#00cc96",
           "#ab63fa",
           "#FFA15A",
           "#19d3f3",
           "#FF6692",
           "#B6E880",
           "#FF97FF",
           "#FECB52"
          ],
          "font": {
           "color": "#2a3f5f"
          },
          "geo": {
           "bgcolor": "white",
           "lakecolor": "white",
           "landcolor": "#E5ECF6",
           "showlakes": true,
           "showland": true,
           "subunitcolor": "white"
          },
          "hoverlabel": {
           "align": "left"
          },
          "hovermode": "closest",
          "mapbox": {
           "style": "light"
          },
          "paper_bgcolor": "white",
          "plot_bgcolor": "#E5ECF6",
          "polar": {
           "angularaxis": {
            "gridcolor": "white",
            "linecolor": "white",
            "ticks": ""
           },
           "bgcolor": "#E5ECF6",
           "radialaxis": {
            "gridcolor": "white",
            "linecolor": "white",
            "ticks": ""
           }
          },
          "scene": {
           "xaxis": {
            "backgroundcolor": "#E5ECF6",
            "gridcolor": "white",
            "gridwidth": 2,
            "linecolor": "white",
            "showbackground": true,
            "ticks": "",
            "zerolinecolor": "white"
           },
           "yaxis": {
            "backgroundcolor": "#E5ECF6",
            "gridcolor": "white",
            "gridwidth": 2,
            "linecolor": "white",
            "showbackground": true,
            "ticks": "",
            "zerolinecolor": "white"
           },
           "zaxis": {
            "backgroundcolor": "#E5ECF6",
            "gridcolor": "white",
            "gridwidth": 2,
            "linecolor": "white",
            "showbackground": true,
            "ticks": "",
            "zerolinecolor": "white"
           }
          },
          "shapedefaults": {
           "line": {
            "color": "#2a3f5f"
           }
          },
          "ternary": {
           "aaxis": {
            "gridcolor": "white",
            "linecolor": "white",
            "ticks": ""
           },
           "baxis": {
            "gridcolor": "white",
            "linecolor": "white",
            "ticks": ""
           },
           "bgcolor": "#E5ECF6",
           "caxis": {
            "gridcolor": "white",
            "linecolor": "white",
            "ticks": ""
           }
          },
          "title": {
           "x": 0.05
          },
          "xaxis": {
           "automargin": true,
           "gridcolor": "white",
           "linecolor": "white",
           "ticks": "",
           "title": {
            "standoff": 15
           },
           "zerolinecolor": "white",
           "zerolinewidth": 2
          },
          "yaxis": {
           "automargin": true,
           "gridcolor": "white",
           "linecolor": "white",
           "ticks": "",
           "title": {
            "standoff": 15
           },
           "zerolinecolor": "white",
           "zerolinewidth": 2
          }
         }
        },
        "title": {
         "font": {
          "color": "#4D5663"
         }
        },
        "xaxis": {
         "gridcolor": "#E1E5ED",
         "showgrid": true,
         "tickfont": {
          "color": "#4D5663"
         },
         "title": {
          "font": {
           "color": "#4D5663"
          },
          "text": ""
         },
         "zerolinecolor": "#E1E5ED"
        },
        "yaxis": {
         "gridcolor": "#E1E5ED",
         "showgrid": true,
         "tickfont": {
          "color": "#4D5663"
         },
         "title": {
          "font": {
           "color": "#4D5663"
          },
          "text": ""
         },
         "zerolinecolor": "#E1E5ED"
        }
       }
      },
      "text/html": [
       "<div>                            <div id=\"bfc950bc-ed29-407d-9d7d-de2fa623d9e4\" class=\"plotly-graph-div\" style=\"height:525px; width:100%;\"></div>            <script type=\"text/javascript\">                require([\"plotly\"], function(Plotly) {                    window.PLOTLYENV=window.PLOTLYENV || {};\n",
       "                    window.PLOTLYENV.BASE_URL='https://plot.ly';                                    if (document.getElementById(\"bfc950bc-ed29-407d-9d7d-de2fa623d9e4\")) {                    Plotly.newPlot(                        \"bfc950bc-ed29-407d-9d7d-de2fa623d9e4\",                        [{\"histfunc\":\"count\",\"histnorm\":\"\",\"marker\":{\"color\":\"rgba(255, 153, 51, 1.0)\",\"line\":{\"color\":\"#4D5663\",\"width\":1.3}},\"name\":\"A\",\"nbinsx\":25,\"opacity\":0.8,\"orientation\":\"v\",\"x\":[0.2995340644905276,0.2205656269030712,-1.056174561092009,0.7591755781504027,0.5326518825067723,1.3044295669802999,1.3281748768339667,-0.09922890207163876,0.6072907830909519,1.1826119307800274,0.3200674123294725,-1.3012890682412424,0.39931988429912135,-0.34879285248827946,-0.7832437352797109,0.24797886378743955,-2.8773605354838225,-0.41107805336817005,0.5428332832960278,-0.34202223323909137,0.6703636476801402,0.47056109501637966,0.5846164712351315,-0.8661517063929928,0.44216954122070445,0.5363106882328338,-0.27977714813382293,0.4380768982907296,-1.4402841454482886,0.256393582261463,1.6549149482388437,-1.3228705669839567,-0.7548185531120883,0.44297261355922846,1.3580577186497258,-0.5112296882385694,1.5741392211439416,0.13109722398933546,-1.4680827312451141,-0.6059423946677869,0.144459267134369,0.3021717007693336,-0.22744784266075352,0.03450363264569284,0.05177307263761155,0.1399332902663523,1.0229527181140547,-2.6321782638398714,0.7745092754158753,-1.5926248522708426,-0.7031009714908845,0.6710809023395671,-0.1438163725324016,0.5082776496708439,0.0767121365819478,0.6457023848381208,-0.3580314419038346,-0.774839310285214,-0.43466021347224676,-1.6000577779988623,0.5086471535040138,0.37958854995049945,-1.0104442910961025,-0.1514509188462034,-0.12732690203447797,0.8209231907729551,-0.22640327123432807,1.4349981836183903,0.6890109446047313,1.0775411458507147,0.29266013334010743,0.3923131280672186,-0.7821903721721409,-1.2087665128305551,-0.04005064789093992,0.586175941448245,-0.39450460865418874,0.7192182080202476,1.8882833172200184,0.8341960000980053,0.049935991907428666,0.47937322066761195,0.07588343334653969,-0.2526301622266612,-0.5289099932191659,-0.10700710269370067,-0.4631513345001443,-0.3924250958303068,1.3819170930309186,-1.0229272234878124,-0.8612817624400896,-1.3485764993188754,1.9759061035618044,-0.9223448984827978,-1.0472531006509647,-0.09420726481422516,0.13682879551914487,-0.6242439989143544,-0.6080082561687519,-0.335483037163409],\"type\":\"histogram\"}],                        {\"barmode\":\"overlay\",\"legend\":{\"bgcolor\":\"#F5F6F9\",\"font\":{\"color\":\"#4D5663\"}},\"paper_bgcolor\":\"#F5F6F9\",\"plot_bgcolor\":\"#F5F6F9\",\"template\":{\"data\":{\"barpolar\":[{\"marker\":{\"line\":{\"color\":\"#E5ECF6\",\"width\":0.5},\"pattern\":{\"fillmode\":\"overlay\",\"size\":10,\"solidity\":0.2}},\"type\":\"barpolar\"}],\"bar\":[{\"error_x\":{\"color\":\"#2a3f5f\"},\"error_y\":{\"color\":\"#2a3f5f\"},\"marker\":{\"line\":{\"color\":\"#E5ECF6\",\"width\":0.5},\"pattern\":{\"fillmode\":\"overlay\",\"size\":10,\"solidity\":0.2}},\"type\":\"bar\"}],\"carpet\":[{\"aaxis\":{\"endlinecolor\":\"#2a3f5f\",\"gridcolor\":\"white\",\"linecolor\":\"white\",\"minorgridcolor\":\"white\",\"startlinecolor\":\"#2a3f5f\"},\"baxis\":{\"endlinecolor\":\"#2a3f5f\",\"gridcolor\":\"white\",\"linecolor\":\"white\",\"minorgridcolor\":\"white\",\"startlinecolor\":\"#2a3f5f\"},\"type\":\"carpet\"}],\"choropleth\":[{\"colorbar\":{\"outlinewidth\":0,\"ticks\":\"\"},\"type\":\"choropleth\"}],\"contourcarpet\":[{\"colorbar\":{\"outlinewidth\":0,\"ticks\":\"\"},\"type\":\"contourcarpet\"}],\"contour\":[{\"colorbar\":{\"outlinewidth\":0,\"ticks\":\"\"},\"colorscale\":[[0.0,\"#0d0887\"],[0.1111111111111111,\"#46039f\"],[0.2222222222222222,\"#7201a8\"],[0.3333333333333333,\"#9c179e\"],[0.4444444444444444,\"#bd3786\"],[0.5555555555555556,\"#d8576b\"],[0.6666666666666666,\"#ed7953\"],[0.7777777777777778,\"#fb9f3a\"],[0.8888888888888888,\"#fdca26\"],[1.0,\"#f0f921\"]],\"type\":\"contour\"}],\"heatmapgl\":[{\"colorbar\":{\"outlinewidth\":0,\"ticks\":\"\"},\"colorscale\":[[0.0,\"#0d0887\"],[0.1111111111111111,\"#46039f\"],[0.2222222222222222,\"#7201a8\"],[0.3333333333333333,\"#9c179e\"],[0.4444444444444444,\"#bd3786\"],[0.5555555555555556,\"#d8576b\"],[0.6666666666666666,\"#ed7953\"],[0.7777777777777778,\"#fb9f3a\"],[0.8888888888888888,\"#fdca26\"],[1.0,\"#f0f921\"]],\"type\":\"heatmapgl\"}],\"heatmap\":[{\"colorbar\":{\"outlinewidth\":0,\"ticks\":\"\"},\"colorscale\":[[0.0,\"#0d0887\"],[0.1111111111111111,\"#46039f\"],[0.2222222222222222,\"#7201a8\"],[0.3333333333333333,\"#9c179e\"],[0.4444444444444444,\"#bd3786\"],[0.5555555555555556,\"#d8576b\"],[0.6666666666666666,\"#ed7953\"],[0.7777777777777778,\"#fb9f3a\"],[0.8888888888888888,\"#fdca26\"],[1.0,\"#f0f921\"]],\"type\":\"heatmap\"}],\"histogram2dcontour\":[{\"colorbar\":{\"outlinewidth\":0,\"ticks\":\"\"},\"colorscale\":[[0.0,\"#0d0887\"],[0.1111111111111111,\"#46039f\"],[0.2222222222222222,\"#7201a8\"],[0.3333333333333333,\"#9c179e\"],[0.4444444444444444,\"#bd3786\"],[0.5555555555555556,\"#d8576b\"],[0.6666666666666666,\"#ed7953\"],[0.7777777777777778,\"#fb9f3a\"],[0.8888888888888888,\"#fdca26\"],[1.0,\"#f0f921\"]],\"type\":\"histogram2dcontour\"}],\"histogram2d\":[{\"colorbar\":{\"outlinewidth\":0,\"ticks\":\"\"},\"colorscale\":[[0.0,\"#0d0887\"],[0.1111111111111111,\"#46039f\"],[0.2222222222222222,\"#7201a8\"],[0.3333333333333333,\"#9c179e\"],[0.4444444444444444,\"#bd3786\"],[0.5555555555555556,\"#d8576b\"],[0.6666666666666666,\"#ed7953\"],[0.7777777777777778,\"#fb9f3a\"],[0.8888888888888888,\"#fdca26\"],[1.0,\"#f0f921\"]],\"type\":\"histogram2d\"}],\"histogram\":[{\"marker\":{\"pattern\":{\"fillmode\":\"overlay\",\"size\":10,\"solidity\":0.2}},\"type\":\"histogram\"}],\"mesh3d\":[{\"colorbar\":{\"outlinewidth\":0,\"ticks\":\"\"},\"type\":\"mesh3d\"}],\"parcoords\":[{\"line\":{\"colorbar\":{\"outlinewidth\":0,\"ticks\":\"\"}},\"type\":\"parcoords\"}],\"pie\":[{\"automargin\":true,\"type\":\"pie\"}],\"scatter3d\":[{\"line\":{\"colorbar\":{\"outlinewidth\":0,\"ticks\":\"\"}},\"marker\":{\"colorbar\":{\"outlinewidth\":0,\"ticks\":\"\"}},\"type\":\"scatter3d\"}],\"scattercarpet\":[{\"marker\":{\"colorbar\":{\"outlinewidth\":0,\"ticks\":\"\"}},\"type\":\"scattercarpet\"}],\"scattergeo\":[{\"marker\":{\"colorbar\":{\"outlinewidth\":0,\"ticks\":\"\"}},\"type\":\"scattergeo\"}],\"scattergl\":[{\"marker\":{\"colorbar\":{\"outlinewidth\":0,\"ticks\":\"\"}},\"type\":\"scattergl\"}],\"scattermapbox\":[{\"marker\":{\"colorbar\":{\"outlinewidth\":0,\"ticks\":\"\"}},\"type\":\"scattermapbox\"}],\"scatterpolargl\":[{\"marker\":{\"colorbar\":{\"outlinewidth\":0,\"ticks\":\"\"}},\"type\":\"scatterpolargl\"}],\"scatterpolar\":[{\"marker\":{\"colorbar\":{\"outlinewidth\":0,\"ticks\":\"\"}},\"type\":\"scatterpolar\"}],\"scatter\":[{\"fillpattern\":{\"fillmode\":\"overlay\",\"size\":10,\"solidity\":0.2},\"type\":\"scatter\"}],\"scatterternary\":[{\"marker\":{\"colorbar\":{\"outlinewidth\":0,\"ticks\":\"\"}},\"type\":\"scatterternary\"}],\"surface\":[{\"colorbar\":{\"outlinewidth\":0,\"ticks\":\"\"},\"colorscale\":[[0.0,\"#0d0887\"],[0.1111111111111111,\"#46039f\"],[0.2222222222222222,\"#7201a8\"],[0.3333333333333333,\"#9c179e\"],[0.4444444444444444,\"#bd3786\"],[0.5555555555555556,\"#d8576b\"],[0.6666666666666666,\"#ed7953\"],[0.7777777777777778,\"#fb9f3a\"],[0.8888888888888888,\"#fdca26\"],[1.0,\"#f0f921\"]],\"type\":\"surface\"}],\"table\":[{\"cells\":{\"fill\":{\"color\":\"#EBF0F8\"},\"line\":{\"color\":\"white\"}},\"header\":{\"fill\":{\"color\":\"#C8D4E3\"},\"line\":{\"color\":\"white\"}},\"type\":\"table\"}]},\"layout\":{\"annotationdefaults\":{\"arrowcolor\":\"#2a3f5f\",\"arrowhead\":0,\"arrowwidth\":1},\"autotypenumbers\":\"strict\",\"coloraxis\":{\"colorbar\":{\"outlinewidth\":0,\"ticks\":\"\"}},\"colorscale\":{\"diverging\":[[0,\"#8e0152\"],[0.1,\"#c51b7d\"],[0.2,\"#de77ae\"],[0.3,\"#f1b6da\"],[0.4,\"#fde0ef\"],[0.5,\"#f7f7f7\"],[0.6,\"#e6f5d0\"],[0.7,\"#b8e186\"],[0.8,\"#7fbc41\"],[0.9,\"#4d9221\"],[1,\"#276419\"]],\"sequential\":[[0.0,\"#0d0887\"],[0.1111111111111111,\"#46039f\"],[0.2222222222222222,\"#7201a8\"],[0.3333333333333333,\"#9c179e\"],[0.4444444444444444,\"#bd3786\"],[0.5555555555555556,\"#d8576b\"],[0.6666666666666666,\"#ed7953\"],[0.7777777777777778,\"#fb9f3a\"],[0.8888888888888888,\"#fdca26\"],[1.0,\"#f0f921\"]],\"sequentialminus\":[[0.0,\"#0d0887\"],[0.1111111111111111,\"#46039f\"],[0.2222222222222222,\"#7201a8\"],[0.3333333333333333,\"#9c179e\"],[0.4444444444444444,\"#bd3786\"],[0.5555555555555556,\"#d8576b\"],[0.6666666666666666,\"#ed7953\"],[0.7777777777777778,\"#fb9f3a\"],[0.8888888888888888,\"#fdca26\"],[1.0,\"#f0f921\"]]},\"colorway\":[\"#636efa\",\"#EF553B\",\"#00cc96\",\"#ab63fa\",\"#FFA15A\",\"#19d3f3\",\"#FF6692\",\"#B6E880\",\"#FF97FF\",\"#FECB52\"],\"font\":{\"color\":\"#2a3f5f\"},\"geo\":{\"bgcolor\":\"white\",\"lakecolor\":\"white\",\"landcolor\":\"#E5ECF6\",\"showlakes\":true,\"showland\":true,\"subunitcolor\":\"white\"},\"hoverlabel\":{\"align\":\"left\"},\"hovermode\":\"closest\",\"mapbox\":{\"style\":\"light\"},\"paper_bgcolor\":\"white\",\"plot_bgcolor\":\"#E5ECF6\",\"polar\":{\"angularaxis\":{\"gridcolor\":\"white\",\"linecolor\":\"white\",\"ticks\":\"\"},\"bgcolor\":\"#E5ECF6\",\"radialaxis\":{\"gridcolor\":\"white\",\"linecolor\":\"white\",\"ticks\":\"\"}},\"scene\":{\"xaxis\":{\"backgroundcolor\":\"#E5ECF6\",\"gridcolor\":\"white\",\"gridwidth\":2,\"linecolor\":\"white\",\"showbackground\":true,\"ticks\":\"\",\"zerolinecolor\":\"white\"},\"yaxis\":{\"backgroundcolor\":\"#E5ECF6\",\"gridcolor\":\"white\",\"gridwidth\":2,\"linecolor\":\"white\",\"showbackground\":true,\"ticks\":\"\",\"zerolinecolor\":\"white\"},\"zaxis\":{\"backgroundcolor\":\"#E5ECF6\",\"gridcolor\":\"white\",\"gridwidth\":2,\"linecolor\":\"white\",\"showbackground\":true,\"ticks\":\"\",\"zerolinecolor\":\"white\"}},\"shapedefaults\":{\"line\":{\"color\":\"#2a3f5f\"}},\"ternary\":{\"aaxis\":{\"gridcolor\":\"white\",\"linecolor\":\"white\",\"ticks\":\"\"},\"baxis\":{\"gridcolor\":\"white\",\"linecolor\":\"white\",\"ticks\":\"\"},\"bgcolor\":\"#E5ECF6\",\"caxis\":{\"gridcolor\":\"white\",\"linecolor\":\"white\",\"ticks\":\"\"}},\"title\":{\"x\":0.05},\"xaxis\":{\"automargin\":true,\"gridcolor\":\"white\",\"linecolor\":\"white\",\"ticks\":\"\",\"title\":{\"standoff\":15},\"zerolinecolor\":\"white\",\"zerolinewidth\":2},\"yaxis\":{\"automargin\":true,\"gridcolor\":\"white\",\"linecolor\":\"white\",\"ticks\":\"\",\"title\":{\"standoff\":15},\"zerolinecolor\":\"white\",\"zerolinewidth\":2}}},\"title\":{\"font\":{\"color\":\"#4D5663\"}},\"xaxis\":{\"gridcolor\":\"#E1E5ED\",\"showgrid\":true,\"tickfont\":{\"color\":\"#4D5663\"},\"title\":{\"font\":{\"color\":\"#4D5663\"},\"text\":\"\"},\"zerolinecolor\":\"#E1E5ED\"},\"yaxis\":{\"gridcolor\":\"#E1E5ED\",\"showgrid\":true,\"tickfont\":{\"color\":\"#4D5663\"},\"title\":{\"font\":{\"color\":\"#4D5663\"},\"text\":\"\"},\"zerolinecolor\":\"#E1E5ED\"}},                        {\"showLink\": true, \"linkText\": \"Export to plot.ly\", \"plotlyServerURL\": \"https://plot.ly\", \"responsive\": true}                    ).then(function(){\n",
       "                            \n",
       "var gd = document.getElementById('bfc950bc-ed29-407d-9d7d-de2fa623d9e4');\n",
       "var x = new MutationObserver(function (mutations, observer) {{\n",
       "        var display = window.getComputedStyle(gd).display;\n",
       "        if (!display || display === 'none') {{\n",
       "            console.log([gd, 'removed!']);\n",
       "            Plotly.purge(gd);\n",
       "            observer.disconnect();\n",
       "        }}\n",
       "}});\n",
       "\n",
       "// Listen for the removal of the full notebook cells\n",
       "var notebookContainer = gd.closest('#notebook-container');\n",
       "if (notebookContainer) {{\n",
       "    x.observe(notebookContainer, {childList: true});\n",
       "}}\n",
       "\n",
       "// Listen for the clearing of the current output cell\n",
       "var outputEl = gd.closest('.output');\n",
       "if (outputEl) {{\n",
       "    x.observe(outputEl, {childList: true});\n",
       "}}\n",
       "\n",
       "                        })                };                });            </script>        </div>"
      ]
     },
     "metadata": {},
     "output_type": "display_data"
    }
   ],
   "source": [
    "df['A'].iplot(kind='hist',bins=25)"
   ]
  },
  {
   "cell_type": "code",
   "execution_count": 39,
   "id": "ec4ce9a2",
   "metadata": {},
   "outputs": [
    {
     "data": {
      "application/vnd.plotly.v1+json": {
       "config": {
        "linkText": "Export to plot.ly",
        "plotlyServerURL": "https://plot.ly",
        "showLink": true
       },
       "data": [
        {
         "histfunc": "count",
         "histnorm": "",
         "marker": {
          "color": "rgba(255, 153, 51, 1.0)",
          "line": {
           "color": "#4D5663",
           "width": 1.3
          }
         },
         "name": "A",
         "opacity": 0.8,
         "orientation": "v",
         "type": "histogram",
         "x": [
          0.2995340644905276,
          0.2205656269030712,
          -1.056174561092009,
          0.7591755781504027,
          0.5326518825067723,
          1.3044295669802999,
          1.3281748768339667,
          -0.09922890207163876,
          0.6072907830909519,
          1.1826119307800274,
          0.3200674123294725,
          -1.3012890682412424,
          0.39931988429912135,
          -0.34879285248827946,
          -0.7832437352797109,
          0.24797886378743955,
          -2.8773605354838225,
          -0.41107805336817005,
          0.5428332832960278,
          -0.34202223323909137,
          0.6703636476801402,
          0.47056109501637966,
          0.5846164712351315,
          -0.8661517063929928,
          0.44216954122070445,
          0.5363106882328338,
          -0.27977714813382293,
          0.4380768982907296,
          -1.4402841454482886,
          0.256393582261463,
          1.6549149482388437,
          -1.3228705669839567,
          -0.7548185531120883,
          0.44297261355922846,
          1.3580577186497258,
          -0.5112296882385694,
          1.5741392211439416,
          0.13109722398933546,
          -1.4680827312451141,
          -0.6059423946677869,
          0.144459267134369,
          0.3021717007693336,
          -0.22744784266075352,
          0.03450363264569284,
          0.05177307263761155,
          0.1399332902663523,
          1.0229527181140547,
          -2.6321782638398714,
          0.7745092754158753,
          -1.5926248522708426,
          -0.7031009714908845,
          0.6710809023395671,
          -0.1438163725324016,
          0.5082776496708439,
          0.0767121365819478,
          0.6457023848381208,
          -0.3580314419038346,
          -0.774839310285214,
          -0.43466021347224676,
          -1.6000577779988623,
          0.5086471535040138,
          0.37958854995049945,
          -1.0104442910961025,
          -0.1514509188462034,
          -0.12732690203447797,
          0.8209231907729551,
          -0.22640327123432807,
          1.4349981836183903,
          0.6890109446047313,
          1.0775411458507147,
          0.29266013334010743,
          0.3923131280672186,
          -0.7821903721721409,
          -1.2087665128305551,
          -0.04005064789093992,
          0.586175941448245,
          -0.39450460865418874,
          0.7192182080202476,
          1.8882833172200184,
          0.8341960000980053,
          0.049935991907428666,
          0.47937322066761195,
          0.07588343334653969,
          -0.2526301622266612,
          -0.5289099932191659,
          -0.10700710269370067,
          -0.4631513345001443,
          -0.3924250958303068,
          1.3819170930309186,
          -1.0229272234878124,
          -0.8612817624400896,
          -1.3485764993188754,
          1.9759061035618044,
          -0.9223448984827978,
          -1.0472531006509647,
          -0.09420726481422516,
          0.13682879551914487,
          -0.6242439989143544,
          -0.6080082561687519,
          -0.335483037163409
         ]
        },
        {
         "histfunc": "count",
         "histnorm": "",
         "marker": {
          "color": "rgba(55, 128, 191, 1.0)",
          "line": {
           "color": "#4D5663",
           "width": 1.3
          }
         },
         "name": "B",
         "opacity": 0.8,
         "orientation": "v",
         "type": "histogram",
         "x": [
          0.6288873106968625,
          1.5552086644040435,
          -0.2020635486518468,
          -0.37421286494601835,
          -1.8901354714158451,
          1.1642455262282074,
          -1.0335669426310594,
          -0.6453012578613595,
          -2.500063217723074,
          0.6208790462589199,
          -0.33919024377178775,
          -0.6323417396484956,
          -1.1042370872644787,
          0.687990530703836,
          -0.29482934295310004,
          -1.760993482777496,
          0.4013839131768914,
          -0.19128337287568414,
          0.38831658519353085,
          1.1022164676082287,
          -0.7658403159220927,
          0.39746202290875726,
          0.05253399825030649,
          -1.2986978680790244,
          0.5516764900142631,
          0.9594352288580066,
          -1.6176146758116843,
          0.566234817380164,
          0.03291261568889055,
          -0.10412367010856544,
          0.18813480982253722,
          0.33139764237225916,
          -0.4352051883947046,
          -0.1850665849362166,
          1.977129824661224,
          -0.716727900543721,
          -0.9962485346727465,
          2.1457330602622915,
          1.4786805379182806,
          -0.3073961040236371,
          0.5190635210197534,
          -0.2977117536092024,
          1.07655420499391,
          1.6402869584964106,
          -0.6736312859201243,
          -0.5421796901027264,
          0.2609352631947877,
          -0.2243329499018594,
          0.1421432931661823,
          1.093261930610181,
          0.30912184023215555,
          0.5274847296838001,
          -0.8482473955350368,
          -1.1740459296667167,
          0.12050195080175524,
          0.6917000321710234,
          -0.24954254013796354,
          -0.0555574867666861,
          -0.11674030611528681,
          -1.334786476612104,
          -0.7223974650682061,
          1.4343193468848872,
          -1.3171815064176886,
          -0.6898579117892474,
          -0.30456626778121365,
          -0.38585924100511965,
          -0.8134747561637852,
          2.010879165813113,
          1.8244088747007474,
          -0.3670493932221158,
          0.03065143496118238,
          -0.6766752794932412,
          -0.21596160514515156,
          -0.3343960409842762,
          -0.5872454814216169,
          -0.2983674285813973,
          0.2681694412271725,
          -0.5871780526557453,
          0.6345911247702245,
          -0.48125080520848557,
          -1.537351065621091,
          0.6715502994413234,
          -0.7553536888819133,
          0.7274770340599817,
          0.38331131279465536,
          0.20240429935781595,
          -0.03698531065937211,
          0.7746536546150867,
          -0.12743883677501958,
          -0.6009991380090095,
          0.7150308408538082,
          0.8401271366581022,
          -1.8596498898007021,
          -1.3339806032828878,
          -0.22198748420879716,
          -1.8428750875481898,
          0.4064685378532878,
          -0.1475973932807723,
          -0.8804055552297537,
          -1.580823041015511
         ]
        },
        {
         "histfunc": "count",
         "histnorm": "",
         "marker": {
          "color": "rgba(50, 171, 96, 1.0)",
          "line": {
           "color": "#4D5663",
           "width": 1.3
          }
         },
         "name": "C",
         "opacity": 0.8,
         "orientation": "v",
         "type": "histogram",
         "x": [
          1.4924820594701595,
          0.7869320413273678,
          0.32273074575160593,
          0.6082508425877736,
          0.2514930413665632,
          -0.4034861638206237,
          -0.5768681716474443,
          0.6856012702187398,
          -1.7068889895044812,
          2.0385721334530302,
          -0.8191936955348694,
          -0.13602903900798372,
          0.9667930631260175,
          0.0006992865771992262,
          0.39111968811096387,
          -0.43540783703434993,
          -0.3221271598960024,
          1.514266460244137,
          -0.020695230765908058,
          1.035430942071528,
          0.6506811637253885,
          -1.145913181938134,
          -0.34697751515819814,
          0.5722502898175891,
          -0.7519895563251693,
          1.9776712105857348,
          0.3372495147021022,
          -0.4395212659175542,
          -1.2050237800542114,
          -0.06537901172259553,
          -0.5797928888875487,
          -1.431944247132665,
          3.0903555244262755,
          -0.6651819863410234,
          -1.8564840845463624,
          -0.2717618053538439,
          -0.10389500197897769,
          1.0364867265617488,
          -0.6559090419483852,
          0.29752590565428155,
          1.0219876099372784,
          -2.442035360843184,
          0.850123129127888,
          0.24684047283695598,
          -0.3678949207276394,
          -0.7883469321527289,
          1.6771022341276227,
          0.9389046366431055,
          -1.8881830834792284,
          0.5713559181159971,
          -1.3460438578180391,
          -0.3668246713811393,
          -0.3500860505947476,
          -0.3964023791091147,
          0.24512962516339712,
          -1.1552665030490763,
          0.09138475183594481,
          -0.22696740865481954,
          0.8208391263967445,
          -0.19519785712563537,
          -1.3695877423647327,
          -0.5385789870693948,
          0.6416446055778066,
          0.1382865607176138,
          1.000976342056877,
          -0.6824060028252374,
          0.48166835711151784,
          -1.7697737629288337,
          -0.6571145004145996,
          0.1894110624135475,
          0.9810977645999668,
          -1.0499061540091557,
          0.6730116130030037,
          2.112389062467758,
          0.04722673653972112,
          0.5370038684396691,
          -0.8236499029151352,
          -0.9230905362969907,
          0.2880332090928785,
          0.20315760791893966,
          0.2603532879125389,
          -1.2692769502035877,
          -0.8287321214176975,
          -0.07163646942393866,
          -0.4651101256940488,
          -0.8578945848200039,
          0.0891853556732661,
          -0.17394563516085862,
          -0.0507649119885555,
          -0.6267804040324925,
          -0.770225541117248,
          0.846148721475124,
          -0.2500008631262009,
          -1.6556309939729155,
          -0.8753658192097954,
          -0.2102264072150913,
          1.1306846851390011,
          1.1411074885543189,
          1.0323578639940127,
          0.22708670869310604
         ]
        },
        {
         "histfunc": "count",
         "histnorm": "",
         "marker": {
          "color": "rgba(128, 0, 128, 1.0)",
          "line": {
           "color": "#4D5663",
           "width": 1.3
          }
         },
         "name": "D",
         "opacity": 0.8,
         "orientation": "v",
         "type": "histogram",
         "x": [
          0.8784097635079271,
          0.41373833465411486,
          -0.017982234333353768,
          -0.9849581469253769,
          -0.525922792414035,
          -1.5758495572561193,
          -2.6008494818189343,
          0.08321481462802557,
          -0.5621103549964049,
          -0.666115045990679,
          -0.22509352690535678,
          -1.0643184410464175,
          0.22251579823925932,
          0.5986063082126469,
          0.11459219679383639,
          0.7593125165744864,
          0.2103290172024642,
          -2.017164157575092,
          -0.06478200186368004,
          0.8445371088727064,
          0.45596778382233266,
          -0.820671089748138,
          -0.10983235640478299,
          -0.4939671612088846,
          -1.4432782231781656,
          1.2936663433198556,
          -0.7127750389182068,
          -1.2837432002030262,
          -0.4005004052185187,
          -0.3282063282740504,
          -0.6850873197215348,
          -0.028277280860713516,
          1.2303787242796584,
          0.8794190943231905,
          -0.2728446264895277,
          0.09732640946867503,
          -0.11355883865903231,
          0.2128139309813744,
          -0.38963892316985477,
          0.12767461473080274,
          -0.09920015714668835,
          0.26371995379552415,
          -0.4434420199859188,
          -0.5607970551495925,
          2.063900563398957,
          -1.4857712119266875,
          0.007075658199432495,
          1.2878039096650393,
          -0.20469356440844869,
          -1.0443218157028409,
          0.30572575901613863,
          0.9186397492736501,
          0.463455305324779,
          0.5485539996955462,
          -0.2680810662274818,
          -0.9398484005231073,
          -0.15197786833529853,
          -0.021104928437870044,
          -0.7163874781331797,
          -0.07781558751246322,
          -0.5088178501681737,
          -0.3759080073603766,
          0.57215110217102,
          -0.3459356400266322,
          0.5123513245767716,
          1.8156822307430185,
          -1.5987878127320017,
          0.9828016670135185,
          -0.3987342334756005,
          1.553709645102389,
          -0.7930389415923372,
          -0.7878647849157575,
          -2.47437913953804,
          -1.0697479981823497,
          0.04802162487314175,
          -0.8340213258052468,
          0.8393512676752578,
          -0.6399858404914921,
          0.401629816409806,
          -0.08581239209276978,
          1.0681103969845536,
          -0.08160047220364465,
          0.09482987517133963,
          0.3768970125500851,
          1.3322319124126047,
          -0.23802377313554726,
          0.5443599989176237,
          0.2640731149237633,
          0.2516458614493047,
          -0.30819230362295347,
          -0.4297721916496139,
          0.493865700710478,
          2.073198652660911,
          -0.6036327703946305,
          -0.84105157047565,
          -2.3104107765592623,
          -0.32611725470856845,
          2.3388040250701154,
          -0.33413233446227103,
          -0.10019130753522917
         ]
        }
       ],
       "layout": {
        "barmode": "overlay",
        "legend": {
         "bgcolor": "#F5F6F9",
         "font": {
          "color": "#4D5663"
         }
        },
        "paper_bgcolor": "#F5F6F9",
        "plot_bgcolor": "#F5F6F9",
        "template": {
         "data": {
          "bar": [
           {
            "error_x": {
             "color": "#2a3f5f"
            },
            "error_y": {
             "color": "#2a3f5f"
            },
            "marker": {
             "line": {
              "color": "#E5ECF6",
              "width": 0.5
             },
             "pattern": {
              "fillmode": "overlay",
              "size": 10,
              "solidity": 0.2
             }
            },
            "type": "bar"
           }
          ],
          "barpolar": [
           {
            "marker": {
             "line": {
              "color": "#E5ECF6",
              "width": 0.5
             },
             "pattern": {
              "fillmode": "overlay",
              "size": 10,
              "solidity": 0.2
             }
            },
            "type": "barpolar"
           }
          ],
          "carpet": [
           {
            "aaxis": {
             "endlinecolor": "#2a3f5f",
             "gridcolor": "white",
             "linecolor": "white",
             "minorgridcolor": "white",
             "startlinecolor": "#2a3f5f"
            },
            "baxis": {
             "endlinecolor": "#2a3f5f",
             "gridcolor": "white",
             "linecolor": "white",
             "minorgridcolor": "white",
             "startlinecolor": "#2a3f5f"
            },
            "type": "carpet"
           }
          ],
          "choropleth": [
           {
            "colorbar": {
             "outlinewidth": 0,
             "ticks": ""
            },
            "type": "choropleth"
           }
          ],
          "contour": [
           {
            "colorbar": {
             "outlinewidth": 0,
             "ticks": ""
            },
            "colorscale": [
             [
              0,
              "#0d0887"
             ],
             [
              0.1111111111111111,
              "#46039f"
             ],
             [
              0.2222222222222222,
              "#7201a8"
             ],
             [
              0.3333333333333333,
              "#9c179e"
             ],
             [
              0.4444444444444444,
              "#bd3786"
             ],
             [
              0.5555555555555556,
              "#d8576b"
             ],
             [
              0.6666666666666666,
              "#ed7953"
             ],
             [
              0.7777777777777778,
              "#fb9f3a"
             ],
             [
              0.8888888888888888,
              "#fdca26"
             ],
             [
              1,
              "#f0f921"
             ]
            ],
            "type": "contour"
           }
          ],
          "contourcarpet": [
           {
            "colorbar": {
             "outlinewidth": 0,
             "ticks": ""
            },
            "type": "contourcarpet"
           }
          ],
          "heatmap": [
           {
            "colorbar": {
             "outlinewidth": 0,
             "ticks": ""
            },
            "colorscale": [
             [
              0,
              "#0d0887"
             ],
             [
              0.1111111111111111,
              "#46039f"
             ],
             [
              0.2222222222222222,
              "#7201a8"
             ],
             [
              0.3333333333333333,
              "#9c179e"
             ],
             [
              0.4444444444444444,
              "#bd3786"
             ],
             [
              0.5555555555555556,
              "#d8576b"
             ],
             [
              0.6666666666666666,
              "#ed7953"
             ],
             [
              0.7777777777777778,
              "#fb9f3a"
             ],
             [
              0.8888888888888888,
              "#fdca26"
             ],
             [
              1,
              "#f0f921"
             ]
            ],
            "type": "heatmap"
           }
          ],
          "heatmapgl": [
           {
            "colorbar": {
             "outlinewidth": 0,
             "ticks": ""
            },
            "colorscale": [
             [
              0,
              "#0d0887"
             ],
             [
              0.1111111111111111,
              "#46039f"
             ],
             [
              0.2222222222222222,
              "#7201a8"
             ],
             [
              0.3333333333333333,
              "#9c179e"
             ],
             [
              0.4444444444444444,
              "#bd3786"
             ],
             [
              0.5555555555555556,
              "#d8576b"
             ],
             [
              0.6666666666666666,
              "#ed7953"
             ],
             [
              0.7777777777777778,
              "#fb9f3a"
             ],
             [
              0.8888888888888888,
              "#fdca26"
             ],
             [
              1,
              "#f0f921"
             ]
            ],
            "type": "heatmapgl"
           }
          ],
          "histogram": [
           {
            "marker": {
             "pattern": {
              "fillmode": "overlay",
              "size": 10,
              "solidity": 0.2
             }
            },
            "type": "histogram"
           }
          ],
          "histogram2d": [
           {
            "colorbar": {
             "outlinewidth": 0,
             "ticks": ""
            },
            "colorscale": [
             [
              0,
              "#0d0887"
             ],
             [
              0.1111111111111111,
              "#46039f"
             ],
             [
              0.2222222222222222,
              "#7201a8"
             ],
             [
              0.3333333333333333,
              "#9c179e"
             ],
             [
              0.4444444444444444,
              "#bd3786"
             ],
             [
              0.5555555555555556,
              "#d8576b"
             ],
             [
              0.6666666666666666,
              "#ed7953"
             ],
             [
              0.7777777777777778,
              "#fb9f3a"
             ],
             [
              0.8888888888888888,
              "#fdca26"
             ],
             [
              1,
              "#f0f921"
             ]
            ],
            "type": "histogram2d"
           }
          ],
          "histogram2dcontour": [
           {
            "colorbar": {
             "outlinewidth": 0,
             "ticks": ""
            },
            "colorscale": [
             [
              0,
              "#0d0887"
             ],
             [
              0.1111111111111111,
              "#46039f"
             ],
             [
              0.2222222222222222,
              "#7201a8"
             ],
             [
              0.3333333333333333,
              "#9c179e"
             ],
             [
              0.4444444444444444,
              "#bd3786"
             ],
             [
              0.5555555555555556,
              "#d8576b"
             ],
             [
              0.6666666666666666,
              "#ed7953"
             ],
             [
              0.7777777777777778,
              "#fb9f3a"
             ],
             [
              0.8888888888888888,
              "#fdca26"
             ],
             [
              1,
              "#f0f921"
             ]
            ],
            "type": "histogram2dcontour"
           }
          ],
          "mesh3d": [
           {
            "colorbar": {
             "outlinewidth": 0,
             "ticks": ""
            },
            "type": "mesh3d"
           }
          ],
          "parcoords": [
           {
            "line": {
             "colorbar": {
              "outlinewidth": 0,
              "ticks": ""
             }
            },
            "type": "parcoords"
           }
          ],
          "pie": [
           {
            "automargin": true,
            "type": "pie"
           }
          ],
          "scatter": [
           {
            "fillpattern": {
             "fillmode": "overlay",
             "size": 10,
             "solidity": 0.2
            },
            "type": "scatter"
           }
          ],
          "scatter3d": [
           {
            "line": {
             "colorbar": {
              "outlinewidth": 0,
              "ticks": ""
             }
            },
            "marker": {
             "colorbar": {
              "outlinewidth": 0,
              "ticks": ""
             }
            },
            "type": "scatter3d"
           }
          ],
          "scattercarpet": [
           {
            "marker": {
             "colorbar": {
              "outlinewidth": 0,
              "ticks": ""
             }
            },
            "type": "scattercarpet"
           }
          ],
          "scattergeo": [
           {
            "marker": {
             "colorbar": {
              "outlinewidth": 0,
              "ticks": ""
             }
            },
            "type": "scattergeo"
           }
          ],
          "scattergl": [
           {
            "marker": {
             "colorbar": {
              "outlinewidth": 0,
              "ticks": ""
             }
            },
            "type": "scattergl"
           }
          ],
          "scattermapbox": [
           {
            "marker": {
             "colorbar": {
              "outlinewidth": 0,
              "ticks": ""
             }
            },
            "type": "scattermapbox"
           }
          ],
          "scatterpolar": [
           {
            "marker": {
             "colorbar": {
              "outlinewidth": 0,
              "ticks": ""
             }
            },
            "type": "scatterpolar"
           }
          ],
          "scatterpolargl": [
           {
            "marker": {
             "colorbar": {
              "outlinewidth": 0,
              "ticks": ""
             }
            },
            "type": "scatterpolargl"
           }
          ],
          "scatterternary": [
           {
            "marker": {
             "colorbar": {
              "outlinewidth": 0,
              "ticks": ""
             }
            },
            "type": "scatterternary"
           }
          ],
          "surface": [
           {
            "colorbar": {
             "outlinewidth": 0,
             "ticks": ""
            },
            "colorscale": [
             [
              0,
              "#0d0887"
             ],
             [
              0.1111111111111111,
              "#46039f"
             ],
             [
              0.2222222222222222,
              "#7201a8"
             ],
             [
              0.3333333333333333,
              "#9c179e"
             ],
             [
              0.4444444444444444,
              "#bd3786"
             ],
             [
              0.5555555555555556,
              "#d8576b"
             ],
             [
              0.6666666666666666,
              "#ed7953"
             ],
             [
              0.7777777777777778,
              "#fb9f3a"
             ],
             [
              0.8888888888888888,
              "#fdca26"
             ],
             [
              1,
              "#f0f921"
             ]
            ],
            "type": "surface"
           }
          ],
          "table": [
           {
            "cells": {
             "fill": {
              "color": "#EBF0F8"
             },
             "line": {
              "color": "white"
             }
            },
            "header": {
             "fill": {
              "color": "#C8D4E3"
             },
             "line": {
              "color": "white"
             }
            },
            "type": "table"
           }
          ]
         },
         "layout": {
          "annotationdefaults": {
           "arrowcolor": "#2a3f5f",
           "arrowhead": 0,
           "arrowwidth": 1
          },
          "autotypenumbers": "strict",
          "coloraxis": {
           "colorbar": {
            "outlinewidth": 0,
            "ticks": ""
           }
          },
          "colorscale": {
           "diverging": [
            [
             0,
             "#8e0152"
            ],
            [
             0.1,
             "#c51b7d"
            ],
            [
             0.2,
             "#de77ae"
            ],
            [
             0.3,
             "#f1b6da"
            ],
            [
             0.4,
             "#fde0ef"
            ],
            [
             0.5,
             "#f7f7f7"
            ],
            [
             0.6,
             "#e6f5d0"
            ],
            [
             0.7,
             "#b8e186"
            ],
            [
             0.8,
             "#7fbc41"
            ],
            [
             0.9,
             "#4d9221"
            ],
            [
             1,
             "#276419"
            ]
           ],
           "sequential": [
            [
             0,
             "#0d0887"
            ],
            [
             0.1111111111111111,
             "#46039f"
            ],
            [
             0.2222222222222222,
             "#7201a8"
            ],
            [
             0.3333333333333333,
             "#9c179e"
            ],
            [
             0.4444444444444444,
             "#bd3786"
            ],
            [
             0.5555555555555556,
             "#d8576b"
            ],
            [
             0.6666666666666666,
             "#ed7953"
            ],
            [
             0.7777777777777778,
             "#fb9f3a"
            ],
            [
             0.8888888888888888,
             "#fdca26"
            ],
            [
             1,
             "#f0f921"
            ]
           ],
           "sequentialminus": [
            [
             0,
             "#0d0887"
            ],
            [
             0.1111111111111111,
             "#46039f"
            ],
            [
             0.2222222222222222,
             "#7201a8"
            ],
            [
             0.3333333333333333,
             "#9c179e"
            ],
            [
             0.4444444444444444,
             "#bd3786"
            ],
            [
             0.5555555555555556,
             "#d8576b"
            ],
            [
             0.6666666666666666,
             "#ed7953"
            ],
            [
             0.7777777777777778,
             "#fb9f3a"
            ],
            [
             0.8888888888888888,
             "#fdca26"
            ],
            [
             1,
             "#f0f921"
            ]
           ]
          },
          "colorway": [
           "#636efa",
           "#EF553B",
           "#00cc96",
           "#ab63fa",
           "#FFA15A",
           "#19d3f3",
           "#FF6692",
           "#B6E880",
           "#FF97FF",
           "#FECB52"
          ],
          "font": {
           "color": "#2a3f5f"
          },
          "geo": {
           "bgcolor": "white",
           "lakecolor": "white",
           "landcolor": "#E5ECF6",
           "showlakes": true,
           "showland": true,
           "subunitcolor": "white"
          },
          "hoverlabel": {
           "align": "left"
          },
          "hovermode": "closest",
          "mapbox": {
           "style": "light"
          },
          "paper_bgcolor": "white",
          "plot_bgcolor": "#E5ECF6",
          "polar": {
           "angularaxis": {
            "gridcolor": "white",
            "linecolor": "white",
            "ticks": ""
           },
           "bgcolor": "#E5ECF6",
           "radialaxis": {
            "gridcolor": "white",
            "linecolor": "white",
            "ticks": ""
           }
          },
          "scene": {
           "xaxis": {
            "backgroundcolor": "#E5ECF6",
            "gridcolor": "white",
            "gridwidth": 2,
            "linecolor": "white",
            "showbackground": true,
            "ticks": "",
            "zerolinecolor": "white"
           },
           "yaxis": {
            "backgroundcolor": "#E5ECF6",
            "gridcolor": "white",
            "gridwidth": 2,
            "linecolor": "white",
            "showbackground": true,
            "ticks": "",
            "zerolinecolor": "white"
           },
           "zaxis": {
            "backgroundcolor": "#E5ECF6",
            "gridcolor": "white",
            "gridwidth": 2,
            "linecolor": "white",
            "showbackground": true,
            "ticks": "",
            "zerolinecolor": "white"
           }
          },
          "shapedefaults": {
           "line": {
            "color": "#2a3f5f"
           }
          },
          "ternary": {
           "aaxis": {
            "gridcolor": "white",
            "linecolor": "white",
            "ticks": ""
           },
           "baxis": {
            "gridcolor": "white",
            "linecolor": "white",
            "ticks": ""
           },
           "bgcolor": "#E5ECF6",
           "caxis": {
            "gridcolor": "white",
            "linecolor": "white",
            "ticks": ""
           }
          },
          "title": {
           "x": 0.05
          },
          "xaxis": {
           "automargin": true,
           "gridcolor": "white",
           "linecolor": "white",
           "ticks": "",
           "title": {
            "standoff": 15
           },
           "zerolinecolor": "white",
           "zerolinewidth": 2
          },
          "yaxis": {
           "automargin": true,
           "gridcolor": "white",
           "linecolor": "white",
           "ticks": "",
           "title": {
            "standoff": 15
           },
           "zerolinecolor": "white",
           "zerolinewidth": 2
          }
         }
        },
        "title": {
         "font": {
          "color": "#4D5663"
         }
        },
        "xaxis": {
         "gridcolor": "#E1E5ED",
         "showgrid": true,
         "tickfont": {
          "color": "#4D5663"
         },
         "title": {
          "font": {
           "color": "#4D5663"
          },
          "text": ""
         },
         "zerolinecolor": "#E1E5ED"
        },
        "yaxis": {
         "gridcolor": "#E1E5ED",
         "showgrid": true,
         "tickfont": {
          "color": "#4D5663"
         },
         "title": {
          "font": {
           "color": "#4D5663"
          },
          "text": ""
         },
         "zerolinecolor": "#E1E5ED"
        }
       }
      },
      "text/html": [
       "<div>                            <div id=\"f8128c47-3d24-4e9a-8187-1f60056e9144\" class=\"plotly-graph-div\" style=\"height:525px; width:100%;\"></div>            <script type=\"text/javascript\">                require([\"plotly\"], function(Plotly) {                    window.PLOTLYENV=window.PLOTLYENV || {};\n",
       "                    window.PLOTLYENV.BASE_URL='https://plot.ly';                                    if (document.getElementById(\"f8128c47-3d24-4e9a-8187-1f60056e9144\")) {                    Plotly.newPlot(                        \"f8128c47-3d24-4e9a-8187-1f60056e9144\",                        [{\"histfunc\":\"count\",\"histnorm\":\"\",\"marker\":{\"color\":\"rgba(255, 153, 51, 1.0)\",\"line\":{\"color\":\"#4D5663\",\"width\":1.3}},\"name\":\"A\",\"opacity\":0.8,\"orientation\":\"v\",\"x\":[0.2995340644905276,0.2205656269030712,-1.056174561092009,0.7591755781504027,0.5326518825067723,1.3044295669802999,1.3281748768339667,-0.09922890207163876,0.6072907830909519,1.1826119307800274,0.3200674123294725,-1.3012890682412424,0.39931988429912135,-0.34879285248827946,-0.7832437352797109,0.24797886378743955,-2.8773605354838225,-0.41107805336817005,0.5428332832960278,-0.34202223323909137,0.6703636476801402,0.47056109501637966,0.5846164712351315,-0.8661517063929928,0.44216954122070445,0.5363106882328338,-0.27977714813382293,0.4380768982907296,-1.4402841454482886,0.256393582261463,1.6549149482388437,-1.3228705669839567,-0.7548185531120883,0.44297261355922846,1.3580577186497258,-0.5112296882385694,1.5741392211439416,0.13109722398933546,-1.4680827312451141,-0.6059423946677869,0.144459267134369,0.3021717007693336,-0.22744784266075352,0.03450363264569284,0.05177307263761155,0.1399332902663523,1.0229527181140547,-2.6321782638398714,0.7745092754158753,-1.5926248522708426,-0.7031009714908845,0.6710809023395671,-0.1438163725324016,0.5082776496708439,0.0767121365819478,0.6457023848381208,-0.3580314419038346,-0.774839310285214,-0.43466021347224676,-1.6000577779988623,0.5086471535040138,0.37958854995049945,-1.0104442910961025,-0.1514509188462034,-0.12732690203447797,0.8209231907729551,-0.22640327123432807,1.4349981836183903,0.6890109446047313,1.0775411458507147,0.29266013334010743,0.3923131280672186,-0.7821903721721409,-1.2087665128305551,-0.04005064789093992,0.586175941448245,-0.39450460865418874,0.7192182080202476,1.8882833172200184,0.8341960000980053,0.049935991907428666,0.47937322066761195,0.07588343334653969,-0.2526301622266612,-0.5289099932191659,-0.10700710269370067,-0.4631513345001443,-0.3924250958303068,1.3819170930309186,-1.0229272234878124,-0.8612817624400896,-1.3485764993188754,1.9759061035618044,-0.9223448984827978,-1.0472531006509647,-0.09420726481422516,0.13682879551914487,-0.6242439989143544,-0.6080082561687519,-0.335483037163409],\"type\":\"histogram\"},{\"histfunc\":\"count\",\"histnorm\":\"\",\"marker\":{\"color\":\"rgba(55, 128, 191, 1.0)\",\"line\":{\"color\":\"#4D5663\",\"width\":1.3}},\"name\":\"B\",\"opacity\":0.8,\"orientation\":\"v\",\"x\":[0.6288873106968625,1.5552086644040435,-0.2020635486518468,-0.37421286494601835,-1.8901354714158451,1.1642455262282074,-1.0335669426310594,-0.6453012578613595,-2.500063217723074,0.6208790462589199,-0.33919024377178775,-0.6323417396484956,-1.1042370872644787,0.687990530703836,-0.29482934295310004,-1.760993482777496,0.4013839131768914,-0.19128337287568414,0.38831658519353085,1.1022164676082287,-0.7658403159220927,0.39746202290875726,0.05253399825030649,-1.2986978680790244,0.5516764900142631,0.9594352288580066,-1.6176146758116843,0.566234817380164,0.03291261568889055,-0.10412367010856544,0.18813480982253722,0.33139764237225916,-0.4352051883947046,-0.1850665849362166,1.977129824661224,-0.716727900543721,-0.9962485346727465,2.1457330602622915,1.4786805379182806,-0.3073961040236371,0.5190635210197534,-0.2977117536092024,1.07655420499391,1.6402869584964106,-0.6736312859201243,-0.5421796901027264,0.2609352631947877,-0.2243329499018594,0.1421432931661823,1.093261930610181,0.30912184023215555,0.5274847296838001,-0.8482473955350368,-1.1740459296667167,0.12050195080175524,0.6917000321710234,-0.24954254013796354,-0.0555574867666861,-0.11674030611528681,-1.334786476612104,-0.7223974650682061,1.4343193468848872,-1.3171815064176886,-0.6898579117892474,-0.30456626778121365,-0.38585924100511965,-0.8134747561637852,2.010879165813113,1.8244088747007474,-0.3670493932221158,0.03065143496118238,-0.6766752794932412,-0.21596160514515156,-0.3343960409842762,-0.5872454814216169,-0.2983674285813973,0.2681694412271725,-0.5871780526557453,0.6345911247702245,-0.48125080520848557,-1.537351065621091,0.6715502994413234,-0.7553536888819133,0.7274770340599817,0.38331131279465536,0.20240429935781595,-0.03698531065937211,0.7746536546150867,-0.12743883677501958,-0.6009991380090095,0.7150308408538082,0.8401271366581022,-1.8596498898007021,-1.3339806032828878,-0.22198748420879716,-1.8428750875481898,0.4064685378532878,-0.1475973932807723,-0.8804055552297537,-1.580823041015511],\"type\":\"histogram\"},{\"histfunc\":\"count\",\"histnorm\":\"\",\"marker\":{\"color\":\"rgba(50, 171, 96, 1.0)\",\"line\":{\"color\":\"#4D5663\",\"width\":1.3}},\"name\":\"C\",\"opacity\":0.8,\"orientation\":\"v\",\"x\":[1.4924820594701595,0.7869320413273678,0.32273074575160593,0.6082508425877736,0.2514930413665632,-0.4034861638206237,-0.5768681716474443,0.6856012702187398,-1.7068889895044812,2.0385721334530302,-0.8191936955348694,-0.13602903900798372,0.9667930631260175,0.0006992865771992262,0.39111968811096387,-0.43540783703434993,-0.3221271598960024,1.514266460244137,-0.020695230765908058,1.035430942071528,0.6506811637253885,-1.145913181938134,-0.34697751515819814,0.5722502898175891,-0.7519895563251693,1.9776712105857348,0.3372495147021022,-0.4395212659175542,-1.2050237800542114,-0.06537901172259553,-0.5797928888875487,-1.431944247132665,3.0903555244262755,-0.6651819863410234,-1.8564840845463624,-0.2717618053538439,-0.10389500197897769,1.0364867265617488,-0.6559090419483852,0.29752590565428155,1.0219876099372784,-2.442035360843184,0.850123129127888,0.24684047283695598,-0.3678949207276394,-0.7883469321527289,1.6771022341276227,0.9389046366431055,-1.8881830834792284,0.5713559181159971,-1.3460438578180391,-0.3668246713811393,-0.3500860505947476,-0.3964023791091147,0.24512962516339712,-1.1552665030490763,0.09138475183594481,-0.22696740865481954,0.8208391263967445,-0.19519785712563537,-1.3695877423647327,-0.5385789870693948,0.6416446055778066,0.1382865607176138,1.000976342056877,-0.6824060028252374,0.48166835711151784,-1.7697737629288337,-0.6571145004145996,0.1894110624135475,0.9810977645999668,-1.0499061540091557,0.6730116130030037,2.112389062467758,0.04722673653972112,0.5370038684396691,-0.8236499029151352,-0.9230905362969907,0.2880332090928785,0.20315760791893966,0.2603532879125389,-1.2692769502035877,-0.8287321214176975,-0.07163646942393866,-0.4651101256940488,-0.8578945848200039,0.0891853556732661,-0.17394563516085862,-0.0507649119885555,-0.6267804040324925,-0.770225541117248,0.846148721475124,-0.2500008631262009,-1.6556309939729155,-0.8753658192097954,-0.2102264072150913,1.1306846851390011,1.1411074885543189,1.0323578639940127,0.22708670869310604],\"type\":\"histogram\"},{\"histfunc\":\"count\",\"histnorm\":\"\",\"marker\":{\"color\":\"rgba(128, 0, 128, 1.0)\",\"line\":{\"color\":\"#4D5663\",\"width\":1.3}},\"name\":\"D\",\"opacity\":0.8,\"orientation\":\"v\",\"x\":[0.8784097635079271,0.41373833465411486,-0.017982234333353768,-0.9849581469253769,-0.525922792414035,-1.5758495572561193,-2.6008494818189343,0.08321481462802557,-0.5621103549964049,-0.666115045990679,-0.22509352690535678,-1.0643184410464175,0.22251579823925932,0.5986063082126469,0.11459219679383639,0.7593125165744864,0.2103290172024642,-2.017164157575092,-0.06478200186368004,0.8445371088727064,0.45596778382233266,-0.820671089748138,-0.10983235640478299,-0.4939671612088846,-1.4432782231781656,1.2936663433198556,-0.7127750389182068,-1.2837432002030262,-0.4005004052185187,-0.3282063282740504,-0.6850873197215348,-0.028277280860713516,1.2303787242796584,0.8794190943231905,-0.2728446264895277,0.09732640946867503,-0.11355883865903231,0.2128139309813744,-0.38963892316985477,0.12767461473080274,-0.09920015714668835,0.26371995379552415,-0.4434420199859188,-0.5607970551495925,2.063900563398957,-1.4857712119266875,0.007075658199432495,1.2878039096650393,-0.20469356440844869,-1.0443218157028409,0.30572575901613863,0.9186397492736501,0.463455305324779,0.5485539996955462,-0.2680810662274818,-0.9398484005231073,-0.15197786833529853,-0.021104928437870044,-0.7163874781331797,-0.07781558751246322,-0.5088178501681737,-0.3759080073603766,0.57215110217102,-0.3459356400266322,0.5123513245767716,1.8156822307430185,-1.5987878127320017,0.9828016670135185,-0.3987342334756005,1.553709645102389,-0.7930389415923372,-0.7878647849157575,-2.47437913953804,-1.0697479981823497,0.04802162487314175,-0.8340213258052468,0.8393512676752578,-0.6399858404914921,0.401629816409806,-0.08581239209276978,1.0681103969845536,-0.08160047220364465,0.09482987517133963,0.3768970125500851,1.3322319124126047,-0.23802377313554726,0.5443599989176237,0.2640731149237633,0.2516458614493047,-0.30819230362295347,-0.4297721916496139,0.493865700710478,2.073198652660911,-0.6036327703946305,-0.84105157047565,-2.3104107765592623,-0.32611725470856845,2.3388040250701154,-0.33413233446227103,-0.10019130753522917],\"type\":\"histogram\"}],                        {\"barmode\":\"overlay\",\"legend\":{\"bgcolor\":\"#F5F6F9\",\"font\":{\"color\":\"#4D5663\"}},\"paper_bgcolor\":\"#F5F6F9\",\"plot_bgcolor\":\"#F5F6F9\",\"template\":{\"data\":{\"barpolar\":[{\"marker\":{\"line\":{\"color\":\"#E5ECF6\",\"width\":0.5},\"pattern\":{\"fillmode\":\"overlay\",\"size\":10,\"solidity\":0.2}},\"type\":\"barpolar\"}],\"bar\":[{\"error_x\":{\"color\":\"#2a3f5f\"},\"error_y\":{\"color\":\"#2a3f5f\"},\"marker\":{\"line\":{\"color\":\"#E5ECF6\",\"width\":0.5},\"pattern\":{\"fillmode\":\"overlay\",\"size\":10,\"solidity\":0.2}},\"type\":\"bar\"}],\"carpet\":[{\"aaxis\":{\"endlinecolor\":\"#2a3f5f\",\"gridcolor\":\"white\",\"linecolor\":\"white\",\"minorgridcolor\":\"white\",\"startlinecolor\":\"#2a3f5f\"},\"baxis\":{\"endlinecolor\":\"#2a3f5f\",\"gridcolor\":\"white\",\"linecolor\":\"white\",\"minorgridcolor\":\"white\",\"startlinecolor\":\"#2a3f5f\"},\"type\":\"carpet\"}],\"choropleth\":[{\"colorbar\":{\"outlinewidth\":0,\"ticks\":\"\"},\"type\":\"choropleth\"}],\"contourcarpet\":[{\"colorbar\":{\"outlinewidth\":0,\"ticks\":\"\"},\"type\":\"contourcarpet\"}],\"contour\":[{\"colorbar\":{\"outlinewidth\":0,\"ticks\":\"\"},\"colorscale\":[[0.0,\"#0d0887\"],[0.1111111111111111,\"#46039f\"],[0.2222222222222222,\"#7201a8\"],[0.3333333333333333,\"#9c179e\"],[0.4444444444444444,\"#bd3786\"],[0.5555555555555556,\"#d8576b\"],[0.6666666666666666,\"#ed7953\"],[0.7777777777777778,\"#fb9f3a\"],[0.8888888888888888,\"#fdca26\"],[1.0,\"#f0f921\"]],\"type\":\"contour\"}],\"heatmapgl\":[{\"colorbar\":{\"outlinewidth\":0,\"ticks\":\"\"},\"colorscale\":[[0.0,\"#0d0887\"],[0.1111111111111111,\"#46039f\"],[0.2222222222222222,\"#7201a8\"],[0.3333333333333333,\"#9c179e\"],[0.4444444444444444,\"#bd3786\"],[0.5555555555555556,\"#d8576b\"],[0.6666666666666666,\"#ed7953\"],[0.7777777777777778,\"#fb9f3a\"],[0.8888888888888888,\"#fdca26\"],[1.0,\"#f0f921\"]],\"type\":\"heatmapgl\"}],\"heatmap\":[{\"colorbar\":{\"outlinewidth\":0,\"ticks\":\"\"},\"colorscale\":[[0.0,\"#0d0887\"],[0.1111111111111111,\"#46039f\"],[0.2222222222222222,\"#7201a8\"],[0.3333333333333333,\"#9c179e\"],[0.4444444444444444,\"#bd3786\"],[0.5555555555555556,\"#d8576b\"],[0.6666666666666666,\"#ed7953\"],[0.7777777777777778,\"#fb9f3a\"],[0.8888888888888888,\"#fdca26\"],[1.0,\"#f0f921\"]],\"type\":\"heatmap\"}],\"histogram2dcontour\":[{\"colorbar\":{\"outlinewidth\":0,\"ticks\":\"\"},\"colorscale\":[[0.0,\"#0d0887\"],[0.1111111111111111,\"#46039f\"],[0.2222222222222222,\"#7201a8\"],[0.3333333333333333,\"#9c179e\"],[0.4444444444444444,\"#bd3786\"],[0.5555555555555556,\"#d8576b\"],[0.6666666666666666,\"#ed7953\"],[0.7777777777777778,\"#fb9f3a\"],[0.8888888888888888,\"#fdca26\"],[1.0,\"#f0f921\"]],\"type\":\"histogram2dcontour\"}],\"histogram2d\":[{\"colorbar\":{\"outlinewidth\":0,\"ticks\":\"\"},\"colorscale\":[[0.0,\"#0d0887\"],[0.1111111111111111,\"#46039f\"],[0.2222222222222222,\"#7201a8\"],[0.3333333333333333,\"#9c179e\"],[0.4444444444444444,\"#bd3786\"],[0.5555555555555556,\"#d8576b\"],[0.6666666666666666,\"#ed7953\"],[0.7777777777777778,\"#fb9f3a\"],[0.8888888888888888,\"#fdca26\"],[1.0,\"#f0f921\"]],\"type\":\"histogram2d\"}],\"histogram\":[{\"marker\":{\"pattern\":{\"fillmode\":\"overlay\",\"size\":10,\"solidity\":0.2}},\"type\":\"histogram\"}],\"mesh3d\":[{\"colorbar\":{\"outlinewidth\":0,\"ticks\":\"\"},\"type\":\"mesh3d\"}],\"parcoords\":[{\"line\":{\"colorbar\":{\"outlinewidth\":0,\"ticks\":\"\"}},\"type\":\"parcoords\"}],\"pie\":[{\"automargin\":true,\"type\":\"pie\"}],\"scatter3d\":[{\"line\":{\"colorbar\":{\"outlinewidth\":0,\"ticks\":\"\"}},\"marker\":{\"colorbar\":{\"outlinewidth\":0,\"ticks\":\"\"}},\"type\":\"scatter3d\"}],\"scattercarpet\":[{\"marker\":{\"colorbar\":{\"outlinewidth\":0,\"ticks\":\"\"}},\"type\":\"scattercarpet\"}],\"scattergeo\":[{\"marker\":{\"colorbar\":{\"outlinewidth\":0,\"ticks\":\"\"}},\"type\":\"scattergeo\"}],\"scattergl\":[{\"marker\":{\"colorbar\":{\"outlinewidth\":0,\"ticks\":\"\"}},\"type\":\"scattergl\"}],\"scattermapbox\":[{\"marker\":{\"colorbar\":{\"outlinewidth\":0,\"ticks\":\"\"}},\"type\":\"scattermapbox\"}],\"scatterpolargl\":[{\"marker\":{\"colorbar\":{\"outlinewidth\":0,\"ticks\":\"\"}},\"type\":\"scatterpolargl\"}],\"scatterpolar\":[{\"marker\":{\"colorbar\":{\"outlinewidth\":0,\"ticks\":\"\"}},\"type\":\"scatterpolar\"}],\"scatter\":[{\"fillpattern\":{\"fillmode\":\"overlay\",\"size\":10,\"solidity\":0.2},\"type\":\"scatter\"}],\"scatterternary\":[{\"marker\":{\"colorbar\":{\"outlinewidth\":0,\"ticks\":\"\"}},\"type\":\"scatterternary\"}],\"surface\":[{\"colorbar\":{\"outlinewidth\":0,\"ticks\":\"\"},\"colorscale\":[[0.0,\"#0d0887\"],[0.1111111111111111,\"#46039f\"],[0.2222222222222222,\"#7201a8\"],[0.3333333333333333,\"#9c179e\"],[0.4444444444444444,\"#bd3786\"],[0.5555555555555556,\"#d8576b\"],[0.6666666666666666,\"#ed7953\"],[0.7777777777777778,\"#fb9f3a\"],[0.8888888888888888,\"#fdca26\"],[1.0,\"#f0f921\"]],\"type\":\"surface\"}],\"table\":[{\"cells\":{\"fill\":{\"color\":\"#EBF0F8\"},\"line\":{\"color\":\"white\"}},\"header\":{\"fill\":{\"color\":\"#C8D4E3\"},\"line\":{\"color\":\"white\"}},\"type\":\"table\"}]},\"layout\":{\"annotationdefaults\":{\"arrowcolor\":\"#2a3f5f\",\"arrowhead\":0,\"arrowwidth\":1},\"autotypenumbers\":\"strict\",\"coloraxis\":{\"colorbar\":{\"outlinewidth\":0,\"ticks\":\"\"}},\"colorscale\":{\"diverging\":[[0,\"#8e0152\"],[0.1,\"#c51b7d\"],[0.2,\"#de77ae\"],[0.3,\"#f1b6da\"],[0.4,\"#fde0ef\"],[0.5,\"#f7f7f7\"],[0.6,\"#e6f5d0\"],[0.7,\"#b8e186\"],[0.8,\"#7fbc41\"],[0.9,\"#4d9221\"],[1,\"#276419\"]],\"sequential\":[[0.0,\"#0d0887\"],[0.1111111111111111,\"#46039f\"],[0.2222222222222222,\"#7201a8\"],[0.3333333333333333,\"#9c179e\"],[0.4444444444444444,\"#bd3786\"],[0.5555555555555556,\"#d8576b\"],[0.6666666666666666,\"#ed7953\"],[0.7777777777777778,\"#fb9f3a\"],[0.8888888888888888,\"#fdca26\"],[1.0,\"#f0f921\"]],\"sequentialminus\":[[0.0,\"#0d0887\"],[0.1111111111111111,\"#46039f\"],[0.2222222222222222,\"#7201a8\"],[0.3333333333333333,\"#9c179e\"],[0.4444444444444444,\"#bd3786\"],[0.5555555555555556,\"#d8576b\"],[0.6666666666666666,\"#ed7953\"],[0.7777777777777778,\"#fb9f3a\"],[0.8888888888888888,\"#fdca26\"],[1.0,\"#f0f921\"]]},\"colorway\":[\"#636efa\",\"#EF553B\",\"#00cc96\",\"#ab63fa\",\"#FFA15A\",\"#19d3f3\",\"#FF6692\",\"#B6E880\",\"#FF97FF\",\"#FECB52\"],\"font\":{\"color\":\"#2a3f5f\"},\"geo\":{\"bgcolor\":\"white\",\"lakecolor\":\"white\",\"landcolor\":\"#E5ECF6\",\"showlakes\":true,\"showland\":true,\"subunitcolor\":\"white\"},\"hoverlabel\":{\"align\":\"left\"},\"hovermode\":\"closest\",\"mapbox\":{\"style\":\"light\"},\"paper_bgcolor\":\"white\",\"plot_bgcolor\":\"#E5ECF6\",\"polar\":{\"angularaxis\":{\"gridcolor\":\"white\",\"linecolor\":\"white\",\"ticks\":\"\"},\"bgcolor\":\"#E5ECF6\",\"radialaxis\":{\"gridcolor\":\"white\",\"linecolor\":\"white\",\"ticks\":\"\"}},\"scene\":{\"xaxis\":{\"backgroundcolor\":\"#E5ECF6\",\"gridcolor\":\"white\",\"gridwidth\":2,\"linecolor\":\"white\",\"showbackground\":true,\"ticks\":\"\",\"zerolinecolor\":\"white\"},\"yaxis\":{\"backgroundcolor\":\"#E5ECF6\",\"gridcolor\":\"white\",\"gridwidth\":2,\"linecolor\":\"white\",\"showbackground\":true,\"ticks\":\"\",\"zerolinecolor\":\"white\"},\"zaxis\":{\"backgroundcolor\":\"#E5ECF6\",\"gridcolor\":\"white\",\"gridwidth\":2,\"linecolor\":\"white\",\"showbackground\":true,\"ticks\":\"\",\"zerolinecolor\":\"white\"}},\"shapedefaults\":{\"line\":{\"color\":\"#2a3f5f\"}},\"ternary\":{\"aaxis\":{\"gridcolor\":\"white\",\"linecolor\":\"white\",\"ticks\":\"\"},\"baxis\":{\"gridcolor\":\"white\",\"linecolor\":\"white\",\"ticks\":\"\"},\"bgcolor\":\"#E5ECF6\",\"caxis\":{\"gridcolor\":\"white\",\"linecolor\":\"white\",\"ticks\":\"\"}},\"title\":{\"x\":0.05},\"xaxis\":{\"automargin\":true,\"gridcolor\":\"white\",\"linecolor\":\"white\",\"ticks\":\"\",\"title\":{\"standoff\":15},\"zerolinecolor\":\"white\",\"zerolinewidth\":2},\"yaxis\":{\"automargin\":true,\"gridcolor\":\"white\",\"linecolor\":\"white\",\"ticks\":\"\",\"title\":{\"standoff\":15},\"zerolinecolor\":\"white\",\"zerolinewidth\":2}}},\"title\":{\"font\":{\"color\":\"#4D5663\"}},\"xaxis\":{\"gridcolor\":\"#E1E5ED\",\"showgrid\":true,\"tickfont\":{\"color\":\"#4D5663\"},\"title\":{\"font\":{\"color\":\"#4D5663\"},\"text\":\"\"},\"zerolinecolor\":\"#E1E5ED\"},\"yaxis\":{\"gridcolor\":\"#E1E5ED\",\"showgrid\":true,\"tickfont\":{\"color\":\"#4D5663\"},\"title\":{\"font\":{\"color\":\"#4D5663\"},\"text\":\"\"},\"zerolinecolor\":\"#E1E5ED\"}},                        {\"showLink\": true, \"linkText\": \"Export to plot.ly\", \"plotlyServerURL\": \"https://plot.ly\", \"responsive\": true}                    ).then(function(){\n",
       "                            \n",
       "var gd = document.getElementById('f8128c47-3d24-4e9a-8187-1f60056e9144');\n",
       "var x = new MutationObserver(function (mutations, observer) {{\n",
       "        var display = window.getComputedStyle(gd).display;\n",
       "        if (!display || display === 'none') {{\n",
       "            console.log([gd, 'removed!']);\n",
       "            Plotly.purge(gd);\n",
       "            observer.disconnect();\n",
       "        }}\n",
       "}});\n",
       "\n",
       "// Listen for the removal of the full notebook cells\n",
       "var notebookContainer = gd.closest('#notebook-container');\n",
       "if (notebookContainer) {{\n",
       "    x.observe(notebookContainer, {childList: true});\n",
       "}}\n",
       "\n",
       "// Listen for the clearing of the current output cell\n",
       "var outputEl = gd.closest('.output');\n",
       "if (outputEl) {{\n",
       "    x.observe(outputEl, {childList: true});\n",
       "}}\n",
       "\n",
       "                        })                };                });            </script>        </div>"
      ]
     },
     "metadata": {},
     "output_type": "display_data"
    }
   ],
   "source": [
    "df.iplot(kind='hist')"
   ]
  },
  {
   "cell_type": "code",
   "execution_count": 43,
   "id": "31623648",
   "metadata": {},
   "outputs": [
    {
     "data": {
      "application/vnd.plotly.v1+json": {
       "config": {
        "linkText": "Export to plot.ly",
        "plotlyServerURL": "https://plot.ly",
        "showLink": true
       },
       "data": [
        {
         "line": {
          "color": "rgba(255, 153, 51, 1.0)",
          "dash": "solid",
          "shape": "linear",
          "width": 1.3
         },
         "mode": "lines",
         "name": "A",
         "text": "",
         "type": "scatter",
         "x": [
          0,
          1,
          2,
          3,
          4,
          5,
          6,
          7,
          8,
          9,
          10,
          11,
          12,
          13,
          14,
          15,
          16,
          17,
          18,
          19,
          20,
          21,
          22,
          23,
          24,
          25,
          26,
          27,
          28,
          29,
          30,
          31,
          32,
          33,
          34,
          35,
          36,
          37,
          38,
          39,
          40,
          41,
          42,
          43,
          44,
          45,
          46,
          47,
          48,
          49,
          50,
          51,
          52,
          53,
          54,
          55,
          56,
          57,
          58,
          59,
          60,
          61,
          62,
          63,
          64,
          65,
          66,
          67,
          68,
          69,
          70,
          71,
          72,
          73,
          74,
          75,
          76,
          77,
          78,
          79,
          80,
          81,
          82,
          83,
          84,
          85,
          86,
          87,
          88,
          89,
          90,
          91,
          92,
          93,
          94,
          95,
          96,
          97,
          98,
          99
         ],
         "y": [
          0.2995340644905276,
          0.2205656269030712,
          -1.056174561092009,
          0.7591755781504027,
          0.5326518825067723,
          1.3044295669802999,
          1.3281748768339667,
          -0.09922890207163876,
          0.6072907830909519,
          1.1826119307800274,
          0.3200674123294725,
          -1.3012890682412424,
          0.39931988429912135,
          -0.34879285248827946,
          -0.7832437352797109,
          0.24797886378743955,
          -2.8773605354838225,
          -0.41107805336817005,
          0.5428332832960278,
          -0.34202223323909137,
          0.6703636476801402,
          0.47056109501637966,
          0.5846164712351315,
          -0.8661517063929928,
          0.44216954122070445,
          0.5363106882328338,
          -0.27977714813382293,
          0.4380768982907296,
          -1.4402841454482886,
          0.256393582261463,
          1.6549149482388437,
          -1.3228705669839567,
          -0.7548185531120883,
          0.44297261355922846,
          1.3580577186497258,
          -0.5112296882385694,
          1.5741392211439416,
          0.13109722398933546,
          -1.4680827312451141,
          -0.6059423946677869,
          0.144459267134369,
          0.3021717007693336,
          -0.22744784266075352,
          0.03450363264569284,
          0.05177307263761155,
          0.1399332902663523,
          1.0229527181140547,
          -2.6321782638398714,
          0.7745092754158753,
          -1.5926248522708426,
          -0.7031009714908845,
          0.6710809023395671,
          -0.1438163725324016,
          0.5082776496708439,
          0.0767121365819478,
          0.6457023848381208,
          -0.3580314419038346,
          -0.774839310285214,
          -0.43466021347224676,
          -1.6000577779988623,
          0.5086471535040138,
          0.37958854995049945,
          -1.0104442910961025,
          -0.1514509188462034,
          -0.12732690203447797,
          0.8209231907729551,
          -0.22640327123432807,
          1.4349981836183903,
          0.6890109446047313,
          1.0775411458507147,
          0.29266013334010743,
          0.3923131280672186,
          -0.7821903721721409,
          -1.2087665128305551,
          -0.04005064789093992,
          0.586175941448245,
          -0.39450460865418874,
          0.7192182080202476,
          1.8882833172200184,
          0.8341960000980053,
          0.049935991907428666,
          0.47937322066761195,
          0.07588343334653969,
          -0.2526301622266612,
          -0.5289099932191659,
          -0.10700710269370067,
          -0.4631513345001443,
          -0.3924250958303068,
          1.3819170930309186,
          -1.0229272234878124,
          -0.8612817624400896,
          -1.3485764993188754,
          1.9759061035618044,
          -0.9223448984827978,
          -1.0472531006509647,
          -0.09420726481422516,
          0.13682879551914487,
          -0.6242439989143544,
          -0.6080082561687519,
          -0.335483037163409
         ]
        },
        {
         "line": {
          "color": "rgba(55, 128, 191, 1.0)",
          "dash": "solid",
          "shape": "linear",
          "width": 1.3
         },
         "mode": "lines",
         "name": "B",
         "text": "",
         "type": "scatter",
         "x": [
          0,
          1,
          2,
          3,
          4,
          5,
          6,
          7,
          8,
          9,
          10,
          11,
          12,
          13,
          14,
          15,
          16,
          17,
          18,
          19,
          20,
          21,
          22,
          23,
          24,
          25,
          26,
          27,
          28,
          29,
          30,
          31,
          32,
          33,
          34,
          35,
          36,
          37,
          38,
          39,
          40,
          41,
          42,
          43,
          44,
          45,
          46,
          47,
          48,
          49,
          50,
          51,
          52,
          53,
          54,
          55,
          56,
          57,
          58,
          59,
          60,
          61,
          62,
          63,
          64,
          65,
          66,
          67,
          68,
          69,
          70,
          71,
          72,
          73,
          74,
          75,
          76,
          77,
          78,
          79,
          80,
          81,
          82,
          83,
          84,
          85,
          86,
          87,
          88,
          89,
          90,
          91,
          92,
          93,
          94,
          95,
          96,
          97,
          98,
          99
         ],
         "y": [
          0.6288873106968625,
          1.5552086644040435,
          -0.2020635486518468,
          -0.37421286494601835,
          -1.8901354714158451,
          1.1642455262282074,
          -1.0335669426310594,
          -0.6453012578613595,
          -2.500063217723074,
          0.6208790462589199,
          -0.33919024377178775,
          -0.6323417396484956,
          -1.1042370872644787,
          0.687990530703836,
          -0.29482934295310004,
          -1.760993482777496,
          0.4013839131768914,
          -0.19128337287568414,
          0.38831658519353085,
          1.1022164676082287,
          -0.7658403159220927,
          0.39746202290875726,
          0.05253399825030649,
          -1.2986978680790244,
          0.5516764900142631,
          0.9594352288580066,
          -1.6176146758116843,
          0.566234817380164,
          0.03291261568889055,
          -0.10412367010856544,
          0.18813480982253722,
          0.33139764237225916,
          -0.4352051883947046,
          -0.1850665849362166,
          1.977129824661224,
          -0.716727900543721,
          -0.9962485346727465,
          2.1457330602622915,
          1.4786805379182806,
          -0.3073961040236371,
          0.5190635210197534,
          -0.2977117536092024,
          1.07655420499391,
          1.6402869584964106,
          -0.6736312859201243,
          -0.5421796901027264,
          0.2609352631947877,
          -0.2243329499018594,
          0.1421432931661823,
          1.093261930610181,
          0.30912184023215555,
          0.5274847296838001,
          -0.8482473955350368,
          -1.1740459296667167,
          0.12050195080175524,
          0.6917000321710234,
          -0.24954254013796354,
          -0.0555574867666861,
          -0.11674030611528681,
          -1.334786476612104,
          -0.7223974650682061,
          1.4343193468848872,
          -1.3171815064176886,
          -0.6898579117892474,
          -0.30456626778121365,
          -0.38585924100511965,
          -0.8134747561637852,
          2.010879165813113,
          1.8244088747007474,
          -0.3670493932221158,
          0.03065143496118238,
          -0.6766752794932412,
          -0.21596160514515156,
          -0.3343960409842762,
          -0.5872454814216169,
          -0.2983674285813973,
          0.2681694412271725,
          -0.5871780526557453,
          0.6345911247702245,
          -0.48125080520848557,
          -1.537351065621091,
          0.6715502994413234,
          -0.7553536888819133,
          0.7274770340599817,
          0.38331131279465536,
          0.20240429935781595,
          -0.03698531065937211,
          0.7746536546150867,
          -0.12743883677501958,
          -0.6009991380090095,
          0.7150308408538082,
          0.8401271366581022,
          -1.8596498898007021,
          -1.3339806032828878,
          -0.22198748420879716,
          -1.8428750875481898,
          0.4064685378532878,
          -0.1475973932807723,
          -0.8804055552297537,
          -1.580823041015511
         ]
        },
        {
         "connectgaps": false,
         "fill": "tozeroy",
         "line": {
          "color": "green",
          "dash": "solid",
          "shape": "linear",
          "width": 0.5
         },
         "mode": "lines",
         "name": "Spread",
         "showlegend": false,
         "type": "scatter",
         "x": [
          0,
          1,
          2,
          3,
          4,
          5,
          6,
          7,
          8,
          9,
          10,
          11,
          12,
          13,
          14,
          15,
          16,
          17,
          18,
          19,
          20,
          21,
          22,
          23,
          24,
          25,
          26,
          27,
          28,
          29,
          30,
          31,
          32,
          33,
          34,
          35,
          36,
          37,
          38,
          39,
          40,
          41,
          42,
          43,
          44,
          45,
          46,
          47,
          48,
          49,
          50,
          51,
          52,
          53,
          54,
          55,
          56,
          57,
          58,
          59,
          60,
          61,
          62,
          63,
          64,
          65,
          66,
          67,
          68,
          69,
          70,
          71,
          72,
          73,
          74,
          75,
          76,
          77,
          78,
          79,
          80,
          81,
          82,
          83,
          84,
          85,
          86,
          87,
          88,
          89,
          90,
          91,
          92,
          93,
          94,
          95,
          96,
          97,
          98,
          99
         ],
         "xaxis": "x2",
         "y": [
          "",
          "",
          "",
          1.133388443096421,
          2.4227873539226175,
          0.14018404075209245,
          2.361741819465026,
          0.5460723557897207,
          3.107354000814026,
          0.5617328845211075,
          0.6592576561012602,
          "",
          1.5035569715636,
          "",
          "",
          2.0089723465649354,
          "",
          "",
          0.1545166981024969,
          "",
          1.436203963602233,
          0.0730990721076224,
          0.532082472984825,
          0.43254616168603166,
          "",
          "",
          1.3378375276778613,
          "",
          "",
          0.36051725237002846,
          1.4667801384163064,
          "",
          "",
          0.6280391984954451,
          "",
          0.20549821230515164,
          2.570387755816688,
          "",
          "",
          "",
          "",
          0.599883454378536,
          "",
          "",
          0.7254043585577359,
          0.6821129803690786,
          0.7620174549192671,
          "",
          0.632365982249693,
          "",
          "",
          0.14359617265576696,
          0.7044310230026352,
          1.6823235793375606,
          "",
          "",
          "",
          "",
          "",
          "",
          1.23104461857222,
          "",
          0.30673721532158615,
          0.538406992943044,
          0.17723936574673568,
          1.2067824317780746,
          0.5870714849294572,
          "",
          "",
          1.4445905390728306,
          0.26200869837892504,
          1.0689884075604599,
          "",
          "",
          0.547194833530677,
          0.8845433700296423,
          "",
          1.306396260675993,
          1.253692192449794,
          1.315446805306491,
          1.5872870575285196,
          "",
          0.831237122228453,
          "",
          "",
          "",
          "",
          "",
          1.5093559298059382,
          "",
          "",
          "",
          3.8355559933625063,
          0.41163570480009004,
          "",
          1.7486678227339647,
          "",
          "",
          0.27239729906100185,
          1.245340003852102
         ],
         "yaxis": "y2"
        },
        {
         "connectgaps": false,
         "fill": "tozeroy",
         "line": {
          "color": "red",
          "dash": "solid",
          "shape": "linear",
          "width": 0.5
         },
         "mode": "lines",
         "name": "Spread",
         "showlegend": false,
         "type": "scatter",
         "x": [
          0,
          1,
          2,
          3,
          4,
          5,
          6,
          7,
          8,
          9,
          10,
          11,
          12,
          13,
          14,
          15,
          16,
          17,
          18,
          19,
          20,
          21,
          22,
          23,
          24,
          25,
          26,
          27,
          28,
          29,
          30,
          31,
          32,
          33,
          34,
          35,
          36,
          37,
          38,
          39,
          40,
          41,
          42,
          43,
          44,
          45,
          46,
          47,
          48,
          49,
          50,
          51,
          52,
          53,
          54,
          55,
          56,
          57,
          58,
          59,
          60,
          61,
          62,
          63,
          64,
          65,
          66,
          67,
          68,
          69,
          70,
          71,
          72,
          73,
          74,
          75,
          76,
          77,
          78,
          79,
          80,
          81,
          82,
          83,
          84,
          85,
          86,
          87,
          88,
          89,
          90,
          91,
          92,
          93,
          94,
          95,
          96,
          97,
          98,
          99
         ],
         "xaxis": "x2",
         "y": [
          -0.32935324620633494,
          -1.3346430375009724,
          -0.8541110124401622,
          "",
          "",
          "",
          "",
          "",
          "",
          "",
          "",
          -0.6689473285927467,
          "",
          -1.0367833831921154,
          -0.4884143923266109,
          "",
          -3.278744448660714,
          -0.2197946804924859,
          "",
          -1.44423870084732,
          "",
          "",
          "",
          "",
          -0.10950694879355866,
          -0.4231245406251728,
          "",
          -0.1281579190894344,
          -1.4731967611371792,
          "",
          "",
          -1.6542682093562158,
          -0.3196133647173837,
          "",
          -0.6190721060114981,
          "",
          "",
          -2.014635836272956,
          -2.9467632691633945,
          -0.2985462906441498,
          -0.37460425388538443,
          "",
          -1.3040020476546637,
          -1.6057833258507177,
          "",
          "",
          "",
          -2.407845313938012,
          "",
          -2.6858867828810236,
          -1.01222281172304,
          "",
          "",
          "",
          -0.043789814219807446,
          -0.04599764733290257,
          -0.10848890176587109,
          -0.7192818235185279,
          -0.31791990735695996,
          -0.26527130138675825,
          "",
          -1.0547307969343878,
          "",
          "",
          "",
          "",
          "",
          -0.5758809821947228,
          -1.135397930096016,
          "",
          "",
          "",
          -0.5662287670269894,
          -0.8743704718462789,
          "",
          "",
          -0.6626740498813612,
          "",
          "",
          "",
          "",
          -0.19217707877371143,
          "",
          -0.9801071962866428,
          -0.9122213060138212,
          -0.3094114020515166,
          -0.4261660238407722,
          -1.1670787504453934,
          "",
          -0.4219280854788029,
          -1.5763126032938977,
          -2.1887036359769776,
          "",
          "",
          -0.8252656164421674,
          "",
          -0.2696397423341429,
          -0.4766466056335822,
          "",
          ""
         ],
         "yaxis": "y2"
        }
       ],
       "layout": {
        "hovermode": "x",
        "legend": {
         "bgcolor": "#F5F6F9",
         "font": {
          "color": "#4D5663"
         }
        },
        "paper_bgcolor": "#F5F6F9",
        "plot_bgcolor": "#F5F6F9",
        "template": {
         "data": {
          "bar": [
           {
            "error_x": {
             "color": "#2a3f5f"
            },
            "error_y": {
             "color": "#2a3f5f"
            },
            "marker": {
             "line": {
              "color": "#E5ECF6",
              "width": 0.5
             },
             "pattern": {
              "fillmode": "overlay",
              "size": 10,
              "solidity": 0.2
             }
            },
            "type": "bar"
           }
          ],
          "barpolar": [
           {
            "marker": {
             "line": {
              "color": "#E5ECF6",
              "width": 0.5
             },
             "pattern": {
              "fillmode": "overlay",
              "size": 10,
              "solidity": 0.2
             }
            },
            "type": "barpolar"
           }
          ],
          "carpet": [
           {
            "aaxis": {
             "endlinecolor": "#2a3f5f",
             "gridcolor": "white",
             "linecolor": "white",
             "minorgridcolor": "white",
             "startlinecolor": "#2a3f5f"
            },
            "baxis": {
             "endlinecolor": "#2a3f5f",
             "gridcolor": "white",
             "linecolor": "white",
             "minorgridcolor": "white",
             "startlinecolor": "#2a3f5f"
            },
            "type": "carpet"
           }
          ],
          "choropleth": [
           {
            "colorbar": {
             "outlinewidth": 0,
             "ticks": ""
            },
            "type": "choropleth"
           }
          ],
          "contour": [
           {
            "colorbar": {
             "outlinewidth": 0,
             "ticks": ""
            },
            "colorscale": [
             [
              0,
              "#0d0887"
             ],
             [
              0.1111111111111111,
              "#46039f"
             ],
             [
              0.2222222222222222,
              "#7201a8"
             ],
             [
              0.3333333333333333,
              "#9c179e"
             ],
             [
              0.4444444444444444,
              "#bd3786"
             ],
             [
              0.5555555555555556,
              "#d8576b"
             ],
             [
              0.6666666666666666,
              "#ed7953"
             ],
             [
              0.7777777777777778,
              "#fb9f3a"
             ],
             [
              0.8888888888888888,
              "#fdca26"
             ],
             [
              1,
              "#f0f921"
             ]
            ],
            "type": "contour"
           }
          ],
          "contourcarpet": [
           {
            "colorbar": {
             "outlinewidth": 0,
             "ticks": ""
            },
            "type": "contourcarpet"
           }
          ],
          "heatmap": [
           {
            "colorbar": {
             "outlinewidth": 0,
             "ticks": ""
            },
            "colorscale": [
             [
              0,
              "#0d0887"
             ],
             [
              0.1111111111111111,
              "#46039f"
             ],
             [
              0.2222222222222222,
              "#7201a8"
             ],
             [
              0.3333333333333333,
              "#9c179e"
             ],
             [
              0.4444444444444444,
              "#bd3786"
             ],
             [
              0.5555555555555556,
              "#d8576b"
             ],
             [
              0.6666666666666666,
              "#ed7953"
             ],
             [
              0.7777777777777778,
              "#fb9f3a"
             ],
             [
              0.8888888888888888,
              "#fdca26"
             ],
             [
              1,
              "#f0f921"
             ]
            ],
            "type": "heatmap"
           }
          ],
          "heatmapgl": [
           {
            "colorbar": {
             "outlinewidth": 0,
             "ticks": ""
            },
            "colorscale": [
             [
              0,
              "#0d0887"
             ],
             [
              0.1111111111111111,
              "#46039f"
             ],
             [
              0.2222222222222222,
              "#7201a8"
             ],
             [
              0.3333333333333333,
              "#9c179e"
             ],
             [
              0.4444444444444444,
              "#bd3786"
             ],
             [
              0.5555555555555556,
              "#d8576b"
             ],
             [
              0.6666666666666666,
              "#ed7953"
             ],
             [
              0.7777777777777778,
              "#fb9f3a"
             ],
             [
              0.8888888888888888,
              "#fdca26"
             ],
             [
              1,
              "#f0f921"
             ]
            ],
            "type": "heatmapgl"
           }
          ],
          "histogram": [
           {
            "marker": {
             "pattern": {
              "fillmode": "overlay",
              "size": 10,
              "solidity": 0.2
             }
            },
            "type": "histogram"
           }
          ],
          "histogram2d": [
           {
            "colorbar": {
             "outlinewidth": 0,
             "ticks": ""
            },
            "colorscale": [
             [
              0,
              "#0d0887"
             ],
             [
              0.1111111111111111,
              "#46039f"
             ],
             [
              0.2222222222222222,
              "#7201a8"
             ],
             [
              0.3333333333333333,
              "#9c179e"
             ],
             [
              0.4444444444444444,
              "#bd3786"
             ],
             [
              0.5555555555555556,
              "#d8576b"
             ],
             [
              0.6666666666666666,
              "#ed7953"
             ],
             [
              0.7777777777777778,
              "#fb9f3a"
             ],
             [
              0.8888888888888888,
              "#fdca26"
             ],
             [
              1,
              "#f0f921"
             ]
            ],
            "type": "histogram2d"
           }
          ],
          "histogram2dcontour": [
           {
            "colorbar": {
             "outlinewidth": 0,
             "ticks": ""
            },
            "colorscale": [
             [
              0,
              "#0d0887"
             ],
             [
              0.1111111111111111,
              "#46039f"
             ],
             [
              0.2222222222222222,
              "#7201a8"
             ],
             [
              0.3333333333333333,
              "#9c179e"
             ],
             [
              0.4444444444444444,
              "#bd3786"
             ],
             [
              0.5555555555555556,
              "#d8576b"
             ],
             [
              0.6666666666666666,
              "#ed7953"
             ],
             [
              0.7777777777777778,
              "#fb9f3a"
             ],
             [
              0.8888888888888888,
              "#fdca26"
             ],
             [
              1,
              "#f0f921"
             ]
            ],
            "type": "histogram2dcontour"
           }
          ],
          "mesh3d": [
           {
            "colorbar": {
             "outlinewidth": 0,
             "ticks": ""
            },
            "type": "mesh3d"
           }
          ],
          "parcoords": [
           {
            "line": {
             "colorbar": {
              "outlinewidth": 0,
              "ticks": ""
             }
            },
            "type": "parcoords"
           }
          ],
          "pie": [
           {
            "automargin": true,
            "type": "pie"
           }
          ],
          "scatter": [
           {
            "fillpattern": {
             "fillmode": "overlay",
             "size": 10,
             "solidity": 0.2
            },
            "type": "scatter"
           }
          ],
          "scatter3d": [
           {
            "line": {
             "colorbar": {
              "outlinewidth": 0,
              "ticks": ""
             }
            },
            "marker": {
             "colorbar": {
              "outlinewidth": 0,
              "ticks": ""
             }
            },
            "type": "scatter3d"
           }
          ],
          "scattercarpet": [
           {
            "marker": {
             "colorbar": {
              "outlinewidth": 0,
              "ticks": ""
             }
            },
            "type": "scattercarpet"
           }
          ],
          "scattergeo": [
           {
            "marker": {
             "colorbar": {
              "outlinewidth": 0,
              "ticks": ""
             }
            },
            "type": "scattergeo"
           }
          ],
          "scattergl": [
           {
            "marker": {
             "colorbar": {
              "outlinewidth": 0,
              "ticks": ""
             }
            },
            "type": "scattergl"
           }
          ],
          "scattermapbox": [
           {
            "marker": {
             "colorbar": {
              "outlinewidth": 0,
              "ticks": ""
             }
            },
            "type": "scattermapbox"
           }
          ],
          "scatterpolar": [
           {
            "marker": {
             "colorbar": {
              "outlinewidth": 0,
              "ticks": ""
             }
            },
            "type": "scatterpolar"
           }
          ],
          "scatterpolargl": [
           {
            "marker": {
             "colorbar": {
              "outlinewidth": 0,
              "ticks": ""
             }
            },
            "type": "scatterpolargl"
           }
          ],
          "scatterternary": [
           {
            "marker": {
             "colorbar": {
              "outlinewidth": 0,
              "ticks": ""
             }
            },
            "type": "scatterternary"
           }
          ],
          "surface": [
           {
            "colorbar": {
             "outlinewidth": 0,
             "ticks": ""
            },
            "colorscale": [
             [
              0,
              "#0d0887"
             ],
             [
              0.1111111111111111,
              "#46039f"
             ],
             [
              0.2222222222222222,
              "#7201a8"
             ],
             [
              0.3333333333333333,
              "#9c179e"
             ],
             [
              0.4444444444444444,
              "#bd3786"
             ],
             [
              0.5555555555555556,
              "#d8576b"
             ],
             [
              0.6666666666666666,
              "#ed7953"
             ],
             [
              0.7777777777777778,
              "#fb9f3a"
             ],
             [
              0.8888888888888888,
              "#fdca26"
             ],
             [
              1,
              "#f0f921"
             ]
            ],
            "type": "surface"
           }
          ],
          "table": [
           {
            "cells": {
             "fill": {
              "color": "#EBF0F8"
             },
             "line": {
              "color": "white"
             }
            },
            "header": {
             "fill": {
              "color": "#C8D4E3"
             },
             "line": {
              "color": "white"
             }
            },
            "type": "table"
           }
          ]
         },
         "layout": {
          "annotationdefaults": {
           "arrowcolor": "#2a3f5f",
           "arrowhead": 0,
           "arrowwidth": 1
          },
          "autotypenumbers": "strict",
          "coloraxis": {
           "colorbar": {
            "outlinewidth": 0,
            "ticks": ""
           }
          },
          "colorscale": {
           "diverging": [
            [
             0,
             "#8e0152"
            ],
            [
             0.1,
             "#c51b7d"
            ],
            [
             0.2,
             "#de77ae"
            ],
            [
             0.3,
             "#f1b6da"
            ],
            [
             0.4,
             "#fde0ef"
            ],
            [
             0.5,
             "#f7f7f7"
            ],
            [
             0.6,
             "#e6f5d0"
            ],
            [
             0.7,
             "#b8e186"
            ],
            [
             0.8,
             "#7fbc41"
            ],
            [
             0.9,
             "#4d9221"
            ],
            [
             1,
             "#276419"
            ]
           ],
           "sequential": [
            [
             0,
             "#0d0887"
            ],
            [
             0.1111111111111111,
             "#46039f"
            ],
            [
             0.2222222222222222,
             "#7201a8"
            ],
            [
             0.3333333333333333,
             "#9c179e"
            ],
            [
             0.4444444444444444,
             "#bd3786"
            ],
            [
             0.5555555555555556,
             "#d8576b"
            ],
            [
             0.6666666666666666,
             "#ed7953"
            ],
            [
             0.7777777777777778,
             "#fb9f3a"
            ],
            [
             0.8888888888888888,
             "#fdca26"
            ],
            [
             1,
             "#f0f921"
            ]
           ],
           "sequentialminus": [
            [
             0,
             "#0d0887"
            ],
            [
             0.1111111111111111,
             "#46039f"
            ],
            [
             0.2222222222222222,
             "#7201a8"
            ],
            [
             0.3333333333333333,
             "#9c179e"
            ],
            [
             0.4444444444444444,
             "#bd3786"
            ],
            [
             0.5555555555555556,
             "#d8576b"
            ],
            [
             0.6666666666666666,
             "#ed7953"
            ],
            [
             0.7777777777777778,
             "#fb9f3a"
            ],
            [
             0.8888888888888888,
             "#fdca26"
            ],
            [
             1,
             "#f0f921"
            ]
           ]
          },
          "colorway": [
           "#636efa",
           "#EF553B",
           "#00cc96",
           "#ab63fa",
           "#FFA15A",
           "#19d3f3",
           "#FF6692",
           "#B6E880",
           "#FF97FF",
           "#FECB52"
          ],
          "font": {
           "color": "#2a3f5f"
          },
          "geo": {
           "bgcolor": "white",
           "lakecolor": "white",
           "landcolor": "#E5ECF6",
           "showlakes": true,
           "showland": true,
           "subunitcolor": "white"
          },
          "hoverlabel": {
           "align": "left"
          },
          "hovermode": "closest",
          "mapbox": {
           "style": "light"
          },
          "paper_bgcolor": "white",
          "plot_bgcolor": "#E5ECF6",
          "polar": {
           "angularaxis": {
            "gridcolor": "white",
            "linecolor": "white",
            "ticks": ""
           },
           "bgcolor": "#E5ECF6",
           "radialaxis": {
            "gridcolor": "white",
            "linecolor": "white",
            "ticks": ""
           }
          },
          "scene": {
           "xaxis": {
            "backgroundcolor": "#E5ECF6",
            "gridcolor": "white",
            "gridwidth": 2,
            "linecolor": "white",
            "showbackground": true,
            "ticks": "",
            "zerolinecolor": "white"
           },
           "yaxis": {
            "backgroundcolor": "#E5ECF6",
            "gridcolor": "white",
            "gridwidth": 2,
            "linecolor": "white",
            "showbackground": true,
            "ticks": "",
            "zerolinecolor": "white"
           },
           "zaxis": {
            "backgroundcolor": "#E5ECF6",
            "gridcolor": "white",
            "gridwidth": 2,
            "linecolor": "white",
            "showbackground": true,
            "ticks": "",
            "zerolinecolor": "white"
           }
          },
          "shapedefaults": {
           "line": {
            "color": "#2a3f5f"
           }
          },
          "ternary": {
           "aaxis": {
            "gridcolor": "white",
            "linecolor": "white",
            "ticks": ""
           },
           "baxis": {
            "gridcolor": "white",
            "linecolor": "white",
            "ticks": ""
           },
           "bgcolor": "#E5ECF6",
           "caxis": {
            "gridcolor": "white",
            "linecolor": "white",
            "ticks": ""
           }
          },
          "title": {
           "x": 0.05
          },
          "xaxis": {
           "automargin": true,
           "gridcolor": "white",
           "linecolor": "white",
           "ticks": "",
           "title": {
            "standoff": 15
           },
           "zerolinecolor": "white",
           "zerolinewidth": 2
          },
          "yaxis": {
           "automargin": true,
           "gridcolor": "white",
           "linecolor": "white",
           "ticks": "",
           "title": {
            "standoff": 15
           },
           "zerolinecolor": "white",
           "zerolinewidth": 2
          }
         }
        },
        "title": {
         "font": {
          "color": "#4D5663"
         }
        },
        "xaxis": {
         "gridcolor": "#E1E5ED",
         "showgrid": true,
         "tickfont": {
          "color": "#4D5663"
         },
         "title": {
          "font": {
           "color": "#4D5663"
          },
          "text": ""
         },
         "zerolinecolor": "#E1E5ED"
        },
        "xaxis2": {
         "anchor": "y2",
         "gridcolor": "#E1E5ED",
         "showgrid": true,
         "showticklabels": false,
         "tickfont": {
          "color": "#4D5663"
         },
         "title": {
          "font": {
           "color": "#4D5663"
          },
          "text": ""
         },
         "zerolinecolor": "#E1E5ED"
        },
        "yaxis": {
         "domain": [
          0.3,
          1
         ],
         "gridcolor": "#E1E5ED",
         "showgrid": true,
         "tickfont": {
          "color": "#4D5663"
         },
         "title": {
          "font": {
           "color": "#4D5663"
          },
          "text": ""
         },
         "zerolinecolor": "#E1E5ED"
        },
        "yaxis2": {
         "domain": [
          0,
          0.25
         ],
         "gridcolor": "#E1E5ED",
         "showgrid": true,
         "tickfont": {
          "color": "#4D5663"
         },
         "title": {
          "font": {
           "color": "#4D5663"
          },
          "text": "Spread"
         },
         "zerolinecolor": "#E1E5ED"
        }
       }
      },
      "text/html": [
       "<div>                            <div id=\"3d35b595-b543-429c-a498-479f4c252893\" class=\"plotly-graph-div\" style=\"height:525px; width:100%;\"></div>            <script type=\"text/javascript\">                require([\"plotly\"], function(Plotly) {                    window.PLOTLYENV=window.PLOTLYENV || {};\n",
       "                    window.PLOTLYENV.BASE_URL='https://plot.ly';                                    if (document.getElementById(\"3d35b595-b543-429c-a498-479f4c252893\")) {                    Plotly.newPlot(                        \"3d35b595-b543-429c-a498-479f4c252893\",                        [{\"line\":{\"color\":\"rgba(255, 153, 51, 1.0)\",\"dash\":\"solid\",\"shape\":\"linear\",\"width\":1.3},\"mode\":\"lines\",\"name\":\"A\",\"text\":\"\",\"x\":[0,1,2,3,4,5,6,7,8,9,10,11,12,13,14,15,16,17,18,19,20,21,22,23,24,25,26,27,28,29,30,31,32,33,34,35,36,37,38,39,40,41,42,43,44,45,46,47,48,49,50,51,52,53,54,55,56,57,58,59,60,61,62,63,64,65,66,67,68,69,70,71,72,73,74,75,76,77,78,79,80,81,82,83,84,85,86,87,88,89,90,91,92,93,94,95,96,97,98,99],\"y\":[0.2995340644905276,0.2205656269030712,-1.056174561092009,0.7591755781504027,0.5326518825067723,1.3044295669802999,1.3281748768339667,-0.09922890207163876,0.6072907830909519,1.1826119307800274,0.3200674123294725,-1.3012890682412424,0.39931988429912135,-0.34879285248827946,-0.7832437352797109,0.24797886378743955,-2.8773605354838225,-0.41107805336817005,0.5428332832960278,-0.34202223323909137,0.6703636476801402,0.47056109501637966,0.5846164712351315,-0.8661517063929928,0.44216954122070445,0.5363106882328338,-0.27977714813382293,0.4380768982907296,-1.4402841454482886,0.256393582261463,1.6549149482388437,-1.3228705669839567,-0.7548185531120883,0.44297261355922846,1.3580577186497258,-0.5112296882385694,1.5741392211439416,0.13109722398933546,-1.4680827312451141,-0.6059423946677869,0.144459267134369,0.3021717007693336,-0.22744784266075352,0.03450363264569284,0.05177307263761155,0.1399332902663523,1.0229527181140547,-2.6321782638398714,0.7745092754158753,-1.5926248522708426,-0.7031009714908845,0.6710809023395671,-0.1438163725324016,0.5082776496708439,0.0767121365819478,0.6457023848381208,-0.3580314419038346,-0.774839310285214,-0.43466021347224676,-1.6000577779988623,0.5086471535040138,0.37958854995049945,-1.0104442910961025,-0.1514509188462034,-0.12732690203447797,0.8209231907729551,-0.22640327123432807,1.4349981836183903,0.6890109446047313,1.0775411458507147,0.29266013334010743,0.3923131280672186,-0.7821903721721409,-1.2087665128305551,-0.04005064789093992,0.586175941448245,-0.39450460865418874,0.7192182080202476,1.8882833172200184,0.8341960000980053,0.049935991907428666,0.47937322066761195,0.07588343334653969,-0.2526301622266612,-0.5289099932191659,-0.10700710269370067,-0.4631513345001443,-0.3924250958303068,1.3819170930309186,-1.0229272234878124,-0.8612817624400896,-1.3485764993188754,1.9759061035618044,-0.9223448984827978,-1.0472531006509647,-0.09420726481422516,0.13682879551914487,-0.6242439989143544,-0.6080082561687519,-0.335483037163409],\"type\":\"scatter\"},{\"line\":{\"color\":\"rgba(55, 128, 191, 1.0)\",\"dash\":\"solid\",\"shape\":\"linear\",\"width\":1.3},\"mode\":\"lines\",\"name\":\"B\",\"text\":\"\",\"x\":[0,1,2,3,4,5,6,7,8,9,10,11,12,13,14,15,16,17,18,19,20,21,22,23,24,25,26,27,28,29,30,31,32,33,34,35,36,37,38,39,40,41,42,43,44,45,46,47,48,49,50,51,52,53,54,55,56,57,58,59,60,61,62,63,64,65,66,67,68,69,70,71,72,73,74,75,76,77,78,79,80,81,82,83,84,85,86,87,88,89,90,91,92,93,94,95,96,97,98,99],\"y\":[0.6288873106968625,1.5552086644040435,-0.2020635486518468,-0.37421286494601835,-1.8901354714158451,1.1642455262282074,-1.0335669426310594,-0.6453012578613595,-2.500063217723074,0.6208790462589199,-0.33919024377178775,-0.6323417396484956,-1.1042370872644787,0.687990530703836,-0.29482934295310004,-1.760993482777496,0.4013839131768914,-0.19128337287568414,0.38831658519353085,1.1022164676082287,-0.7658403159220927,0.39746202290875726,0.05253399825030649,-1.2986978680790244,0.5516764900142631,0.9594352288580066,-1.6176146758116843,0.566234817380164,0.03291261568889055,-0.10412367010856544,0.18813480982253722,0.33139764237225916,-0.4352051883947046,-0.1850665849362166,1.977129824661224,-0.716727900543721,-0.9962485346727465,2.1457330602622915,1.4786805379182806,-0.3073961040236371,0.5190635210197534,-0.2977117536092024,1.07655420499391,1.6402869584964106,-0.6736312859201243,-0.5421796901027264,0.2609352631947877,-0.2243329499018594,0.1421432931661823,1.093261930610181,0.30912184023215555,0.5274847296838001,-0.8482473955350368,-1.1740459296667167,0.12050195080175524,0.6917000321710234,-0.24954254013796354,-0.0555574867666861,-0.11674030611528681,-1.334786476612104,-0.7223974650682061,1.4343193468848872,-1.3171815064176886,-0.6898579117892474,-0.30456626778121365,-0.38585924100511965,-0.8134747561637852,2.010879165813113,1.8244088747007474,-0.3670493932221158,0.03065143496118238,-0.6766752794932412,-0.21596160514515156,-0.3343960409842762,-0.5872454814216169,-0.2983674285813973,0.2681694412271725,-0.5871780526557453,0.6345911247702245,-0.48125080520848557,-1.537351065621091,0.6715502994413234,-0.7553536888819133,0.7274770340599817,0.38331131279465536,0.20240429935781595,-0.03698531065937211,0.7746536546150867,-0.12743883677501958,-0.6009991380090095,0.7150308408538082,0.8401271366581022,-1.8596498898007021,-1.3339806032828878,-0.22198748420879716,-1.8428750875481898,0.4064685378532878,-0.1475973932807723,-0.8804055552297537,-1.580823041015511],\"type\":\"scatter\"},{\"connectgaps\":false,\"fill\":\"tozeroy\",\"line\":{\"color\":\"green\",\"dash\":\"solid\",\"shape\":\"linear\",\"width\":0.5},\"mode\":\"lines\",\"name\":\"Spread\",\"showlegend\":false,\"x\":[0,1,2,3,4,5,6,7,8,9,10,11,12,13,14,15,16,17,18,19,20,21,22,23,24,25,26,27,28,29,30,31,32,33,34,35,36,37,38,39,40,41,42,43,44,45,46,47,48,49,50,51,52,53,54,55,56,57,58,59,60,61,62,63,64,65,66,67,68,69,70,71,72,73,74,75,76,77,78,79,80,81,82,83,84,85,86,87,88,89,90,91,92,93,94,95,96,97,98,99],\"xaxis\":\"x2\",\"y\":[\"\",\"\",\"\",1.133388443096421,2.4227873539226175,0.14018404075209245,2.361741819465026,0.5460723557897207,3.107354000814026,0.5617328845211075,0.6592576561012602,\"\",1.5035569715636,\"\",\"\",2.0089723465649354,\"\",\"\",0.1545166981024969,\"\",1.436203963602233,0.0730990721076224,0.532082472984825,0.43254616168603166,\"\",\"\",1.3378375276778613,\"\",\"\",0.36051725237002846,1.4667801384163064,\"\",\"\",0.6280391984954451,\"\",0.20549821230515164,2.570387755816688,\"\",\"\",\"\",\"\",0.599883454378536,\"\",\"\",0.7254043585577359,0.6821129803690786,0.7620174549192671,\"\",0.632365982249693,\"\",\"\",0.14359617265576696,0.7044310230026352,1.6823235793375606,\"\",\"\",\"\",\"\",\"\",\"\",1.23104461857222,\"\",0.30673721532158615,0.538406992943044,0.17723936574673568,1.2067824317780746,0.5870714849294572,\"\",\"\",1.4445905390728306,0.26200869837892504,1.0689884075604599,\"\",\"\",0.547194833530677,0.8845433700296423,\"\",1.306396260675993,1.253692192449794,1.315446805306491,1.5872870575285196,\"\",0.831237122228453,\"\",\"\",\"\",\"\",\"\",1.5093559298059382,\"\",\"\",\"\",3.8355559933625063,0.41163570480009004,\"\",1.7486678227339647,\"\",\"\",0.27239729906100185,1.245340003852102],\"yaxis\":\"y2\",\"type\":\"scatter\"},{\"connectgaps\":false,\"fill\":\"tozeroy\",\"line\":{\"color\":\"red\",\"dash\":\"solid\",\"shape\":\"linear\",\"width\":0.5},\"mode\":\"lines\",\"name\":\"Spread\",\"showlegend\":false,\"x\":[0,1,2,3,4,5,6,7,8,9,10,11,12,13,14,15,16,17,18,19,20,21,22,23,24,25,26,27,28,29,30,31,32,33,34,35,36,37,38,39,40,41,42,43,44,45,46,47,48,49,50,51,52,53,54,55,56,57,58,59,60,61,62,63,64,65,66,67,68,69,70,71,72,73,74,75,76,77,78,79,80,81,82,83,84,85,86,87,88,89,90,91,92,93,94,95,96,97,98,99],\"xaxis\":\"x2\",\"y\":[-0.32935324620633494,-1.3346430375009724,-0.8541110124401622,\"\",\"\",\"\",\"\",\"\",\"\",\"\",\"\",-0.6689473285927467,\"\",-1.0367833831921154,-0.4884143923266109,\"\",-3.278744448660714,-0.2197946804924859,\"\",-1.44423870084732,\"\",\"\",\"\",\"\",-0.10950694879355866,-0.4231245406251728,\"\",-0.1281579190894344,-1.4731967611371792,\"\",\"\",-1.6542682093562158,-0.3196133647173837,\"\",-0.6190721060114981,\"\",\"\",-2.014635836272956,-2.9467632691633945,-0.2985462906441498,-0.37460425388538443,\"\",-1.3040020476546637,-1.6057833258507177,\"\",\"\",\"\",-2.407845313938012,\"\",-2.6858867828810236,-1.01222281172304,\"\",\"\",\"\",-0.043789814219807446,-0.04599764733290257,-0.10848890176587109,-0.7192818235185279,-0.31791990735695996,-0.26527130138675825,\"\",-1.0547307969343878,\"\",\"\",\"\",\"\",\"\",-0.5758809821947228,-1.135397930096016,\"\",\"\",\"\",-0.5662287670269894,-0.8743704718462789,\"\",\"\",-0.6626740498813612,\"\",\"\",\"\",\"\",-0.19217707877371143,\"\",-0.9801071962866428,-0.9122213060138212,-0.3094114020515166,-0.4261660238407722,-1.1670787504453934,\"\",-0.4219280854788029,-1.5763126032938977,-2.1887036359769776,\"\",\"\",-0.8252656164421674,\"\",-0.2696397423341429,-0.4766466056335822,\"\",\"\"],\"yaxis\":\"y2\",\"type\":\"scatter\"}],                        {\"hovermode\":\"x\",\"legend\":{\"bgcolor\":\"#F5F6F9\",\"font\":{\"color\":\"#4D5663\"}},\"paper_bgcolor\":\"#F5F6F9\",\"plot_bgcolor\":\"#F5F6F9\",\"template\":{\"data\":{\"barpolar\":[{\"marker\":{\"line\":{\"color\":\"#E5ECF6\",\"width\":0.5},\"pattern\":{\"fillmode\":\"overlay\",\"size\":10,\"solidity\":0.2}},\"type\":\"barpolar\"}],\"bar\":[{\"error_x\":{\"color\":\"#2a3f5f\"},\"error_y\":{\"color\":\"#2a3f5f\"},\"marker\":{\"line\":{\"color\":\"#E5ECF6\",\"width\":0.5},\"pattern\":{\"fillmode\":\"overlay\",\"size\":10,\"solidity\":0.2}},\"type\":\"bar\"}],\"carpet\":[{\"aaxis\":{\"endlinecolor\":\"#2a3f5f\",\"gridcolor\":\"white\",\"linecolor\":\"white\",\"minorgridcolor\":\"white\",\"startlinecolor\":\"#2a3f5f\"},\"baxis\":{\"endlinecolor\":\"#2a3f5f\",\"gridcolor\":\"white\",\"linecolor\":\"white\",\"minorgridcolor\":\"white\",\"startlinecolor\":\"#2a3f5f\"},\"type\":\"carpet\"}],\"choropleth\":[{\"colorbar\":{\"outlinewidth\":0,\"ticks\":\"\"},\"type\":\"choropleth\"}],\"contourcarpet\":[{\"colorbar\":{\"outlinewidth\":0,\"ticks\":\"\"},\"type\":\"contourcarpet\"}],\"contour\":[{\"colorbar\":{\"outlinewidth\":0,\"ticks\":\"\"},\"colorscale\":[[0.0,\"#0d0887\"],[0.1111111111111111,\"#46039f\"],[0.2222222222222222,\"#7201a8\"],[0.3333333333333333,\"#9c179e\"],[0.4444444444444444,\"#bd3786\"],[0.5555555555555556,\"#d8576b\"],[0.6666666666666666,\"#ed7953\"],[0.7777777777777778,\"#fb9f3a\"],[0.8888888888888888,\"#fdca26\"],[1.0,\"#f0f921\"]],\"type\":\"contour\"}],\"heatmapgl\":[{\"colorbar\":{\"outlinewidth\":0,\"ticks\":\"\"},\"colorscale\":[[0.0,\"#0d0887\"],[0.1111111111111111,\"#46039f\"],[0.2222222222222222,\"#7201a8\"],[0.3333333333333333,\"#9c179e\"],[0.4444444444444444,\"#bd3786\"],[0.5555555555555556,\"#d8576b\"],[0.6666666666666666,\"#ed7953\"],[0.7777777777777778,\"#fb9f3a\"],[0.8888888888888888,\"#fdca26\"],[1.0,\"#f0f921\"]],\"type\":\"heatmapgl\"}],\"heatmap\":[{\"colorbar\":{\"outlinewidth\":0,\"ticks\":\"\"},\"colorscale\":[[0.0,\"#0d0887\"],[0.1111111111111111,\"#46039f\"],[0.2222222222222222,\"#7201a8\"],[0.3333333333333333,\"#9c179e\"],[0.4444444444444444,\"#bd3786\"],[0.5555555555555556,\"#d8576b\"],[0.6666666666666666,\"#ed7953\"],[0.7777777777777778,\"#fb9f3a\"],[0.8888888888888888,\"#fdca26\"],[1.0,\"#f0f921\"]],\"type\":\"heatmap\"}],\"histogram2dcontour\":[{\"colorbar\":{\"outlinewidth\":0,\"ticks\":\"\"},\"colorscale\":[[0.0,\"#0d0887\"],[0.1111111111111111,\"#46039f\"],[0.2222222222222222,\"#7201a8\"],[0.3333333333333333,\"#9c179e\"],[0.4444444444444444,\"#bd3786\"],[0.5555555555555556,\"#d8576b\"],[0.6666666666666666,\"#ed7953\"],[0.7777777777777778,\"#fb9f3a\"],[0.8888888888888888,\"#fdca26\"],[1.0,\"#f0f921\"]],\"type\":\"histogram2dcontour\"}],\"histogram2d\":[{\"colorbar\":{\"outlinewidth\":0,\"ticks\":\"\"},\"colorscale\":[[0.0,\"#0d0887\"],[0.1111111111111111,\"#46039f\"],[0.2222222222222222,\"#7201a8\"],[0.3333333333333333,\"#9c179e\"],[0.4444444444444444,\"#bd3786\"],[0.5555555555555556,\"#d8576b\"],[0.6666666666666666,\"#ed7953\"],[0.7777777777777778,\"#fb9f3a\"],[0.8888888888888888,\"#fdca26\"],[1.0,\"#f0f921\"]],\"type\":\"histogram2d\"}],\"histogram\":[{\"marker\":{\"pattern\":{\"fillmode\":\"overlay\",\"size\":10,\"solidity\":0.2}},\"type\":\"histogram\"}],\"mesh3d\":[{\"colorbar\":{\"outlinewidth\":0,\"ticks\":\"\"},\"type\":\"mesh3d\"}],\"parcoords\":[{\"line\":{\"colorbar\":{\"outlinewidth\":0,\"ticks\":\"\"}},\"type\":\"parcoords\"}],\"pie\":[{\"automargin\":true,\"type\":\"pie\"}],\"scatter3d\":[{\"line\":{\"colorbar\":{\"outlinewidth\":0,\"ticks\":\"\"}},\"marker\":{\"colorbar\":{\"outlinewidth\":0,\"ticks\":\"\"}},\"type\":\"scatter3d\"}],\"scattercarpet\":[{\"marker\":{\"colorbar\":{\"outlinewidth\":0,\"ticks\":\"\"}},\"type\":\"scattercarpet\"}],\"scattergeo\":[{\"marker\":{\"colorbar\":{\"outlinewidth\":0,\"ticks\":\"\"}},\"type\":\"scattergeo\"}],\"scattergl\":[{\"marker\":{\"colorbar\":{\"outlinewidth\":0,\"ticks\":\"\"}},\"type\":\"scattergl\"}],\"scattermapbox\":[{\"marker\":{\"colorbar\":{\"outlinewidth\":0,\"ticks\":\"\"}},\"type\":\"scattermapbox\"}],\"scatterpolargl\":[{\"marker\":{\"colorbar\":{\"outlinewidth\":0,\"ticks\":\"\"}},\"type\":\"scatterpolargl\"}],\"scatterpolar\":[{\"marker\":{\"colorbar\":{\"outlinewidth\":0,\"ticks\":\"\"}},\"type\":\"scatterpolar\"}],\"scatter\":[{\"fillpattern\":{\"fillmode\":\"overlay\",\"size\":10,\"solidity\":0.2},\"type\":\"scatter\"}],\"scatterternary\":[{\"marker\":{\"colorbar\":{\"outlinewidth\":0,\"ticks\":\"\"}},\"type\":\"scatterternary\"}],\"surface\":[{\"colorbar\":{\"outlinewidth\":0,\"ticks\":\"\"},\"colorscale\":[[0.0,\"#0d0887\"],[0.1111111111111111,\"#46039f\"],[0.2222222222222222,\"#7201a8\"],[0.3333333333333333,\"#9c179e\"],[0.4444444444444444,\"#bd3786\"],[0.5555555555555556,\"#d8576b\"],[0.6666666666666666,\"#ed7953\"],[0.7777777777777778,\"#fb9f3a\"],[0.8888888888888888,\"#fdca26\"],[1.0,\"#f0f921\"]],\"type\":\"surface\"}],\"table\":[{\"cells\":{\"fill\":{\"color\":\"#EBF0F8\"},\"line\":{\"color\":\"white\"}},\"header\":{\"fill\":{\"color\":\"#C8D4E3\"},\"line\":{\"color\":\"white\"}},\"type\":\"table\"}]},\"layout\":{\"annotationdefaults\":{\"arrowcolor\":\"#2a3f5f\",\"arrowhead\":0,\"arrowwidth\":1},\"autotypenumbers\":\"strict\",\"coloraxis\":{\"colorbar\":{\"outlinewidth\":0,\"ticks\":\"\"}},\"colorscale\":{\"diverging\":[[0,\"#8e0152\"],[0.1,\"#c51b7d\"],[0.2,\"#de77ae\"],[0.3,\"#f1b6da\"],[0.4,\"#fde0ef\"],[0.5,\"#f7f7f7\"],[0.6,\"#e6f5d0\"],[0.7,\"#b8e186\"],[0.8,\"#7fbc41\"],[0.9,\"#4d9221\"],[1,\"#276419\"]],\"sequential\":[[0.0,\"#0d0887\"],[0.1111111111111111,\"#46039f\"],[0.2222222222222222,\"#7201a8\"],[0.3333333333333333,\"#9c179e\"],[0.4444444444444444,\"#bd3786\"],[0.5555555555555556,\"#d8576b\"],[0.6666666666666666,\"#ed7953\"],[0.7777777777777778,\"#fb9f3a\"],[0.8888888888888888,\"#fdca26\"],[1.0,\"#f0f921\"]],\"sequentialminus\":[[0.0,\"#0d0887\"],[0.1111111111111111,\"#46039f\"],[0.2222222222222222,\"#7201a8\"],[0.3333333333333333,\"#9c179e\"],[0.4444444444444444,\"#bd3786\"],[0.5555555555555556,\"#d8576b\"],[0.6666666666666666,\"#ed7953\"],[0.7777777777777778,\"#fb9f3a\"],[0.8888888888888888,\"#fdca26\"],[1.0,\"#f0f921\"]]},\"colorway\":[\"#636efa\",\"#EF553B\",\"#00cc96\",\"#ab63fa\",\"#FFA15A\",\"#19d3f3\",\"#FF6692\",\"#B6E880\",\"#FF97FF\",\"#FECB52\"],\"font\":{\"color\":\"#2a3f5f\"},\"geo\":{\"bgcolor\":\"white\",\"lakecolor\":\"white\",\"landcolor\":\"#E5ECF6\",\"showlakes\":true,\"showland\":true,\"subunitcolor\":\"white\"},\"hoverlabel\":{\"align\":\"left\"},\"hovermode\":\"closest\",\"mapbox\":{\"style\":\"light\"},\"paper_bgcolor\":\"white\",\"plot_bgcolor\":\"#E5ECF6\",\"polar\":{\"angularaxis\":{\"gridcolor\":\"white\",\"linecolor\":\"white\",\"ticks\":\"\"},\"bgcolor\":\"#E5ECF6\",\"radialaxis\":{\"gridcolor\":\"white\",\"linecolor\":\"white\",\"ticks\":\"\"}},\"scene\":{\"xaxis\":{\"backgroundcolor\":\"#E5ECF6\",\"gridcolor\":\"white\",\"gridwidth\":2,\"linecolor\":\"white\",\"showbackground\":true,\"ticks\":\"\",\"zerolinecolor\":\"white\"},\"yaxis\":{\"backgroundcolor\":\"#E5ECF6\",\"gridcolor\":\"white\",\"gridwidth\":2,\"linecolor\":\"white\",\"showbackground\":true,\"ticks\":\"\",\"zerolinecolor\":\"white\"},\"zaxis\":{\"backgroundcolor\":\"#E5ECF6\",\"gridcolor\":\"white\",\"gridwidth\":2,\"linecolor\":\"white\",\"showbackground\":true,\"ticks\":\"\",\"zerolinecolor\":\"white\"}},\"shapedefaults\":{\"line\":{\"color\":\"#2a3f5f\"}},\"ternary\":{\"aaxis\":{\"gridcolor\":\"white\",\"linecolor\":\"white\",\"ticks\":\"\"},\"baxis\":{\"gridcolor\":\"white\",\"linecolor\":\"white\",\"ticks\":\"\"},\"bgcolor\":\"#E5ECF6\",\"caxis\":{\"gridcolor\":\"white\",\"linecolor\":\"white\",\"ticks\":\"\"}},\"title\":{\"x\":0.05},\"xaxis\":{\"automargin\":true,\"gridcolor\":\"white\",\"linecolor\":\"white\",\"ticks\":\"\",\"title\":{\"standoff\":15},\"zerolinecolor\":\"white\",\"zerolinewidth\":2},\"yaxis\":{\"automargin\":true,\"gridcolor\":\"white\",\"linecolor\":\"white\",\"ticks\":\"\",\"title\":{\"standoff\":15},\"zerolinecolor\":\"white\",\"zerolinewidth\":2}}},\"title\":{\"font\":{\"color\":\"#4D5663\"}},\"xaxis\":{\"gridcolor\":\"#E1E5ED\",\"showgrid\":true,\"tickfont\":{\"color\":\"#4D5663\"},\"title\":{\"font\":{\"color\":\"#4D5663\"},\"text\":\"\"},\"zerolinecolor\":\"#E1E5ED\"},\"yaxis\":{\"domain\":[0.3,1],\"gridcolor\":\"#E1E5ED\",\"showgrid\":true,\"tickfont\":{\"color\":\"#4D5663\"},\"title\":{\"font\":{\"color\":\"#4D5663\"},\"text\":\"\"},\"zerolinecolor\":\"#E1E5ED\"},\"yaxis2\":{\"domain\":[0,0.25],\"gridcolor\":\"#E1E5ED\",\"showgrid\":true,\"tickfont\":{\"color\":\"#4D5663\"},\"title\":{\"font\":{\"color\":\"#4D5663\"},\"text\":\"Spread\"},\"zerolinecolor\":\"#E1E5ED\"},\"xaxis2\":{\"anchor\":\"y2\",\"gridcolor\":\"#E1E5ED\",\"showgrid\":true,\"showticklabels\":false,\"tickfont\":{\"color\":\"#4D5663\"},\"title\":{\"font\":{\"color\":\"#4D5663\"},\"text\":\"\"},\"zerolinecolor\":\"#E1E5ED\"}},                        {\"showLink\": true, \"linkText\": \"Export to plot.ly\", \"plotlyServerURL\": \"https://plot.ly\", \"responsive\": true}                    ).then(function(){\n",
       "                            \n",
       "var gd = document.getElementById('3d35b595-b543-429c-a498-479f4c252893');\n",
       "var x = new MutationObserver(function (mutations, observer) {{\n",
       "        var display = window.getComputedStyle(gd).display;\n",
       "        if (!display || display === 'none') {{\n",
       "            console.log([gd, 'removed!']);\n",
       "            Plotly.purge(gd);\n",
       "            observer.disconnect();\n",
       "        }}\n",
       "}});\n",
       "\n",
       "// Listen for the removal of the full notebook cells\n",
       "var notebookContainer = gd.closest('#notebook-container');\n",
       "if (notebookContainer) {{\n",
       "    x.observe(notebookContainer, {childList: true});\n",
       "}}\n",
       "\n",
       "// Listen for the clearing of the current output cell\n",
       "var outputEl = gd.closest('.output');\n",
       "if (outputEl) {{\n",
       "    x.observe(outputEl, {childList: true});\n",
       "}}\n",
       "\n",
       "                        })                };                });            </script>        </div>"
      ]
     },
     "metadata": {},
     "output_type": "display_data"
    }
   ],
   "source": [
    "df[['A','B']].iplot(kind='spread')"
   ]
  },
  {
   "cell_type": "code",
   "execution_count": 42,
   "id": "e7b787f1",
   "metadata": {},
   "outputs": [],
   "source": [
    "import warnings\n",
    "warnings.filterwarnings('ignore')"
   ]
  },
  {
   "cell_type": "code",
   "execution_count": 45,
   "id": "4465afb1",
   "metadata": {},
   "outputs": [
    {
     "data": {
      "application/vnd.plotly.v1+json": {
       "config": {
        "linkText": "Export to plot.ly",
        "plotlyServerURL": "https://plot.ly",
        "showLink": true
       },
       "data": [
        {
         "marker": {
          "color": [
           "rgb(255, 153, 51)",
           "rgb(55, 128, 191)",
           "rgb(50, 171, 96)",
           "rgb(128, 0, 128)",
           "rgb(219, 64, 82)",
           "rgb(0, 128, 128)",
           "rgb(255, 255, 51)",
           "rgb(128, 128, 0)",
           "rgb(251, 128, 114)",
           "rgb(128, 177, 211)"
          ],
          "line": {
           "width": 1.3
          },
          "size": [
           83,
           70,
           61,
           67,
           60,
           48,
           45,
           68,
           25,
           92,
           41,
           53,
           73,
           56,
           63,
           48,
           50,
           83,
           55,
           74,
           67,
           35,
           49,
           66,
           42,
           91,
           62,
           48,
           34,
           54,
           45,
           30,
           112,
           44,
           22,
           51,
           54,
           74,
           44,
           61,
           74,
           12,
           71,
           60,
           49,
           41,
           86,
           73,
           22,
           66,
           31,
           49,
           49,
           48,
           60,
           35,
           57,
           52,
           70,
           52,
           31,
           46,
           67,
           58,
           74,
           43,
           64,
           24,
           44,
           59,
           73,
           37,
           68,
           94,
           56,
           65,
           41,
           39,
           61,
           59,
           60,
           33,
           41,
           54,
           47,
           40,
           57,
           52,
           55,
           44,
           42,
           71,
           51,
           26,
           40,
           52,
           76,
           76,
           74,
           60
          ],
          "symbol": "circle"
         },
         "mode": "markers",
         "text": "",
         "type": "scatter",
         "x": [
          0.2995340644905276,
          0.2205656269030712,
          -1.056174561092009,
          0.7591755781504027,
          0.5326518825067723,
          1.3044295669802999,
          1.3281748768339667,
          -0.09922890207163876,
          0.6072907830909519,
          1.1826119307800274,
          0.3200674123294725,
          -1.3012890682412424,
          0.39931988429912135,
          -0.34879285248827946,
          -0.7832437352797109,
          0.24797886378743955,
          -2.8773605354838225,
          -0.41107805336817005,
          0.5428332832960278,
          -0.34202223323909137,
          0.6703636476801402,
          0.47056109501637966,
          0.5846164712351315,
          -0.8661517063929928,
          0.44216954122070445,
          0.5363106882328338,
          -0.27977714813382293,
          0.4380768982907296,
          -1.4402841454482886,
          0.256393582261463,
          1.6549149482388437,
          -1.3228705669839567,
          -0.7548185531120883,
          0.44297261355922846,
          1.3580577186497258,
          -0.5112296882385694,
          1.5741392211439416,
          0.13109722398933546,
          -1.4680827312451141,
          -0.6059423946677869,
          0.144459267134369,
          0.3021717007693336,
          -0.22744784266075352,
          0.03450363264569284,
          0.05177307263761155,
          0.1399332902663523,
          1.0229527181140547,
          -2.6321782638398714,
          0.7745092754158753,
          -1.5926248522708426,
          -0.7031009714908845,
          0.6710809023395671,
          -0.1438163725324016,
          0.5082776496708439,
          0.0767121365819478,
          0.6457023848381208,
          -0.3580314419038346,
          -0.774839310285214,
          -0.43466021347224676,
          -1.6000577779988623,
          0.5086471535040138,
          0.37958854995049945,
          -1.0104442910961025,
          -0.1514509188462034,
          -0.12732690203447797,
          0.8209231907729551,
          -0.22640327123432807,
          1.4349981836183903,
          0.6890109446047313,
          1.0775411458507147,
          0.29266013334010743,
          0.3923131280672186,
          -0.7821903721721409,
          -1.2087665128305551,
          -0.04005064789093992,
          0.586175941448245,
          -0.39450460865418874,
          0.7192182080202476,
          1.8882833172200184,
          0.8341960000980053,
          0.049935991907428666,
          0.47937322066761195,
          0.07588343334653969,
          -0.2526301622266612,
          -0.5289099932191659,
          -0.10700710269370067,
          -0.4631513345001443,
          -0.3924250958303068,
          1.3819170930309186,
          -1.0229272234878124,
          -0.8612817624400896,
          -1.3485764993188754,
          1.9759061035618044,
          -0.9223448984827978,
          -1.0472531006509647,
          -0.09420726481422516,
          0.13682879551914487,
          -0.6242439989143544,
          -0.6080082561687519,
          -0.335483037163409
         ],
         "y": [
          0.6288873106968625,
          1.5552086644040435,
          -0.2020635486518468,
          -0.37421286494601835,
          -1.8901354714158451,
          1.1642455262282074,
          -1.0335669426310594,
          -0.6453012578613595,
          -2.500063217723074,
          0.6208790462589199,
          -0.33919024377178775,
          -0.6323417396484956,
          -1.1042370872644787,
          0.687990530703836,
          -0.29482934295310004,
          -1.760993482777496,
          0.4013839131768914,
          -0.19128337287568414,
          0.38831658519353085,
          1.1022164676082287,
          -0.7658403159220927,
          0.39746202290875726,
          0.05253399825030649,
          -1.2986978680790244,
          0.5516764900142631,
          0.9594352288580066,
          -1.6176146758116843,
          0.566234817380164,
          0.03291261568889055,
          -0.10412367010856544,
          0.18813480982253722,
          0.33139764237225916,
          -0.4352051883947046,
          -0.1850665849362166,
          1.977129824661224,
          -0.716727900543721,
          -0.9962485346727465,
          2.1457330602622915,
          1.4786805379182806,
          -0.3073961040236371,
          0.5190635210197534,
          -0.2977117536092024,
          1.07655420499391,
          1.6402869584964106,
          -0.6736312859201243,
          -0.5421796901027264,
          0.2609352631947877,
          -0.2243329499018594,
          0.1421432931661823,
          1.093261930610181,
          0.30912184023215555,
          0.5274847296838001,
          -0.8482473955350368,
          -1.1740459296667167,
          0.12050195080175524,
          0.6917000321710234,
          -0.24954254013796354,
          -0.0555574867666861,
          -0.11674030611528681,
          -1.334786476612104,
          -0.7223974650682061,
          1.4343193468848872,
          -1.3171815064176886,
          -0.6898579117892474,
          -0.30456626778121365,
          -0.38585924100511965,
          -0.8134747561637852,
          2.010879165813113,
          1.8244088747007474,
          -0.3670493932221158,
          0.03065143496118238,
          -0.6766752794932412,
          -0.21596160514515156,
          -0.3343960409842762,
          -0.5872454814216169,
          -0.2983674285813973,
          0.2681694412271725,
          -0.5871780526557453,
          0.6345911247702245,
          -0.48125080520848557,
          -1.537351065621091,
          0.6715502994413234,
          -0.7553536888819133,
          0.7274770340599817,
          0.38331131279465536,
          0.20240429935781595,
          -0.03698531065937211,
          0.7746536546150867,
          -0.12743883677501958,
          -0.6009991380090095,
          0.7150308408538082,
          0.8401271366581022,
          -1.8596498898007021,
          -1.3339806032828878,
          -0.22198748420879716,
          -1.8428750875481898,
          0.4064685378532878,
          -0.1475973932807723,
          -0.8804055552297537,
          -1.580823041015511
         ]
        }
       ],
       "layout": {
        "legend": {
         "bgcolor": "#F5F6F9",
         "font": {
          "color": "#4D5663"
         }
        },
        "paper_bgcolor": "#F5F6F9",
        "plot_bgcolor": "#F5F6F9",
        "template": {
         "data": {
          "bar": [
           {
            "error_x": {
             "color": "#2a3f5f"
            },
            "error_y": {
             "color": "#2a3f5f"
            },
            "marker": {
             "line": {
              "color": "#E5ECF6",
              "width": 0.5
             },
             "pattern": {
              "fillmode": "overlay",
              "size": 10,
              "solidity": 0.2
             }
            },
            "type": "bar"
           }
          ],
          "barpolar": [
           {
            "marker": {
             "line": {
              "color": "#E5ECF6",
              "width": 0.5
             },
             "pattern": {
              "fillmode": "overlay",
              "size": 10,
              "solidity": 0.2
             }
            },
            "type": "barpolar"
           }
          ],
          "carpet": [
           {
            "aaxis": {
             "endlinecolor": "#2a3f5f",
             "gridcolor": "white",
             "linecolor": "white",
             "minorgridcolor": "white",
             "startlinecolor": "#2a3f5f"
            },
            "baxis": {
             "endlinecolor": "#2a3f5f",
             "gridcolor": "white",
             "linecolor": "white",
             "minorgridcolor": "white",
             "startlinecolor": "#2a3f5f"
            },
            "type": "carpet"
           }
          ],
          "choropleth": [
           {
            "colorbar": {
             "outlinewidth": 0,
             "ticks": ""
            },
            "type": "choropleth"
           }
          ],
          "contour": [
           {
            "colorbar": {
             "outlinewidth": 0,
             "ticks": ""
            },
            "colorscale": [
             [
              0,
              "#0d0887"
             ],
             [
              0.1111111111111111,
              "#46039f"
             ],
             [
              0.2222222222222222,
              "#7201a8"
             ],
             [
              0.3333333333333333,
              "#9c179e"
             ],
             [
              0.4444444444444444,
              "#bd3786"
             ],
             [
              0.5555555555555556,
              "#d8576b"
             ],
             [
              0.6666666666666666,
              "#ed7953"
             ],
             [
              0.7777777777777778,
              "#fb9f3a"
             ],
             [
              0.8888888888888888,
              "#fdca26"
             ],
             [
              1,
              "#f0f921"
             ]
            ],
            "type": "contour"
           }
          ],
          "contourcarpet": [
           {
            "colorbar": {
             "outlinewidth": 0,
             "ticks": ""
            },
            "type": "contourcarpet"
           }
          ],
          "heatmap": [
           {
            "colorbar": {
             "outlinewidth": 0,
             "ticks": ""
            },
            "colorscale": [
             [
              0,
              "#0d0887"
             ],
             [
              0.1111111111111111,
              "#46039f"
             ],
             [
              0.2222222222222222,
              "#7201a8"
             ],
             [
              0.3333333333333333,
              "#9c179e"
             ],
             [
              0.4444444444444444,
              "#bd3786"
             ],
             [
              0.5555555555555556,
              "#d8576b"
             ],
             [
              0.6666666666666666,
              "#ed7953"
             ],
             [
              0.7777777777777778,
              "#fb9f3a"
             ],
             [
              0.8888888888888888,
              "#fdca26"
             ],
             [
              1,
              "#f0f921"
             ]
            ],
            "type": "heatmap"
           }
          ],
          "heatmapgl": [
           {
            "colorbar": {
             "outlinewidth": 0,
             "ticks": ""
            },
            "colorscale": [
             [
              0,
              "#0d0887"
             ],
             [
              0.1111111111111111,
              "#46039f"
             ],
             [
              0.2222222222222222,
              "#7201a8"
             ],
             [
              0.3333333333333333,
              "#9c179e"
             ],
             [
              0.4444444444444444,
              "#bd3786"
             ],
             [
              0.5555555555555556,
              "#d8576b"
             ],
             [
              0.6666666666666666,
              "#ed7953"
             ],
             [
              0.7777777777777778,
              "#fb9f3a"
             ],
             [
              0.8888888888888888,
              "#fdca26"
             ],
             [
              1,
              "#f0f921"
             ]
            ],
            "type": "heatmapgl"
           }
          ],
          "histogram": [
           {
            "marker": {
             "pattern": {
              "fillmode": "overlay",
              "size": 10,
              "solidity": 0.2
             }
            },
            "type": "histogram"
           }
          ],
          "histogram2d": [
           {
            "colorbar": {
             "outlinewidth": 0,
             "ticks": ""
            },
            "colorscale": [
             [
              0,
              "#0d0887"
             ],
             [
              0.1111111111111111,
              "#46039f"
             ],
             [
              0.2222222222222222,
              "#7201a8"
             ],
             [
              0.3333333333333333,
              "#9c179e"
             ],
             [
              0.4444444444444444,
              "#bd3786"
             ],
             [
              0.5555555555555556,
              "#d8576b"
             ],
             [
              0.6666666666666666,
              "#ed7953"
             ],
             [
              0.7777777777777778,
              "#fb9f3a"
             ],
             [
              0.8888888888888888,
              "#fdca26"
             ],
             [
              1,
              "#f0f921"
             ]
            ],
            "type": "histogram2d"
           }
          ],
          "histogram2dcontour": [
           {
            "colorbar": {
             "outlinewidth": 0,
             "ticks": ""
            },
            "colorscale": [
             [
              0,
              "#0d0887"
             ],
             [
              0.1111111111111111,
              "#46039f"
             ],
             [
              0.2222222222222222,
              "#7201a8"
             ],
             [
              0.3333333333333333,
              "#9c179e"
             ],
             [
              0.4444444444444444,
              "#bd3786"
             ],
             [
              0.5555555555555556,
              "#d8576b"
             ],
             [
              0.6666666666666666,
              "#ed7953"
             ],
             [
              0.7777777777777778,
              "#fb9f3a"
             ],
             [
              0.8888888888888888,
              "#fdca26"
             ],
             [
              1,
              "#f0f921"
             ]
            ],
            "type": "histogram2dcontour"
           }
          ],
          "mesh3d": [
           {
            "colorbar": {
             "outlinewidth": 0,
             "ticks": ""
            },
            "type": "mesh3d"
           }
          ],
          "parcoords": [
           {
            "line": {
             "colorbar": {
              "outlinewidth": 0,
              "ticks": ""
             }
            },
            "type": "parcoords"
           }
          ],
          "pie": [
           {
            "automargin": true,
            "type": "pie"
           }
          ],
          "scatter": [
           {
            "fillpattern": {
             "fillmode": "overlay",
             "size": 10,
             "solidity": 0.2
            },
            "type": "scatter"
           }
          ],
          "scatter3d": [
           {
            "line": {
             "colorbar": {
              "outlinewidth": 0,
              "ticks": ""
             }
            },
            "marker": {
             "colorbar": {
              "outlinewidth": 0,
              "ticks": ""
             }
            },
            "type": "scatter3d"
           }
          ],
          "scattercarpet": [
           {
            "marker": {
             "colorbar": {
              "outlinewidth": 0,
              "ticks": ""
             }
            },
            "type": "scattercarpet"
           }
          ],
          "scattergeo": [
           {
            "marker": {
             "colorbar": {
              "outlinewidth": 0,
              "ticks": ""
             }
            },
            "type": "scattergeo"
           }
          ],
          "scattergl": [
           {
            "marker": {
             "colorbar": {
              "outlinewidth": 0,
              "ticks": ""
             }
            },
            "type": "scattergl"
           }
          ],
          "scattermapbox": [
           {
            "marker": {
             "colorbar": {
              "outlinewidth": 0,
              "ticks": ""
             }
            },
            "type": "scattermapbox"
           }
          ],
          "scatterpolar": [
           {
            "marker": {
             "colorbar": {
              "outlinewidth": 0,
              "ticks": ""
             }
            },
            "type": "scatterpolar"
           }
          ],
          "scatterpolargl": [
           {
            "marker": {
             "colorbar": {
              "outlinewidth": 0,
              "ticks": ""
             }
            },
            "type": "scatterpolargl"
           }
          ],
          "scatterternary": [
           {
            "marker": {
             "colorbar": {
              "outlinewidth": 0,
              "ticks": ""
             }
            },
            "type": "scatterternary"
           }
          ],
          "surface": [
           {
            "colorbar": {
             "outlinewidth": 0,
             "ticks": ""
            },
            "colorscale": [
             [
              0,
              "#0d0887"
             ],
             [
              0.1111111111111111,
              "#46039f"
             ],
             [
              0.2222222222222222,
              "#7201a8"
             ],
             [
              0.3333333333333333,
              "#9c179e"
             ],
             [
              0.4444444444444444,
              "#bd3786"
             ],
             [
              0.5555555555555556,
              "#d8576b"
             ],
             [
              0.6666666666666666,
              "#ed7953"
             ],
             [
              0.7777777777777778,
              "#fb9f3a"
             ],
             [
              0.8888888888888888,
              "#fdca26"
             ],
             [
              1,
              "#f0f921"
             ]
            ],
            "type": "surface"
           }
          ],
          "table": [
           {
            "cells": {
             "fill": {
              "color": "#EBF0F8"
             },
             "line": {
              "color": "white"
             }
            },
            "header": {
             "fill": {
              "color": "#C8D4E3"
             },
             "line": {
              "color": "white"
             }
            },
            "type": "table"
           }
          ]
         },
         "layout": {
          "annotationdefaults": {
           "arrowcolor": "#2a3f5f",
           "arrowhead": 0,
           "arrowwidth": 1
          },
          "autotypenumbers": "strict",
          "coloraxis": {
           "colorbar": {
            "outlinewidth": 0,
            "ticks": ""
           }
          },
          "colorscale": {
           "diverging": [
            [
             0,
             "#8e0152"
            ],
            [
             0.1,
             "#c51b7d"
            ],
            [
             0.2,
             "#de77ae"
            ],
            [
             0.3,
             "#f1b6da"
            ],
            [
             0.4,
             "#fde0ef"
            ],
            [
             0.5,
             "#f7f7f7"
            ],
            [
             0.6,
             "#e6f5d0"
            ],
            [
             0.7,
             "#b8e186"
            ],
            [
             0.8,
             "#7fbc41"
            ],
            [
             0.9,
             "#4d9221"
            ],
            [
             1,
             "#276419"
            ]
           ],
           "sequential": [
            [
             0,
             "#0d0887"
            ],
            [
             0.1111111111111111,
             "#46039f"
            ],
            [
             0.2222222222222222,
             "#7201a8"
            ],
            [
             0.3333333333333333,
             "#9c179e"
            ],
            [
             0.4444444444444444,
             "#bd3786"
            ],
            [
             0.5555555555555556,
             "#d8576b"
            ],
            [
             0.6666666666666666,
             "#ed7953"
            ],
            [
             0.7777777777777778,
             "#fb9f3a"
            ],
            [
             0.8888888888888888,
             "#fdca26"
            ],
            [
             1,
             "#f0f921"
            ]
           ],
           "sequentialminus": [
            [
             0,
             "#0d0887"
            ],
            [
             0.1111111111111111,
             "#46039f"
            ],
            [
             0.2222222222222222,
             "#7201a8"
            ],
            [
             0.3333333333333333,
             "#9c179e"
            ],
            [
             0.4444444444444444,
             "#bd3786"
            ],
            [
             0.5555555555555556,
             "#d8576b"
            ],
            [
             0.6666666666666666,
             "#ed7953"
            ],
            [
             0.7777777777777778,
             "#fb9f3a"
            ],
            [
             0.8888888888888888,
             "#fdca26"
            ],
            [
             1,
             "#f0f921"
            ]
           ]
          },
          "colorway": [
           "#636efa",
           "#EF553B",
           "#00cc96",
           "#ab63fa",
           "#FFA15A",
           "#19d3f3",
           "#FF6692",
           "#B6E880",
           "#FF97FF",
           "#FECB52"
          ],
          "font": {
           "color": "#2a3f5f"
          },
          "geo": {
           "bgcolor": "white",
           "lakecolor": "white",
           "landcolor": "#E5ECF6",
           "showlakes": true,
           "showland": true,
           "subunitcolor": "white"
          },
          "hoverlabel": {
           "align": "left"
          },
          "hovermode": "closest",
          "mapbox": {
           "style": "light"
          },
          "paper_bgcolor": "white",
          "plot_bgcolor": "#E5ECF6",
          "polar": {
           "angularaxis": {
            "gridcolor": "white",
            "linecolor": "white",
            "ticks": ""
           },
           "bgcolor": "#E5ECF6",
           "radialaxis": {
            "gridcolor": "white",
            "linecolor": "white",
            "ticks": ""
           }
          },
          "scene": {
           "xaxis": {
            "backgroundcolor": "#E5ECF6",
            "gridcolor": "white",
            "gridwidth": 2,
            "linecolor": "white",
            "showbackground": true,
            "ticks": "",
            "zerolinecolor": "white"
           },
           "yaxis": {
            "backgroundcolor": "#E5ECF6",
            "gridcolor": "white",
            "gridwidth": 2,
            "linecolor": "white",
            "showbackground": true,
            "ticks": "",
            "zerolinecolor": "white"
           },
           "zaxis": {
            "backgroundcolor": "#E5ECF6",
            "gridcolor": "white",
            "gridwidth": 2,
            "linecolor": "white",
            "showbackground": true,
            "ticks": "",
            "zerolinecolor": "white"
           }
          },
          "shapedefaults": {
           "line": {
            "color": "#2a3f5f"
           }
          },
          "ternary": {
           "aaxis": {
            "gridcolor": "white",
            "linecolor": "white",
            "ticks": ""
           },
           "baxis": {
            "gridcolor": "white",
            "linecolor": "white",
            "ticks": ""
           },
           "bgcolor": "#E5ECF6",
           "caxis": {
            "gridcolor": "white",
            "linecolor": "white",
            "ticks": ""
           }
          },
          "title": {
           "x": 0.05
          },
          "xaxis": {
           "automargin": true,
           "gridcolor": "white",
           "linecolor": "white",
           "ticks": "",
           "title": {
            "standoff": 15
           },
           "zerolinecolor": "white",
           "zerolinewidth": 2
          },
          "yaxis": {
           "automargin": true,
           "gridcolor": "white",
           "linecolor": "white",
           "ticks": "",
           "title": {
            "standoff": 15
           },
           "zerolinecolor": "white",
           "zerolinewidth": 2
          }
         }
        },
        "title": {
         "font": {
          "color": "#4D5663"
         }
        },
        "xaxis": {
         "gridcolor": "#E1E5ED",
         "showgrid": true,
         "tickfont": {
          "color": "#4D5663"
         },
         "title": {
          "font": {
           "color": "#4D5663"
          },
          "text": ""
         },
         "zerolinecolor": "#E1E5ED"
        },
        "yaxis": {
         "gridcolor": "#E1E5ED",
         "showgrid": true,
         "tickfont": {
          "color": "#4D5663"
         },
         "title": {
          "font": {
           "color": "#4D5663"
          },
          "text": ""
         },
         "zerolinecolor": "#E1E5ED"
        }
       }
      },
      "text/html": [
       "<div>                            <div id=\"bc535f28-53e2-4b99-97f6-5d000726527f\" class=\"plotly-graph-div\" style=\"height:525px; width:100%;\"></div>            <script type=\"text/javascript\">                require([\"plotly\"], function(Plotly) {                    window.PLOTLYENV=window.PLOTLYENV || {};\n",
       "                    window.PLOTLYENV.BASE_URL='https://plot.ly';                                    if (document.getElementById(\"bc535f28-53e2-4b99-97f6-5d000726527f\")) {                    Plotly.newPlot(                        \"bc535f28-53e2-4b99-97f6-5d000726527f\",                        [{\"marker\":{\"color\":[\"rgb(255, 153, 51)\",\"rgb(55, 128, 191)\",\"rgb(50, 171, 96)\",\"rgb(128, 0, 128)\",\"rgb(219, 64, 82)\",\"rgb(0, 128, 128)\",\"rgb(255, 255, 51)\",\"rgb(128, 128, 0)\",\"rgb(251, 128, 114)\",\"rgb(128, 177, 211)\"],\"line\":{\"width\":1.3},\"size\":[83,70,61,67,60,48,45,68,25,92,41,53,73,56,63,48,50,83,55,74,67,35,49,66,42,91,62,48,34,54,45,30,112,44,22,51,54,74,44,61,74,12,71,60,49,41,86,73,22,66,31,49,49,48,60,35,57,52,70,52,31,46,67,58,74,43,64,24,44,59,73,37,68,94,56,65,41,39,61,59,60,33,41,54,47,40,57,52,55,44,42,71,51,26,40,52,76,76,74,60],\"symbol\":\"circle\"},\"mode\":\"markers\",\"text\":\"\",\"x\":[0.2995340644905276,0.2205656269030712,-1.056174561092009,0.7591755781504027,0.5326518825067723,1.3044295669802999,1.3281748768339667,-0.09922890207163876,0.6072907830909519,1.1826119307800274,0.3200674123294725,-1.3012890682412424,0.39931988429912135,-0.34879285248827946,-0.7832437352797109,0.24797886378743955,-2.8773605354838225,-0.41107805336817005,0.5428332832960278,-0.34202223323909137,0.6703636476801402,0.47056109501637966,0.5846164712351315,-0.8661517063929928,0.44216954122070445,0.5363106882328338,-0.27977714813382293,0.4380768982907296,-1.4402841454482886,0.256393582261463,1.6549149482388437,-1.3228705669839567,-0.7548185531120883,0.44297261355922846,1.3580577186497258,-0.5112296882385694,1.5741392211439416,0.13109722398933546,-1.4680827312451141,-0.6059423946677869,0.144459267134369,0.3021717007693336,-0.22744784266075352,0.03450363264569284,0.05177307263761155,0.1399332902663523,1.0229527181140547,-2.6321782638398714,0.7745092754158753,-1.5926248522708426,-0.7031009714908845,0.6710809023395671,-0.1438163725324016,0.5082776496708439,0.0767121365819478,0.6457023848381208,-0.3580314419038346,-0.774839310285214,-0.43466021347224676,-1.6000577779988623,0.5086471535040138,0.37958854995049945,-1.0104442910961025,-0.1514509188462034,-0.12732690203447797,0.8209231907729551,-0.22640327123432807,1.4349981836183903,0.6890109446047313,1.0775411458507147,0.29266013334010743,0.3923131280672186,-0.7821903721721409,-1.2087665128305551,-0.04005064789093992,0.586175941448245,-0.39450460865418874,0.7192182080202476,1.8882833172200184,0.8341960000980053,0.049935991907428666,0.47937322066761195,0.07588343334653969,-0.2526301622266612,-0.5289099932191659,-0.10700710269370067,-0.4631513345001443,-0.3924250958303068,1.3819170930309186,-1.0229272234878124,-0.8612817624400896,-1.3485764993188754,1.9759061035618044,-0.9223448984827978,-1.0472531006509647,-0.09420726481422516,0.13682879551914487,-0.6242439989143544,-0.6080082561687519,-0.335483037163409],\"y\":[0.6288873106968625,1.5552086644040435,-0.2020635486518468,-0.37421286494601835,-1.8901354714158451,1.1642455262282074,-1.0335669426310594,-0.6453012578613595,-2.500063217723074,0.6208790462589199,-0.33919024377178775,-0.6323417396484956,-1.1042370872644787,0.687990530703836,-0.29482934295310004,-1.760993482777496,0.4013839131768914,-0.19128337287568414,0.38831658519353085,1.1022164676082287,-0.7658403159220927,0.39746202290875726,0.05253399825030649,-1.2986978680790244,0.5516764900142631,0.9594352288580066,-1.6176146758116843,0.566234817380164,0.03291261568889055,-0.10412367010856544,0.18813480982253722,0.33139764237225916,-0.4352051883947046,-0.1850665849362166,1.977129824661224,-0.716727900543721,-0.9962485346727465,2.1457330602622915,1.4786805379182806,-0.3073961040236371,0.5190635210197534,-0.2977117536092024,1.07655420499391,1.6402869584964106,-0.6736312859201243,-0.5421796901027264,0.2609352631947877,-0.2243329499018594,0.1421432931661823,1.093261930610181,0.30912184023215555,0.5274847296838001,-0.8482473955350368,-1.1740459296667167,0.12050195080175524,0.6917000321710234,-0.24954254013796354,-0.0555574867666861,-0.11674030611528681,-1.334786476612104,-0.7223974650682061,1.4343193468848872,-1.3171815064176886,-0.6898579117892474,-0.30456626778121365,-0.38585924100511965,-0.8134747561637852,2.010879165813113,1.8244088747007474,-0.3670493932221158,0.03065143496118238,-0.6766752794932412,-0.21596160514515156,-0.3343960409842762,-0.5872454814216169,-0.2983674285813973,0.2681694412271725,-0.5871780526557453,0.6345911247702245,-0.48125080520848557,-1.537351065621091,0.6715502994413234,-0.7553536888819133,0.7274770340599817,0.38331131279465536,0.20240429935781595,-0.03698531065937211,0.7746536546150867,-0.12743883677501958,-0.6009991380090095,0.7150308408538082,0.8401271366581022,-1.8596498898007021,-1.3339806032828878,-0.22198748420879716,-1.8428750875481898,0.4064685378532878,-0.1475973932807723,-0.8804055552297537,-1.580823041015511],\"type\":\"scatter\"}],                        {\"legend\":{\"bgcolor\":\"#F5F6F9\",\"font\":{\"color\":\"#4D5663\"}},\"paper_bgcolor\":\"#F5F6F9\",\"plot_bgcolor\":\"#F5F6F9\",\"template\":{\"data\":{\"barpolar\":[{\"marker\":{\"line\":{\"color\":\"#E5ECF6\",\"width\":0.5},\"pattern\":{\"fillmode\":\"overlay\",\"size\":10,\"solidity\":0.2}},\"type\":\"barpolar\"}],\"bar\":[{\"error_x\":{\"color\":\"#2a3f5f\"},\"error_y\":{\"color\":\"#2a3f5f\"},\"marker\":{\"line\":{\"color\":\"#E5ECF6\",\"width\":0.5},\"pattern\":{\"fillmode\":\"overlay\",\"size\":10,\"solidity\":0.2}},\"type\":\"bar\"}],\"carpet\":[{\"aaxis\":{\"endlinecolor\":\"#2a3f5f\",\"gridcolor\":\"white\",\"linecolor\":\"white\",\"minorgridcolor\":\"white\",\"startlinecolor\":\"#2a3f5f\"},\"baxis\":{\"endlinecolor\":\"#2a3f5f\",\"gridcolor\":\"white\",\"linecolor\":\"white\",\"minorgridcolor\":\"white\",\"startlinecolor\":\"#2a3f5f\"},\"type\":\"carpet\"}],\"choropleth\":[{\"colorbar\":{\"outlinewidth\":0,\"ticks\":\"\"},\"type\":\"choropleth\"}],\"contourcarpet\":[{\"colorbar\":{\"outlinewidth\":0,\"ticks\":\"\"},\"type\":\"contourcarpet\"}],\"contour\":[{\"colorbar\":{\"outlinewidth\":0,\"ticks\":\"\"},\"colorscale\":[[0.0,\"#0d0887\"],[0.1111111111111111,\"#46039f\"],[0.2222222222222222,\"#7201a8\"],[0.3333333333333333,\"#9c179e\"],[0.4444444444444444,\"#bd3786\"],[0.5555555555555556,\"#d8576b\"],[0.6666666666666666,\"#ed7953\"],[0.7777777777777778,\"#fb9f3a\"],[0.8888888888888888,\"#fdca26\"],[1.0,\"#f0f921\"]],\"type\":\"contour\"}],\"heatmapgl\":[{\"colorbar\":{\"outlinewidth\":0,\"ticks\":\"\"},\"colorscale\":[[0.0,\"#0d0887\"],[0.1111111111111111,\"#46039f\"],[0.2222222222222222,\"#7201a8\"],[0.3333333333333333,\"#9c179e\"],[0.4444444444444444,\"#bd3786\"],[0.5555555555555556,\"#d8576b\"],[0.6666666666666666,\"#ed7953\"],[0.7777777777777778,\"#fb9f3a\"],[0.8888888888888888,\"#fdca26\"],[1.0,\"#f0f921\"]],\"type\":\"heatmapgl\"}],\"heatmap\":[{\"colorbar\":{\"outlinewidth\":0,\"ticks\":\"\"},\"colorscale\":[[0.0,\"#0d0887\"],[0.1111111111111111,\"#46039f\"],[0.2222222222222222,\"#7201a8\"],[0.3333333333333333,\"#9c179e\"],[0.4444444444444444,\"#bd3786\"],[0.5555555555555556,\"#d8576b\"],[0.6666666666666666,\"#ed7953\"],[0.7777777777777778,\"#fb9f3a\"],[0.8888888888888888,\"#fdca26\"],[1.0,\"#f0f921\"]],\"type\":\"heatmap\"}],\"histogram2dcontour\":[{\"colorbar\":{\"outlinewidth\":0,\"ticks\":\"\"},\"colorscale\":[[0.0,\"#0d0887\"],[0.1111111111111111,\"#46039f\"],[0.2222222222222222,\"#7201a8\"],[0.3333333333333333,\"#9c179e\"],[0.4444444444444444,\"#bd3786\"],[0.5555555555555556,\"#d8576b\"],[0.6666666666666666,\"#ed7953\"],[0.7777777777777778,\"#fb9f3a\"],[0.8888888888888888,\"#fdca26\"],[1.0,\"#f0f921\"]],\"type\":\"histogram2dcontour\"}],\"histogram2d\":[{\"colorbar\":{\"outlinewidth\":0,\"ticks\":\"\"},\"colorscale\":[[0.0,\"#0d0887\"],[0.1111111111111111,\"#46039f\"],[0.2222222222222222,\"#7201a8\"],[0.3333333333333333,\"#9c179e\"],[0.4444444444444444,\"#bd3786\"],[0.5555555555555556,\"#d8576b\"],[0.6666666666666666,\"#ed7953\"],[0.7777777777777778,\"#fb9f3a\"],[0.8888888888888888,\"#fdca26\"],[1.0,\"#f0f921\"]],\"type\":\"histogram2d\"}],\"histogram\":[{\"marker\":{\"pattern\":{\"fillmode\":\"overlay\",\"size\":10,\"solidity\":0.2}},\"type\":\"histogram\"}],\"mesh3d\":[{\"colorbar\":{\"outlinewidth\":0,\"ticks\":\"\"},\"type\":\"mesh3d\"}],\"parcoords\":[{\"line\":{\"colorbar\":{\"outlinewidth\":0,\"ticks\":\"\"}},\"type\":\"parcoords\"}],\"pie\":[{\"automargin\":true,\"type\":\"pie\"}],\"scatter3d\":[{\"line\":{\"colorbar\":{\"outlinewidth\":0,\"ticks\":\"\"}},\"marker\":{\"colorbar\":{\"outlinewidth\":0,\"ticks\":\"\"}},\"type\":\"scatter3d\"}],\"scattercarpet\":[{\"marker\":{\"colorbar\":{\"outlinewidth\":0,\"ticks\":\"\"}},\"type\":\"scattercarpet\"}],\"scattergeo\":[{\"marker\":{\"colorbar\":{\"outlinewidth\":0,\"ticks\":\"\"}},\"type\":\"scattergeo\"}],\"scattergl\":[{\"marker\":{\"colorbar\":{\"outlinewidth\":0,\"ticks\":\"\"}},\"type\":\"scattergl\"}],\"scattermapbox\":[{\"marker\":{\"colorbar\":{\"outlinewidth\":0,\"ticks\":\"\"}},\"type\":\"scattermapbox\"}],\"scatterpolargl\":[{\"marker\":{\"colorbar\":{\"outlinewidth\":0,\"ticks\":\"\"}},\"type\":\"scatterpolargl\"}],\"scatterpolar\":[{\"marker\":{\"colorbar\":{\"outlinewidth\":0,\"ticks\":\"\"}},\"type\":\"scatterpolar\"}],\"scatter\":[{\"fillpattern\":{\"fillmode\":\"overlay\",\"size\":10,\"solidity\":0.2},\"type\":\"scatter\"}],\"scatterternary\":[{\"marker\":{\"colorbar\":{\"outlinewidth\":0,\"ticks\":\"\"}},\"type\":\"scatterternary\"}],\"surface\":[{\"colorbar\":{\"outlinewidth\":0,\"ticks\":\"\"},\"colorscale\":[[0.0,\"#0d0887\"],[0.1111111111111111,\"#46039f\"],[0.2222222222222222,\"#7201a8\"],[0.3333333333333333,\"#9c179e\"],[0.4444444444444444,\"#bd3786\"],[0.5555555555555556,\"#d8576b\"],[0.6666666666666666,\"#ed7953\"],[0.7777777777777778,\"#fb9f3a\"],[0.8888888888888888,\"#fdca26\"],[1.0,\"#f0f921\"]],\"type\":\"surface\"}],\"table\":[{\"cells\":{\"fill\":{\"color\":\"#EBF0F8\"},\"line\":{\"color\":\"white\"}},\"header\":{\"fill\":{\"color\":\"#C8D4E3\"},\"line\":{\"color\":\"white\"}},\"type\":\"table\"}]},\"layout\":{\"annotationdefaults\":{\"arrowcolor\":\"#2a3f5f\",\"arrowhead\":0,\"arrowwidth\":1},\"autotypenumbers\":\"strict\",\"coloraxis\":{\"colorbar\":{\"outlinewidth\":0,\"ticks\":\"\"}},\"colorscale\":{\"diverging\":[[0,\"#8e0152\"],[0.1,\"#c51b7d\"],[0.2,\"#de77ae\"],[0.3,\"#f1b6da\"],[0.4,\"#fde0ef\"],[0.5,\"#f7f7f7\"],[0.6,\"#e6f5d0\"],[0.7,\"#b8e186\"],[0.8,\"#7fbc41\"],[0.9,\"#4d9221\"],[1,\"#276419\"]],\"sequential\":[[0.0,\"#0d0887\"],[0.1111111111111111,\"#46039f\"],[0.2222222222222222,\"#7201a8\"],[0.3333333333333333,\"#9c179e\"],[0.4444444444444444,\"#bd3786\"],[0.5555555555555556,\"#d8576b\"],[0.6666666666666666,\"#ed7953\"],[0.7777777777777778,\"#fb9f3a\"],[0.8888888888888888,\"#fdca26\"],[1.0,\"#f0f921\"]],\"sequentialminus\":[[0.0,\"#0d0887\"],[0.1111111111111111,\"#46039f\"],[0.2222222222222222,\"#7201a8\"],[0.3333333333333333,\"#9c179e\"],[0.4444444444444444,\"#bd3786\"],[0.5555555555555556,\"#d8576b\"],[0.6666666666666666,\"#ed7953\"],[0.7777777777777778,\"#fb9f3a\"],[0.8888888888888888,\"#fdca26\"],[1.0,\"#f0f921\"]]},\"colorway\":[\"#636efa\",\"#EF553B\",\"#00cc96\",\"#ab63fa\",\"#FFA15A\",\"#19d3f3\",\"#FF6692\",\"#B6E880\",\"#FF97FF\",\"#FECB52\"],\"font\":{\"color\":\"#2a3f5f\"},\"geo\":{\"bgcolor\":\"white\",\"lakecolor\":\"white\",\"landcolor\":\"#E5ECF6\",\"showlakes\":true,\"showland\":true,\"subunitcolor\":\"white\"},\"hoverlabel\":{\"align\":\"left\"},\"hovermode\":\"closest\",\"mapbox\":{\"style\":\"light\"},\"paper_bgcolor\":\"white\",\"plot_bgcolor\":\"#E5ECF6\",\"polar\":{\"angularaxis\":{\"gridcolor\":\"white\",\"linecolor\":\"white\",\"ticks\":\"\"},\"bgcolor\":\"#E5ECF6\",\"radialaxis\":{\"gridcolor\":\"white\",\"linecolor\":\"white\",\"ticks\":\"\"}},\"scene\":{\"xaxis\":{\"backgroundcolor\":\"#E5ECF6\",\"gridcolor\":\"white\",\"gridwidth\":2,\"linecolor\":\"white\",\"showbackground\":true,\"ticks\":\"\",\"zerolinecolor\":\"white\"},\"yaxis\":{\"backgroundcolor\":\"#E5ECF6\",\"gridcolor\":\"white\",\"gridwidth\":2,\"linecolor\":\"white\",\"showbackground\":true,\"ticks\":\"\",\"zerolinecolor\":\"white\"},\"zaxis\":{\"backgroundcolor\":\"#E5ECF6\",\"gridcolor\":\"white\",\"gridwidth\":2,\"linecolor\":\"white\",\"showbackground\":true,\"ticks\":\"\",\"zerolinecolor\":\"white\"}},\"shapedefaults\":{\"line\":{\"color\":\"#2a3f5f\"}},\"ternary\":{\"aaxis\":{\"gridcolor\":\"white\",\"linecolor\":\"white\",\"ticks\":\"\"},\"baxis\":{\"gridcolor\":\"white\",\"linecolor\":\"white\",\"ticks\":\"\"},\"bgcolor\":\"#E5ECF6\",\"caxis\":{\"gridcolor\":\"white\",\"linecolor\":\"white\",\"ticks\":\"\"}},\"title\":{\"x\":0.05},\"xaxis\":{\"automargin\":true,\"gridcolor\":\"white\",\"linecolor\":\"white\",\"ticks\":\"\",\"title\":{\"standoff\":15},\"zerolinecolor\":\"white\",\"zerolinewidth\":2},\"yaxis\":{\"automargin\":true,\"gridcolor\":\"white\",\"linecolor\":\"white\",\"ticks\":\"\",\"title\":{\"standoff\":15},\"zerolinecolor\":\"white\",\"zerolinewidth\":2}}},\"title\":{\"font\":{\"color\":\"#4D5663\"}},\"xaxis\":{\"gridcolor\":\"#E1E5ED\",\"showgrid\":true,\"tickfont\":{\"color\":\"#4D5663\"},\"title\":{\"font\":{\"color\":\"#4D5663\"},\"text\":\"\"},\"zerolinecolor\":\"#E1E5ED\"},\"yaxis\":{\"gridcolor\":\"#E1E5ED\",\"showgrid\":true,\"tickfont\":{\"color\":\"#4D5663\"},\"title\":{\"font\":{\"color\":\"#4D5663\"},\"text\":\"\"},\"zerolinecolor\":\"#E1E5ED\"}},                        {\"showLink\": true, \"linkText\": \"Export to plot.ly\", \"plotlyServerURL\": \"https://plot.ly\", \"responsive\": true}                    ).then(function(){\n",
       "                            \n",
       "var gd = document.getElementById('bc535f28-53e2-4b99-97f6-5d000726527f');\n",
       "var x = new MutationObserver(function (mutations, observer) {{\n",
       "        var display = window.getComputedStyle(gd).display;\n",
       "        if (!display || display === 'none') {{\n",
       "            console.log([gd, 'removed!']);\n",
       "            Plotly.purge(gd);\n",
       "            observer.disconnect();\n",
       "        }}\n",
       "}});\n",
       "\n",
       "// Listen for the removal of the full notebook cells\n",
       "var notebookContainer = gd.closest('#notebook-container');\n",
       "if (notebookContainer) {{\n",
       "    x.observe(notebookContainer, {childList: true});\n",
       "}}\n",
       "\n",
       "// Listen for the clearing of the current output cell\n",
       "var outputEl = gd.closest('.output');\n",
       "if (outputEl) {{\n",
       "    x.observe(outputEl, {childList: true});\n",
       "}}\n",
       "\n",
       "                        })                };                });            </script>        </div>"
      ]
     },
     "metadata": {},
     "output_type": "display_data"
    }
   ],
   "source": [
    "df.iplot(kind='bubble',x='A',y='B',size='C')"
   ]
  },
  {
   "cell_type": "code",
   "execution_count": 46,
   "id": "e207659c",
   "metadata": {},
   "outputs": [],
   "source": [
    "#common in gdp happiness plots un reports etc"
   ]
  },
  {
   "cell_type": "code",
   "execution_count": 47,
   "id": "f2701258",
   "metadata": {},
   "outputs": [
    {
     "data": {
      "application/vnd.plotly.v1+json": {
       "config": {
        "linkText": "Export to plot.ly",
        "plotlyServerURL": "https://plot.ly",
        "showLink": true
       },
       "data": [
        {
         "histfunc": "count",
         "histnorm": "",
         "marker": {
          "color": "rgba(255, 153, 51, 1.0)",
          "line": {
           "color": "#4D5663",
           "width": 1.3
          }
         },
         "name": "A",
         "nbinsx": 10,
         "opacity": 0.8,
         "orientation": "v",
         "type": "histogram",
         "x": [
          0.2995340644905276,
          0.2205656269030712,
          -1.056174561092009,
          0.7591755781504027,
          0.5326518825067723,
          1.3044295669802999,
          1.3281748768339667,
          -0.09922890207163876,
          0.6072907830909519,
          1.1826119307800274,
          0.3200674123294725,
          -1.3012890682412424,
          0.39931988429912135,
          -0.34879285248827946,
          -0.7832437352797109,
          0.24797886378743955,
          -2.8773605354838225,
          -0.41107805336817005,
          0.5428332832960278,
          -0.34202223323909137,
          0.6703636476801402,
          0.47056109501637966,
          0.5846164712351315,
          -0.8661517063929928,
          0.44216954122070445,
          0.5363106882328338,
          -0.27977714813382293,
          0.4380768982907296,
          -1.4402841454482886,
          0.256393582261463,
          1.6549149482388437,
          -1.3228705669839567,
          -0.7548185531120883,
          0.44297261355922846,
          1.3580577186497258,
          -0.5112296882385694,
          1.5741392211439416,
          0.13109722398933546,
          -1.4680827312451141,
          -0.6059423946677869,
          0.144459267134369,
          0.3021717007693336,
          -0.22744784266075352,
          0.03450363264569284,
          0.05177307263761155,
          0.1399332902663523,
          1.0229527181140547,
          -2.6321782638398714,
          0.7745092754158753,
          -1.5926248522708426,
          -0.7031009714908845,
          0.6710809023395671,
          -0.1438163725324016,
          0.5082776496708439,
          0.0767121365819478,
          0.6457023848381208,
          -0.3580314419038346,
          -0.774839310285214,
          -0.43466021347224676,
          -1.6000577779988623,
          0.5086471535040138,
          0.37958854995049945,
          -1.0104442910961025,
          -0.1514509188462034,
          -0.12732690203447797,
          0.8209231907729551,
          -0.22640327123432807,
          1.4349981836183903,
          0.6890109446047313,
          1.0775411458507147,
          0.29266013334010743,
          0.3923131280672186,
          -0.7821903721721409,
          -1.2087665128305551,
          -0.04005064789093992,
          0.586175941448245,
          -0.39450460865418874,
          0.7192182080202476,
          1.8882833172200184,
          0.8341960000980053,
          0.049935991907428666,
          0.47937322066761195,
          0.07588343334653969,
          -0.2526301622266612,
          -0.5289099932191659,
          -0.10700710269370067,
          -0.4631513345001443,
          -0.3924250958303068,
          1.3819170930309186,
          -1.0229272234878124,
          -0.8612817624400896,
          -1.3485764993188754,
          1.9759061035618044,
          -0.9223448984827978,
          -1.0472531006509647,
          -0.09420726481422516,
          0.13682879551914487,
          -0.6242439989143544,
          -0.6080082561687519,
          -0.335483037163409
         ],
         "xaxis": "x",
         "yaxis": "y"
        },
        {
         "line": {
          "color": "rgba(128, 128, 128, 1.0)",
          "dash": "solid",
          "shape": "linear",
          "width": 1.3
         },
         "marker": {
          "size": 2,
          "symbol": "circle"
         },
         "mode": "markers",
         "name": "A",
         "text": "",
         "type": "scatter",
         "x": [
          0.6288873106968625,
          1.5552086644040435,
          -0.2020635486518468,
          -0.37421286494601835,
          -1.8901354714158451,
          1.1642455262282074,
          -1.0335669426310594,
          -0.6453012578613595,
          -2.500063217723074,
          0.6208790462589199,
          -0.33919024377178775,
          -0.6323417396484956,
          -1.1042370872644787,
          0.687990530703836,
          -0.29482934295310004,
          -1.760993482777496,
          0.4013839131768914,
          -0.19128337287568414,
          0.38831658519353085,
          1.1022164676082287,
          -0.7658403159220927,
          0.39746202290875726,
          0.05253399825030649,
          -1.2986978680790244,
          0.5516764900142631,
          0.9594352288580066,
          -1.6176146758116843,
          0.566234817380164,
          0.03291261568889055,
          -0.10412367010856544,
          0.18813480982253722,
          0.33139764237225916,
          -0.4352051883947046,
          -0.1850665849362166,
          1.977129824661224,
          -0.716727900543721,
          -0.9962485346727465,
          2.1457330602622915,
          1.4786805379182806,
          -0.3073961040236371,
          0.5190635210197534,
          -0.2977117536092024,
          1.07655420499391,
          1.6402869584964106,
          -0.6736312859201243,
          -0.5421796901027264,
          0.2609352631947877,
          -0.2243329499018594,
          0.1421432931661823,
          1.093261930610181,
          0.30912184023215555,
          0.5274847296838001,
          -0.8482473955350368,
          -1.1740459296667167,
          0.12050195080175524,
          0.6917000321710234,
          -0.24954254013796354,
          -0.0555574867666861,
          -0.11674030611528681,
          -1.334786476612104,
          -0.7223974650682061,
          1.4343193468848872,
          -1.3171815064176886,
          -0.6898579117892474,
          -0.30456626778121365,
          -0.38585924100511965,
          -0.8134747561637852,
          2.010879165813113,
          1.8244088747007474,
          -0.3670493932221158,
          0.03065143496118238,
          -0.6766752794932412,
          -0.21596160514515156,
          -0.3343960409842762,
          -0.5872454814216169,
          -0.2983674285813973,
          0.2681694412271725,
          -0.5871780526557453,
          0.6345911247702245,
          -0.48125080520848557,
          -1.537351065621091,
          0.6715502994413234,
          -0.7553536888819133,
          0.7274770340599817,
          0.38331131279465536,
          0.20240429935781595,
          -0.03698531065937211,
          0.7746536546150867,
          -0.12743883677501958,
          -0.6009991380090095,
          0.7150308408538082,
          0.8401271366581022,
          -1.8596498898007021,
          -1.3339806032828878,
          -0.22198748420879716,
          -1.8428750875481898,
          0.4064685378532878,
          -0.1475973932807723,
          -0.8804055552297537,
          -1.580823041015511
         ],
         "xaxis": "x2",
         "y": [
          0.2995340644905276,
          0.2205656269030712,
          -1.056174561092009,
          0.7591755781504027,
          0.5326518825067723,
          1.3044295669802999,
          1.3281748768339667,
          -0.09922890207163876,
          0.6072907830909519,
          1.1826119307800274,
          0.3200674123294725,
          -1.3012890682412424,
          0.39931988429912135,
          -0.34879285248827946,
          -0.7832437352797109,
          0.24797886378743955,
          -2.8773605354838225,
          -0.41107805336817005,
          0.5428332832960278,
          -0.34202223323909137,
          0.6703636476801402,
          0.47056109501637966,
          0.5846164712351315,
          -0.8661517063929928,
          0.44216954122070445,
          0.5363106882328338,
          -0.27977714813382293,
          0.4380768982907296,
          -1.4402841454482886,
          0.256393582261463,
          1.6549149482388437,
          -1.3228705669839567,
          -0.7548185531120883,
          0.44297261355922846,
          1.3580577186497258,
          -0.5112296882385694,
          1.5741392211439416,
          0.13109722398933546,
          -1.4680827312451141,
          -0.6059423946677869,
          0.144459267134369,
          0.3021717007693336,
          -0.22744784266075352,
          0.03450363264569284,
          0.05177307263761155,
          0.1399332902663523,
          1.0229527181140547,
          -2.6321782638398714,
          0.7745092754158753,
          -1.5926248522708426,
          -0.7031009714908845,
          0.6710809023395671,
          -0.1438163725324016,
          0.5082776496708439,
          0.0767121365819478,
          0.6457023848381208,
          -0.3580314419038346,
          -0.774839310285214,
          -0.43466021347224676,
          -1.6000577779988623,
          0.5086471535040138,
          0.37958854995049945,
          -1.0104442910961025,
          -0.1514509188462034,
          -0.12732690203447797,
          0.8209231907729551,
          -0.22640327123432807,
          1.4349981836183903,
          0.6890109446047313,
          1.0775411458507147,
          0.29266013334010743,
          0.3923131280672186,
          -0.7821903721721409,
          -1.2087665128305551,
          -0.04005064789093992,
          0.586175941448245,
          -0.39450460865418874,
          0.7192182080202476,
          1.8882833172200184,
          0.8341960000980053,
          0.049935991907428666,
          0.47937322066761195,
          0.07588343334653969,
          -0.2526301622266612,
          -0.5289099932191659,
          -0.10700710269370067,
          -0.4631513345001443,
          -0.3924250958303068,
          1.3819170930309186,
          -1.0229272234878124,
          -0.8612817624400896,
          -1.3485764993188754,
          1.9759061035618044,
          -0.9223448984827978,
          -1.0472531006509647,
          -0.09420726481422516,
          0.13682879551914487,
          -0.6242439989143544,
          -0.6080082561687519,
          -0.335483037163409
         ],
         "yaxis": "y2"
        },
        {
         "line": {
          "color": "rgba(128, 128, 128, 1.0)",
          "dash": "solid",
          "shape": "linear",
          "width": 1.3
         },
         "marker": {
          "size": 2,
          "symbol": "circle"
         },
         "mode": "markers",
         "name": "A",
         "text": "",
         "type": "scatter",
         "x": [
          1.4924820594701595,
          0.7869320413273678,
          0.32273074575160593,
          0.6082508425877736,
          0.2514930413665632,
          -0.4034861638206237,
          -0.5768681716474443,
          0.6856012702187398,
          -1.7068889895044812,
          2.0385721334530302,
          -0.8191936955348694,
          -0.13602903900798372,
          0.9667930631260175,
          0.0006992865771992262,
          0.39111968811096387,
          -0.43540783703434993,
          -0.3221271598960024,
          1.514266460244137,
          -0.020695230765908058,
          1.035430942071528,
          0.6506811637253885,
          -1.145913181938134,
          -0.34697751515819814,
          0.5722502898175891,
          -0.7519895563251693,
          1.9776712105857348,
          0.3372495147021022,
          -0.4395212659175542,
          -1.2050237800542114,
          -0.06537901172259553,
          -0.5797928888875487,
          -1.431944247132665,
          3.0903555244262755,
          -0.6651819863410234,
          -1.8564840845463624,
          -0.2717618053538439,
          -0.10389500197897769,
          1.0364867265617488,
          -0.6559090419483852,
          0.29752590565428155,
          1.0219876099372784,
          -2.442035360843184,
          0.850123129127888,
          0.24684047283695598,
          -0.3678949207276394,
          -0.7883469321527289,
          1.6771022341276227,
          0.9389046366431055,
          -1.8881830834792284,
          0.5713559181159971,
          -1.3460438578180391,
          -0.3668246713811393,
          -0.3500860505947476,
          -0.3964023791091147,
          0.24512962516339712,
          -1.1552665030490763,
          0.09138475183594481,
          -0.22696740865481954,
          0.8208391263967445,
          -0.19519785712563537,
          -1.3695877423647327,
          -0.5385789870693948,
          0.6416446055778066,
          0.1382865607176138,
          1.000976342056877,
          -0.6824060028252374,
          0.48166835711151784,
          -1.7697737629288337,
          -0.6571145004145996,
          0.1894110624135475,
          0.9810977645999668,
          -1.0499061540091557,
          0.6730116130030037,
          2.112389062467758,
          0.04722673653972112,
          0.5370038684396691,
          -0.8236499029151352,
          -0.9230905362969907,
          0.2880332090928785,
          0.20315760791893966,
          0.2603532879125389,
          -1.2692769502035877,
          -0.8287321214176975,
          -0.07163646942393866,
          -0.4651101256940488,
          -0.8578945848200039,
          0.0891853556732661,
          -0.17394563516085862,
          -0.0507649119885555,
          -0.6267804040324925,
          -0.770225541117248,
          0.846148721475124,
          -0.2500008631262009,
          -1.6556309939729155,
          -0.8753658192097954,
          -0.2102264072150913,
          1.1306846851390011,
          1.1411074885543189,
          1.0323578639940127,
          0.22708670869310604
         ],
         "xaxis": "x3",
         "y": [
          0.2995340644905276,
          0.2205656269030712,
          -1.056174561092009,
          0.7591755781504027,
          0.5326518825067723,
          1.3044295669802999,
          1.3281748768339667,
          -0.09922890207163876,
          0.6072907830909519,
          1.1826119307800274,
          0.3200674123294725,
          -1.3012890682412424,
          0.39931988429912135,
          -0.34879285248827946,
          -0.7832437352797109,
          0.24797886378743955,
          -2.8773605354838225,
          -0.41107805336817005,
          0.5428332832960278,
          -0.34202223323909137,
          0.6703636476801402,
          0.47056109501637966,
          0.5846164712351315,
          -0.8661517063929928,
          0.44216954122070445,
          0.5363106882328338,
          -0.27977714813382293,
          0.4380768982907296,
          -1.4402841454482886,
          0.256393582261463,
          1.6549149482388437,
          -1.3228705669839567,
          -0.7548185531120883,
          0.44297261355922846,
          1.3580577186497258,
          -0.5112296882385694,
          1.5741392211439416,
          0.13109722398933546,
          -1.4680827312451141,
          -0.6059423946677869,
          0.144459267134369,
          0.3021717007693336,
          -0.22744784266075352,
          0.03450363264569284,
          0.05177307263761155,
          0.1399332902663523,
          1.0229527181140547,
          -2.6321782638398714,
          0.7745092754158753,
          -1.5926248522708426,
          -0.7031009714908845,
          0.6710809023395671,
          -0.1438163725324016,
          0.5082776496708439,
          0.0767121365819478,
          0.6457023848381208,
          -0.3580314419038346,
          -0.774839310285214,
          -0.43466021347224676,
          -1.6000577779988623,
          0.5086471535040138,
          0.37958854995049945,
          -1.0104442910961025,
          -0.1514509188462034,
          -0.12732690203447797,
          0.8209231907729551,
          -0.22640327123432807,
          1.4349981836183903,
          0.6890109446047313,
          1.0775411458507147,
          0.29266013334010743,
          0.3923131280672186,
          -0.7821903721721409,
          -1.2087665128305551,
          -0.04005064789093992,
          0.586175941448245,
          -0.39450460865418874,
          0.7192182080202476,
          1.8882833172200184,
          0.8341960000980053,
          0.049935991907428666,
          0.47937322066761195,
          0.07588343334653969,
          -0.2526301622266612,
          -0.5289099932191659,
          -0.10700710269370067,
          -0.4631513345001443,
          -0.3924250958303068,
          1.3819170930309186,
          -1.0229272234878124,
          -0.8612817624400896,
          -1.3485764993188754,
          1.9759061035618044,
          -0.9223448984827978,
          -1.0472531006509647,
          -0.09420726481422516,
          0.13682879551914487,
          -0.6242439989143544,
          -0.6080082561687519,
          -0.335483037163409
         ],
         "yaxis": "y3"
        },
        {
         "line": {
          "color": "rgba(128, 128, 128, 1.0)",
          "dash": "solid",
          "shape": "linear",
          "width": 1.3
         },
         "marker": {
          "size": 2,
          "symbol": "circle"
         },
         "mode": "markers",
         "name": "A",
         "text": "",
         "type": "scatter",
         "x": [
          0.8784097635079271,
          0.41373833465411486,
          -0.017982234333353768,
          -0.9849581469253769,
          -0.525922792414035,
          -1.5758495572561193,
          -2.6008494818189343,
          0.08321481462802557,
          -0.5621103549964049,
          -0.666115045990679,
          -0.22509352690535678,
          -1.0643184410464175,
          0.22251579823925932,
          0.5986063082126469,
          0.11459219679383639,
          0.7593125165744864,
          0.2103290172024642,
          -2.017164157575092,
          -0.06478200186368004,
          0.8445371088727064,
          0.45596778382233266,
          -0.820671089748138,
          -0.10983235640478299,
          -0.4939671612088846,
          -1.4432782231781656,
          1.2936663433198556,
          -0.7127750389182068,
          -1.2837432002030262,
          -0.4005004052185187,
          -0.3282063282740504,
          -0.6850873197215348,
          -0.028277280860713516,
          1.2303787242796584,
          0.8794190943231905,
          -0.2728446264895277,
          0.09732640946867503,
          -0.11355883865903231,
          0.2128139309813744,
          -0.38963892316985477,
          0.12767461473080274,
          -0.09920015714668835,
          0.26371995379552415,
          -0.4434420199859188,
          -0.5607970551495925,
          2.063900563398957,
          -1.4857712119266875,
          0.007075658199432495,
          1.2878039096650393,
          -0.20469356440844869,
          -1.0443218157028409,
          0.30572575901613863,
          0.9186397492736501,
          0.463455305324779,
          0.5485539996955462,
          -0.2680810662274818,
          -0.9398484005231073,
          -0.15197786833529853,
          -0.021104928437870044,
          -0.7163874781331797,
          -0.07781558751246322,
          -0.5088178501681737,
          -0.3759080073603766,
          0.57215110217102,
          -0.3459356400266322,
          0.5123513245767716,
          1.8156822307430185,
          -1.5987878127320017,
          0.9828016670135185,
          -0.3987342334756005,
          1.553709645102389,
          -0.7930389415923372,
          -0.7878647849157575,
          -2.47437913953804,
          -1.0697479981823497,
          0.04802162487314175,
          -0.8340213258052468,
          0.8393512676752578,
          -0.6399858404914921,
          0.401629816409806,
          -0.08581239209276978,
          1.0681103969845536,
          -0.08160047220364465,
          0.09482987517133963,
          0.3768970125500851,
          1.3322319124126047,
          -0.23802377313554726,
          0.5443599989176237,
          0.2640731149237633,
          0.2516458614493047,
          -0.30819230362295347,
          -0.4297721916496139,
          0.493865700710478,
          2.073198652660911,
          -0.6036327703946305,
          -0.84105157047565,
          -2.3104107765592623,
          -0.32611725470856845,
          2.3388040250701154,
          -0.33413233446227103,
          -0.10019130753522917
         ],
         "xaxis": "x4",
         "y": [
          0.2995340644905276,
          0.2205656269030712,
          -1.056174561092009,
          0.7591755781504027,
          0.5326518825067723,
          1.3044295669802999,
          1.3281748768339667,
          -0.09922890207163876,
          0.6072907830909519,
          1.1826119307800274,
          0.3200674123294725,
          -1.3012890682412424,
          0.39931988429912135,
          -0.34879285248827946,
          -0.7832437352797109,
          0.24797886378743955,
          -2.8773605354838225,
          -0.41107805336817005,
          0.5428332832960278,
          -0.34202223323909137,
          0.6703636476801402,
          0.47056109501637966,
          0.5846164712351315,
          -0.8661517063929928,
          0.44216954122070445,
          0.5363106882328338,
          -0.27977714813382293,
          0.4380768982907296,
          -1.4402841454482886,
          0.256393582261463,
          1.6549149482388437,
          -1.3228705669839567,
          -0.7548185531120883,
          0.44297261355922846,
          1.3580577186497258,
          -0.5112296882385694,
          1.5741392211439416,
          0.13109722398933546,
          -1.4680827312451141,
          -0.6059423946677869,
          0.144459267134369,
          0.3021717007693336,
          -0.22744784266075352,
          0.03450363264569284,
          0.05177307263761155,
          0.1399332902663523,
          1.0229527181140547,
          -2.6321782638398714,
          0.7745092754158753,
          -1.5926248522708426,
          -0.7031009714908845,
          0.6710809023395671,
          -0.1438163725324016,
          0.5082776496708439,
          0.0767121365819478,
          0.6457023848381208,
          -0.3580314419038346,
          -0.774839310285214,
          -0.43466021347224676,
          -1.6000577779988623,
          0.5086471535040138,
          0.37958854995049945,
          -1.0104442910961025,
          -0.1514509188462034,
          -0.12732690203447797,
          0.8209231907729551,
          -0.22640327123432807,
          1.4349981836183903,
          0.6890109446047313,
          1.0775411458507147,
          0.29266013334010743,
          0.3923131280672186,
          -0.7821903721721409,
          -1.2087665128305551,
          -0.04005064789093992,
          0.586175941448245,
          -0.39450460865418874,
          0.7192182080202476,
          1.8882833172200184,
          0.8341960000980053,
          0.049935991907428666,
          0.47937322066761195,
          0.07588343334653969,
          -0.2526301622266612,
          -0.5289099932191659,
          -0.10700710269370067,
          -0.4631513345001443,
          -0.3924250958303068,
          1.3819170930309186,
          -1.0229272234878124,
          -0.8612817624400896,
          -1.3485764993188754,
          1.9759061035618044,
          -0.9223448984827978,
          -1.0472531006509647,
          -0.09420726481422516,
          0.13682879551914487,
          -0.6242439989143544,
          -0.6080082561687519,
          -0.335483037163409
         ],
         "yaxis": "y4"
        },
        {
         "line": {
          "color": "rgba(128, 128, 128, 1.0)",
          "dash": "solid",
          "shape": "linear",
          "width": 1.3
         },
         "marker": {
          "size": 2,
          "symbol": "circle"
         },
         "mode": "markers",
         "name": "B",
         "text": "",
         "type": "scatter",
         "x": [
          0.2995340644905276,
          0.2205656269030712,
          -1.056174561092009,
          0.7591755781504027,
          0.5326518825067723,
          1.3044295669802999,
          1.3281748768339667,
          -0.09922890207163876,
          0.6072907830909519,
          1.1826119307800274,
          0.3200674123294725,
          -1.3012890682412424,
          0.39931988429912135,
          -0.34879285248827946,
          -0.7832437352797109,
          0.24797886378743955,
          -2.8773605354838225,
          -0.41107805336817005,
          0.5428332832960278,
          -0.34202223323909137,
          0.6703636476801402,
          0.47056109501637966,
          0.5846164712351315,
          -0.8661517063929928,
          0.44216954122070445,
          0.5363106882328338,
          -0.27977714813382293,
          0.4380768982907296,
          -1.4402841454482886,
          0.256393582261463,
          1.6549149482388437,
          -1.3228705669839567,
          -0.7548185531120883,
          0.44297261355922846,
          1.3580577186497258,
          -0.5112296882385694,
          1.5741392211439416,
          0.13109722398933546,
          -1.4680827312451141,
          -0.6059423946677869,
          0.144459267134369,
          0.3021717007693336,
          -0.22744784266075352,
          0.03450363264569284,
          0.05177307263761155,
          0.1399332902663523,
          1.0229527181140547,
          -2.6321782638398714,
          0.7745092754158753,
          -1.5926248522708426,
          -0.7031009714908845,
          0.6710809023395671,
          -0.1438163725324016,
          0.5082776496708439,
          0.0767121365819478,
          0.6457023848381208,
          -0.3580314419038346,
          -0.774839310285214,
          -0.43466021347224676,
          -1.6000577779988623,
          0.5086471535040138,
          0.37958854995049945,
          -1.0104442910961025,
          -0.1514509188462034,
          -0.12732690203447797,
          0.8209231907729551,
          -0.22640327123432807,
          1.4349981836183903,
          0.6890109446047313,
          1.0775411458507147,
          0.29266013334010743,
          0.3923131280672186,
          -0.7821903721721409,
          -1.2087665128305551,
          -0.04005064789093992,
          0.586175941448245,
          -0.39450460865418874,
          0.7192182080202476,
          1.8882833172200184,
          0.8341960000980053,
          0.049935991907428666,
          0.47937322066761195,
          0.07588343334653969,
          -0.2526301622266612,
          -0.5289099932191659,
          -0.10700710269370067,
          -0.4631513345001443,
          -0.3924250958303068,
          1.3819170930309186,
          -1.0229272234878124,
          -0.8612817624400896,
          -1.3485764993188754,
          1.9759061035618044,
          -0.9223448984827978,
          -1.0472531006509647,
          -0.09420726481422516,
          0.13682879551914487,
          -0.6242439989143544,
          -0.6080082561687519,
          -0.335483037163409
         ],
         "xaxis": "x5",
         "y": [
          0.6288873106968625,
          1.5552086644040435,
          -0.2020635486518468,
          -0.37421286494601835,
          -1.8901354714158451,
          1.1642455262282074,
          -1.0335669426310594,
          -0.6453012578613595,
          -2.500063217723074,
          0.6208790462589199,
          -0.33919024377178775,
          -0.6323417396484956,
          -1.1042370872644787,
          0.687990530703836,
          -0.29482934295310004,
          -1.760993482777496,
          0.4013839131768914,
          -0.19128337287568414,
          0.38831658519353085,
          1.1022164676082287,
          -0.7658403159220927,
          0.39746202290875726,
          0.05253399825030649,
          -1.2986978680790244,
          0.5516764900142631,
          0.9594352288580066,
          -1.6176146758116843,
          0.566234817380164,
          0.03291261568889055,
          -0.10412367010856544,
          0.18813480982253722,
          0.33139764237225916,
          -0.4352051883947046,
          -0.1850665849362166,
          1.977129824661224,
          -0.716727900543721,
          -0.9962485346727465,
          2.1457330602622915,
          1.4786805379182806,
          -0.3073961040236371,
          0.5190635210197534,
          -0.2977117536092024,
          1.07655420499391,
          1.6402869584964106,
          -0.6736312859201243,
          -0.5421796901027264,
          0.2609352631947877,
          -0.2243329499018594,
          0.1421432931661823,
          1.093261930610181,
          0.30912184023215555,
          0.5274847296838001,
          -0.8482473955350368,
          -1.1740459296667167,
          0.12050195080175524,
          0.6917000321710234,
          -0.24954254013796354,
          -0.0555574867666861,
          -0.11674030611528681,
          -1.334786476612104,
          -0.7223974650682061,
          1.4343193468848872,
          -1.3171815064176886,
          -0.6898579117892474,
          -0.30456626778121365,
          -0.38585924100511965,
          -0.8134747561637852,
          2.010879165813113,
          1.8244088747007474,
          -0.3670493932221158,
          0.03065143496118238,
          -0.6766752794932412,
          -0.21596160514515156,
          -0.3343960409842762,
          -0.5872454814216169,
          -0.2983674285813973,
          0.2681694412271725,
          -0.5871780526557453,
          0.6345911247702245,
          -0.48125080520848557,
          -1.537351065621091,
          0.6715502994413234,
          -0.7553536888819133,
          0.7274770340599817,
          0.38331131279465536,
          0.20240429935781595,
          -0.03698531065937211,
          0.7746536546150867,
          -0.12743883677501958,
          -0.6009991380090095,
          0.7150308408538082,
          0.8401271366581022,
          -1.8596498898007021,
          -1.3339806032828878,
          -0.22198748420879716,
          -1.8428750875481898,
          0.4064685378532878,
          -0.1475973932807723,
          -0.8804055552297537,
          -1.580823041015511
         ],
         "yaxis": "y5"
        },
        {
         "histfunc": "count",
         "histnorm": "",
         "marker": {
          "color": "rgba(55, 128, 191, 1.0)",
          "line": {
           "color": "#4D5663",
           "width": 1.3
          }
         },
         "name": "B",
         "nbinsx": 10,
         "opacity": 0.8,
         "orientation": "v",
         "type": "histogram",
         "x": [
          0.6288873106968625,
          1.5552086644040435,
          -0.2020635486518468,
          -0.37421286494601835,
          -1.8901354714158451,
          1.1642455262282074,
          -1.0335669426310594,
          -0.6453012578613595,
          -2.500063217723074,
          0.6208790462589199,
          -0.33919024377178775,
          -0.6323417396484956,
          -1.1042370872644787,
          0.687990530703836,
          -0.29482934295310004,
          -1.760993482777496,
          0.4013839131768914,
          -0.19128337287568414,
          0.38831658519353085,
          1.1022164676082287,
          -0.7658403159220927,
          0.39746202290875726,
          0.05253399825030649,
          -1.2986978680790244,
          0.5516764900142631,
          0.9594352288580066,
          -1.6176146758116843,
          0.566234817380164,
          0.03291261568889055,
          -0.10412367010856544,
          0.18813480982253722,
          0.33139764237225916,
          -0.4352051883947046,
          -0.1850665849362166,
          1.977129824661224,
          -0.716727900543721,
          -0.9962485346727465,
          2.1457330602622915,
          1.4786805379182806,
          -0.3073961040236371,
          0.5190635210197534,
          -0.2977117536092024,
          1.07655420499391,
          1.6402869584964106,
          -0.6736312859201243,
          -0.5421796901027264,
          0.2609352631947877,
          -0.2243329499018594,
          0.1421432931661823,
          1.093261930610181,
          0.30912184023215555,
          0.5274847296838001,
          -0.8482473955350368,
          -1.1740459296667167,
          0.12050195080175524,
          0.6917000321710234,
          -0.24954254013796354,
          -0.0555574867666861,
          -0.11674030611528681,
          -1.334786476612104,
          -0.7223974650682061,
          1.4343193468848872,
          -1.3171815064176886,
          -0.6898579117892474,
          -0.30456626778121365,
          -0.38585924100511965,
          -0.8134747561637852,
          2.010879165813113,
          1.8244088747007474,
          -0.3670493932221158,
          0.03065143496118238,
          -0.6766752794932412,
          -0.21596160514515156,
          -0.3343960409842762,
          -0.5872454814216169,
          -0.2983674285813973,
          0.2681694412271725,
          -0.5871780526557453,
          0.6345911247702245,
          -0.48125080520848557,
          -1.537351065621091,
          0.6715502994413234,
          -0.7553536888819133,
          0.7274770340599817,
          0.38331131279465536,
          0.20240429935781595,
          -0.03698531065937211,
          0.7746536546150867,
          -0.12743883677501958,
          -0.6009991380090095,
          0.7150308408538082,
          0.8401271366581022,
          -1.8596498898007021,
          -1.3339806032828878,
          -0.22198748420879716,
          -1.8428750875481898,
          0.4064685378532878,
          -0.1475973932807723,
          -0.8804055552297537,
          -1.580823041015511
         ],
         "xaxis": "x6",
         "yaxis": "y6"
        },
        {
         "line": {
          "color": "rgba(128, 128, 128, 1.0)",
          "dash": "solid",
          "shape": "linear",
          "width": 1.3
         },
         "marker": {
          "size": 2,
          "symbol": "circle"
         },
         "mode": "markers",
         "name": "B",
         "text": "",
         "type": "scatter",
         "x": [
          1.4924820594701595,
          0.7869320413273678,
          0.32273074575160593,
          0.6082508425877736,
          0.2514930413665632,
          -0.4034861638206237,
          -0.5768681716474443,
          0.6856012702187398,
          -1.7068889895044812,
          2.0385721334530302,
          -0.8191936955348694,
          -0.13602903900798372,
          0.9667930631260175,
          0.0006992865771992262,
          0.39111968811096387,
          -0.43540783703434993,
          -0.3221271598960024,
          1.514266460244137,
          -0.020695230765908058,
          1.035430942071528,
          0.6506811637253885,
          -1.145913181938134,
          -0.34697751515819814,
          0.5722502898175891,
          -0.7519895563251693,
          1.9776712105857348,
          0.3372495147021022,
          -0.4395212659175542,
          -1.2050237800542114,
          -0.06537901172259553,
          -0.5797928888875487,
          -1.431944247132665,
          3.0903555244262755,
          -0.6651819863410234,
          -1.8564840845463624,
          -0.2717618053538439,
          -0.10389500197897769,
          1.0364867265617488,
          -0.6559090419483852,
          0.29752590565428155,
          1.0219876099372784,
          -2.442035360843184,
          0.850123129127888,
          0.24684047283695598,
          -0.3678949207276394,
          -0.7883469321527289,
          1.6771022341276227,
          0.9389046366431055,
          -1.8881830834792284,
          0.5713559181159971,
          -1.3460438578180391,
          -0.3668246713811393,
          -0.3500860505947476,
          -0.3964023791091147,
          0.24512962516339712,
          -1.1552665030490763,
          0.09138475183594481,
          -0.22696740865481954,
          0.8208391263967445,
          -0.19519785712563537,
          -1.3695877423647327,
          -0.5385789870693948,
          0.6416446055778066,
          0.1382865607176138,
          1.000976342056877,
          -0.6824060028252374,
          0.48166835711151784,
          -1.7697737629288337,
          -0.6571145004145996,
          0.1894110624135475,
          0.9810977645999668,
          -1.0499061540091557,
          0.6730116130030037,
          2.112389062467758,
          0.04722673653972112,
          0.5370038684396691,
          -0.8236499029151352,
          -0.9230905362969907,
          0.2880332090928785,
          0.20315760791893966,
          0.2603532879125389,
          -1.2692769502035877,
          -0.8287321214176975,
          -0.07163646942393866,
          -0.4651101256940488,
          -0.8578945848200039,
          0.0891853556732661,
          -0.17394563516085862,
          -0.0507649119885555,
          -0.6267804040324925,
          -0.770225541117248,
          0.846148721475124,
          -0.2500008631262009,
          -1.6556309939729155,
          -0.8753658192097954,
          -0.2102264072150913,
          1.1306846851390011,
          1.1411074885543189,
          1.0323578639940127,
          0.22708670869310604
         ],
         "xaxis": "x7",
         "y": [
          0.6288873106968625,
          1.5552086644040435,
          -0.2020635486518468,
          -0.37421286494601835,
          -1.8901354714158451,
          1.1642455262282074,
          -1.0335669426310594,
          -0.6453012578613595,
          -2.500063217723074,
          0.6208790462589199,
          -0.33919024377178775,
          -0.6323417396484956,
          -1.1042370872644787,
          0.687990530703836,
          -0.29482934295310004,
          -1.760993482777496,
          0.4013839131768914,
          -0.19128337287568414,
          0.38831658519353085,
          1.1022164676082287,
          -0.7658403159220927,
          0.39746202290875726,
          0.05253399825030649,
          -1.2986978680790244,
          0.5516764900142631,
          0.9594352288580066,
          -1.6176146758116843,
          0.566234817380164,
          0.03291261568889055,
          -0.10412367010856544,
          0.18813480982253722,
          0.33139764237225916,
          -0.4352051883947046,
          -0.1850665849362166,
          1.977129824661224,
          -0.716727900543721,
          -0.9962485346727465,
          2.1457330602622915,
          1.4786805379182806,
          -0.3073961040236371,
          0.5190635210197534,
          -0.2977117536092024,
          1.07655420499391,
          1.6402869584964106,
          -0.6736312859201243,
          -0.5421796901027264,
          0.2609352631947877,
          -0.2243329499018594,
          0.1421432931661823,
          1.093261930610181,
          0.30912184023215555,
          0.5274847296838001,
          -0.8482473955350368,
          -1.1740459296667167,
          0.12050195080175524,
          0.6917000321710234,
          -0.24954254013796354,
          -0.0555574867666861,
          -0.11674030611528681,
          -1.334786476612104,
          -0.7223974650682061,
          1.4343193468848872,
          -1.3171815064176886,
          -0.6898579117892474,
          -0.30456626778121365,
          -0.38585924100511965,
          -0.8134747561637852,
          2.010879165813113,
          1.8244088747007474,
          -0.3670493932221158,
          0.03065143496118238,
          -0.6766752794932412,
          -0.21596160514515156,
          -0.3343960409842762,
          -0.5872454814216169,
          -0.2983674285813973,
          0.2681694412271725,
          -0.5871780526557453,
          0.6345911247702245,
          -0.48125080520848557,
          -1.537351065621091,
          0.6715502994413234,
          -0.7553536888819133,
          0.7274770340599817,
          0.38331131279465536,
          0.20240429935781595,
          -0.03698531065937211,
          0.7746536546150867,
          -0.12743883677501958,
          -0.6009991380090095,
          0.7150308408538082,
          0.8401271366581022,
          -1.8596498898007021,
          -1.3339806032828878,
          -0.22198748420879716,
          -1.8428750875481898,
          0.4064685378532878,
          -0.1475973932807723,
          -0.8804055552297537,
          -1.580823041015511
         ],
         "yaxis": "y7"
        },
        {
         "line": {
          "color": "rgba(128, 128, 128, 1.0)",
          "dash": "solid",
          "shape": "linear",
          "width": 1.3
         },
         "marker": {
          "size": 2,
          "symbol": "circle"
         },
         "mode": "markers",
         "name": "B",
         "text": "",
         "type": "scatter",
         "x": [
          0.8784097635079271,
          0.41373833465411486,
          -0.017982234333353768,
          -0.9849581469253769,
          -0.525922792414035,
          -1.5758495572561193,
          -2.6008494818189343,
          0.08321481462802557,
          -0.5621103549964049,
          -0.666115045990679,
          -0.22509352690535678,
          -1.0643184410464175,
          0.22251579823925932,
          0.5986063082126469,
          0.11459219679383639,
          0.7593125165744864,
          0.2103290172024642,
          -2.017164157575092,
          -0.06478200186368004,
          0.8445371088727064,
          0.45596778382233266,
          -0.820671089748138,
          -0.10983235640478299,
          -0.4939671612088846,
          -1.4432782231781656,
          1.2936663433198556,
          -0.7127750389182068,
          -1.2837432002030262,
          -0.4005004052185187,
          -0.3282063282740504,
          -0.6850873197215348,
          -0.028277280860713516,
          1.2303787242796584,
          0.8794190943231905,
          -0.2728446264895277,
          0.09732640946867503,
          -0.11355883865903231,
          0.2128139309813744,
          -0.38963892316985477,
          0.12767461473080274,
          -0.09920015714668835,
          0.26371995379552415,
          -0.4434420199859188,
          -0.5607970551495925,
          2.063900563398957,
          -1.4857712119266875,
          0.007075658199432495,
          1.2878039096650393,
          -0.20469356440844869,
          -1.0443218157028409,
          0.30572575901613863,
          0.9186397492736501,
          0.463455305324779,
          0.5485539996955462,
          -0.2680810662274818,
          -0.9398484005231073,
          -0.15197786833529853,
          -0.021104928437870044,
          -0.7163874781331797,
          -0.07781558751246322,
          -0.5088178501681737,
          -0.3759080073603766,
          0.57215110217102,
          -0.3459356400266322,
          0.5123513245767716,
          1.8156822307430185,
          -1.5987878127320017,
          0.9828016670135185,
          -0.3987342334756005,
          1.553709645102389,
          -0.7930389415923372,
          -0.7878647849157575,
          -2.47437913953804,
          -1.0697479981823497,
          0.04802162487314175,
          -0.8340213258052468,
          0.8393512676752578,
          -0.6399858404914921,
          0.401629816409806,
          -0.08581239209276978,
          1.0681103969845536,
          -0.08160047220364465,
          0.09482987517133963,
          0.3768970125500851,
          1.3322319124126047,
          -0.23802377313554726,
          0.5443599989176237,
          0.2640731149237633,
          0.2516458614493047,
          -0.30819230362295347,
          -0.4297721916496139,
          0.493865700710478,
          2.073198652660911,
          -0.6036327703946305,
          -0.84105157047565,
          -2.3104107765592623,
          -0.32611725470856845,
          2.3388040250701154,
          -0.33413233446227103,
          -0.10019130753522917
         ],
         "xaxis": "x8",
         "y": [
          0.6288873106968625,
          1.5552086644040435,
          -0.2020635486518468,
          -0.37421286494601835,
          -1.8901354714158451,
          1.1642455262282074,
          -1.0335669426310594,
          -0.6453012578613595,
          -2.500063217723074,
          0.6208790462589199,
          -0.33919024377178775,
          -0.6323417396484956,
          -1.1042370872644787,
          0.687990530703836,
          -0.29482934295310004,
          -1.760993482777496,
          0.4013839131768914,
          -0.19128337287568414,
          0.38831658519353085,
          1.1022164676082287,
          -0.7658403159220927,
          0.39746202290875726,
          0.05253399825030649,
          -1.2986978680790244,
          0.5516764900142631,
          0.9594352288580066,
          -1.6176146758116843,
          0.566234817380164,
          0.03291261568889055,
          -0.10412367010856544,
          0.18813480982253722,
          0.33139764237225916,
          -0.4352051883947046,
          -0.1850665849362166,
          1.977129824661224,
          -0.716727900543721,
          -0.9962485346727465,
          2.1457330602622915,
          1.4786805379182806,
          -0.3073961040236371,
          0.5190635210197534,
          -0.2977117536092024,
          1.07655420499391,
          1.6402869584964106,
          -0.6736312859201243,
          -0.5421796901027264,
          0.2609352631947877,
          -0.2243329499018594,
          0.1421432931661823,
          1.093261930610181,
          0.30912184023215555,
          0.5274847296838001,
          -0.8482473955350368,
          -1.1740459296667167,
          0.12050195080175524,
          0.6917000321710234,
          -0.24954254013796354,
          -0.0555574867666861,
          -0.11674030611528681,
          -1.334786476612104,
          -0.7223974650682061,
          1.4343193468848872,
          -1.3171815064176886,
          -0.6898579117892474,
          -0.30456626778121365,
          -0.38585924100511965,
          -0.8134747561637852,
          2.010879165813113,
          1.8244088747007474,
          -0.3670493932221158,
          0.03065143496118238,
          -0.6766752794932412,
          -0.21596160514515156,
          -0.3343960409842762,
          -0.5872454814216169,
          -0.2983674285813973,
          0.2681694412271725,
          -0.5871780526557453,
          0.6345911247702245,
          -0.48125080520848557,
          -1.537351065621091,
          0.6715502994413234,
          -0.7553536888819133,
          0.7274770340599817,
          0.38331131279465536,
          0.20240429935781595,
          -0.03698531065937211,
          0.7746536546150867,
          -0.12743883677501958,
          -0.6009991380090095,
          0.7150308408538082,
          0.8401271366581022,
          -1.8596498898007021,
          -1.3339806032828878,
          -0.22198748420879716,
          -1.8428750875481898,
          0.4064685378532878,
          -0.1475973932807723,
          -0.8804055552297537,
          -1.580823041015511
         ],
         "yaxis": "y8"
        },
        {
         "line": {
          "color": "rgba(128, 128, 128, 1.0)",
          "dash": "solid",
          "shape": "linear",
          "width": 1.3
         },
         "marker": {
          "size": 2,
          "symbol": "circle"
         },
         "mode": "markers",
         "name": "C",
         "text": "",
         "type": "scatter",
         "x": [
          0.2995340644905276,
          0.2205656269030712,
          -1.056174561092009,
          0.7591755781504027,
          0.5326518825067723,
          1.3044295669802999,
          1.3281748768339667,
          -0.09922890207163876,
          0.6072907830909519,
          1.1826119307800274,
          0.3200674123294725,
          -1.3012890682412424,
          0.39931988429912135,
          -0.34879285248827946,
          -0.7832437352797109,
          0.24797886378743955,
          -2.8773605354838225,
          -0.41107805336817005,
          0.5428332832960278,
          -0.34202223323909137,
          0.6703636476801402,
          0.47056109501637966,
          0.5846164712351315,
          -0.8661517063929928,
          0.44216954122070445,
          0.5363106882328338,
          -0.27977714813382293,
          0.4380768982907296,
          -1.4402841454482886,
          0.256393582261463,
          1.6549149482388437,
          -1.3228705669839567,
          -0.7548185531120883,
          0.44297261355922846,
          1.3580577186497258,
          -0.5112296882385694,
          1.5741392211439416,
          0.13109722398933546,
          -1.4680827312451141,
          -0.6059423946677869,
          0.144459267134369,
          0.3021717007693336,
          -0.22744784266075352,
          0.03450363264569284,
          0.05177307263761155,
          0.1399332902663523,
          1.0229527181140547,
          -2.6321782638398714,
          0.7745092754158753,
          -1.5926248522708426,
          -0.7031009714908845,
          0.6710809023395671,
          -0.1438163725324016,
          0.5082776496708439,
          0.0767121365819478,
          0.6457023848381208,
          -0.3580314419038346,
          -0.774839310285214,
          -0.43466021347224676,
          -1.6000577779988623,
          0.5086471535040138,
          0.37958854995049945,
          -1.0104442910961025,
          -0.1514509188462034,
          -0.12732690203447797,
          0.8209231907729551,
          -0.22640327123432807,
          1.4349981836183903,
          0.6890109446047313,
          1.0775411458507147,
          0.29266013334010743,
          0.3923131280672186,
          -0.7821903721721409,
          -1.2087665128305551,
          -0.04005064789093992,
          0.586175941448245,
          -0.39450460865418874,
          0.7192182080202476,
          1.8882833172200184,
          0.8341960000980053,
          0.049935991907428666,
          0.47937322066761195,
          0.07588343334653969,
          -0.2526301622266612,
          -0.5289099932191659,
          -0.10700710269370067,
          -0.4631513345001443,
          -0.3924250958303068,
          1.3819170930309186,
          -1.0229272234878124,
          -0.8612817624400896,
          -1.3485764993188754,
          1.9759061035618044,
          -0.9223448984827978,
          -1.0472531006509647,
          -0.09420726481422516,
          0.13682879551914487,
          -0.6242439989143544,
          -0.6080082561687519,
          -0.335483037163409
         ],
         "xaxis": "x9",
         "y": [
          1.4924820594701595,
          0.7869320413273678,
          0.32273074575160593,
          0.6082508425877736,
          0.2514930413665632,
          -0.4034861638206237,
          -0.5768681716474443,
          0.6856012702187398,
          -1.7068889895044812,
          2.0385721334530302,
          -0.8191936955348694,
          -0.13602903900798372,
          0.9667930631260175,
          0.0006992865771992262,
          0.39111968811096387,
          -0.43540783703434993,
          -0.3221271598960024,
          1.514266460244137,
          -0.020695230765908058,
          1.035430942071528,
          0.6506811637253885,
          -1.145913181938134,
          -0.34697751515819814,
          0.5722502898175891,
          -0.7519895563251693,
          1.9776712105857348,
          0.3372495147021022,
          -0.4395212659175542,
          -1.2050237800542114,
          -0.06537901172259553,
          -0.5797928888875487,
          -1.431944247132665,
          3.0903555244262755,
          -0.6651819863410234,
          -1.8564840845463624,
          -0.2717618053538439,
          -0.10389500197897769,
          1.0364867265617488,
          -0.6559090419483852,
          0.29752590565428155,
          1.0219876099372784,
          -2.442035360843184,
          0.850123129127888,
          0.24684047283695598,
          -0.3678949207276394,
          -0.7883469321527289,
          1.6771022341276227,
          0.9389046366431055,
          -1.8881830834792284,
          0.5713559181159971,
          -1.3460438578180391,
          -0.3668246713811393,
          -0.3500860505947476,
          -0.3964023791091147,
          0.24512962516339712,
          -1.1552665030490763,
          0.09138475183594481,
          -0.22696740865481954,
          0.8208391263967445,
          -0.19519785712563537,
          -1.3695877423647327,
          -0.5385789870693948,
          0.6416446055778066,
          0.1382865607176138,
          1.000976342056877,
          -0.6824060028252374,
          0.48166835711151784,
          -1.7697737629288337,
          -0.6571145004145996,
          0.1894110624135475,
          0.9810977645999668,
          -1.0499061540091557,
          0.6730116130030037,
          2.112389062467758,
          0.04722673653972112,
          0.5370038684396691,
          -0.8236499029151352,
          -0.9230905362969907,
          0.2880332090928785,
          0.20315760791893966,
          0.2603532879125389,
          -1.2692769502035877,
          -0.8287321214176975,
          -0.07163646942393866,
          -0.4651101256940488,
          -0.8578945848200039,
          0.0891853556732661,
          -0.17394563516085862,
          -0.0507649119885555,
          -0.6267804040324925,
          -0.770225541117248,
          0.846148721475124,
          -0.2500008631262009,
          -1.6556309939729155,
          -0.8753658192097954,
          -0.2102264072150913,
          1.1306846851390011,
          1.1411074885543189,
          1.0323578639940127,
          0.22708670869310604
         ],
         "yaxis": "y9"
        },
        {
         "line": {
          "color": "rgba(128, 128, 128, 1.0)",
          "dash": "solid",
          "shape": "linear",
          "width": 1.3
         },
         "marker": {
          "size": 2,
          "symbol": "circle"
         },
         "mode": "markers",
         "name": "C",
         "text": "",
         "type": "scatter",
         "x": [
          0.6288873106968625,
          1.5552086644040435,
          -0.2020635486518468,
          -0.37421286494601835,
          -1.8901354714158451,
          1.1642455262282074,
          -1.0335669426310594,
          -0.6453012578613595,
          -2.500063217723074,
          0.6208790462589199,
          -0.33919024377178775,
          -0.6323417396484956,
          -1.1042370872644787,
          0.687990530703836,
          -0.29482934295310004,
          -1.760993482777496,
          0.4013839131768914,
          -0.19128337287568414,
          0.38831658519353085,
          1.1022164676082287,
          -0.7658403159220927,
          0.39746202290875726,
          0.05253399825030649,
          -1.2986978680790244,
          0.5516764900142631,
          0.9594352288580066,
          -1.6176146758116843,
          0.566234817380164,
          0.03291261568889055,
          -0.10412367010856544,
          0.18813480982253722,
          0.33139764237225916,
          -0.4352051883947046,
          -0.1850665849362166,
          1.977129824661224,
          -0.716727900543721,
          -0.9962485346727465,
          2.1457330602622915,
          1.4786805379182806,
          -0.3073961040236371,
          0.5190635210197534,
          -0.2977117536092024,
          1.07655420499391,
          1.6402869584964106,
          -0.6736312859201243,
          -0.5421796901027264,
          0.2609352631947877,
          -0.2243329499018594,
          0.1421432931661823,
          1.093261930610181,
          0.30912184023215555,
          0.5274847296838001,
          -0.8482473955350368,
          -1.1740459296667167,
          0.12050195080175524,
          0.6917000321710234,
          -0.24954254013796354,
          -0.0555574867666861,
          -0.11674030611528681,
          -1.334786476612104,
          -0.7223974650682061,
          1.4343193468848872,
          -1.3171815064176886,
          -0.6898579117892474,
          -0.30456626778121365,
          -0.38585924100511965,
          -0.8134747561637852,
          2.010879165813113,
          1.8244088747007474,
          -0.3670493932221158,
          0.03065143496118238,
          -0.6766752794932412,
          -0.21596160514515156,
          -0.3343960409842762,
          -0.5872454814216169,
          -0.2983674285813973,
          0.2681694412271725,
          -0.5871780526557453,
          0.6345911247702245,
          -0.48125080520848557,
          -1.537351065621091,
          0.6715502994413234,
          -0.7553536888819133,
          0.7274770340599817,
          0.38331131279465536,
          0.20240429935781595,
          -0.03698531065937211,
          0.7746536546150867,
          -0.12743883677501958,
          -0.6009991380090095,
          0.7150308408538082,
          0.8401271366581022,
          -1.8596498898007021,
          -1.3339806032828878,
          -0.22198748420879716,
          -1.8428750875481898,
          0.4064685378532878,
          -0.1475973932807723,
          -0.8804055552297537,
          -1.580823041015511
         ],
         "xaxis": "x10",
         "y": [
          1.4924820594701595,
          0.7869320413273678,
          0.32273074575160593,
          0.6082508425877736,
          0.2514930413665632,
          -0.4034861638206237,
          -0.5768681716474443,
          0.6856012702187398,
          -1.7068889895044812,
          2.0385721334530302,
          -0.8191936955348694,
          -0.13602903900798372,
          0.9667930631260175,
          0.0006992865771992262,
          0.39111968811096387,
          -0.43540783703434993,
          -0.3221271598960024,
          1.514266460244137,
          -0.020695230765908058,
          1.035430942071528,
          0.6506811637253885,
          -1.145913181938134,
          -0.34697751515819814,
          0.5722502898175891,
          -0.7519895563251693,
          1.9776712105857348,
          0.3372495147021022,
          -0.4395212659175542,
          -1.2050237800542114,
          -0.06537901172259553,
          -0.5797928888875487,
          -1.431944247132665,
          3.0903555244262755,
          -0.6651819863410234,
          -1.8564840845463624,
          -0.2717618053538439,
          -0.10389500197897769,
          1.0364867265617488,
          -0.6559090419483852,
          0.29752590565428155,
          1.0219876099372784,
          -2.442035360843184,
          0.850123129127888,
          0.24684047283695598,
          -0.3678949207276394,
          -0.7883469321527289,
          1.6771022341276227,
          0.9389046366431055,
          -1.8881830834792284,
          0.5713559181159971,
          -1.3460438578180391,
          -0.3668246713811393,
          -0.3500860505947476,
          -0.3964023791091147,
          0.24512962516339712,
          -1.1552665030490763,
          0.09138475183594481,
          -0.22696740865481954,
          0.8208391263967445,
          -0.19519785712563537,
          -1.3695877423647327,
          -0.5385789870693948,
          0.6416446055778066,
          0.1382865607176138,
          1.000976342056877,
          -0.6824060028252374,
          0.48166835711151784,
          -1.7697737629288337,
          -0.6571145004145996,
          0.1894110624135475,
          0.9810977645999668,
          -1.0499061540091557,
          0.6730116130030037,
          2.112389062467758,
          0.04722673653972112,
          0.5370038684396691,
          -0.8236499029151352,
          -0.9230905362969907,
          0.2880332090928785,
          0.20315760791893966,
          0.2603532879125389,
          -1.2692769502035877,
          -0.8287321214176975,
          -0.07163646942393866,
          -0.4651101256940488,
          -0.8578945848200039,
          0.0891853556732661,
          -0.17394563516085862,
          -0.0507649119885555,
          -0.6267804040324925,
          -0.770225541117248,
          0.846148721475124,
          -0.2500008631262009,
          -1.6556309939729155,
          -0.8753658192097954,
          -0.2102264072150913,
          1.1306846851390011,
          1.1411074885543189,
          1.0323578639940127,
          0.22708670869310604
         ],
         "yaxis": "y10"
        },
        {
         "histfunc": "count",
         "histnorm": "",
         "marker": {
          "color": "rgba(50, 171, 96, 1.0)",
          "line": {
           "color": "#4D5663",
           "width": 1.3
          }
         },
         "name": "C",
         "nbinsx": 10,
         "opacity": 0.8,
         "orientation": "v",
         "type": "histogram",
         "x": [
          1.4924820594701595,
          0.7869320413273678,
          0.32273074575160593,
          0.6082508425877736,
          0.2514930413665632,
          -0.4034861638206237,
          -0.5768681716474443,
          0.6856012702187398,
          -1.7068889895044812,
          2.0385721334530302,
          -0.8191936955348694,
          -0.13602903900798372,
          0.9667930631260175,
          0.0006992865771992262,
          0.39111968811096387,
          -0.43540783703434993,
          -0.3221271598960024,
          1.514266460244137,
          -0.020695230765908058,
          1.035430942071528,
          0.6506811637253885,
          -1.145913181938134,
          -0.34697751515819814,
          0.5722502898175891,
          -0.7519895563251693,
          1.9776712105857348,
          0.3372495147021022,
          -0.4395212659175542,
          -1.2050237800542114,
          -0.06537901172259553,
          -0.5797928888875487,
          -1.431944247132665,
          3.0903555244262755,
          -0.6651819863410234,
          -1.8564840845463624,
          -0.2717618053538439,
          -0.10389500197897769,
          1.0364867265617488,
          -0.6559090419483852,
          0.29752590565428155,
          1.0219876099372784,
          -2.442035360843184,
          0.850123129127888,
          0.24684047283695598,
          -0.3678949207276394,
          -0.7883469321527289,
          1.6771022341276227,
          0.9389046366431055,
          -1.8881830834792284,
          0.5713559181159971,
          -1.3460438578180391,
          -0.3668246713811393,
          -0.3500860505947476,
          -0.3964023791091147,
          0.24512962516339712,
          -1.1552665030490763,
          0.09138475183594481,
          -0.22696740865481954,
          0.8208391263967445,
          -0.19519785712563537,
          -1.3695877423647327,
          -0.5385789870693948,
          0.6416446055778066,
          0.1382865607176138,
          1.000976342056877,
          -0.6824060028252374,
          0.48166835711151784,
          -1.7697737629288337,
          -0.6571145004145996,
          0.1894110624135475,
          0.9810977645999668,
          -1.0499061540091557,
          0.6730116130030037,
          2.112389062467758,
          0.04722673653972112,
          0.5370038684396691,
          -0.8236499029151352,
          -0.9230905362969907,
          0.2880332090928785,
          0.20315760791893966,
          0.2603532879125389,
          -1.2692769502035877,
          -0.8287321214176975,
          -0.07163646942393866,
          -0.4651101256940488,
          -0.8578945848200039,
          0.0891853556732661,
          -0.17394563516085862,
          -0.0507649119885555,
          -0.6267804040324925,
          -0.770225541117248,
          0.846148721475124,
          -0.2500008631262009,
          -1.6556309939729155,
          -0.8753658192097954,
          -0.2102264072150913,
          1.1306846851390011,
          1.1411074885543189,
          1.0323578639940127,
          0.22708670869310604
         ],
         "xaxis": "x11",
         "yaxis": "y11"
        },
        {
         "line": {
          "color": "rgba(128, 128, 128, 1.0)",
          "dash": "solid",
          "shape": "linear",
          "width": 1.3
         },
         "marker": {
          "size": 2,
          "symbol": "circle"
         },
         "mode": "markers",
         "name": "C",
         "text": "",
         "type": "scatter",
         "x": [
          0.8784097635079271,
          0.41373833465411486,
          -0.017982234333353768,
          -0.9849581469253769,
          -0.525922792414035,
          -1.5758495572561193,
          -2.6008494818189343,
          0.08321481462802557,
          -0.5621103549964049,
          -0.666115045990679,
          -0.22509352690535678,
          -1.0643184410464175,
          0.22251579823925932,
          0.5986063082126469,
          0.11459219679383639,
          0.7593125165744864,
          0.2103290172024642,
          -2.017164157575092,
          -0.06478200186368004,
          0.8445371088727064,
          0.45596778382233266,
          -0.820671089748138,
          -0.10983235640478299,
          -0.4939671612088846,
          -1.4432782231781656,
          1.2936663433198556,
          -0.7127750389182068,
          -1.2837432002030262,
          -0.4005004052185187,
          -0.3282063282740504,
          -0.6850873197215348,
          -0.028277280860713516,
          1.2303787242796584,
          0.8794190943231905,
          -0.2728446264895277,
          0.09732640946867503,
          -0.11355883865903231,
          0.2128139309813744,
          -0.38963892316985477,
          0.12767461473080274,
          -0.09920015714668835,
          0.26371995379552415,
          -0.4434420199859188,
          -0.5607970551495925,
          2.063900563398957,
          -1.4857712119266875,
          0.007075658199432495,
          1.2878039096650393,
          -0.20469356440844869,
          -1.0443218157028409,
          0.30572575901613863,
          0.9186397492736501,
          0.463455305324779,
          0.5485539996955462,
          -0.2680810662274818,
          -0.9398484005231073,
          -0.15197786833529853,
          -0.021104928437870044,
          -0.7163874781331797,
          -0.07781558751246322,
          -0.5088178501681737,
          -0.3759080073603766,
          0.57215110217102,
          -0.3459356400266322,
          0.5123513245767716,
          1.8156822307430185,
          -1.5987878127320017,
          0.9828016670135185,
          -0.3987342334756005,
          1.553709645102389,
          -0.7930389415923372,
          -0.7878647849157575,
          -2.47437913953804,
          -1.0697479981823497,
          0.04802162487314175,
          -0.8340213258052468,
          0.8393512676752578,
          -0.6399858404914921,
          0.401629816409806,
          -0.08581239209276978,
          1.0681103969845536,
          -0.08160047220364465,
          0.09482987517133963,
          0.3768970125500851,
          1.3322319124126047,
          -0.23802377313554726,
          0.5443599989176237,
          0.2640731149237633,
          0.2516458614493047,
          -0.30819230362295347,
          -0.4297721916496139,
          0.493865700710478,
          2.073198652660911,
          -0.6036327703946305,
          -0.84105157047565,
          -2.3104107765592623,
          -0.32611725470856845,
          2.3388040250701154,
          -0.33413233446227103,
          -0.10019130753522917
         ],
         "xaxis": "x12",
         "y": [
          1.4924820594701595,
          0.7869320413273678,
          0.32273074575160593,
          0.6082508425877736,
          0.2514930413665632,
          -0.4034861638206237,
          -0.5768681716474443,
          0.6856012702187398,
          -1.7068889895044812,
          2.0385721334530302,
          -0.8191936955348694,
          -0.13602903900798372,
          0.9667930631260175,
          0.0006992865771992262,
          0.39111968811096387,
          -0.43540783703434993,
          -0.3221271598960024,
          1.514266460244137,
          -0.020695230765908058,
          1.035430942071528,
          0.6506811637253885,
          -1.145913181938134,
          -0.34697751515819814,
          0.5722502898175891,
          -0.7519895563251693,
          1.9776712105857348,
          0.3372495147021022,
          -0.4395212659175542,
          -1.2050237800542114,
          -0.06537901172259553,
          -0.5797928888875487,
          -1.431944247132665,
          3.0903555244262755,
          -0.6651819863410234,
          -1.8564840845463624,
          -0.2717618053538439,
          -0.10389500197897769,
          1.0364867265617488,
          -0.6559090419483852,
          0.29752590565428155,
          1.0219876099372784,
          -2.442035360843184,
          0.850123129127888,
          0.24684047283695598,
          -0.3678949207276394,
          -0.7883469321527289,
          1.6771022341276227,
          0.9389046366431055,
          -1.8881830834792284,
          0.5713559181159971,
          -1.3460438578180391,
          -0.3668246713811393,
          -0.3500860505947476,
          -0.3964023791091147,
          0.24512962516339712,
          -1.1552665030490763,
          0.09138475183594481,
          -0.22696740865481954,
          0.8208391263967445,
          -0.19519785712563537,
          -1.3695877423647327,
          -0.5385789870693948,
          0.6416446055778066,
          0.1382865607176138,
          1.000976342056877,
          -0.6824060028252374,
          0.48166835711151784,
          -1.7697737629288337,
          -0.6571145004145996,
          0.1894110624135475,
          0.9810977645999668,
          -1.0499061540091557,
          0.6730116130030037,
          2.112389062467758,
          0.04722673653972112,
          0.5370038684396691,
          -0.8236499029151352,
          -0.9230905362969907,
          0.2880332090928785,
          0.20315760791893966,
          0.2603532879125389,
          -1.2692769502035877,
          -0.8287321214176975,
          -0.07163646942393866,
          -0.4651101256940488,
          -0.8578945848200039,
          0.0891853556732661,
          -0.17394563516085862,
          -0.0507649119885555,
          -0.6267804040324925,
          -0.770225541117248,
          0.846148721475124,
          -0.2500008631262009,
          -1.6556309939729155,
          -0.8753658192097954,
          -0.2102264072150913,
          1.1306846851390011,
          1.1411074885543189,
          1.0323578639940127,
          0.22708670869310604
         ],
         "yaxis": "y12"
        },
        {
         "line": {
          "color": "rgba(128, 128, 128, 1.0)",
          "dash": "solid",
          "shape": "linear",
          "width": 1.3
         },
         "marker": {
          "size": 2,
          "symbol": "circle"
         },
         "mode": "markers",
         "name": "D",
         "text": "",
         "type": "scatter",
         "x": [
          0.2995340644905276,
          0.2205656269030712,
          -1.056174561092009,
          0.7591755781504027,
          0.5326518825067723,
          1.3044295669802999,
          1.3281748768339667,
          -0.09922890207163876,
          0.6072907830909519,
          1.1826119307800274,
          0.3200674123294725,
          -1.3012890682412424,
          0.39931988429912135,
          -0.34879285248827946,
          -0.7832437352797109,
          0.24797886378743955,
          -2.8773605354838225,
          -0.41107805336817005,
          0.5428332832960278,
          -0.34202223323909137,
          0.6703636476801402,
          0.47056109501637966,
          0.5846164712351315,
          -0.8661517063929928,
          0.44216954122070445,
          0.5363106882328338,
          -0.27977714813382293,
          0.4380768982907296,
          -1.4402841454482886,
          0.256393582261463,
          1.6549149482388437,
          -1.3228705669839567,
          -0.7548185531120883,
          0.44297261355922846,
          1.3580577186497258,
          -0.5112296882385694,
          1.5741392211439416,
          0.13109722398933546,
          -1.4680827312451141,
          -0.6059423946677869,
          0.144459267134369,
          0.3021717007693336,
          -0.22744784266075352,
          0.03450363264569284,
          0.05177307263761155,
          0.1399332902663523,
          1.0229527181140547,
          -2.6321782638398714,
          0.7745092754158753,
          -1.5926248522708426,
          -0.7031009714908845,
          0.6710809023395671,
          -0.1438163725324016,
          0.5082776496708439,
          0.0767121365819478,
          0.6457023848381208,
          -0.3580314419038346,
          -0.774839310285214,
          -0.43466021347224676,
          -1.6000577779988623,
          0.5086471535040138,
          0.37958854995049945,
          -1.0104442910961025,
          -0.1514509188462034,
          -0.12732690203447797,
          0.8209231907729551,
          -0.22640327123432807,
          1.4349981836183903,
          0.6890109446047313,
          1.0775411458507147,
          0.29266013334010743,
          0.3923131280672186,
          -0.7821903721721409,
          -1.2087665128305551,
          -0.04005064789093992,
          0.586175941448245,
          -0.39450460865418874,
          0.7192182080202476,
          1.8882833172200184,
          0.8341960000980053,
          0.049935991907428666,
          0.47937322066761195,
          0.07588343334653969,
          -0.2526301622266612,
          -0.5289099932191659,
          -0.10700710269370067,
          -0.4631513345001443,
          -0.3924250958303068,
          1.3819170930309186,
          -1.0229272234878124,
          -0.8612817624400896,
          -1.3485764993188754,
          1.9759061035618044,
          -0.9223448984827978,
          -1.0472531006509647,
          -0.09420726481422516,
          0.13682879551914487,
          -0.6242439989143544,
          -0.6080082561687519,
          -0.335483037163409
         ],
         "xaxis": "x13",
         "y": [
          0.8784097635079271,
          0.41373833465411486,
          -0.017982234333353768,
          -0.9849581469253769,
          -0.525922792414035,
          -1.5758495572561193,
          -2.6008494818189343,
          0.08321481462802557,
          -0.5621103549964049,
          -0.666115045990679,
          -0.22509352690535678,
          -1.0643184410464175,
          0.22251579823925932,
          0.5986063082126469,
          0.11459219679383639,
          0.7593125165744864,
          0.2103290172024642,
          -2.017164157575092,
          -0.06478200186368004,
          0.8445371088727064,
          0.45596778382233266,
          -0.820671089748138,
          -0.10983235640478299,
          -0.4939671612088846,
          -1.4432782231781656,
          1.2936663433198556,
          -0.7127750389182068,
          -1.2837432002030262,
          -0.4005004052185187,
          -0.3282063282740504,
          -0.6850873197215348,
          -0.028277280860713516,
          1.2303787242796584,
          0.8794190943231905,
          -0.2728446264895277,
          0.09732640946867503,
          -0.11355883865903231,
          0.2128139309813744,
          -0.38963892316985477,
          0.12767461473080274,
          -0.09920015714668835,
          0.26371995379552415,
          -0.4434420199859188,
          -0.5607970551495925,
          2.063900563398957,
          -1.4857712119266875,
          0.007075658199432495,
          1.2878039096650393,
          -0.20469356440844869,
          -1.0443218157028409,
          0.30572575901613863,
          0.9186397492736501,
          0.463455305324779,
          0.5485539996955462,
          -0.2680810662274818,
          -0.9398484005231073,
          -0.15197786833529853,
          -0.021104928437870044,
          -0.7163874781331797,
          -0.07781558751246322,
          -0.5088178501681737,
          -0.3759080073603766,
          0.57215110217102,
          -0.3459356400266322,
          0.5123513245767716,
          1.8156822307430185,
          -1.5987878127320017,
          0.9828016670135185,
          -0.3987342334756005,
          1.553709645102389,
          -0.7930389415923372,
          -0.7878647849157575,
          -2.47437913953804,
          -1.0697479981823497,
          0.04802162487314175,
          -0.8340213258052468,
          0.8393512676752578,
          -0.6399858404914921,
          0.401629816409806,
          -0.08581239209276978,
          1.0681103969845536,
          -0.08160047220364465,
          0.09482987517133963,
          0.3768970125500851,
          1.3322319124126047,
          -0.23802377313554726,
          0.5443599989176237,
          0.2640731149237633,
          0.2516458614493047,
          -0.30819230362295347,
          -0.4297721916496139,
          0.493865700710478,
          2.073198652660911,
          -0.6036327703946305,
          -0.84105157047565,
          -2.3104107765592623,
          -0.32611725470856845,
          2.3388040250701154,
          -0.33413233446227103,
          -0.10019130753522917
         ],
         "yaxis": "y13"
        },
        {
         "line": {
          "color": "rgba(128, 128, 128, 1.0)",
          "dash": "solid",
          "shape": "linear",
          "width": 1.3
         },
         "marker": {
          "size": 2,
          "symbol": "circle"
         },
         "mode": "markers",
         "name": "D",
         "text": "",
         "type": "scatter",
         "x": [
          0.6288873106968625,
          1.5552086644040435,
          -0.2020635486518468,
          -0.37421286494601835,
          -1.8901354714158451,
          1.1642455262282074,
          -1.0335669426310594,
          -0.6453012578613595,
          -2.500063217723074,
          0.6208790462589199,
          -0.33919024377178775,
          -0.6323417396484956,
          -1.1042370872644787,
          0.687990530703836,
          -0.29482934295310004,
          -1.760993482777496,
          0.4013839131768914,
          -0.19128337287568414,
          0.38831658519353085,
          1.1022164676082287,
          -0.7658403159220927,
          0.39746202290875726,
          0.05253399825030649,
          -1.2986978680790244,
          0.5516764900142631,
          0.9594352288580066,
          -1.6176146758116843,
          0.566234817380164,
          0.03291261568889055,
          -0.10412367010856544,
          0.18813480982253722,
          0.33139764237225916,
          -0.4352051883947046,
          -0.1850665849362166,
          1.977129824661224,
          -0.716727900543721,
          -0.9962485346727465,
          2.1457330602622915,
          1.4786805379182806,
          -0.3073961040236371,
          0.5190635210197534,
          -0.2977117536092024,
          1.07655420499391,
          1.6402869584964106,
          -0.6736312859201243,
          -0.5421796901027264,
          0.2609352631947877,
          -0.2243329499018594,
          0.1421432931661823,
          1.093261930610181,
          0.30912184023215555,
          0.5274847296838001,
          -0.8482473955350368,
          -1.1740459296667167,
          0.12050195080175524,
          0.6917000321710234,
          -0.24954254013796354,
          -0.0555574867666861,
          -0.11674030611528681,
          -1.334786476612104,
          -0.7223974650682061,
          1.4343193468848872,
          -1.3171815064176886,
          -0.6898579117892474,
          -0.30456626778121365,
          -0.38585924100511965,
          -0.8134747561637852,
          2.010879165813113,
          1.8244088747007474,
          -0.3670493932221158,
          0.03065143496118238,
          -0.6766752794932412,
          -0.21596160514515156,
          -0.3343960409842762,
          -0.5872454814216169,
          -0.2983674285813973,
          0.2681694412271725,
          -0.5871780526557453,
          0.6345911247702245,
          -0.48125080520848557,
          -1.537351065621091,
          0.6715502994413234,
          -0.7553536888819133,
          0.7274770340599817,
          0.38331131279465536,
          0.20240429935781595,
          -0.03698531065937211,
          0.7746536546150867,
          -0.12743883677501958,
          -0.6009991380090095,
          0.7150308408538082,
          0.8401271366581022,
          -1.8596498898007021,
          -1.3339806032828878,
          -0.22198748420879716,
          -1.8428750875481898,
          0.4064685378532878,
          -0.1475973932807723,
          -0.8804055552297537,
          -1.580823041015511
         ],
         "xaxis": "x14",
         "y": [
          0.8784097635079271,
          0.41373833465411486,
          -0.017982234333353768,
          -0.9849581469253769,
          -0.525922792414035,
          -1.5758495572561193,
          -2.6008494818189343,
          0.08321481462802557,
          -0.5621103549964049,
          -0.666115045990679,
          -0.22509352690535678,
          -1.0643184410464175,
          0.22251579823925932,
          0.5986063082126469,
          0.11459219679383639,
          0.7593125165744864,
          0.2103290172024642,
          -2.017164157575092,
          -0.06478200186368004,
          0.8445371088727064,
          0.45596778382233266,
          -0.820671089748138,
          -0.10983235640478299,
          -0.4939671612088846,
          -1.4432782231781656,
          1.2936663433198556,
          -0.7127750389182068,
          -1.2837432002030262,
          -0.4005004052185187,
          -0.3282063282740504,
          -0.6850873197215348,
          -0.028277280860713516,
          1.2303787242796584,
          0.8794190943231905,
          -0.2728446264895277,
          0.09732640946867503,
          -0.11355883865903231,
          0.2128139309813744,
          -0.38963892316985477,
          0.12767461473080274,
          -0.09920015714668835,
          0.26371995379552415,
          -0.4434420199859188,
          -0.5607970551495925,
          2.063900563398957,
          -1.4857712119266875,
          0.007075658199432495,
          1.2878039096650393,
          -0.20469356440844869,
          -1.0443218157028409,
          0.30572575901613863,
          0.9186397492736501,
          0.463455305324779,
          0.5485539996955462,
          -0.2680810662274818,
          -0.9398484005231073,
          -0.15197786833529853,
          -0.021104928437870044,
          -0.7163874781331797,
          -0.07781558751246322,
          -0.5088178501681737,
          -0.3759080073603766,
          0.57215110217102,
          -0.3459356400266322,
          0.5123513245767716,
          1.8156822307430185,
          -1.5987878127320017,
          0.9828016670135185,
          -0.3987342334756005,
          1.553709645102389,
          -0.7930389415923372,
          -0.7878647849157575,
          -2.47437913953804,
          -1.0697479981823497,
          0.04802162487314175,
          -0.8340213258052468,
          0.8393512676752578,
          -0.6399858404914921,
          0.401629816409806,
          -0.08581239209276978,
          1.0681103969845536,
          -0.08160047220364465,
          0.09482987517133963,
          0.3768970125500851,
          1.3322319124126047,
          -0.23802377313554726,
          0.5443599989176237,
          0.2640731149237633,
          0.2516458614493047,
          -0.30819230362295347,
          -0.4297721916496139,
          0.493865700710478,
          2.073198652660911,
          -0.6036327703946305,
          -0.84105157047565,
          -2.3104107765592623,
          -0.32611725470856845,
          2.3388040250701154,
          -0.33413233446227103,
          -0.10019130753522917
         ],
         "yaxis": "y14"
        },
        {
         "line": {
          "color": "rgba(128, 128, 128, 1.0)",
          "dash": "solid",
          "shape": "linear",
          "width": 1.3
         },
         "marker": {
          "size": 2,
          "symbol": "circle"
         },
         "mode": "markers",
         "name": "D",
         "text": "",
         "type": "scatter",
         "x": [
          1.4924820594701595,
          0.7869320413273678,
          0.32273074575160593,
          0.6082508425877736,
          0.2514930413665632,
          -0.4034861638206237,
          -0.5768681716474443,
          0.6856012702187398,
          -1.7068889895044812,
          2.0385721334530302,
          -0.8191936955348694,
          -0.13602903900798372,
          0.9667930631260175,
          0.0006992865771992262,
          0.39111968811096387,
          -0.43540783703434993,
          -0.3221271598960024,
          1.514266460244137,
          -0.020695230765908058,
          1.035430942071528,
          0.6506811637253885,
          -1.145913181938134,
          -0.34697751515819814,
          0.5722502898175891,
          -0.7519895563251693,
          1.9776712105857348,
          0.3372495147021022,
          -0.4395212659175542,
          -1.2050237800542114,
          -0.06537901172259553,
          -0.5797928888875487,
          -1.431944247132665,
          3.0903555244262755,
          -0.6651819863410234,
          -1.8564840845463624,
          -0.2717618053538439,
          -0.10389500197897769,
          1.0364867265617488,
          -0.6559090419483852,
          0.29752590565428155,
          1.0219876099372784,
          -2.442035360843184,
          0.850123129127888,
          0.24684047283695598,
          -0.3678949207276394,
          -0.7883469321527289,
          1.6771022341276227,
          0.9389046366431055,
          -1.8881830834792284,
          0.5713559181159971,
          -1.3460438578180391,
          -0.3668246713811393,
          -0.3500860505947476,
          -0.3964023791091147,
          0.24512962516339712,
          -1.1552665030490763,
          0.09138475183594481,
          -0.22696740865481954,
          0.8208391263967445,
          -0.19519785712563537,
          -1.3695877423647327,
          -0.5385789870693948,
          0.6416446055778066,
          0.1382865607176138,
          1.000976342056877,
          -0.6824060028252374,
          0.48166835711151784,
          -1.7697737629288337,
          -0.6571145004145996,
          0.1894110624135475,
          0.9810977645999668,
          -1.0499061540091557,
          0.6730116130030037,
          2.112389062467758,
          0.04722673653972112,
          0.5370038684396691,
          -0.8236499029151352,
          -0.9230905362969907,
          0.2880332090928785,
          0.20315760791893966,
          0.2603532879125389,
          -1.2692769502035877,
          -0.8287321214176975,
          -0.07163646942393866,
          -0.4651101256940488,
          -0.8578945848200039,
          0.0891853556732661,
          -0.17394563516085862,
          -0.0507649119885555,
          -0.6267804040324925,
          -0.770225541117248,
          0.846148721475124,
          -0.2500008631262009,
          -1.6556309939729155,
          -0.8753658192097954,
          -0.2102264072150913,
          1.1306846851390011,
          1.1411074885543189,
          1.0323578639940127,
          0.22708670869310604
         ],
         "xaxis": "x15",
         "y": [
          0.8784097635079271,
          0.41373833465411486,
          -0.017982234333353768,
          -0.9849581469253769,
          -0.525922792414035,
          -1.5758495572561193,
          -2.6008494818189343,
          0.08321481462802557,
          -0.5621103549964049,
          -0.666115045990679,
          -0.22509352690535678,
          -1.0643184410464175,
          0.22251579823925932,
          0.5986063082126469,
          0.11459219679383639,
          0.7593125165744864,
          0.2103290172024642,
          -2.017164157575092,
          -0.06478200186368004,
          0.8445371088727064,
          0.45596778382233266,
          -0.820671089748138,
          -0.10983235640478299,
          -0.4939671612088846,
          -1.4432782231781656,
          1.2936663433198556,
          -0.7127750389182068,
          -1.2837432002030262,
          -0.4005004052185187,
          -0.3282063282740504,
          -0.6850873197215348,
          -0.028277280860713516,
          1.2303787242796584,
          0.8794190943231905,
          -0.2728446264895277,
          0.09732640946867503,
          -0.11355883865903231,
          0.2128139309813744,
          -0.38963892316985477,
          0.12767461473080274,
          -0.09920015714668835,
          0.26371995379552415,
          -0.4434420199859188,
          -0.5607970551495925,
          2.063900563398957,
          -1.4857712119266875,
          0.007075658199432495,
          1.2878039096650393,
          -0.20469356440844869,
          -1.0443218157028409,
          0.30572575901613863,
          0.9186397492736501,
          0.463455305324779,
          0.5485539996955462,
          -0.2680810662274818,
          -0.9398484005231073,
          -0.15197786833529853,
          -0.021104928437870044,
          -0.7163874781331797,
          -0.07781558751246322,
          -0.5088178501681737,
          -0.3759080073603766,
          0.57215110217102,
          -0.3459356400266322,
          0.5123513245767716,
          1.8156822307430185,
          -1.5987878127320017,
          0.9828016670135185,
          -0.3987342334756005,
          1.553709645102389,
          -0.7930389415923372,
          -0.7878647849157575,
          -2.47437913953804,
          -1.0697479981823497,
          0.04802162487314175,
          -0.8340213258052468,
          0.8393512676752578,
          -0.6399858404914921,
          0.401629816409806,
          -0.08581239209276978,
          1.0681103969845536,
          -0.08160047220364465,
          0.09482987517133963,
          0.3768970125500851,
          1.3322319124126047,
          -0.23802377313554726,
          0.5443599989176237,
          0.2640731149237633,
          0.2516458614493047,
          -0.30819230362295347,
          -0.4297721916496139,
          0.493865700710478,
          2.073198652660911,
          -0.6036327703946305,
          -0.84105157047565,
          -2.3104107765592623,
          -0.32611725470856845,
          2.3388040250701154,
          -0.33413233446227103,
          -0.10019130753522917
         ],
         "yaxis": "y15"
        },
        {
         "histfunc": "count",
         "histnorm": "",
         "marker": {
          "color": "rgba(128, 0, 128, 1.0)",
          "line": {
           "color": "#4D5663",
           "width": 1.3
          }
         },
         "name": "D",
         "nbinsx": 10,
         "opacity": 0.8,
         "orientation": "v",
         "type": "histogram",
         "x": [
          0.8784097635079271,
          0.41373833465411486,
          -0.017982234333353768,
          -0.9849581469253769,
          -0.525922792414035,
          -1.5758495572561193,
          -2.6008494818189343,
          0.08321481462802557,
          -0.5621103549964049,
          -0.666115045990679,
          -0.22509352690535678,
          -1.0643184410464175,
          0.22251579823925932,
          0.5986063082126469,
          0.11459219679383639,
          0.7593125165744864,
          0.2103290172024642,
          -2.017164157575092,
          -0.06478200186368004,
          0.8445371088727064,
          0.45596778382233266,
          -0.820671089748138,
          -0.10983235640478299,
          -0.4939671612088846,
          -1.4432782231781656,
          1.2936663433198556,
          -0.7127750389182068,
          -1.2837432002030262,
          -0.4005004052185187,
          -0.3282063282740504,
          -0.6850873197215348,
          -0.028277280860713516,
          1.2303787242796584,
          0.8794190943231905,
          -0.2728446264895277,
          0.09732640946867503,
          -0.11355883865903231,
          0.2128139309813744,
          -0.38963892316985477,
          0.12767461473080274,
          -0.09920015714668835,
          0.26371995379552415,
          -0.4434420199859188,
          -0.5607970551495925,
          2.063900563398957,
          -1.4857712119266875,
          0.007075658199432495,
          1.2878039096650393,
          -0.20469356440844869,
          -1.0443218157028409,
          0.30572575901613863,
          0.9186397492736501,
          0.463455305324779,
          0.5485539996955462,
          -0.2680810662274818,
          -0.9398484005231073,
          -0.15197786833529853,
          -0.021104928437870044,
          -0.7163874781331797,
          -0.07781558751246322,
          -0.5088178501681737,
          -0.3759080073603766,
          0.57215110217102,
          -0.3459356400266322,
          0.5123513245767716,
          1.8156822307430185,
          -1.5987878127320017,
          0.9828016670135185,
          -0.3987342334756005,
          1.553709645102389,
          -0.7930389415923372,
          -0.7878647849157575,
          -2.47437913953804,
          -1.0697479981823497,
          0.04802162487314175,
          -0.8340213258052468,
          0.8393512676752578,
          -0.6399858404914921,
          0.401629816409806,
          -0.08581239209276978,
          1.0681103969845536,
          -0.08160047220364465,
          0.09482987517133963,
          0.3768970125500851,
          1.3322319124126047,
          -0.23802377313554726,
          0.5443599989176237,
          0.2640731149237633,
          0.2516458614493047,
          -0.30819230362295347,
          -0.4297721916496139,
          0.493865700710478,
          2.073198652660911,
          -0.6036327703946305,
          -0.84105157047565,
          -2.3104107765592623,
          -0.32611725470856845,
          2.3388040250701154,
          -0.33413233446227103,
          -0.10019130753522917
         ],
         "xaxis": "x16",
         "yaxis": "y16"
        }
       ],
       "layout": {
        "bargap": 0.02,
        "legend": {
         "bgcolor": "#F5F6F9",
         "font": {
          "color": "#4D5663"
         }
        },
        "paper_bgcolor": "#F5F6F9",
        "plot_bgcolor": "#F5F6F9",
        "showlegend": false,
        "template": {
         "data": {
          "bar": [
           {
            "error_x": {
             "color": "#2a3f5f"
            },
            "error_y": {
             "color": "#2a3f5f"
            },
            "marker": {
             "line": {
              "color": "#E5ECF6",
              "width": 0.5
             },
             "pattern": {
              "fillmode": "overlay",
              "size": 10,
              "solidity": 0.2
             }
            },
            "type": "bar"
           }
          ],
          "barpolar": [
           {
            "marker": {
             "line": {
              "color": "#E5ECF6",
              "width": 0.5
             },
             "pattern": {
              "fillmode": "overlay",
              "size": 10,
              "solidity": 0.2
             }
            },
            "type": "barpolar"
           }
          ],
          "carpet": [
           {
            "aaxis": {
             "endlinecolor": "#2a3f5f",
             "gridcolor": "white",
             "linecolor": "white",
             "minorgridcolor": "white",
             "startlinecolor": "#2a3f5f"
            },
            "baxis": {
             "endlinecolor": "#2a3f5f",
             "gridcolor": "white",
             "linecolor": "white",
             "minorgridcolor": "white",
             "startlinecolor": "#2a3f5f"
            },
            "type": "carpet"
           }
          ],
          "choropleth": [
           {
            "colorbar": {
             "outlinewidth": 0,
             "ticks": ""
            },
            "type": "choropleth"
           }
          ],
          "contour": [
           {
            "colorbar": {
             "outlinewidth": 0,
             "ticks": ""
            },
            "colorscale": [
             [
              0,
              "#0d0887"
             ],
             [
              0.1111111111111111,
              "#46039f"
             ],
             [
              0.2222222222222222,
              "#7201a8"
             ],
             [
              0.3333333333333333,
              "#9c179e"
             ],
             [
              0.4444444444444444,
              "#bd3786"
             ],
             [
              0.5555555555555556,
              "#d8576b"
             ],
             [
              0.6666666666666666,
              "#ed7953"
             ],
             [
              0.7777777777777778,
              "#fb9f3a"
             ],
             [
              0.8888888888888888,
              "#fdca26"
             ],
             [
              1,
              "#f0f921"
             ]
            ],
            "type": "contour"
           }
          ],
          "contourcarpet": [
           {
            "colorbar": {
             "outlinewidth": 0,
             "ticks": ""
            },
            "type": "contourcarpet"
           }
          ],
          "heatmap": [
           {
            "colorbar": {
             "outlinewidth": 0,
             "ticks": ""
            },
            "colorscale": [
             [
              0,
              "#0d0887"
             ],
             [
              0.1111111111111111,
              "#46039f"
             ],
             [
              0.2222222222222222,
              "#7201a8"
             ],
             [
              0.3333333333333333,
              "#9c179e"
             ],
             [
              0.4444444444444444,
              "#bd3786"
             ],
             [
              0.5555555555555556,
              "#d8576b"
             ],
             [
              0.6666666666666666,
              "#ed7953"
             ],
             [
              0.7777777777777778,
              "#fb9f3a"
             ],
             [
              0.8888888888888888,
              "#fdca26"
             ],
             [
              1,
              "#f0f921"
             ]
            ],
            "type": "heatmap"
           }
          ],
          "heatmapgl": [
           {
            "colorbar": {
             "outlinewidth": 0,
             "ticks": ""
            },
            "colorscale": [
             [
              0,
              "#0d0887"
             ],
             [
              0.1111111111111111,
              "#46039f"
             ],
             [
              0.2222222222222222,
              "#7201a8"
             ],
             [
              0.3333333333333333,
              "#9c179e"
             ],
             [
              0.4444444444444444,
              "#bd3786"
             ],
             [
              0.5555555555555556,
              "#d8576b"
             ],
             [
              0.6666666666666666,
              "#ed7953"
             ],
             [
              0.7777777777777778,
              "#fb9f3a"
             ],
             [
              0.8888888888888888,
              "#fdca26"
             ],
             [
              1,
              "#f0f921"
             ]
            ],
            "type": "heatmapgl"
           }
          ],
          "histogram": [
           {
            "marker": {
             "pattern": {
              "fillmode": "overlay",
              "size": 10,
              "solidity": 0.2
             }
            },
            "type": "histogram"
           }
          ],
          "histogram2d": [
           {
            "colorbar": {
             "outlinewidth": 0,
             "ticks": ""
            },
            "colorscale": [
             [
              0,
              "#0d0887"
             ],
             [
              0.1111111111111111,
              "#46039f"
             ],
             [
              0.2222222222222222,
              "#7201a8"
             ],
             [
              0.3333333333333333,
              "#9c179e"
             ],
             [
              0.4444444444444444,
              "#bd3786"
             ],
             [
              0.5555555555555556,
              "#d8576b"
             ],
             [
              0.6666666666666666,
              "#ed7953"
             ],
             [
              0.7777777777777778,
              "#fb9f3a"
             ],
             [
              0.8888888888888888,
              "#fdca26"
             ],
             [
              1,
              "#f0f921"
             ]
            ],
            "type": "histogram2d"
           }
          ],
          "histogram2dcontour": [
           {
            "colorbar": {
             "outlinewidth": 0,
             "ticks": ""
            },
            "colorscale": [
             [
              0,
              "#0d0887"
             ],
             [
              0.1111111111111111,
              "#46039f"
             ],
             [
              0.2222222222222222,
              "#7201a8"
             ],
             [
              0.3333333333333333,
              "#9c179e"
             ],
             [
              0.4444444444444444,
              "#bd3786"
             ],
             [
              0.5555555555555556,
              "#d8576b"
             ],
             [
              0.6666666666666666,
              "#ed7953"
             ],
             [
              0.7777777777777778,
              "#fb9f3a"
             ],
             [
              0.8888888888888888,
              "#fdca26"
             ],
             [
              1,
              "#f0f921"
             ]
            ],
            "type": "histogram2dcontour"
           }
          ],
          "mesh3d": [
           {
            "colorbar": {
             "outlinewidth": 0,
             "ticks": ""
            },
            "type": "mesh3d"
           }
          ],
          "parcoords": [
           {
            "line": {
             "colorbar": {
              "outlinewidth": 0,
              "ticks": ""
             }
            },
            "type": "parcoords"
           }
          ],
          "pie": [
           {
            "automargin": true,
            "type": "pie"
           }
          ],
          "scatter": [
           {
            "fillpattern": {
             "fillmode": "overlay",
             "size": 10,
             "solidity": 0.2
            },
            "type": "scatter"
           }
          ],
          "scatter3d": [
           {
            "line": {
             "colorbar": {
              "outlinewidth": 0,
              "ticks": ""
             }
            },
            "marker": {
             "colorbar": {
              "outlinewidth": 0,
              "ticks": ""
             }
            },
            "type": "scatter3d"
           }
          ],
          "scattercarpet": [
           {
            "marker": {
             "colorbar": {
              "outlinewidth": 0,
              "ticks": ""
             }
            },
            "type": "scattercarpet"
           }
          ],
          "scattergeo": [
           {
            "marker": {
             "colorbar": {
              "outlinewidth": 0,
              "ticks": ""
             }
            },
            "type": "scattergeo"
           }
          ],
          "scattergl": [
           {
            "marker": {
             "colorbar": {
              "outlinewidth": 0,
              "ticks": ""
             }
            },
            "type": "scattergl"
           }
          ],
          "scattermapbox": [
           {
            "marker": {
             "colorbar": {
              "outlinewidth": 0,
              "ticks": ""
             }
            },
            "type": "scattermapbox"
           }
          ],
          "scatterpolar": [
           {
            "marker": {
             "colorbar": {
              "outlinewidth": 0,
              "ticks": ""
             }
            },
            "type": "scatterpolar"
           }
          ],
          "scatterpolargl": [
           {
            "marker": {
             "colorbar": {
              "outlinewidth": 0,
              "ticks": ""
             }
            },
            "type": "scatterpolargl"
           }
          ],
          "scatterternary": [
           {
            "marker": {
             "colorbar": {
              "outlinewidth": 0,
              "ticks": ""
             }
            },
            "type": "scatterternary"
           }
          ],
          "surface": [
           {
            "colorbar": {
             "outlinewidth": 0,
             "ticks": ""
            },
            "colorscale": [
             [
              0,
              "#0d0887"
             ],
             [
              0.1111111111111111,
              "#46039f"
             ],
             [
              0.2222222222222222,
              "#7201a8"
             ],
             [
              0.3333333333333333,
              "#9c179e"
             ],
             [
              0.4444444444444444,
              "#bd3786"
             ],
             [
              0.5555555555555556,
              "#d8576b"
             ],
             [
              0.6666666666666666,
              "#ed7953"
             ],
             [
              0.7777777777777778,
              "#fb9f3a"
             ],
             [
              0.8888888888888888,
              "#fdca26"
             ],
             [
              1,
              "#f0f921"
             ]
            ],
            "type": "surface"
           }
          ],
          "table": [
           {
            "cells": {
             "fill": {
              "color": "#EBF0F8"
             },
             "line": {
              "color": "white"
             }
            },
            "header": {
             "fill": {
              "color": "#C8D4E3"
             },
             "line": {
              "color": "white"
             }
            },
            "type": "table"
           }
          ]
         },
         "layout": {
          "annotationdefaults": {
           "arrowcolor": "#2a3f5f",
           "arrowhead": 0,
           "arrowwidth": 1
          },
          "autotypenumbers": "strict",
          "coloraxis": {
           "colorbar": {
            "outlinewidth": 0,
            "ticks": ""
           }
          },
          "colorscale": {
           "diverging": [
            [
             0,
             "#8e0152"
            ],
            [
             0.1,
             "#c51b7d"
            ],
            [
             0.2,
             "#de77ae"
            ],
            [
             0.3,
             "#f1b6da"
            ],
            [
             0.4,
             "#fde0ef"
            ],
            [
             0.5,
             "#f7f7f7"
            ],
            [
             0.6,
             "#e6f5d0"
            ],
            [
             0.7,
             "#b8e186"
            ],
            [
             0.8,
             "#7fbc41"
            ],
            [
             0.9,
             "#4d9221"
            ],
            [
             1,
             "#276419"
            ]
           ],
           "sequential": [
            [
             0,
             "#0d0887"
            ],
            [
             0.1111111111111111,
             "#46039f"
            ],
            [
             0.2222222222222222,
             "#7201a8"
            ],
            [
             0.3333333333333333,
             "#9c179e"
            ],
            [
             0.4444444444444444,
             "#bd3786"
            ],
            [
             0.5555555555555556,
             "#d8576b"
            ],
            [
             0.6666666666666666,
             "#ed7953"
            ],
            [
             0.7777777777777778,
             "#fb9f3a"
            ],
            [
             0.8888888888888888,
             "#fdca26"
            ],
            [
             1,
             "#f0f921"
            ]
           ],
           "sequentialminus": [
            [
             0,
             "#0d0887"
            ],
            [
             0.1111111111111111,
             "#46039f"
            ],
            [
             0.2222222222222222,
             "#7201a8"
            ],
            [
             0.3333333333333333,
             "#9c179e"
            ],
            [
             0.4444444444444444,
             "#bd3786"
            ],
            [
             0.5555555555555556,
             "#d8576b"
            ],
            [
             0.6666666666666666,
             "#ed7953"
            ],
            [
             0.7777777777777778,
             "#fb9f3a"
            ],
            [
             0.8888888888888888,
             "#fdca26"
            ],
            [
             1,
             "#f0f921"
            ]
           ]
          },
          "colorway": [
           "#636efa",
           "#EF553B",
           "#00cc96",
           "#ab63fa",
           "#FFA15A",
           "#19d3f3",
           "#FF6692",
           "#B6E880",
           "#FF97FF",
           "#FECB52"
          ],
          "font": {
           "color": "#2a3f5f"
          },
          "geo": {
           "bgcolor": "white",
           "lakecolor": "white",
           "landcolor": "#E5ECF6",
           "showlakes": true,
           "showland": true,
           "subunitcolor": "white"
          },
          "hoverlabel": {
           "align": "left"
          },
          "hovermode": "closest",
          "mapbox": {
           "style": "light"
          },
          "paper_bgcolor": "white",
          "plot_bgcolor": "#E5ECF6",
          "polar": {
           "angularaxis": {
            "gridcolor": "white",
            "linecolor": "white",
            "ticks": ""
           },
           "bgcolor": "#E5ECF6",
           "radialaxis": {
            "gridcolor": "white",
            "linecolor": "white",
            "ticks": ""
           }
          },
          "scene": {
           "xaxis": {
            "backgroundcolor": "#E5ECF6",
            "gridcolor": "white",
            "gridwidth": 2,
            "linecolor": "white",
            "showbackground": true,
            "ticks": "",
            "zerolinecolor": "white"
           },
           "yaxis": {
            "backgroundcolor": "#E5ECF6",
            "gridcolor": "white",
            "gridwidth": 2,
            "linecolor": "white",
            "showbackground": true,
            "ticks": "",
            "zerolinecolor": "white"
           },
           "zaxis": {
            "backgroundcolor": "#E5ECF6",
            "gridcolor": "white",
            "gridwidth": 2,
            "linecolor": "white",
            "showbackground": true,
            "ticks": "",
            "zerolinecolor": "white"
           }
          },
          "shapedefaults": {
           "line": {
            "color": "#2a3f5f"
           }
          },
          "ternary": {
           "aaxis": {
            "gridcolor": "white",
            "linecolor": "white",
            "ticks": ""
           },
           "baxis": {
            "gridcolor": "white",
            "linecolor": "white",
            "ticks": ""
           },
           "bgcolor": "#E5ECF6",
           "caxis": {
            "gridcolor": "white",
            "linecolor": "white",
            "ticks": ""
           }
          },
          "title": {
           "x": 0.05
          },
          "xaxis": {
           "automargin": true,
           "gridcolor": "white",
           "linecolor": "white",
           "ticks": "",
           "title": {
            "standoff": 15
           },
           "zerolinecolor": "white",
           "zerolinewidth": 2
          },
          "yaxis": {
           "automargin": true,
           "gridcolor": "white",
           "linecolor": "white",
           "ticks": "",
           "title": {
            "standoff": 15
           },
           "zerolinecolor": "white",
           "zerolinewidth": 2
          }
         }
        },
        "title": {
         "font": {
          "color": "#4D5663"
         }
        },
        "xaxis": {
         "anchor": "y",
         "domain": [
          0,
          0.2125
         ],
         "gridcolor": "#E1E5ED",
         "showgrid": false,
         "tickfont": {
          "color": "#4D5663"
         },
         "title": {
          "font": {
           "color": "#4D5663"
          },
          "text": ""
         },
         "zerolinecolor": "#E1E5ED"
        },
        "xaxis10": {
         "anchor": "y10",
         "domain": [
          0.2625,
          0.475
         ],
         "gridcolor": "#E1E5ED",
         "showgrid": false,
         "tickfont": {
          "color": "#4D5663"
         },
         "title": {
          "font": {
           "color": "#4D5663"
          },
          "text": ""
         },
         "zerolinecolor": "#E1E5ED"
        },
        "xaxis11": {
         "anchor": "y11",
         "domain": [
          0.525,
          0.7375
         ],
         "gridcolor": "#E1E5ED",
         "showgrid": false,
         "tickfont": {
          "color": "#4D5663"
         },
         "title": {
          "font": {
           "color": "#4D5663"
          },
          "text": ""
         },
         "zerolinecolor": "#E1E5ED"
        },
        "xaxis12": {
         "anchor": "y12",
         "domain": [
          0.7875,
          1
         ],
         "gridcolor": "#E1E5ED",
         "showgrid": false,
         "tickfont": {
          "color": "#4D5663"
         },
         "title": {
          "font": {
           "color": "#4D5663"
          },
          "text": ""
         },
         "zerolinecolor": "#E1E5ED"
        },
        "xaxis13": {
         "anchor": "y13",
         "domain": [
          0,
          0.2125
         ],
         "gridcolor": "#E1E5ED",
         "showgrid": false,
         "tickfont": {
          "color": "#4D5663"
         },
         "title": {
          "font": {
           "color": "#4D5663"
          },
          "text": ""
         },
         "zerolinecolor": "#E1E5ED"
        },
        "xaxis14": {
         "anchor": "y14",
         "domain": [
          0.2625,
          0.475
         ],
         "gridcolor": "#E1E5ED",
         "showgrid": false,
         "tickfont": {
          "color": "#4D5663"
         },
         "title": {
          "font": {
           "color": "#4D5663"
          },
          "text": ""
         },
         "zerolinecolor": "#E1E5ED"
        },
        "xaxis15": {
         "anchor": "y15",
         "domain": [
          0.525,
          0.7375
         ],
         "gridcolor": "#E1E5ED",
         "showgrid": false,
         "tickfont": {
          "color": "#4D5663"
         },
         "title": {
          "font": {
           "color": "#4D5663"
          },
          "text": ""
         },
         "zerolinecolor": "#E1E5ED"
        },
        "xaxis16": {
         "anchor": "y16",
         "domain": [
          0.7875,
          1
         ],
         "gridcolor": "#E1E5ED",
         "showgrid": false,
         "tickfont": {
          "color": "#4D5663"
         },
         "title": {
          "font": {
           "color": "#4D5663"
          },
          "text": ""
         },
         "zerolinecolor": "#E1E5ED"
        },
        "xaxis2": {
         "anchor": "y2",
         "domain": [
          0.2625,
          0.475
         ],
         "gridcolor": "#E1E5ED",
         "showgrid": false,
         "tickfont": {
          "color": "#4D5663"
         },
         "title": {
          "font": {
           "color": "#4D5663"
          },
          "text": ""
         },
         "zerolinecolor": "#E1E5ED"
        },
        "xaxis3": {
         "anchor": "y3",
         "domain": [
          0.525,
          0.7375
         ],
         "gridcolor": "#E1E5ED",
         "showgrid": false,
         "tickfont": {
          "color": "#4D5663"
         },
         "title": {
          "font": {
           "color": "#4D5663"
          },
          "text": ""
         },
         "zerolinecolor": "#E1E5ED"
        },
        "xaxis4": {
         "anchor": "y4",
         "domain": [
          0.7875,
          1
         ],
         "gridcolor": "#E1E5ED",
         "showgrid": false,
         "tickfont": {
          "color": "#4D5663"
         },
         "title": {
          "font": {
           "color": "#4D5663"
          },
          "text": ""
         },
         "zerolinecolor": "#E1E5ED"
        },
        "xaxis5": {
         "anchor": "y5",
         "domain": [
          0,
          0.2125
         ],
         "gridcolor": "#E1E5ED",
         "showgrid": false,
         "tickfont": {
          "color": "#4D5663"
         },
         "title": {
          "font": {
           "color": "#4D5663"
          },
          "text": ""
         },
         "zerolinecolor": "#E1E5ED"
        },
        "xaxis6": {
         "anchor": "y6",
         "domain": [
          0.2625,
          0.475
         ],
         "gridcolor": "#E1E5ED",
         "showgrid": false,
         "tickfont": {
          "color": "#4D5663"
         },
         "title": {
          "font": {
           "color": "#4D5663"
          },
          "text": ""
         },
         "zerolinecolor": "#E1E5ED"
        },
        "xaxis7": {
         "anchor": "y7",
         "domain": [
          0.525,
          0.7375
         ],
         "gridcolor": "#E1E5ED",
         "showgrid": false,
         "tickfont": {
          "color": "#4D5663"
         },
         "title": {
          "font": {
           "color": "#4D5663"
          },
          "text": ""
         },
         "zerolinecolor": "#E1E5ED"
        },
        "xaxis8": {
         "anchor": "y8",
         "domain": [
          0.7875,
          1
         ],
         "gridcolor": "#E1E5ED",
         "showgrid": false,
         "tickfont": {
          "color": "#4D5663"
         },
         "title": {
          "font": {
           "color": "#4D5663"
          },
          "text": ""
         },
         "zerolinecolor": "#E1E5ED"
        },
        "xaxis9": {
         "anchor": "y9",
         "domain": [
          0,
          0.2125
         ],
         "gridcolor": "#E1E5ED",
         "showgrid": false,
         "tickfont": {
          "color": "#4D5663"
         },
         "title": {
          "font": {
           "color": "#4D5663"
          },
          "text": ""
         },
         "zerolinecolor": "#E1E5ED"
        },
        "yaxis": {
         "anchor": "x",
         "domain": [
          0.8025,
          1
         ],
         "gridcolor": "#E1E5ED",
         "showgrid": false,
         "tickfont": {
          "color": "#4D5663"
         },
         "title": {
          "font": {
           "color": "#4D5663"
          },
          "text": ""
         },
         "zerolinecolor": "#E1E5ED"
        },
        "yaxis10": {
         "anchor": "x10",
         "domain": [
          0.2675,
          0.465
         ],
         "gridcolor": "#E1E5ED",
         "showgrid": false,
         "tickfont": {
          "color": "#4D5663"
         },
         "title": {
          "font": {
           "color": "#4D5663"
          },
          "text": ""
         },
         "zerolinecolor": "#E1E5ED"
        },
        "yaxis11": {
         "anchor": "x11",
         "domain": [
          0.2675,
          0.465
         ],
         "gridcolor": "#E1E5ED",
         "showgrid": false,
         "tickfont": {
          "color": "#4D5663"
         },
         "title": {
          "font": {
           "color": "#4D5663"
          },
          "text": ""
         },
         "zerolinecolor": "#E1E5ED"
        },
        "yaxis12": {
         "anchor": "x12",
         "domain": [
          0.2675,
          0.465
         ],
         "gridcolor": "#E1E5ED",
         "showgrid": false,
         "tickfont": {
          "color": "#4D5663"
         },
         "title": {
          "font": {
           "color": "#4D5663"
          },
          "text": ""
         },
         "zerolinecolor": "#E1E5ED"
        },
        "yaxis13": {
         "anchor": "x13",
         "domain": [
          0,
          0.1975
         ],
         "gridcolor": "#E1E5ED",
         "showgrid": false,
         "tickfont": {
          "color": "#4D5663"
         },
         "title": {
          "font": {
           "color": "#4D5663"
          },
          "text": ""
         },
         "zerolinecolor": "#E1E5ED"
        },
        "yaxis14": {
         "anchor": "x14",
         "domain": [
          0,
          0.1975
         ],
         "gridcolor": "#E1E5ED",
         "showgrid": false,
         "tickfont": {
          "color": "#4D5663"
         },
         "title": {
          "font": {
           "color": "#4D5663"
          },
          "text": ""
         },
         "zerolinecolor": "#E1E5ED"
        },
        "yaxis15": {
         "anchor": "x15",
         "domain": [
          0,
          0.1975
         ],
         "gridcolor": "#E1E5ED",
         "showgrid": false,
         "tickfont": {
          "color": "#4D5663"
         },
         "title": {
          "font": {
           "color": "#4D5663"
          },
          "text": ""
         },
         "zerolinecolor": "#E1E5ED"
        },
        "yaxis16": {
         "anchor": "x16",
         "domain": [
          0,
          0.1975
         ],
         "gridcolor": "#E1E5ED",
         "showgrid": false,
         "tickfont": {
          "color": "#4D5663"
         },
         "title": {
          "font": {
           "color": "#4D5663"
          },
          "text": ""
         },
         "zerolinecolor": "#E1E5ED"
        },
        "yaxis2": {
         "anchor": "x2",
         "domain": [
          0.8025,
          1
         ],
         "gridcolor": "#E1E5ED",
         "showgrid": false,
         "tickfont": {
          "color": "#4D5663"
         },
         "title": {
          "font": {
           "color": "#4D5663"
          },
          "text": ""
         },
         "zerolinecolor": "#E1E5ED"
        },
        "yaxis3": {
         "anchor": "x3",
         "domain": [
          0.8025,
          1
         ],
         "gridcolor": "#E1E5ED",
         "showgrid": false,
         "tickfont": {
          "color": "#4D5663"
         },
         "title": {
          "font": {
           "color": "#4D5663"
          },
          "text": ""
         },
         "zerolinecolor": "#E1E5ED"
        },
        "yaxis4": {
         "anchor": "x4",
         "domain": [
          0.8025,
          1
         ],
         "gridcolor": "#E1E5ED",
         "showgrid": false,
         "tickfont": {
          "color": "#4D5663"
         },
         "title": {
          "font": {
           "color": "#4D5663"
          },
          "text": ""
         },
         "zerolinecolor": "#E1E5ED"
        },
        "yaxis5": {
         "anchor": "x5",
         "domain": [
          0.535,
          0.7325
         ],
         "gridcolor": "#E1E5ED",
         "showgrid": false,
         "tickfont": {
          "color": "#4D5663"
         },
         "title": {
          "font": {
           "color": "#4D5663"
          },
          "text": ""
         },
         "zerolinecolor": "#E1E5ED"
        },
        "yaxis6": {
         "anchor": "x6",
         "domain": [
          0.535,
          0.7325
         ],
         "gridcolor": "#E1E5ED",
         "showgrid": false,
         "tickfont": {
          "color": "#4D5663"
         },
         "title": {
          "font": {
           "color": "#4D5663"
          },
          "text": ""
         },
         "zerolinecolor": "#E1E5ED"
        },
        "yaxis7": {
         "anchor": "x7",
         "domain": [
          0.535,
          0.7325
         ],
         "gridcolor": "#E1E5ED",
         "showgrid": false,
         "tickfont": {
          "color": "#4D5663"
         },
         "title": {
          "font": {
           "color": "#4D5663"
          },
          "text": ""
         },
         "zerolinecolor": "#E1E5ED"
        },
        "yaxis8": {
         "anchor": "x8",
         "domain": [
          0.535,
          0.7325
         ],
         "gridcolor": "#E1E5ED",
         "showgrid": false,
         "tickfont": {
          "color": "#4D5663"
         },
         "title": {
          "font": {
           "color": "#4D5663"
          },
          "text": ""
         },
         "zerolinecolor": "#E1E5ED"
        },
        "yaxis9": {
         "anchor": "x9",
         "domain": [
          0.2675,
          0.465
         ],
         "gridcolor": "#E1E5ED",
         "showgrid": false,
         "tickfont": {
          "color": "#4D5663"
         },
         "title": {
          "font": {
           "color": "#4D5663"
          },
          "text": ""
         },
         "zerolinecolor": "#E1E5ED"
        }
       }
      },
      "text/html": [
       "<div>                            <div id=\"d439a2ad-dff7-4a47-98bf-592e71180db2\" class=\"plotly-graph-div\" style=\"height:525px; width:100%;\"></div>            <script type=\"text/javascript\">                require([\"plotly\"], function(Plotly) {                    window.PLOTLYENV=window.PLOTLYENV || {};\n",
       "                    window.PLOTLYENV.BASE_URL='https://plot.ly';                                    if (document.getElementById(\"d439a2ad-dff7-4a47-98bf-592e71180db2\")) {                    Plotly.newPlot(                        \"d439a2ad-dff7-4a47-98bf-592e71180db2\",                        [{\"histfunc\":\"count\",\"histnorm\":\"\",\"marker\":{\"color\":\"rgba(255, 153, 51, 1.0)\",\"line\":{\"color\":\"#4D5663\",\"width\":1.3}},\"name\":\"A\",\"nbinsx\":10,\"opacity\":0.8,\"orientation\":\"v\",\"x\":[0.2995340644905276,0.2205656269030712,-1.056174561092009,0.7591755781504027,0.5326518825067723,1.3044295669802999,1.3281748768339667,-0.09922890207163876,0.6072907830909519,1.1826119307800274,0.3200674123294725,-1.3012890682412424,0.39931988429912135,-0.34879285248827946,-0.7832437352797109,0.24797886378743955,-2.8773605354838225,-0.41107805336817005,0.5428332832960278,-0.34202223323909137,0.6703636476801402,0.47056109501637966,0.5846164712351315,-0.8661517063929928,0.44216954122070445,0.5363106882328338,-0.27977714813382293,0.4380768982907296,-1.4402841454482886,0.256393582261463,1.6549149482388437,-1.3228705669839567,-0.7548185531120883,0.44297261355922846,1.3580577186497258,-0.5112296882385694,1.5741392211439416,0.13109722398933546,-1.4680827312451141,-0.6059423946677869,0.144459267134369,0.3021717007693336,-0.22744784266075352,0.03450363264569284,0.05177307263761155,0.1399332902663523,1.0229527181140547,-2.6321782638398714,0.7745092754158753,-1.5926248522708426,-0.7031009714908845,0.6710809023395671,-0.1438163725324016,0.5082776496708439,0.0767121365819478,0.6457023848381208,-0.3580314419038346,-0.774839310285214,-0.43466021347224676,-1.6000577779988623,0.5086471535040138,0.37958854995049945,-1.0104442910961025,-0.1514509188462034,-0.12732690203447797,0.8209231907729551,-0.22640327123432807,1.4349981836183903,0.6890109446047313,1.0775411458507147,0.29266013334010743,0.3923131280672186,-0.7821903721721409,-1.2087665128305551,-0.04005064789093992,0.586175941448245,-0.39450460865418874,0.7192182080202476,1.8882833172200184,0.8341960000980053,0.049935991907428666,0.47937322066761195,0.07588343334653969,-0.2526301622266612,-0.5289099932191659,-0.10700710269370067,-0.4631513345001443,-0.3924250958303068,1.3819170930309186,-1.0229272234878124,-0.8612817624400896,-1.3485764993188754,1.9759061035618044,-0.9223448984827978,-1.0472531006509647,-0.09420726481422516,0.13682879551914487,-0.6242439989143544,-0.6080082561687519,-0.335483037163409],\"xaxis\":\"x\",\"yaxis\":\"y\",\"type\":\"histogram\"},{\"line\":{\"color\":\"rgba(128, 128, 128, 1.0)\",\"dash\":\"solid\",\"shape\":\"linear\",\"width\":1.3},\"marker\":{\"size\":2,\"symbol\":\"circle\"},\"mode\":\"markers\",\"name\":\"A\",\"text\":\"\",\"x\":[0.6288873106968625,1.5552086644040435,-0.2020635486518468,-0.37421286494601835,-1.8901354714158451,1.1642455262282074,-1.0335669426310594,-0.6453012578613595,-2.500063217723074,0.6208790462589199,-0.33919024377178775,-0.6323417396484956,-1.1042370872644787,0.687990530703836,-0.29482934295310004,-1.760993482777496,0.4013839131768914,-0.19128337287568414,0.38831658519353085,1.1022164676082287,-0.7658403159220927,0.39746202290875726,0.05253399825030649,-1.2986978680790244,0.5516764900142631,0.9594352288580066,-1.6176146758116843,0.566234817380164,0.03291261568889055,-0.10412367010856544,0.18813480982253722,0.33139764237225916,-0.4352051883947046,-0.1850665849362166,1.977129824661224,-0.716727900543721,-0.9962485346727465,2.1457330602622915,1.4786805379182806,-0.3073961040236371,0.5190635210197534,-0.2977117536092024,1.07655420499391,1.6402869584964106,-0.6736312859201243,-0.5421796901027264,0.2609352631947877,-0.2243329499018594,0.1421432931661823,1.093261930610181,0.30912184023215555,0.5274847296838001,-0.8482473955350368,-1.1740459296667167,0.12050195080175524,0.6917000321710234,-0.24954254013796354,-0.0555574867666861,-0.11674030611528681,-1.334786476612104,-0.7223974650682061,1.4343193468848872,-1.3171815064176886,-0.6898579117892474,-0.30456626778121365,-0.38585924100511965,-0.8134747561637852,2.010879165813113,1.8244088747007474,-0.3670493932221158,0.03065143496118238,-0.6766752794932412,-0.21596160514515156,-0.3343960409842762,-0.5872454814216169,-0.2983674285813973,0.2681694412271725,-0.5871780526557453,0.6345911247702245,-0.48125080520848557,-1.537351065621091,0.6715502994413234,-0.7553536888819133,0.7274770340599817,0.38331131279465536,0.20240429935781595,-0.03698531065937211,0.7746536546150867,-0.12743883677501958,-0.6009991380090095,0.7150308408538082,0.8401271366581022,-1.8596498898007021,-1.3339806032828878,-0.22198748420879716,-1.8428750875481898,0.4064685378532878,-0.1475973932807723,-0.8804055552297537,-1.580823041015511],\"xaxis\":\"x2\",\"y\":[0.2995340644905276,0.2205656269030712,-1.056174561092009,0.7591755781504027,0.5326518825067723,1.3044295669802999,1.3281748768339667,-0.09922890207163876,0.6072907830909519,1.1826119307800274,0.3200674123294725,-1.3012890682412424,0.39931988429912135,-0.34879285248827946,-0.7832437352797109,0.24797886378743955,-2.8773605354838225,-0.41107805336817005,0.5428332832960278,-0.34202223323909137,0.6703636476801402,0.47056109501637966,0.5846164712351315,-0.8661517063929928,0.44216954122070445,0.5363106882328338,-0.27977714813382293,0.4380768982907296,-1.4402841454482886,0.256393582261463,1.6549149482388437,-1.3228705669839567,-0.7548185531120883,0.44297261355922846,1.3580577186497258,-0.5112296882385694,1.5741392211439416,0.13109722398933546,-1.4680827312451141,-0.6059423946677869,0.144459267134369,0.3021717007693336,-0.22744784266075352,0.03450363264569284,0.05177307263761155,0.1399332902663523,1.0229527181140547,-2.6321782638398714,0.7745092754158753,-1.5926248522708426,-0.7031009714908845,0.6710809023395671,-0.1438163725324016,0.5082776496708439,0.0767121365819478,0.6457023848381208,-0.3580314419038346,-0.774839310285214,-0.43466021347224676,-1.6000577779988623,0.5086471535040138,0.37958854995049945,-1.0104442910961025,-0.1514509188462034,-0.12732690203447797,0.8209231907729551,-0.22640327123432807,1.4349981836183903,0.6890109446047313,1.0775411458507147,0.29266013334010743,0.3923131280672186,-0.7821903721721409,-1.2087665128305551,-0.04005064789093992,0.586175941448245,-0.39450460865418874,0.7192182080202476,1.8882833172200184,0.8341960000980053,0.049935991907428666,0.47937322066761195,0.07588343334653969,-0.2526301622266612,-0.5289099932191659,-0.10700710269370067,-0.4631513345001443,-0.3924250958303068,1.3819170930309186,-1.0229272234878124,-0.8612817624400896,-1.3485764993188754,1.9759061035618044,-0.9223448984827978,-1.0472531006509647,-0.09420726481422516,0.13682879551914487,-0.6242439989143544,-0.6080082561687519,-0.335483037163409],\"yaxis\":\"y2\",\"type\":\"scatter\"},{\"line\":{\"color\":\"rgba(128, 128, 128, 1.0)\",\"dash\":\"solid\",\"shape\":\"linear\",\"width\":1.3},\"marker\":{\"size\":2,\"symbol\":\"circle\"},\"mode\":\"markers\",\"name\":\"A\",\"text\":\"\",\"x\":[1.4924820594701595,0.7869320413273678,0.32273074575160593,0.6082508425877736,0.2514930413665632,-0.4034861638206237,-0.5768681716474443,0.6856012702187398,-1.7068889895044812,2.0385721334530302,-0.8191936955348694,-0.13602903900798372,0.9667930631260175,0.0006992865771992262,0.39111968811096387,-0.43540783703434993,-0.3221271598960024,1.514266460244137,-0.020695230765908058,1.035430942071528,0.6506811637253885,-1.145913181938134,-0.34697751515819814,0.5722502898175891,-0.7519895563251693,1.9776712105857348,0.3372495147021022,-0.4395212659175542,-1.2050237800542114,-0.06537901172259553,-0.5797928888875487,-1.431944247132665,3.0903555244262755,-0.6651819863410234,-1.8564840845463624,-0.2717618053538439,-0.10389500197897769,1.0364867265617488,-0.6559090419483852,0.29752590565428155,1.0219876099372784,-2.442035360843184,0.850123129127888,0.24684047283695598,-0.3678949207276394,-0.7883469321527289,1.6771022341276227,0.9389046366431055,-1.8881830834792284,0.5713559181159971,-1.3460438578180391,-0.3668246713811393,-0.3500860505947476,-0.3964023791091147,0.24512962516339712,-1.1552665030490763,0.09138475183594481,-0.22696740865481954,0.8208391263967445,-0.19519785712563537,-1.3695877423647327,-0.5385789870693948,0.6416446055778066,0.1382865607176138,1.000976342056877,-0.6824060028252374,0.48166835711151784,-1.7697737629288337,-0.6571145004145996,0.1894110624135475,0.9810977645999668,-1.0499061540091557,0.6730116130030037,2.112389062467758,0.04722673653972112,0.5370038684396691,-0.8236499029151352,-0.9230905362969907,0.2880332090928785,0.20315760791893966,0.2603532879125389,-1.2692769502035877,-0.8287321214176975,-0.07163646942393866,-0.4651101256940488,-0.8578945848200039,0.0891853556732661,-0.17394563516085862,-0.0507649119885555,-0.6267804040324925,-0.770225541117248,0.846148721475124,-0.2500008631262009,-1.6556309939729155,-0.8753658192097954,-0.2102264072150913,1.1306846851390011,1.1411074885543189,1.0323578639940127,0.22708670869310604],\"xaxis\":\"x3\",\"y\":[0.2995340644905276,0.2205656269030712,-1.056174561092009,0.7591755781504027,0.5326518825067723,1.3044295669802999,1.3281748768339667,-0.09922890207163876,0.6072907830909519,1.1826119307800274,0.3200674123294725,-1.3012890682412424,0.39931988429912135,-0.34879285248827946,-0.7832437352797109,0.24797886378743955,-2.8773605354838225,-0.41107805336817005,0.5428332832960278,-0.34202223323909137,0.6703636476801402,0.47056109501637966,0.5846164712351315,-0.8661517063929928,0.44216954122070445,0.5363106882328338,-0.27977714813382293,0.4380768982907296,-1.4402841454482886,0.256393582261463,1.6549149482388437,-1.3228705669839567,-0.7548185531120883,0.44297261355922846,1.3580577186497258,-0.5112296882385694,1.5741392211439416,0.13109722398933546,-1.4680827312451141,-0.6059423946677869,0.144459267134369,0.3021717007693336,-0.22744784266075352,0.03450363264569284,0.05177307263761155,0.1399332902663523,1.0229527181140547,-2.6321782638398714,0.7745092754158753,-1.5926248522708426,-0.7031009714908845,0.6710809023395671,-0.1438163725324016,0.5082776496708439,0.0767121365819478,0.6457023848381208,-0.3580314419038346,-0.774839310285214,-0.43466021347224676,-1.6000577779988623,0.5086471535040138,0.37958854995049945,-1.0104442910961025,-0.1514509188462034,-0.12732690203447797,0.8209231907729551,-0.22640327123432807,1.4349981836183903,0.6890109446047313,1.0775411458507147,0.29266013334010743,0.3923131280672186,-0.7821903721721409,-1.2087665128305551,-0.04005064789093992,0.586175941448245,-0.39450460865418874,0.7192182080202476,1.8882833172200184,0.8341960000980053,0.049935991907428666,0.47937322066761195,0.07588343334653969,-0.2526301622266612,-0.5289099932191659,-0.10700710269370067,-0.4631513345001443,-0.3924250958303068,1.3819170930309186,-1.0229272234878124,-0.8612817624400896,-1.3485764993188754,1.9759061035618044,-0.9223448984827978,-1.0472531006509647,-0.09420726481422516,0.13682879551914487,-0.6242439989143544,-0.6080082561687519,-0.335483037163409],\"yaxis\":\"y3\",\"type\":\"scatter\"},{\"line\":{\"color\":\"rgba(128, 128, 128, 1.0)\",\"dash\":\"solid\",\"shape\":\"linear\",\"width\":1.3},\"marker\":{\"size\":2,\"symbol\":\"circle\"},\"mode\":\"markers\",\"name\":\"A\",\"text\":\"\",\"x\":[0.8784097635079271,0.41373833465411486,-0.017982234333353768,-0.9849581469253769,-0.525922792414035,-1.5758495572561193,-2.6008494818189343,0.08321481462802557,-0.5621103549964049,-0.666115045990679,-0.22509352690535678,-1.0643184410464175,0.22251579823925932,0.5986063082126469,0.11459219679383639,0.7593125165744864,0.2103290172024642,-2.017164157575092,-0.06478200186368004,0.8445371088727064,0.45596778382233266,-0.820671089748138,-0.10983235640478299,-0.4939671612088846,-1.4432782231781656,1.2936663433198556,-0.7127750389182068,-1.2837432002030262,-0.4005004052185187,-0.3282063282740504,-0.6850873197215348,-0.028277280860713516,1.2303787242796584,0.8794190943231905,-0.2728446264895277,0.09732640946867503,-0.11355883865903231,0.2128139309813744,-0.38963892316985477,0.12767461473080274,-0.09920015714668835,0.26371995379552415,-0.4434420199859188,-0.5607970551495925,2.063900563398957,-1.4857712119266875,0.007075658199432495,1.2878039096650393,-0.20469356440844869,-1.0443218157028409,0.30572575901613863,0.9186397492736501,0.463455305324779,0.5485539996955462,-0.2680810662274818,-0.9398484005231073,-0.15197786833529853,-0.021104928437870044,-0.7163874781331797,-0.07781558751246322,-0.5088178501681737,-0.3759080073603766,0.57215110217102,-0.3459356400266322,0.5123513245767716,1.8156822307430185,-1.5987878127320017,0.9828016670135185,-0.3987342334756005,1.553709645102389,-0.7930389415923372,-0.7878647849157575,-2.47437913953804,-1.0697479981823497,0.04802162487314175,-0.8340213258052468,0.8393512676752578,-0.6399858404914921,0.401629816409806,-0.08581239209276978,1.0681103969845536,-0.08160047220364465,0.09482987517133963,0.3768970125500851,1.3322319124126047,-0.23802377313554726,0.5443599989176237,0.2640731149237633,0.2516458614493047,-0.30819230362295347,-0.4297721916496139,0.493865700710478,2.073198652660911,-0.6036327703946305,-0.84105157047565,-2.3104107765592623,-0.32611725470856845,2.3388040250701154,-0.33413233446227103,-0.10019130753522917],\"xaxis\":\"x4\",\"y\":[0.2995340644905276,0.2205656269030712,-1.056174561092009,0.7591755781504027,0.5326518825067723,1.3044295669802999,1.3281748768339667,-0.09922890207163876,0.6072907830909519,1.1826119307800274,0.3200674123294725,-1.3012890682412424,0.39931988429912135,-0.34879285248827946,-0.7832437352797109,0.24797886378743955,-2.8773605354838225,-0.41107805336817005,0.5428332832960278,-0.34202223323909137,0.6703636476801402,0.47056109501637966,0.5846164712351315,-0.8661517063929928,0.44216954122070445,0.5363106882328338,-0.27977714813382293,0.4380768982907296,-1.4402841454482886,0.256393582261463,1.6549149482388437,-1.3228705669839567,-0.7548185531120883,0.44297261355922846,1.3580577186497258,-0.5112296882385694,1.5741392211439416,0.13109722398933546,-1.4680827312451141,-0.6059423946677869,0.144459267134369,0.3021717007693336,-0.22744784266075352,0.03450363264569284,0.05177307263761155,0.1399332902663523,1.0229527181140547,-2.6321782638398714,0.7745092754158753,-1.5926248522708426,-0.7031009714908845,0.6710809023395671,-0.1438163725324016,0.5082776496708439,0.0767121365819478,0.6457023848381208,-0.3580314419038346,-0.774839310285214,-0.43466021347224676,-1.6000577779988623,0.5086471535040138,0.37958854995049945,-1.0104442910961025,-0.1514509188462034,-0.12732690203447797,0.8209231907729551,-0.22640327123432807,1.4349981836183903,0.6890109446047313,1.0775411458507147,0.29266013334010743,0.3923131280672186,-0.7821903721721409,-1.2087665128305551,-0.04005064789093992,0.586175941448245,-0.39450460865418874,0.7192182080202476,1.8882833172200184,0.8341960000980053,0.049935991907428666,0.47937322066761195,0.07588343334653969,-0.2526301622266612,-0.5289099932191659,-0.10700710269370067,-0.4631513345001443,-0.3924250958303068,1.3819170930309186,-1.0229272234878124,-0.8612817624400896,-1.3485764993188754,1.9759061035618044,-0.9223448984827978,-1.0472531006509647,-0.09420726481422516,0.13682879551914487,-0.6242439989143544,-0.6080082561687519,-0.335483037163409],\"yaxis\":\"y4\",\"type\":\"scatter\"},{\"line\":{\"color\":\"rgba(128, 128, 128, 1.0)\",\"dash\":\"solid\",\"shape\":\"linear\",\"width\":1.3},\"marker\":{\"size\":2,\"symbol\":\"circle\"},\"mode\":\"markers\",\"name\":\"B\",\"text\":\"\",\"x\":[0.2995340644905276,0.2205656269030712,-1.056174561092009,0.7591755781504027,0.5326518825067723,1.3044295669802999,1.3281748768339667,-0.09922890207163876,0.6072907830909519,1.1826119307800274,0.3200674123294725,-1.3012890682412424,0.39931988429912135,-0.34879285248827946,-0.7832437352797109,0.24797886378743955,-2.8773605354838225,-0.41107805336817005,0.5428332832960278,-0.34202223323909137,0.6703636476801402,0.47056109501637966,0.5846164712351315,-0.8661517063929928,0.44216954122070445,0.5363106882328338,-0.27977714813382293,0.4380768982907296,-1.4402841454482886,0.256393582261463,1.6549149482388437,-1.3228705669839567,-0.7548185531120883,0.44297261355922846,1.3580577186497258,-0.5112296882385694,1.5741392211439416,0.13109722398933546,-1.4680827312451141,-0.6059423946677869,0.144459267134369,0.3021717007693336,-0.22744784266075352,0.03450363264569284,0.05177307263761155,0.1399332902663523,1.0229527181140547,-2.6321782638398714,0.7745092754158753,-1.5926248522708426,-0.7031009714908845,0.6710809023395671,-0.1438163725324016,0.5082776496708439,0.0767121365819478,0.6457023848381208,-0.3580314419038346,-0.774839310285214,-0.43466021347224676,-1.6000577779988623,0.5086471535040138,0.37958854995049945,-1.0104442910961025,-0.1514509188462034,-0.12732690203447797,0.8209231907729551,-0.22640327123432807,1.4349981836183903,0.6890109446047313,1.0775411458507147,0.29266013334010743,0.3923131280672186,-0.7821903721721409,-1.2087665128305551,-0.04005064789093992,0.586175941448245,-0.39450460865418874,0.7192182080202476,1.8882833172200184,0.8341960000980053,0.049935991907428666,0.47937322066761195,0.07588343334653969,-0.2526301622266612,-0.5289099932191659,-0.10700710269370067,-0.4631513345001443,-0.3924250958303068,1.3819170930309186,-1.0229272234878124,-0.8612817624400896,-1.3485764993188754,1.9759061035618044,-0.9223448984827978,-1.0472531006509647,-0.09420726481422516,0.13682879551914487,-0.6242439989143544,-0.6080082561687519,-0.335483037163409],\"xaxis\":\"x5\",\"y\":[0.6288873106968625,1.5552086644040435,-0.2020635486518468,-0.37421286494601835,-1.8901354714158451,1.1642455262282074,-1.0335669426310594,-0.6453012578613595,-2.500063217723074,0.6208790462589199,-0.33919024377178775,-0.6323417396484956,-1.1042370872644787,0.687990530703836,-0.29482934295310004,-1.760993482777496,0.4013839131768914,-0.19128337287568414,0.38831658519353085,1.1022164676082287,-0.7658403159220927,0.39746202290875726,0.05253399825030649,-1.2986978680790244,0.5516764900142631,0.9594352288580066,-1.6176146758116843,0.566234817380164,0.03291261568889055,-0.10412367010856544,0.18813480982253722,0.33139764237225916,-0.4352051883947046,-0.1850665849362166,1.977129824661224,-0.716727900543721,-0.9962485346727465,2.1457330602622915,1.4786805379182806,-0.3073961040236371,0.5190635210197534,-0.2977117536092024,1.07655420499391,1.6402869584964106,-0.6736312859201243,-0.5421796901027264,0.2609352631947877,-0.2243329499018594,0.1421432931661823,1.093261930610181,0.30912184023215555,0.5274847296838001,-0.8482473955350368,-1.1740459296667167,0.12050195080175524,0.6917000321710234,-0.24954254013796354,-0.0555574867666861,-0.11674030611528681,-1.334786476612104,-0.7223974650682061,1.4343193468848872,-1.3171815064176886,-0.6898579117892474,-0.30456626778121365,-0.38585924100511965,-0.8134747561637852,2.010879165813113,1.8244088747007474,-0.3670493932221158,0.03065143496118238,-0.6766752794932412,-0.21596160514515156,-0.3343960409842762,-0.5872454814216169,-0.2983674285813973,0.2681694412271725,-0.5871780526557453,0.6345911247702245,-0.48125080520848557,-1.537351065621091,0.6715502994413234,-0.7553536888819133,0.7274770340599817,0.38331131279465536,0.20240429935781595,-0.03698531065937211,0.7746536546150867,-0.12743883677501958,-0.6009991380090095,0.7150308408538082,0.8401271366581022,-1.8596498898007021,-1.3339806032828878,-0.22198748420879716,-1.8428750875481898,0.4064685378532878,-0.1475973932807723,-0.8804055552297537,-1.580823041015511],\"yaxis\":\"y5\",\"type\":\"scatter\"},{\"histfunc\":\"count\",\"histnorm\":\"\",\"marker\":{\"color\":\"rgba(55, 128, 191, 1.0)\",\"line\":{\"color\":\"#4D5663\",\"width\":1.3}},\"name\":\"B\",\"nbinsx\":10,\"opacity\":0.8,\"orientation\":\"v\",\"x\":[0.6288873106968625,1.5552086644040435,-0.2020635486518468,-0.37421286494601835,-1.8901354714158451,1.1642455262282074,-1.0335669426310594,-0.6453012578613595,-2.500063217723074,0.6208790462589199,-0.33919024377178775,-0.6323417396484956,-1.1042370872644787,0.687990530703836,-0.29482934295310004,-1.760993482777496,0.4013839131768914,-0.19128337287568414,0.38831658519353085,1.1022164676082287,-0.7658403159220927,0.39746202290875726,0.05253399825030649,-1.2986978680790244,0.5516764900142631,0.9594352288580066,-1.6176146758116843,0.566234817380164,0.03291261568889055,-0.10412367010856544,0.18813480982253722,0.33139764237225916,-0.4352051883947046,-0.1850665849362166,1.977129824661224,-0.716727900543721,-0.9962485346727465,2.1457330602622915,1.4786805379182806,-0.3073961040236371,0.5190635210197534,-0.2977117536092024,1.07655420499391,1.6402869584964106,-0.6736312859201243,-0.5421796901027264,0.2609352631947877,-0.2243329499018594,0.1421432931661823,1.093261930610181,0.30912184023215555,0.5274847296838001,-0.8482473955350368,-1.1740459296667167,0.12050195080175524,0.6917000321710234,-0.24954254013796354,-0.0555574867666861,-0.11674030611528681,-1.334786476612104,-0.7223974650682061,1.4343193468848872,-1.3171815064176886,-0.6898579117892474,-0.30456626778121365,-0.38585924100511965,-0.8134747561637852,2.010879165813113,1.8244088747007474,-0.3670493932221158,0.03065143496118238,-0.6766752794932412,-0.21596160514515156,-0.3343960409842762,-0.5872454814216169,-0.2983674285813973,0.2681694412271725,-0.5871780526557453,0.6345911247702245,-0.48125080520848557,-1.537351065621091,0.6715502994413234,-0.7553536888819133,0.7274770340599817,0.38331131279465536,0.20240429935781595,-0.03698531065937211,0.7746536546150867,-0.12743883677501958,-0.6009991380090095,0.7150308408538082,0.8401271366581022,-1.8596498898007021,-1.3339806032828878,-0.22198748420879716,-1.8428750875481898,0.4064685378532878,-0.1475973932807723,-0.8804055552297537,-1.580823041015511],\"xaxis\":\"x6\",\"yaxis\":\"y6\",\"type\":\"histogram\"},{\"line\":{\"color\":\"rgba(128, 128, 128, 1.0)\",\"dash\":\"solid\",\"shape\":\"linear\",\"width\":1.3},\"marker\":{\"size\":2,\"symbol\":\"circle\"},\"mode\":\"markers\",\"name\":\"B\",\"text\":\"\",\"x\":[1.4924820594701595,0.7869320413273678,0.32273074575160593,0.6082508425877736,0.2514930413665632,-0.4034861638206237,-0.5768681716474443,0.6856012702187398,-1.7068889895044812,2.0385721334530302,-0.8191936955348694,-0.13602903900798372,0.9667930631260175,0.0006992865771992262,0.39111968811096387,-0.43540783703434993,-0.3221271598960024,1.514266460244137,-0.020695230765908058,1.035430942071528,0.6506811637253885,-1.145913181938134,-0.34697751515819814,0.5722502898175891,-0.7519895563251693,1.9776712105857348,0.3372495147021022,-0.4395212659175542,-1.2050237800542114,-0.06537901172259553,-0.5797928888875487,-1.431944247132665,3.0903555244262755,-0.6651819863410234,-1.8564840845463624,-0.2717618053538439,-0.10389500197897769,1.0364867265617488,-0.6559090419483852,0.29752590565428155,1.0219876099372784,-2.442035360843184,0.850123129127888,0.24684047283695598,-0.3678949207276394,-0.7883469321527289,1.6771022341276227,0.9389046366431055,-1.8881830834792284,0.5713559181159971,-1.3460438578180391,-0.3668246713811393,-0.3500860505947476,-0.3964023791091147,0.24512962516339712,-1.1552665030490763,0.09138475183594481,-0.22696740865481954,0.8208391263967445,-0.19519785712563537,-1.3695877423647327,-0.5385789870693948,0.6416446055778066,0.1382865607176138,1.000976342056877,-0.6824060028252374,0.48166835711151784,-1.7697737629288337,-0.6571145004145996,0.1894110624135475,0.9810977645999668,-1.0499061540091557,0.6730116130030037,2.112389062467758,0.04722673653972112,0.5370038684396691,-0.8236499029151352,-0.9230905362969907,0.2880332090928785,0.20315760791893966,0.2603532879125389,-1.2692769502035877,-0.8287321214176975,-0.07163646942393866,-0.4651101256940488,-0.8578945848200039,0.0891853556732661,-0.17394563516085862,-0.0507649119885555,-0.6267804040324925,-0.770225541117248,0.846148721475124,-0.2500008631262009,-1.6556309939729155,-0.8753658192097954,-0.2102264072150913,1.1306846851390011,1.1411074885543189,1.0323578639940127,0.22708670869310604],\"xaxis\":\"x7\",\"y\":[0.6288873106968625,1.5552086644040435,-0.2020635486518468,-0.37421286494601835,-1.8901354714158451,1.1642455262282074,-1.0335669426310594,-0.6453012578613595,-2.500063217723074,0.6208790462589199,-0.33919024377178775,-0.6323417396484956,-1.1042370872644787,0.687990530703836,-0.29482934295310004,-1.760993482777496,0.4013839131768914,-0.19128337287568414,0.38831658519353085,1.1022164676082287,-0.7658403159220927,0.39746202290875726,0.05253399825030649,-1.2986978680790244,0.5516764900142631,0.9594352288580066,-1.6176146758116843,0.566234817380164,0.03291261568889055,-0.10412367010856544,0.18813480982253722,0.33139764237225916,-0.4352051883947046,-0.1850665849362166,1.977129824661224,-0.716727900543721,-0.9962485346727465,2.1457330602622915,1.4786805379182806,-0.3073961040236371,0.5190635210197534,-0.2977117536092024,1.07655420499391,1.6402869584964106,-0.6736312859201243,-0.5421796901027264,0.2609352631947877,-0.2243329499018594,0.1421432931661823,1.093261930610181,0.30912184023215555,0.5274847296838001,-0.8482473955350368,-1.1740459296667167,0.12050195080175524,0.6917000321710234,-0.24954254013796354,-0.0555574867666861,-0.11674030611528681,-1.334786476612104,-0.7223974650682061,1.4343193468848872,-1.3171815064176886,-0.6898579117892474,-0.30456626778121365,-0.38585924100511965,-0.8134747561637852,2.010879165813113,1.8244088747007474,-0.3670493932221158,0.03065143496118238,-0.6766752794932412,-0.21596160514515156,-0.3343960409842762,-0.5872454814216169,-0.2983674285813973,0.2681694412271725,-0.5871780526557453,0.6345911247702245,-0.48125080520848557,-1.537351065621091,0.6715502994413234,-0.7553536888819133,0.7274770340599817,0.38331131279465536,0.20240429935781595,-0.03698531065937211,0.7746536546150867,-0.12743883677501958,-0.6009991380090095,0.7150308408538082,0.8401271366581022,-1.8596498898007021,-1.3339806032828878,-0.22198748420879716,-1.8428750875481898,0.4064685378532878,-0.1475973932807723,-0.8804055552297537,-1.580823041015511],\"yaxis\":\"y7\",\"type\":\"scatter\"},{\"line\":{\"color\":\"rgba(128, 128, 128, 1.0)\",\"dash\":\"solid\",\"shape\":\"linear\",\"width\":1.3},\"marker\":{\"size\":2,\"symbol\":\"circle\"},\"mode\":\"markers\",\"name\":\"B\",\"text\":\"\",\"x\":[0.8784097635079271,0.41373833465411486,-0.017982234333353768,-0.9849581469253769,-0.525922792414035,-1.5758495572561193,-2.6008494818189343,0.08321481462802557,-0.5621103549964049,-0.666115045990679,-0.22509352690535678,-1.0643184410464175,0.22251579823925932,0.5986063082126469,0.11459219679383639,0.7593125165744864,0.2103290172024642,-2.017164157575092,-0.06478200186368004,0.8445371088727064,0.45596778382233266,-0.820671089748138,-0.10983235640478299,-0.4939671612088846,-1.4432782231781656,1.2936663433198556,-0.7127750389182068,-1.2837432002030262,-0.4005004052185187,-0.3282063282740504,-0.6850873197215348,-0.028277280860713516,1.2303787242796584,0.8794190943231905,-0.2728446264895277,0.09732640946867503,-0.11355883865903231,0.2128139309813744,-0.38963892316985477,0.12767461473080274,-0.09920015714668835,0.26371995379552415,-0.4434420199859188,-0.5607970551495925,2.063900563398957,-1.4857712119266875,0.007075658199432495,1.2878039096650393,-0.20469356440844869,-1.0443218157028409,0.30572575901613863,0.9186397492736501,0.463455305324779,0.5485539996955462,-0.2680810662274818,-0.9398484005231073,-0.15197786833529853,-0.021104928437870044,-0.7163874781331797,-0.07781558751246322,-0.5088178501681737,-0.3759080073603766,0.57215110217102,-0.3459356400266322,0.5123513245767716,1.8156822307430185,-1.5987878127320017,0.9828016670135185,-0.3987342334756005,1.553709645102389,-0.7930389415923372,-0.7878647849157575,-2.47437913953804,-1.0697479981823497,0.04802162487314175,-0.8340213258052468,0.8393512676752578,-0.6399858404914921,0.401629816409806,-0.08581239209276978,1.0681103969845536,-0.08160047220364465,0.09482987517133963,0.3768970125500851,1.3322319124126047,-0.23802377313554726,0.5443599989176237,0.2640731149237633,0.2516458614493047,-0.30819230362295347,-0.4297721916496139,0.493865700710478,2.073198652660911,-0.6036327703946305,-0.84105157047565,-2.3104107765592623,-0.32611725470856845,2.3388040250701154,-0.33413233446227103,-0.10019130753522917],\"xaxis\":\"x8\",\"y\":[0.6288873106968625,1.5552086644040435,-0.2020635486518468,-0.37421286494601835,-1.8901354714158451,1.1642455262282074,-1.0335669426310594,-0.6453012578613595,-2.500063217723074,0.6208790462589199,-0.33919024377178775,-0.6323417396484956,-1.1042370872644787,0.687990530703836,-0.29482934295310004,-1.760993482777496,0.4013839131768914,-0.19128337287568414,0.38831658519353085,1.1022164676082287,-0.7658403159220927,0.39746202290875726,0.05253399825030649,-1.2986978680790244,0.5516764900142631,0.9594352288580066,-1.6176146758116843,0.566234817380164,0.03291261568889055,-0.10412367010856544,0.18813480982253722,0.33139764237225916,-0.4352051883947046,-0.1850665849362166,1.977129824661224,-0.716727900543721,-0.9962485346727465,2.1457330602622915,1.4786805379182806,-0.3073961040236371,0.5190635210197534,-0.2977117536092024,1.07655420499391,1.6402869584964106,-0.6736312859201243,-0.5421796901027264,0.2609352631947877,-0.2243329499018594,0.1421432931661823,1.093261930610181,0.30912184023215555,0.5274847296838001,-0.8482473955350368,-1.1740459296667167,0.12050195080175524,0.6917000321710234,-0.24954254013796354,-0.0555574867666861,-0.11674030611528681,-1.334786476612104,-0.7223974650682061,1.4343193468848872,-1.3171815064176886,-0.6898579117892474,-0.30456626778121365,-0.38585924100511965,-0.8134747561637852,2.010879165813113,1.8244088747007474,-0.3670493932221158,0.03065143496118238,-0.6766752794932412,-0.21596160514515156,-0.3343960409842762,-0.5872454814216169,-0.2983674285813973,0.2681694412271725,-0.5871780526557453,0.6345911247702245,-0.48125080520848557,-1.537351065621091,0.6715502994413234,-0.7553536888819133,0.7274770340599817,0.38331131279465536,0.20240429935781595,-0.03698531065937211,0.7746536546150867,-0.12743883677501958,-0.6009991380090095,0.7150308408538082,0.8401271366581022,-1.8596498898007021,-1.3339806032828878,-0.22198748420879716,-1.8428750875481898,0.4064685378532878,-0.1475973932807723,-0.8804055552297537,-1.580823041015511],\"yaxis\":\"y8\",\"type\":\"scatter\"},{\"line\":{\"color\":\"rgba(128, 128, 128, 1.0)\",\"dash\":\"solid\",\"shape\":\"linear\",\"width\":1.3},\"marker\":{\"size\":2,\"symbol\":\"circle\"},\"mode\":\"markers\",\"name\":\"C\",\"text\":\"\",\"x\":[0.2995340644905276,0.2205656269030712,-1.056174561092009,0.7591755781504027,0.5326518825067723,1.3044295669802999,1.3281748768339667,-0.09922890207163876,0.6072907830909519,1.1826119307800274,0.3200674123294725,-1.3012890682412424,0.39931988429912135,-0.34879285248827946,-0.7832437352797109,0.24797886378743955,-2.8773605354838225,-0.41107805336817005,0.5428332832960278,-0.34202223323909137,0.6703636476801402,0.47056109501637966,0.5846164712351315,-0.8661517063929928,0.44216954122070445,0.5363106882328338,-0.27977714813382293,0.4380768982907296,-1.4402841454482886,0.256393582261463,1.6549149482388437,-1.3228705669839567,-0.7548185531120883,0.44297261355922846,1.3580577186497258,-0.5112296882385694,1.5741392211439416,0.13109722398933546,-1.4680827312451141,-0.6059423946677869,0.144459267134369,0.3021717007693336,-0.22744784266075352,0.03450363264569284,0.05177307263761155,0.1399332902663523,1.0229527181140547,-2.6321782638398714,0.7745092754158753,-1.5926248522708426,-0.7031009714908845,0.6710809023395671,-0.1438163725324016,0.5082776496708439,0.0767121365819478,0.6457023848381208,-0.3580314419038346,-0.774839310285214,-0.43466021347224676,-1.6000577779988623,0.5086471535040138,0.37958854995049945,-1.0104442910961025,-0.1514509188462034,-0.12732690203447797,0.8209231907729551,-0.22640327123432807,1.4349981836183903,0.6890109446047313,1.0775411458507147,0.29266013334010743,0.3923131280672186,-0.7821903721721409,-1.2087665128305551,-0.04005064789093992,0.586175941448245,-0.39450460865418874,0.7192182080202476,1.8882833172200184,0.8341960000980053,0.049935991907428666,0.47937322066761195,0.07588343334653969,-0.2526301622266612,-0.5289099932191659,-0.10700710269370067,-0.4631513345001443,-0.3924250958303068,1.3819170930309186,-1.0229272234878124,-0.8612817624400896,-1.3485764993188754,1.9759061035618044,-0.9223448984827978,-1.0472531006509647,-0.09420726481422516,0.13682879551914487,-0.6242439989143544,-0.6080082561687519,-0.335483037163409],\"xaxis\":\"x9\",\"y\":[1.4924820594701595,0.7869320413273678,0.32273074575160593,0.6082508425877736,0.2514930413665632,-0.4034861638206237,-0.5768681716474443,0.6856012702187398,-1.7068889895044812,2.0385721334530302,-0.8191936955348694,-0.13602903900798372,0.9667930631260175,0.0006992865771992262,0.39111968811096387,-0.43540783703434993,-0.3221271598960024,1.514266460244137,-0.020695230765908058,1.035430942071528,0.6506811637253885,-1.145913181938134,-0.34697751515819814,0.5722502898175891,-0.7519895563251693,1.9776712105857348,0.3372495147021022,-0.4395212659175542,-1.2050237800542114,-0.06537901172259553,-0.5797928888875487,-1.431944247132665,3.0903555244262755,-0.6651819863410234,-1.8564840845463624,-0.2717618053538439,-0.10389500197897769,1.0364867265617488,-0.6559090419483852,0.29752590565428155,1.0219876099372784,-2.442035360843184,0.850123129127888,0.24684047283695598,-0.3678949207276394,-0.7883469321527289,1.6771022341276227,0.9389046366431055,-1.8881830834792284,0.5713559181159971,-1.3460438578180391,-0.3668246713811393,-0.3500860505947476,-0.3964023791091147,0.24512962516339712,-1.1552665030490763,0.09138475183594481,-0.22696740865481954,0.8208391263967445,-0.19519785712563537,-1.3695877423647327,-0.5385789870693948,0.6416446055778066,0.1382865607176138,1.000976342056877,-0.6824060028252374,0.48166835711151784,-1.7697737629288337,-0.6571145004145996,0.1894110624135475,0.9810977645999668,-1.0499061540091557,0.6730116130030037,2.112389062467758,0.04722673653972112,0.5370038684396691,-0.8236499029151352,-0.9230905362969907,0.2880332090928785,0.20315760791893966,0.2603532879125389,-1.2692769502035877,-0.8287321214176975,-0.07163646942393866,-0.4651101256940488,-0.8578945848200039,0.0891853556732661,-0.17394563516085862,-0.0507649119885555,-0.6267804040324925,-0.770225541117248,0.846148721475124,-0.2500008631262009,-1.6556309939729155,-0.8753658192097954,-0.2102264072150913,1.1306846851390011,1.1411074885543189,1.0323578639940127,0.22708670869310604],\"yaxis\":\"y9\",\"type\":\"scatter\"},{\"line\":{\"color\":\"rgba(128, 128, 128, 1.0)\",\"dash\":\"solid\",\"shape\":\"linear\",\"width\":1.3},\"marker\":{\"size\":2,\"symbol\":\"circle\"},\"mode\":\"markers\",\"name\":\"C\",\"text\":\"\",\"x\":[0.6288873106968625,1.5552086644040435,-0.2020635486518468,-0.37421286494601835,-1.8901354714158451,1.1642455262282074,-1.0335669426310594,-0.6453012578613595,-2.500063217723074,0.6208790462589199,-0.33919024377178775,-0.6323417396484956,-1.1042370872644787,0.687990530703836,-0.29482934295310004,-1.760993482777496,0.4013839131768914,-0.19128337287568414,0.38831658519353085,1.1022164676082287,-0.7658403159220927,0.39746202290875726,0.05253399825030649,-1.2986978680790244,0.5516764900142631,0.9594352288580066,-1.6176146758116843,0.566234817380164,0.03291261568889055,-0.10412367010856544,0.18813480982253722,0.33139764237225916,-0.4352051883947046,-0.1850665849362166,1.977129824661224,-0.716727900543721,-0.9962485346727465,2.1457330602622915,1.4786805379182806,-0.3073961040236371,0.5190635210197534,-0.2977117536092024,1.07655420499391,1.6402869584964106,-0.6736312859201243,-0.5421796901027264,0.2609352631947877,-0.2243329499018594,0.1421432931661823,1.093261930610181,0.30912184023215555,0.5274847296838001,-0.8482473955350368,-1.1740459296667167,0.12050195080175524,0.6917000321710234,-0.24954254013796354,-0.0555574867666861,-0.11674030611528681,-1.334786476612104,-0.7223974650682061,1.4343193468848872,-1.3171815064176886,-0.6898579117892474,-0.30456626778121365,-0.38585924100511965,-0.8134747561637852,2.010879165813113,1.8244088747007474,-0.3670493932221158,0.03065143496118238,-0.6766752794932412,-0.21596160514515156,-0.3343960409842762,-0.5872454814216169,-0.2983674285813973,0.2681694412271725,-0.5871780526557453,0.6345911247702245,-0.48125080520848557,-1.537351065621091,0.6715502994413234,-0.7553536888819133,0.7274770340599817,0.38331131279465536,0.20240429935781595,-0.03698531065937211,0.7746536546150867,-0.12743883677501958,-0.6009991380090095,0.7150308408538082,0.8401271366581022,-1.8596498898007021,-1.3339806032828878,-0.22198748420879716,-1.8428750875481898,0.4064685378532878,-0.1475973932807723,-0.8804055552297537,-1.580823041015511],\"xaxis\":\"x10\",\"y\":[1.4924820594701595,0.7869320413273678,0.32273074575160593,0.6082508425877736,0.2514930413665632,-0.4034861638206237,-0.5768681716474443,0.6856012702187398,-1.7068889895044812,2.0385721334530302,-0.8191936955348694,-0.13602903900798372,0.9667930631260175,0.0006992865771992262,0.39111968811096387,-0.43540783703434993,-0.3221271598960024,1.514266460244137,-0.020695230765908058,1.035430942071528,0.6506811637253885,-1.145913181938134,-0.34697751515819814,0.5722502898175891,-0.7519895563251693,1.9776712105857348,0.3372495147021022,-0.4395212659175542,-1.2050237800542114,-0.06537901172259553,-0.5797928888875487,-1.431944247132665,3.0903555244262755,-0.6651819863410234,-1.8564840845463624,-0.2717618053538439,-0.10389500197897769,1.0364867265617488,-0.6559090419483852,0.29752590565428155,1.0219876099372784,-2.442035360843184,0.850123129127888,0.24684047283695598,-0.3678949207276394,-0.7883469321527289,1.6771022341276227,0.9389046366431055,-1.8881830834792284,0.5713559181159971,-1.3460438578180391,-0.3668246713811393,-0.3500860505947476,-0.3964023791091147,0.24512962516339712,-1.1552665030490763,0.09138475183594481,-0.22696740865481954,0.8208391263967445,-0.19519785712563537,-1.3695877423647327,-0.5385789870693948,0.6416446055778066,0.1382865607176138,1.000976342056877,-0.6824060028252374,0.48166835711151784,-1.7697737629288337,-0.6571145004145996,0.1894110624135475,0.9810977645999668,-1.0499061540091557,0.6730116130030037,2.112389062467758,0.04722673653972112,0.5370038684396691,-0.8236499029151352,-0.9230905362969907,0.2880332090928785,0.20315760791893966,0.2603532879125389,-1.2692769502035877,-0.8287321214176975,-0.07163646942393866,-0.4651101256940488,-0.8578945848200039,0.0891853556732661,-0.17394563516085862,-0.0507649119885555,-0.6267804040324925,-0.770225541117248,0.846148721475124,-0.2500008631262009,-1.6556309939729155,-0.8753658192097954,-0.2102264072150913,1.1306846851390011,1.1411074885543189,1.0323578639940127,0.22708670869310604],\"yaxis\":\"y10\",\"type\":\"scatter\"},{\"histfunc\":\"count\",\"histnorm\":\"\",\"marker\":{\"color\":\"rgba(50, 171, 96, 1.0)\",\"line\":{\"color\":\"#4D5663\",\"width\":1.3}},\"name\":\"C\",\"nbinsx\":10,\"opacity\":0.8,\"orientation\":\"v\",\"x\":[1.4924820594701595,0.7869320413273678,0.32273074575160593,0.6082508425877736,0.2514930413665632,-0.4034861638206237,-0.5768681716474443,0.6856012702187398,-1.7068889895044812,2.0385721334530302,-0.8191936955348694,-0.13602903900798372,0.9667930631260175,0.0006992865771992262,0.39111968811096387,-0.43540783703434993,-0.3221271598960024,1.514266460244137,-0.020695230765908058,1.035430942071528,0.6506811637253885,-1.145913181938134,-0.34697751515819814,0.5722502898175891,-0.7519895563251693,1.9776712105857348,0.3372495147021022,-0.4395212659175542,-1.2050237800542114,-0.06537901172259553,-0.5797928888875487,-1.431944247132665,3.0903555244262755,-0.6651819863410234,-1.8564840845463624,-0.2717618053538439,-0.10389500197897769,1.0364867265617488,-0.6559090419483852,0.29752590565428155,1.0219876099372784,-2.442035360843184,0.850123129127888,0.24684047283695598,-0.3678949207276394,-0.7883469321527289,1.6771022341276227,0.9389046366431055,-1.8881830834792284,0.5713559181159971,-1.3460438578180391,-0.3668246713811393,-0.3500860505947476,-0.3964023791091147,0.24512962516339712,-1.1552665030490763,0.09138475183594481,-0.22696740865481954,0.8208391263967445,-0.19519785712563537,-1.3695877423647327,-0.5385789870693948,0.6416446055778066,0.1382865607176138,1.000976342056877,-0.6824060028252374,0.48166835711151784,-1.7697737629288337,-0.6571145004145996,0.1894110624135475,0.9810977645999668,-1.0499061540091557,0.6730116130030037,2.112389062467758,0.04722673653972112,0.5370038684396691,-0.8236499029151352,-0.9230905362969907,0.2880332090928785,0.20315760791893966,0.2603532879125389,-1.2692769502035877,-0.8287321214176975,-0.07163646942393866,-0.4651101256940488,-0.8578945848200039,0.0891853556732661,-0.17394563516085862,-0.0507649119885555,-0.6267804040324925,-0.770225541117248,0.846148721475124,-0.2500008631262009,-1.6556309939729155,-0.8753658192097954,-0.2102264072150913,1.1306846851390011,1.1411074885543189,1.0323578639940127,0.22708670869310604],\"xaxis\":\"x11\",\"yaxis\":\"y11\",\"type\":\"histogram\"},{\"line\":{\"color\":\"rgba(128, 128, 128, 1.0)\",\"dash\":\"solid\",\"shape\":\"linear\",\"width\":1.3},\"marker\":{\"size\":2,\"symbol\":\"circle\"},\"mode\":\"markers\",\"name\":\"C\",\"text\":\"\",\"x\":[0.8784097635079271,0.41373833465411486,-0.017982234333353768,-0.9849581469253769,-0.525922792414035,-1.5758495572561193,-2.6008494818189343,0.08321481462802557,-0.5621103549964049,-0.666115045990679,-0.22509352690535678,-1.0643184410464175,0.22251579823925932,0.5986063082126469,0.11459219679383639,0.7593125165744864,0.2103290172024642,-2.017164157575092,-0.06478200186368004,0.8445371088727064,0.45596778382233266,-0.820671089748138,-0.10983235640478299,-0.4939671612088846,-1.4432782231781656,1.2936663433198556,-0.7127750389182068,-1.2837432002030262,-0.4005004052185187,-0.3282063282740504,-0.6850873197215348,-0.028277280860713516,1.2303787242796584,0.8794190943231905,-0.2728446264895277,0.09732640946867503,-0.11355883865903231,0.2128139309813744,-0.38963892316985477,0.12767461473080274,-0.09920015714668835,0.26371995379552415,-0.4434420199859188,-0.5607970551495925,2.063900563398957,-1.4857712119266875,0.007075658199432495,1.2878039096650393,-0.20469356440844869,-1.0443218157028409,0.30572575901613863,0.9186397492736501,0.463455305324779,0.5485539996955462,-0.2680810662274818,-0.9398484005231073,-0.15197786833529853,-0.021104928437870044,-0.7163874781331797,-0.07781558751246322,-0.5088178501681737,-0.3759080073603766,0.57215110217102,-0.3459356400266322,0.5123513245767716,1.8156822307430185,-1.5987878127320017,0.9828016670135185,-0.3987342334756005,1.553709645102389,-0.7930389415923372,-0.7878647849157575,-2.47437913953804,-1.0697479981823497,0.04802162487314175,-0.8340213258052468,0.8393512676752578,-0.6399858404914921,0.401629816409806,-0.08581239209276978,1.0681103969845536,-0.08160047220364465,0.09482987517133963,0.3768970125500851,1.3322319124126047,-0.23802377313554726,0.5443599989176237,0.2640731149237633,0.2516458614493047,-0.30819230362295347,-0.4297721916496139,0.493865700710478,2.073198652660911,-0.6036327703946305,-0.84105157047565,-2.3104107765592623,-0.32611725470856845,2.3388040250701154,-0.33413233446227103,-0.10019130753522917],\"xaxis\":\"x12\",\"y\":[1.4924820594701595,0.7869320413273678,0.32273074575160593,0.6082508425877736,0.2514930413665632,-0.4034861638206237,-0.5768681716474443,0.6856012702187398,-1.7068889895044812,2.0385721334530302,-0.8191936955348694,-0.13602903900798372,0.9667930631260175,0.0006992865771992262,0.39111968811096387,-0.43540783703434993,-0.3221271598960024,1.514266460244137,-0.020695230765908058,1.035430942071528,0.6506811637253885,-1.145913181938134,-0.34697751515819814,0.5722502898175891,-0.7519895563251693,1.9776712105857348,0.3372495147021022,-0.4395212659175542,-1.2050237800542114,-0.06537901172259553,-0.5797928888875487,-1.431944247132665,3.0903555244262755,-0.6651819863410234,-1.8564840845463624,-0.2717618053538439,-0.10389500197897769,1.0364867265617488,-0.6559090419483852,0.29752590565428155,1.0219876099372784,-2.442035360843184,0.850123129127888,0.24684047283695598,-0.3678949207276394,-0.7883469321527289,1.6771022341276227,0.9389046366431055,-1.8881830834792284,0.5713559181159971,-1.3460438578180391,-0.3668246713811393,-0.3500860505947476,-0.3964023791091147,0.24512962516339712,-1.1552665030490763,0.09138475183594481,-0.22696740865481954,0.8208391263967445,-0.19519785712563537,-1.3695877423647327,-0.5385789870693948,0.6416446055778066,0.1382865607176138,1.000976342056877,-0.6824060028252374,0.48166835711151784,-1.7697737629288337,-0.6571145004145996,0.1894110624135475,0.9810977645999668,-1.0499061540091557,0.6730116130030037,2.112389062467758,0.04722673653972112,0.5370038684396691,-0.8236499029151352,-0.9230905362969907,0.2880332090928785,0.20315760791893966,0.2603532879125389,-1.2692769502035877,-0.8287321214176975,-0.07163646942393866,-0.4651101256940488,-0.8578945848200039,0.0891853556732661,-0.17394563516085862,-0.0507649119885555,-0.6267804040324925,-0.770225541117248,0.846148721475124,-0.2500008631262009,-1.6556309939729155,-0.8753658192097954,-0.2102264072150913,1.1306846851390011,1.1411074885543189,1.0323578639940127,0.22708670869310604],\"yaxis\":\"y12\",\"type\":\"scatter\"},{\"line\":{\"color\":\"rgba(128, 128, 128, 1.0)\",\"dash\":\"solid\",\"shape\":\"linear\",\"width\":1.3},\"marker\":{\"size\":2,\"symbol\":\"circle\"},\"mode\":\"markers\",\"name\":\"D\",\"text\":\"\",\"x\":[0.2995340644905276,0.2205656269030712,-1.056174561092009,0.7591755781504027,0.5326518825067723,1.3044295669802999,1.3281748768339667,-0.09922890207163876,0.6072907830909519,1.1826119307800274,0.3200674123294725,-1.3012890682412424,0.39931988429912135,-0.34879285248827946,-0.7832437352797109,0.24797886378743955,-2.8773605354838225,-0.41107805336817005,0.5428332832960278,-0.34202223323909137,0.6703636476801402,0.47056109501637966,0.5846164712351315,-0.8661517063929928,0.44216954122070445,0.5363106882328338,-0.27977714813382293,0.4380768982907296,-1.4402841454482886,0.256393582261463,1.6549149482388437,-1.3228705669839567,-0.7548185531120883,0.44297261355922846,1.3580577186497258,-0.5112296882385694,1.5741392211439416,0.13109722398933546,-1.4680827312451141,-0.6059423946677869,0.144459267134369,0.3021717007693336,-0.22744784266075352,0.03450363264569284,0.05177307263761155,0.1399332902663523,1.0229527181140547,-2.6321782638398714,0.7745092754158753,-1.5926248522708426,-0.7031009714908845,0.6710809023395671,-0.1438163725324016,0.5082776496708439,0.0767121365819478,0.6457023848381208,-0.3580314419038346,-0.774839310285214,-0.43466021347224676,-1.6000577779988623,0.5086471535040138,0.37958854995049945,-1.0104442910961025,-0.1514509188462034,-0.12732690203447797,0.8209231907729551,-0.22640327123432807,1.4349981836183903,0.6890109446047313,1.0775411458507147,0.29266013334010743,0.3923131280672186,-0.7821903721721409,-1.2087665128305551,-0.04005064789093992,0.586175941448245,-0.39450460865418874,0.7192182080202476,1.8882833172200184,0.8341960000980053,0.049935991907428666,0.47937322066761195,0.07588343334653969,-0.2526301622266612,-0.5289099932191659,-0.10700710269370067,-0.4631513345001443,-0.3924250958303068,1.3819170930309186,-1.0229272234878124,-0.8612817624400896,-1.3485764993188754,1.9759061035618044,-0.9223448984827978,-1.0472531006509647,-0.09420726481422516,0.13682879551914487,-0.6242439989143544,-0.6080082561687519,-0.335483037163409],\"xaxis\":\"x13\",\"y\":[0.8784097635079271,0.41373833465411486,-0.017982234333353768,-0.9849581469253769,-0.525922792414035,-1.5758495572561193,-2.6008494818189343,0.08321481462802557,-0.5621103549964049,-0.666115045990679,-0.22509352690535678,-1.0643184410464175,0.22251579823925932,0.5986063082126469,0.11459219679383639,0.7593125165744864,0.2103290172024642,-2.017164157575092,-0.06478200186368004,0.8445371088727064,0.45596778382233266,-0.820671089748138,-0.10983235640478299,-0.4939671612088846,-1.4432782231781656,1.2936663433198556,-0.7127750389182068,-1.2837432002030262,-0.4005004052185187,-0.3282063282740504,-0.6850873197215348,-0.028277280860713516,1.2303787242796584,0.8794190943231905,-0.2728446264895277,0.09732640946867503,-0.11355883865903231,0.2128139309813744,-0.38963892316985477,0.12767461473080274,-0.09920015714668835,0.26371995379552415,-0.4434420199859188,-0.5607970551495925,2.063900563398957,-1.4857712119266875,0.007075658199432495,1.2878039096650393,-0.20469356440844869,-1.0443218157028409,0.30572575901613863,0.9186397492736501,0.463455305324779,0.5485539996955462,-0.2680810662274818,-0.9398484005231073,-0.15197786833529853,-0.021104928437870044,-0.7163874781331797,-0.07781558751246322,-0.5088178501681737,-0.3759080073603766,0.57215110217102,-0.3459356400266322,0.5123513245767716,1.8156822307430185,-1.5987878127320017,0.9828016670135185,-0.3987342334756005,1.553709645102389,-0.7930389415923372,-0.7878647849157575,-2.47437913953804,-1.0697479981823497,0.04802162487314175,-0.8340213258052468,0.8393512676752578,-0.6399858404914921,0.401629816409806,-0.08581239209276978,1.0681103969845536,-0.08160047220364465,0.09482987517133963,0.3768970125500851,1.3322319124126047,-0.23802377313554726,0.5443599989176237,0.2640731149237633,0.2516458614493047,-0.30819230362295347,-0.4297721916496139,0.493865700710478,2.073198652660911,-0.6036327703946305,-0.84105157047565,-2.3104107765592623,-0.32611725470856845,2.3388040250701154,-0.33413233446227103,-0.10019130753522917],\"yaxis\":\"y13\",\"type\":\"scatter\"},{\"line\":{\"color\":\"rgba(128, 128, 128, 1.0)\",\"dash\":\"solid\",\"shape\":\"linear\",\"width\":1.3},\"marker\":{\"size\":2,\"symbol\":\"circle\"},\"mode\":\"markers\",\"name\":\"D\",\"text\":\"\",\"x\":[0.6288873106968625,1.5552086644040435,-0.2020635486518468,-0.37421286494601835,-1.8901354714158451,1.1642455262282074,-1.0335669426310594,-0.6453012578613595,-2.500063217723074,0.6208790462589199,-0.33919024377178775,-0.6323417396484956,-1.1042370872644787,0.687990530703836,-0.29482934295310004,-1.760993482777496,0.4013839131768914,-0.19128337287568414,0.38831658519353085,1.1022164676082287,-0.7658403159220927,0.39746202290875726,0.05253399825030649,-1.2986978680790244,0.5516764900142631,0.9594352288580066,-1.6176146758116843,0.566234817380164,0.03291261568889055,-0.10412367010856544,0.18813480982253722,0.33139764237225916,-0.4352051883947046,-0.1850665849362166,1.977129824661224,-0.716727900543721,-0.9962485346727465,2.1457330602622915,1.4786805379182806,-0.3073961040236371,0.5190635210197534,-0.2977117536092024,1.07655420499391,1.6402869584964106,-0.6736312859201243,-0.5421796901027264,0.2609352631947877,-0.2243329499018594,0.1421432931661823,1.093261930610181,0.30912184023215555,0.5274847296838001,-0.8482473955350368,-1.1740459296667167,0.12050195080175524,0.6917000321710234,-0.24954254013796354,-0.0555574867666861,-0.11674030611528681,-1.334786476612104,-0.7223974650682061,1.4343193468848872,-1.3171815064176886,-0.6898579117892474,-0.30456626778121365,-0.38585924100511965,-0.8134747561637852,2.010879165813113,1.8244088747007474,-0.3670493932221158,0.03065143496118238,-0.6766752794932412,-0.21596160514515156,-0.3343960409842762,-0.5872454814216169,-0.2983674285813973,0.2681694412271725,-0.5871780526557453,0.6345911247702245,-0.48125080520848557,-1.537351065621091,0.6715502994413234,-0.7553536888819133,0.7274770340599817,0.38331131279465536,0.20240429935781595,-0.03698531065937211,0.7746536546150867,-0.12743883677501958,-0.6009991380090095,0.7150308408538082,0.8401271366581022,-1.8596498898007021,-1.3339806032828878,-0.22198748420879716,-1.8428750875481898,0.4064685378532878,-0.1475973932807723,-0.8804055552297537,-1.580823041015511],\"xaxis\":\"x14\",\"y\":[0.8784097635079271,0.41373833465411486,-0.017982234333353768,-0.9849581469253769,-0.525922792414035,-1.5758495572561193,-2.6008494818189343,0.08321481462802557,-0.5621103549964049,-0.666115045990679,-0.22509352690535678,-1.0643184410464175,0.22251579823925932,0.5986063082126469,0.11459219679383639,0.7593125165744864,0.2103290172024642,-2.017164157575092,-0.06478200186368004,0.8445371088727064,0.45596778382233266,-0.820671089748138,-0.10983235640478299,-0.4939671612088846,-1.4432782231781656,1.2936663433198556,-0.7127750389182068,-1.2837432002030262,-0.4005004052185187,-0.3282063282740504,-0.6850873197215348,-0.028277280860713516,1.2303787242796584,0.8794190943231905,-0.2728446264895277,0.09732640946867503,-0.11355883865903231,0.2128139309813744,-0.38963892316985477,0.12767461473080274,-0.09920015714668835,0.26371995379552415,-0.4434420199859188,-0.5607970551495925,2.063900563398957,-1.4857712119266875,0.007075658199432495,1.2878039096650393,-0.20469356440844869,-1.0443218157028409,0.30572575901613863,0.9186397492736501,0.463455305324779,0.5485539996955462,-0.2680810662274818,-0.9398484005231073,-0.15197786833529853,-0.021104928437870044,-0.7163874781331797,-0.07781558751246322,-0.5088178501681737,-0.3759080073603766,0.57215110217102,-0.3459356400266322,0.5123513245767716,1.8156822307430185,-1.5987878127320017,0.9828016670135185,-0.3987342334756005,1.553709645102389,-0.7930389415923372,-0.7878647849157575,-2.47437913953804,-1.0697479981823497,0.04802162487314175,-0.8340213258052468,0.8393512676752578,-0.6399858404914921,0.401629816409806,-0.08581239209276978,1.0681103969845536,-0.08160047220364465,0.09482987517133963,0.3768970125500851,1.3322319124126047,-0.23802377313554726,0.5443599989176237,0.2640731149237633,0.2516458614493047,-0.30819230362295347,-0.4297721916496139,0.493865700710478,2.073198652660911,-0.6036327703946305,-0.84105157047565,-2.3104107765592623,-0.32611725470856845,2.3388040250701154,-0.33413233446227103,-0.10019130753522917],\"yaxis\":\"y14\",\"type\":\"scatter\"},{\"line\":{\"color\":\"rgba(128, 128, 128, 1.0)\",\"dash\":\"solid\",\"shape\":\"linear\",\"width\":1.3},\"marker\":{\"size\":2,\"symbol\":\"circle\"},\"mode\":\"markers\",\"name\":\"D\",\"text\":\"\",\"x\":[1.4924820594701595,0.7869320413273678,0.32273074575160593,0.6082508425877736,0.2514930413665632,-0.4034861638206237,-0.5768681716474443,0.6856012702187398,-1.7068889895044812,2.0385721334530302,-0.8191936955348694,-0.13602903900798372,0.9667930631260175,0.0006992865771992262,0.39111968811096387,-0.43540783703434993,-0.3221271598960024,1.514266460244137,-0.020695230765908058,1.035430942071528,0.6506811637253885,-1.145913181938134,-0.34697751515819814,0.5722502898175891,-0.7519895563251693,1.9776712105857348,0.3372495147021022,-0.4395212659175542,-1.2050237800542114,-0.06537901172259553,-0.5797928888875487,-1.431944247132665,3.0903555244262755,-0.6651819863410234,-1.8564840845463624,-0.2717618053538439,-0.10389500197897769,1.0364867265617488,-0.6559090419483852,0.29752590565428155,1.0219876099372784,-2.442035360843184,0.850123129127888,0.24684047283695598,-0.3678949207276394,-0.7883469321527289,1.6771022341276227,0.9389046366431055,-1.8881830834792284,0.5713559181159971,-1.3460438578180391,-0.3668246713811393,-0.3500860505947476,-0.3964023791091147,0.24512962516339712,-1.1552665030490763,0.09138475183594481,-0.22696740865481954,0.8208391263967445,-0.19519785712563537,-1.3695877423647327,-0.5385789870693948,0.6416446055778066,0.1382865607176138,1.000976342056877,-0.6824060028252374,0.48166835711151784,-1.7697737629288337,-0.6571145004145996,0.1894110624135475,0.9810977645999668,-1.0499061540091557,0.6730116130030037,2.112389062467758,0.04722673653972112,0.5370038684396691,-0.8236499029151352,-0.9230905362969907,0.2880332090928785,0.20315760791893966,0.2603532879125389,-1.2692769502035877,-0.8287321214176975,-0.07163646942393866,-0.4651101256940488,-0.8578945848200039,0.0891853556732661,-0.17394563516085862,-0.0507649119885555,-0.6267804040324925,-0.770225541117248,0.846148721475124,-0.2500008631262009,-1.6556309939729155,-0.8753658192097954,-0.2102264072150913,1.1306846851390011,1.1411074885543189,1.0323578639940127,0.22708670869310604],\"xaxis\":\"x15\",\"y\":[0.8784097635079271,0.41373833465411486,-0.017982234333353768,-0.9849581469253769,-0.525922792414035,-1.5758495572561193,-2.6008494818189343,0.08321481462802557,-0.5621103549964049,-0.666115045990679,-0.22509352690535678,-1.0643184410464175,0.22251579823925932,0.5986063082126469,0.11459219679383639,0.7593125165744864,0.2103290172024642,-2.017164157575092,-0.06478200186368004,0.8445371088727064,0.45596778382233266,-0.820671089748138,-0.10983235640478299,-0.4939671612088846,-1.4432782231781656,1.2936663433198556,-0.7127750389182068,-1.2837432002030262,-0.4005004052185187,-0.3282063282740504,-0.6850873197215348,-0.028277280860713516,1.2303787242796584,0.8794190943231905,-0.2728446264895277,0.09732640946867503,-0.11355883865903231,0.2128139309813744,-0.38963892316985477,0.12767461473080274,-0.09920015714668835,0.26371995379552415,-0.4434420199859188,-0.5607970551495925,2.063900563398957,-1.4857712119266875,0.007075658199432495,1.2878039096650393,-0.20469356440844869,-1.0443218157028409,0.30572575901613863,0.9186397492736501,0.463455305324779,0.5485539996955462,-0.2680810662274818,-0.9398484005231073,-0.15197786833529853,-0.021104928437870044,-0.7163874781331797,-0.07781558751246322,-0.5088178501681737,-0.3759080073603766,0.57215110217102,-0.3459356400266322,0.5123513245767716,1.8156822307430185,-1.5987878127320017,0.9828016670135185,-0.3987342334756005,1.553709645102389,-0.7930389415923372,-0.7878647849157575,-2.47437913953804,-1.0697479981823497,0.04802162487314175,-0.8340213258052468,0.8393512676752578,-0.6399858404914921,0.401629816409806,-0.08581239209276978,1.0681103969845536,-0.08160047220364465,0.09482987517133963,0.3768970125500851,1.3322319124126047,-0.23802377313554726,0.5443599989176237,0.2640731149237633,0.2516458614493047,-0.30819230362295347,-0.4297721916496139,0.493865700710478,2.073198652660911,-0.6036327703946305,-0.84105157047565,-2.3104107765592623,-0.32611725470856845,2.3388040250701154,-0.33413233446227103,-0.10019130753522917],\"yaxis\":\"y15\",\"type\":\"scatter\"},{\"histfunc\":\"count\",\"histnorm\":\"\",\"marker\":{\"color\":\"rgba(128, 0, 128, 1.0)\",\"line\":{\"color\":\"#4D5663\",\"width\":1.3}},\"name\":\"D\",\"nbinsx\":10,\"opacity\":0.8,\"orientation\":\"v\",\"x\":[0.8784097635079271,0.41373833465411486,-0.017982234333353768,-0.9849581469253769,-0.525922792414035,-1.5758495572561193,-2.6008494818189343,0.08321481462802557,-0.5621103549964049,-0.666115045990679,-0.22509352690535678,-1.0643184410464175,0.22251579823925932,0.5986063082126469,0.11459219679383639,0.7593125165744864,0.2103290172024642,-2.017164157575092,-0.06478200186368004,0.8445371088727064,0.45596778382233266,-0.820671089748138,-0.10983235640478299,-0.4939671612088846,-1.4432782231781656,1.2936663433198556,-0.7127750389182068,-1.2837432002030262,-0.4005004052185187,-0.3282063282740504,-0.6850873197215348,-0.028277280860713516,1.2303787242796584,0.8794190943231905,-0.2728446264895277,0.09732640946867503,-0.11355883865903231,0.2128139309813744,-0.38963892316985477,0.12767461473080274,-0.09920015714668835,0.26371995379552415,-0.4434420199859188,-0.5607970551495925,2.063900563398957,-1.4857712119266875,0.007075658199432495,1.2878039096650393,-0.20469356440844869,-1.0443218157028409,0.30572575901613863,0.9186397492736501,0.463455305324779,0.5485539996955462,-0.2680810662274818,-0.9398484005231073,-0.15197786833529853,-0.021104928437870044,-0.7163874781331797,-0.07781558751246322,-0.5088178501681737,-0.3759080073603766,0.57215110217102,-0.3459356400266322,0.5123513245767716,1.8156822307430185,-1.5987878127320017,0.9828016670135185,-0.3987342334756005,1.553709645102389,-0.7930389415923372,-0.7878647849157575,-2.47437913953804,-1.0697479981823497,0.04802162487314175,-0.8340213258052468,0.8393512676752578,-0.6399858404914921,0.401629816409806,-0.08581239209276978,1.0681103969845536,-0.08160047220364465,0.09482987517133963,0.3768970125500851,1.3322319124126047,-0.23802377313554726,0.5443599989176237,0.2640731149237633,0.2516458614493047,-0.30819230362295347,-0.4297721916496139,0.493865700710478,2.073198652660911,-0.6036327703946305,-0.84105157047565,-2.3104107765592623,-0.32611725470856845,2.3388040250701154,-0.33413233446227103,-0.10019130753522917],\"xaxis\":\"x16\",\"yaxis\":\"y16\",\"type\":\"histogram\"}],                        {\"bargap\":0.02,\"legend\":{\"bgcolor\":\"#F5F6F9\",\"font\":{\"color\":\"#4D5663\"}},\"paper_bgcolor\":\"#F5F6F9\",\"plot_bgcolor\":\"#F5F6F9\",\"showlegend\":false,\"template\":{\"data\":{\"barpolar\":[{\"marker\":{\"line\":{\"color\":\"#E5ECF6\",\"width\":0.5},\"pattern\":{\"fillmode\":\"overlay\",\"size\":10,\"solidity\":0.2}},\"type\":\"barpolar\"}],\"bar\":[{\"error_x\":{\"color\":\"#2a3f5f\"},\"error_y\":{\"color\":\"#2a3f5f\"},\"marker\":{\"line\":{\"color\":\"#E5ECF6\",\"width\":0.5},\"pattern\":{\"fillmode\":\"overlay\",\"size\":10,\"solidity\":0.2}},\"type\":\"bar\"}],\"carpet\":[{\"aaxis\":{\"endlinecolor\":\"#2a3f5f\",\"gridcolor\":\"white\",\"linecolor\":\"white\",\"minorgridcolor\":\"white\",\"startlinecolor\":\"#2a3f5f\"},\"baxis\":{\"endlinecolor\":\"#2a3f5f\",\"gridcolor\":\"white\",\"linecolor\":\"white\",\"minorgridcolor\":\"white\",\"startlinecolor\":\"#2a3f5f\"},\"type\":\"carpet\"}],\"choropleth\":[{\"colorbar\":{\"outlinewidth\":0,\"ticks\":\"\"},\"type\":\"choropleth\"}],\"contourcarpet\":[{\"colorbar\":{\"outlinewidth\":0,\"ticks\":\"\"},\"type\":\"contourcarpet\"}],\"contour\":[{\"colorbar\":{\"outlinewidth\":0,\"ticks\":\"\"},\"colorscale\":[[0.0,\"#0d0887\"],[0.1111111111111111,\"#46039f\"],[0.2222222222222222,\"#7201a8\"],[0.3333333333333333,\"#9c179e\"],[0.4444444444444444,\"#bd3786\"],[0.5555555555555556,\"#d8576b\"],[0.6666666666666666,\"#ed7953\"],[0.7777777777777778,\"#fb9f3a\"],[0.8888888888888888,\"#fdca26\"],[1.0,\"#f0f921\"]],\"type\":\"contour\"}],\"heatmapgl\":[{\"colorbar\":{\"outlinewidth\":0,\"ticks\":\"\"},\"colorscale\":[[0.0,\"#0d0887\"],[0.1111111111111111,\"#46039f\"],[0.2222222222222222,\"#7201a8\"],[0.3333333333333333,\"#9c179e\"],[0.4444444444444444,\"#bd3786\"],[0.5555555555555556,\"#d8576b\"],[0.6666666666666666,\"#ed7953\"],[0.7777777777777778,\"#fb9f3a\"],[0.8888888888888888,\"#fdca26\"],[1.0,\"#f0f921\"]],\"type\":\"heatmapgl\"}],\"heatmap\":[{\"colorbar\":{\"outlinewidth\":0,\"ticks\":\"\"},\"colorscale\":[[0.0,\"#0d0887\"],[0.1111111111111111,\"#46039f\"],[0.2222222222222222,\"#7201a8\"],[0.3333333333333333,\"#9c179e\"],[0.4444444444444444,\"#bd3786\"],[0.5555555555555556,\"#d8576b\"],[0.6666666666666666,\"#ed7953\"],[0.7777777777777778,\"#fb9f3a\"],[0.8888888888888888,\"#fdca26\"],[1.0,\"#f0f921\"]],\"type\":\"heatmap\"}],\"histogram2dcontour\":[{\"colorbar\":{\"outlinewidth\":0,\"ticks\":\"\"},\"colorscale\":[[0.0,\"#0d0887\"],[0.1111111111111111,\"#46039f\"],[0.2222222222222222,\"#7201a8\"],[0.3333333333333333,\"#9c179e\"],[0.4444444444444444,\"#bd3786\"],[0.5555555555555556,\"#d8576b\"],[0.6666666666666666,\"#ed7953\"],[0.7777777777777778,\"#fb9f3a\"],[0.8888888888888888,\"#fdca26\"],[1.0,\"#f0f921\"]],\"type\":\"histogram2dcontour\"}],\"histogram2d\":[{\"colorbar\":{\"outlinewidth\":0,\"ticks\":\"\"},\"colorscale\":[[0.0,\"#0d0887\"],[0.1111111111111111,\"#46039f\"],[0.2222222222222222,\"#7201a8\"],[0.3333333333333333,\"#9c179e\"],[0.4444444444444444,\"#bd3786\"],[0.5555555555555556,\"#d8576b\"],[0.6666666666666666,\"#ed7953\"],[0.7777777777777778,\"#fb9f3a\"],[0.8888888888888888,\"#fdca26\"],[1.0,\"#f0f921\"]],\"type\":\"histogram2d\"}],\"histogram\":[{\"marker\":{\"pattern\":{\"fillmode\":\"overlay\",\"size\":10,\"solidity\":0.2}},\"type\":\"histogram\"}],\"mesh3d\":[{\"colorbar\":{\"outlinewidth\":0,\"ticks\":\"\"},\"type\":\"mesh3d\"}],\"parcoords\":[{\"line\":{\"colorbar\":{\"outlinewidth\":0,\"ticks\":\"\"}},\"type\":\"parcoords\"}],\"pie\":[{\"automargin\":true,\"type\":\"pie\"}],\"scatter3d\":[{\"line\":{\"colorbar\":{\"outlinewidth\":0,\"ticks\":\"\"}},\"marker\":{\"colorbar\":{\"outlinewidth\":0,\"ticks\":\"\"}},\"type\":\"scatter3d\"}],\"scattercarpet\":[{\"marker\":{\"colorbar\":{\"outlinewidth\":0,\"ticks\":\"\"}},\"type\":\"scattercarpet\"}],\"scattergeo\":[{\"marker\":{\"colorbar\":{\"outlinewidth\":0,\"ticks\":\"\"}},\"type\":\"scattergeo\"}],\"scattergl\":[{\"marker\":{\"colorbar\":{\"outlinewidth\":0,\"ticks\":\"\"}},\"type\":\"scattergl\"}],\"scattermapbox\":[{\"marker\":{\"colorbar\":{\"outlinewidth\":0,\"ticks\":\"\"}},\"type\":\"scattermapbox\"}],\"scatterpolargl\":[{\"marker\":{\"colorbar\":{\"outlinewidth\":0,\"ticks\":\"\"}},\"type\":\"scatterpolargl\"}],\"scatterpolar\":[{\"marker\":{\"colorbar\":{\"outlinewidth\":0,\"ticks\":\"\"}},\"type\":\"scatterpolar\"}],\"scatter\":[{\"fillpattern\":{\"fillmode\":\"overlay\",\"size\":10,\"solidity\":0.2},\"type\":\"scatter\"}],\"scatterternary\":[{\"marker\":{\"colorbar\":{\"outlinewidth\":0,\"ticks\":\"\"}},\"type\":\"scatterternary\"}],\"surface\":[{\"colorbar\":{\"outlinewidth\":0,\"ticks\":\"\"},\"colorscale\":[[0.0,\"#0d0887\"],[0.1111111111111111,\"#46039f\"],[0.2222222222222222,\"#7201a8\"],[0.3333333333333333,\"#9c179e\"],[0.4444444444444444,\"#bd3786\"],[0.5555555555555556,\"#d8576b\"],[0.6666666666666666,\"#ed7953\"],[0.7777777777777778,\"#fb9f3a\"],[0.8888888888888888,\"#fdca26\"],[1.0,\"#f0f921\"]],\"type\":\"surface\"}],\"table\":[{\"cells\":{\"fill\":{\"color\":\"#EBF0F8\"},\"line\":{\"color\":\"white\"}},\"header\":{\"fill\":{\"color\":\"#C8D4E3\"},\"line\":{\"color\":\"white\"}},\"type\":\"table\"}]},\"layout\":{\"annotationdefaults\":{\"arrowcolor\":\"#2a3f5f\",\"arrowhead\":0,\"arrowwidth\":1},\"autotypenumbers\":\"strict\",\"coloraxis\":{\"colorbar\":{\"outlinewidth\":0,\"ticks\":\"\"}},\"colorscale\":{\"diverging\":[[0,\"#8e0152\"],[0.1,\"#c51b7d\"],[0.2,\"#de77ae\"],[0.3,\"#f1b6da\"],[0.4,\"#fde0ef\"],[0.5,\"#f7f7f7\"],[0.6,\"#e6f5d0\"],[0.7,\"#b8e186\"],[0.8,\"#7fbc41\"],[0.9,\"#4d9221\"],[1,\"#276419\"]],\"sequential\":[[0.0,\"#0d0887\"],[0.1111111111111111,\"#46039f\"],[0.2222222222222222,\"#7201a8\"],[0.3333333333333333,\"#9c179e\"],[0.4444444444444444,\"#bd3786\"],[0.5555555555555556,\"#d8576b\"],[0.6666666666666666,\"#ed7953\"],[0.7777777777777778,\"#fb9f3a\"],[0.8888888888888888,\"#fdca26\"],[1.0,\"#f0f921\"]],\"sequentialminus\":[[0.0,\"#0d0887\"],[0.1111111111111111,\"#46039f\"],[0.2222222222222222,\"#7201a8\"],[0.3333333333333333,\"#9c179e\"],[0.4444444444444444,\"#bd3786\"],[0.5555555555555556,\"#d8576b\"],[0.6666666666666666,\"#ed7953\"],[0.7777777777777778,\"#fb9f3a\"],[0.8888888888888888,\"#fdca26\"],[1.0,\"#f0f921\"]]},\"colorway\":[\"#636efa\",\"#EF553B\",\"#00cc96\",\"#ab63fa\",\"#FFA15A\",\"#19d3f3\",\"#FF6692\",\"#B6E880\",\"#FF97FF\",\"#FECB52\"],\"font\":{\"color\":\"#2a3f5f\"},\"geo\":{\"bgcolor\":\"white\",\"lakecolor\":\"white\",\"landcolor\":\"#E5ECF6\",\"showlakes\":true,\"showland\":true,\"subunitcolor\":\"white\"},\"hoverlabel\":{\"align\":\"left\"},\"hovermode\":\"closest\",\"mapbox\":{\"style\":\"light\"},\"paper_bgcolor\":\"white\",\"plot_bgcolor\":\"#E5ECF6\",\"polar\":{\"angularaxis\":{\"gridcolor\":\"white\",\"linecolor\":\"white\",\"ticks\":\"\"},\"bgcolor\":\"#E5ECF6\",\"radialaxis\":{\"gridcolor\":\"white\",\"linecolor\":\"white\",\"ticks\":\"\"}},\"scene\":{\"xaxis\":{\"backgroundcolor\":\"#E5ECF6\",\"gridcolor\":\"white\",\"gridwidth\":2,\"linecolor\":\"white\",\"showbackground\":true,\"ticks\":\"\",\"zerolinecolor\":\"white\"},\"yaxis\":{\"backgroundcolor\":\"#E5ECF6\",\"gridcolor\":\"white\",\"gridwidth\":2,\"linecolor\":\"white\",\"showbackground\":true,\"ticks\":\"\",\"zerolinecolor\":\"white\"},\"zaxis\":{\"backgroundcolor\":\"#E5ECF6\",\"gridcolor\":\"white\",\"gridwidth\":2,\"linecolor\":\"white\",\"showbackground\":true,\"ticks\":\"\",\"zerolinecolor\":\"white\"}},\"shapedefaults\":{\"line\":{\"color\":\"#2a3f5f\"}},\"ternary\":{\"aaxis\":{\"gridcolor\":\"white\",\"linecolor\":\"white\",\"ticks\":\"\"},\"baxis\":{\"gridcolor\":\"white\",\"linecolor\":\"white\",\"ticks\":\"\"},\"bgcolor\":\"#E5ECF6\",\"caxis\":{\"gridcolor\":\"white\",\"linecolor\":\"white\",\"ticks\":\"\"}},\"title\":{\"x\":0.05},\"xaxis\":{\"automargin\":true,\"gridcolor\":\"white\",\"linecolor\":\"white\",\"ticks\":\"\",\"title\":{\"standoff\":15},\"zerolinecolor\":\"white\",\"zerolinewidth\":2},\"yaxis\":{\"automargin\":true,\"gridcolor\":\"white\",\"linecolor\":\"white\",\"ticks\":\"\",\"title\":{\"standoff\":15},\"zerolinecolor\":\"white\",\"zerolinewidth\":2}}},\"title\":{\"font\":{\"color\":\"#4D5663\"}},\"xaxis\":{\"anchor\":\"y\",\"domain\":[0.0,0.2125],\"gridcolor\":\"#E1E5ED\",\"showgrid\":false,\"tickfont\":{\"color\":\"#4D5663\"},\"title\":{\"font\":{\"color\":\"#4D5663\"},\"text\":\"\"},\"zerolinecolor\":\"#E1E5ED\"},\"yaxis\":{\"anchor\":\"x\",\"domain\":[0.8025,1.0],\"gridcolor\":\"#E1E5ED\",\"showgrid\":false,\"tickfont\":{\"color\":\"#4D5663\"},\"title\":{\"font\":{\"color\":\"#4D5663\"},\"text\":\"\"},\"zerolinecolor\":\"#E1E5ED\"},\"xaxis2\":{\"anchor\":\"y2\",\"domain\":[0.2625,0.475],\"gridcolor\":\"#E1E5ED\",\"showgrid\":false,\"tickfont\":{\"color\":\"#4D5663\"},\"title\":{\"font\":{\"color\":\"#4D5663\"},\"text\":\"\"},\"zerolinecolor\":\"#E1E5ED\"},\"yaxis2\":{\"anchor\":\"x2\",\"domain\":[0.8025,1.0],\"gridcolor\":\"#E1E5ED\",\"showgrid\":false,\"tickfont\":{\"color\":\"#4D5663\"},\"title\":{\"font\":{\"color\":\"#4D5663\"},\"text\":\"\"},\"zerolinecolor\":\"#E1E5ED\"},\"xaxis3\":{\"anchor\":\"y3\",\"domain\":[0.525,0.7375],\"gridcolor\":\"#E1E5ED\",\"showgrid\":false,\"tickfont\":{\"color\":\"#4D5663\"},\"title\":{\"font\":{\"color\":\"#4D5663\"},\"text\":\"\"},\"zerolinecolor\":\"#E1E5ED\"},\"yaxis3\":{\"anchor\":\"x3\",\"domain\":[0.8025,1.0],\"gridcolor\":\"#E1E5ED\",\"showgrid\":false,\"tickfont\":{\"color\":\"#4D5663\"},\"title\":{\"font\":{\"color\":\"#4D5663\"},\"text\":\"\"},\"zerolinecolor\":\"#E1E5ED\"},\"xaxis4\":{\"anchor\":\"y4\",\"domain\":[0.7875,1.0],\"gridcolor\":\"#E1E5ED\",\"showgrid\":false,\"tickfont\":{\"color\":\"#4D5663\"},\"title\":{\"font\":{\"color\":\"#4D5663\"},\"text\":\"\"},\"zerolinecolor\":\"#E1E5ED\"},\"yaxis4\":{\"anchor\":\"x4\",\"domain\":[0.8025,1.0],\"gridcolor\":\"#E1E5ED\",\"showgrid\":false,\"tickfont\":{\"color\":\"#4D5663\"},\"title\":{\"font\":{\"color\":\"#4D5663\"},\"text\":\"\"},\"zerolinecolor\":\"#E1E5ED\"},\"xaxis5\":{\"anchor\":\"y5\",\"domain\":[0.0,0.2125],\"gridcolor\":\"#E1E5ED\",\"showgrid\":false,\"tickfont\":{\"color\":\"#4D5663\"},\"title\":{\"font\":{\"color\":\"#4D5663\"},\"text\":\"\"},\"zerolinecolor\":\"#E1E5ED\"},\"yaxis5\":{\"anchor\":\"x5\",\"domain\":[0.535,0.7325],\"gridcolor\":\"#E1E5ED\",\"showgrid\":false,\"tickfont\":{\"color\":\"#4D5663\"},\"title\":{\"font\":{\"color\":\"#4D5663\"},\"text\":\"\"},\"zerolinecolor\":\"#E1E5ED\"},\"xaxis6\":{\"anchor\":\"y6\",\"domain\":[0.2625,0.475],\"gridcolor\":\"#E1E5ED\",\"showgrid\":false,\"tickfont\":{\"color\":\"#4D5663\"},\"title\":{\"font\":{\"color\":\"#4D5663\"},\"text\":\"\"},\"zerolinecolor\":\"#E1E5ED\"},\"yaxis6\":{\"anchor\":\"x6\",\"domain\":[0.535,0.7325],\"gridcolor\":\"#E1E5ED\",\"showgrid\":false,\"tickfont\":{\"color\":\"#4D5663\"},\"title\":{\"font\":{\"color\":\"#4D5663\"},\"text\":\"\"},\"zerolinecolor\":\"#E1E5ED\"},\"xaxis7\":{\"anchor\":\"y7\",\"domain\":[0.525,0.7375],\"gridcolor\":\"#E1E5ED\",\"showgrid\":false,\"tickfont\":{\"color\":\"#4D5663\"},\"title\":{\"font\":{\"color\":\"#4D5663\"},\"text\":\"\"},\"zerolinecolor\":\"#E1E5ED\"},\"yaxis7\":{\"anchor\":\"x7\",\"domain\":[0.535,0.7325],\"gridcolor\":\"#E1E5ED\",\"showgrid\":false,\"tickfont\":{\"color\":\"#4D5663\"},\"title\":{\"font\":{\"color\":\"#4D5663\"},\"text\":\"\"},\"zerolinecolor\":\"#E1E5ED\"},\"xaxis8\":{\"anchor\":\"y8\",\"domain\":[0.7875,1.0],\"gridcolor\":\"#E1E5ED\",\"showgrid\":false,\"tickfont\":{\"color\":\"#4D5663\"},\"title\":{\"font\":{\"color\":\"#4D5663\"},\"text\":\"\"},\"zerolinecolor\":\"#E1E5ED\"},\"yaxis8\":{\"anchor\":\"x8\",\"domain\":[0.535,0.7325],\"gridcolor\":\"#E1E5ED\",\"showgrid\":false,\"tickfont\":{\"color\":\"#4D5663\"},\"title\":{\"font\":{\"color\":\"#4D5663\"},\"text\":\"\"},\"zerolinecolor\":\"#E1E5ED\"},\"xaxis9\":{\"anchor\":\"y9\",\"domain\":[0.0,0.2125],\"gridcolor\":\"#E1E5ED\",\"showgrid\":false,\"tickfont\":{\"color\":\"#4D5663\"},\"title\":{\"font\":{\"color\":\"#4D5663\"},\"text\":\"\"},\"zerolinecolor\":\"#E1E5ED\"},\"yaxis9\":{\"anchor\":\"x9\",\"domain\":[0.2675,0.465],\"gridcolor\":\"#E1E5ED\",\"showgrid\":false,\"tickfont\":{\"color\":\"#4D5663\"},\"title\":{\"font\":{\"color\":\"#4D5663\"},\"text\":\"\"},\"zerolinecolor\":\"#E1E5ED\"},\"xaxis10\":{\"anchor\":\"y10\",\"domain\":[0.2625,0.475],\"gridcolor\":\"#E1E5ED\",\"showgrid\":false,\"tickfont\":{\"color\":\"#4D5663\"},\"title\":{\"font\":{\"color\":\"#4D5663\"},\"text\":\"\"},\"zerolinecolor\":\"#E1E5ED\"},\"yaxis10\":{\"anchor\":\"x10\",\"domain\":[0.2675,0.465],\"gridcolor\":\"#E1E5ED\",\"showgrid\":false,\"tickfont\":{\"color\":\"#4D5663\"},\"title\":{\"font\":{\"color\":\"#4D5663\"},\"text\":\"\"},\"zerolinecolor\":\"#E1E5ED\"},\"xaxis11\":{\"anchor\":\"y11\",\"domain\":[0.525,0.7375],\"gridcolor\":\"#E1E5ED\",\"showgrid\":false,\"tickfont\":{\"color\":\"#4D5663\"},\"title\":{\"font\":{\"color\":\"#4D5663\"},\"text\":\"\"},\"zerolinecolor\":\"#E1E5ED\"},\"yaxis11\":{\"anchor\":\"x11\",\"domain\":[0.2675,0.465],\"gridcolor\":\"#E1E5ED\",\"showgrid\":false,\"tickfont\":{\"color\":\"#4D5663\"},\"title\":{\"font\":{\"color\":\"#4D5663\"},\"text\":\"\"},\"zerolinecolor\":\"#E1E5ED\"},\"xaxis12\":{\"anchor\":\"y12\",\"domain\":[0.7875,1.0],\"gridcolor\":\"#E1E5ED\",\"showgrid\":false,\"tickfont\":{\"color\":\"#4D5663\"},\"title\":{\"font\":{\"color\":\"#4D5663\"},\"text\":\"\"},\"zerolinecolor\":\"#E1E5ED\"},\"yaxis12\":{\"anchor\":\"x12\",\"domain\":[0.2675,0.465],\"gridcolor\":\"#E1E5ED\",\"showgrid\":false,\"tickfont\":{\"color\":\"#4D5663\"},\"title\":{\"font\":{\"color\":\"#4D5663\"},\"text\":\"\"},\"zerolinecolor\":\"#E1E5ED\"},\"xaxis13\":{\"anchor\":\"y13\",\"domain\":[0.0,0.2125],\"gridcolor\":\"#E1E5ED\",\"showgrid\":false,\"tickfont\":{\"color\":\"#4D5663\"},\"title\":{\"font\":{\"color\":\"#4D5663\"},\"text\":\"\"},\"zerolinecolor\":\"#E1E5ED\"},\"yaxis13\":{\"anchor\":\"x13\",\"domain\":[0.0,0.1975],\"gridcolor\":\"#E1E5ED\",\"showgrid\":false,\"tickfont\":{\"color\":\"#4D5663\"},\"title\":{\"font\":{\"color\":\"#4D5663\"},\"text\":\"\"},\"zerolinecolor\":\"#E1E5ED\"},\"xaxis14\":{\"anchor\":\"y14\",\"domain\":[0.2625,0.475],\"gridcolor\":\"#E1E5ED\",\"showgrid\":false,\"tickfont\":{\"color\":\"#4D5663\"},\"title\":{\"font\":{\"color\":\"#4D5663\"},\"text\":\"\"},\"zerolinecolor\":\"#E1E5ED\"},\"yaxis14\":{\"anchor\":\"x14\",\"domain\":[0.0,0.1975],\"gridcolor\":\"#E1E5ED\",\"showgrid\":false,\"tickfont\":{\"color\":\"#4D5663\"},\"title\":{\"font\":{\"color\":\"#4D5663\"},\"text\":\"\"},\"zerolinecolor\":\"#E1E5ED\"},\"xaxis15\":{\"anchor\":\"y15\",\"domain\":[0.525,0.7375],\"gridcolor\":\"#E1E5ED\",\"showgrid\":false,\"tickfont\":{\"color\":\"#4D5663\"},\"title\":{\"font\":{\"color\":\"#4D5663\"},\"text\":\"\"},\"zerolinecolor\":\"#E1E5ED\"},\"yaxis15\":{\"anchor\":\"x15\",\"domain\":[0.0,0.1975],\"gridcolor\":\"#E1E5ED\",\"showgrid\":false,\"tickfont\":{\"color\":\"#4D5663\"},\"title\":{\"font\":{\"color\":\"#4D5663\"},\"text\":\"\"},\"zerolinecolor\":\"#E1E5ED\"},\"xaxis16\":{\"anchor\":\"y16\",\"domain\":[0.7875,1.0],\"gridcolor\":\"#E1E5ED\",\"showgrid\":false,\"tickfont\":{\"color\":\"#4D5663\"},\"title\":{\"font\":{\"color\":\"#4D5663\"},\"text\":\"\"},\"zerolinecolor\":\"#E1E5ED\"},\"yaxis16\":{\"anchor\":\"x16\",\"domain\":[0.0,0.1975],\"gridcolor\":\"#E1E5ED\",\"showgrid\":false,\"tickfont\":{\"color\":\"#4D5663\"},\"title\":{\"font\":{\"color\":\"#4D5663\"},\"text\":\"\"},\"zerolinecolor\":\"#E1E5ED\"}},                        {\"showLink\": true, \"linkText\": \"Export to plot.ly\", \"plotlyServerURL\": \"https://plot.ly\", \"responsive\": true}                    ).then(function(){\n",
       "                            \n",
       "var gd = document.getElementById('d439a2ad-dff7-4a47-98bf-592e71180db2');\n",
       "var x = new MutationObserver(function (mutations, observer) {{\n",
       "        var display = window.getComputedStyle(gd).display;\n",
       "        if (!display || display === 'none') {{\n",
       "            console.log([gd, 'removed!']);\n",
       "            Plotly.purge(gd);\n",
       "            observer.disconnect();\n",
       "        }}\n",
       "}});\n",
       "\n",
       "// Listen for the removal of the full notebook cells\n",
       "var notebookContainer = gd.closest('#notebook-container');\n",
       "if (notebookContainer) {{\n",
       "    x.observe(notebookContainer, {childList: true});\n",
       "}}\n",
       "\n",
       "// Listen for the clearing of the current output cell\n",
       "var outputEl = gd.closest('.output');\n",
       "if (outputEl) {{\n",
       "    x.observe(outputEl, {childList: true});\n",
       "}}\n",
       "\n",
       "                        })                };                });            </script>        </div>"
      ]
     },
     "metadata": {},
     "output_type": "display_data"
    }
   ],
   "source": [
    "df.scatter_matrix()"
   ]
  },
  {
   "cell_type": "code",
   "execution_count": 48,
   "id": "0b5e8c2f",
   "metadata": {},
   "outputs": [],
   "source": [
    "# makes all possible combos"
   ]
  },
  {
   "cell_type": "code",
   "execution_count": null,
   "id": "38d2244a",
   "metadata": {},
   "outputs": [],
   "source": []
  }
 ],
 "metadata": {
  "kernelspec": {
   "display_name": "Python 3 (ipykernel)",
   "language": "python",
   "name": "python3"
  },
  "language_info": {
   "codemirror_mode": {
    "name": "ipython",
    "version": 3
   },
   "file_extension": ".py",
   "mimetype": "text/x-python",
   "name": "python",
   "nbconvert_exporter": "python",
   "pygments_lexer": "ipython3",
   "version": "3.9.13"
  }
 },
 "nbformat": 4,
 "nbformat_minor": 5
}
